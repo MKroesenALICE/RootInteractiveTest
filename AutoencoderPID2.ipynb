{
 "cells": [
  {
   "cell_type": "code",
   "execution_count": 1,
   "metadata": {},
   "outputs": [
    {
     "name": "stdout",
     "output_type": "stream",
     "text": [
      "Welcome to JupyROOT 6.10/08\n"
     ]
    }
   ],
   "source": [
    "import ROOT\n",
    "import numpy as np\n",
    "import matplotlib.pyplot as plt\n",
    "import math\n",
    "import pandas as pd\n",
    "from sklearn.model_selection import train_test_split\n",
    "from sklearn.preprocessing import StandardScaler\n",
    "from tensorflow.keras.models import Sequential, Model\n",
    "from tensorflow.keras.layers import Dense, Input\n",
    "import tensorflow.keras.backend as K\n",
    "import tensorflow as tf\n",
    "from functools import partial"
   ]
  },
  {
   "cell_type": "code",
   "execution_count": 2,
   "metadata": {},
   "outputs": [],
   "source": [
    "n_particles = 10000/2\n",
    "p = np.random.uniform(0.3,10.,n_particles)\n",
    "mp = np.random.uniform(1/10.,1/0.3,n_particles)\n",
    "p_mp = 1./mp "
   ]
  },
  {
   "cell_type": "code",
   "execution_count": 3,
   "metadata": {},
   "outputs": [
    {
     "data": {
      "image/png": "[encoded data removed]",
      "text/plain": [
       "<Figure size 432x288 with 1 Axes>"
      ]
     },
     "metadata": {
      "needs_background": "light"
     },
     "output_type": "display_data"
    },
    {
     "data": {
      "image/png": "[encoded data removed]",
      "text/plain": [
       "<Figure size 432x288 with 1 Axes>"
      ]
     },
     "metadata": {
      "needs_background": "light"
     },
     "output_type": "display_data"
    }
   ],
   "source": [
    "plt.hist(p_mp,50,range=(0.,10.))\n",
    "plt.show()\n",
    "p_ges = np.concatenate([p,p_mp])\n",
    "plt.hist(p_ges,50,range=(0,10))\n",
    "plt.show()"
   ]
  },
  {
   "cell_type": "code",
   "execution_count": 4,
   "metadata": {},
   "outputs": [
    {
     "data": {
      "text/plain": [
       "[0.139, 0.105, 0.000511, 0.938, 0.494]"
      ]
     },
     "execution_count": 4,
     "metadata": {},
     "output_type": "execute_result"
    }
   ],
   "source": [
    "mass_pi = 0.139\n",
    "mass_mu = 0.105\n",
    "mass_e = 0.000511\n",
    "mass_p = 0.938\n",
    "mass_K = 0.494\n",
    "masses = [mass_pi, mass_mu, mass_e, mass_p, mass_K]\n",
    "masses"
   ]
  },
  {
   "cell_type": "code",
   "execution_count": 5,
   "metadata": {},
   "outputs": [],
   "source": [
    "signals = []\n",
    "for mass in masses:\n",
    "    ITS_tmp = []\n",
    "    TPCROC0_tmp = []\n",
    "    TPCROC1_tmp = []\n",
    "    TPCROC2_tmp = []\n",
    "    TRD_tmp = []\n",
    "    TOF_tmp = []\n",
    "    pmeas_tmp = []\n",
    "    for p in p_ges:\n",
    "        bg = p/mass\n",
    "        beta = bg/math.sqrt(1.+ bg*bg);\n",
    "        BBS = ROOT.AliExternalTrackParam.BetheBlochSolid(bg)\n",
    "        BBA = ROOT.AliExternalTrackParam.BetheBlochAleph(bg)\n",
    "        ITS_tmp.append(np.random.normal(BBS,0.1*BBS) ) ## ITS dEdx = smeared gaus 10% \n",
    "        TPCROC0_tmp.append(np.random.normal(BBA,0.1*BBA) )## TPC dEdx = smeared gaus 10% for 1st layer\n",
    "        TPCROC1_tmp.append(np.random.normal(BBA,0.1*BBA) )  ## TPC dEdx = smeared gaus 10% for 2nd layer\n",
    "        TPCROC2_tmp.append(np.random.normal(BBA,0.1*BBA) )  ## TPC dEdx = smeared gaus 10% for 3d layer\n",
    "        TRD_tmp.append(np.random.normal(BBA,0.1*BBA) )  ## TRD dEdx = smeared gaus 10% \n",
    "        TOF_tmp.append(np.random.normal(beta,0.1*beta) )  ## TOF - smeared with .... gaussian\n",
    "        pmeas_tmp.append(np.random.normal(p,0.01*p))\n",
    "    signals.append({'ITS': ITS_tmp, 'TPCROC0': TPCROC0_tmp, 'TPCROC1': TPCROC1_tmp, 'TPCROC1': TPCROC1_tmp, \n",
    "                    'TPCROC2': TPCROC2_tmp, 'TRD': TRD_tmp, 'TOF': TOF_tmp, 'pmeas': pmeas_tmp})"
   ]
  },
  {
   "cell_type": "code",
   "execution_count": 6,
   "metadata": {},
   "outputs": [
    {
     "data": {
      "text/plain": [
       "[]"
      ]
     },
     "execution_count": 6,
     "metadata": {},
     "output_type": "execute_result"
    },
    {
     "data": {
      "image/png": "[encoded data removed]",
      "text/plain": [
       "<Figure size 432x288 with 1 Axes>"
      ]
     },
     "metadata": {
      "needs_background": "light"
     },
     "output_type": "display_data"
    }
   ],
   "source": [
    "df_list=[]\n",
    "for i, val in enumerate(masses):\n",
    "    df = pd.DataFrame.from_dict(signals[i])\n",
    "    df['p'] = pd.Series(p_ges, index=df.index)\n",
    "    df['particle'] = pd.Series(i, index=df.index)\n",
    "    df_list.append(df)\n",
    "df_all = pd.concat([df_list[0],df_list[2],df_list[3],df_list[4]], ignore_index=True)\n",
    "plt.hist2d(df_all[\"p\"], df_all[\"TPCROC1\"], bins=(100, 100), cmap=plt.cm.jet, range = [[0.2, 2], [0.5, 3]])\n",
    "plt.plot()"
   ]
  },
  {
   "cell_type": "code",
   "execution_count": 7,
   "metadata": {},
   "outputs": [
    {
     "data": {
      "text/html": [
       "<div>\n",
       "<style scoped>\n",
       "    .dataframe tbody tr th:only-of-type {\n",
       "        vertical-align: middle;\n",
       "    }\n",
       "\n",
       "    .dataframe tbody tr th {\n",
       "        vertical-align: top;\n",
       "    }\n",
       "\n",
       "    .dataframe thead th {\n",
       "        text-align: right;\n",
       "    }\n",
       "</style>\n",
       "<table border=\"1\" class=\"dataframe\">\n",
       "  <thead>\n",
       "    <tr style=\"text-align: right;\">\n",
       "      <th></th>\n",
       "      <th>ITS</th>\n",
       "      <th>TOF</th>\n",
       "      <th>TPCROC0</th>\n",
       "      <th>TPCROC1</th>\n",
       "      <th>TPCROC2</th>\n",
       "      <th>TRD</th>\n",
       "      <th>p</th>\n",
       "      <th>particle</th>\n",
       "      <th>flips</th>\n",
       "    </tr>\n",
       "  </thead>\n",
       "  <tbody>\n",
       "    <tr>\n",
       "      <th>0</th>\n",
       "      <td>0.001974</td>\n",
       "      <td>1.052206</td>\n",
       "      <td>1.287225</td>\n",
       "      <td>1.227018</td>\n",
       "      <td>1.511047</td>\n",
       "      <td>1.352712</td>\n",
       "      <td>6.897096</td>\n",
       "      <td>0</td>\n",
       "      <td>61</td>\n",
       "    </tr>\n",
       "    <tr>\n",
       "      <th>1</th>\n",
       "      <td>0.001718</td>\n",
       "      <td>0.833085</td>\n",
       "      <td>0.805002</td>\n",
       "      <td>1.116930</td>\n",
       "      <td>0.872665</td>\n",
       "      <td>0.903301</td>\n",
       "      <td>0.994593</td>\n",
       "      <td>0</td>\n",
       "      <td>63</td>\n",
       "    </tr>\n",
       "    <tr>\n",
       "      <th>2</th>\n",
       "      <td>0.001793</td>\n",
       "      <td>0.945460</td>\n",
       "      <td>0.997494</td>\n",
       "      <td>1.009566</td>\n",
       "      <td>1.037719</td>\n",
       "      <td>1.147801</td>\n",
       "      <td>1.728243</td>\n",
       "      <td>0</td>\n",
       "      <td>62</td>\n",
       "    </tr>\n",
       "    <tr>\n",
       "      <th>3</th>\n",
       "      <td>0.002160</td>\n",
       "      <td>0.998264</td>\n",
       "      <td>1.462010</td>\n",
       "      <td>1.495788</td>\n",
       "      <td>1.085710</td>\n",
       "      <td>0.951321</td>\n",
       "      <td>6.853458</td>\n",
       "      <td>0</td>\n",
       "      <td>63</td>\n",
       "    </tr>\n",
       "    <tr>\n",
       "      <th>4</th>\n",
       "      <td>0.001923</td>\n",
       "      <td>0.921329</td>\n",
       "      <td>1.246285</td>\n",
       "      <td>1.329618</td>\n",
       "      <td>1.318100</td>\n",
       "      <td>1.427665</td>\n",
       "      <td>6.377780</td>\n",
       "      <td>0</td>\n",
       "      <td>63</td>\n",
       "    </tr>\n",
       "  </tbody>\n",
       "</table>\n",
       "</div>"
      ],
      "text/plain": [
       "        ITS       TOF   TPCROC0   TPCROC1   TPCROC2       TRD         p  \\\n",
       "0  0.001974  1.052206  1.287225  1.227018  1.511047  1.352712  6.897096   \n",
       "1  0.001718  0.833085  0.805002  1.116930  0.872665  0.903301  0.994593   \n",
       "2  0.001793  0.945460  0.997494  1.009566  1.037719  1.147801  1.728243   \n",
       "3  0.002160  0.998264  1.462010  1.495788  1.085710  0.951321  6.853458   \n",
       "4  0.001923  0.921329  1.246285  1.329618  1.318100  1.427665  6.377780   \n",
       "\n",
       "   particle  flips  \n",
       "0         0     61  \n",
       "1         0     63  \n",
       "2         0     62  \n",
       "3         0     63  \n",
       "4         0     63  "
      ]
     },
     "execution_count": 7,
     "metadata": {},
     "output_type": "execute_result"
    }
   ],
   "source": [
    "N=len(df_all)\n",
    "probabilty = 0.95\n",
    "\n",
    "flips_raw = (1*(np.random.random(size=6*N)<probabilty)).reshape(6,-1)\n",
    "\n",
    "flips=flips_raw[0]\n",
    "for i in range(1,6):\n",
    "    # (1<<i = 2**i)\n",
    "    flips=flips_raw[i]*(1<<i) + flips\n",
    "\n",
    "\n",
    "df_all.loc[:,'flips']=flips\n",
    "df_all.head(5)"
   ]
  },
  {
   "cell_type": "code",
   "execution_count": 8,
   "metadata": {},
   "outputs": [
    {
     "data": {
      "text/html": [
       "<div>\n",
       "<style scoped>\n",
       "    .dataframe tbody tr th:only-of-type {\n",
       "        vertical-align: middle;\n",
       "    }\n",
       "\n",
       "    .dataframe tbody tr th {\n",
       "        vertical-align: top;\n",
       "    }\n",
       "\n",
       "    .dataframe thead th {\n",
       "        text-align: right;\n",
       "    }\n",
       "</style>\n",
       "<table border=\"1\" class=\"dataframe\">\n",
       "  <thead>\n",
       "    <tr style=\"text-align: right;\">\n",
       "      <th></th>\n",
       "      <th>ITS</th>\n",
       "      <th>TOF</th>\n",
       "      <th>TPCROC0</th>\n",
       "      <th>TPCROC1</th>\n",
       "      <th>TPCROC2</th>\n",
       "      <th>TRD</th>\n",
       "      <th>p</th>\n",
       "      <th>particle</th>\n",
       "      <th>flips</th>\n",
       "      <th>ITS_mr</th>\n",
       "      <th>...</th>\n",
       "      <th>TPCROC0_0</th>\n",
       "      <th>TPCROC1_mr</th>\n",
       "      <th>TPCROC1_w</th>\n",
       "      <th>TPCROC1_0</th>\n",
       "      <th>TPCROC2_mr</th>\n",
       "      <th>TPCROC2_w</th>\n",
       "      <th>TPCROC2_0</th>\n",
       "      <th>TRD_mr</th>\n",
       "      <th>TRD_w</th>\n",
       "      <th>TRD_0</th>\n",
       "    </tr>\n",
       "  </thead>\n",
       "  <tbody>\n",
       "    <tr>\n",
       "      <th>0</th>\n",
       "      <td>0.001974</td>\n",
       "      <td>1.052206</td>\n",
       "      <td>1.287225</td>\n",
       "      <td>1.227018</td>\n",
       "      <td>1.511047</td>\n",
       "      <td>1.352712</td>\n",
       "      <td>6.897096</td>\n",
       "      <td>0</td>\n",
       "      <td>61</td>\n",
       "      <td>0.001974</td>\n",
       "      <td>...</td>\n",
       "      <td>1.287225</td>\n",
       "      <td>1.227018</td>\n",
       "      <td>1.0</td>\n",
       "      <td>1.227018</td>\n",
       "      <td>1.511047</td>\n",
       "      <td>1.0</td>\n",
       "      <td>1.511047</td>\n",
       "      <td>1.352712</td>\n",
       "      <td>1.0</td>\n",
       "      <td>1.352712</td>\n",
       "    </tr>\n",
       "    <tr>\n",
       "      <th>1</th>\n",
       "      <td>0.001718</td>\n",
       "      <td>0.833085</td>\n",
       "      <td>0.805002</td>\n",
       "      <td>1.116930</td>\n",
       "      <td>0.872665</td>\n",
       "      <td>0.903301</td>\n",
       "      <td>0.994593</td>\n",
       "      <td>0</td>\n",
       "      <td>63</td>\n",
       "      <td>0.001718</td>\n",
       "      <td>...</td>\n",
       "      <td>0.805002</td>\n",
       "      <td>1.116930</td>\n",
       "      <td>1.0</td>\n",
       "      <td>1.116930</td>\n",
       "      <td>0.872665</td>\n",
       "      <td>1.0</td>\n",
       "      <td>0.872665</td>\n",
       "      <td>0.903301</td>\n",
       "      <td>1.0</td>\n",
       "      <td>0.903301</td>\n",
       "    </tr>\n",
       "    <tr>\n",
       "      <th>2</th>\n",
       "      <td>0.001793</td>\n",
       "      <td>0.945460</td>\n",
       "      <td>0.997494</td>\n",
       "      <td>1.009566</td>\n",
       "      <td>1.037719</td>\n",
       "      <td>1.147801</td>\n",
       "      <td>1.728243</td>\n",
       "      <td>0</td>\n",
       "      <td>62</td>\n",
       "      <td>0.002535</td>\n",
       "      <td>...</td>\n",
       "      <td>0.997494</td>\n",
       "      <td>1.009566</td>\n",
       "      <td>1.0</td>\n",
       "      <td>1.009566</td>\n",
       "      <td>1.037719</td>\n",
       "      <td>1.0</td>\n",
       "      <td>1.037719</td>\n",
       "      <td>1.147801</td>\n",
       "      <td>1.0</td>\n",
       "      <td>1.147801</td>\n",
       "    </tr>\n",
       "    <tr>\n",
       "      <th>3</th>\n",
       "      <td>0.002160</td>\n",
       "      <td>0.998264</td>\n",
       "      <td>1.462010</td>\n",
       "      <td>1.495788</td>\n",
       "      <td>1.085710</td>\n",
       "      <td>0.951321</td>\n",
       "      <td>6.853458</td>\n",
       "      <td>0</td>\n",
       "      <td>63</td>\n",
       "      <td>0.002160</td>\n",
       "      <td>...</td>\n",
       "      <td>1.462010</td>\n",
       "      <td>1.495788</td>\n",
       "      <td>1.0</td>\n",
       "      <td>1.495788</td>\n",
       "      <td>1.085710</td>\n",
       "      <td>1.0</td>\n",
       "      <td>1.085710</td>\n",
       "      <td>0.951321</td>\n",
       "      <td>1.0</td>\n",
       "      <td>0.951321</td>\n",
       "    </tr>\n",
       "    <tr>\n",
       "      <th>4</th>\n",
       "      <td>0.001923</td>\n",
       "      <td>0.921329</td>\n",
       "      <td>1.246285</td>\n",
       "      <td>1.329618</td>\n",
       "      <td>1.318100</td>\n",
       "      <td>1.427665</td>\n",
       "      <td>6.377780</td>\n",
       "      <td>0</td>\n",
       "      <td>63</td>\n",
       "      <td>0.001923</td>\n",
       "      <td>...</td>\n",
       "      <td>1.246285</td>\n",
       "      <td>1.329618</td>\n",
       "      <td>1.0</td>\n",
       "      <td>1.329618</td>\n",
       "      <td>1.318100</td>\n",
       "      <td>1.0</td>\n",
       "      <td>1.318100</td>\n",
       "      <td>1.427665</td>\n",
       "      <td>1.0</td>\n",
       "      <td>1.427665</td>\n",
       "    </tr>\n",
       "    <tr>\n",
       "      <th>5</th>\n",
       "      <td>0.001694</td>\n",
       "      <td>0.991435</td>\n",
       "      <td>1.127297</td>\n",
       "      <td>1.342507</td>\n",
       "      <td>1.422748</td>\n",
       "      <td>1.317896</td>\n",
       "      <td>5.363184</td>\n",
       "      <td>0</td>\n",
       "      <td>63</td>\n",
       "      <td>0.001694</td>\n",
       "      <td>...</td>\n",
       "      <td>1.127297</td>\n",
       "      <td>1.342507</td>\n",
       "      <td>1.0</td>\n",
       "      <td>1.342507</td>\n",
       "      <td>1.422748</td>\n",
       "      <td>1.0</td>\n",
       "      <td>1.422748</td>\n",
       "      <td>1.317896</td>\n",
       "      <td>1.0</td>\n",
       "      <td>1.317896</td>\n",
       "    </tr>\n",
       "    <tr>\n",
       "      <th>6</th>\n",
       "      <td>0.002035</td>\n",
       "      <td>0.962075</td>\n",
       "      <td>1.431967</td>\n",
       "      <td>1.188184</td>\n",
       "      <td>1.180513</td>\n",
       "      <td>1.218372</td>\n",
       "      <td>4.381540</td>\n",
       "      <td>0</td>\n",
       "      <td>63</td>\n",
       "      <td>0.002035</td>\n",
       "      <td>...</td>\n",
       "      <td>1.431967</td>\n",
       "      <td>1.188184</td>\n",
       "      <td>1.0</td>\n",
       "      <td>1.188184</td>\n",
       "      <td>1.180513</td>\n",
       "      <td>1.0</td>\n",
       "      <td>1.180513</td>\n",
       "      <td>1.218372</td>\n",
       "      <td>1.0</td>\n",
       "      <td>1.218372</td>\n",
       "    </tr>\n",
       "    <tr>\n",
       "      <th>7</th>\n",
       "      <td>0.002040</td>\n",
       "      <td>0.868408</td>\n",
       "      <td>1.167204</td>\n",
       "      <td>1.238664</td>\n",
       "      <td>1.475020</td>\n",
       "      <td>1.308296</td>\n",
       "      <td>5.465144</td>\n",
       "      <td>0</td>\n",
       "      <td>63</td>\n",
       "      <td>0.002040</td>\n",
       "      <td>...</td>\n",
       "      <td>1.167204</td>\n",
       "      <td>1.238664</td>\n",
       "      <td>1.0</td>\n",
       "      <td>1.238664</td>\n",
       "      <td>1.475020</td>\n",
       "      <td>1.0</td>\n",
       "      <td>1.475020</td>\n",
       "      <td>1.308296</td>\n",
       "      <td>1.0</td>\n",
       "      <td>1.308296</td>\n",
       "    </tr>\n",
       "    <tr>\n",
       "      <th>8</th>\n",
       "      <td>0.002084</td>\n",
       "      <td>0.988262</td>\n",
       "      <td>1.112951</td>\n",
       "      <td>1.605666</td>\n",
       "      <td>1.101587</td>\n",
       "      <td>1.206766</td>\n",
       "      <td>5.742133</td>\n",
       "      <td>0</td>\n",
       "      <td>63</td>\n",
       "      <td>0.002084</td>\n",
       "      <td>...</td>\n",
       "      <td>1.112951</td>\n",
       "      <td>1.605666</td>\n",
       "      <td>1.0</td>\n",
       "      <td>1.605666</td>\n",
       "      <td>1.101587</td>\n",
       "      <td>1.0</td>\n",
       "      <td>1.101587</td>\n",
       "      <td>1.206766</td>\n",
       "      <td>1.0</td>\n",
       "      <td>1.206766</td>\n",
       "    </tr>\n",
       "    <tr>\n",
       "      <th>9</th>\n",
       "      <td>0.001964</td>\n",
       "      <td>1.069884</td>\n",
       "      <td>1.434137</td>\n",
       "      <td>1.194320</td>\n",
       "      <td>1.131139</td>\n",
       "      <td>1.352150</td>\n",
       "      <td>5.857223</td>\n",
       "      <td>0</td>\n",
       "      <td>61</td>\n",
       "      <td>0.001964</td>\n",
       "      <td>...</td>\n",
       "      <td>1.434137</td>\n",
       "      <td>1.194320</td>\n",
       "      <td>1.0</td>\n",
       "      <td>1.194320</td>\n",
       "      <td>1.131139</td>\n",
       "      <td>1.0</td>\n",
       "      <td>1.131139</td>\n",
       "      <td>1.352150</td>\n",
       "      <td>1.0</td>\n",
       "      <td>1.352150</td>\n",
       "    </tr>\n",
       "  </tbody>\n",
       "</table>\n",
       "<p>10 rows × 27 columns</p>\n",
       "</div>"
      ],
      "text/plain": [
       "        ITS       TOF   TPCROC0   TPCROC1   TPCROC2       TRD         p  \\\n",
       "0  0.001974  1.052206  1.287225  1.227018  1.511047  1.352712  6.897096   \n",
       "1  0.001718  0.833085  0.805002  1.116930  0.872665  0.903301  0.994593   \n",
       "2  0.001793  0.945460  0.997494  1.009566  1.037719  1.147801  1.728243   \n",
       "3  0.002160  0.998264  1.462010  1.495788  1.085710  0.951321  6.853458   \n",
       "4  0.001923  0.921329  1.246285  1.329618  1.318100  1.427665  6.377780   \n",
       "5  0.001694  0.991435  1.127297  1.342507  1.422748  1.317896  5.363184   \n",
       "6  0.002035  0.962075  1.431967  1.188184  1.180513  1.218372  4.381540   \n",
       "7  0.002040  0.868408  1.167204  1.238664  1.475020  1.308296  5.465144   \n",
       "8  0.002084  0.988262  1.112951  1.605666  1.101587  1.206766  5.742133   \n",
       "9  0.001964  1.069884  1.434137  1.194320  1.131139  1.352150  5.857223   \n",
       "\n",
       "   particle  flips    ITS_mr    ...     TPCROC0_0  TPCROC1_mr  TPCROC1_w  \\\n",
       "0         0     61  0.001974    ...      1.287225    1.227018        1.0   \n",
       "1         0     63  0.001718    ...      0.805002    1.116930        1.0   \n",
       "2         0     62  0.002535    ...      0.997494    1.009566        1.0   \n",
       "3         0     63  0.002160    ...      1.462010    1.495788        1.0   \n",
       "4         0     63  0.001923    ...      1.246285    1.329618        1.0   \n",
       "5         0     63  0.001694    ...      1.127297    1.342507        1.0   \n",
       "6         0     63  0.002035    ...      1.431967    1.188184        1.0   \n",
       "7         0     63  0.002040    ...      1.167204    1.238664        1.0   \n",
       "8         0     63  0.002084    ...      1.112951    1.605666        1.0   \n",
       "9         0     61  0.001964    ...      1.434137    1.194320        1.0   \n",
       "\n",
       "   TPCROC1_0  TPCROC2_mr  TPCROC2_w  TPCROC2_0    TRD_mr  TRD_w     TRD_0  \n",
       "0   1.227018    1.511047        1.0   1.511047  1.352712    1.0  1.352712  \n",
       "1   1.116930    0.872665        1.0   0.872665  0.903301    1.0  0.903301  \n",
       "2   1.009566    1.037719        1.0   1.037719  1.147801    1.0  1.147801  \n",
       "3   1.495788    1.085710        1.0   1.085710  0.951321    1.0  0.951321  \n",
       "4   1.329618    1.318100        1.0   1.318100  1.427665    1.0  1.427665  \n",
       "5   1.342507    1.422748        1.0   1.422748  1.317896    1.0  1.317896  \n",
       "6   1.188184    1.180513        1.0   1.180513  1.218372    1.0  1.218372  \n",
       "7   1.238664    1.475020        1.0   1.475020  1.308296    1.0  1.308296  \n",
       "8   1.605666    1.101587        1.0   1.101587  1.206766    1.0  1.206766  \n",
       "9   1.194320    1.131139        1.0   1.131139  1.352150    1.0  1.352150  \n",
       "\n",
       "[10 rows x 27 columns]"
      ]
     },
     "execution_count": 8,
     "metadata": {},
     "output_type": "execute_result"
    }
   ],
   "source": [
    "# prepare \"flips-Data\" and weights\n",
    "for i ,name in enumerate(['ITS','TOF','TPCROC0','TPCROC1','TPCROC2','TRD']):\n",
    "    # calculate \"flip= 0/1\"\n",
    "    f=(np.array(df_all['flips'])>>i)&1\n",
    "    # if f=0 substitute value by mean\n",
    "    m=df_all[name].mean()\n",
    "    df_all.loc[:,name+'_mr']= df_all[name].multiply(f,axis='index')+m*(1-f) #mean replaced\n",
    "    df_all.loc[:,name+'_w']=1.0*f #weight\n",
    "    df_all.loc[:,name+'_0']= df_all[name].multiply(f,axis='index') #zeros\n",
    "    \n",
    "# generate data for stage 2\n",
    "df_stage_2=df_all.copy()\n",
    "df_stage_3=df_all.copy()\n",
    "df_all[df_all['particle']==0].head(10)"
   ]
  },
  {
   "cell_type": "code",
   "execution_count": 9,
   "metadata": {},
   "outputs": [],
   "source": [
    "train, test =train_test_split(df_all, test_size=0.5)"
   ]
  },
  {
   "cell_type": "markdown",
   "metadata": {},
   "source": [
    "# Create autoencoders"
   ]
  },
  {
   "cell_type": "code",
   "execution_count": 10,
   "metadata": {},
   "outputs": [],
   "source": [
    "def custom_loss(y_true, y_pred,weights):\n",
    "    return K.mean(K.square((y_true - y_pred)*weights))\n",
    "\n",
    "inputs = Input(shape=(6,))\n",
    "inputw = Input(shape=(6,))\n",
    "enc1   = Dense(units=64, activation='selu')(inputs)\n",
    "enc2   = Dense(units=64, activation='selu')(enc1)\n",
    "enc3   = Dense(units=64, activation='selu')(enc2)\n",
    "enc4   = Dense(units=64, activation='selu')(enc3)\n",
    "layer0 = Dense(units=2 , activation='selu')(enc4)\n",
    "dec1   = Dense(units=64, activation='selu')(layer0)\n",
    "dec2   = Dense(units=64, activation='selu')(dec1)\n",
    "dec3   = Dense(units=64, activation='selu')(dec2)\n",
    "dec4   = Dense(units=64, activation='selu')(dec3)\n",
    "outputs= Dense(units=6, activation='linear')(dec4)\n",
    "\n",
    "c_loss = partial(custom_loss, weights=inputw)\n",
    "        \n",
    "modelpt = Model(inputs=inputs,outputs=outputs)\n",
    "models2 = Model(inputs=inputs,outputs=outputs)\n",
    "modell = Model(inputs=inputs,outputs=outputs)\n",
    "model0 = Model(inputs=inputs,outputs=outputs)\n",
    "model1 = Model(inputs=[inputs,inputw],outputs=outputs)\n",
    "modelpt.compile(loss='mse',\n",
    "              optimizer='adam',\n",
    "              metrics=['mse'])\n",
    "models2.compile(loss='mse',\n",
    "              optimizer='adam',\n",
    "              metrics=['mse'])\n",
    "modell.compile(loss='mse',\n",
    "              optimizer='adam',\n",
    "              metrics=['mse'])\n",
    "model0.compile(loss='mse',\n",
    "              optimizer='adam',\n",
    "              metrics=['mse'])\n",
    "model1.compile(loss=c_loss,\n",
    "              optimizer='adam',\n",
    "              metrics=['mse'])"
   ]
  },
  {
   "cell_type": "code",
   "execution_count": 11,
   "metadata": {},
   "outputs": [
    {
     "name": "stdout",
     "output_type": "stream",
     "text": [
      "_________________________________________________________________\n",
      "Layer (type)                 Output Shape              Param #   \n",
      "=================================================================\n",
      "input_1 (InputLayer)         (None, 6)                 0         \n",
      "_________________________________________________________________\n",
      "dense (Dense)                (None, 64)                448       \n",
      "_________________________________________________________________\n",
      "dense_1 (Dense)              (None, 64)                4160      \n",
      "_________________________________________________________________\n",
      "dense_2 (Dense)              (None, 64)                4160      \n",
      "_________________________________________________________________\n",
      "dense_3 (Dense)              (None, 64)                4160      \n",
      "_________________________________________________________________\n",
      "dense_4 (Dense)              (None, 2)                 130       \n",
      "_________________________________________________________________\n",
      "dense_5 (Dense)              (None, 64)                192       \n",
      "_________________________________________________________________\n",
      "dense_6 (Dense)              (None, 64)                4160      \n",
      "_________________________________________________________________\n",
      "dense_7 (Dense)              (None, 64)                4160      \n",
      "_________________________________________________________________\n",
      "dense_8 (Dense)              (None, 64)                4160      \n",
      "_________________________________________________________________\n",
      "dense_9 (Dense)              (None, 6)                 390       \n",
      "=================================================================\n",
      "Total params: 26,120\n",
      "Trainable params: 26,120\n",
      "Non-trainable params: 0\n",
      "_________________________________________________________________\n"
     ]
    }
   ],
   "source": [
    "model0.summary()"
   ]
  },
  {
   "cell_type": "markdown",
   "metadata": {},
   "source": [
    "# perfect tracks"
   ]
  },
  {
   "cell_type": "code",
   "execution_count": 12,
   "metadata": {},
   "outputs": [
    {
     "data": {
      "text/plain": [
       "StandardScaler(copy=True, with_mean=True, with_std=True)"
      ]
     },
     "execution_count": 12,
     "metadata": {},
     "output_type": "execute_result"
    }
   ],
   "source": [
    "train_pt = train[[\"ITS\", \"TOF\", \"TPCROC0\", \"TPCROC1\", \"TPCROC2\", \"TRD\"]]\n",
    "test_pt = test[[\"ITS\", \"TOF\", \"TPCROC0\", \"TPCROC1\", \"TPCROC2\", \"TRD\"]]\n",
    "scaler_pt = StandardScaler()\n",
    "scaler_pt.fit( train[[\"ITS\", \"TOF\", \"TPCROC0\", \"TPCROC1\", \"TPCROC2\", \"TRD\"]])"
   ]
  },
  {
   "cell_type": "code",
   "execution_count": 13,
   "metadata": {},
   "outputs": [
    {
     "name": "stdout",
     "output_type": "stream",
     "text": [
      "Train on 20000 samples, validate on 20000 samples\n",
      "Epoch 1/5\n",
      "20000/20000 [==============================] - 6s 309us/step - loss: 0.0631 - mean_squared_error: 0.0631 - val_loss: 0.0485 - val_mean_squared_error: 0.0485\n",
      "Epoch 2/5\n",
      "20000/20000 [==============================] - 5s 250us/step - loss: 0.0389 - mean_squared_error: 0.0389 - val_loss: 0.0366 - val_mean_squared_error: 0.0366\n",
      "Epoch 3/5\n",
      "20000/20000 [==============================] - 5s 251us/step - loss: 0.0416 - mean_squared_error: 0.0416 - val_loss: 0.0376 - val_mean_squared_error: 0.0376\n",
      "Epoch 4/5\n",
      "20000/20000 [==============================] - 5s 252us/step - loss: 0.0354 - mean_squared_error: 0.0354 - val_loss: 0.0340 - val_mean_squared_error: 0.0340\n",
      "Epoch 5/5\n",
      "20000/20000 [==============================] - 5s 251us/step - loss: 0.0359 - mean_squared_error: 0.0359 - val_loss: 0.0341 - val_mean_squared_error: 0.0341\n"
     ]
    },
    {
     "data": {
      "text/plain": [
       "<tensorflow.python.keras.callbacks.History at 0x7fc0a141aa10>"
      ]
     },
     "execution_count": 13,
     "metadata": {},
     "output_type": "execute_result"
    },
    {
     "name": "stderr",
     "output_type": "stream",
     "text": [
      "2019-01-28 12:40:43.482620: I tensorflow/core/platform/cpu_feature_guard.cc:141] Your CPU supports instructions that this TensorFlow binary was not compiled to use: FMA\n"
     ]
    }
   ],
   "source": [
    "modelpt.fit(scaler_pt.transform(train_pt), scaler_pt.transform(train_pt), epochs=5, batch_size=32, \n",
    "          validation_data=[scaler_pt.transform(test_pt),scaler_pt.transform(test_pt)])"
   ]
  },
  {
   "cell_type": "code",
   "execution_count": 14,
   "metadata": {},
   "outputs": [
    {
     "data": {
      "text/html": [
       "<div>\n",
       "<style scoped>\n",
       "    .dataframe tbody tr th:only-of-type {\n",
       "        vertical-align: middle;\n",
       "    }\n",
       "\n",
       "    .dataframe tbody tr th {\n",
       "        vertical-align: top;\n",
       "    }\n",
       "\n",
       "    .dataframe thead th {\n",
       "        text-align: right;\n",
       "    }\n",
       "</style>\n",
       "<table border=\"1\" class=\"dataframe\">\n",
       "  <thead>\n",
       "    <tr style=\"text-align: right;\">\n",
       "      <th></th>\n",
       "      <th>index</th>\n",
       "      <th>ITS</th>\n",
       "      <th>TOF</th>\n",
       "      <th>TPCROC0</th>\n",
       "      <th>TPCROC1</th>\n",
       "      <th>TPCROC2</th>\n",
       "      <th>TRD</th>\n",
       "      <th>p</th>\n",
       "      <th>particle</th>\n",
       "      <th>flips</th>\n",
       "      <th>...</th>\n",
       "      <th>TPCROC2_0</th>\n",
       "      <th>TRD_mr</th>\n",
       "      <th>TRD_w</th>\n",
       "      <th>TRD_0</th>\n",
       "      <th>ITS_ae</th>\n",
       "      <th>TOF_ae</th>\n",
       "      <th>TPCROC0_ae</th>\n",
       "      <th>TPCROC1_ae</th>\n",
       "      <th>TPCROC2_ae</th>\n",
       "      <th>TRD_ae</th>\n",
       "    </tr>\n",
       "  </thead>\n",
       "  <tbody>\n",
       "    <tr>\n",
       "      <th>0</th>\n",
       "      <td>7811</td>\n",
       "      <td>0.001794</td>\n",
       "      <td>0.948008</td>\n",
       "      <td>1.041207</td>\n",
       "      <td>1.042903</td>\n",
       "      <td>1.138377</td>\n",
       "      <td>0.938865</td>\n",
       "      <td>0.334052</td>\n",
       "      <td>0</td>\n",
       "      <td>63</td>\n",
       "      <td>...</td>\n",
       "      <td>1.138377</td>\n",
       "      <td>0.938865</td>\n",
       "      <td>1.0</td>\n",
       "      <td>0.938865</td>\n",
       "      <td>0.001758</td>\n",
       "      <td>0.950034</td>\n",
       "      <td>1.025298</td>\n",
       "      <td>1.030729</td>\n",
       "      <td>1.031214</td>\n",
       "      <td>1.075571</td>\n",
       "    </tr>\n",
       "    <tr>\n",
       "      <th>1</th>\n",
       "      <td>12703</td>\n",
       "      <td>0.002671</td>\n",
       "      <td>0.909689</td>\n",
       "      <td>1.705175</td>\n",
       "      <td>1.629766</td>\n",
       "      <td>1.537096</td>\n",
       "      <td>1.597416</td>\n",
       "      <td>3.395587</td>\n",
       "      <td>2</td>\n",
       "      <td>63</td>\n",
       "      <td>...</td>\n",
       "      <td>1.537096</td>\n",
       "      <td>1.597416</td>\n",
       "      <td>1.0</td>\n",
       "      <td>1.597416</td>\n",
       "      <td>0.002754</td>\n",
       "      <td>0.915538</td>\n",
       "      <td>1.558491</td>\n",
       "      <td>1.545281</td>\n",
       "      <td>1.580396</td>\n",
       "      <td>1.596055</td>\n",
       "    </tr>\n",
       "    <tr>\n",
       "      <th>2</th>\n",
       "      <td>38477</td>\n",
       "      <td>0.002263</td>\n",
       "      <td>0.797245</td>\n",
       "      <td>1.589065</td>\n",
       "      <td>1.572257</td>\n",
       "      <td>1.281461</td>\n",
       "      <td>1.413690</td>\n",
       "      <td>0.541052</td>\n",
       "      <td>4</td>\n",
       "      <td>61</td>\n",
       "      <td>...</td>\n",
       "      <td>1.281461</td>\n",
       "      <td>1.413690</td>\n",
       "      <td>1.0</td>\n",
       "      <td>1.413690</td>\n",
       "      <td>0.002489</td>\n",
       "      <td>0.791904</td>\n",
       "      <td>1.438869</td>\n",
       "      <td>1.389904</td>\n",
       "      <td>1.439425</td>\n",
       "      <td>1.469368</td>\n",
       "    </tr>\n",
       "  </tbody>\n",
       "</table>\n",
       "<p>3 rows × 34 columns</p>\n",
       "</div>"
      ],
      "text/plain": [
       "   index       ITS       TOF   TPCROC0   TPCROC1   TPCROC2       TRD  \\\n",
       "0   7811  0.001794  0.948008  1.041207  1.042903  1.138377  0.938865   \n",
       "1  12703  0.002671  0.909689  1.705175  1.629766  1.537096  1.597416   \n",
       "2  38477  0.002263  0.797245  1.589065  1.572257  1.281461  1.413690   \n",
       "\n",
       "          p  particle  flips    ...     TPCROC2_0    TRD_mr  TRD_w     TRD_0  \\\n",
       "0  0.334052         0     63    ...      1.138377  0.938865    1.0  0.938865   \n",
       "1  3.395587         2     63    ...      1.537096  1.597416    1.0  1.597416   \n",
       "2  0.541052         4     61    ...      1.281461  1.413690    1.0  1.413690   \n",
       "\n",
       "     ITS_ae    TOF_ae  TPCROC0_ae  TPCROC1_ae  TPCROC2_ae    TRD_ae  \n",
       "0  0.001758  0.950034    1.025298    1.030729    1.031214  1.075571  \n",
       "1  0.002754  0.915538    1.558491    1.545281    1.580396  1.596055  \n",
       "2  0.002489  0.791904    1.438869    1.389904    1.439425  1.469368  \n",
       "\n",
       "[3 rows x 34 columns]"
      ]
     },
     "execution_count": 14,
     "metadata": {},
     "output_type": "execute_result"
    }
   ],
   "source": [
    "out = scaler_pt.inverse_transform(modelpt.predict(scaler_pt.transform(test_pt)))\n",
    "AE_predict = pd.DataFrame(out)\n",
    "AE_predict.columns = [\"ITS_ae\", \"TOF_ae\", \"TPCROC0_ae\", \"TPCROC1_ae\", \"TPCROC2_ae\", \"TRD_ae\"]\n",
    "test = test.reset_index()\n",
    "df_test = pd.concat([test,AE_predict], axis = 1)\n",
    "df_test.head(3)"
   ]
  },
  {
   "cell_type": "code",
   "execution_count": 15,
   "metadata": {},
   "outputs": [
    {
     "data": {
      "image/png": "[encoded data removed]",
      "text/plain": [
       "<Figure size 432x288 with 1 Axes>"
      ]
     },
     "metadata": {
      "needs_background": "light"
     },
     "output_type": "display_data"
    },
    {
     "data": {
      "image/png": "[encoded data removed]",
      "text/plain": [
       "<Figure size 432x288 with 1 Axes>"
      ]
     },
     "metadata": {
      "needs_background": "light"
     },
     "output_type": "display_data"
    }
   ],
   "source": [
    "plt.hist2d(df_all[\"p\"], df_all[\"TPCROC1\"], bins=(100, 100), cmap=plt.cm.jet, range = [[0.2, 2], [0.5, 3]])\n",
    "plt.show()\n",
    "plt.hist2d(df_test[\"p\"], df_test[\"TPCROC2_ae\"], bins=(100, 100), cmap=plt.cm.jet, range = [[0.2, 2], [0.5, 3]])\n",
    "plt.show()"
   ]
  },
  {
   "cell_type": "markdown",
   "metadata": {},
   "source": [
    "# Train with zeros"
   ]
  },
  {
   "cell_type": "code",
   "execution_count": 16,
   "metadata": {},
   "outputs": [
    {
     "data": {
      "text/plain": [
       "StandardScaler(copy=True, with_mean=True, with_std=True)"
      ]
     },
     "execution_count": 16,
     "metadata": {},
     "output_type": "execute_result"
    }
   ],
   "source": [
    "train_0 = train[[\"ITS_0\", \"TOF_0\", \"TPCROC0_0\", \"TPCROC1_0\", \"TPCROC2_0\", \"TRD_0\"]]\n",
    "test_0 = test[[\"ITS_0\", \"TOF_0\", \"TPCROC0_0\", \"TPCROC1_0\", \"TPCROC2_0\", \"TRD_0\"]]\n",
    "scaler_0 = StandardScaler()\n",
    "scaler_0.fit( train[[\"ITS_0\", \"TOF_0\", \"TPCROC0_0\", \"TPCROC1_0\", \"TPCROC2_0\", \"TRD_0\"]])\n",
    "#scaler_0.fit( train[[\"ITS\", \"TOF\", \"TPCROC0\", \"TPCROC1\", \"TPCROC2\", \"TRD\"]]) "
   ]
  },
  {
   "cell_type": "code",
   "execution_count": 17,
   "metadata": {},
   "outputs": [
    {
     "data": {
      "text/html": [
       "<div>\n",
       "<style scoped>\n",
       "    .dataframe tbody tr th:only-of-type {\n",
       "        vertical-align: middle;\n",
       "    }\n",
       "\n",
       "    .dataframe tbody tr th {\n",
       "        vertical-align: top;\n",
       "    }\n",
       "\n",
       "    .dataframe thead th {\n",
       "        text-align: right;\n",
       "    }\n",
       "</style>\n",
       "<table border=\"1\" class=\"dataframe\">\n",
       "  <thead>\n",
       "    <tr style=\"text-align: right;\">\n",
       "      <th></th>\n",
       "      <th>ITS_0</th>\n",
       "      <th>TOF_0</th>\n",
       "      <th>TPCROC0_0</th>\n",
       "      <th>TPCROC1_0</th>\n",
       "      <th>TPCROC2_0</th>\n",
       "      <th>TRD_0</th>\n",
       "    </tr>\n",
       "  </thead>\n",
       "  <tbody>\n",
       "    <tr>\n",
       "      <th>13698</th>\n",
       "      <td>0.002673</td>\n",
       "      <td>0.954562</td>\n",
       "      <td>1.254264</td>\n",
       "      <td>1.688195</td>\n",
       "      <td>1.431549</td>\n",
       "      <td>0.000000</td>\n",
       "    </tr>\n",
       "    <tr>\n",
       "      <th>3896</th>\n",
       "      <td>0.001773</td>\n",
       "      <td>1.048043</td>\n",
       "      <td>1.303439</td>\n",
       "      <td>1.219996</td>\n",
       "      <td>1.066433</td>\n",
       "      <td>1.226713</td>\n",
       "    </tr>\n",
       "    <tr>\n",
       "      <th>24109</th>\n",
       "      <td>0.001852</td>\n",
       "      <td>0.906697</td>\n",
       "      <td>1.078619</td>\n",
       "      <td>1.155178</td>\n",
       "      <td>1.334854</td>\n",
       "      <td>0.932480</td>\n",
       "    </tr>\n",
       "    <tr>\n",
       "      <th>22534</th>\n",
       "      <td>0.001571</td>\n",
       "      <td>0.974656</td>\n",
       "      <td>0.936389</td>\n",
       "      <td>1.174052</td>\n",
       "      <td>1.016284</td>\n",
       "      <td>1.007817</td>\n",
       "    </tr>\n",
       "    <tr>\n",
       "      <th>36826</th>\n",
       "      <td>0.001951</td>\n",
       "      <td>0.863774</td>\n",
       "      <td>1.141814</td>\n",
       "      <td>0.993991</td>\n",
       "      <td>1.018198</td>\n",
       "      <td>1.141116</td>\n",
       "    </tr>\n",
       "  </tbody>\n",
       "</table>\n",
       "</div>"
      ],
      "text/plain": [
       "          ITS_0     TOF_0  TPCROC0_0  TPCROC1_0  TPCROC2_0     TRD_0\n",
       "13698  0.002673  0.954562   1.254264   1.688195   1.431549  0.000000\n",
       "3896   0.001773  1.048043   1.303439   1.219996   1.066433  1.226713\n",
       "24109  0.001852  0.906697   1.078619   1.155178   1.334854  0.932480\n",
       "22534  0.001571  0.974656   0.936389   1.174052   1.016284  1.007817\n",
       "36826  0.001951  0.863774   1.141814   0.993991   1.018198  1.141116"
      ]
     },
     "execution_count": 17,
     "metadata": {},
     "output_type": "execute_result"
    }
   ],
   "source": [
    "train[[\"ITS_0\", \"TOF_0\", \"TPCROC0_0\", \"TPCROC1_0\", \"TPCROC2_0\", \"TRD_0\"]].head()"
   ]
  },
  {
   "cell_type": "code",
   "execution_count": 18,
   "metadata": {},
   "outputs": [
    {
     "data": {
      "text/html": [
       "<div>\n",
       "<style scoped>\n",
       "    .dataframe tbody tr th:only-of-type {\n",
       "        vertical-align: middle;\n",
       "    }\n",
       "\n",
       "    .dataframe tbody tr th {\n",
       "        vertical-align: top;\n",
       "    }\n",
       "\n",
       "    .dataframe thead th {\n",
       "        text-align: right;\n",
       "    }\n",
       "</style>\n",
       "<table border=\"1\" class=\"dataframe\">\n",
       "  <thead>\n",
       "    <tr style=\"text-align: right;\">\n",
       "      <th></th>\n",
       "      <th>ITS</th>\n",
       "      <th>TOF</th>\n",
       "      <th>TPCROC0</th>\n",
       "      <th>TPCROC1</th>\n",
       "      <th>TPCROC2</th>\n",
       "      <th>TRD</th>\n",
       "    </tr>\n",
       "  </thead>\n",
       "  <tbody>\n",
       "    <tr>\n",
       "      <th>13698</th>\n",
       "      <td>0.002673</td>\n",
       "      <td>0.954562</td>\n",
       "      <td>1.254264</td>\n",
       "      <td>1.688195</td>\n",
       "      <td>1.431549</td>\n",
       "      <td>1.701219</td>\n",
       "    </tr>\n",
       "    <tr>\n",
       "      <th>3896</th>\n",
       "      <td>0.001773</td>\n",
       "      <td>1.048043</td>\n",
       "      <td>1.303439</td>\n",
       "      <td>1.219996</td>\n",
       "      <td>1.066433</td>\n",
       "      <td>1.226713</td>\n",
       "    </tr>\n",
       "    <tr>\n",
       "      <th>24109</th>\n",
       "      <td>0.001852</td>\n",
       "      <td>0.906697</td>\n",
       "      <td>1.078619</td>\n",
       "      <td>1.155178</td>\n",
       "      <td>1.334854</td>\n",
       "      <td>0.932480</td>\n",
       "    </tr>\n",
       "    <tr>\n",
       "      <th>22534</th>\n",
       "      <td>0.001571</td>\n",
       "      <td>0.974656</td>\n",
       "      <td>0.936389</td>\n",
       "      <td>1.174052</td>\n",
       "      <td>1.016284</td>\n",
       "      <td>1.007817</td>\n",
       "    </tr>\n",
       "    <tr>\n",
       "      <th>36826</th>\n",
       "      <td>0.001951</td>\n",
       "      <td>0.863774</td>\n",
       "      <td>1.141814</td>\n",
       "      <td>0.993991</td>\n",
       "      <td>1.018198</td>\n",
       "      <td>1.141116</td>\n",
       "    </tr>\n",
       "  </tbody>\n",
       "</table>\n",
       "</div>"
      ],
      "text/plain": [
       "            ITS       TOF   TPCROC0   TPCROC1   TPCROC2       TRD\n",
       "13698  0.002673  0.954562  1.254264  1.688195  1.431549  1.701219\n",
       "3896   0.001773  1.048043  1.303439  1.219996  1.066433  1.226713\n",
       "24109  0.001852  0.906697  1.078619  1.155178  1.334854  0.932480\n",
       "22534  0.001571  0.974656  0.936389  1.174052  1.016284  1.007817\n",
       "36826  0.001951  0.863774  1.141814  0.993991  1.018198  1.141116"
      ]
     },
     "execution_count": 18,
     "metadata": {},
     "output_type": "execute_result"
    }
   ],
   "source": [
    "train[[\"ITS\", \"TOF\", \"TPCROC0\", \"TPCROC1\", \"TPCROC2\", \"TRD\"]].head()\n"
   ]
  },
  {
   "cell_type": "code",
   "execution_count": 19,
   "metadata": {},
   "outputs": [
    {
     "name": "stdout",
     "output_type": "stream",
     "text": [
      "Train on 20000 samples, validate on 20000 samples\n",
      "Epoch 1/5\n",
      "20000/20000 [==============================] - 6s 316us/step - loss: 0.1711 - mean_squared_error: 0.1711 - val_loss: 0.1631 - val_mean_squared_error: 0.1631\n",
      "Epoch 2/5\n",
      "20000/20000 [==============================] - 5s 254us/step - loss: 0.1683 - mean_squared_error: 0.1683 - val_loss: 0.1694 - val_mean_squared_error: 0.1694\n",
      "Epoch 3/5\n",
      "20000/20000 [==============================] - 5s 257us/step - loss: 0.1628 - mean_squared_error: 0.1628 - val_loss: 0.1534 - val_mean_squared_error: 0.1534\n",
      "Epoch 4/5\n",
      "20000/20000 [==============================] - 5s 262us/step - loss: 0.1620 - mean_squared_error: 0.1620 - val_loss: 0.1488 - val_mean_squared_error: 0.1488\n",
      "Epoch 5/5\n",
      "20000/20000 [==============================] - 5s 258us/step - loss: 0.1510 - mean_squared_error: 0.1510 - val_loss: 0.1515 - val_mean_squared_error: 0.1515\n"
     ]
    },
    {
     "data": {
      "text/plain": [
       "<tensorflow.python.keras.callbacks.History at 0x7fc0de5f57d0>"
      ]
     },
     "execution_count": 19,
     "metadata": {},
     "output_type": "execute_result"
    }
   ],
   "source": [
    "model0.fit(scaler_0.transform(train_0), scaler_0.transform(train_0), epochs=5, batch_size=32, \n",
    "          validation_data=[scaler_0.transform(test_0),scaler_0.transform(test_0)])"
   ]
  },
  {
   "cell_type": "code",
   "execution_count": 20,
   "metadata": {},
   "outputs": [
    {
     "data": {
      "text/html": [
       "<div>\n",
       "<style scoped>\n",
       "    .dataframe tbody tr th:only-of-type {\n",
       "        vertical-align: middle;\n",
       "    }\n",
       "\n",
       "    .dataframe tbody tr th {\n",
       "        vertical-align: top;\n",
       "    }\n",
       "\n",
       "    .dataframe thead th {\n",
       "        text-align: right;\n",
       "    }\n",
       "</style>\n",
       "<table border=\"1\" class=\"dataframe\">\n",
       "  <thead>\n",
       "    <tr style=\"text-align: right;\">\n",
       "      <th></th>\n",
       "      <th>level_0</th>\n",
       "      <th>index</th>\n",
       "      <th>ITS</th>\n",
       "      <th>TOF</th>\n",
       "      <th>TPCROC0</th>\n",
       "      <th>TPCROC1</th>\n",
       "      <th>TPCROC2</th>\n",
       "      <th>TRD</th>\n",
       "      <th>p</th>\n",
       "      <th>particle</th>\n",
       "      <th>...</th>\n",
       "      <th>TPCROC2_0</th>\n",
       "      <th>TRD_mr</th>\n",
       "      <th>TRD_w</th>\n",
       "      <th>TRD_0</th>\n",
       "      <th>ITS_ae</th>\n",
       "      <th>TOF_ae</th>\n",
       "      <th>TPCROC0_ae</th>\n",
       "      <th>TPCROC1_ae</th>\n",
       "      <th>TPCROC2_ae</th>\n",
       "      <th>TRD_ae</th>\n",
       "    </tr>\n",
       "  </thead>\n",
       "  <tbody>\n",
       "    <tr>\n",
       "      <th>0</th>\n",
       "      <td>0</td>\n",
       "      <td>7811</td>\n",
       "      <td>0.001794</td>\n",
       "      <td>0.948008</td>\n",
       "      <td>1.041207</td>\n",
       "      <td>1.042903</td>\n",
       "      <td>1.138377</td>\n",
       "      <td>0.938865</td>\n",
       "      <td>0.334052</td>\n",
       "      <td>0</td>\n",
       "      <td>...</td>\n",
       "      <td>1.138377</td>\n",
       "      <td>0.938865</td>\n",
       "      <td>1.0</td>\n",
       "      <td>0.938865</td>\n",
       "      <td>0.001634</td>\n",
       "      <td>0.965003</td>\n",
       "      <td>1.008330</td>\n",
       "      <td>1.075787</td>\n",
       "      <td>0.956334</td>\n",
       "      <td>1.010984</td>\n",
       "    </tr>\n",
       "    <tr>\n",
       "      <th>1</th>\n",
       "      <td>1</td>\n",
       "      <td>12703</td>\n",
       "      <td>0.002671</td>\n",
       "      <td>0.909689</td>\n",
       "      <td>1.705175</td>\n",
       "      <td>1.629766</td>\n",
       "      <td>1.537096</td>\n",
       "      <td>1.597416</td>\n",
       "      <td>3.395587</td>\n",
       "      <td>2</td>\n",
       "      <td>...</td>\n",
       "      <td>1.537096</td>\n",
       "      <td>1.597416</td>\n",
       "      <td>1.0</td>\n",
       "      <td>1.597416</td>\n",
       "      <td>0.002683</td>\n",
       "      <td>0.858002</td>\n",
       "      <td>1.663404</td>\n",
       "      <td>1.691147</td>\n",
       "      <td>1.681357</td>\n",
       "      <td>1.674180</td>\n",
       "    </tr>\n",
       "    <tr>\n",
       "      <th>2</th>\n",
       "      <td>2</td>\n",
       "      <td>38477</td>\n",
       "      <td>0.002263</td>\n",
       "      <td>0.797245</td>\n",
       "      <td>1.589065</td>\n",
       "      <td>1.572257</td>\n",
       "      <td>1.281461</td>\n",
       "      <td>1.413690</td>\n",
       "      <td>0.541052</td>\n",
       "      <td>4</td>\n",
       "      <td>...</td>\n",
       "      <td>1.281461</td>\n",
       "      <td>1.413690</td>\n",
       "      <td>1.0</td>\n",
       "      <td>1.413690</td>\n",
       "      <td>0.002207</td>\n",
       "      <td>0.015447</td>\n",
       "      <td>1.152994</td>\n",
       "      <td>1.259093</td>\n",
       "      <td>1.226793</td>\n",
       "      <td>1.285596</td>\n",
       "    </tr>\n",
       "  </tbody>\n",
       "</table>\n",
       "<p>3 rows × 35 columns</p>\n",
       "</div>"
      ],
      "text/plain": [
       "   level_0  index       ITS       TOF   TPCROC0   TPCROC1   TPCROC2       TRD  \\\n",
       "0        0   7811  0.001794  0.948008  1.041207  1.042903  1.138377  0.938865   \n",
       "1        1  12703  0.002671  0.909689  1.705175  1.629766  1.537096  1.597416   \n",
       "2        2  38477  0.002263  0.797245  1.589065  1.572257  1.281461  1.413690   \n",
       "\n",
       "          p  particle    ...     TPCROC2_0    TRD_mr  TRD_w     TRD_0  \\\n",
       "0  0.334052         0    ...      1.138377  0.938865    1.0  0.938865   \n",
       "1  3.395587         2    ...      1.537096  1.597416    1.0  1.597416   \n",
       "2  0.541052         4    ...      1.281461  1.413690    1.0  1.413690   \n",
       "\n",
       "     ITS_ae    TOF_ae  TPCROC0_ae  TPCROC1_ae  TPCROC2_ae    TRD_ae  \n",
       "0  0.001634  0.965003    1.008330    1.075787    0.956334  1.010984  \n",
       "1  0.002683  0.858002    1.663404    1.691147    1.681357  1.674180  \n",
       "2  0.002207  0.015447    1.152994    1.259093    1.226793  1.285596  \n",
       "\n",
       "[3 rows x 35 columns]"
      ]
     },
     "execution_count": 20,
     "metadata": {},
     "output_type": "execute_result"
    }
   ],
   "source": [
    "out = scaler_0.inverse_transform(model0.predict(scaler_0.transform(test_0)))\n",
    "AE_predict = pd.DataFrame(out)\n",
    "AE_predict.columns = [\"ITS_ae\", \"TOF_ae\", \"TPCROC0_ae\", \"TPCROC1_ae\", \"TPCROC2_ae\", \"TRD_ae\"]\n",
    "test = test.reset_index()\n",
    "df_test = pd.concat([test,AE_predict], axis = 1)\n",
    "df_test.head(3)"
   ]
  },
  {
   "cell_type": "code",
   "execution_count": 21,
   "metadata": {},
   "outputs": [
    {
     "data": {
      "image/png": "[encoded data removed]",
      "text/plain": [
       "<Figure size 432x288 with 1 Axes>"
      ]
     },
     "metadata": {
      "needs_background": "light"
     },
     "output_type": "display_data"
    },
    {
     "data": {
      "image/png": "[encoded data removed]",
      "text/plain": [
       "<Figure size 432x288 with 1 Axes>"
      ]
     },
     "metadata": {
      "needs_background": "light"
     },
     "output_type": "display_data"
    }
   ],
   "source": [
    "plt.hist2d(df_all[\"p\"], df_all[\"TPCROC1\"], bins=(100, 100), cmap=plt.cm.jet, range = [[0.2, 2], [0.5, 3]])\n",
    "plt.show()\n",
    "plt.hist2d(df_test[\"p\"], df_test[\"TPCROC2_ae\"], bins=(100, 100), cmap=plt.cm.jet, range = [[0.2, 2], [0.5, 3]])\n",
    "plt.show()"
   ]
  },
  {
   "cell_type": "markdown",
   "metadata": {},
   "source": [
    "# labels for missing tracks"
   ]
  },
  {
   "cell_type": "code",
   "execution_count": 22,
   "metadata": {},
   "outputs": [
    {
     "data": {
      "text/plain": [
       "StandardScaler(copy=True, with_mean=True, with_std=True)"
      ]
     },
     "execution_count": 22,
     "metadata": {},
     "output_type": "execute_result"
    }
   ],
   "source": [
    "train_in = train[[\"ITS_mr\", \"TOF_mr\", \"TPCROC0_mr\", \"TPCROC1_mr\", \"TPCROC2_mr\", \"TRD_mr\"]]\n",
    "train_out = train[[\"ITS\", \"TOF\", \"TPCROC0\", \"TPCROC1\", \"TPCROC2\", \"TRD\"]]\n",
    "test_in = test[[\"ITS_mr\", \"TOF_mr\", \"TPCROC0_mr\", \"TPCROC1_mr\", \"TPCROC2_mr\", \"TRD_mr\"]]\n",
    "test_out = test[[\"ITS\", \"TOF\", \"TPCROC0\", \"TPCROC1\", \"TPCROC2\", \"TRD\"]]\n",
    "scaler_in = StandardScaler()\n",
    "scaler_out = StandardScaler()\n",
    "scaler_in.fit(train_in)\n",
    "scaler_out.fit(train_out)"
   ]
  },
  {
   "cell_type": "code",
   "execution_count": 23,
   "metadata": {},
   "outputs": [
    {
     "name": "stdout",
     "output_type": "stream",
     "text": [
      "Train on 20000 samples, validate on 20000 samples\n",
      "Epoch 1/5\n",
      "20000/20000 [==============================] - 7s 334us/step - loss: 0.0491 - mean_squared_error: 0.0491 - val_loss: 0.0431 - val_mean_squared_error: 0.0431\n",
      "Epoch 2/5\n",
      "20000/20000 [==============================] - 5s 256us/step - loss: 0.0457 - mean_squared_error: 0.0457 - val_loss: 0.0621 - val_mean_squared_error: 0.0621\n",
      "Epoch 3/5\n",
      "20000/20000 [==============================] - 5s 264us/step - loss: 0.0441 - mean_squared_error: 0.0441 - val_loss: 0.0458 - val_mean_squared_error: 0.0458\n",
      "Epoch 4/5\n",
      "20000/20000 [==============================] - 5s 255us/step - loss: 0.0434 - mean_squared_error: 0.0434 - val_loss: 0.0431 - val_mean_squared_error: 0.0431\n",
      "Epoch 5/5\n",
      "20000/20000 [==============================] - 5s 250us/step - loss: 0.0440 - mean_squared_error: 0.0440 - val_loss: 0.0408 - val_mean_squared_error: 0.0408\n"
     ]
    },
    {
     "data": {
      "text/plain": [
       "<tensorflow.python.keras.callbacks.History at 0x7fc08c455ad0>"
      ]
     },
     "execution_count": 23,
     "metadata": {},
     "output_type": "execute_result"
    }
   ],
   "source": [
    "modell.fit(scaler_in.transform(train_in), scaler_out.transform(train_out), epochs=5, batch_size=32, \n",
    "          validation_data=[scaler_in.transform(test_in),scaler_out.transform(test_out)])"
   ]
  },
  {
   "cell_type": "code",
   "execution_count": 24,
   "metadata": {},
   "outputs": [
    {
     "data": {
      "text/html": [
       "<div>\n",
       "<style scoped>\n",
       "    .dataframe tbody tr th:only-of-type {\n",
       "        vertical-align: middle;\n",
       "    }\n",
       "\n",
       "    .dataframe tbody tr th {\n",
       "        vertical-align: top;\n",
       "    }\n",
       "\n",
       "    .dataframe thead th {\n",
       "        text-align: right;\n",
       "    }\n",
       "</style>\n",
       "<table border=\"1\" class=\"dataframe\">\n",
       "  <thead>\n",
       "    <tr style=\"text-align: right;\">\n",
       "      <th></th>\n",
       "      <th>level_0</th>\n",
       "      <th>index</th>\n",
       "      <th>ITS</th>\n",
       "      <th>TOF</th>\n",
       "      <th>TPCROC0</th>\n",
       "      <th>TPCROC1</th>\n",
       "      <th>TPCROC2</th>\n",
       "      <th>TRD</th>\n",
       "      <th>p</th>\n",
       "      <th>particle</th>\n",
       "      <th>...</th>\n",
       "      <th>TPCROC2_0</th>\n",
       "      <th>TRD_mr</th>\n",
       "      <th>TRD_w</th>\n",
       "      <th>TRD_0</th>\n",
       "      <th>ITS_ae</th>\n",
       "      <th>TOF_ae</th>\n",
       "      <th>TPCROC0_ae</th>\n",
       "      <th>TPCROC1_ae</th>\n",
       "      <th>TPCROC2_ae</th>\n",
       "      <th>TRD_ae</th>\n",
       "    </tr>\n",
       "  </thead>\n",
       "  <tbody>\n",
       "    <tr>\n",
       "      <th>0</th>\n",
       "      <td>0</td>\n",
       "      <td>7811</td>\n",
       "      <td>0.001794</td>\n",
       "      <td>0.948008</td>\n",
       "      <td>1.041207</td>\n",
       "      <td>1.042903</td>\n",
       "      <td>1.138377</td>\n",
       "      <td>0.938865</td>\n",
       "      <td>0.334052</td>\n",
       "      <td>0</td>\n",
       "      <td>...</td>\n",
       "      <td>1.138377</td>\n",
       "      <td>0.938865</td>\n",
       "      <td>1.0</td>\n",
       "      <td>0.938865</td>\n",
       "      <td>0.001763</td>\n",
       "      <td>0.960735</td>\n",
       "      <td>1.051654</td>\n",
       "      <td>1.028544</td>\n",
       "      <td>1.043299</td>\n",
       "      <td>1.030806</td>\n",
       "    </tr>\n",
       "    <tr>\n",
       "      <th>1</th>\n",
       "      <td>1</td>\n",
       "      <td>12703</td>\n",
       "      <td>0.002671</td>\n",
       "      <td>0.909689</td>\n",
       "      <td>1.705175</td>\n",
       "      <td>1.629766</td>\n",
       "      <td>1.537096</td>\n",
       "      <td>1.597416</td>\n",
       "      <td>3.395587</td>\n",
       "      <td>2</td>\n",
       "      <td>...</td>\n",
       "      <td>1.537096</td>\n",
       "      <td>1.597416</td>\n",
       "      <td>1.0</td>\n",
       "      <td>1.597416</td>\n",
       "      <td>0.002768</td>\n",
       "      <td>0.944207</td>\n",
       "      <td>1.619306</td>\n",
       "      <td>1.599866</td>\n",
       "      <td>1.617521</td>\n",
       "      <td>1.601192</td>\n",
       "    </tr>\n",
       "    <tr>\n",
       "      <th>2</th>\n",
       "      <td>2</td>\n",
       "      <td>38477</td>\n",
       "      <td>0.002263</td>\n",
       "      <td>0.797245</td>\n",
       "      <td>1.589065</td>\n",
       "      <td>1.572257</td>\n",
       "      <td>1.281461</td>\n",
       "      <td>1.413690</td>\n",
       "      <td>0.541052</td>\n",
       "      <td>4</td>\n",
       "      <td>...</td>\n",
       "      <td>1.281461</td>\n",
       "      <td>1.413690</td>\n",
       "      <td>1.0</td>\n",
       "      <td>1.413690</td>\n",
       "      <td>0.002395</td>\n",
       "      <td>0.943591</td>\n",
       "      <td>1.453990</td>\n",
       "      <td>1.427630</td>\n",
       "      <td>1.446205</td>\n",
       "      <td>1.428187</td>\n",
       "    </tr>\n",
       "  </tbody>\n",
       "</table>\n",
       "<p>3 rows × 35 columns</p>\n",
       "</div>"
      ],
      "text/plain": [
       "   level_0  index       ITS       TOF   TPCROC0   TPCROC1   TPCROC2       TRD  \\\n",
       "0        0   7811  0.001794  0.948008  1.041207  1.042903  1.138377  0.938865   \n",
       "1        1  12703  0.002671  0.909689  1.705175  1.629766  1.537096  1.597416   \n",
       "2        2  38477  0.002263  0.797245  1.589065  1.572257  1.281461  1.413690   \n",
       "\n",
       "          p  particle    ...     TPCROC2_0    TRD_mr  TRD_w     TRD_0  \\\n",
       "0  0.334052         0    ...      1.138377  0.938865    1.0  0.938865   \n",
       "1  3.395587         2    ...      1.537096  1.597416    1.0  1.597416   \n",
       "2  0.541052         4    ...      1.281461  1.413690    1.0  1.413690   \n",
       "\n",
       "     ITS_ae    TOF_ae  TPCROC0_ae  TPCROC1_ae  TPCROC2_ae    TRD_ae  \n",
       "0  0.001763  0.960735    1.051654    1.028544    1.043299  1.030806  \n",
       "1  0.002768  0.944207    1.619306    1.599866    1.617521  1.601192  \n",
       "2  0.002395  0.943591    1.453990    1.427630    1.446205  1.428187  \n",
       "\n",
       "[3 rows x 35 columns]"
      ]
     },
     "execution_count": 24,
     "metadata": {},
     "output_type": "execute_result"
    }
   ],
   "source": [
    "out = scaler_out.inverse_transform(modell.predict(scaler_in.transform(test_in)))\n",
    "AE_predict = pd.DataFrame(out)\n",
    "AE_predict.columns = [\"ITS_ae\", \"TOF_ae\", \"TPCROC0_ae\", \"TPCROC1_ae\", \"TPCROC2_ae\", \"TRD_ae\"]\n",
    "#test = test.reset_index()\n",
    "df_test = pd.concat([test,AE_predict], axis = 1)\n",
    "df_test.head(3)"
   ]
  },
  {
   "cell_type": "code",
   "execution_count": 25,
   "metadata": {},
   "outputs": [
    {
     "data": {
      "image/png": "[encoded data removed]",
      "text/plain": [
       "<Figure size 432x288 with 1 Axes>"
      ]
     },
     "metadata": {
      "needs_background": "light"
     },
     "output_type": "display_data"
    },
    {
     "data": {
      "image/png": "[encoded data removed]",
      "text/plain": [
       "<Figure size 432x288 with 1 Axes>"
      ]
     },
     "metadata": {
      "needs_background": "light"
     },
     "output_type": "display_data"
    }
   ],
   "source": [
    "plt.hist2d(df_all[\"p\"], df_all[\"TPCROC1\"], bins=(100, 100), cmap=plt.cm.jet, range = [[0.2, 2], [0.5, 3]])\n",
    "plt.show()\n",
    "plt.hist2d(df_test[\"p\"], df_test[\"TPCROC1_ae\"], bins=(100, 100), cmap=plt.cm.jet, range = [[0.2, 2], [0.5, 3]])\n",
    "plt.show()"
   ]
  },
  {
   "cell_type": "markdown",
   "metadata": {},
   "source": [
    "# mean input, zero weights for missing values"
   ]
  },
  {
   "cell_type": "code",
   "execution_count": 26,
   "metadata": {},
   "outputs": [],
   "source": [
    "train_mr = train[[\"ITS_mr\", \"TOF_mr\", \"TPCROC0_mr\", \"TPCROC1_mr\", \"TPCROC2_mr\", \"TRD_mr\"]]\n",
    "test_mr = test[[\"ITS_mr\", \"TOF_mr\", \"TPCROC0_mr\", \"TPCROC1_mr\", \"TPCROC2_mr\", \"TRD_mr\"]]\n",
    "train_w    = train[[\"ITS_w\", \"TOF_w\", \"TPCROC0_w\", \"TPCROC1_w\", \"TPCROC2_w\", \"TRD_w\"]]\n",
    "test_w     = test[[\"ITS_w\", \"TOF_w\", \"TPCROC0_w\", \"TPCROC1_w\", \"TPCROC2_w\", \"TRD_w\"]]"
   ]
  },
  {
   "cell_type": "code",
   "execution_count": 27,
   "metadata": {},
   "outputs": [
    {
     "data": {
      "text/plain": [
       "StandardScaler(copy=True, with_mean=True, with_std=True)"
      ]
     },
     "execution_count": 27,
     "metadata": {},
     "output_type": "execute_result"
    }
   ],
   "source": [
    "scaler_mr = StandardScaler()\n",
    "scaler_mr.fit(train_mr)"
   ]
  },
  {
   "cell_type": "code",
   "execution_count": 28,
   "metadata": {},
   "outputs": [
    {
     "name": "stdout",
     "output_type": "stream",
     "text": [
      "Train on 20000 samples, validate on 20000 samples\n",
      "Epoch 1/5\n",
      "20000/20000 [==============================] - 7s 333us/step - loss: 0.0364 - mean_squared_error: 0.0787 - val_loss: 0.0749 - val_mean_squared_error: 0.0789\n",
      "Epoch 2/5\n",
      "20000/20000 [==============================] - 5s 259us/step - loss: 0.0347 - mean_squared_error: 0.0766 - val_loss: 0.0738 - val_mean_squared_error: 0.0777\n",
      "Epoch 3/5\n",
      "20000/20000 [==============================] - 5s 259us/step - loss: 0.0350 - mean_squared_error: 0.0760 - val_loss: 0.0749 - val_mean_squared_error: 0.0789\n",
      "Epoch 4/5\n",
      "20000/20000 [==============================] - 5s 258us/step - loss: 0.0337 - mean_squared_error: 0.0759 - val_loss: 0.0720 - val_mean_squared_error: 0.0760\n",
      "Epoch 5/5\n",
      "20000/20000 [==============================] - 5s 267us/step - loss: 0.0332 - mean_squared_error: 0.0755 - val_loss: 0.0709 - val_mean_squared_error: 0.0747\n"
     ]
    },
    {
     "data": {
      "text/plain": [
       "<tensorflow.python.keras.callbacks.History at 0x7fc084364350>"
      ]
     },
     "execution_count": 28,
     "metadata": {},
     "output_type": "execute_result"
    }
   ],
   "source": [
    "model1.fit([scaler_mr.transform(train_mr),train_w], scaler_mr.transform(train_mr), epochs=5, batch_size=32, \n",
    "          validation_data=[[scaler_mr.transform(test_mr),train_w],scaler_mr.transform(test_mr)])"
   ]
  },
  {
   "cell_type": "code",
   "execution_count": 29,
   "metadata": {},
   "outputs": [
    {
     "data": {
      "text/html": [
       "<div>\n",
       "<style scoped>\n",
       "    .dataframe tbody tr th:only-of-type {\n",
       "        vertical-align: middle;\n",
       "    }\n",
       "\n",
       "    .dataframe tbody tr th {\n",
       "        vertical-align: top;\n",
       "    }\n",
       "\n",
       "    .dataframe thead th {\n",
       "        text-align: right;\n",
       "    }\n",
       "</style>\n",
       "<table border=\"1\" class=\"dataframe\">\n",
       "  <thead>\n",
       "    <tr style=\"text-align: right;\">\n",
       "      <th></th>\n",
       "      <th>level_0</th>\n",
       "      <th>index</th>\n",
       "      <th>ITS</th>\n",
       "      <th>TOF</th>\n",
       "      <th>TPCROC0</th>\n",
       "      <th>TPCROC1</th>\n",
       "      <th>TPCROC2</th>\n",
       "      <th>TRD</th>\n",
       "      <th>p</th>\n",
       "      <th>particle</th>\n",
       "      <th>...</th>\n",
       "      <th>TPCROC2_0</th>\n",
       "      <th>TRD_mr</th>\n",
       "      <th>TRD_w</th>\n",
       "      <th>TRD_0</th>\n",
       "      <th>ITS_ae</th>\n",
       "      <th>TOF_ae</th>\n",
       "      <th>TPCROC0_ae</th>\n",
       "      <th>TPCROC1_ae</th>\n",
       "      <th>TPCROC2_ae</th>\n",
       "      <th>TRD_ae</th>\n",
       "    </tr>\n",
       "  </thead>\n",
       "  <tbody>\n",
       "    <tr>\n",
       "      <th>0</th>\n",
       "      <td>0</td>\n",
       "      <td>7811</td>\n",
       "      <td>0.001794</td>\n",
       "      <td>0.948008</td>\n",
       "      <td>1.041207</td>\n",
       "      <td>1.042903</td>\n",
       "      <td>1.138377</td>\n",
       "      <td>0.938865</td>\n",
       "      <td>0.334052</td>\n",
       "      <td>0</td>\n",
       "      <td>...</td>\n",
       "      <td>1.138377</td>\n",
       "      <td>0.938865</td>\n",
       "      <td>1.0</td>\n",
       "      <td>0.938865</td>\n",
       "      <td>0.001664</td>\n",
       "      <td>0.946046</td>\n",
       "      <td>1.053349</td>\n",
       "      <td>1.049958</td>\n",
       "      <td>1.047745</td>\n",
       "      <td>1.035317</td>\n",
       "    </tr>\n",
       "    <tr>\n",
       "      <th>1</th>\n",
       "      <td>1</td>\n",
       "      <td>12703</td>\n",
       "      <td>0.002671</td>\n",
       "      <td>0.909689</td>\n",
       "      <td>1.705175</td>\n",
       "      <td>1.629766</td>\n",
       "      <td>1.537096</td>\n",
       "      <td>1.597416</td>\n",
       "      <td>3.395587</td>\n",
       "      <td>2</td>\n",
       "      <td>...</td>\n",
       "      <td>1.537096</td>\n",
       "      <td>1.597416</td>\n",
       "      <td>1.0</td>\n",
       "      <td>1.597416</td>\n",
       "      <td>0.002739</td>\n",
       "      <td>0.916400</td>\n",
       "      <td>1.615204</td>\n",
       "      <td>1.609016</td>\n",
       "      <td>1.608764</td>\n",
       "      <td>1.611905</td>\n",
       "    </tr>\n",
       "    <tr>\n",
       "      <th>2</th>\n",
       "      <td>2</td>\n",
       "      <td>38477</td>\n",
       "      <td>0.002263</td>\n",
       "      <td>0.797245</td>\n",
       "      <td>1.589065</td>\n",
       "      <td>1.572257</td>\n",
       "      <td>1.281461</td>\n",
       "      <td>1.413690</td>\n",
       "      <td>0.541052</td>\n",
       "      <td>4</td>\n",
       "      <td>...</td>\n",
       "      <td>1.281461</td>\n",
       "      <td>1.413690</td>\n",
       "      <td>1.0</td>\n",
       "      <td>1.413690</td>\n",
       "      <td>0.002353</td>\n",
       "      <td>0.913534</td>\n",
       "      <td>1.448515</td>\n",
       "      <td>1.442156</td>\n",
       "      <td>1.439780</td>\n",
       "      <td>1.440622</td>\n",
       "    </tr>\n",
       "  </tbody>\n",
       "</table>\n",
       "<p>3 rows × 35 columns</p>\n",
       "</div>"
      ],
      "text/plain": [
       "   level_0  index       ITS       TOF   TPCROC0   TPCROC1   TPCROC2       TRD  \\\n",
       "0        0   7811  0.001794  0.948008  1.041207  1.042903  1.138377  0.938865   \n",
       "1        1  12703  0.002671  0.909689  1.705175  1.629766  1.537096  1.597416   \n",
       "2        2  38477  0.002263  0.797245  1.589065  1.572257  1.281461  1.413690   \n",
       "\n",
       "          p  particle    ...     TPCROC2_0    TRD_mr  TRD_w     TRD_0  \\\n",
       "0  0.334052         0    ...      1.138377  0.938865    1.0  0.938865   \n",
       "1  3.395587         2    ...      1.537096  1.597416    1.0  1.597416   \n",
       "2  0.541052         4    ...      1.281461  1.413690    1.0  1.413690   \n",
       "\n",
       "     ITS_ae    TOF_ae  TPCROC0_ae  TPCROC1_ae  TPCROC2_ae    TRD_ae  \n",
       "0  0.001664  0.946046    1.053349    1.049958    1.047745  1.035317  \n",
       "1  0.002739  0.916400    1.615204    1.609016    1.608764  1.611905  \n",
       "2  0.002353  0.913534    1.448515    1.442156    1.439780  1.440622  \n",
       "\n",
       "[3 rows x 35 columns]"
      ]
     },
     "execution_count": 29,
     "metadata": {},
     "output_type": "execute_result"
    }
   ],
   "source": [
    "out = scaler_mr.inverse_transform(model1.predict([scaler_mr.transform(test_mr),test_w]))\n",
    "AE_predict = pd.DataFrame(out)\n",
    "AE_predict.columns = [\"ITS_ae\", \"TOF_ae\", \"TPCROC0_ae\", \"TPCROC1_ae\", \"TPCROC2_ae\", \"TRD_ae\"]\n",
    "#test = test.reset_index()\n",
    "df_test = pd.concat([test,AE_predict], axis = 1)\n",
    "df_test.head(3)"
   ]
  },
  {
   "cell_type": "code",
   "execution_count": 30,
   "metadata": {},
   "outputs": [
    {
     "data": {
      "image/png": "[encoded data removed]",
      "text/plain": [
       "<Figure size 432x288 with 1 Axes>"
      ]
     },
     "metadata": {
      "needs_background": "light"
     },
     "output_type": "display_data"
    },
    {
     "data": {
      "image/png": "[encoded data removed]",
      "text/plain": [
       "<Figure size 432x288 with 1 Axes>"
      ]
     },
     "metadata": {
      "needs_background": "light"
     },
     "output_type": "display_data"
    }
   ],
   "source": [
    "plt.hist2d(df_all[\"p\"], df_all[\"TPCROC1\"], bins=(100, 100), cmap=plt.cm.jet, range = [[0.2, 2], [0.5, 3]])\n",
    "plt.show()\n",
    "plt.hist2d(df_test[\"p\"], df_test[\"TPCROC1_ae\"], bins=(100, 100), cmap=plt.cm.jet, range = [[0.2, 2], [0.5, 3]])\n",
    "plt.show()"
   ]
  },
  {
   "cell_type": "markdown",
   "metadata": {},
   "source": [
    "# second iteration, replace missing values by values from first iteration"
   ]
  },
  {
   "cell_type": "code",
   "execution_count": 31,
   "metadata": {},
   "outputs": [],
   "source": [
    "# stage 2\n",
    "stage2_data = df_stage_2[[\"ITS_mr\", \"TOF_mr\", \"TPCROC0_mr\", \"TPCROC1_mr\", \"TPCROC2_mr\", \"TRD_mr\"]]\n",
    "out = scaler_mr.inverse_transform(models2.predict(scaler_mr.transform(stage2_data)))\n",
    "AE_predict = pd.DataFrame(out)\n",
    "AE_predict.columns = [\"ITS_ae\", \"TOF_ae\", \"TPCROC0_ae\", \"TPCROC1_ae\", \"TPCROC2_ae\", \"TRD_ae\"]\n",
    "for i ,name in enumerate(['ITS','TOF','TPCROC0','TPCROC1','TPCROC2','TRD']):\n",
    "    # calculate \"flip= 0/1\"\n",
    "    f=(np.array(df_stage_2['flips'])>>i)&1\n",
    "    m=AE_predict[name+'_ae']\n",
    "    df_stage_2.loc[:,name+'_s2']= df_stage_2[name].multiply(f,axis='index')+m*(1-f)"
   ]
  },
  {
   "cell_type": "code",
   "execution_count": 32,
   "metadata": {},
   "outputs": [],
   "source": [
    "train, test =train_test_split(df_stage_2, test_size=0.5)\n",
    "train_s2 = train[[\"ITS_s2\", \"TOF_s2\", \"TPCROC0_s2\", \"TPCROC1_s2\", \"TPCROC2_s2\", \"TRD_s2\"]]\n",
    "test_s2 = test[[\"ITS_s2\", \"TOF_s2\", \"TPCROC0_s2\", \"TPCROC1_s2\", \"TPCROC2_s2\", \"TRD_s2\"]]"
   ]
  },
  {
   "cell_type": "code",
   "execution_count": 33,
   "metadata": {},
   "outputs": [
    {
     "name": "stdout",
     "output_type": "stream",
     "text": [
      "Train on 20000 samples, validate on 20000 samples\n",
      "Epoch 1/5\n",
      "20000/20000 [==============================] - 7s 362us/step - loss: 0.0304 - mean_squared_error: 0.0304 - val_loss: 0.0291 - val_mean_squared_error: 0.0291\n",
      "Epoch 2/5\n",
      "20000/20000 [==============================] - 5s 268us/step - loss: 0.0298 - mean_squared_error: 0.0298 - val_loss: 0.0307 - val_mean_squared_error: 0.0307\n",
      "Epoch 3/5\n",
      "20000/20000 [==============================] - 5s 267us/step - loss: 0.0292 - mean_squared_error: 0.0292 - val_loss: 0.0303 - val_mean_squared_error: 0.0303\n",
      "Epoch 4/5\n",
      "20000/20000 [==============================] - 5s 266us/step - loss: 0.0302 - mean_squared_error: 0.0302 - val_loss: 0.0285 - val_mean_squared_error: 0.0285\n",
      "Epoch 5/5\n",
      "20000/20000 [==============================] - 5s 265us/step - loss: 0.0292 - mean_squared_error: 0.0292 - val_loss: 0.0299 - val_mean_squared_error: 0.0299\n"
     ]
    },
    {
     "data": {
      "text/plain": [
       "<tensorflow.python.keras.callbacks.History at 0x7fc0847e7b50>"
      ]
     },
     "execution_count": 33,
     "metadata": {},
     "output_type": "execute_result"
    }
   ],
   "source": [
    "scaler_s2 = StandardScaler()\n",
    "scaler_s2.fit(train_s2)\n",
    "models2.fit(scaler_s2.transform(train_s2), scaler_s2.transform(train_s2), epochs=5, batch_size=32, \n",
    "          validation_data=[scaler_s2.transform(test_s2),scaler_s2.transform(test_s2)])"
   ]
  },
  {
   "cell_type": "code",
   "execution_count": 34,
   "metadata": {},
   "outputs": [
    {
     "data": {
      "text/html": [
       "<div>\n",
       "<style scoped>\n",
       "    .dataframe tbody tr th:only-of-type {\n",
       "        vertical-align: middle;\n",
       "    }\n",
       "\n",
       "    .dataframe tbody tr th {\n",
       "        vertical-align: top;\n",
       "    }\n",
       "\n",
       "    .dataframe thead th {\n",
       "        text-align: right;\n",
       "    }\n",
       "</style>\n",
       "<table border=\"1\" class=\"dataframe\">\n",
       "  <thead>\n",
       "    <tr style=\"text-align: right;\">\n",
       "      <th></th>\n",
       "      <th>index</th>\n",
       "      <th>ITS</th>\n",
       "      <th>TOF</th>\n",
       "      <th>TPCROC0</th>\n",
       "      <th>TPCROC1</th>\n",
       "      <th>TPCROC2</th>\n",
       "      <th>TRD</th>\n",
       "      <th>p</th>\n",
       "      <th>particle</th>\n",
       "      <th>flips</th>\n",
       "      <th>...</th>\n",
       "      <th>TPCROC0_s2</th>\n",
       "      <th>TPCROC1_s2</th>\n",
       "      <th>TPCROC2_s2</th>\n",
       "      <th>TRD_s2</th>\n",
       "      <th>ITS_ae</th>\n",
       "      <th>TOF_ae</th>\n",
       "      <th>TPCROC0_ae</th>\n",
       "      <th>TPCROC1_ae</th>\n",
       "      <th>TPCROC2_ae</th>\n",
       "      <th>TRD_ae</th>\n",
       "    </tr>\n",
       "  </thead>\n",
       "  <tbody>\n",
       "    <tr>\n",
       "      <th>0</th>\n",
       "      <td>10322</td>\n",
       "      <td>0.002704</td>\n",
       "      <td>0.732140</td>\n",
       "      <td>1.508346</td>\n",
       "      <td>1.742123</td>\n",
       "      <td>1.594049</td>\n",
       "      <td>1.688792</td>\n",
       "      <td>4.394304</td>\n",
       "      <td>2</td>\n",
       "      <td>31</td>\n",
       "      <td>...</td>\n",
       "      <td>1.508346</td>\n",
       "      <td>1.742123</td>\n",
       "      <td>1.594049</td>\n",
       "      <td>1.597327</td>\n",
       "      <td>0.002645</td>\n",
       "      <td>0.733805</td>\n",
       "      <td>1.574466</td>\n",
       "      <td>1.536682</td>\n",
       "      <td>1.548998</td>\n",
       "      <td>1.538450</td>\n",
       "    </tr>\n",
       "    <tr>\n",
       "      <th>1</th>\n",
       "      <td>17780</td>\n",
       "      <td>0.002604</td>\n",
       "      <td>1.046529</td>\n",
       "      <td>1.562858</td>\n",
       "      <td>1.650241</td>\n",
       "      <td>1.442308</td>\n",
       "      <td>1.568808</td>\n",
       "      <td>0.370109</td>\n",
       "      <td>2</td>\n",
       "      <td>63</td>\n",
       "      <td>...</td>\n",
       "      <td>1.562858</td>\n",
       "      <td>1.650241</td>\n",
       "      <td>1.442308</td>\n",
       "      <td>1.568808</td>\n",
       "      <td>0.002613</td>\n",
       "      <td>1.041425</td>\n",
       "      <td>1.561822</td>\n",
       "      <td>1.539439</td>\n",
       "      <td>1.558715</td>\n",
       "      <td>1.557867</td>\n",
       "    </tr>\n",
       "    <tr>\n",
       "      <th>2</th>\n",
       "      <td>29238</td>\n",
       "      <td>0.005684</td>\n",
       "      <td>0.533311</td>\n",
       "      <td>2.656244</td>\n",
       "      <td>2.986480</td>\n",
       "      <td>2.758478</td>\n",
       "      <td>2.723266</td>\n",
       "      <td>0.538645</td>\n",
       "      <td>3</td>\n",
       "      <td>31</td>\n",
       "      <td>...</td>\n",
       "      <td>2.656244</td>\n",
       "      <td>2.986480</td>\n",
       "      <td>2.758478</td>\n",
       "      <td>2.723583</td>\n",
       "      <td>0.005308</td>\n",
       "      <td>0.536527</td>\n",
       "      <td>2.770090</td>\n",
       "      <td>2.674274</td>\n",
       "      <td>2.827383</td>\n",
       "      <td>2.730608</td>\n",
       "    </tr>\n",
       "  </tbody>\n",
       "</table>\n",
       "<p>3 rows × 40 columns</p>\n",
       "</div>"
      ],
      "text/plain": [
       "   index       ITS       TOF   TPCROC0   TPCROC1   TPCROC2       TRD  \\\n",
       "0  10322  0.002704  0.732140  1.508346  1.742123  1.594049  1.688792   \n",
       "1  17780  0.002604  1.046529  1.562858  1.650241  1.442308  1.568808   \n",
       "2  29238  0.005684  0.533311  2.656244  2.986480  2.758478  2.723266   \n",
       "\n",
       "          p  particle  flips    ...     TPCROC0_s2  TPCROC1_s2  TPCROC2_s2  \\\n",
       "0  4.394304         2     31    ...       1.508346    1.742123    1.594049   \n",
       "1  0.370109         2     63    ...       1.562858    1.650241    1.442308   \n",
       "2  0.538645         3     31    ...       2.656244    2.986480    2.758478   \n",
       "\n",
       "     TRD_s2    ITS_ae    TOF_ae  TPCROC0_ae  TPCROC1_ae  TPCROC2_ae    TRD_ae  \n",
       "0  1.597327  0.002645  0.733805    1.574466    1.536682    1.548998  1.538450  \n",
       "1  1.568808  0.002613  1.041425    1.561822    1.539439    1.558715  1.557867  \n",
       "2  2.723583  0.005308  0.536527    2.770090    2.674274    2.827383  2.730608  \n",
       "\n",
       "[3 rows x 40 columns]"
      ]
     },
     "execution_count": 34,
     "metadata": {},
     "output_type": "execute_result"
    }
   ],
   "source": [
    "out = scaler_s2.inverse_transform(models2.predict(scaler_s2.transform(test_s2)))\n",
    "AE_predict = pd.DataFrame(out)\n",
    "AE_predict.columns = [\"ITS_ae\", \"TOF_ae\", \"TPCROC0_ae\", \"TPCROC1_ae\", \"TPCROC2_ae\", \"TRD_ae\"]\n",
    "test = test.reset_index()\n",
    "df_test = pd.concat([test,AE_predict], axis = 1)\n",
    "df_test.head(3)"
   ]
  },
  {
   "cell_type": "code",
   "execution_count": 35,
   "metadata": {},
   "outputs": [
    {
     "data": {
      "image/png": "[encoded data removed]",
      "text/plain": [
       "<Figure size 432x288 with 1 Axes>"
      ]
     },
     "metadata": {
      "needs_background": "light"
     },
     "output_type": "display_data"
    },
    {
     "data": {
      "image/png": "[encoded data removed]",
      "text/plain": [
       "<Figure size 432x288 with 1 Axes>"
      ]
     },
     "metadata": {
      "needs_background": "light"
     },
     "output_type": "display_data"
    }
   ],
   "source": [
    "plt.hist2d(df_all[\"p\"], df_all[\"TPCROC1\"], bins=(100, 100), cmap=plt.cm.jet, range = [[0.2, 2], [0.5, 3]])\n",
    "plt.show()\n",
    "plt.hist2d(df_test[\"p\"], df_test[\"TPCROC1_ae\"], bins=(100, 100), cmap=plt.cm.jet, range = [[0.2, 2], [0.5, 3]])\n",
    "plt.show()"
   ]
  },
  {
   "cell_type": "code",
   "execution_count": null,
   "metadata": {},
   "outputs": [],
   "source": []
  }
 ],
 "metadata": {
  "kernelspec": {
   "display_name": "Python 3",
   "language": "python",
   "name": "python3"
  },
  "language_info": {
   "codemirror_mode": {
    "name": "ipython",
    "version": 2
   },
   "file_extension": ".py",
   "mimetype": "text/x-python",
   "name": "python",
   "nbconvert_exporter": "python",
   "pygments_lexer": "ipython2",
   "version": "2.7.12"
  }
 },
 "nbformat": 4,
 "nbformat_minor": 2
}
