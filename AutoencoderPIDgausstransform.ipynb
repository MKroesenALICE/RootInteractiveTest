{
 "cells": [
  {
   "cell_type": "code",
   "execution_count": 1,
   "metadata": {},
   "outputs": [
    {
     "name": "stdout",
     "output_type": "stream",
     "text": [
      "Welcome to JupyROOT 6.10/08\n"
     ]
    }
   ],
   "source": [
    "import ROOT\n",
    "import numpy as np\n",
    "import matplotlib.pyplot as plt\n",
    "import math\n",
    "import pandas as pd\n",
    "from sklearn.model_selection import train_test_split\n",
    "from sklearn.preprocessing import QuantileTransformer as StandardScaler\n",
    "from tensorflow.keras.models import Sequential, Model\n",
    "from tensorflow.keras.layers import Dense, Input, GaussianNoise\n",
    "import tensorflow.keras.backend as K\n",
    "import tensorflow as tf\n",
    "from functools import partial"
   ]
  },
  {
   "cell_type": "code",
   "execution_count": 2,
   "metadata": {},
   "outputs": [],
   "source": [
    "n_particles = 10000/2\n",
    "p = np.random.uniform(0.3,10.,n_particles)\n",
    "mp = np.random.uniform(1/10.,1/0.3,n_particles)\n",
    "p_mp = 1./mp "
   ]
  },
  {
   "cell_type": "code",
   "execution_count": 3,
   "metadata": {},
   "outputs": [
    {
     "data": {
      "image/png": "[encoded data removed]",
      "text/plain": [
       "<Figure size 432x288 with 1 Axes>"
      ]
     },
     "metadata": {
      "needs_background": "light"
     },
     "output_type": "display_data"
    },
    {
     "data": {
      "image/png": "[encoded data removed]",
      "text/plain": [
       "<Figure size 432x288 with 1 Axes>"
      ]
     },
     "metadata": {
      "needs_background": "light"
     },
     "output_type": "display_data"
    }
   ],
   "source": [
    "plt.hist(p_mp,50,range=(0.,10.))\n",
    "plt.show()\n",
    "p_ges = np.concatenate([p,p_mp])\n",
    "plt.hist(p_ges,50,range=(0,10))\n",
    "plt.show()"
   ]
  },
  {
   "cell_type": "code",
   "execution_count": 4,
   "metadata": {},
   "outputs": [
    {
     "data": {
      "text/plain": [
       "[0.139, 0.105, 0.000511, 0.938, 0.494]"
      ]
     },
     "execution_count": 4,
     "metadata": {},
     "output_type": "execute_result"
    }
   ],
   "source": [
    "mass_pi = 0.139\n",
    "mass_mu = 0.105\n",
    "mass_e = 0.000511\n",
    "mass_p = 0.938\n",
    "mass_K = 0.494\n",
    "masses = [mass_pi, mass_mu, mass_e, mass_p, mass_K]\n",
    "masses"
   ]
  },
  {
   "cell_type": "code",
   "execution_count": 5,
   "metadata": {},
   "outputs": [],
   "source": [
    "signals = []\n",
    "for mass in masses:\n",
    "    ITS_tmp = []\n",
    "    TPCROC0_tmp = []\n",
    "    TPCROC1_tmp = []\n",
    "    TPCROC2_tmp = []\n",
    "    TRD_tmp = []\n",
    "    TOF_tmp = []\n",
    "    for p in p_ges:\n",
    "        bg = p/mass\n",
    "        beta = bg/math.sqrt(1.+ bg*bg);\n",
    "        BBS = ROOT.AliExternalTrackParam.BetheBlochSolid(bg)\n",
    "        BBA = ROOT.AliExternalTrackParam.BetheBlochAleph(bg)\n",
    "        ITS_tmp.append(np.random.normal(BBS,0.1*BBS) ) ## ITS dEdx = smeared gaus 10% \n",
    "        TPCROC0_tmp.append(np.random.normal(BBA,0.1*BBA) )## TPC dEdx = smeared gaus 10% for 1st layer\n",
    "        TPCROC1_tmp.append(np.random.normal(BBA,0.1*BBA) )  ## TPC dEdx = smeared gaus 10% for 2nd layer\n",
    "        TPCROC2_tmp.append(np.random.normal(BBA,0.1*BBA) )  ## TPC dEdx = smeared gaus 10% for 3d layer\n",
    "        TRD_tmp.append(np.random.normal(BBA,0.1*BBA) )  ## TRD dEdx = smeared gaus 10% \n",
    "        TOF_tmp.append(np.random.normal(beta,0.1*beta) )  ## TOF - smeared with .... gaussian\n",
    "    signals.append({'ITS': ITS_tmp, 'TPCROC0': TPCROC0_tmp, 'TPCROC1': TPCROC1_tmp, 'TPCROC1': TPCROC1_tmp, \n",
    "                    'TPCROC2': TPCROC2_tmp, 'TRD': TRD_tmp, 'TOF': TOF_tmp})"
   ]
  },
  {
   "cell_type": "code",
   "execution_count": 6,
   "metadata": {},
   "outputs": [
    {
     "data": {
      "text/plain": [
       "[]"
      ]
     },
     "execution_count": 6,
     "metadata": {},
     "output_type": "execute_result"
    },
    {
     "data": {
      "image/png": "[encoded data removed]",
      "text/plain": [
       "<Figure size 432x288 with 1 Axes>"
      ]
     },
     "metadata": {
      "needs_background": "light"
     },
     "output_type": "display_data"
    }
   ],
   "source": [
    "df_list=[]\n",
    "for i, val in enumerate(masses):\n",
    "    df = pd.DataFrame.from_dict(signals[i])\n",
    "    df['p'] = pd.Series(p_ges, index=df.index)\n",
    "    df['particle'] = pd.Series(i, index=df.index)\n",
    "    df_list.append(df)\n",
    "df_all = pd.concat([df_list[0],df_list[2],df_list[3],df_list[4]], ignore_index=True)\n",
    "plt.hist2d(df_all[\"p\"], df_all[\"TPCROC1\"], bins=(100, 100), cmap=plt.cm.jet, range = [[0.2, 2], [0.5, 3]])\n",
    "plt.plot()"
   ]
  },
  {
   "cell_type": "code",
   "execution_count": 7,
   "metadata": {},
   "outputs": [
    {
     "data": {
      "text/html": [
       "<div>\n",
       "<style scoped>\n",
       "    .dataframe tbody tr th:only-of-type {\n",
       "        vertical-align: middle;\n",
       "    }\n",
       "\n",
       "    .dataframe tbody tr th {\n",
       "        vertical-align: top;\n",
       "    }\n",
       "\n",
       "    .dataframe thead th {\n",
       "        text-align: right;\n",
       "    }\n",
       "</style>\n",
       "<table border=\"1\" class=\"dataframe\">\n",
       "  <thead>\n",
       "    <tr style=\"text-align: right;\">\n",
       "      <th></th>\n",
       "      <th>ITS</th>\n",
       "      <th>TOF</th>\n",
       "      <th>TPCROC0</th>\n",
       "      <th>TPCROC1</th>\n",
       "      <th>TPCROC2</th>\n",
       "      <th>TRD</th>\n",
       "      <th>p</th>\n",
       "      <th>particle</th>\n",
       "      <th>flips</th>\n",
       "    </tr>\n",
       "  </thead>\n",
       "  <tbody>\n",
       "    <tr>\n",
       "      <th>0</th>\n",
       "      <td>0.001493</td>\n",
       "      <td>1.139668</td>\n",
       "      <td>1.019214</td>\n",
       "      <td>1.067614</td>\n",
       "      <td>1.024972</td>\n",
       "      <td>0.936833</td>\n",
       "      <td>0.693183</td>\n",
       "      <td>0</td>\n",
       "      <td>63</td>\n",
       "    </tr>\n",
       "    <tr>\n",
       "      <th>1</th>\n",
       "      <td>0.002401</td>\n",
       "      <td>0.944738</td>\n",
       "      <td>1.339263</td>\n",
       "      <td>1.400783</td>\n",
       "      <td>1.323482</td>\n",
       "      <td>1.387548</td>\n",
       "      <td>6.764429</td>\n",
       "      <td>0</td>\n",
       "      <td>63</td>\n",
       "    </tr>\n",
       "    <tr>\n",
       "      <th>2</th>\n",
       "      <td>0.002118</td>\n",
       "      <td>0.911158</td>\n",
       "      <td>1.277372</td>\n",
       "      <td>1.340589</td>\n",
       "      <td>1.481076</td>\n",
       "      <td>1.343896</td>\n",
       "      <td>4.878680</td>\n",
       "      <td>0</td>\n",
       "      <td>63</td>\n",
       "    </tr>\n",
       "    <tr>\n",
       "      <th>3</th>\n",
       "      <td>0.002202</td>\n",
       "      <td>0.963982</td>\n",
       "      <td>1.362786</td>\n",
       "      <td>1.112496</td>\n",
       "      <td>1.151116</td>\n",
       "      <td>1.296877</td>\n",
       "      <td>4.466496</td>\n",
       "      <td>0</td>\n",
       "      <td>63</td>\n",
       "    </tr>\n",
       "    <tr>\n",
       "      <th>4</th>\n",
       "      <td>0.001995</td>\n",
       "      <td>0.999167</td>\n",
       "      <td>1.455165</td>\n",
       "      <td>1.368103</td>\n",
       "      <td>1.362519</td>\n",
       "      <td>1.388860</td>\n",
       "      <td>7.961384</td>\n",
       "      <td>0</td>\n",
       "      <td>63</td>\n",
       "    </tr>\n",
       "  </tbody>\n",
       "</table>\n",
       "</div>"
      ],
      "text/plain": [
       "        ITS       TOF   TPCROC0   TPCROC1   TPCROC2       TRD         p  \\\n",
       "0  0.001493  1.139668  1.019214  1.067614  1.024972  0.936833  0.693183   \n",
       "1  0.002401  0.944738  1.339263  1.400783  1.323482  1.387548  6.764429   \n",
       "2  0.002118  0.911158  1.277372  1.340589  1.481076  1.343896  4.878680   \n",
       "3  0.002202  0.963982  1.362786  1.112496  1.151116  1.296877  4.466496   \n",
       "4  0.001995  0.999167  1.455165  1.368103  1.362519  1.388860  7.961384   \n",
       "\n",
       "   particle  flips  \n",
       "0         0     63  \n",
       "1         0     63  \n",
       "2         0     63  \n",
       "3         0     63  \n",
       "4         0     63  "
      ]
     },
     "execution_count": 7,
     "metadata": {},
     "output_type": "execute_result"
    }
   ],
   "source": [
    "N=len(df_all)\n",
    "probability = 0.95\n",
    "\n",
    "flips_raw = (1*(np.random.random(size=6*N)<probability)).reshape(6,-1)\n",
    "\n",
    "flips=flips_raw[0]\n",
    "for i in range(1,6):\n",
    "    # (1<<i = 2**i)\n",
    "    flips=flips_raw[i]*(1<<i) + flips\n",
    "\n",
    "\n",
    "df_all.loc[:,'flips']=flips\n",
    "df_all.head(5)"
   ]
  },
  {
   "cell_type": "code",
   "execution_count": 8,
   "metadata": {},
   "outputs": [
    {
     "data": {
      "text/html": [
       "<div>\n",
       "<style scoped>\n",
       "    .dataframe tbody tr th:only-of-type {\n",
       "        vertical-align: middle;\n",
       "    }\n",
       "\n",
       "    .dataframe tbody tr th {\n",
       "        vertical-align: top;\n",
       "    }\n",
       "\n",
       "    .dataframe thead th {\n",
       "        text-align: right;\n",
       "    }\n",
       "</style>\n",
       "<table border=\"1\" class=\"dataframe\">\n",
       "  <thead>\n",
       "    <tr style=\"text-align: right;\">\n",
       "      <th></th>\n",
       "      <th>ITS</th>\n",
       "      <th>TOF</th>\n",
       "      <th>TPCROC0</th>\n",
       "      <th>TPCROC1</th>\n",
       "      <th>TPCROC2</th>\n",
       "      <th>TRD</th>\n",
       "      <th>p</th>\n",
       "      <th>particle</th>\n",
       "      <th>flips</th>\n",
       "      <th>ITS_mr</th>\n",
       "      <th>...</th>\n",
       "      <th>TPCROC0_0</th>\n",
       "      <th>TPCROC1_mr</th>\n",
       "      <th>TPCROC1_w</th>\n",
       "      <th>TPCROC1_0</th>\n",
       "      <th>TPCROC2_mr</th>\n",
       "      <th>TPCROC2_w</th>\n",
       "      <th>TPCROC2_0</th>\n",
       "      <th>TRD_mr</th>\n",
       "      <th>TRD_w</th>\n",
       "      <th>TRD_0</th>\n",
       "    </tr>\n",
       "  </thead>\n",
       "  <tbody>\n",
       "    <tr>\n",
       "      <th>0</th>\n",
       "      <td>0.001493</td>\n",
       "      <td>1.139668</td>\n",
       "      <td>1.019214</td>\n",
       "      <td>1.067614</td>\n",
       "      <td>1.024972</td>\n",
       "      <td>0.936833</td>\n",
       "      <td>0.693183</td>\n",
       "      <td>0</td>\n",
       "      <td>63</td>\n",
       "      <td>0.001493</td>\n",
       "      <td>...</td>\n",
       "      <td>1.019214</td>\n",
       "      <td>1.067614</td>\n",
       "      <td>1.0</td>\n",
       "      <td>1.067614</td>\n",
       "      <td>1.024972</td>\n",
       "      <td>1.0</td>\n",
       "      <td>1.024972</td>\n",
       "      <td>0.936833</td>\n",
       "      <td>1.0</td>\n",
       "      <td>0.936833</td>\n",
       "    </tr>\n",
       "    <tr>\n",
       "      <th>1</th>\n",
       "      <td>0.002401</td>\n",
       "      <td>0.944738</td>\n",
       "      <td>1.339263</td>\n",
       "      <td>1.400783</td>\n",
       "      <td>1.323482</td>\n",
       "      <td>1.387548</td>\n",
       "      <td>6.764429</td>\n",
       "      <td>0</td>\n",
       "      <td>63</td>\n",
       "      <td>0.002401</td>\n",
       "      <td>...</td>\n",
       "      <td>1.339263</td>\n",
       "      <td>1.400783</td>\n",
       "      <td>1.0</td>\n",
       "      <td>1.400783</td>\n",
       "      <td>1.323482</td>\n",
       "      <td>1.0</td>\n",
       "      <td>1.323482</td>\n",
       "      <td>1.387548</td>\n",
       "      <td>1.0</td>\n",
       "      <td>1.387548</td>\n",
       "    </tr>\n",
       "    <tr>\n",
       "      <th>2</th>\n",
       "      <td>0.002118</td>\n",
       "      <td>0.911158</td>\n",
       "      <td>1.277372</td>\n",
       "      <td>1.340589</td>\n",
       "      <td>1.481076</td>\n",
       "      <td>1.343896</td>\n",
       "      <td>4.878680</td>\n",
       "      <td>0</td>\n",
       "      <td>63</td>\n",
       "      <td>0.002118</td>\n",
       "      <td>...</td>\n",
       "      <td>1.277372</td>\n",
       "      <td>1.340589</td>\n",
       "      <td>1.0</td>\n",
       "      <td>1.340589</td>\n",
       "      <td>1.481076</td>\n",
       "      <td>1.0</td>\n",
       "      <td>1.481076</td>\n",
       "      <td>1.343896</td>\n",
       "      <td>1.0</td>\n",
       "      <td>1.343896</td>\n",
       "    </tr>\n",
       "    <tr>\n",
       "      <th>3</th>\n",
       "      <td>0.002202</td>\n",
       "      <td>0.963982</td>\n",
       "      <td>1.362786</td>\n",
       "      <td>1.112496</td>\n",
       "      <td>1.151116</td>\n",
       "      <td>1.296877</td>\n",
       "      <td>4.466496</td>\n",
       "      <td>0</td>\n",
       "      <td>63</td>\n",
       "      <td>0.002202</td>\n",
       "      <td>...</td>\n",
       "      <td>1.362786</td>\n",
       "      <td>1.112496</td>\n",
       "      <td>1.0</td>\n",
       "      <td>1.112496</td>\n",
       "      <td>1.151116</td>\n",
       "      <td>1.0</td>\n",
       "      <td>1.151116</td>\n",
       "      <td>1.296877</td>\n",
       "      <td>1.0</td>\n",
       "      <td>1.296877</td>\n",
       "    </tr>\n",
       "    <tr>\n",
       "      <th>4</th>\n",
       "      <td>0.001995</td>\n",
       "      <td>0.999167</td>\n",
       "      <td>1.455165</td>\n",
       "      <td>1.368103</td>\n",
       "      <td>1.362519</td>\n",
       "      <td>1.388860</td>\n",
       "      <td>7.961384</td>\n",
       "      <td>0</td>\n",
       "      <td>63</td>\n",
       "      <td>0.001995</td>\n",
       "      <td>...</td>\n",
       "      <td>1.455165</td>\n",
       "      <td>1.368103</td>\n",
       "      <td>1.0</td>\n",
       "      <td>1.368103</td>\n",
       "      <td>1.362519</td>\n",
       "      <td>1.0</td>\n",
       "      <td>1.362519</td>\n",
       "      <td>1.388860</td>\n",
       "      <td>1.0</td>\n",
       "      <td>1.388860</td>\n",
       "    </tr>\n",
       "    <tr>\n",
       "      <th>5</th>\n",
       "      <td>0.001891</td>\n",
       "      <td>0.909673</td>\n",
       "      <td>1.367861</td>\n",
       "      <td>1.356773</td>\n",
       "      <td>1.452914</td>\n",
       "      <td>1.310196</td>\n",
       "      <td>7.660722</td>\n",
       "      <td>0</td>\n",
       "      <td>61</td>\n",
       "      <td>0.001891</td>\n",
       "      <td>...</td>\n",
       "      <td>1.367861</td>\n",
       "      <td>1.356773</td>\n",
       "      <td>1.0</td>\n",
       "      <td>1.356773</td>\n",
       "      <td>1.452914</td>\n",
       "      <td>1.0</td>\n",
       "      <td>1.452914</td>\n",
       "      <td>1.310196</td>\n",
       "      <td>1.0</td>\n",
       "      <td>1.310196</td>\n",
       "    </tr>\n",
       "    <tr>\n",
       "      <th>6</th>\n",
       "      <td>0.002167</td>\n",
       "      <td>0.843813</td>\n",
       "      <td>1.313601</td>\n",
       "      <td>1.154777</td>\n",
       "      <td>1.108875</td>\n",
       "      <td>1.384489</td>\n",
       "      <td>6.382428</td>\n",
       "      <td>0</td>\n",
       "      <td>63</td>\n",
       "      <td>0.002167</td>\n",
       "      <td>...</td>\n",
       "      <td>1.313601</td>\n",
       "      <td>1.154777</td>\n",
       "      <td>1.0</td>\n",
       "      <td>1.154777</td>\n",
       "      <td>1.108875</td>\n",
       "      <td>1.0</td>\n",
       "      <td>1.108875</td>\n",
       "      <td>1.384489</td>\n",
       "      <td>1.0</td>\n",
       "      <td>1.384489</td>\n",
       "    </tr>\n",
       "    <tr>\n",
       "      <th>7</th>\n",
       "      <td>0.002112</td>\n",
       "      <td>1.009364</td>\n",
       "      <td>1.247889</td>\n",
       "      <td>1.319914</td>\n",
       "      <td>1.333058</td>\n",
       "      <td>1.258059</td>\n",
       "      <td>7.293260</td>\n",
       "      <td>0</td>\n",
       "      <td>63</td>\n",
       "      <td>0.002112</td>\n",
       "      <td>...</td>\n",
       "      <td>1.247889</td>\n",
       "      <td>1.319914</td>\n",
       "      <td>1.0</td>\n",
       "      <td>1.319914</td>\n",
       "      <td>1.333058</td>\n",
       "      <td>1.0</td>\n",
       "      <td>1.333058</td>\n",
       "      <td>1.258059</td>\n",
       "      <td>1.0</td>\n",
       "      <td>1.258059</td>\n",
       "    </tr>\n",
       "    <tr>\n",
       "      <th>8</th>\n",
       "      <td>0.002028</td>\n",
       "      <td>1.128233</td>\n",
       "      <td>1.415524</td>\n",
       "      <td>1.203686</td>\n",
       "      <td>1.199855</td>\n",
       "      <td>0.905107</td>\n",
       "      <td>5.730047</td>\n",
       "      <td>0</td>\n",
       "      <td>63</td>\n",
       "      <td>0.002028</td>\n",
       "      <td>...</td>\n",
       "      <td>1.415524</td>\n",
       "      <td>1.203686</td>\n",
       "      <td>1.0</td>\n",
       "      <td>1.203686</td>\n",
       "      <td>1.199855</td>\n",
       "      <td>1.0</td>\n",
       "      <td>1.199855</td>\n",
       "      <td>0.905107</td>\n",
       "      <td>1.0</td>\n",
       "      <td>0.905107</td>\n",
       "    </tr>\n",
       "    <tr>\n",
       "      <th>9</th>\n",
       "      <td>0.002316</td>\n",
       "      <td>1.101442</td>\n",
       "      <td>1.318660</td>\n",
       "      <td>1.156376</td>\n",
       "      <td>1.079181</td>\n",
       "      <td>1.193297</td>\n",
       "      <td>5.949201</td>\n",
       "      <td>0</td>\n",
       "      <td>63</td>\n",
       "      <td>0.002316</td>\n",
       "      <td>...</td>\n",
       "      <td>1.318660</td>\n",
       "      <td>1.156376</td>\n",
       "      <td>1.0</td>\n",
       "      <td>1.156376</td>\n",
       "      <td>1.079181</td>\n",
       "      <td>1.0</td>\n",
       "      <td>1.079181</td>\n",
       "      <td>1.193297</td>\n",
       "      <td>1.0</td>\n",
       "      <td>1.193297</td>\n",
       "    </tr>\n",
       "  </tbody>\n",
       "</table>\n",
       "<p>10 rows × 27 columns</p>\n",
       "</div>"
      ],
      "text/plain": [
       "        ITS       TOF   TPCROC0   TPCROC1   TPCROC2       TRD         p  \\\n",
       "0  0.001493  1.139668  1.019214  1.067614  1.024972  0.936833  0.693183   \n",
       "1  0.002401  0.944738  1.339263  1.400783  1.323482  1.387548  6.764429   \n",
       "2  0.002118  0.911158  1.277372  1.340589  1.481076  1.343896  4.878680   \n",
       "3  0.002202  0.963982  1.362786  1.112496  1.151116  1.296877  4.466496   \n",
       "4  0.001995  0.999167  1.455165  1.368103  1.362519  1.388860  7.961384   \n",
       "5  0.001891  0.909673  1.367861  1.356773  1.452914  1.310196  7.660722   \n",
       "6  0.002167  0.843813  1.313601  1.154777  1.108875  1.384489  6.382428   \n",
       "7  0.002112  1.009364  1.247889  1.319914  1.333058  1.258059  7.293260   \n",
       "8  0.002028  1.128233  1.415524  1.203686  1.199855  0.905107  5.730047   \n",
       "9  0.002316  1.101442  1.318660  1.156376  1.079181  1.193297  5.949201   \n",
       "\n",
       "   particle  flips    ITS_mr    ...     TPCROC0_0  TPCROC1_mr  TPCROC1_w  \\\n",
       "0         0     63  0.001493    ...      1.019214    1.067614        1.0   \n",
       "1         0     63  0.002401    ...      1.339263    1.400783        1.0   \n",
       "2         0     63  0.002118    ...      1.277372    1.340589        1.0   \n",
       "3         0     63  0.002202    ...      1.362786    1.112496        1.0   \n",
       "4         0     63  0.001995    ...      1.455165    1.368103        1.0   \n",
       "5         0     61  0.001891    ...      1.367861    1.356773        1.0   \n",
       "6         0     63  0.002167    ...      1.313601    1.154777        1.0   \n",
       "7         0     63  0.002112    ...      1.247889    1.319914        1.0   \n",
       "8         0     63  0.002028    ...      1.415524    1.203686        1.0   \n",
       "9         0     63  0.002316    ...      1.318660    1.156376        1.0   \n",
       "\n",
       "   TPCROC1_0  TPCROC2_mr  TPCROC2_w  TPCROC2_0    TRD_mr  TRD_w     TRD_0  \n",
       "0   1.067614    1.024972        1.0   1.024972  0.936833    1.0  0.936833  \n",
       "1   1.400783    1.323482        1.0   1.323482  1.387548    1.0  1.387548  \n",
       "2   1.340589    1.481076        1.0   1.481076  1.343896    1.0  1.343896  \n",
       "3   1.112496    1.151116        1.0   1.151116  1.296877    1.0  1.296877  \n",
       "4   1.368103    1.362519        1.0   1.362519  1.388860    1.0  1.388860  \n",
       "5   1.356773    1.452914        1.0   1.452914  1.310196    1.0  1.310196  \n",
       "6   1.154777    1.108875        1.0   1.108875  1.384489    1.0  1.384489  \n",
       "7   1.319914    1.333058        1.0   1.333058  1.258059    1.0  1.258059  \n",
       "8   1.203686    1.199855        1.0   1.199855  0.905107    1.0  0.905107  \n",
       "9   1.156376    1.079181        1.0   1.079181  1.193297    1.0  1.193297  \n",
       "\n",
       "[10 rows x 27 columns]"
      ]
     },
     "execution_count": 8,
     "metadata": {},
     "output_type": "execute_result"
    }
   ],
   "source": [
    "# prepare \"flips-Data\" and weights\n",
    "for i ,name in enumerate(['ITS','TOF','TPCROC0','TPCROC1','TPCROC2','TRD']):\n",
    "    # calculate \"flip= 0/1\"\n",
    "    f=(np.array(df_all['flips'])>>i)&1\n",
    "    # if f=0 substitute value by mean\n",
    "    m=df_all[name].mean()\n",
    "    df_all.loc[:,name+'_mr']= df_all[name].multiply(f,axis='index')+m*(1-f) #mean replaced\n",
    "    df_all.loc[:,name+'_w']=1.0*f #weight\n",
    "    df_all.loc[:,name+'_0']= df_all[name].multiply(f,axis='index') #zeros\n",
    "    \n",
    "# generate data for stage 2\n",
    "df_stage_2=df_all.copy()\n",
    "df_stage_3=df_all.copy()\n",
    "df_all[df_all['particle']==0].head(10)"
   ]
  },
  {
   "cell_type": "code",
   "execution_count": 9,
   "metadata": {},
   "outputs": [],
   "source": [
    "train, test =train_test_split(df_all, test_size=0.5)"
   ]
  },
  {
   "cell_type": "markdown",
   "metadata": {},
   "source": [
    "# Create autoencoders"
   ]
  },
  {
   "cell_type": "code",
   "execution_count": 10,
   "metadata": {},
   "outputs": [],
   "source": [
    "def custom_loss(y_true, y_pred,weights):\n",
    "    return K.mean(K.square((y_true - y_pred)*weights))\n",
    "\n",
    "inputs = Input(shape=(6,))\n",
    "inputw = Input(shape=(6,))\n",
    "noise = GaussianNoise(0.2)(inputs)\n",
    "enc1   = Dense(units=64, activation='selu')(noise)\n",
    "enc2   = Dense(units=64, activation='selu')(enc1)\n",
    "enc3   = Dense(units=64, activation='selu')(enc2)\n",
    "enc4   = Dense(units=64, activation='selu')(enc3)\n",
    "layer0 = Dense(units=2 , activation='selu')(enc4)\n",
    "dec1   = Dense(units=64, activation='selu')(layer0)\n",
    "dec2   = Dense(units=64, activation='selu')(dec1)\n",
    "dec3   = Dense(units=64, activation='selu')(dec2)\n",
    "dec4   = Dense(units=64, activation='selu')(dec3)\n",
    "outputs= Dense(units=6, activation='linear')(dec4)\n",
    "\n",
    "c_loss = partial(custom_loss, weights=inputw)\n",
    "        \n",
    "modelpt = Model(inputs=inputs,outputs=outputs)\n",
    "models2 = Model(inputs=inputs,outputs=outputs)\n",
    "modell = Model(inputs=inputs,outputs=outputs)\n",
    "model0 = Model(inputs=inputs,outputs=outputs)\n",
    "model1 = Model(inputs=[inputs,inputw],outputs=outputs)\n",
    "modelpt.compile(loss='mse',\n",
    "              optimizer='adam',\n",
    "              metrics=['mse'])\n",
    "models2.compile(loss='mse',\n",
    "              optimizer='adam',\n",
    "              metrics=['mse'])\n",
    "modell.compile(loss='mse',\n",
    "              optimizer='adam',\n",
    "              metrics=['mse'])\n",
    "model0.compile(loss='mse',\n",
    "              optimizer='adam',\n",
    "              metrics=['mse'])\n",
    "model1.compile(loss=c_loss,\n",
    "              optimizer='adam',\n",
    "              metrics=['mse'])"
   ]
  },
  {
   "cell_type": "code",
   "execution_count": 11,
   "metadata": {},
   "outputs": [
    {
     "name": "stdout",
     "output_type": "stream",
     "text": [
      "_________________________________________________________________\n",
      "Layer (type)                 Output Shape              Param #   \n",
      "=================================================================\n",
      "input_1 (InputLayer)         (None, 6)                 0         \n",
      "_________________________________________________________________\n",
      "gaussian_noise (GaussianNois (None, 6)                 0         \n",
      "_________________________________________________________________\n",
      "dense (Dense)                (None, 64)                448       \n",
      "_________________________________________________________________\n",
      "dense_1 (Dense)              (None, 64)                4160      \n",
      "_________________________________________________________________\n",
      "dense_2 (Dense)              (None, 64)                4160      \n",
      "_________________________________________________________________\n",
      "dense_3 (Dense)              (None, 64)                4160      \n",
      "_________________________________________________________________\n",
      "dense_4 (Dense)              (None, 2)                 130       \n",
      "_________________________________________________________________\n",
      "dense_5 (Dense)              (None, 64)                192       \n",
      "_________________________________________________________________\n",
      "dense_6 (Dense)              (None, 64)                4160      \n",
      "_________________________________________________________________\n",
      "dense_7 (Dense)              (None, 64)                4160      \n",
      "_________________________________________________________________\n",
      "dense_8 (Dense)              (None, 64)                4160      \n",
      "_________________________________________________________________\n",
      "dense_9 (Dense)              (None, 6)                 390       \n",
      "=================================================================\n",
      "Total params: 26,120\n",
      "Trainable params: 26,120\n",
      "Non-trainable params: 0\n",
      "_________________________________________________________________\n"
     ]
    }
   ],
   "source": [
    "model0.summary()"
   ]
  },
  {
   "cell_type": "markdown",
   "metadata": {},
   "source": [
    "# perfect tracks"
   ]
  },
  {
   "cell_type": "code",
   "execution_count": 12,
   "metadata": {},
   "outputs": [
    {
     "data": {
      "text/plain": [
       "QuantileTransformer(copy=True, ignore_implicit_zeros=False, n_quantiles=1000,\n",
       "          output_distribution='uniform', random_state=None,\n",
       "          subsample=100000)"
      ]
     },
     "execution_count": 12,
     "metadata": {},
     "output_type": "execute_result"
    }
   ],
   "source": [
    "train_pt = train[[\"ITS\", \"TOF\", \"TPCROC0\", \"TPCROC1\", \"TPCROC2\", \"TRD\"]]\n",
    "test_pt = test[[\"ITS\", \"TOF\", \"TPCROC0\", \"TPCROC1\", \"TPCROC2\", \"TRD\"]]\n",
    "scaler_pt = StandardScaler()\n",
    "scaler_pt.fit( train[[\"ITS\", \"TOF\", \"TPCROC0\", \"TPCROC1\", \"TPCROC2\", \"TRD\"]])"
   ]
  },
  {
   "cell_type": "code",
   "execution_count": 13,
   "metadata": {},
   "outputs": [
    {
     "name": "stdout",
     "output_type": "stream",
     "text": [
      "Train on 20000 samples, validate on 20000 samples\n",
      "Epoch 1/5\n",
      "20000/20000 [==============================] - 7s 345us/step - loss: 0.0312 - mean_squared_error: 0.0312 - val_loss: 0.0132 - val_mean_squared_error: 0.0132\n",
      "Epoch 2/5\n",
      "20000/20000 [==============================] - 6s 279us/step - loss: 0.0197 - mean_squared_error: 0.0197 - val_loss: 0.0122 - val_mean_squared_error: 0.0122\n",
      "Epoch 3/5\n",
      "20000/20000 [==============================] - 6s 280us/step - loss: 0.0196 - mean_squared_error: 0.0196 - val_loss: 0.0111 - val_mean_squared_error: 0.0111\n",
      "Epoch 4/5\n",
      "20000/20000 [==============================] - 6s 278us/step - loss: 0.0197 - mean_squared_error: 0.0197 - val_loss: 0.0114 - val_mean_squared_error: 0.0114\n",
      "Epoch 5/5\n",
      "20000/20000 [==============================] - 6s 277us/step - loss: 0.0193 - mean_squared_error: 0.0193 - val_loss: 0.0116 - val_mean_squared_error: 0.0116\n"
     ]
    },
    {
     "data": {
      "text/plain": [
       "<tensorflow.python.keras.callbacks.History at 0x7efd8a7283d0>"
      ]
     },
     "execution_count": 13,
     "metadata": {},
     "output_type": "execute_result"
    },
    {
     "name": "stderr",
     "output_type": "stream",
     "text": [
      "2019-01-29 16:54:54.934379: I tensorflow/core/platform/cpu_feature_guard.cc:141] Your CPU supports instructions that this TensorFlow binary was not compiled to use: FMA\n"
     ]
    }
   ],
   "source": [
    "modelpt.fit(scaler_pt.transform(train_pt), scaler_pt.transform(train_pt), epochs=5, batch_size=32, \n",
    "          validation_data=[scaler_pt.transform(test_pt),scaler_pt.transform(test_pt)])"
   ]
  },
  {
   "cell_type": "code",
   "execution_count": 14,
   "metadata": {},
   "outputs": [
    {
     "data": {
      "text/html": [
       "<div>\n",
       "<style scoped>\n",
       "    .dataframe tbody tr th:only-of-type {\n",
       "        vertical-align: middle;\n",
       "    }\n",
       "\n",
       "    .dataframe tbody tr th {\n",
       "        vertical-align: top;\n",
       "    }\n",
       "\n",
       "    .dataframe thead th {\n",
       "        text-align: right;\n",
       "    }\n",
       "</style>\n",
       "<table border=\"1\" class=\"dataframe\">\n",
       "  <thead>\n",
       "    <tr style=\"text-align: right;\">\n",
       "      <th></th>\n",
       "      <th>index</th>\n",
       "      <th>ITS</th>\n",
       "      <th>TOF</th>\n",
       "      <th>TPCROC0</th>\n",
       "      <th>TPCROC1</th>\n",
       "      <th>TPCROC2</th>\n",
       "      <th>TRD</th>\n",
       "      <th>p</th>\n",
       "      <th>particle</th>\n",
       "      <th>flips</th>\n",
       "      <th>...</th>\n",
       "      <th>TPCROC2_0</th>\n",
       "      <th>TRD_mr</th>\n",
       "      <th>TRD_w</th>\n",
       "      <th>TRD_0</th>\n",
       "      <th>ITS_ae</th>\n",
       "      <th>TOF_ae</th>\n",
       "      <th>TPCROC0_ae</th>\n",
       "      <th>TPCROC1_ae</th>\n",
       "      <th>TPCROC2_ae</th>\n",
       "      <th>TRD_ae</th>\n",
       "    </tr>\n",
       "  </thead>\n",
       "  <tbody>\n",
       "    <tr>\n",
       "      <th>0</th>\n",
       "      <td>10244</td>\n",
       "      <td>0.002864</td>\n",
       "      <td>1.035537</td>\n",
       "      <td>1.468154</td>\n",
       "      <td>1.576882</td>\n",
       "      <td>1.633345</td>\n",
       "      <td>1.399334</td>\n",
       "      <td>1.520442</td>\n",
       "      <td>2</td>\n",
       "      <td>63</td>\n",
       "      <td>...</td>\n",
       "      <td>1.633345</td>\n",
       "      <td>1.399334</td>\n",
       "      <td>1.0</td>\n",
       "      <td>1.399334</td>\n",
       "      <td>0.002627</td>\n",
       "      <td>1.056887</td>\n",
       "      <td>1.580247</td>\n",
       "      <td>1.528739</td>\n",
       "      <td>1.587357</td>\n",
       "      <td>1.545962</td>\n",
       "    </tr>\n",
       "    <tr>\n",
       "      <th>1</th>\n",
       "      <td>38092</td>\n",
       "      <td>0.003103</td>\n",
       "      <td>0.653779</td>\n",
       "      <td>2.108281</td>\n",
       "      <td>1.730810</td>\n",
       "      <td>1.889418</td>\n",
       "      <td>1.668988</td>\n",
       "      <td>0.375478</td>\n",
       "      <td>4</td>\n",
       "      <td>63</td>\n",
       "      <td>...</td>\n",
       "      <td>1.889418</td>\n",
       "      <td>1.668988</td>\n",
       "      <td>1.0</td>\n",
       "      <td>1.668988</td>\n",
       "      <td>0.003250</td>\n",
       "      <td>0.809449</td>\n",
       "      <td>1.733503</td>\n",
       "      <td>1.769253</td>\n",
       "      <td>1.834429</td>\n",
       "      <td>1.770820</td>\n",
       "    </tr>\n",
       "    <tr>\n",
       "      <th>2</th>\n",
       "      <td>1997</td>\n",
       "      <td>0.002626</td>\n",
       "      <td>1.082544</td>\n",
       "      <td>1.111228</td>\n",
       "      <td>1.293733</td>\n",
       "      <td>1.057884</td>\n",
       "      <td>1.240914</td>\n",
       "      <td>4.078123</td>\n",
       "      <td>0</td>\n",
       "      <td>63</td>\n",
       "      <td>...</td>\n",
       "      <td>1.057884</td>\n",
       "      <td>1.240914</td>\n",
       "      <td>1.0</td>\n",
       "      <td>1.240914</td>\n",
       "      <td>0.001959</td>\n",
       "      <td>1.041756</td>\n",
       "      <td>1.247596</td>\n",
       "      <td>1.228638</td>\n",
       "      <td>1.209697</td>\n",
       "      <td>1.214116</td>\n",
       "    </tr>\n",
       "  </tbody>\n",
       "</table>\n",
       "<p>3 rows × 34 columns</p>\n",
       "</div>"
      ],
      "text/plain": [
       "   index       ITS       TOF   TPCROC0   TPCROC1   TPCROC2       TRD  \\\n",
       "0  10244  0.002864  1.035537  1.468154  1.576882  1.633345  1.399334   \n",
       "1  38092  0.003103  0.653779  2.108281  1.730810  1.889418  1.668988   \n",
       "2   1997  0.002626  1.082544  1.111228  1.293733  1.057884  1.240914   \n",
       "\n",
       "          p  particle  flips    ...     TPCROC2_0    TRD_mr  TRD_w     TRD_0  \\\n",
       "0  1.520442         2     63    ...      1.633345  1.399334    1.0  1.399334   \n",
       "1  0.375478         4     63    ...      1.889418  1.668988    1.0  1.668988   \n",
       "2  4.078123         0     63    ...      1.057884  1.240914    1.0  1.240914   \n",
       "\n",
       "     ITS_ae    TOF_ae  TPCROC0_ae  TPCROC1_ae  TPCROC2_ae    TRD_ae  \n",
       "0  0.002627  1.056887    1.580247    1.528739    1.587357  1.545962  \n",
       "1  0.003250  0.809449    1.733503    1.769253    1.834429  1.770820  \n",
       "2  0.001959  1.041756    1.247596    1.228638    1.209697  1.214116  \n",
       "\n",
       "[3 rows x 34 columns]"
      ]
     },
     "execution_count": 14,
     "metadata": {},
     "output_type": "execute_result"
    }
   ],
   "source": [
    "out = scaler_pt.inverse_transform(modelpt.predict(scaler_pt.transform(test_pt)))\n",
    "AE_predict = pd.DataFrame(out)\n",
    "AE_predict.columns = [\"ITS_ae\", \"TOF_ae\", \"TPCROC0_ae\", \"TPCROC1_ae\", \"TPCROC2_ae\", \"TRD_ae\"]\n",
    "test = test.reset_index()\n",
    "df_test = pd.concat([test,AE_predict], axis = 1)\n",
    "df_test.head(3)"
   ]
  },
  {
   "cell_type": "code",
   "execution_count": 15,
   "metadata": {},
   "outputs": [
    {
     "data": {
      "image/png": "[encoded data removed]",
      "text/plain": [
       "<Figure size 432x288 with 1 Axes>"
      ]
     },
     "metadata": {
      "needs_background": "light"
     },
     "output_type": "display_data"
    },
    {
     "data": {
      "image/png": "[encoded data removed]",
      "text/plain": [
       "<Figure size 432x288 with 1 Axes>"
      ]
     },
     "metadata": {
      "needs_background": "light"
     },
     "output_type": "display_data"
    }
   ],
   "source": [
    "plt.hist2d(df_all[\"p\"], df_all[\"TPCROC1\"], bins=(100, 100), cmap=plt.cm.jet, range = [[0.2, 2], [0.5, 3]])\n",
    "plt.show()\n",
    "plt.hist2d(df_test[\"p\"], df_test[\"TPCROC2_ae\"], bins=(100, 100), cmap=plt.cm.jet, range = [[0.2, 2], [0.5, 3]])\n",
    "plt.show()"
   ]
  },
  {
   "cell_type": "markdown",
   "metadata": {},
   "source": [
    "# Train with zeros"
   ]
  },
  {
   "cell_type": "code",
   "execution_count": 16,
   "metadata": {},
   "outputs": [
    {
     "data": {
      "text/plain": [
       "QuantileTransformer(copy=True, ignore_implicit_zeros=False, n_quantiles=1000,\n",
       "          output_distribution='uniform', random_state=None,\n",
       "          subsample=100000)"
      ]
     },
     "execution_count": 16,
     "metadata": {},
     "output_type": "execute_result"
    }
   ],
   "source": [
    "train_0 = train[[\"ITS_0\", \"TOF_0\", \"TPCROC0_0\", \"TPCROC1_0\", \"TPCROC2_0\", \"TRD_0\"]]\n",
    "test_0 = test[[\"ITS_0\", \"TOF_0\", \"TPCROC0_0\", \"TPCROC1_0\", \"TPCROC2_0\", \"TRD_0\"]]\n",
    "scaler_0 = StandardScaler()\n",
    "scaler_0.fit( train[[\"ITS_0\", \"TOF_0\", \"TPCROC0_0\", \"TPCROC1_0\", \"TPCROC2_0\", \"TRD_0\"]])\n",
    "#scaler_0.fit( train[[\"ITS\", \"TOF\", \"TPCROC0\", \"TPCROC1\", \"TPCROC2\", \"TRD\"]]) "
   ]
  },
  {
   "cell_type": "code",
   "execution_count": 17,
   "metadata": {},
   "outputs": [
    {
     "data": {
      "text/html": [
       "<div>\n",
       "<style scoped>\n",
       "    .dataframe tbody tr th:only-of-type {\n",
       "        vertical-align: middle;\n",
       "    }\n",
       "\n",
       "    .dataframe tbody tr th {\n",
       "        vertical-align: top;\n",
       "    }\n",
       "\n",
       "    .dataframe thead th {\n",
       "        text-align: right;\n",
       "    }\n",
       "</style>\n",
       "<table border=\"1\" class=\"dataframe\">\n",
       "  <thead>\n",
       "    <tr style=\"text-align: right;\">\n",
       "      <th></th>\n",
       "      <th>ITS_0</th>\n",
       "      <th>TOF_0</th>\n",
       "      <th>TPCROC0_0</th>\n",
       "      <th>TPCROC1_0</th>\n",
       "      <th>TPCROC2_0</th>\n",
       "      <th>TRD_0</th>\n",
       "    </tr>\n",
       "  </thead>\n",
       "  <tbody>\n",
       "    <tr>\n",
       "      <th>3143</th>\n",
       "      <td>0.002226</td>\n",
       "      <td>0.962858</td>\n",
       "      <td>1.136128</td>\n",
       "      <td>1.410310</td>\n",
       "      <td>1.520806</td>\n",
       "      <td>1.344206</td>\n",
       "    </tr>\n",
       "    <tr>\n",
       "      <th>13417</th>\n",
       "      <td>0.002902</td>\n",
       "      <td>0.832841</td>\n",
       "      <td>1.492102</td>\n",
       "      <td>1.689973</td>\n",
       "      <td>1.639307</td>\n",
       "      <td>1.569610</td>\n",
       "    </tr>\n",
       "    <tr>\n",
       "      <th>14101</th>\n",
       "      <td>0.003399</td>\n",
       "      <td>0.915694</td>\n",
       "      <td>1.601814</td>\n",
       "      <td>1.681639</td>\n",
       "      <td>1.503328</td>\n",
       "      <td>1.355203</td>\n",
       "    </tr>\n",
       "    <tr>\n",
       "      <th>38550</th>\n",
       "      <td>0.001684</td>\n",
       "      <td>0.917915</td>\n",
       "      <td>1.034174</td>\n",
       "      <td>0.966821</td>\n",
       "      <td>0.845766</td>\n",
       "      <td>1.011127</td>\n",
       "    </tr>\n",
       "    <tr>\n",
       "      <th>17747</th>\n",
       "      <td>0.002516</td>\n",
       "      <td>1.043539</td>\n",
       "      <td>1.394554</td>\n",
       "      <td>1.637954</td>\n",
       "      <td>1.526337</td>\n",
       "      <td>1.752949</td>\n",
       "    </tr>\n",
       "  </tbody>\n",
       "</table>\n",
       "</div>"
      ],
      "text/plain": [
       "          ITS_0     TOF_0  TPCROC0_0  TPCROC1_0  TPCROC2_0     TRD_0\n",
       "3143   0.002226  0.962858   1.136128   1.410310   1.520806  1.344206\n",
       "13417  0.002902  0.832841   1.492102   1.689973   1.639307  1.569610\n",
       "14101  0.003399  0.915694   1.601814   1.681639   1.503328  1.355203\n",
       "38550  0.001684  0.917915   1.034174   0.966821   0.845766  1.011127\n",
       "17747  0.002516  1.043539   1.394554   1.637954   1.526337  1.752949"
      ]
     },
     "execution_count": 17,
     "metadata": {},
     "output_type": "execute_result"
    }
   ],
   "source": [
    "train[[\"ITS_0\", \"TOF_0\", \"TPCROC0_0\", \"TPCROC1_0\", \"TPCROC2_0\", \"TRD_0\"]].head()"
   ]
  },
  {
   "cell_type": "code",
   "execution_count": 18,
   "metadata": {},
   "outputs": [
    {
     "data": {
      "text/html": [
       "<div>\n",
       "<style scoped>\n",
       "    .dataframe tbody tr th:only-of-type {\n",
       "        vertical-align: middle;\n",
       "    }\n",
       "\n",
       "    .dataframe tbody tr th {\n",
       "        vertical-align: top;\n",
       "    }\n",
       "\n",
       "    .dataframe thead th {\n",
       "        text-align: right;\n",
       "    }\n",
       "</style>\n",
       "<table border=\"1\" class=\"dataframe\">\n",
       "  <thead>\n",
       "    <tr style=\"text-align: right;\">\n",
       "      <th></th>\n",
       "      <th>ITS</th>\n",
       "      <th>TOF</th>\n",
       "      <th>TPCROC0</th>\n",
       "      <th>TPCROC1</th>\n",
       "      <th>TPCROC2</th>\n",
       "      <th>TRD</th>\n",
       "    </tr>\n",
       "  </thead>\n",
       "  <tbody>\n",
       "    <tr>\n",
       "      <th>3143</th>\n",
       "      <td>0.002226</td>\n",
       "      <td>0.962858</td>\n",
       "      <td>1.136128</td>\n",
       "      <td>1.410310</td>\n",
       "      <td>1.520806</td>\n",
       "      <td>1.344206</td>\n",
       "    </tr>\n",
       "    <tr>\n",
       "      <th>13417</th>\n",
       "      <td>0.002902</td>\n",
       "      <td>0.832841</td>\n",
       "      <td>1.492102</td>\n",
       "      <td>1.689973</td>\n",
       "      <td>1.639307</td>\n",
       "      <td>1.569610</td>\n",
       "    </tr>\n",
       "    <tr>\n",
       "      <th>14101</th>\n",
       "      <td>0.003399</td>\n",
       "      <td>0.915694</td>\n",
       "      <td>1.601814</td>\n",
       "      <td>1.681639</td>\n",
       "      <td>1.503328</td>\n",
       "      <td>1.355203</td>\n",
       "    </tr>\n",
       "    <tr>\n",
       "      <th>38550</th>\n",
       "      <td>0.001684</td>\n",
       "      <td>0.917915</td>\n",
       "      <td>1.034174</td>\n",
       "      <td>0.966821</td>\n",
       "      <td>0.845766</td>\n",
       "      <td>1.011127</td>\n",
       "    </tr>\n",
       "    <tr>\n",
       "      <th>17747</th>\n",
       "      <td>0.002516</td>\n",
       "      <td>1.043539</td>\n",
       "      <td>1.394554</td>\n",
       "      <td>1.637954</td>\n",
       "      <td>1.526337</td>\n",
       "      <td>1.752949</td>\n",
       "    </tr>\n",
       "  </tbody>\n",
       "</table>\n",
       "</div>"
      ],
      "text/plain": [
       "            ITS       TOF   TPCROC0   TPCROC1   TPCROC2       TRD\n",
       "3143   0.002226  0.962858  1.136128  1.410310  1.520806  1.344206\n",
       "13417  0.002902  0.832841  1.492102  1.689973  1.639307  1.569610\n",
       "14101  0.003399  0.915694  1.601814  1.681639  1.503328  1.355203\n",
       "38550  0.001684  0.917915  1.034174  0.966821  0.845766  1.011127\n",
       "17747  0.002516  1.043539  1.394554  1.637954  1.526337  1.752949"
      ]
     },
     "execution_count": 18,
     "metadata": {},
     "output_type": "execute_result"
    }
   ],
   "source": [
    "train[[\"ITS\", \"TOF\", \"TPCROC0\", \"TPCROC1\", \"TPCROC2\", \"TRD\"]].head()\n"
   ]
  },
  {
   "cell_type": "code",
   "execution_count": 19,
   "metadata": {},
   "outputs": [
    {
     "name": "stdout",
     "output_type": "stream",
     "text": [
      "Train on 20000 samples, validate on 20000 samples\n",
      "Epoch 1/5\n",
      "20000/20000 [==============================] - 27s 1ms/step - loss: 0.0295 - mean_squared_error: 0.0295 - val_loss: 0.0210 - val_mean_squared_error: 0.0210\n",
      "Epoch 2/5\n",
      "20000/20000 [==============================] - 8s 392us/step - loss: 0.0287 - mean_squared_error: 0.0287 - val_loss: 0.0214 - val_mean_squared_error: 0.0214\n",
      "Epoch 3/5\n",
      "20000/20000 [==============================] - 5s 270us/step - loss: 0.0288 - mean_squared_error: 0.0288 - val_loss: 0.0206 - val_mean_squared_error: 0.0206\n",
      "Epoch 4/5\n",
      "20000/20000 [==============================] - 5s 269us/step - loss: 0.0286 - mean_squared_error: 0.0286 - val_loss: 0.0207 - val_mean_squared_error: 0.0207\n",
      "Epoch 5/5\n",
      "20000/20000 [==============================] - 6s 286us/step - loss: 0.0285 - mean_squared_error: 0.0285 - val_loss: 0.0206 - val_mean_squared_error: 0.0206\n"
     ]
    },
    {
     "data": {
      "text/plain": [
       "<tensorflow.python.keras.callbacks.History at 0x7efe3084a710>"
      ]
     },
     "execution_count": 19,
     "metadata": {},
     "output_type": "execute_result"
    }
   ],
   "source": [
    "model0.fit(scaler_0.transform(train_0), scaler_0.transform(train_0), epochs=5, batch_size=32, \n",
    "          validation_data=[scaler_0.transform(test_0),scaler_0.transform(test_0)])"
   ]
  },
  {
   "cell_type": "code",
   "execution_count": 20,
   "metadata": {},
   "outputs": [
    {
     "data": {
      "text/html": [
       "<div>\n",
       "<style scoped>\n",
       "    .dataframe tbody tr th:only-of-type {\n",
       "        vertical-align: middle;\n",
       "    }\n",
       "\n",
       "    .dataframe tbody tr th {\n",
       "        vertical-align: top;\n",
       "    }\n",
       "\n",
       "    .dataframe thead th {\n",
       "        text-align: right;\n",
       "    }\n",
       "</style>\n",
       "<table border=\"1\" class=\"dataframe\">\n",
       "  <thead>\n",
       "    <tr style=\"text-align: right;\">\n",
       "      <th></th>\n",
       "      <th>level_0</th>\n",
       "      <th>index</th>\n",
       "      <th>ITS</th>\n",
       "      <th>TOF</th>\n",
       "      <th>TPCROC0</th>\n",
       "      <th>TPCROC1</th>\n",
       "      <th>TPCROC2</th>\n",
       "      <th>TRD</th>\n",
       "      <th>p</th>\n",
       "      <th>particle</th>\n",
       "      <th>...</th>\n",
       "      <th>TPCROC2_0</th>\n",
       "      <th>TRD_mr</th>\n",
       "      <th>TRD_w</th>\n",
       "      <th>TRD_0</th>\n",
       "      <th>ITS_ae</th>\n",
       "      <th>TOF_ae</th>\n",
       "      <th>TPCROC0_ae</th>\n",
       "      <th>TPCROC1_ae</th>\n",
       "      <th>TPCROC2_ae</th>\n",
       "      <th>TRD_ae</th>\n",
       "    </tr>\n",
       "  </thead>\n",
       "  <tbody>\n",
       "    <tr>\n",
       "      <th>0</th>\n",
       "      <td>0</td>\n",
       "      <td>10244</td>\n",
       "      <td>0.002864</td>\n",
       "      <td>1.035537</td>\n",
       "      <td>1.468154</td>\n",
       "      <td>1.576882</td>\n",
       "      <td>1.633345</td>\n",
       "      <td>1.399334</td>\n",
       "      <td>1.520442</td>\n",
       "      <td>2</td>\n",
       "      <td>...</td>\n",
       "      <td>1.633345</td>\n",
       "      <td>1.399334</td>\n",
       "      <td>1.0</td>\n",
       "      <td>1.399334</td>\n",
       "      <td>0.002621</td>\n",
       "      <td>1.028522</td>\n",
       "      <td>1.566952</td>\n",
       "      <td>1.478313</td>\n",
       "      <td>1.541653</td>\n",
       "      <td>1.529510</td>\n",
       "    </tr>\n",
       "    <tr>\n",
       "      <th>1</th>\n",
       "      <td>1</td>\n",
       "      <td>38092</td>\n",
       "      <td>0.003103</td>\n",
       "      <td>0.653779</td>\n",
       "      <td>2.108281</td>\n",
       "      <td>1.730810</td>\n",
       "      <td>1.889418</td>\n",
       "      <td>1.668988</td>\n",
       "      <td>0.375478</td>\n",
       "      <td>4</td>\n",
       "      <td>...</td>\n",
       "      <td>1.889418</td>\n",
       "      <td>1.668988</td>\n",
       "      <td>1.0</td>\n",
       "      <td>1.668988</td>\n",
       "      <td>0.003012</td>\n",
       "      <td>0.749777</td>\n",
       "      <td>1.762499</td>\n",
       "      <td>1.704736</td>\n",
       "      <td>1.837878</td>\n",
       "      <td>1.769485</td>\n",
       "    </tr>\n",
       "    <tr>\n",
       "      <th>2</th>\n",
       "      <td>2</td>\n",
       "      <td>1997</td>\n",
       "      <td>0.002626</td>\n",
       "      <td>1.082544</td>\n",
       "      <td>1.111228</td>\n",
       "      <td>1.293733</td>\n",
       "      <td>1.057884</td>\n",
       "      <td>1.240914</td>\n",
       "      <td>4.078123</td>\n",
       "      <td>0</td>\n",
       "      <td>...</td>\n",
       "      <td>1.057884</td>\n",
       "      <td>1.240914</td>\n",
       "      <td>1.0</td>\n",
       "      <td>1.240914</td>\n",
       "      <td>0.001943</td>\n",
       "      <td>1.052343</td>\n",
       "      <td>1.204257</td>\n",
       "      <td>1.179031</td>\n",
       "      <td>1.169971</td>\n",
       "      <td>1.168351</td>\n",
       "    </tr>\n",
       "  </tbody>\n",
       "</table>\n",
       "<p>3 rows × 35 columns</p>\n",
       "</div>"
      ],
      "text/plain": [
       "   level_0  index       ITS       TOF   TPCROC0   TPCROC1   TPCROC2       TRD  \\\n",
       "0        0  10244  0.002864  1.035537  1.468154  1.576882  1.633345  1.399334   \n",
       "1        1  38092  0.003103  0.653779  2.108281  1.730810  1.889418  1.668988   \n",
       "2        2   1997  0.002626  1.082544  1.111228  1.293733  1.057884  1.240914   \n",
       "\n",
       "          p  particle    ...     TPCROC2_0    TRD_mr  TRD_w     TRD_0  \\\n",
       "0  1.520442         2    ...      1.633345  1.399334    1.0  1.399334   \n",
       "1  0.375478         4    ...      1.889418  1.668988    1.0  1.668988   \n",
       "2  4.078123         0    ...      1.057884  1.240914    1.0  1.240914   \n",
       "\n",
       "     ITS_ae    TOF_ae  TPCROC0_ae  TPCROC1_ae  TPCROC2_ae    TRD_ae  \n",
       "0  0.002621  1.028522    1.566952    1.478313    1.541653  1.529510  \n",
       "1  0.003012  0.749777    1.762499    1.704736    1.837878  1.769485  \n",
       "2  0.001943  1.052343    1.204257    1.179031    1.169971  1.168351  \n",
       "\n",
       "[3 rows x 35 columns]"
      ]
     },
     "execution_count": 20,
     "metadata": {},
     "output_type": "execute_result"
    }
   ],
   "source": [
    "out = scaler_0.inverse_transform(model0.predict(scaler_0.transform(test_0)))\n",
    "AE_predict = pd.DataFrame(out)\n",
    "AE_predict.columns = [\"ITS_ae\", \"TOF_ae\", \"TPCROC0_ae\", \"TPCROC1_ae\", \"TPCROC2_ae\", \"TRD_ae\"]\n",
    "test = test.reset_index()\n",
    "df_test = pd.concat([test,AE_predict], axis = 1)\n",
    "df_test.head(3)"
   ]
  },
  {
   "cell_type": "code",
   "execution_count": 21,
   "metadata": {},
   "outputs": [
    {
     "data": {
      "image/png": "[encoded data removed]",
      "text/plain": [
       "<Figure size 432x288 with 1 Axes>"
      ]
     },
     "metadata": {
      "needs_background": "light"
     },
     "output_type": "display_data"
    },
    {
     "data": {
      "image/png": "[encoded data removed]",
      "text/plain": [
       "<Figure size 432x288 with 1 Axes>"
      ]
     },
     "metadata": {
      "needs_background": "light"
     },
     "output_type": "display_data"
    }
   ],
   "source": [
    "plt.hist2d(df_all[\"p\"], df_all[\"TPCROC1\"], bins=(100, 100), cmap=plt.cm.jet, range = [[0.2, 2], [0.5, 3]])\n",
    "plt.show()\n",
    "plt.hist2d(df_test[\"p\"], df_test[\"TPCROC2_ae\"], bins=(100, 100), cmap=plt.cm.jet, range = [[0.2, 2], [0.5, 3]])\n",
    "plt.show()"
   ]
  },
  {
   "cell_type": "markdown",
   "metadata": {},
   "source": [
    "# labels for missing tracks"
   ]
  },
  {
   "cell_type": "code",
   "execution_count": 22,
   "metadata": {},
   "outputs": [
    {
     "data": {
      "text/plain": [
       "QuantileTransformer(copy=True, ignore_implicit_zeros=False, n_quantiles=1000,\n",
       "          output_distribution='uniform', random_state=None,\n",
       "          subsample=100000)"
      ]
     },
     "execution_count": 22,
     "metadata": {},
     "output_type": "execute_result"
    }
   ],
   "source": [
    "train_in = train[[\"ITS_mr\", \"TOF_mr\", \"TPCROC0_mr\", \"TPCROC1_mr\", \"TPCROC2_mr\", \"TRD_mr\"]]\n",
    "train_out = train[[\"ITS\", \"TOF\", \"TPCROC0\", \"TPCROC1\", \"TPCROC2\", \"TRD\"]]\n",
    "test_in = test[[\"ITS_mr\", \"TOF_mr\", \"TPCROC0_mr\", \"TPCROC1_mr\", \"TPCROC2_mr\", \"TRD_mr\"]]\n",
    "test_out = test[[\"ITS\", \"TOF\", \"TPCROC0\", \"TPCROC1\", \"TPCROC2\", \"TRD\"]]\n",
    "scaler_in = StandardScaler()\n",
    "scaler_out = StandardScaler()\n",
    "scaler_in.fit(train_in)\n",
    "scaler_out.fit(train_out)"
   ]
  },
  {
   "cell_type": "code",
   "execution_count": 23,
   "metadata": {},
   "outputs": [
    {
     "name": "stdout",
     "output_type": "stream",
     "text": [
      "Train on 20000 samples, validate on 20000 samples\n",
      "Epoch 1/5\n",
      "20000/20000 [==============================] - 7s 363us/step - loss: 0.0205 - mean_squared_error: 0.0205 - val_loss: 0.0130 - val_mean_squared_error: 0.0130\n",
      "Epoch 2/5\n",
      "20000/20000 [==============================] - 6s 280us/step - loss: 0.0203 - mean_squared_error: 0.0203 - val_loss: 0.0124 - val_mean_squared_error: 0.0124\n",
      "Epoch 3/5\n",
      "20000/20000 [==============================] - 5s 270us/step - loss: 0.0202 - mean_squared_error: 0.0202 - val_loss: 0.0127 - val_mean_squared_error: 0.0127\n",
      "Epoch 4/5\n",
      "20000/20000 [==============================] - 5s 272us/step - loss: 0.0201 - mean_squared_error: 0.0201 - val_loss: 0.0128 - val_mean_squared_error: 0.0128\n",
      "Epoch 5/5\n",
      "20000/20000 [==============================] - 5s 272us/step - loss: 0.0201 - mean_squared_error: 0.0201 - val_loss: 0.0127 - val_mean_squared_error: 0.0127\n"
     ]
    },
    {
     "data": {
      "text/plain": [
       "<tensorflow.python.keras.callbacks.History at 0x7efd7c3ae850>"
      ]
     },
     "execution_count": 23,
     "metadata": {},
     "output_type": "execute_result"
    }
   ],
   "source": [
    "modell.fit(scaler_in.transform(train_in), scaler_out.transform(train_out), epochs=5, batch_size=32, \n",
    "          validation_data=[scaler_in.transform(test_in),scaler_out.transform(test_out)])"
   ]
  },
  {
   "cell_type": "code",
   "execution_count": 24,
   "metadata": {},
   "outputs": [
    {
     "data": {
      "text/html": [
       "<div>\n",
       "<style scoped>\n",
       "    .dataframe tbody tr th:only-of-type {\n",
       "        vertical-align: middle;\n",
       "    }\n",
       "\n",
       "    .dataframe tbody tr th {\n",
       "        vertical-align: top;\n",
       "    }\n",
       "\n",
       "    .dataframe thead th {\n",
       "        text-align: right;\n",
       "    }\n",
       "</style>\n",
       "<table border=\"1\" class=\"dataframe\">\n",
       "  <thead>\n",
       "    <tr style=\"text-align: right;\">\n",
       "      <th></th>\n",
       "      <th>level_0</th>\n",
       "      <th>index</th>\n",
       "      <th>ITS</th>\n",
       "      <th>TOF</th>\n",
       "      <th>TPCROC0</th>\n",
       "      <th>TPCROC1</th>\n",
       "      <th>TPCROC2</th>\n",
       "      <th>TRD</th>\n",
       "      <th>p</th>\n",
       "      <th>particle</th>\n",
       "      <th>...</th>\n",
       "      <th>TPCROC2_0</th>\n",
       "      <th>TRD_mr</th>\n",
       "      <th>TRD_w</th>\n",
       "      <th>TRD_0</th>\n",
       "      <th>ITS_ae</th>\n",
       "      <th>TOF_ae</th>\n",
       "      <th>TPCROC0_ae</th>\n",
       "      <th>TPCROC1_ae</th>\n",
       "      <th>TPCROC2_ae</th>\n",
       "      <th>TRD_ae</th>\n",
       "    </tr>\n",
       "  </thead>\n",
       "  <tbody>\n",
       "    <tr>\n",
       "      <th>0</th>\n",
       "      <td>0</td>\n",
       "      <td>10244</td>\n",
       "      <td>0.002864</td>\n",
       "      <td>1.035537</td>\n",
       "      <td>1.468154</td>\n",
       "      <td>1.576882</td>\n",
       "      <td>1.633345</td>\n",
       "      <td>1.399334</td>\n",
       "      <td>1.520442</td>\n",
       "      <td>2</td>\n",
       "      <td>...</td>\n",
       "      <td>1.633345</td>\n",
       "      <td>1.399334</td>\n",
       "      <td>1.0</td>\n",
       "      <td>1.399334</td>\n",
       "      <td>0.002667</td>\n",
       "      <td>1.022953</td>\n",
       "      <td>1.489205</td>\n",
       "      <td>1.521803</td>\n",
       "      <td>1.527904</td>\n",
       "      <td>1.548806</td>\n",
       "    </tr>\n",
       "    <tr>\n",
       "      <th>1</th>\n",
       "      <td>1</td>\n",
       "      <td>38092</td>\n",
       "      <td>0.003103</td>\n",
       "      <td>0.653779</td>\n",
       "      <td>2.108281</td>\n",
       "      <td>1.730810</td>\n",
       "      <td>1.889418</td>\n",
       "      <td>1.668988</td>\n",
       "      <td>0.375478</td>\n",
       "      <td>4</td>\n",
       "      <td>...</td>\n",
       "      <td>1.889418</td>\n",
       "      <td>1.668988</td>\n",
       "      <td>1.0</td>\n",
       "      <td>1.668988</td>\n",
       "      <td>0.003240</td>\n",
       "      <td>0.703695</td>\n",
       "      <td>1.764175</td>\n",
       "      <td>1.804085</td>\n",
       "      <td>1.807902</td>\n",
       "      <td>1.787099</td>\n",
       "    </tr>\n",
       "    <tr>\n",
       "      <th>2</th>\n",
       "      <td>2</td>\n",
       "      <td>1997</td>\n",
       "      <td>0.002626</td>\n",
       "      <td>1.082544</td>\n",
       "      <td>1.111228</td>\n",
       "      <td>1.293733</td>\n",
       "      <td>1.057884</td>\n",
       "      <td>1.240914</td>\n",
       "      <td>4.078123</td>\n",
       "      <td>0</td>\n",
       "      <td>...</td>\n",
       "      <td>1.057884</td>\n",
       "      <td>1.240914</td>\n",
       "      <td>1.0</td>\n",
       "      <td>1.240914</td>\n",
       "      <td>0.001913</td>\n",
       "      <td>1.046689</td>\n",
       "      <td>1.157092</td>\n",
       "      <td>1.168175</td>\n",
       "      <td>1.158128</td>\n",
       "      <td>1.174240</td>\n",
       "    </tr>\n",
       "  </tbody>\n",
       "</table>\n",
       "<p>3 rows × 35 columns</p>\n",
       "</div>"
      ],
      "text/plain": [
       "   level_0  index       ITS       TOF   TPCROC0   TPCROC1   TPCROC2       TRD  \\\n",
       "0        0  10244  0.002864  1.035537  1.468154  1.576882  1.633345  1.399334   \n",
       "1        1  38092  0.003103  0.653779  2.108281  1.730810  1.889418  1.668988   \n",
       "2        2   1997  0.002626  1.082544  1.111228  1.293733  1.057884  1.240914   \n",
       "\n",
       "          p  particle    ...     TPCROC2_0    TRD_mr  TRD_w     TRD_0  \\\n",
       "0  1.520442         2    ...      1.633345  1.399334    1.0  1.399334   \n",
       "1  0.375478         4    ...      1.889418  1.668988    1.0  1.668988   \n",
       "2  4.078123         0    ...      1.057884  1.240914    1.0  1.240914   \n",
       "\n",
       "     ITS_ae    TOF_ae  TPCROC0_ae  TPCROC1_ae  TPCROC2_ae    TRD_ae  \n",
       "0  0.002667  1.022953    1.489205    1.521803    1.527904  1.548806  \n",
       "1  0.003240  0.703695    1.764175    1.804085    1.807902  1.787099  \n",
       "2  0.001913  1.046689    1.157092    1.168175    1.158128  1.174240  \n",
       "\n",
       "[3 rows x 35 columns]"
      ]
     },
     "execution_count": 24,
     "metadata": {},
     "output_type": "execute_result"
    }
   ],
   "source": [
    "out = scaler_out.inverse_transform(modell.predict(scaler_in.transform(test_in)))\n",
    "AE_predict = pd.DataFrame(out)\n",
    "AE_predict.columns = [\"ITS_ae\", \"TOF_ae\", \"TPCROC0_ae\", \"TPCROC1_ae\", \"TPCROC2_ae\", \"TRD_ae\"]\n",
    "#test = test.reset_index()\n",
    "df_test = pd.concat([test,AE_predict], axis = 1)\n",
    "df_test.head(3)"
   ]
  },
  {
   "cell_type": "code",
   "execution_count": 25,
   "metadata": {},
   "outputs": [
    {
     "data": {
      "image/png": "[encoded data removed]",
      "text/plain": [
       "<Figure size 432x288 with 1 Axes>"
      ]
     },
     "metadata": {
      "needs_background": "light"
     },
     "output_type": "display_data"
    },
    {
     "data": {
      "image/png": "[encoded data removed]",
      "text/plain": [
       "<Figure size 432x288 with 1 Axes>"
      ]
     },
     "metadata": {
      "needs_background": "light"
     },
     "output_type": "display_data"
    }
   ],
   "source": [
    "plt.hist2d(df_all[\"p\"], df_all[\"TPCROC1\"], bins=(100, 100), cmap=plt.cm.jet, range = [[0.2, 2], [0.5, 3]])\n",
    "plt.show()\n",
    "plt.hist2d(df_test[\"p\"], df_test[\"TPCROC1_ae\"], bins=(100, 100), cmap=plt.cm.jet, range = [[0.2, 2], [0.5, 3]])\n",
    "plt.show()"
   ]
  },
  {
   "cell_type": "markdown",
   "metadata": {},
   "source": [
    "# mean input, zero weights for missing values"
   ]
  },
  {
   "cell_type": "code",
   "execution_count": 26,
   "metadata": {},
   "outputs": [],
   "source": [
    "train_mr = train[[\"ITS_mr\", \"TOF_mr\", \"TPCROC0_mr\", \"TPCROC1_mr\", \"TPCROC2_mr\", \"TRD_mr\"]]\n",
    "test_mr = test[[\"ITS_mr\", \"TOF_mr\", \"TPCROC0_mr\", \"TPCROC1_mr\", \"TPCROC2_mr\", \"TRD_mr\"]]\n",
    "train_w    = train[[\"ITS_w\", \"TOF_w\", \"TPCROC0_w\", \"TPCROC1_w\", \"TPCROC2_w\", \"TRD_w\"]]\n",
    "test_w     = test[[\"ITS_w\", \"TOF_w\", \"TPCROC0_w\", \"TPCROC1_w\", \"TPCROC2_w\", \"TRD_w\"]]"
   ]
  },
  {
   "cell_type": "code",
   "execution_count": 27,
   "metadata": {},
   "outputs": [
    {
     "data": {
      "text/plain": [
       "QuantileTransformer(copy=True, ignore_implicit_zeros=False, n_quantiles=1000,\n",
       "          output_distribution='uniform', random_state=None,\n",
       "          subsample=100000)"
      ]
     },
     "execution_count": 27,
     "metadata": {},
     "output_type": "execute_result"
    }
   ],
   "source": [
    "scaler_mr = StandardScaler()\n",
    "scaler_mr.fit(train_mr)"
   ]
  },
  {
   "cell_type": "code",
   "execution_count": 28,
   "metadata": {},
   "outputs": [
    {
     "name": "stdout",
     "output_type": "stream",
     "text": [
      "Train on 20000 samples, validate on 20000 samples\n",
      "Epoch 1/5\n",
      "20000/20000 [==============================] - 7s 362us/step - loss: 0.0182 - mean_squared_error: 0.0216 - val_loss: 0.0137 - val_mean_squared_error: 0.0144\n",
      "Epoch 2/5\n",
      "20000/20000 [==============================] - 6s 277us/step - loss: 0.0182 - mean_squared_error: 0.0215 - val_loss: 0.0131 - val_mean_squared_error: 0.0138\n",
      "Epoch 3/5\n",
      "20000/20000 [==============================] - 6s 277us/step - loss: 0.0181 - mean_squared_error: 0.0213 - val_loss: 0.0133 - val_mean_squared_error: 0.0140\n",
      "Epoch 4/5\n",
      "20000/20000 [==============================] - 6s 276us/step - loss: 0.0182 - mean_squared_error: 0.0215 - val_loss: 0.0129 - val_mean_squared_error: 0.0136\n",
      "Epoch 5/5\n",
      "20000/20000 [==============================] - 6s 282us/step - loss: 0.0181 - mean_squared_error: 0.0214 - val_loss: 0.0138 - val_mean_squared_error: 0.0145\n"
     ]
    },
    {
     "data": {
      "text/plain": [
       "<tensorflow.python.keras.callbacks.History at 0x7efd74283610>"
      ]
     },
     "execution_count": 28,
     "metadata": {},
     "output_type": "execute_result"
    }
   ],
   "source": [
    "model1.fit([scaler_mr.transform(train_mr),train_w], scaler_mr.transform(train_mr), epochs=5, batch_size=32, \n",
    "          validation_data=[[scaler_mr.transform(test_mr),train_w],scaler_mr.transform(test_mr)])"
   ]
  },
  {
   "cell_type": "code",
   "execution_count": 29,
   "metadata": {},
   "outputs": [
    {
     "data": {
      "text/html": [
       "<div>\n",
       "<style scoped>\n",
       "    .dataframe tbody tr th:only-of-type {\n",
       "        vertical-align: middle;\n",
       "    }\n",
       "\n",
       "    .dataframe tbody tr th {\n",
       "        vertical-align: top;\n",
       "    }\n",
       "\n",
       "    .dataframe thead th {\n",
       "        text-align: right;\n",
       "    }\n",
       "</style>\n",
       "<table border=\"1\" class=\"dataframe\">\n",
       "  <thead>\n",
       "    <tr style=\"text-align: right;\">\n",
       "      <th></th>\n",
       "      <th>level_0</th>\n",
       "      <th>index</th>\n",
       "      <th>ITS</th>\n",
       "      <th>TOF</th>\n",
       "      <th>TPCROC0</th>\n",
       "      <th>TPCROC1</th>\n",
       "      <th>TPCROC2</th>\n",
       "      <th>TRD</th>\n",
       "      <th>p</th>\n",
       "      <th>particle</th>\n",
       "      <th>...</th>\n",
       "      <th>TPCROC2_0</th>\n",
       "      <th>TRD_mr</th>\n",
       "      <th>TRD_w</th>\n",
       "      <th>TRD_0</th>\n",
       "      <th>ITS_ae</th>\n",
       "      <th>TOF_ae</th>\n",
       "      <th>TPCROC0_ae</th>\n",
       "      <th>TPCROC1_ae</th>\n",
       "      <th>TPCROC2_ae</th>\n",
       "      <th>TRD_ae</th>\n",
       "    </tr>\n",
       "  </thead>\n",
       "  <tbody>\n",
       "    <tr>\n",
       "      <th>0</th>\n",
       "      <td>0</td>\n",
       "      <td>10244</td>\n",
       "      <td>0.002864</td>\n",
       "      <td>1.035537</td>\n",
       "      <td>1.468154</td>\n",
       "      <td>1.576882</td>\n",
       "      <td>1.633345</td>\n",
       "      <td>1.399334</td>\n",
       "      <td>1.520442</td>\n",
       "      <td>2</td>\n",
       "      <td>...</td>\n",
       "      <td>1.633345</td>\n",
       "      <td>1.399334</td>\n",
       "      <td>1.0</td>\n",
       "      <td>1.399334</td>\n",
       "      <td>0.002636</td>\n",
       "      <td>0.991766</td>\n",
       "      <td>1.518721</td>\n",
       "      <td>1.549294</td>\n",
       "      <td>1.515958</td>\n",
       "      <td>1.526323</td>\n",
       "    </tr>\n",
       "    <tr>\n",
       "      <th>1</th>\n",
       "      <td>1</td>\n",
       "      <td>38092</td>\n",
       "      <td>0.003103</td>\n",
       "      <td>0.653779</td>\n",
       "      <td>2.108281</td>\n",
       "      <td>1.730810</td>\n",
       "      <td>1.889418</td>\n",
       "      <td>1.668988</td>\n",
       "      <td>0.375478</td>\n",
       "      <td>4</td>\n",
       "      <td>...</td>\n",
       "      <td>1.889418</td>\n",
       "      <td>1.668988</td>\n",
       "      <td>1.0</td>\n",
       "      <td>1.668988</td>\n",
       "      <td>0.003349</td>\n",
       "      <td>0.621060</td>\n",
       "      <td>1.839653</td>\n",
       "      <td>1.945360</td>\n",
       "      <td>1.905036</td>\n",
       "      <td>1.874454</td>\n",
       "    </tr>\n",
       "    <tr>\n",
       "      <th>2</th>\n",
       "      <td>2</td>\n",
       "      <td>1997</td>\n",
       "      <td>0.002626</td>\n",
       "      <td>1.082544</td>\n",
       "      <td>1.111228</td>\n",
       "      <td>1.293733</td>\n",
       "      <td>1.057884</td>\n",
       "      <td>1.240914</td>\n",
       "      <td>4.078123</td>\n",
       "      <td>0</td>\n",
       "      <td>...</td>\n",
       "      <td>1.057884</td>\n",
       "      <td>1.240914</td>\n",
       "      <td>1.0</td>\n",
       "      <td>1.240914</td>\n",
       "      <td>0.001886</td>\n",
       "      <td>1.036027</td>\n",
       "      <td>1.145494</td>\n",
       "      <td>1.177350</td>\n",
       "      <td>1.161160</td>\n",
       "      <td>1.134565</td>\n",
       "    </tr>\n",
       "  </tbody>\n",
       "</table>\n",
       "<p>3 rows × 35 columns</p>\n",
       "</div>"
      ],
      "text/plain": [
       "   level_0  index       ITS       TOF   TPCROC0   TPCROC1   TPCROC2       TRD  \\\n",
       "0        0  10244  0.002864  1.035537  1.468154  1.576882  1.633345  1.399334   \n",
       "1        1  38092  0.003103  0.653779  2.108281  1.730810  1.889418  1.668988   \n",
       "2        2   1997  0.002626  1.082544  1.111228  1.293733  1.057884  1.240914   \n",
       "\n",
       "          p  particle    ...     TPCROC2_0    TRD_mr  TRD_w     TRD_0  \\\n",
       "0  1.520442         2    ...      1.633345  1.399334    1.0  1.399334   \n",
       "1  0.375478         4    ...      1.889418  1.668988    1.0  1.668988   \n",
       "2  4.078123         0    ...      1.057884  1.240914    1.0  1.240914   \n",
       "\n",
       "     ITS_ae    TOF_ae  TPCROC0_ae  TPCROC1_ae  TPCROC2_ae    TRD_ae  \n",
       "0  0.002636  0.991766    1.518721    1.549294    1.515958  1.526323  \n",
       "1  0.003349  0.621060    1.839653    1.945360    1.905036  1.874454  \n",
       "2  0.001886  1.036027    1.145494    1.177350    1.161160  1.134565  \n",
       "\n",
       "[3 rows x 35 columns]"
      ]
     },
     "execution_count": 29,
     "metadata": {},
     "output_type": "execute_result"
    }
   ],
   "source": [
    "out = scaler_mr.inverse_transform(model1.predict([scaler_mr.transform(test_mr),test_w]))\n",
    "AE_predict = pd.DataFrame(out)\n",
    "AE_predict.columns = [\"ITS_ae\", \"TOF_ae\", \"TPCROC0_ae\", \"TPCROC1_ae\", \"TPCROC2_ae\", \"TRD_ae\"]\n",
    "#test = test.reset_index()\n",
    "df_test = pd.concat([test,AE_predict], axis = 1)\n",
    "df_test.head(3)"
   ]
  },
  {
   "cell_type": "code",
   "execution_count": 30,
   "metadata": {},
   "outputs": [
    {
     "data": {
      "image/png": "[encoded data removed]",
      "text/plain": [
       "<Figure size 432x288 with 1 Axes>"
      ]
     },
     "metadata": {
      "needs_background": "light"
     },
     "output_type": "display_data"
    },
    {
     "data": {
      "image/png": "[encoded data removed]",
      "text/plain": [
       "<Figure size 432x288 with 1 Axes>"
      ]
     },
     "metadata": {
      "needs_background": "light"
     },
     "output_type": "display_data"
    }
   ],
   "source": [
    "plt.hist2d(df_all[\"p\"], df_all[\"TPCROC1\"], bins=(100, 100), cmap=plt.cm.jet, range = [[0.2, 2], [0.5, 3]])\n",
    "plt.show()\n",
    "plt.hist2d(df_test[\"p\"], df_test[\"TPCROC1_ae\"], bins=(100, 100), cmap=plt.cm.jet, range = [[0.2, 2], [0.5, 3]])\n",
    "plt.show()"
   ]
  },
  {
   "cell_type": "markdown",
   "metadata": {},
   "source": [
    "# second iteration, replace missing values by values from first iteration"
   ]
  },
  {
   "cell_type": "code",
   "execution_count": 31,
   "metadata": {},
   "outputs": [],
   "source": [
    "# stage 2\n",
    "stage2_data = df_stage_2[[\"ITS_mr\", \"TOF_mr\", \"TPCROC0_mr\", \"TPCROC1_mr\", \"TPCROC2_mr\", \"TRD_mr\"]]\n",
    "out = scaler_mr.inverse_transform(models2.predict(scaler_mr.transform(stage2_data)))\n",
    "AE_predict = pd.DataFrame(out)\n",
    "AE_predict.columns = [\"ITS_ae\", \"TOF_ae\", \"TPCROC0_ae\", \"TPCROC1_ae\", \"TPCROC2_ae\", \"TRD_ae\"]\n",
    "for i ,name in enumerate(['ITS','TOF','TPCROC0','TPCROC1','TPCROC2','TRD']):\n",
    "    # calculate \"flip= 0/1\"\n",
    "    f=(np.array(df_stage_2['flips'])>>i)&1\n",
    "    m=AE_predict[name+'_ae']\n",
    "    df_stage_2.loc[:,name+'_s2']= df_stage_2[name].multiply(f,axis='index')+m*(1-f)"
   ]
  },
  {
   "cell_type": "code",
   "execution_count": 32,
   "metadata": {},
   "outputs": [],
   "source": [
    "train, test =train_test_split(df_stage_2, test_size=0.5)\n",
    "train_s2 = train[[\"ITS_s2\", \"TOF_s2\", \"TPCROC0_s2\", \"TPCROC1_s2\", \"TPCROC2_s2\", \"TRD_s2\"]]\n",
    "test_s2 = test[[\"ITS_s2\", \"TOF_s2\", \"TPCROC0_s2\", \"TPCROC1_s2\", \"TPCROC2_s2\", \"TRD_s2\"]]"
   ]
  },
  {
   "cell_type": "code",
   "execution_count": 33,
   "metadata": {},
   "outputs": [
    {
     "name": "stdout",
     "output_type": "stream",
     "text": [
      "Train on 20000 samples, validate on 20000 samples\n",
      "Epoch 1/5\n",
      "20000/20000 [==============================] - 8s 379us/step - loss: 0.0182 - mean_squared_error: 0.0182 - val_loss: 0.0111 - val_mean_squared_error: 0.0111\n",
      "Epoch 2/5\n",
      "20000/20000 [==============================] - 6s 282us/step - loss: 0.0181 - mean_squared_error: 0.0181 - val_loss: 0.0107 - val_mean_squared_error: 0.0107\n",
      "Epoch 3/5\n",
      "20000/20000 [==============================] - 6s 280us/step - loss: 0.0181 - mean_squared_error: 0.0181 - val_loss: 0.0109 - val_mean_squared_error: 0.0109\n",
      "Epoch 4/5\n",
      "20000/20000 [==============================] - 6s 276us/step - loss: 0.0180 - mean_squared_error: 0.0180 - val_loss: 0.0106 - val_mean_squared_error: 0.0106\n",
      "Epoch 5/5\n",
      "20000/20000 [==============================] - 6s 282us/step - loss: 0.0181 - mean_squared_error: 0.0181 - val_loss: 0.0109 - val_mean_squared_error: 0.0109\n"
     ]
    },
    {
     "data": {
      "text/plain": [
       "<tensorflow.python.keras.callbacks.History at 0x7efd741b9c50>"
      ]
     },
     "execution_count": 33,
     "metadata": {},
     "output_type": "execute_result"
    }
   ],
   "source": [
    "scaler_s2 = StandardScaler()\n",
    "scaler_s2.fit(train_s2)\n",
    "models2.fit(scaler_s2.transform(train_s2), scaler_s2.transform(train_s2), epochs=5, batch_size=32, \n",
    "          validation_data=[scaler_s2.transform(test_s2),scaler_s2.transform(test_s2)])"
   ]
  },
  {
   "cell_type": "code",
   "execution_count": 34,
   "metadata": {},
   "outputs": [
    {
     "data": {
      "text/html": [
       "<div>\n",
       "<style scoped>\n",
       "    .dataframe tbody tr th:only-of-type {\n",
       "        vertical-align: middle;\n",
       "    }\n",
       "\n",
       "    .dataframe tbody tr th {\n",
       "        vertical-align: top;\n",
       "    }\n",
       "\n",
       "    .dataframe thead th {\n",
       "        text-align: right;\n",
       "    }\n",
       "</style>\n",
       "<table border=\"1\" class=\"dataframe\">\n",
       "  <thead>\n",
       "    <tr style=\"text-align: right;\">\n",
       "      <th></th>\n",
       "      <th>index</th>\n",
       "      <th>ITS</th>\n",
       "      <th>TOF</th>\n",
       "      <th>TPCROC0</th>\n",
       "      <th>TPCROC1</th>\n",
       "      <th>TPCROC2</th>\n",
       "      <th>TRD</th>\n",
       "      <th>p</th>\n",
       "      <th>particle</th>\n",
       "      <th>flips</th>\n",
       "      <th>...</th>\n",
       "      <th>TPCROC0_s2</th>\n",
       "      <th>TPCROC1_s2</th>\n",
       "      <th>TPCROC2_s2</th>\n",
       "      <th>TRD_s2</th>\n",
       "      <th>ITS_ae</th>\n",
       "      <th>TOF_ae</th>\n",
       "      <th>TPCROC0_ae</th>\n",
       "      <th>TPCROC1_ae</th>\n",
       "      <th>TPCROC2_ae</th>\n",
       "      <th>TRD_ae</th>\n",
       "    </tr>\n",
       "  </thead>\n",
       "  <tbody>\n",
       "    <tr>\n",
       "      <th>0</th>\n",
       "      <td>21546</td>\n",
       "      <td>0.001756</td>\n",
       "      <td>0.788007</td>\n",
       "      <td>1.051440</td>\n",
       "      <td>1.067432</td>\n",
       "      <td>1.041700</td>\n",
       "      <td>1.188785</td>\n",
       "      <td>6.384989</td>\n",
       "      <td>3</td>\n",
       "      <td>63</td>\n",
       "      <td>...</td>\n",
       "      <td>1.051440</td>\n",
       "      <td>1.067432</td>\n",
       "      <td>1.041700</td>\n",
       "      <td>1.188785</td>\n",
       "      <td>0.001776</td>\n",
       "      <td>0.905763</td>\n",
       "      <td>1.064749</td>\n",
       "      <td>1.068360</td>\n",
       "      <td>1.065892</td>\n",
       "      <td>1.068910</td>\n",
       "    </tr>\n",
       "    <tr>\n",
       "      <th>1</th>\n",
       "      <td>37292</td>\n",
       "      <td>0.001611</td>\n",
       "      <td>0.796185</td>\n",
       "      <td>1.066312</td>\n",
       "      <td>1.126025</td>\n",
       "      <td>0.822468</td>\n",
       "      <td>0.924678</td>\n",
       "      <td>1.112189</td>\n",
       "      <td>4</td>\n",
       "      <td>63</td>\n",
       "      <td>...</td>\n",
       "      <td>1.066312</td>\n",
       "      <td>1.126025</td>\n",
       "      <td>0.822468</td>\n",
       "      <td>0.924678</td>\n",
       "      <td>0.001726</td>\n",
       "      <td>0.908386</td>\n",
       "      <td>1.030552</td>\n",
       "      <td>1.032142</td>\n",
       "      <td>1.032937</td>\n",
       "      <td>1.036635</td>\n",
       "    </tr>\n",
       "    <tr>\n",
       "      <th>2</th>\n",
       "      <td>7147</td>\n",
       "      <td>0.001449</td>\n",
       "      <td>0.875710</td>\n",
       "      <td>1.021376</td>\n",
       "      <td>1.045734</td>\n",
       "      <td>1.128446</td>\n",
       "      <td>1.101254</td>\n",
       "      <td>0.325549</td>\n",
       "      <td>0</td>\n",
       "      <td>63</td>\n",
       "      <td>...</td>\n",
       "      <td>1.021376</td>\n",
       "      <td>1.045734</td>\n",
       "      <td>1.128446</td>\n",
       "      <td>1.101254</td>\n",
       "      <td>0.001744</td>\n",
       "      <td>0.924878</td>\n",
       "      <td>1.045920</td>\n",
       "      <td>1.046267</td>\n",
       "      <td>1.046983</td>\n",
       "      <td>1.048801</td>\n",
       "    </tr>\n",
       "  </tbody>\n",
       "</table>\n",
       "<p>3 rows × 40 columns</p>\n",
       "</div>"
      ],
      "text/plain": [
       "   index       ITS       TOF   TPCROC0   TPCROC1   TPCROC2       TRD  \\\n",
       "0  21546  0.001756  0.788007  1.051440  1.067432  1.041700  1.188785   \n",
       "1  37292  0.001611  0.796185  1.066312  1.126025  0.822468  0.924678   \n",
       "2   7147  0.001449  0.875710  1.021376  1.045734  1.128446  1.101254   \n",
       "\n",
       "          p  particle  flips    ...     TPCROC0_s2  TPCROC1_s2  TPCROC2_s2  \\\n",
       "0  6.384989         3     63    ...       1.051440    1.067432    1.041700   \n",
       "1  1.112189         4     63    ...       1.066312    1.126025    0.822468   \n",
       "2  0.325549         0     63    ...       1.021376    1.045734    1.128446   \n",
       "\n",
       "     TRD_s2    ITS_ae    TOF_ae  TPCROC0_ae  TPCROC1_ae  TPCROC2_ae    TRD_ae  \n",
       "0  1.188785  0.001776  0.905763    1.064749    1.068360    1.065892  1.068910  \n",
       "1  0.924678  0.001726  0.908386    1.030552    1.032142    1.032937  1.036635  \n",
       "2  1.101254  0.001744  0.924878    1.045920    1.046267    1.046983  1.048801  \n",
       "\n",
       "[3 rows x 40 columns]"
      ]
     },
     "execution_count": 34,
     "metadata": {},
     "output_type": "execute_result"
    }
   ],
   "source": [
    "out = scaler_s2.inverse_transform(models2.predict(scaler_s2.transform(test_s2)))\n",
    "AE_predict = pd.DataFrame(out)\n",
    "AE_predict.columns = [\"ITS_ae\", \"TOF_ae\", \"TPCROC0_ae\", \"TPCROC1_ae\", \"TPCROC2_ae\", \"TRD_ae\"]\n",
    "test = test.reset_index()\n",
    "df_test = pd.concat([test,AE_predict], axis = 1)\n",
    "df_test.head(3)"
   ]
  },
  {
   "cell_type": "code",
   "execution_count": 35,
   "metadata": {},
   "outputs": [
    {
     "data": {
      "image/png": "[encoded data removed]",
      "text/plain": [
       "<Figure size 432x288 with 1 Axes>"
      ]
     },
     "metadata": {
      "needs_background": "light"
     },
     "output_type": "display_data"
    },
    {
     "data": {
      "image/png": "[encoded data removed]",
      "text/plain": [
       "<Figure size 432x288 with 1 Axes>"
      ]
     },
     "metadata": {
      "needs_background": "light"
     },
     "output_type": "display_data"
    }
   ],
   "source": [
    "plt.hist2d(df_all[\"p\"], df_all[\"TPCROC1\"], bins=(100, 100), cmap=plt.cm.jet, range = [[0.2, 2], [0.5, 3]])\n",
    "plt.show()\n",
    "plt.hist2d(df_test[\"p\"], df_test[\"TPCROC1_ae\"], bins=(100, 100), cmap=plt.cm.jet, range = [[0.2, 2], [0.5, 3]])\n",
    "plt.show()"
   ]
  },
  {
   "cell_type": "code",
   "execution_count": null,
   "metadata": {},
   "outputs": [],
   "source": []
  }
 ],
 "metadata": {
  "kernelspec": {
   "display_name": "Python 3",
   "language": "python",
   "name": "python3"
  },
  "language_info": {
   "codemirror_mode": {
    "name": "ipython",
    "version": 2
   },
   "file_extension": ".py",
   "mimetype": "text/x-python",
   "name": "python",
   "nbconvert_exporter": "python",
   "pygments_lexer": "ipython2",
   "version": "2.7.12"
  }
 },
 "nbformat": 4,
 "nbformat_minor": 2
}
