{
 "cells": [
  {
   "cell_type": "code",
   "execution_count": 1,
   "metadata": {},
   "outputs": [
    {
     "name": "stdout",
     "output_type": "stream",
     "text": [
      "Welcome to JupyROOT 6.10/08\n"
     ]
    }
   ],
   "source": [
    "import ROOT\n",
    "import numpy as np\n",
    "import matplotlib.pyplot as plt\n",
    "import math\n",
    "import pandas as pd\n",
    "from sklearn.model_selection import train_test_split\n",
    "from sklearn.preprocessing import StandardScaler\n",
    "from tensorflow.keras.models import Sequential, Model\n",
    "from tensorflow.keras.layers import Dense, Input, GaussianNoise, Lambda, multiply\n",
    "import tensorflow.keras.backend as K\n",
    "import tensorflow as tf\n",
    "from functools import partial"
   ]
  },
  {
   "cell_type": "code",
   "execution_count": 2,
   "metadata": {},
   "outputs": [],
   "source": [
    "n_particles = 10000/2\n",
    "p = np.random.uniform(0.3,10.,n_particles)\n",
    "mp = np.random.uniform(1/10.,1/0.3,n_particles)\n",
    "p_mp = 1./mp "
   ]
  },
  {
   "cell_type": "code",
   "execution_count": 3,
   "metadata": {},
   "outputs": [
    {
     "data": {
      "image/png": "[encoded data removed]",
      "text/plain": [
       "<Figure size 432x288 with 1 Axes>"
      ]
     },
     "metadata": {
      "needs_background": "light"
     },
     "output_type": "display_data"
    },
    {
     "data": {
      "image/png": "[encoded data removed]",
      "text/plain": [
       "<Figure size 432x288 with 1 Axes>"
      ]
     },
     "metadata": {
      "needs_background": "light"
     },
     "output_type": "display_data"
    }
   ],
   "source": [
    "plt.hist(p_mp,50,range=(0.,10.))\n",
    "plt.show()\n",
    "p_ges = np.concatenate([p,p_mp])\n",
    "plt.hist(p_ges,50,range=(0,10))\n",
    "plt.show()"
   ]
  },
  {
   "cell_type": "code",
   "execution_count": 4,
   "metadata": {},
   "outputs": [
    {
     "data": {
      "text/plain": [
       "[0.139, 0.105, 0.000511, 0.938, 0.494]"
      ]
     },
     "execution_count": 4,
     "metadata": {},
     "output_type": "execute_result"
    }
   ],
   "source": [
    "mass_pi = 0.139\n",
    "mass_mu = 0.105\n",
    "mass_e = 0.000511\n",
    "mass_p = 0.938\n",
    "mass_K = 0.494\n",
    "masses = [mass_pi, mass_mu, mass_e, mass_p, mass_K]\n",
    "masses"
   ]
  },
  {
   "cell_type": "code",
   "execution_count": 5,
   "metadata": {},
   "outputs": [],
   "source": [
    "signals = []\n",
    "for mass in masses:\n",
    "    ITS_tmp = []\n",
    "    TPCROC0_tmp = []\n",
    "    TPCROC1_tmp = []\n",
    "    TPCROC2_tmp = []\n",
    "    TRD_tmp = []\n",
    "    TOF_tmp = []\n",
    "    for p in p_ges:\n",
    "        bg = p/mass\n",
    "        beta = bg/math.sqrt(1.+ bg*bg);\n",
    "        BBS = ROOT.AliExternalTrackParam.BetheBlochSolid(bg)\n",
    "        BBA = ROOT.AliExternalTrackParam.BetheBlochAleph(bg)\n",
    "        ITS_tmp.append(np.random.normal(BBS,0.1*BBS) ) ## ITS dEdx = smeared gaus 10% \n",
    "        TPCROC0_tmp.append(np.random.normal(BBA,0.1*BBA) )## TPC dEdx = smeared gaus 10% for 1st layer\n",
    "        TPCROC1_tmp.append(np.random.normal(BBA,0.1*BBA) )  ## TPC dEdx = smeared gaus 10% for 2nd layer\n",
    "        TPCROC2_tmp.append(np.random.normal(BBA,0.1*BBA) )  ## TPC dEdx = smeared gaus 10% for 3d layer\n",
    "        TRD_tmp.append(np.random.normal(BBA,0.1*BBA) )  ## TRD dEdx = smeared gaus 10% \n",
    "        TOF_tmp.append(np.random.normal(beta,0.1*beta) )  ## TOF - smeared with .... gaussian\n",
    "    signals.append({'ITS': ITS_tmp, 'TPCROC0': TPCROC0_tmp, 'TPCROC1': TPCROC1_tmp, 'TPCROC1': TPCROC1_tmp, \n",
    "                    'TPCROC2': TPCROC2_tmp, 'TRD': TRD_tmp, 'TOF': TOF_tmp})"
   ]
  },
  {
   "cell_type": "code",
   "execution_count": 6,
   "metadata": {},
   "outputs": [
    {
     "data": {
      "text/plain": [
       "[]"
      ]
     },
     "execution_count": 6,
     "metadata": {},
     "output_type": "execute_result"
    },
    {
     "data": {
      "image/png": "[encoded data removed]",
      "text/plain": [
       "<Figure size 432x288 with 1 Axes>"
      ]
     },
     "metadata": {
      "needs_background": "light"
     },
     "output_type": "display_data"
    }
   ],
   "source": [
    "df_list=[]\n",
    "for i, val in enumerate(masses):\n",
    "    df = pd.DataFrame.from_dict(signals[i])\n",
    "    df['p'] = pd.Series(p_ges, index=df.index)\n",
    "    df['particle'] = pd.Series(i, index=df.index)\n",
    "    df_list.append(df)\n",
    "df_all = pd.concat([df_list[0],df_list[2],df_list[3],df_list[4]], ignore_index=True)\n",
    "plt.hist2d(df_all[\"p\"], df_all[\"TPCROC1\"], bins=(100, 100), cmap=plt.cm.jet, range = [[0.2, 2], [0.5, 3]])\n",
    "plt.plot()"
   ]
  },
  {
   "cell_type": "code",
   "execution_count": 7,
   "metadata": {},
   "outputs": [
    {
     "data": {
      "text/html": [
       "<div>\n",
       "<style scoped>\n",
       "    .dataframe tbody tr th:only-of-type {\n",
       "        vertical-align: middle;\n",
       "    }\n",
       "\n",
       "    .dataframe tbody tr th {\n",
       "        vertical-align: top;\n",
       "    }\n",
       "\n",
       "    .dataframe thead th {\n",
       "        text-align: right;\n",
       "    }\n",
       "</style>\n",
       "<table border=\"1\" class=\"dataframe\">\n",
       "  <thead>\n",
       "    <tr style=\"text-align: right;\">\n",
       "      <th></th>\n",
       "      <th>ITS</th>\n",
       "      <th>TOF</th>\n",
       "      <th>TPCROC0</th>\n",
       "      <th>TPCROC1</th>\n",
       "      <th>TPCROC2</th>\n",
       "      <th>TRD</th>\n",
       "      <th>p</th>\n",
       "      <th>particle</th>\n",
       "      <th>flips</th>\n",
       "    </tr>\n",
       "  </thead>\n",
       "  <tbody>\n",
       "    <tr>\n",
       "      <th>0</th>\n",
       "      <td>0.002263</td>\n",
       "      <td>0.884046</td>\n",
       "      <td>1.372702</td>\n",
       "      <td>1.268054</td>\n",
       "      <td>1.339133</td>\n",
       "      <td>1.224131</td>\n",
       "      <td>4.436232</td>\n",
       "      <td>0</td>\n",
       "      <td>47</td>\n",
       "    </tr>\n",
       "    <tr>\n",
       "      <th>1</th>\n",
       "      <td>0.001891</td>\n",
       "      <td>1.109201</td>\n",
       "      <td>1.295813</td>\n",
       "      <td>1.536246</td>\n",
       "      <td>1.130210</td>\n",
       "      <td>1.200917</td>\n",
       "      <td>8.009063</td>\n",
       "      <td>0</td>\n",
       "      <td>31</td>\n",
       "    </tr>\n",
       "    <tr>\n",
       "      <th>2</th>\n",
       "      <td>0.001981</td>\n",
       "      <td>0.976484</td>\n",
       "      <td>1.235396</td>\n",
       "      <td>1.300277</td>\n",
       "      <td>1.634170</td>\n",
       "      <td>1.398917</td>\n",
       "      <td>9.455330</td>\n",
       "      <td>0</td>\n",
       "      <td>59</td>\n",
       "    </tr>\n",
       "    <tr>\n",
       "      <th>3</th>\n",
       "      <td>0.001999</td>\n",
       "      <td>0.975399</td>\n",
       "      <td>1.144921</td>\n",
       "      <td>1.443357</td>\n",
       "      <td>1.213328</td>\n",
       "      <td>1.291755</td>\n",
       "      <td>6.624797</td>\n",
       "      <td>0</td>\n",
       "      <td>62</td>\n",
       "    </tr>\n",
       "    <tr>\n",
       "      <th>4</th>\n",
       "      <td>0.001576</td>\n",
       "      <td>0.974154</td>\n",
       "      <td>1.230762</td>\n",
       "      <td>1.130028</td>\n",
       "      <td>1.059009</td>\n",
       "      <td>1.005102</td>\n",
       "      <td>0.354316</td>\n",
       "      <td>0</td>\n",
       "      <td>63</td>\n",
       "    </tr>\n",
       "  </tbody>\n",
       "</table>\n",
       "</div>"
      ],
      "text/plain": [
       "        ITS       TOF   TPCROC0   TPCROC1   TPCROC2       TRD         p  \\\n",
       "0  0.002263  0.884046  1.372702  1.268054  1.339133  1.224131  4.436232   \n",
       "1  0.001891  1.109201  1.295813  1.536246  1.130210  1.200917  8.009063   \n",
       "2  0.001981  0.976484  1.235396  1.300277  1.634170  1.398917  9.455330   \n",
       "3  0.001999  0.975399  1.144921  1.443357  1.213328  1.291755  6.624797   \n",
       "4  0.001576  0.974154  1.230762  1.130028  1.059009  1.005102  0.354316   \n",
       "\n",
       "   particle  flips  \n",
       "0         0     47  \n",
       "1         0     31  \n",
       "2         0     59  \n",
       "3         0     62  \n",
       "4         0     63  "
      ]
     },
     "execution_count": 7,
     "metadata": {},
     "output_type": "execute_result"
    }
   ],
   "source": [
    "N=len(df_all)\n",
    "probabilty = 0.95\n",
    "\n",
    "flips_raw = (1*(np.random.random(size=6*N)<probabilty)).reshape(6,-1)\n",
    "\n",
    "flips=flips_raw[0]\n",
    "for i in range(1,6):\n",
    "    # (1<<i = 2**i)\n",
    "    flips=flips_raw[i]*(1<<i) + flips\n",
    "\n",
    "\n",
    "df_all.loc[:,'flips']=flips\n",
    "df_all.head(5)"
   ]
  },
  {
   "cell_type": "code",
   "execution_count": 8,
   "metadata": {},
   "outputs": [
    {
     "data": {
      "text/html": [
       "<div>\n",
       "<style scoped>\n",
       "    .dataframe tbody tr th:only-of-type {\n",
       "        vertical-align: middle;\n",
       "    }\n",
       "\n",
       "    .dataframe tbody tr th {\n",
       "        vertical-align: top;\n",
       "    }\n",
       "\n",
       "    .dataframe thead th {\n",
       "        text-align: right;\n",
       "    }\n",
       "</style>\n",
       "<table border=\"1\" class=\"dataframe\">\n",
       "  <thead>\n",
       "    <tr style=\"text-align: right;\">\n",
       "      <th></th>\n",
       "      <th>ITS</th>\n",
       "      <th>TOF</th>\n",
       "      <th>TPCROC0</th>\n",
       "      <th>TPCROC1</th>\n",
       "      <th>TPCROC2</th>\n",
       "      <th>TRD</th>\n",
       "      <th>p</th>\n",
       "      <th>particle</th>\n",
       "      <th>flips</th>\n",
       "      <th>ITS_mr</th>\n",
       "      <th>...</th>\n",
       "      <th>TPCROC0_0</th>\n",
       "      <th>TPCROC1_mr</th>\n",
       "      <th>TPCROC1_w</th>\n",
       "      <th>TPCROC1_0</th>\n",
       "      <th>TPCROC2_mr</th>\n",
       "      <th>TPCROC2_w</th>\n",
       "      <th>TPCROC2_0</th>\n",
       "      <th>TRD_mr</th>\n",
       "      <th>TRD_w</th>\n",
       "      <th>TRD_0</th>\n",
       "    </tr>\n",
       "  </thead>\n",
       "  <tbody>\n",
       "    <tr>\n",
       "      <th>0</th>\n",
       "      <td>0.002263</td>\n",
       "      <td>0.884046</td>\n",
       "      <td>1.372702</td>\n",
       "      <td>1.268054</td>\n",
       "      <td>1.339133</td>\n",
       "      <td>1.224131</td>\n",
       "      <td>4.436232</td>\n",
       "      <td>0</td>\n",
       "      <td>47</td>\n",
       "      <td>0.002263</td>\n",
       "      <td>...</td>\n",
       "      <td>1.372702</td>\n",
       "      <td>1.268054</td>\n",
       "      <td>1.0</td>\n",
       "      <td>1.268054</td>\n",
       "      <td>1.478230</td>\n",
       "      <td>0.0</td>\n",
       "      <td>0.000000</td>\n",
       "      <td>1.224131</td>\n",
       "      <td>1.0</td>\n",
       "      <td>1.224131</td>\n",
       "    </tr>\n",
       "    <tr>\n",
       "      <th>1</th>\n",
       "      <td>0.001891</td>\n",
       "      <td>1.109201</td>\n",
       "      <td>1.295813</td>\n",
       "      <td>1.536246</td>\n",
       "      <td>1.130210</td>\n",
       "      <td>1.200917</td>\n",
       "      <td>8.009063</td>\n",
       "      <td>0</td>\n",
       "      <td>31</td>\n",
       "      <td>0.001891</td>\n",
       "      <td>...</td>\n",
       "      <td>1.295813</td>\n",
       "      <td>1.536246</td>\n",
       "      <td>1.0</td>\n",
       "      <td>1.536246</td>\n",
       "      <td>1.130210</td>\n",
       "      <td>1.0</td>\n",
       "      <td>1.130210</td>\n",
       "      <td>1.479566</td>\n",
       "      <td>0.0</td>\n",
       "      <td>0.000000</td>\n",
       "    </tr>\n",
       "    <tr>\n",
       "      <th>2</th>\n",
       "      <td>0.001981</td>\n",
       "      <td>0.976484</td>\n",
       "      <td>1.235396</td>\n",
       "      <td>1.300277</td>\n",
       "      <td>1.634170</td>\n",
       "      <td>1.398917</td>\n",
       "      <td>9.455330</td>\n",
       "      <td>0</td>\n",
       "      <td>59</td>\n",
       "      <td>0.001981</td>\n",
       "      <td>...</td>\n",
       "      <td>0.000000</td>\n",
       "      <td>1.300277</td>\n",
       "      <td>1.0</td>\n",
       "      <td>1.300277</td>\n",
       "      <td>1.634170</td>\n",
       "      <td>1.0</td>\n",
       "      <td>1.634170</td>\n",
       "      <td>1.398917</td>\n",
       "      <td>1.0</td>\n",
       "      <td>1.398917</td>\n",
       "    </tr>\n",
       "    <tr>\n",
       "      <th>3</th>\n",
       "      <td>0.001999</td>\n",
       "      <td>0.975399</td>\n",
       "      <td>1.144921</td>\n",
       "      <td>1.443357</td>\n",
       "      <td>1.213328</td>\n",
       "      <td>1.291755</td>\n",
       "      <td>6.624797</td>\n",
       "      <td>0</td>\n",
       "      <td>62</td>\n",
       "      <td>0.002521</td>\n",
       "      <td>...</td>\n",
       "      <td>1.144921</td>\n",
       "      <td>1.443357</td>\n",
       "      <td>1.0</td>\n",
       "      <td>1.443357</td>\n",
       "      <td>1.213328</td>\n",
       "      <td>1.0</td>\n",
       "      <td>1.213328</td>\n",
       "      <td>1.291755</td>\n",
       "      <td>1.0</td>\n",
       "      <td>1.291755</td>\n",
       "    </tr>\n",
       "    <tr>\n",
       "      <th>4</th>\n",
       "      <td>0.001576</td>\n",
       "      <td>0.974154</td>\n",
       "      <td>1.230762</td>\n",
       "      <td>1.130028</td>\n",
       "      <td>1.059009</td>\n",
       "      <td>1.005102</td>\n",
       "      <td>0.354316</td>\n",
       "      <td>0</td>\n",
       "      <td>63</td>\n",
       "      <td>0.001576</td>\n",
       "      <td>...</td>\n",
       "      <td>1.230762</td>\n",
       "      <td>1.130028</td>\n",
       "      <td>1.0</td>\n",
       "      <td>1.130028</td>\n",
       "      <td>1.059009</td>\n",
       "      <td>1.0</td>\n",
       "      <td>1.059009</td>\n",
       "      <td>1.005102</td>\n",
       "      <td>1.0</td>\n",
       "      <td>1.005102</td>\n",
       "    </tr>\n",
       "    <tr>\n",
       "      <th>5</th>\n",
       "      <td>0.002082</td>\n",
       "      <td>0.984501</td>\n",
       "      <td>1.438866</td>\n",
       "      <td>1.404455</td>\n",
       "      <td>1.363916</td>\n",
       "      <td>1.202953</td>\n",
       "      <td>9.994997</td>\n",
       "      <td>0</td>\n",
       "      <td>47</td>\n",
       "      <td>0.002082</td>\n",
       "      <td>...</td>\n",
       "      <td>1.438866</td>\n",
       "      <td>1.404455</td>\n",
       "      <td>1.0</td>\n",
       "      <td>1.404455</td>\n",
       "      <td>1.478230</td>\n",
       "      <td>0.0</td>\n",
       "      <td>0.000000</td>\n",
       "      <td>1.202953</td>\n",
       "      <td>1.0</td>\n",
       "      <td>1.202953</td>\n",
       "    </tr>\n",
       "    <tr>\n",
       "      <th>6</th>\n",
       "      <td>0.002062</td>\n",
       "      <td>0.961566</td>\n",
       "      <td>1.347216</td>\n",
       "      <td>1.444773</td>\n",
       "      <td>1.303658</td>\n",
       "      <td>1.129715</td>\n",
       "      <td>3.155153</td>\n",
       "      <td>0</td>\n",
       "      <td>63</td>\n",
       "      <td>0.002062</td>\n",
       "      <td>...</td>\n",
       "      <td>1.347216</td>\n",
       "      <td>1.444773</td>\n",
       "      <td>1.0</td>\n",
       "      <td>1.444773</td>\n",
       "      <td>1.303658</td>\n",
       "      <td>1.0</td>\n",
       "      <td>1.303658</td>\n",
       "      <td>1.129715</td>\n",
       "      <td>1.0</td>\n",
       "      <td>1.129715</td>\n",
       "    </tr>\n",
       "    <tr>\n",
       "      <th>7</th>\n",
       "      <td>0.001876</td>\n",
       "      <td>1.000321</td>\n",
       "      <td>1.652878</td>\n",
       "      <td>1.274850</td>\n",
       "      <td>1.149914</td>\n",
       "      <td>1.361164</td>\n",
       "      <td>7.927750</td>\n",
       "      <td>0</td>\n",
       "      <td>47</td>\n",
       "      <td>0.001876</td>\n",
       "      <td>...</td>\n",
       "      <td>1.652878</td>\n",
       "      <td>1.274850</td>\n",
       "      <td>1.0</td>\n",
       "      <td>1.274850</td>\n",
       "      <td>1.478230</td>\n",
       "      <td>0.0</td>\n",
       "      <td>0.000000</td>\n",
       "      <td>1.361164</td>\n",
       "      <td>1.0</td>\n",
       "      <td>1.361164</td>\n",
       "    </tr>\n",
       "    <tr>\n",
       "      <th>8</th>\n",
       "      <td>0.001777</td>\n",
       "      <td>1.080818</td>\n",
       "      <td>1.290951</td>\n",
       "      <td>1.336653</td>\n",
       "      <td>1.137218</td>\n",
       "      <td>1.215426</td>\n",
       "      <td>2.593912</td>\n",
       "      <td>0</td>\n",
       "      <td>63</td>\n",
       "      <td>0.001777</td>\n",
       "      <td>...</td>\n",
       "      <td>1.290951</td>\n",
       "      <td>1.336653</td>\n",
       "      <td>1.0</td>\n",
       "      <td>1.336653</td>\n",
       "      <td>1.137218</td>\n",
       "      <td>1.0</td>\n",
       "      <td>1.137218</td>\n",
       "      <td>1.215426</td>\n",
       "      <td>1.0</td>\n",
       "      <td>1.215426</td>\n",
       "    </tr>\n",
       "    <tr>\n",
       "      <th>9</th>\n",
       "      <td>0.002102</td>\n",
       "      <td>0.932273</td>\n",
       "      <td>1.275207</td>\n",
       "      <td>1.130175</td>\n",
       "      <td>1.361885</td>\n",
       "      <td>1.411688</td>\n",
       "      <td>6.161774</td>\n",
       "      <td>0</td>\n",
       "      <td>63</td>\n",
       "      <td>0.002102</td>\n",
       "      <td>...</td>\n",
       "      <td>1.275207</td>\n",
       "      <td>1.130175</td>\n",
       "      <td>1.0</td>\n",
       "      <td>1.130175</td>\n",
       "      <td>1.361885</td>\n",
       "      <td>1.0</td>\n",
       "      <td>1.361885</td>\n",
       "      <td>1.411688</td>\n",
       "      <td>1.0</td>\n",
       "      <td>1.411688</td>\n",
       "    </tr>\n",
       "  </tbody>\n",
       "</table>\n",
       "<p>10 rows × 27 columns</p>\n",
       "</div>"
      ],
      "text/plain": [
       "        ITS       TOF   TPCROC0   TPCROC1   TPCROC2       TRD         p  \\\n",
       "0  0.002263  0.884046  1.372702  1.268054  1.339133  1.224131  4.436232   \n",
       "1  0.001891  1.109201  1.295813  1.536246  1.130210  1.200917  8.009063   \n",
       "2  0.001981  0.976484  1.235396  1.300277  1.634170  1.398917  9.455330   \n",
       "3  0.001999  0.975399  1.144921  1.443357  1.213328  1.291755  6.624797   \n",
       "4  0.001576  0.974154  1.230762  1.130028  1.059009  1.005102  0.354316   \n",
       "5  0.002082  0.984501  1.438866  1.404455  1.363916  1.202953  9.994997   \n",
       "6  0.002062  0.961566  1.347216  1.444773  1.303658  1.129715  3.155153   \n",
       "7  0.001876  1.000321  1.652878  1.274850  1.149914  1.361164  7.927750   \n",
       "8  0.001777  1.080818  1.290951  1.336653  1.137218  1.215426  2.593912   \n",
       "9  0.002102  0.932273  1.275207  1.130175  1.361885  1.411688  6.161774   \n",
       "\n",
       "   particle  flips    ITS_mr    ...     TPCROC0_0  TPCROC1_mr  TPCROC1_w  \\\n",
       "0         0     47  0.002263    ...      1.372702    1.268054        1.0   \n",
       "1         0     31  0.001891    ...      1.295813    1.536246        1.0   \n",
       "2         0     59  0.001981    ...      0.000000    1.300277        1.0   \n",
       "3         0     62  0.002521    ...      1.144921    1.443357        1.0   \n",
       "4         0     63  0.001576    ...      1.230762    1.130028        1.0   \n",
       "5         0     47  0.002082    ...      1.438866    1.404455        1.0   \n",
       "6         0     63  0.002062    ...      1.347216    1.444773        1.0   \n",
       "7         0     47  0.001876    ...      1.652878    1.274850        1.0   \n",
       "8         0     63  0.001777    ...      1.290951    1.336653        1.0   \n",
       "9         0     63  0.002102    ...      1.275207    1.130175        1.0   \n",
       "\n",
       "   TPCROC1_0  TPCROC2_mr  TPCROC2_w  TPCROC2_0    TRD_mr  TRD_w     TRD_0  \n",
       "0   1.268054    1.478230        0.0   0.000000  1.224131    1.0  1.224131  \n",
       "1   1.536246    1.130210        1.0   1.130210  1.479566    0.0  0.000000  \n",
       "2   1.300277    1.634170        1.0   1.634170  1.398917    1.0  1.398917  \n",
       "3   1.443357    1.213328        1.0   1.213328  1.291755    1.0  1.291755  \n",
       "4   1.130028    1.059009        1.0   1.059009  1.005102    1.0  1.005102  \n",
       "5   1.404455    1.478230        0.0   0.000000  1.202953    1.0  1.202953  \n",
       "6   1.444773    1.303658        1.0   1.303658  1.129715    1.0  1.129715  \n",
       "7   1.274850    1.478230        0.0   0.000000  1.361164    1.0  1.361164  \n",
       "8   1.336653    1.137218        1.0   1.137218  1.215426    1.0  1.215426  \n",
       "9   1.130175    1.361885        1.0   1.361885  1.411688    1.0  1.411688  \n",
       "\n",
       "[10 rows x 27 columns]"
      ]
     },
     "execution_count": 8,
     "metadata": {},
     "output_type": "execute_result"
    }
   ],
   "source": [
    "# prepare \"flips-Data\" and weights\n",
    "for i ,name in enumerate(['ITS','TOF','TPCROC0','TPCROC1','TPCROC2','TRD']):\n",
    "    # calculate \"flip= 0/1\"\n",
    "    f=(np.array(df_all['flips'])>>i)&1\n",
    "    # if f=0 substitute value by mean\n",
    "    m=df_all[name].mean()\n",
    "    df_all.loc[:,name+'_mr']= df_all[name].multiply(f,axis='index')+m*(1-f) #mean replaced\n",
    "    df_all.loc[:,name+'_w']=1.0*f #weight\n",
    "    df_all.loc[:,name+'_0']= df_all[name].multiply(f,axis='index') #zeros\n",
    "    \n",
    "# generate data for stage 2\n",
    "df_stage_2=df_all.copy()\n",
    "df_stage_3=df_all.copy()\n",
    "df_all[df_all['particle']==0].head(10)"
   ]
  },
  {
   "cell_type": "code",
   "execution_count": 9,
   "metadata": {},
   "outputs": [],
   "source": [
    "train, test =train_test_split(df_all, test_size=0.5)"
   ]
  },
  {
   "cell_type": "markdown",
   "metadata": {},
   "source": [
    "# Create autoencoders"
   ]
  },
  {
   "cell_type": "code",
   "execution_count": 16,
   "metadata": {},
   "outputs": [],
   "source": [
    "def custom_loss(y_true, y_pred,weights):\n",
    "    return K.sum(K.square((y_true - y_pred)*weights),axis=1)\n",
    "\n",
    "def sample_z(args):\n",
    "    mean,ln_var = args\n",
    "    eps        = K.random_normal(shape=(2,),mean=0., stddev=1.0)\n",
    "    return     mean+K.exp(ln_var/2)*eps\n",
    "\n",
    "\n",
    "inputs = Input(shape=(6,))\n",
    "inputw = Input(shape=(6,))\n",
    "#noise = GaussianNoise(0.2)(inputs)\n",
    "enc1   = Dense(units=64, activation='selu')(inputs)\n",
    "enc2   = Dense(units=64, activation='selu')(enc1)\n",
    "enc3   = Dense(units=64, activation='selu')(enc2)\n",
    "enc4   = Dense(units=64, activation='selu')(enc3)\n",
    "\n",
    "mean   = Dense(units=2 , activation='linear')(enc4)\n",
    "ln_var = Dense(units=2 , activation='linear')(enc4)\n",
    "\n",
    "z      = Lambda(sample_z)([mean,ln_var])\n",
    "dec1   = Dense(units=64, activation='selu')(z)\n",
    "dec2   = Dense(units=64, activation='selu')(dec1)\n",
    "dec3   = Dense(units=64, activation='selu')(dec2)\n",
    "dec4   = Dense(units=64, activation='selu')(dec3)\n",
    "outputs= Dense(units=6, activation='linear')(dec4)\n",
    "\n",
    "c_loss = partial(custom_loss, weights=inputw)\n",
    "        \n",
    "modelpt = Model(inputs=inputs,outputs=outputs)\n",
    "models2 = Model(inputs=inputs,outputs=outputs)\n",
    "modell = Model(inputs=inputs,outputs=outputs)\n",
    "model0 = Model(inputs=inputs,outputs=outputs)\n",
    "model1 = Model(inputs=[inputs,inputw],outputs=outputs)\n",
    "\n",
    "\n",
    "def vae_loss(y_true,y_pred):\n",
    "    scaler=10\n",
    "    l1 = K.sum(K.square((y_true - y_pred)),axis=1)*scaler\n",
    "    l2 = 0.5*K.sum(K.exp(ln_var)+K.square(mean)-1. - ln_var,axis=1)\n",
    "    return l1+l2\n",
    "\n",
    "def weighted_vae_loss(y_true,y_pred,weights):\n",
    "    scaler=10\n",
    "    l1 = K.sum(K.square((y_true - y_pred)*weights),axis=1)*scaler\n",
    "    l2 = 0.5*K.sum(K.exp(ln_var)+K.square(mean)-1. - ln_var,axis=1)\n",
    "    return l1+l2\n",
    "\n",
    "w_loss = partial(weighted_vae_loss,weights=inputw)\n",
    "\n",
    "modelpt.compile(loss=vae_loss,\n",
    "              optimizer='adam',\n",
    "              metrics=['mse'])\n",
    "models2.compile(loss=vae_loss,\n",
    "              optimizer='adam',\n",
    "              metrics=['mse'])\n",
    "modell.compile(loss=vae_loss,\n",
    "              optimizer='adam',\n",
    "              metrics=['mse'])\n",
    "model0.compile(loss=vae_loss,\n",
    "              optimizer='adam',\n",
    "              metrics=['mse'])\n",
    "model1.compile(loss=w_loss,\n",
    "              optimizer='adam',\n",
    "              metrics=['mse'])"
   ]
  },
  {
   "cell_type": "code",
   "execution_count": 17,
   "metadata": {},
   "outputs": [
    {
     "name": "stdout",
     "output_type": "stream",
     "text": [
      "__________________________________________________________________________________________________\n",
      "Layer (type)                    Output Shape         Param #     Connected to                     \n",
      "==================================================================================================\n",
      "input_13 (InputLayer)           (None, 6)            0                                            \n",
      "__________________________________________________________________________________________________\n",
      "dense_51 (Dense)                (None, 64)           448         input_13[0][0]                   \n",
      "__________________________________________________________________________________________________\n",
      "dense_52 (Dense)                (None, 64)           4160        dense_51[0][0]                   \n",
      "__________________________________________________________________________________________________\n",
      "dense_53 (Dense)                (None, 64)           4160        dense_52[0][0]                   \n",
      "__________________________________________________________________________________________________\n",
      "dense_54 (Dense)                (None, 64)           4160        dense_53[0][0]                   \n",
      "__________________________________________________________________________________________________\n",
      "dense_55 (Dense)                (None, 2)            130         dense_54[0][0]                   \n",
      "__________________________________________________________________________________________________\n",
      "dense_56 (Dense)                (None, 2)            130         dense_54[0][0]                   \n",
      "__________________________________________________________________________________________________\n",
      "lambda_6 (Lambda)               (None, 2)            0           dense_55[0][0]                   \n",
      "                                                                 dense_56[0][0]                   \n",
      "__________________________________________________________________________________________________\n",
      "dense_57 (Dense)                (None, 64)           192         lambda_6[0][0]                   \n",
      "__________________________________________________________________________________________________\n",
      "dense_58 (Dense)                (None, 64)           4160        dense_57[0][0]                   \n",
      "__________________________________________________________________________________________________\n",
      "dense_59 (Dense)                (None, 64)           4160        dense_58[0][0]                   \n",
      "__________________________________________________________________________________________________\n",
      "dense_60 (Dense)                (None, 64)           4160        dense_59[0][0]                   \n",
      "__________________________________________________________________________________________________\n",
      "dense_61 (Dense)                (None, 6)            390         dense_60[0][0]                   \n",
      "==================================================================================================\n",
      "Total params: 26,250\n",
      "Trainable params: 26,250\n",
      "Non-trainable params: 0\n",
      "__________________________________________________________________________________________________\n"
     ]
    }
   ],
   "source": [
    "model0.summary()"
   ]
  },
  {
   "cell_type": "markdown",
   "metadata": {},
   "source": [
    "# perfect tracks"
   ]
  },
  {
   "cell_type": "code",
   "execution_count": 18,
   "metadata": {},
   "outputs": [
    {
     "data": {
      "text/plain": [
       "StandardScaler(copy=True, with_mean=True, with_std=True)"
      ]
     },
     "execution_count": 18,
     "metadata": {},
     "output_type": "execute_result"
    }
   ],
   "source": [
    "train_pt = train[[\"ITS\", \"TOF\", \"TPCROC0\", \"TPCROC1\", \"TPCROC2\", \"TRD\"]]\n",
    "test_pt = test[[\"ITS\", \"TOF\", \"TPCROC0\", \"TPCROC1\", \"TPCROC2\", \"TRD\"]]\n",
    "scaler_pt = StandardScaler()\n",
    "scaler_pt.fit( train[[\"ITS\", \"TOF\", \"TPCROC0\", \"TPCROC1\", \"TPCROC2\", \"TRD\"]])"
   ]
  },
  {
   "cell_type": "code",
   "execution_count": 19,
   "metadata": {},
   "outputs": [
    {
     "name": "stdout",
     "output_type": "stream",
     "text": [
      "Train on 20000 samples, validate on 20000 samples\n",
      "Epoch 1/5\n",
      "20000/20000 [==============================] - 8s 418us/step - loss: 21.2399 - mean_squared_error: 0.0868 - val_loss: 13.6261 - val_mean_squared_error: 0.0502\n",
      "Epoch 2/5\n",
      "20000/20000 [==============================] - 6s 282us/step - loss: 13.4267 - mean_squared_error: 0.0482 - val_loss: 13.1318 - val_mean_squared_error: 0.0465\n",
      "Epoch 3/5\n",
      "20000/20000 [==============================] - 6s 285us/step - loss: 12.6807 - mean_squared_error: 0.0447 - val_loss: 11.6674 - val_mean_squared_error: 0.0401\n",
      "Epoch 4/5\n",
      "20000/20000 [==============================] - 6s 285us/step - loss: 12.5666 - mean_squared_error: 0.0439 - val_loss: 12.2463 - val_mean_squared_error: 0.0431\n",
      "Epoch 5/5\n",
      "20000/20000 [==============================] - 6s 280us/step - loss: 12.4001 - mean_squared_error: 0.0432 - val_loss: 12.0539 - val_mean_squared_error: 0.0424\n"
     ]
    },
    {
     "data": {
      "text/plain": [
       "<tensorflow.python.keras.callbacks.History at 0x7f26dcabded0>"
      ]
     },
     "execution_count": 19,
     "metadata": {},
     "output_type": "execute_result"
    },
    {
     "name": "stderr",
     "output_type": "stream",
     "text": [
      "2019-01-29 16:39:07.082330: I tensorflow/core/platform/cpu_feature_guard.cc:141] Your CPU supports instructions that this TensorFlow binary was not compiled to use: FMA\n"
     ]
    }
   ],
   "source": [
    "modelpt.fit(scaler_pt.transform(train_pt), scaler_pt.transform(train_pt), epochs=5, batch_size=32, \n",
    "          validation_data=[scaler_pt.transform(test_pt),scaler_pt.transform(test_pt)])"
   ]
  },
  {
   "cell_type": "code",
   "execution_count": 20,
   "metadata": {},
   "outputs": [
    {
     "data": {
      "text/html": [
       "<div>\n",
       "<style scoped>\n",
       "    .dataframe tbody tr th:only-of-type {\n",
       "        vertical-align: middle;\n",
       "    }\n",
       "\n",
       "    .dataframe tbody tr th {\n",
       "        vertical-align: top;\n",
       "    }\n",
       "\n",
       "    .dataframe thead th {\n",
       "        text-align: right;\n",
       "    }\n",
       "</style>\n",
       "<table border=\"1\" class=\"dataframe\">\n",
       "  <thead>\n",
       "    <tr style=\"text-align: right;\">\n",
       "      <th></th>\n",
       "      <th>index</th>\n",
       "      <th>ITS</th>\n",
       "      <th>TOF</th>\n",
       "      <th>TPCROC0</th>\n",
       "      <th>TPCROC1</th>\n",
       "      <th>TPCROC2</th>\n",
       "      <th>TRD</th>\n",
       "      <th>p</th>\n",
       "      <th>particle</th>\n",
       "      <th>flips</th>\n",
       "      <th>...</th>\n",
       "      <th>TPCROC2_0</th>\n",
       "      <th>TRD_mr</th>\n",
       "      <th>TRD_w</th>\n",
       "      <th>TRD_0</th>\n",
       "      <th>ITS_ae</th>\n",
       "      <th>TOF_ae</th>\n",
       "      <th>TPCROC0_ae</th>\n",
       "      <th>TPCROC1_ae</th>\n",
       "      <th>TPCROC2_ae</th>\n",
       "      <th>TRD_ae</th>\n",
       "    </tr>\n",
       "  </thead>\n",
       "  <tbody>\n",
       "    <tr>\n",
       "      <th>0</th>\n",
       "      <td>2218</td>\n",
       "      <td>0.001747</td>\n",
       "      <td>0.904396</td>\n",
       "      <td>0.955658</td>\n",
       "      <td>1.067499</td>\n",
       "      <td>1.161082</td>\n",
       "      <td>1.061730</td>\n",
       "      <td>1.884060</td>\n",
       "      <td>0</td>\n",
       "      <td>63</td>\n",
       "      <td>...</td>\n",
       "      <td>1.161082</td>\n",
       "      <td>1.061730</td>\n",
       "      <td>1.0</td>\n",
       "      <td>1.061730</td>\n",
       "      <td>0.001780</td>\n",
       "      <td>0.896775</td>\n",
       "      <td>1.013679</td>\n",
       "      <td>1.131342</td>\n",
       "      <td>1.033402</td>\n",
       "      <td>1.043089</td>\n",
       "    </tr>\n",
       "    <tr>\n",
       "      <th>1</th>\n",
       "      <td>34834</td>\n",
       "      <td>0.001929</td>\n",
       "      <td>0.965696</td>\n",
       "      <td>1.096356</td>\n",
       "      <td>1.161584</td>\n",
       "      <td>1.271978</td>\n",
       "      <td>1.190690</td>\n",
       "      <td>7.127193</td>\n",
       "      <td>4</td>\n",
       "      <td>63</td>\n",
       "      <td>...</td>\n",
       "      <td>1.271978</td>\n",
       "      <td>1.190690</td>\n",
       "      <td>1.0</td>\n",
       "      <td>1.190690</td>\n",
       "      <td>0.001882</td>\n",
       "      <td>0.963929</td>\n",
       "      <td>1.127144</td>\n",
       "      <td>1.183596</td>\n",
       "      <td>1.133208</td>\n",
       "      <td>1.157786</td>\n",
       "    </tr>\n",
       "    <tr>\n",
       "      <th>2</th>\n",
       "      <td>21099</td>\n",
       "      <td>0.001881</td>\n",
       "      <td>1.014874</td>\n",
       "      <td>1.168290</td>\n",
       "      <td>0.929227</td>\n",
       "      <td>0.970245</td>\n",
       "      <td>1.220871</td>\n",
       "      <td>8.658419</td>\n",
       "      <td>3</td>\n",
       "      <td>63</td>\n",
       "      <td>...</td>\n",
       "      <td>0.970245</td>\n",
       "      <td>1.220871</td>\n",
       "      <td>1.0</td>\n",
       "      <td>1.220871</td>\n",
       "      <td>0.001760</td>\n",
       "      <td>1.002868</td>\n",
       "      <td>1.050533</td>\n",
       "      <td>1.115884</td>\n",
       "      <td>1.050417</td>\n",
       "      <td>1.043513</td>\n",
       "    </tr>\n",
       "  </tbody>\n",
       "</table>\n",
       "<p>3 rows × 34 columns</p>\n",
       "</div>"
      ],
      "text/plain": [
       "   index       ITS       TOF   TPCROC0   TPCROC1   TPCROC2       TRD  \\\n",
       "0   2218  0.001747  0.904396  0.955658  1.067499  1.161082  1.061730   \n",
       "1  34834  0.001929  0.965696  1.096356  1.161584  1.271978  1.190690   \n",
       "2  21099  0.001881  1.014874  1.168290  0.929227  0.970245  1.220871   \n",
       "\n",
       "          p  particle  flips    ...     TPCROC2_0    TRD_mr  TRD_w     TRD_0  \\\n",
       "0  1.884060         0     63    ...      1.161082  1.061730    1.0  1.061730   \n",
       "1  7.127193         4     63    ...      1.271978  1.190690    1.0  1.190690   \n",
       "2  8.658419         3     63    ...      0.970245  1.220871    1.0  1.220871   \n",
       "\n",
       "     ITS_ae    TOF_ae  TPCROC0_ae  TPCROC1_ae  TPCROC2_ae    TRD_ae  \n",
       "0  0.001780  0.896775    1.013679    1.131342    1.033402  1.043089  \n",
       "1  0.001882  0.963929    1.127144    1.183596    1.133208  1.157786  \n",
       "2  0.001760  1.002868    1.050533    1.115884    1.050417  1.043513  \n",
       "\n",
       "[3 rows x 34 columns]"
      ]
     },
     "execution_count": 20,
     "metadata": {},
     "output_type": "execute_result"
    }
   ],
   "source": [
    "out = scaler_pt.inverse_transform(modelpt.predict(scaler_pt.transform(test_pt)))\n",
    "AE_predict = pd.DataFrame(out)\n",
    "AE_predict.columns = [\"ITS_ae\", \"TOF_ae\", \"TPCROC0_ae\", \"TPCROC1_ae\", \"TPCROC2_ae\", \"TRD_ae\"]\n",
    "test = test.reset_index()\n",
    "df_test = pd.concat([test,AE_predict], axis = 1)\n",
    "df_test.head(3)"
   ]
  },
  {
   "cell_type": "code",
   "execution_count": 21,
   "metadata": {},
   "outputs": [
    {
     "data": {
      "image/png": "[encoded data removed]",
      "text/plain": [
       "<Figure size 432x288 with 1 Axes>"
      ]
     },
     "metadata": {
      "needs_background": "light"
     },
     "output_type": "display_data"
    },
    {
     "data": {
      "image/png": "[encoded data removed]",
      "text/plain": [
       "<Figure size 432x288 with 1 Axes>"
      ]
     },
     "metadata": {
      "needs_background": "light"
     },
     "output_type": "display_data"
    }
   ],
   "source": [
    "plt.hist2d(df_all[\"p\"], df_all[\"TPCROC1\"], bins=(100, 100), cmap=plt.cm.jet, range = [[0.2, 2], [0.5, 3]])\n",
    "plt.show()\n",
    "plt.hist2d(df_test[\"p\"], df_test[\"TPCROC2_ae\"], bins=(100, 100), cmap=plt.cm.jet, range = [[0.2, 2], [0.5, 3]])\n",
    "plt.show()"
   ]
  },
  {
   "cell_type": "markdown",
   "metadata": {},
   "source": [
    "# Train with zeros"
   ]
  },
  {
   "cell_type": "code",
   "execution_count": null,
   "metadata": {},
   "outputs": [],
   "source": [
    "train_0 = train[[\"ITS_0\", \"TOF_0\", \"TPCROC0_0\", \"TPCROC1_0\", \"TPCROC2_0\", \"TRD_0\"]]\n",
    "test_0 = test[[\"ITS_0\", \"TOF_0\", \"TPCROC0_0\", \"TPCROC1_0\", \"TPCROC2_0\", \"TRD_0\"]]\n",
    "scaler_0 = StandardScaler()\n",
    "scaler_0.fit( train[[\"ITS_0\", \"TOF_0\", \"TPCROC0_0\", \"TPCROC1_0\", \"TPCROC2_0\", \"TRD_0\"]])\n",
    "#scaler_0.fit( train[[\"ITS\", \"TOF\", \"TPCROC0\", \"TPCROC1\", \"TPCROC2\", \"TRD\"]]) "
   ]
  },
  {
   "cell_type": "code",
   "execution_count": null,
   "metadata": {},
   "outputs": [],
   "source": [
    "train[[\"ITS_0\", \"TOF_0\", \"TPCROC0_0\", \"TPCROC1_0\", \"TPCROC2_0\", \"TRD_0\"]].head()"
   ]
  },
  {
   "cell_type": "code",
   "execution_count": null,
   "metadata": {},
   "outputs": [],
   "source": [
    "train[[\"ITS\", \"TOF\", \"TPCROC0\", \"TPCROC1\", \"TPCROC2\", \"TRD\"]].head()\n"
   ]
  },
  {
   "cell_type": "code",
   "execution_count": null,
   "metadata": {},
   "outputs": [],
   "source": [
    "model0.fit(scaler_0.transform(train_0), scaler_0.transform(train_0), epochs=5, batch_size=32, \n",
    "          validation_data=[scaler_0.transform(test_0),scaler_0.transform(test_0)])"
   ]
  },
  {
   "cell_type": "code",
   "execution_count": null,
   "metadata": {},
   "outputs": [],
   "source": [
    "out = scaler_0.inverse_transform(model0.predict(scaler_0.transform(test_0)))\n",
    "AE_predict = pd.DataFrame(out)\n",
    "AE_predict.columns = [\"ITS_ae\", \"TOF_ae\", \"TPCROC0_ae\", \"TPCROC1_ae\", \"TPCROC2_ae\", \"TRD_ae\"]\n",
    "test = test.reset_index()\n",
    "df_test = pd.concat([test,AE_predict], axis = 1)\n",
    "df_test.head(3)"
   ]
  },
  {
   "cell_type": "code",
   "execution_count": null,
   "metadata": {},
   "outputs": [],
   "source": [
    "plt.hist2d(df_all[\"p\"], df_all[\"TPCROC1\"], bins=(100, 100), cmap=plt.cm.jet, range = [[0.2, 2], [0.5, 3]])\n",
    "plt.show()\n",
    "plt.hist2d(df_test[\"p\"], df_test[\"TPCROC2_ae\"], bins=(100, 100), cmap=plt.cm.jet, range = [[0.2, 2], [0.5, 3]])\n",
    "plt.show()"
   ]
  },
  {
   "cell_type": "markdown",
   "metadata": {},
   "source": [
    "# labels for missing tracks"
   ]
  },
  {
   "cell_type": "code",
   "execution_count": null,
   "metadata": {},
   "outputs": [],
   "source": [
    "train_in = train[[\"ITS_mr\", \"TOF_mr\", \"TPCROC0_mr\", \"TPCROC1_mr\", \"TPCROC2_mr\", \"TRD_mr\"]]\n",
    "train_out = train[[\"ITS\", \"TOF\", \"TPCROC0\", \"TPCROC1\", \"TPCROC2\", \"TRD\"]]\n",
    "test_in = test[[\"ITS_mr\", \"TOF_mr\", \"TPCROC0_mr\", \"TPCROC1_mr\", \"TPCROC2_mr\", \"TRD_mr\"]]\n",
    "test_out = test[[\"ITS\", \"TOF\", \"TPCROC0\", \"TPCROC1\", \"TPCROC2\", \"TRD\"]]\n",
    "scaler_in = StandardScaler()\n",
    "scaler_out = StandardScaler()\n",
    "scaler_in.fit(train_in)\n",
    "scaler_out.fit(train_out)"
   ]
  },
  {
   "cell_type": "code",
   "execution_count": null,
   "metadata": {},
   "outputs": [],
   "source": [
    "modell.fit(scaler_in.transform(train_in), scaler_out.transform(train_out), epochs=5, batch_size=32, \n",
    "          validation_data=[scaler_in.transform(test_in),scaler_out.transform(test_out)])"
   ]
  },
  {
   "cell_type": "code",
   "execution_count": null,
   "metadata": {},
   "outputs": [],
   "source": [
    "out = scaler_out.inverse_transform(modell.predict(scaler_in.transform(test_in)))\n",
    "AE_predict = pd.DataFrame(out)\n",
    "AE_predict.columns = [\"ITS_ae\", \"TOF_ae\", \"TPCROC0_ae\", \"TPCROC1_ae\", \"TPCROC2_ae\", \"TRD_ae\"]\n",
    "#test = test.reset_index()\n",
    "df_test = pd.concat([test,AE_predict], axis = 1)\n",
    "df_test.head(3)"
   ]
  },
  {
   "cell_type": "code",
   "execution_count": null,
   "metadata": {},
   "outputs": [],
   "source": [
    "plt.hist2d(df_all[\"p\"], df_all[\"TPCROC1\"], bins=(100, 100), cmap=plt.cm.jet, range = [[0.2, 2], [0.5, 3]])\n",
    "plt.show()\n",
    "plt.hist2d(df_test[\"p\"], df_test[\"TPCROC1_ae\"], bins=(100, 100), cmap=plt.cm.jet, range = [[0.2, 2], [0.5, 3]])\n",
    "plt.show()"
   ]
  },
  {
   "cell_type": "markdown",
   "metadata": {},
   "source": [
    "# mean input, zero weights for missing values"
   ]
  },
  {
   "cell_type": "code",
   "execution_count": null,
   "metadata": {},
   "outputs": [],
   "source": [
    "train_mr = train[[\"ITS_mr\", \"TOF_mr\", \"TPCROC0_mr\", \"TPCROC1_mr\", \"TPCROC2_mr\", \"TRD_mr\"]]\n",
    "test_mr = test[[\"ITS_mr\", \"TOF_mr\", \"TPCROC0_mr\", \"TPCROC1_mr\", \"TPCROC2_mr\", \"TRD_mr\"]]\n",
    "train_w    = train[[\"ITS_w\", \"TOF_w\", \"TPCROC0_w\", \"TPCROC1_w\", \"TPCROC2_w\", \"TRD_w\"]]\n",
    "test_w     = test[[\"ITS_w\", \"TOF_w\", \"TPCROC0_w\", \"TPCROC1_w\", \"TPCROC2_w\", \"TRD_w\"]]"
   ]
  },
  {
   "cell_type": "code",
   "execution_count": null,
   "metadata": {},
   "outputs": [],
   "source": [
    "scaler_mr = StandardScaler()\n",
    "scaler_mr.fit(train_mr)"
   ]
  },
  {
   "cell_type": "code",
   "execution_count": null,
   "metadata": {},
   "outputs": [],
   "source": [
    "model1.fit([scaler_mr.transform(train_mr),train_w], scaler_mr.transform(train_mr), epochs=5, batch_size=32, \n",
    "          validation_data=[[scaler_mr.transform(test_mr),train_w],scaler_mr.transform(test_mr)])"
   ]
  },
  {
   "cell_type": "code",
   "execution_count": null,
   "metadata": {},
   "outputs": [],
   "source": [
    "out = scaler_mr.inverse_transform(model1.predict([scaler_mr.transform(test_mr),test_w]))\n",
    "AE_predict = pd.DataFrame(out)\n",
    "AE_predict.columns = [\"ITS_ae\", \"TOF_ae\", \"TPCROC0_ae\", \"TPCROC1_ae\", \"TPCROC2_ae\", \"TRD_ae\"]\n",
    "#test = test.reset_index()\n",
    "df_test = pd.concat([test,AE_predict], axis = 1)\n",
    "df_test.head(3)"
   ]
  },
  {
   "cell_type": "code",
   "execution_count": null,
   "metadata": {},
   "outputs": [],
   "source": [
    "plt.hist2d(df_all[\"p\"], df_all[\"TPCROC1\"], bins=(100, 100), cmap=plt.cm.jet, range = [[0.2, 2], [0.5, 3]])\n",
    "plt.show()\n",
    "plt.hist2d(df_test[\"p\"], df_test[\"TPCROC1_ae\"], bins=(100, 100), cmap=plt.cm.jet, range = [[0.2, 2], [0.5, 3]])\n",
    "plt.show()"
   ]
  },
  {
   "cell_type": "markdown",
   "metadata": {},
   "source": [
    "# second iteration, replace missing values by values from first iteration"
   ]
  },
  {
   "cell_type": "code",
   "execution_count": null,
   "metadata": {},
   "outputs": [],
   "source": [
    "# stage 2\n",
    "stage2_data = df_stage_2[[\"ITS_mr\", \"TOF_mr\", \"TPCROC0_mr\", \"TPCROC1_mr\", \"TPCROC2_mr\", \"TRD_mr\"]]\n",
    "out = scaler_mr.inverse_transform(models2.predict(scaler_mr.transform(stage2_data)))\n",
    "AE_predict = pd.DataFrame(out)\n",
    "AE_predict.columns = [\"ITS_ae\", \"TOF_ae\", \"TPCROC0_ae\", \"TPCROC1_ae\", \"TPCROC2_ae\", \"TRD_ae\"]\n",
    "for i ,name in enumerate(['ITS','TOF','TPCROC0','TPCROC1','TPCROC2','TRD']):\n",
    "    # calculate \"flip= 0/1\"\n",
    "    f=(np.array(df_stage_2['flips'])>>i)&1\n",
    "    m=AE_predict[name+'_ae']\n",
    "    df_stage_2.loc[:,name+'_s2']= df_stage_2[name].multiply(f,axis='index')+m*(1-f)"
   ]
  },
  {
   "cell_type": "code",
   "execution_count": null,
   "metadata": {},
   "outputs": [],
   "source": [
    "train, test =train_test_split(df_stage_2, test_size=0.5)\n",
    "train_s2 = train[[\"ITS_s2\", \"TOF_s2\", \"TPCROC0_s2\", \"TPCROC1_s2\", \"TPCROC2_s2\", \"TRD_s2\"]]\n",
    "test_s2 = test[[\"ITS_s2\", \"TOF_s2\", \"TPCROC0_s2\", \"TPCROC1_s2\", \"TPCROC2_s2\", \"TRD_s2\"]]"
   ]
  },
  {
   "cell_type": "code",
   "execution_count": null,
   "metadata": {},
   "outputs": [],
   "source": [
    "scaler_s2 = StandardScaler()\n",
    "scaler_s2.fit(train_s2)\n",
    "models2.fit(scaler_s2.transform(train_s2), scaler_s2.transform(train_s2), epochs=5, batch_size=32, \n",
    "          validation_data=[scaler_s2.transform(test_s2),scaler_s2.transform(test_s2)])"
   ]
  },
  {
   "cell_type": "code",
   "execution_count": null,
   "metadata": {},
   "outputs": [],
   "source": [
    "out = scaler_s2.inverse_transform(models2.predict(scaler_s2.transform(test_s2)))\n",
    "AE_predict = pd.DataFrame(out)\n",
    "AE_predict.columns = [\"ITS_ae\", \"TOF_ae\", \"TPCROC0_ae\", \"TPCROC1_ae\", \"TPCROC2_ae\", \"TRD_ae\"]\n",
    "test = test.reset_index()\n",
    "df_test = pd.concat([test,AE_predict], axis = 1)\n",
    "df_test.head(3)"
   ]
  },
  {
   "cell_type": "code",
   "execution_count": null,
   "metadata": {},
   "outputs": [],
   "source": [
    "plt.hist2d(df_all[\"p\"], df_all[\"TPCROC1\"], bins=(100, 100), cmap=plt.cm.jet, range = [[0.2, 2], [0.5, 3]])\n",
    "plt.show()\n",
    "plt.hist2d(df_test[\"p\"], df_test[\"TPCROC1_ae\"], bins=(100, 100), cmap=plt.cm.jet, range = [[0.2, 2], [0.5, 3]])\n",
    "plt.show()"
   ]
  },
  {
   "cell_type": "code",
   "execution_count": null,
   "metadata": {},
   "outputs": [],
   "source": []
  }
 ],
 "metadata": {
  "kernelspec": {
   "display_name": "Python 3",
   "language": "python",
   "name": "python3"
  },
  "language_info": {
   "codemirror_mode": {
    "name": "ipython",
    "version": 2
   },
   "file_extension": ".py",
   "mimetype": "text/x-python",
   "name": "python",
   "nbconvert_exporter": "python",
   "pygments_lexer": "ipython2",
   "version": "2.7.12"
  }
 },
 "nbformat": 4,
 "nbformat_minor": 2
}
