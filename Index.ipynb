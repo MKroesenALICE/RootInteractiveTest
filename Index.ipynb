{
 "cells": [
  {
   "cell_type": "markdown",
   "metadata": {},
   "source": [
    "## <h1>00. Introduction and Setup</h1>\n",
    "## Tutorial Overview "
   ]
  },
  {
   "cell_type": "markdown",
   "metadata": {},
   "source": [
    "### Working Examples:\n",
    "1. #### ADQT-3:\n",
    "    - [TPC QA Demo](JIRA/ADQT-3/tpcQADemo.ipynb)\n",
    "2. #### ATO-460:\n",
    "    - [analyseFit](JIRA/ATO-460/analyseFit.ipynb)\n",
    "    - [AutoencoderPID2](JIRA/ATO-460/AutoencoderPID2.ipynb)\n",
    "    - [AutoencoderPIDcontractive](JIRA/ATO-460/AutoencoderPIDcontractive.ipynb)\n",
    "    - [AutoencoderPIDdenoising](JIRA/ATO-460/AutoencoderPIDdenoising.ipynb)\n",
    "    - [AutoencoderPIDgausstransform](JIRA/ATO-460/AutoencoderPIDgausstransform.ipynb)\n",
    "    - [AutoencoderPIDsparse](JIRA/ATO-460/AutoencoderPIDsparse.ipynb)\n",
    "    - [AutoencoderPIDvae](JIRA/ATO-460/AutoencoderPIDvae.ipynb)\n",
    "    - [AutoencoderPIDvaenoise](JIRA/ATO-460/AutoencoderPIDvaenoise.ipynb)\n",
    "    - [testautoencoderclass](JIRA/ATO-460/testautoencoderclass.ipynb)\n",
    "3. #### ATO-465\n",
    "    - [dEdxCorrection](JIRA/ATO-465/dEdxCorrection.ipynb)\n",
    "4. #### PWGPP-485\n",
    "    - [dEdxParam](JIRA/PWGPP-485/dEdxParam.ipynb)\n",
    "    - [THnInteractive](JIRA/PWGPP-485/THnInteractive.ipynb)\n",
    "5. #### PWGPP-518\n",
    "    - [layoutPlay](JIRA/PWGPP-518/layoutPlay.ipynb)\n",
    "    - [PresentationLayouts](JIRA/PWGPP-518/PresentationLayouts.ipynb)\n",
    "    \n",
    "    \n",
    "    \n",
    "### not-working Examples:\n",
    "\n",
    "- #### ATO-460\n",
    "    - [AutoencoderPID](JIRA/ATO-460/AutoencoderPID.ipynb)\n",
    "    - [AutoencoderPID2comp](JIRA/ATO-460/AutoencoderPID2comp.ipynb)\n",
    "    - [FitdEdxTF](JIRA/ATO-460/FitdEdxTF.ipynb)\n",
    "    - [physdecoder2](JIRA/ATO-460/physdecoder2.ipynb)\n",
    "- #### ATO-465\n",
    "    - [dEdxCorrection](JIRA/ATO-465/dEdxCorrection.ipynb)\n"
   ]
  }
 ],
 "metadata": {
  "kernelspec": {
   "display_name": "Python 2",
   "language": "python",
   "name": "python2"
  },
  "language_info": {
   "codemirror_mode": {
    "name": "ipython",
    "version": 2
   },
   "file_extension": ".py",
   "mimetype": "text/x-python",
   "name": "python",
   "nbconvert_exporter": "python",
   "pygments_lexer": "ipython2",
   "version": "2.7.15rc1"
  }
 },
 "nbformat": 4,
 "nbformat_minor": 2
}
