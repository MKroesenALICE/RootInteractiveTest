{
 "cells": [
  {
   "cell_type": "code",
   "execution_count": null,
   "metadata": {},
   "outputs": [],
   "source": [
    "from RootInteractive.Tools.aliTreePlayer import *\n",
    "from RootInteractive.InteractiveDrawing.bokeh.bokehTools import *\n",
    "from RootInteractive.InteractiveDrawing.bokeh.bokehDrawSA import *\n",
    "from ROOT import TFile, AliTreePlayer, TStatToolkit\n",
    "from bokeh.io import curdoc,output_notebook\n",
    "output_notebook()\n",
    "import warnings"
   ]
  },
  {
   "cell_type": "code",
   "execution_count": null,
   "metadata": {},
   "outputs": [],
   "source": [
    "ROOT.TFile.SetCacheFileDir(\"../data/\");\n",
    "treeSec=ROOT.AliTreePlayer.LoadTrees(\"cat map.list\",\".*_dSec.*\",\"xxx\",\".*\",\"\",\"\",0);\n",
    "treeSec.SetAlias(\"qPt\",\"qPtCenter\");\n",
    "treeSec.SetAlias(\"dSector\",\"dSectorCenter\");\n",
    "treeSec.SetAlias(\"atgl\",\"atglCenter\");\n",
    "treeSec.SetAlias(\"multTPCClusterN\",\"multTPCClusterNCenter\");\n",
    "TStatToolkit.AddMetadata(treeSec,\"dSector.AxisTitle\",\"x_sector (a.u.)\");\n",
    "TStatToolkit.AddMetadata(treeSec,\"qPt.AxisTitle\",\"x_sector (a.u.)\");\n",
    "TStatToolkit.AddMetadata(treeSec,\"atgl.AxisTitle\",\"pz/pt\");\n",
    "TStatToolkit.AddMetadata(treeSec,\"multTPCClusterN.AxisTitle\",\"Ncl/Ncl_central\");"
   ]
  },
  {
   "cell_type": "code",
   "execution_count": null,
   "metadata": {},
   "outputs": [],
   "source": [
    "treeSec.SetAlias(\"LHC15oQMax0\",\"LHC15o_pass1.hisQMaxMIP0_dSecDist.binMedian\");\n",
    "treeSec.SetAlias(\"LHC18qQMax0\",\"LHC18q_pass1.hisQMaxMIP0_dSecDist.binMedian\");\n",
    "treeSec.SetAlias(\"LHC18l8aQMax0\",\"LHC18l8a_MC.hisQMaxMIP0_dSecDist.binMedian\");\n",
    "treeSec.SetAlias(\"LHC15oChi2ITS\",\"LHC15o_pass1.hisnormChi2ITS_dSecDist.binMedian\");\n",
    "treeSec.SetAlias(\"LHC18qChi2ITS\",\"LHC18q_pass1.hisnormChi2ITS_dSecDist.binMedian\");\n",
    "treeSec.SetAlias(\"LHC18l8aChi2ITS\",\"LHC18l8a_MC.hisnormChi2ITS_dSecDist.binMedian\");\n",
    "treeSec.SetAlias(\"LHC15oChi2TPC\",\"LHC15o_pass1.hisnormChi2TPC_dSecDist.binMedian\");\n",
    "treeSec.SetAlias(\"LHC18qChi2TPC\",\"LHC18q_pass1.hisnormChi2TPC_dSecDist.binMedian\");\n",
    "treeSec.SetAlias(\"LHC18l8aChi2TPC\",\"LHC18l8a_MC.hisnormChi2TPC_dSecDist.binMedian\");"
   ]
  },
  {
   "cell_type": "code",
   "execution_count": null,
   "metadata": {},
   "outputs": [],
   "source": [
    "query = \"entries>50\"\n",
    "figureArray= [\n",
    "                [['dSector'], ['LHC15oQMax0'], {'colorZvar':'qPt'}],\n",
    "                [['dSector'], ['LHC18qQMax0'], {'colorZvar':'qPt'}],\n",
    "                [['dSector'], ['LHC18l8aQMax0'], {'colorZvar':'qPt'}],\n",
    "                ['table']             \n",
    "            ]\n",
    "tooltips=[('qPt', '(@qPt)'), ('ps/pt', '(@atgl)'), ('multTPCClusterN', '(@multTPCClusterN)'),\n",
    "            ('LHC15oQMax0','(@LHC15oQMax0)'), ('LHC18qQMax0', '(@LHC18qQMax0)'),('LHC18l8aQMax0', '(@LHC18l8aQMax0)')]\n",
    "figureLayout= '((0, 1,2 ),(3, plot_height=100,x_visible=1),commonX=0, commonY=0,x_visible=1,y_visible=1,plot_height=350,plot_width=1000)'\n",
    "widgets=\"query.xx(),slider.qPt(-3,3,0.3,-0.3,0.3),slider.atgl(0,1,0.1,0.1), slider.dSector(0,1,0.05,0,1),slider.multTPCClusterN(0,1.4,0.2,0.2)\"\n",
    "output_file(\"compararison20152018_QMax0.html\")\n",
    "\n",
    "output=bokehDrawSA.fromArray(treeSec,query,figureArray,widgets,tooltips=tooltips, layout=figureLayout)"
   ]
  },
  {
   "cell_type": "code",
   "execution_count": null,
   "metadata": {},
   "outputs": [],
   "source": [
    "query = \"entries>50\"\n",
    "figureArray= [\n",
    "                [['dSector'], ['LHC15oQMax0'], {'colorZvar':'qPt'}],\n",
    "                [['dSector'], ['LHC18qQMax0'], {'colorZvar':'qPt'}],\n",
    "                [['dSector'], ['LHC18l8aQMax0'], {'colorZvar':'qPt'}],\n",
    "                ['table']             \n",
    "            ]\n",
    "tooltips=[('qPt', '(@qPt)'), ('ps/pt', '(@atgl)'), ('multTPCClusterN', '(@multTPCClusterN)'),\n",
    "            ('LHC15oQMax0','(@LHC15oQMax0)'), ('LHC18qQMax0', '(@LHC18qQMax0)'),('LHC18l8aQMax0', '(@LHC18l8aQMax0)')]\n",
    "figureLayout= '((0, 1,2 ),(3, plot_height=100,x_visible=1),commonX=0, commonY=0,x_visible=1,y_visible=1,plot_height=350,plot_width=1000)'\n",
    "widgets=\"query.xx(),slider.qPt(-3,3,0.3,-0.3,0.3),slider.atgl(0,1,0.1,0.1), slider.dSector(0,1,0.05,0,1),slider.multTPCClusterN(0,1.4,0.2,0.2)\"\n",
    "output_file(\"compararison20152018_QMax0.html\")\n",
    "output=bokehDrawSA.fromArray(treeSec,query,figureArray,widgets,tooltips=tooltips, layout=figureLayout)"
   ]
  }
 ],
 "metadata": {
  "kernelspec": {
   "display_name": "Python 3",
   "language": "python",
   "name": "python3"
  },
  "language_info": {
   "codemirror_mode": {
    "name": "ipython",
    "version": 3
   },
   "file_extension": ".py",
   "mimetype": "text/x-python",
   "name": "python",
   "nbconvert_exporter": "python",
   "pygments_lexer": "ipython3",
   "version": "3.6.8"
  }
 },
 "nbformat": 4,
 "nbformat_minor": 2
}
