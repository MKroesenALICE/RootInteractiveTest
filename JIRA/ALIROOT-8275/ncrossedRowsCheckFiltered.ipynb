{
 "cells": [
  {
   "cell_type": "code",
   "execution_count": null,
   "metadata": {},
   "outputs": [],
   "source": [
    "import ROOT\n",
    "c  = ROOT.TCanvas(\"canvas\",\"canvas\")"
   ]
  },
  {
   "cell_type": "code",
   "execution_count": null,
   "metadata": {},
   "outputs": [],
   "source": [
    "ROOT.TGrid.Connect(\"alien\",\"miranov\")"
   ]
  },
  {
   "cell_type": "code",
   "execution_count": null,
   "metadata": {},
   "outputs": [],
   "source": [
    "ROOT.gSystem.Exec(\"alien_find /alice/sim/2019/LHC19f5b_3/296433/SpacePointCalibrationMerge Filter*root  | sed s_/alice_alien:///alice_> filtered.list\")"
   ]
  },
  {
   "cell_type": "code",
   "execution_count": null,
   "metadata": {},
   "outputs": [],
   "source": [
    "#tree = f.Get(\"highPt\")\n",
    "tree = ROOT.AliXRDPROOFtoolkit.MakeChainRandom(\"filtered.list\",\"highPt\",\"\",100,0)\n",
    "tree.SetMarkerStyle(21); tree.SetMarkerSize(0.5);\n",
    "ROOT.AliDrawStyle.SetDefaults();\n",
    "ROOT.AliDrawStyle.ApplyStyle(\"figTemplate\");\n",
    "tree.SetCacheSize(200000000)"
   ]
  },
  {
   "cell_type": "code",
   "execution_count": null,
   "metadata": {},
   "outputs": [],
   "source": [
    "tree.Draw(\"esdTrack.GetTPCClusterInfo(3,1):sign(Bz*esdTrack.fP[4])*esdTrack.fIp.GetParameterAtRadius(120,5,10):esdTrack.fP[4]\",\"esdTrack.fITSncls>4&&abs(esdTrack.fP[4])<0.25&&esdTrack.GetTPCClusterInfo(3,0)>0.75&&abs(esdTrack.fP[3])<0.8\",\"colz\",1000000)"
   ]
  },
  {
   "cell_type": "code",
   "execution_count": null,
   "metadata": {},
   "outputs": [],
   "source": [
    "c.Draw()"
   ]
  },
  {
   "cell_type": "code",
   "execution_count": null,
   "metadata": {},
   "outputs": [],
   "source": []
  }
 ],
 "metadata": {
  "kernelspec": {
   "display_name": "Python 3",
   "language": "python",
   "name": "python3"
  },
  "language_info": {
   "codemirror_mode": {
    "name": "ipython",
    "version": 3
   },
   "file_extension": ".py",
   "mimetype": "text/x-python",
   "name": "python",
   "nbconvert_exporter": "python",
   "pygments_lexer": "ipython3",
   "version": "3.6.8"
  }
 },
 "nbformat": 4,
 "nbformat_minor": 2
}
