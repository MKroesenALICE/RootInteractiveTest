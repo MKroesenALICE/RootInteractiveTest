{
 "cells": [
  {
   "cell_type": "markdown",
   "metadata": {},
   "source": [
    "# Get edge parameterization for differnt MC /data productions\n",
    "\n",
    "1. Load production lists - filtered data from alien\n",
    "2. Extract skimmed data - create pandas with subset of information\n",
    "3. Make parameteratization of performance (as in  PWGPP-567/comparisondEdgePerf.ipynb)\n",
    "* Variables to describe\n",
    "  * Ncrossed raw and Ncl\n",
    "  * Fraction of associated clusters\n",
    "  * DCA resolution+bias\n",
    "  * dEdx bias\n",
    "  * TPC/ITS chi2\n",
    "  \n",
    "*  Variables binning resp. for ML:\n",
    "  * local position (at radii)\n",
    "  * 1/dEdx\n",
    "  * multiplicity\n",
    "  * q/pt\n",
    "  \n",
    "\n",
    "4.Visulaize/compare - regression maps  "
   ]
  },
  {
   "cell_type": "code",
   "execution_count": null,
   "metadata": {},
   "outputs": [],
   "source": [
    "import ROOT\n",
    "from RootInteractive.Tools.aliTreePlayer import *\n",
    "from RootInteractive.InteractiveDrawing.bokeh.bokehDrawSA import *\n",
    "from bokeh.models import *\n",
    "from bokeh.io import output_notebook\n",
    "from RootInteractive.MLpipeline.NDFunctionInterface import  DataContainer, Fitter\n",
    "output_notebook()\n",
    "c  = ROOT.TCanvas(\"canvas\",\"canvas\")"
   ]
  },
  {
   "cell_type": "code",
   "execution_count": null,
   "metadata": {},
   "outputs": [],
   "source": [
    "ROOT.TGrid.Connect(\"alien\",\"miranov\")"
   ]
  },
  {
   "cell_type": "markdown",
   "metadata": {},
   "source": [
    "# Prepare production lists\n",
    "* MC new production - LHC19f5b_3\n",
    "* MC old production - LHC19f5b_2\n",
    "* MC old production - LHC19f5b"
   ]
  },
  {
   "cell_type": "code",
   "execution_count": null,
   "metadata": {},
   "outputs": [],
   "source": [
    "ROOT.gSystem.Exec(\"alien_find /alice/sim/2019/LHC19f5b_3/296433/SpacePointCalibrationMerge Filter*root  | sed s_/alice_alien:///alice_> filtered_LHC19f5b_3.list\")\n",
    "ROOT.gSystem.Exec(\"alien_find /alice/sim/2019/LHC19f5b_2/296433/SpacePointCalibrationMerge Filter*root  | sed s_/alice_alien:///alice_> filtered_LHC19f5b_2.list\")\n",
    "ROOT.gSystem.Exec(\"alien_find /alice/sim/2019/LHC19f5b/296433/SpacePointCalibrationMerge Filter*root  | sed s_/alice_alien:///alice_> filtered_LHC19f5b.list\")\n",
    "ROOT.gSystem.GetFromPipe(\"wc filtered*.list\")"
   ]
  },
  {
   "cell_type": "code",
   "execution_count": null,
   "metadata": {},
   "outputs": [],
   "source": [
    "#tree = f.Get(\"highPt\")\n",
    "tree = ROOT.AliXRDPROOFtoolkit.MakeChainRandom(\"filtered_LHC19f5b_3.list\",\"highPt\",\"\",1,0)\n",
    "tree.SetMarkerStyle(21); tree.SetMarkerSize(0.5);\n",
    "ROOT.AliDrawStyle.SetDefaults();\n",
    "ROOT.AliDrawStyle.ApplyStyle(\"figTemplate\");\n",
    "tree.SetCacheSize(200000000)"
   ]
  },
  {
   "cell_type": "code",
   "execution_count": null,
   "metadata": {},
   "outputs": [],
   "source": [
    "ROOT.AliAnalysisTaskFilteredTree.SetDefaultAliasesHighPt(tree)\n",
    "#tree.GetListOfAliases().ls()"
   ]
  },
  {
   "cell_type": "code",
   "execution_count": null,
   "metadata": {},
   "outputs": [],
   "source": [
    "ROOT.gROOT.LoadMacro(\"/eos/user/m/mivanov/github/RootInteractiveTest/JIRA/Tools/rdataframeFilter.C\") "
   ]
  },
  {
   "cell_type": "code",
   "execution_count": null,
   "metadata": {},
   "outputs": [],
   "source": [
    "ROOT.makeRDFrameSnapshot0(tree,\"test.root\",5)"
   ]
  },
  {
   "cell_type": "code",
   "execution_count": null,
   "metadata": {},
   "outputs": [],
   "source": [
    "f = ROOT.TFile.Open(\"test.root\")\n",
    "x= f.Get(\"tree\")"
   ]
  },
  {
   "cell_type": "code",
   "execution_count": null,
   "metadata": {},
   "outputs": [],
   "source": [
    "x.Draw(\"cr40_65:pos40_65>>his40_65\",\"abs(qPt)<1\",\"prof\")\n",
    "c.Draw()"
   ]
  },
  {
   "cell_type": "code",
   "execution_count": null,
   "metadata": {},
   "outputs": [],
   "source": [
    "x.Show(0)"
   ]
  },
  {
   "cell_type": "code",
   "execution_count": null,
   "metadata": {},
   "outputs": [],
   "source": [
    "df=tree2Panda(x,[\".*cr.*\",\".*qP.*\",\".*pos.*\",\".*tgl.*\"],\"qP!=0\")\n",
    "df.head(5)"
   ]
  },
  {
   "cell_type": "code",
   "execution_count": null,
   "metadata": {},
   "outputs": [],
   "source": [
    "from RootInteractive.MLpipeline.NDFunctionInterface import  DataContainer, Fitter\n",
    "varList=[\"cr0_25\",\"cr20_45\", \"cr40_65\"]\n",
    "paramList=[\"qPt\",\"pos0_25\"]\n",
    "npoints=df.shape[0]\n",
    "#fitter.Fit()\n",
    "\n",
    "for varFit in varList:\n",
    "    dataContainer = DataContainer(df,  paramList, varFit, [npoints//2,npoints//2]) \n",
    "    fitter = Fitter(dataContainer)\n",
    "    fitter.Register_Method('RF10','RandomForest', 'Regressor', n_estimators=100, max_depth=10)\n",
    "    fitter.Register_Method('RF15','RandomForest', 'Regressor', n_estimators=100, max_depth=15)\n",
    "    fitter.Fit()\n",
    "    fitter.AppendStatPandas(\"RF10\",df,varFit)\n",
    "    fitter.AppendStatPandas(\"RF15\",df,varFit)\n"
   ]
  },
  {
   "cell_type": "code",
   "execution_count": null,
   "metadata": {},
   "outputs": [],
   "source": [
    "df.head(5)"
   ]
  },
  {
   "cell_type": "code",
   "execution_count": null,
   "metadata": {},
   "outputs": [],
   "source": [
    "tooltips=[(\"qP\",\"@qP\"), (\"pz/pt\",\"@tgl\"), (\"cr0_25\",\"@cr025\")]\n",
    "figureArray= [\n",
    "    #[['pos0_25'], ['cr0_25RF10Mean'], {\"size\": 4, \"colorZvar\":\"qPt\"}],\n",
    "    #[['pos20_45'], ['cr20_45RF10Mean'], {\"size\": 4, \"colorZvar\":\"qPt\"}],\n",
    "    [['pos0_25'], ['cr0_25RF15Mean'], {\"size\": 4, \"colorZvar\":\"qPt\"}],\n",
    "    [['pos20_45'], ['cr20_45RF15Mean'], {\"size\": 4, \"colorZvar\":\"qPt\"}],\n",
    "    [['pos0_25'], ['cr0_25RF15Mean-cr0_25RF10Mean'], {\"size\": 4, \"colorZvar\":\"qPt\"}],\n",
    "    [['pos20_45'], ['cr20_45RF15Mean-cr20_45RF15Mean'], {\"size\": 4, \"colorZvar\":\"qPt\"}],\n",
    "    ['table']\n",
    "]\n",
    "figureLayout=[\n",
    "    [0,1, {'commonX':0,'y_visible':2,'plot_height':250}],\n",
    "    [2,3, {'commonX':0,'plot_height':250}],\n",
    "    [4,{'plot_height':20}],\n",
    "    {'plot_height':100,'sizing_mode':'scale_width'}\n",
    "]\n",
    "widgetArray=[\n",
    "    ['range', ['qPt']],\n",
    "    ['range', ['tgl']],\n",
    "    ['range', ['pos0_25']],\n",
    "    ['range', ['pos20_45']],\n",
    "]\n",
    "widgetLayout=[ [0,1], [2,3], {'sizing_mode':'scale_width'} ]\n",
    "\n",
    "output_file(\"makePanda.html\")\n",
    "bokehDrawSA.fromArray(df.head(1000), \"qP>0&cr0_25RF15RMS<2\", figureArray, widgetArray, layout=figureLayout, tooltips=tooltips,widgetLayout=widgetLayout,sizing_mode=\"scale_width\")"
   ]
  },
  {
   "cell_type": "code",
   "execution_count": null,
   "metadata": {},
   "outputs": [],
   "source": []
  },
  {
   "cell_type": "markdown",
   "metadata": {},
   "source": [
    "# Backup"
   ]
  },
  {
   "cell_type": "code",
   "execution_count": null,
   "metadata": {},
   "outputs": [],
   "source": [
    "tree.Draw(\"esdTrack.GetTPCClusterInfo(3,1):sign(Bz*esdTrack.fP[4])*esdTrack.fIp.GetParameterAtRadius(120,5,10):esdTrack.fP[4]\",\"esdTrack.fITSncls>4&&abs(esdTrack.fP[4])<0.25&&esdTrack.GetTPCClusterInfo(3,0)>0.75&&abs(esdTrack.fP[3])<0.8\",\"colz\",1000000)"
   ]
  },
  {
   "cell_type": "code",
   "execution_count": null,
   "metadata": {},
   "outputs": [],
   "source": [
    "df= ROOT.RDataFrame(tree)"
   ]
  },
  {
   "cell_type": "code",
   "execution_count": null,
   "metadata": {},
   "outputs": [],
   "source": [
    "ROOT.gInterpreter.ProcessLine(\"auto x4 = [&](int i) { std::cout << i << std::endl; };\")"
   ]
  },
  {
   "cell_type": "code",
   "execution_count": null,
   "metadata": {},
   "outputs": [],
   "source": [
    "ROOT.x4(1)"
   ]
  },
  {
   "cell_type": "code",
   "execution_count": null,
   "metadata": {},
   "outputs": [],
   "source": [
    "histo=df.Histo1D(\"contSPD\")\n",
    "histo.Draw()"
   ]
  },
  {
   "cell_type": "code",
   "execution_count": null,
   "metadata": {},
   "outputs": [],
   "source": [
    "c.Draw()"
   ]
  },
  {
   "cell_type": "code",
   "execution_count": null,
   "metadata": {},
   "outputs": [],
   "source": []
  }
 ],
 "metadata": {
  "kernelspec": {
   "display_name": "Python 3",
   "language": "python",
   "name": "python3"
  },
  "language_info": {
   "codemirror_mode": {
    "name": "ipython",
    "version": 3
   },
   "file_extension": ".py",
   "mimetype": "text/x-python",
   "name": "python",
   "nbconvert_exporter": "python",
   "pygments_lexer": "ipython3",
   "version": "3.6.8"
  }
 },
 "nbformat": 4,
 "nbformat_minor": 2
}
