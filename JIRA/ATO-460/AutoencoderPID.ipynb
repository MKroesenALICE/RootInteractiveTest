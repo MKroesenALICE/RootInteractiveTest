{
 "cells": [
  {
   "cell_type": "code",
   "execution_count": null,
   "metadata": {},
   "outputs": [],
   "source": [
    "import ROOT\n",
    "import numpy as np\n",
    "import matplotlib.pyplot as plt\n",
    "import math\n",
    "import pandas as pd\n",
    "from sklearn.model_selection import train_test_split\n",
    "from sklearn.preprocessing import StandardScaler\n",
    "from tensorflow.keras.models import Sequential\n",
    "from tensorflow.keras.layers import Dense\n",
    "import tensorflow.keras.backend as K\n",
    "import tensorflow as tf"
   ]
  },
  {
   "cell_type": "code",
   "execution_count": null,
   "metadata": {},
   "outputs": [],
   "source": [
    "p=0.3 #0.3-10GeV\n",
    "mass=0.139"
   ]
  },
  {
   "cell_type": "code",
   "execution_count": null,
   "metadata": {},
   "outputs": [],
   "source": [
    "n_particles = 10000/2\n",
    "p = np.random.uniform(0.3,10.,n_particles)\n",
    "mp = np.random.uniform(1/10.,1/0.3,n_particles)\n",
    "p_mp = 1./mp # viele Werte größer 10???"
   ]
  },
  {
   "cell_type": "code",
   "execution_count": null,
   "metadata": {},
   "outputs": [],
   "source": [
    "np.mean(p_mp)"
   ]
  },
  {
   "cell_type": "code",
   "execution_count": null,
   "metadata": {},
   "outputs": [],
   "source": [
    "plt.hist(p_mp,50,range=(0.,10.))\n",
    "plt.plot()"
   ]
  },
  {
   "cell_type": "code",
   "execution_count": null,
   "metadata": {},
   "outputs": [],
   "source": [
    "p_ges = np.concatenate([p,p_mp])"
   ]
  },
  {
   "cell_type": "code",
   "execution_count": null,
   "metadata": {},
   "outputs": [],
   "source": [
    "plt.hist(p_ges,50,range=(0,10))\n",
    "plt.plot()"
   ]
  },
  {
   "cell_type": "code",
   "execution_count": null,
   "metadata": {},
   "outputs": [],
   "source": [
    "mass_pi = 0.139\n",
    "mass_mu = 0.105\n",
    "mass_e = 0.000511\n",
    "mass_p = 0.938\n",
    "mass_K = 0.494\n",
    "masses = [mass_pi, mass_mu, mass_e, mass_p, mass_K]\n",
    "masses"
   ]
  },
  {
   "cell_type": "code",
   "execution_count": null,
   "metadata": {},
   "outputs": [],
   "source": [
    "signals = []"
   ]
  },
  {
   "cell_type": "code",
   "execution_count": null,
   "metadata": {},
   "outputs": [],
   "source": [
    "for mass in masses:\n",
    "    ITS_tmp = []\n",
    "    TPCROC0_tmp = []\n",
    "    TPCROC1_tmp = []\n",
    "    TPCROC2_tmp = []\n",
    "    TRD_tmp = []\n",
    "    TOF_tmp = []\n",
    "    for p in p_ges:\n",
    "        bg = p/mass\n",
    "        beta = bg/math.sqrt(1.+ bg*bg);\n",
    "        BBS = ROOT.AliExternalTrackParam.BetheBlochSolid(bg)\n",
    "        BBA = ROOT.AliExternalTrackParam.BetheBlochAleph(bg)\n",
    "        ITS_tmp.append(np.random.normal(BBS,0.1*BBS) ) ## ITS dEdx = smeared gaus 10% \n",
    "        TPCROC0_tmp.append(np.random.normal(BBA,0.1*BBA) )## TPC dEdx = smeared gaus 10% for 1st layer\n",
    "        TPCROC1_tmp.append(np.random.normal(BBA,0.1*BBA) )  ## TPC dEdx = smeared gaus 10% for 2nd layer\n",
    "        TPCROC2_tmp.append(np.random.normal(BBA,0.1*BBA) )  ## TPC dEdx = smeared gaus 10% for 3d layer\n",
    "        TRD_tmp.append(np.random.normal(BBA,0.1*BBA) )  ## TRD dEdx = smeared gaus 10% \n",
    "        TOF_tmp.append(np.random.normal(beta,0.1*beta) )  ## TOF - smeared with .... gaussian\n",
    "    signals.append({'ITS': ITS_tmp, 'TPCROC0': TPCROC0_tmp, 'TPCROC1': TPCROC1_tmp, 'TPCROC1': TPCROC1_tmp, \n",
    "                    'TPCROC2': TPCROC2_tmp, 'TRD': TRD_tmp, 'TOF': TOF_tmp})"
   ]
  },
  {
   "cell_type": "code",
   "execution_count": null,
   "metadata": {},
   "outputs": [],
   "source": [
    "plt.hist2d(p_ges, signals[2][\"ITS\"], bins=(100, 100), cmap=plt.cm.jet, range = [[0.2, 2], [0, 0.004]])\n",
    "plt.plot()"
   ]
  },
  {
   "cell_type": "code",
   "execution_count": null,
   "metadata": {},
   "outputs": [],
   "source": [
    "df_list=[]\n",
    "for i, val in enumerate(masses):\n",
    "    df = pd.DataFrame.from_dict(signals[i])\n",
    "    df['p'] = pd.Series(p_ges, index=df.index)\n",
    "    df['particle'] = pd.Series(i, index=df.index)\n",
    "    df_list.append(df)\n"
   ]
  },
  {
   "cell_type": "code",
   "execution_count": null,
   "metadata": {},
   "outputs": [],
   "source": [
    "df_list[3].head()"
   ]
  },
  {
   "cell_type": "code",
   "execution_count": null,
   "metadata": {},
   "outputs": [],
   "source": [
    "df_all = pd.concat([df_list[0],df_list[2],df_list[3],df_list[4]], ignore_index=True)"
   ]
  },
  {
   "cell_type": "code",
   "execution_count": null,
   "metadata": {},
   "outputs": [],
   "source": [
    "len(df_all)"
   ]
  },
  {
   "cell_type": "code",
   "execution_count": null,
   "metadata": {},
   "outputs": [],
   "source": [
    "plt.hist2d(df_all[\"p\"], df_all[\"TPCROC1\"], bins=(100, 100), cmap=plt.cm.jet, range = [[0.2, 2], [0.5, 3]])\n",
    "plt.plot()"
   ]
  },
  {
   "cell_type": "code",
   "execution_count": null,
   "metadata": {},
   "outputs": [],
   "source": [
    "train, test =train_test_split(df_all, test_size=0.5)\n",
    "test.head()"
   ]
  },
  {
   "cell_type": "code",
   "execution_count": null,
   "metadata": {},
   "outputs": [],
   "source": [
    "scaler = StandardScaler()\n",
    "scaler.fit(train[[\"ITS\", \"TOF\", \"TPCROC0\", \"TPCROC1\", \"TPCROC2\", \"TRD\"]])\n",
    "#out = scaler.transform(train)"
   ]
  },
  {
   "cell_type": "code",
   "execution_count": null,
   "metadata": {},
   "outputs": [],
   "source": [
    "model = Sequential()\n",
    "model.add(Dense(units=64, activation='selu', input_dim=6))\n",
    "model.add(Dense(units=64, activation='selu'))\n",
    "model.add(Dense(units=64, activation='selu'))\n",
    "model.add(Dense(units=2, activation='selu'))\n",
    "model.add(Dense(units=64, activation='selu'))\n",
    "model.add(Dense(units=64, activation='selu'))\n",
    "model.add(Dense(units=64, activation='selu'))\n",
    "model.add(Dense(units=6, activation='linear'))\n",
    "model.compile(loss='mse',\n",
    "              optimizer='adam',\n",
    "              metrics=['mse'])\n",
    "model.summary()"
   ]
  },
  {
   "cell_type": "code",
   "execution_count": null,
   "metadata": {},
   "outputs": [],
   "source": [
    "train_data = train[[\"ITS\", \"TOF\", \"TPCROC0\", \"TPCROC1\", \"TPCROC2\", \"TRD\"]]\n",
    "test_data = test[[\"ITS\", \"TOF\", \"TPCROC0\", \"TPCROC1\", \"TPCROC2\", \"TRD\"]]\n",
    "model.fit(scaler.transform(train_data), scaler.transform(train_data), epochs=5, batch_size=32, \n",
    "          validation_data=[scaler.transform(test_data),scaler.transform(test_data)])"
   ]
  },
  {
   "cell_type": "code",
   "execution_count": null,
   "metadata": {},
   "outputs": [],
   "source": [
    "out = scaler.inverse_transform(model.predict(scaler.transform(test_data)))"
   ]
  },
  {
   "cell_type": "code",
   "execution_count": null,
   "metadata": {},
   "outputs": [],
   "source": [
    "AE_predict = pd.DataFrame(out)\n",
    "AE_predict.columns = [\"ITS_ae\", \"TOF_ae\", \"TPCROC0_ae\", \"TPCROC1_ae\", \"TPCROC2_ae\", \"TRD_ae\"]\n",
    "test_ri = test.reset_index()\n",
    "df_test = pd.concat([test_ri,AE_predict], axis = 1)\n",
    "df_test.head()"
   ]
  },
  {
   "cell_type": "code",
   "execution_count": null,
   "metadata": {},
   "outputs": [],
   "source": [
    "plt.hist2d(df_all[\"p\"], df_all[\"TPCROC1\"], bins=(100, 100), cmap=plt.cm.jet, range = [[0.2, 2], [0.5, 3]])\n",
    "plt.show()\n",
    "plt.hist2d(df_test[\"p\"], df_test[\"TPCROC1_ae\"], bins=(100, 100), cmap=plt.cm.jet, range = [[0.2, 2], [0.5, 3]])\n",
    "plt.show()"
   ]
  },
  {
   "cell_type": "code",
   "execution_count": null,
   "metadata": {},
   "outputs": [],
   "source": [
    "particle_id = 2\n",
    "plt.hist2d(df_all.query(\"particle ==\" +str(particle_id))[\"p\"], df_all.query(\"particle == \" +str(particle_id))[\"TPCROC1\"], bins=(100, 100), cmap=plt.cm.jet, range = [[0.2, 2], [0.5, 3]])\n",
    "plt.show()\n",
    "plt.hist2d(df_test.query(\"particle ==\" +str(particle_id))[\"p\"], df_test.query(\"particle ==\" +str(particle_id))[\"TPCROC1_ae\"], bins=(100, 100), cmap=plt.cm.jet, range = [[0.2, 2], [0.5, 3]])\n",
    "plt.show()"
   ]
  },
  {
   "cell_type": "code",
   "execution_count": null,
   "metadata": {},
   "outputs": [],
   "source": [
    "plt.hist2d(df_all[\"p\"], df_all[\"TOF\"], bins=(100, 100), cmap=plt.cm.jet, range = [[0.2, 5], [0.4, 1.2]])\n",
    "plt.show()\n",
    "plt.hist2d(df_test[\"p\"], df_test[\"TOF_ae\"], bins=(100, 100), cmap=plt.cm.jet, range = [[0.2, 5], [0.4, 1.2]])\n",
    "plt.show()"
   ]
  },
  {
   "cell_type": "code",
   "execution_count": null,
   "metadata": {},
   "outputs": [],
   "source": [
    "plt.hist2d(df_all[\"p\"], df_all[\"ITS\"], bins=(100, 100), cmap=plt.cm.jet, range = [[0.2, 2], [0, 0.006]])\n",
    "plt.show()\n",
    "plt.hist2d(df_test[\"p\"], df_test[\"ITS_ae\"], bins=(100, 100), cmap=plt.cm.jet, range = [[0.2, 2], [0, 0.006]])\n",
    "plt.show()"
   ]
  },
  {
   "cell_type": "markdown",
   "metadata": {},
   "source": [
    "# Include zero entries"
   ]
  },
  {
   "cell_type": "code",
   "execution_count": null,
   "metadata": {},
   "outputs": [],
   "source": [
    "def flip(p):\n",
    "    return 1 if np.random.random() < p else 0\n",
    "N=40000\n",
    "flips = []\n",
    "for i in range(6):\n",
    "    flips.append([flip(0.95) for i in xrange(N)])\n",
    "ones = np.ones(N)\n",
    "flip_dict = {\"A\" : flips[0], \"B\" : flips[1], \"C\" : flips[2], \"D\" : flips[3], \n",
    "             \"E\" : flips[4], \"F\" : flips[5], \"G\" : ones, \"H\" : ones}\n",
    "flip_df =  pd.DataFrame.from_dict(flip_dict)\n",
    "np.array(flip_df)"
   ]
  },
  {
   "cell_type": "code",
   "execution_count": null,
   "metadata": {},
   "outputs": [],
   "source": [
    "df_all_zeros = np.multiply(df_all,flip_df)\n",
    "train_0, test_0, flipdftrain, flipdftest =train_test_split(df_all_zeros, flip_df, test_size=0.5)\n",
    "train_data_0 = train_0[[\"ITS\", \"TOF\", \"TPCROC0\", \"TPCROC1\", \"TPCROC2\", \"TRD\"]]\n",
    "test_data_0 = test_0[[\"ITS\", \"TOF\", \"TPCROC0\", \"TPCROC1\", \"TPCROC2\", \"TRD\"]]"
   ]
  },
  {
   "cell_type": "code",
   "execution_count": null,
   "metadata": {},
   "outputs": [],
   "source": [
    "scaler_0 = StandardScaler()\n",
    "scaler_0.fit(train[[\"ITS\", \"TOF\", \"TPCROC0\", \"TPCROC1\", \"TPCROC2\", \"TRD\"]])"
   ]
  },
  {
   "cell_type": "code",
   "execution_count": null,
   "metadata": {},
   "outputs": [],
   "source": [
    "model.fit(scaler_0.transform(train_data_0), scaler_0.transform(train_data_0), epochs=5, batch_size=32, \n",
    "          validation_data=[scaler_0.transform(test_data_0),scaler_0.transform(test_data_0)])"
   ]
  },
  {
   "cell_type": "code",
   "execution_count": null,
   "metadata": {},
   "outputs": [],
   "source": [
    "out_0 = scaler_0.inverse_transform(model.predict(scaler_0.transform(test_data_0)))\n",
    "AE_predict_0 = pd.DataFrame(out_0)\n",
    "AE_predict_0.columns = [\"ITS_ae\", \"TOF_ae\", \"TPCROC0_ae\", \"TPCROC1_ae\", \"TPCROC2_ae\", \"TRD_ae\"]\n",
    "test_0 = test_0.reset_index()\n",
    "df_test_0 = pd.concat([test_0,AE_predict_0], axis = 1)\n",
    "df_test_0.head()"
   ]
  },
  {
   "cell_type": "code",
   "execution_count": null,
   "metadata": {},
   "outputs": [],
   "source": [
    "plt.hist2d(df_all_zeros[\"p\"], df_all_zeros[\"TPCROC1\"], bins=(100, 100), cmap=plt.cm.jet, range = [[0.2, 2], [0.5, 3]])\n",
    "plt.show()\n",
    "plt.hist2d(df_test_0[\"p\"], df_test_0[\"TPCROC1_ae\"], bins=(100, 100), cmap=plt.cm.jet, range = [[0.2, 2], [0.5, 3]])\n",
    "plt.show()\n",
    "plt.hist2d(df_test_0.query(\"TPCROC1 == 0\")[\"p\"], df_test_0.query(\"TPCROC1 == 0\")[\"TPCROC1_ae\"], bins=(100, 100), cmap=plt.cm.jet, range = [[0.2, 2], [0.5, 3]])\n",
    "plt.show()\n",
    "plt.hist2d(df_test_0.query(\"TPCROC1 > 0\")[\"p\"], df_test_0.query(\"TPCROC1 > 0\")[\"TPCROC1_ae\"], bins=(100, 100), cmap=plt.cm.jet, range = [[0.2, 2], [0.5, 3]])\n",
    "plt.show()"
   ]
  },
  {
   "cell_type": "code",
   "execution_count": null,
   "metadata": {},
   "outputs": [],
   "source": [
    "particle_id = 4\n",
    "plt.hist2d(df_all_zeros.query(\"particle ==\" +str(particle_id))[\"p\"], df_all_zeros.query(\"particle == \" +str(particle_id))[\"TPCROC1\"], bins=(100, 100), cmap=plt.cm.jet, range = [[0.2, 2], [0.5, 3]])\n",
    "plt.show()\n",
    "plt.hist2d(df_test_0.query(\"particle ==\" +str(particle_id))[\"p\"], df_test_0.query(\"particle ==\" +str(particle_id))[\"TPCROC1_ae\"], bins=(100, 100), cmap=plt.cm.jet, range = [[0.2, 2], [0.5, 3]])\n",
    "plt.show()\n",
    "plt.hist2d(df_test_0.query(\"particle ==\" +str(particle_id)+\"and TPCROC1==0\")[\"p\"], \n",
    "           df_test_0.query(\"particle ==\" +str(particle_id)+\"and TPCROC1==0\")[\"TPCROC1_ae\"], bins=(100, 100), \n",
    "           cmap=plt.cm.jet, range = [[0.2, 2], [0.5, 3]])\n",
    "plt.show()\n",
    "plt.hist2d(df_test_0.query(\"particle ==\" +str(particle_id)+\"and TPCROC1>0\")[\"p\"], \n",
    "           df_test_0.query(\"particle ==\" +str(particle_id)+\"and TPCROC1>0\")[\"TPCROC1_ae\"], bins=(100, 100), \n",
    "           cmap=plt.cm.jet, range = [[0.2, 2], [0.5, 3]])\n",
    "plt.show()"
   ]
  },
  {
   "cell_type": "markdown",
   "metadata": {},
   "source": [
    "# Labeled Zero Entries\n",
    "in without entry, trained on data with entries"
   ]
  },
  {
   "cell_type": "code",
   "execution_count": null,
   "metadata": {},
   "outputs": [],
   "source": [
    "train_l0 = np.multiply(train, flip_df.sample(n=20000))\n",
    "test_l0 = np.multiply(test, flip_df.sample(n=20000))\n",
    "train_data_l0 = train_l0[[\"ITS\", \"TOF\", \"TPCROC0\", \"TPCROC1\", \"TPCROC2\", \"TRD\"]]\n",
    "test_data_l0 = test_l0[[\"ITS\", \"TOF\", \"TPCROC0\", \"TPCROC1\", \"TPCROC2\", \"TRD\"]]"
   ]
  },
  {
   "cell_type": "code",
   "execution_count": null,
   "metadata": {},
   "outputs": [],
   "source": [
    "scaler_l0in = StandardScaler()\n",
    "scaler_l0out = StandardScaler()\n",
    "scaler_l0in.fit(train_data_l0)\n",
    "scaler_l0out.fit(train_data)"
   ]
  },
  {
   "cell_type": "code",
   "execution_count": null,
   "metadata": {},
   "outputs": [],
   "source": [
    "\n",
    "model.fit(scaler_l0in.transform(train_data_l0), scaler_l0out.transform(train_data), epochs=5, batch_size=32, \n",
    "          validation_data=[scaler_l0in.transform(test_data_l0),scaler_l0out.transform(test_data)])"
   ]
  },
  {
   "cell_type": "code",
   "execution_count": null,
   "metadata": {},
   "outputs": [],
   "source": [
    "out_l0 = scaler_l0in.inverse_transform(model.predict(scaler_l0in.transform(test_data_l0)))\n",
    "AE_predict_l0 = pd.DataFrame(out_l0)\n",
    "AE_predict_l0.columns = [\"ITS_ae\", \"TOF_ae\", \"TPCROC0_ae\", \"TPCROC1_ae\", \"TPCROC2_ae\", \"TRD_ae\"]\n",
    "test_l0 = test_l0.reset_index()\n",
    "df_test_l0 = pd.concat([test_l0,AE_predict_l0], axis = 1)\n",
    "df_test_l0.head()"
   ]
  },
  {
   "cell_type": "code",
   "execution_count": null,
   "metadata": {},
   "outputs": [],
   "source": [
    "plt.hist2d(df_all_zeros[\"p\"], df_all_zeros[\"TPCROC1\"], bins=(100, 100), cmap=plt.cm.jet, range = [[0.2, 2], [0.5, 3]])\n",
    "plt.show()\n",
    "plt.hist2d(df_test_l0[\"p\"], df_test_l0[\"TPCROC1_ae\"], bins=(100, 100), cmap=plt.cm.jet, range = [[0.2, 2], [0.5, 3]])\n",
    "plt.show()\n",
    "plt.hist2d(df_test_0[\"p\"], df_test_0[\"TPCROC1_ae\"], bins=(100, 100), cmap=plt.cm.jet, range = [[0.2, 2], [0.5, 3]])\n",
    "plt.show()\n",
    "plt.hist2d(df_test_l0.query(\"TPCROC1 == 0\")[\"p\"], df_test_l0.query(\"TPCROC1 == 0\")[\"TPCROC1_ae\"], bins=(100, 100), cmap=plt.cm.jet, range = [[0.2, 2], [0.5, 3]])\n",
    "plt.show()\n",
    "plt.hist2d(df_test_l0.query(\"TPCROC1 > 0\")[\"p\"], df_test_l0.query(\"TPCROC1 > 0\")[\"TPCROC1_ae\"], bins=(100, 100), cmap=plt.cm.jet, range = [[0.2, 2], [0.5, 3]])\n",
    "plt.show()"
   ]
  },
  {
   "cell_type": "markdown",
   "metadata": {},
   "source": [
    "# Loss disregarding zero entries"
   ]
  },
  {
   "cell_type": "code",
   "execution_count": null,
   "metadata": {},
   "outputs": [],
   "source": [
    "zerofinder = pd.DataFrame(scaler_0.transform(train_data_0))\n",
    "zerofinder.columns = [\"ITS\", \"TOF\", \"TPCROC0\", \"TPCROC1\", \"TPCROC2\", \"TRD\"]\n",
    "mins = []\n",
    "for el in zerofinder.columns:\n",
    "    minimum = np.min(np.array(zerofinder[[el]]))\n",
    "    mins.append(minimum)\n",
    "    print(minimum)"
   ]
  },
  {
   "cell_type": "code",
   "execution_count": null,
   "metadata": {},
   "outputs": [],
   "source": [
    "def loss_nozeros(y_true, y_pred):\n",
    "    mins_tensor = tf.convert_to_tensor(mins)\n",
    "    mins_tensor_corrdim = tf.ones([tf.shape(y_true)[0]])*mins_tensor\n",
    "    greater = tf.greater(y_true,mins_tensor_corrdim)\n",
    "    x = tf.where(greater, K.mean(K.square(y_true-y_pred)))\n",
    "    return x"
   ]
  },
  {
   "cell_type": "code",
   "execution_count": null,
   "metadata": {},
   "outputs": [],
   "source": [
    "#model.compile(loss=loss_nozeros,\n",
    "#              optimizer='adam')\n",
    "#model.fit(scaler_0.transform(train_data_0), scaler_0.transform(train_data_0), epochs=5, batch_size=32, \n",
    "#          validation_data=[scaler_0.transform(test_data_0),scaler_0.transform(test_data_0)])"
   ]
  },
  {
   "cell_type": "markdown",
   "metadata": {},
   "source": [
    "# input transformation (two autoencoder iterations)"
   ]
  },
  {
   "cell_type": "code",
   "execution_count": null,
   "metadata": {},
   "outputs": [],
   "source": [
    "out_tr0 = scaler.inverse_transform(model.predict(scaler.transform(train_data_0)))\n",
    "AE_predict_tr0 = pd.DataFrame(out_tr0)\n",
    "AE_predict_tr0.columns = [\"ITS_ae\", \"TOF_ae\", \"TPCROC0_ae\", \"TPCROC1_ae\", \"TPCROC2_ae\", \"TRD_ae\"]\n",
    "train_0 = train_0.reset_index()\n",
    "df_train_0 = pd.concat([train_0,AE_predict_0], axis = 1)\n",
    "df_train_0.head()"
   ]
  },
  {
   "cell_type": "code",
   "execution_count": null,
   "metadata": {},
   "outputs": [],
   "source": [
    "ITS_1it = np.where(df_train_0.ITS==0, df_train_0.ITS_ae, df_train_0.ITS)\n",
    "TOF_1it = np.where(df_train_0.TOF==0, df_train_0.TOF_ae, df_train_0.TOF)\n",
    "TPCROC0_1it = np.where(df_train_0.TPCROC0==0, df_train_0.TPCROC0_ae, df_train_0.TPCROC0)\n",
    "TPCROC1_1it = np.where(df_train_0.TPCROC1==0, df_train_0.TPCROC1_ae, df_train_0.TPCROC1)\n",
    "TPCROC2_1it = np.where(df_train_0.TPCROC2==0, df_train_0.TPCROC2_ae, df_train_0.TPCROC2)\n",
    "TRD_1it = np.where(df_train_0.TRD==0, df_train_0.TRD_ae, df_train_0.TRD)"
   ]
  },
  {
   "cell_type": "code",
   "execution_count": null,
   "metadata": {},
   "outputs": [],
   "source": [
    "train_1it = pd.DataFrame(np.array([ITS_1it,TOF_1it,TPCROC0_1it,TPCROC1_1it,TPCROC2_1it,TRD_1it]).T)\n",
    "train_1it.columns=[\"ITS\", \"TOF\", \"TPCROC0\", \"TPCROC1\", \"TPCROC2\", \"TRD\"]"
   ]
  },
  {
   "cell_type": "code",
   "execution_count": null,
   "metadata": {},
   "outputs": [],
   "source": [
    "train_1it.head()"
   ]
  },
  {
   "cell_type": "code",
   "execution_count": null,
   "metadata": {},
   "outputs": [],
   "source": [
    "out_tt0 = scaler.inverse_transform(model.predict(scaler.transform(test_data_0)))\n",
    "AE_predict_tt0 = pd.DataFrame(out_tt0)\n",
    "AE_predict_tt0.columns = [\"ITS_ae\", \"TOF_ae\", \"TPCROC0_ae\", \"TPCROC1_ae\", \"TPCROC2_ae\", \"TRD_ae\"]\n",
    "test_0 = test_0.reset_index()\n",
    "df_test_0 = pd.concat([test_0,AE_predict_0], axis = 1)\n",
    "df_test_0 = df_test_0.drop(\"index\",axis = 1)\n",
    "df_test_0 = df_test_0.drop(\"level_0\",axis = 1)\n",
    "df_test_0.head()\n",
    "ITS_1it_tt = np.where(df_test_0.ITS==0, df_test_0.ITS_ae, df_test_0.ITS)\n",
    "TOF_1it_tt = np.where(df_test_0.TOF==0, df_test_0.TOF_ae, df_test_0.TOF)\n",
    "TPCROC0_1it_tt = np.where(df_test_0.TPCROC0==0, df_test_0.TPCROC0_ae, df_test_0.TPCROC0)\n",
    "TPCROC1_1it_tt = np.where(df_test_0.TPCROC1==0, df_test_0.TPCROC1_ae, df_test_0.TPCROC1)\n",
    "TPCROC2_1it_tt = np.where(df_test_0.TPCROC2==0, df_test_0.TPCROC2_ae, df_test_0.TPCROC2)\n",
    "TRD_1it_tt = np.where(df_test_0.TRD==0, df_test_0.TRD_ae, df_test_0.TRD)"
   ]
  },
  {
   "cell_type": "code",
   "execution_count": null,
   "metadata": {},
   "outputs": [],
   "source": [
    "test_1it = pd.DataFrame(np.array([ITS_1it_tt,TOF_1it_tt,TPCROC0_1it_tt,TPCROC1_1it_tt,TPCROC2_1it_tt,TRD_1it_tt]).T)\n",
    "test_1it.columns=[\"ITS\", \"TOF\", \"TPCROC0\", \"TPCROC1\", \"TPCROC2\", \"TRD\"]"
   ]
  },
  {
   "cell_type": "code",
   "execution_count": null,
   "metadata": {},
   "outputs": [],
   "source": [
    "df_test_0.head()"
   ]
  },
  {
   "cell_type": "code",
   "execution_count": null,
   "metadata": {},
   "outputs": [],
   "source": [
    "scaler_1it = StandardScaler()\n",
    "scaler_1it.fit(train_1it[[\"ITS\", \"TOF\", \"TPCROC0\", \"TPCROC1\", \"TPCROC2\", \"TRD\"]])\n",
    "model.fit(scaler_1it.transform(train_1it[[\"ITS\", \"TOF\", \"TPCROC0\", \"TPCROC1\", \"TPCROC2\", \"TRD\"]]), \n",
    "          scaler_1it.transform(train_1it[[\"ITS\", \"TOF\", \"TPCROC0\", \"TPCROC1\", \"TPCROC2\", \"TRD\"]]), epochs=5, batch_size=32, \n",
    "          validation_data=[scaler_1it.transform(test_1it[[\"ITS\", \"TOF\", \"TPCROC0\", \"TPCROC1\", \"TPCROC2\", \"TRD\"]]),\n",
    "                           scaler_1it.transform(test_1it[[\"ITS\", \"TOF\", \"TPCROC0\", \"TPCROC1\", \"TPCROC2\", \"TRD\"]])])"
   ]
  },
  {
   "cell_type": "code",
   "execution_count": null,
   "metadata": {},
   "outputs": [],
   "source": [
    "out_1it = scaler_1it.inverse_transform(model.predict(scaler_1it.transform(test_1it[[\"ITS\", \"TOF\", \"TPCROC0\", \"TPCROC1\", \"TPCROC2\", \"TRD\"]])))\n",
    "AE_predict_1it = pd.DataFrame(out_1it)\n",
    "AE_predict_1it.columns = [\"ITS_ae\", \"TOF_ae\", \"TPCROC0_ae\", \"TPCROC1_ae\", \"TPCROC2_ae\", \"TRD_ae\"]\n",
    "#test_1it = test_1it.reset_index()\n",
    "df_test_1it = pd.concat([test_1it,AE_predict_1it], axis = 1)\n",
    "df_test_1it.head()\n",
    "df_test_1it['p'] = pd.Series(df_test_0[\"p\"], index=df.index)\n",
    "df_test_1it['particle'] = pd.Series(df_test_0[\"particle\"], index=df.index)"
   ]
  },
  {
   "cell_type": "code",
   "execution_count": null,
   "metadata": {},
   "outputs": [],
   "source": [
    "df_test_1it = df_test_1it.drop(\"index\",axis=1)"
   ]
  },
  {
   "cell_type": "code",
   "execution_count": null,
   "metadata": {},
   "outputs": [],
   "source": [
    "plt.hist2d(df_all_zeros[\"p\"], df_all_zeros[\"TPCROC1\"], bins=(100, 100), cmap=plt.cm.jet, range = [[0.2, 2], [0.5, 3]])\n",
    "plt.show()\n",
    "plt.hist2d(df_test_1it[\"p\"], df_test_1it[\"TPCROC1_ae\"], bins=(100, 100), cmap=plt.cm.jet, range = [[0.2, 2], [0.5, 3]])\n",
    "plt.show()\n",
    "plt.hist2d(df_test_0[\"p\"], df_test_0[\"TPCROC1_ae\"], bins=(100, 100), cmap=plt.cm.jet, range = [[0.2, 2], [0.5, 3]])\n",
    "plt.show()\n",
    "plt.hist2d(df_test_1it.query(\"TPCROC1 > 0\")[\"p\"], df_test_1it.query(\"TPCROC1 > 0\")[\"TPCROC1_ae\"], bins=(100, 100), cmap=plt.cm.jet, range = [[0.2, 2], [0.5, 3]])\n",
    "plt.show()"
   ]
  },
  {
   "cell_type": "code",
   "execution_count": null,
   "metadata": {},
   "outputs": [],
   "source": [
    "particle_id = 4\n",
    "plt.hist2d(df_all.query(\"particle ==\" +str(particle_id))[\"p\"], df_all.query(\"particle == \" +str(particle_id))[\"TPCROC1\"], bins=(100, 100), cmap=plt.cm.jet, range = [[0.2, 2], [0.5, 3]])\n",
    "plt.show()\n",
    "plt.hist2d(df_test_1it.query(\"particle ==\" +str(particle_id))[\"p\"], df_test_1it.query(\"particle ==\" +str(particle_id))[\"TPCROC1_ae\"], bins=(100, 100), cmap=plt.cm.jet, range = [[0.2, 2], [0.5, 3]])\n",
    "plt.show()"
   ]
  },
  {
   "cell_type": "markdown",
   "metadata": {},
   "source": [
    "# plot latent space "
   ]
  },
  {
   "cell_type": "code",
   "execution_count": null,
   "metadata": {},
   "outputs": [],
   "source": [
    "f = K.function([model.layers[0].input, K.learning_phase()], [model.layers[3].output])"
   ]
  },
  {
   "cell_type": "code",
   "execution_count": null,
   "metadata": {},
   "outputs": [],
   "source": [
    "lat_space = f([pd.DataFrame(test_1it[[\"ITS\", \"TOF\", \"TPCROC0\", \"TPCROC1\", \"TPCROC2\", \"TRD\"]]),1])"
   ]
  },
  {
   "cell_type": "code",
   "execution_count": null,
   "metadata": {},
   "outputs": [],
   "source": [
    "np.array(lat_space)[-1].T[0].shape"
   ]
  },
  {
   "cell_type": "code",
   "execution_count": null,
   "metadata": {},
   "outputs": [],
   "source": [
    "plt.hist2d(np.array(lat_space)[-1].T[0],np.array(lat_space)[-1].T[1], range=[[-0.1,0.75],[1,2.1]], bins=100)\n",
    "plt.show()"
   ]
  }
 ],
 "metadata": {
  "kernelspec": {
   "display_name": "Python 3",
   "language": "python",
   "name": "python3"
  },
  "language_info": {
   "codemirror_mode": {
    "name": "ipython",
    "version": 2
   },
   "file_extension": ".py",
   "mimetype": "text/x-python",
   "name": "python",
   "nbconvert_exporter": "python",
   "pygments_lexer": "ipython2",
   "version": "2.7.12"
  }
 },
 "nbformat": 4,
 "nbformat_minor": 2
}
