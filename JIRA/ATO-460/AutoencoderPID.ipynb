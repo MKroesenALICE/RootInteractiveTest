{
 "cells": [
  {
   "cell_type": "code",
   "execution_count": 1,
   "metadata": {},
   "outputs": [
    {
     "name": "stdout",
     "output_type": "stream",
     "text": [
      "Welcome to JupyROOT 6.10/08\n"
     ]
    }
   ],
   "source": [
    "import ROOT\n",
    "import numpy as np\n",
    "import matplotlib.pyplot as plt\n",
    "import math\n",
    "import pandas as pd\n",
    "from sklearn.model_selection import train_test_split\n",
    "from sklearn.preprocessing import StandardScaler\n",
    "from tensorflow.keras.models import Sequential\n",
    "from tensorflow.keras.layers import Dense\n",
    "import tensorflow.keras.backend as K\n",
    "import tensorflow as tf"
   ]
  },
  {
   "cell_type": "code",
   "execution_count": 2,
   "metadata": {},
   "outputs": [],
   "source": [
    "p=0.3 #0.3-10GeV\n",
    "mass=0.139"
   ]
  },
  {
   "cell_type": "code",
   "execution_count": 3,
   "metadata": {},
   "outputs": [],
   "source": [
    "n_particles = 10000/2\n",
    "p = np.random.uniform(0.3,10.,n_particles)\n",
    "mp = np.random.uniform(1/10.,1/0.3,n_particles)\n",
    "p_mp = 1./mp # viele Werte größer 10???"
   ]
  },
  {
   "cell_type": "code",
   "execution_count": 4,
   "metadata": {},
   "outputs": [
    {
     "data": {
      "text/plain": [
       "1.0814965650760053"
      ]
     },
     "execution_count": 4,
     "metadata": {},
     "output_type": "execute_result"
    }
   ],
   "source": [
    "np.mean(p_mp)"
   ]
  },
  {
   "cell_type": "code",
   "execution_count": 5,
   "metadata": {},
   "outputs": [
    {
     "data": {
      "text/plain": [
       "[]"
      ]
     },
     "execution_count": 5,
     "metadata": {},
     "output_type": "execute_result"
    },
    {
     "data": {
      "image/png": "[encoded data removed]",
      "text/plain": [
       "<Figure size 432x288 with 1 Axes>"
      ]
     },
     "metadata": {
      "needs_background": "light"
     },
     "output_type": "display_data"
    }
   ],
   "source": [
    "plt.hist(p_mp,50,range=(0.,10.))\n",
    "plt.plot()"
   ]
  },
  {
   "cell_type": "code",
   "execution_count": 6,
   "metadata": {},
   "outputs": [],
   "source": [
    "p_ges = np.concatenate([p,p_mp])"
   ]
  },
  {
   "cell_type": "code",
   "execution_count": 7,
   "metadata": {},
   "outputs": [
    {
     "data": {
      "text/plain": [
       "[]"
      ]
     },
     "execution_count": 7,
     "metadata": {},
     "output_type": "execute_result"
    },
    {
     "data": {
      "image/png": "[encoded data removed]",
      "text/plain": [
       "<Figure size 432x288 with 1 Axes>"
      ]
     },
     "metadata": {
      "needs_background": "light"
     },
     "output_type": "display_data"
    }
   ],
   "source": [
    "plt.hist(p_ges,50,range=(0,10))\n",
    "plt.plot()"
   ]
  },
  {
   "cell_type": "code",
   "execution_count": 8,
   "metadata": {},
   "outputs": [
    {
     "data": {
      "text/plain": [
       "[0.139, 0.105, 0.000511, 0.938, 0.494]"
      ]
     },
     "execution_count": 8,
     "metadata": {},
     "output_type": "execute_result"
    }
   ],
   "source": [
    "mass_pi = 0.139\n",
    "mass_mu = 0.105\n",
    "mass_e = 0.000511\n",
    "mass_p = 0.938\n",
    "mass_K = 0.494\n",
    "masses = [mass_pi, mass_mu, mass_e, mass_p, mass_K]\n",
    "masses"
   ]
  },
  {
   "cell_type": "code",
   "execution_count": 9,
   "metadata": {},
   "outputs": [],
   "source": [
    "signals = []"
   ]
  },
  {
   "cell_type": "code",
   "execution_count": 10,
   "metadata": {},
   "outputs": [],
   "source": [
    "for mass in masses:\n",
    "    ITS_tmp = []\n",
    "    TPCROC0_tmp = []\n",
    "    TPCROC1_tmp = []\n",
    "    TPCROC2_tmp = []\n",
    "    TRD_tmp = []\n",
    "    TOF_tmp = []\n",
    "    for p in p_ges:\n",
    "        bg = p/mass\n",
    "        beta = bg/math.sqrt(1.+ bg*bg);\n",
    "        BBS = ROOT.AliExternalTrackParam.BetheBlochSolid(bg)\n",
    "        BBA = ROOT.AliExternalTrackParam.BetheBlochAleph(bg)\n",
    "        ITS_tmp.append(np.random.normal(BBS,0.1*BBS) ) ## ITS dEdx = smeared gaus 10% \n",
    "        TPCROC0_tmp.append(np.random.normal(BBA,0.1*BBA) )## TPC dEdx = smeared gaus 10% for 1st layer\n",
    "        TPCROC1_tmp.append(np.random.normal(BBA,0.1*BBA) )  ## TPC dEdx = smeared gaus 10% for 2nd layer\n",
    "        TPCROC2_tmp.append(np.random.normal(BBA,0.1*BBA) )  ## TPC dEdx = smeared gaus 10% for 3d layer\n",
    "        TRD_tmp.append(np.random.normal(BBA,0.1*BBA) )  ## TRD dEdx = smeared gaus 10% \n",
    "        TOF_tmp.append(np.random.normal(beta,0.1*beta) )  ## TOF - smeared with .... gaussian\n",
    "    signals.append({'ITS': ITS_tmp, 'TPCROC0': TPCROC0_tmp, 'TPCROC1': TPCROC1_tmp, 'TPCROC1': TPCROC1_tmp, \n",
    "                    'TPCROC2': TPCROC2_tmp, 'TRD': TRD_tmp, 'TOF': TOF_tmp})"
   ]
  },
  {
   "cell_type": "code",
   "execution_count": 11,
   "metadata": {},
   "outputs": [
    {
     "data": {
      "text/plain": [
       "[]"
      ]
     },
     "execution_count": 11,
     "metadata": {},
     "output_type": "execute_result"
    },
    {
     "data": {
      "image/png": "[encoded data removed]",
      "text/plain": [
       "<Figure size 432x288 with 1 Axes>"
      ]
     },
     "metadata": {
      "needs_background": "light"
     },
     "output_type": "display_data"
    }
   ],
   "source": [
    "plt.hist2d(p_ges, signals[2][\"ITS\"], bins=(100, 100), cmap=plt.cm.jet, range = [[0.2, 2], [0, 0.004]])\n",
    "plt.plot()"
   ]
  },
  {
   "cell_type": "code",
   "execution_count": 12,
   "metadata": {},
   "outputs": [],
   "source": [
    "df_list=[]\n",
    "for i, val in enumerate(masses):\n",
    "    df = pd.DataFrame.from_dict(signals[i])\n",
    "    df['p'] = pd.Series(p_ges, index=df.index)\n",
    "    df['particle'] = pd.Series(i, index=df.index)\n",
    "    df_list.append(df)\n"
   ]
  },
  {
   "cell_type": "code",
   "execution_count": 13,
   "metadata": {},
   "outputs": [
    {
     "data": {
      "text/html": [
       "<div>\n",
       "<style scoped>\n",
       "    .dataframe tbody tr th:only-of-type {\n",
       "        vertical-align: middle;\n",
       "    }\n",
       "\n",
       "    .dataframe tbody tr th {\n",
       "        vertical-align: top;\n",
       "    }\n",
       "\n",
       "    .dataframe thead th {\n",
       "        text-align: right;\n",
       "    }\n",
       "</style>\n",
       "<table border=\"1\" class=\"dataframe\">\n",
       "  <thead>\n",
       "    <tr style=\"text-align: right;\">\n",
       "      <th></th>\n",
       "      <th>ITS</th>\n",
       "      <th>TOF</th>\n",
       "      <th>TPCROC0</th>\n",
       "      <th>TPCROC1</th>\n",
       "      <th>TPCROC2</th>\n",
       "      <th>TRD</th>\n",
       "      <th>p</th>\n",
       "      <th>particle</th>\n",
       "    </tr>\n",
       "  </thead>\n",
       "  <tbody>\n",
       "    <tr>\n",
       "      <th>0</th>\n",
       "      <td>0.001648</td>\n",
       "      <td>0.886889</td>\n",
       "      <td>1.219541</td>\n",
       "      <td>0.997935</td>\n",
       "      <td>1.203593</td>\n",
       "      <td>1.118583</td>\n",
       "      <td>9.589579</td>\n",
       "      <td>3</td>\n",
       "    </tr>\n",
       "    <tr>\n",
       "      <th>1</th>\n",
       "      <td>0.001503</td>\n",
       "      <td>0.833760</td>\n",
       "      <td>0.995753</td>\n",
       "      <td>1.092827</td>\n",
       "      <td>1.008888</td>\n",
       "      <td>0.805905</td>\n",
       "      <td>2.987579</td>\n",
       "      <td>3</td>\n",
       "    </tr>\n",
       "    <tr>\n",
       "      <th>2</th>\n",
       "      <td>0.001474</td>\n",
       "      <td>1.042847</td>\n",
       "      <td>0.977145</td>\n",
       "      <td>1.027516</td>\n",
       "      <td>0.903656</td>\n",
       "      <td>1.062048</td>\n",
       "      <td>4.698851</td>\n",
       "      <td>3</td>\n",
       "    </tr>\n",
       "    <tr>\n",
       "      <th>3</th>\n",
       "      <td>0.001735</td>\n",
       "      <td>0.906589</td>\n",
       "      <td>0.951312</td>\n",
       "      <td>1.054473</td>\n",
       "      <td>0.969149</td>\n",
       "      <td>0.804831</td>\n",
       "      <td>2.916813</td>\n",
       "      <td>3</td>\n",
       "    </tr>\n",
       "    <tr>\n",
       "      <th>4</th>\n",
       "      <td>0.001773</td>\n",
       "      <td>0.825912</td>\n",
       "      <td>0.975749</td>\n",
       "      <td>0.983869</td>\n",
       "      <td>1.174980</td>\n",
       "      <td>0.873440</td>\n",
       "      <td>5.522709</td>\n",
       "      <td>3</td>\n",
       "    </tr>\n",
       "  </tbody>\n",
       "</table>\n",
       "</div>"
      ],
      "text/plain": [
       "        ITS       TOF   TPCROC0   TPCROC1   TPCROC2       TRD         p  \\\n",
       "0  0.001648  0.886889  1.219541  0.997935  1.203593  1.118583  9.589579   \n",
       "1  0.001503  0.833760  0.995753  1.092827  1.008888  0.805905  2.987579   \n",
       "2  0.001474  1.042847  0.977145  1.027516  0.903656  1.062048  4.698851   \n",
       "3  0.001735  0.906589  0.951312  1.054473  0.969149  0.804831  2.916813   \n",
       "4  0.001773  0.825912  0.975749  0.983869  1.174980  0.873440  5.522709   \n",
       "\n",
       "   particle  \n",
       "0         3  \n",
       "1         3  \n",
       "2         3  \n",
       "3         3  \n",
       "4         3  "
      ]
     },
     "execution_count": 13,
     "metadata": {},
     "output_type": "execute_result"
    }
   ],
   "source": [
    "df_list[3].head()"
   ]
  },
  {
   "cell_type": "code",
   "execution_count": 14,
   "metadata": {},
   "outputs": [],
   "source": [
    "df_all = pd.concat([df_list[0],df_list[2],df_list[3],df_list[4]], ignore_index=True)"
   ]
  },
  {
   "cell_type": "code",
   "execution_count": 15,
   "metadata": {},
   "outputs": [
    {
     "data": {
      "text/plain": [
       "40000"
      ]
     },
     "execution_count": 15,
     "metadata": {},
     "output_type": "execute_result"
    }
   ],
   "source": [
    "len(df_all)"
   ]
  },
  {
   "cell_type": "code",
   "execution_count": 16,
   "metadata": {},
   "outputs": [
    {
     "data": {
      "text/plain": [
       "[]"
      ]
     },
     "execution_count": 16,
     "metadata": {},
     "output_type": "execute_result"
    },
    {
     "data": {
      "image/png": "[encoded data removed]",
      "text/plain": [
       "<Figure size 432x288 with 1 Axes>"
      ]
     },
     "metadata": {
      "needs_background": "light"
     },
     "output_type": "display_data"
    }
   ],
   "source": [
    "plt.hist2d(df_all[\"p\"], df_all[\"TPCROC1\"], bins=(100, 100), cmap=plt.cm.jet, range = [[0.2, 2], [0.5, 3]])\n",
    "plt.plot()"
   ]
  },
  {
   "cell_type": "code",
   "execution_count": 17,
   "metadata": {},
   "outputs": [
    {
     "data": {
      "text/html": [
       "<div>\n",
       "<style scoped>\n",
       "    .dataframe tbody tr th:only-of-type {\n",
       "        vertical-align: middle;\n",
       "    }\n",
       "\n",
       "    .dataframe tbody tr th {\n",
       "        vertical-align: top;\n",
       "    }\n",
       "\n",
       "    .dataframe thead th {\n",
       "        text-align: right;\n",
       "    }\n",
       "</style>\n",
       "<table border=\"1\" class=\"dataframe\">\n",
       "  <thead>\n",
       "    <tr style=\"text-align: right;\">\n",
       "      <th></th>\n",
       "      <th>ITS</th>\n",
       "      <th>TOF</th>\n",
       "      <th>TPCROC0</th>\n",
       "      <th>TPCROC1</th>\n",
       "      <th>TPCROC2</th>\n",
       "      <th>TRD</th>\n",
       "      <th>p</th>\n",
       "      <th>particle</th>\n",
       "    </tr>\n",
       "  </thead>\n",
       "  <tbody>\n",
       "    <tr>\n",
       "      <th>15850</th>\n",
       "      <td>0.003037</td>\n",
       "      <td>1.179649</td>\n",
       "      <td>1.356606</td>\n",
       "      <td>1.358242</td>\n",
       "      <td>1.542979</td>\n",
       "      <td>1.489969</td>\n",
       "      <td>0.913884</td>\n",
       "      <td>2</td>\n",
       "    </tr>\n",
       "    <tr>\n",
       "      <th>33380</th>\n",
       "      <td>0.001502</td>\n",
       "      <td>1.011873</td>\n",
       "      <td>1.054118</td>\n",
       "      <td>1.098580</td>\n",
       "      <td>1.127731</td>\n",
       "      <td>1.223613</td>\n",
       "      <td>1.073067</td>\n",
       "      <td>4</td>\n",
       "    </tr>\n",
       "    <tr>\n",
       "      <th>14953</th>\n",
       "      <td>0.002461</td>\n",
       "      <td>1.053820</td>\n",
       "      <td>1.633676</td>\n",
       "      <td>1.618784</td>\n",
       "      <td>1.838253</td>\n",
       "      <td>1.772187</td>\n",
       "      <td>3.174213</td>\n",
       "      <td>2</td>\n",
       "    </tr>\n",
       "    <tr>\n",
       "      <th>24351</th>\n",
       "      <td>0.001590</td>\n",
       "      <td>0.909947</td>\n",
       "      <td>1.194989</td>\n",
       "      <td>1.107401</td>\n",
       "      <td>1.104609</td>\n",
       "      <td>1.223243</td>\n",
       "      <td>8.557716</td>\n",
       "      <td>3</td>\n",
       "    </tr>\n",
       "    <tr>\n",
       "      <th>16608</th>\n",
       "      <td>0.002877</td>\n",
       "      <td>0.949310</td>\n",
       "      <td>1.665274</td>\n",
       "      <td>1.652772</td>\n",
       "      <td>1.547522</td>\n",
       "      <td>1.564844</td>\n",
       "      <td>2.202538</td>\n",
       "      <td>2</td>\n",
       "    </tr>\n",
       "  </tbody>\n",
       "</table>\n",
       "</div>"
      ],
      "text/plain": [
       "            ITS       TOF   TPCROC0   TPCROC1   TPCROC2       TRD         p  \\\n",
       "15850  0.003037  1.179649  1.356606  1.358242  1.542979  1.489969  0.913884   \n",
       "33380  0.001502  1.011873  1.054118  1.098580  1.127731  1.223613  1.073067   \n",
       "14953  0.002461  1.053820  1.633676  1.618784  1.838253  1.772187  3.174213   \n",
       "24351  0.001590  0.909947  1.194989  1.107401  1.104609  1.223243  8.557716   \n",
       "16608  0.002877  0.949310  1.665274  1.652772  1.547522  1.564844  2.202538   \n",
       "\n",
       "       particle  \n",
       "15850         2  \n",
       "33380         4  \n",
       "14953         2  \n",
       "24351         3  \n",
       "16608         2  "
      ]
     },
     "execution_count": 17,
     "metadata": {},
     "output_type": "execute_result"
    }
   ],
   "source": [
    "train, test =train_test_split(df_all, test_size=0.5)\n",
    "test.head()"
   ]
  },
  {
   "cell_type": "code",
   "execution_count": 18,
   "metadata": {},
   "outputs": [
    {
     "data": {
      "text/plain": [
       "StandardScaler(copy=True, with_mean=True, with_std=True)"
      ]
     },
     "execution_count": 18,
     "metadata": {},
     "output_type": "execute_result"
    }
   ],
   "source": [
    "scaler = StandardScaler()\n",
    "scaler.fit(train[[\"ITS\", \"TOF\", \"TPCROC0\", \"TPCROC1\", \"TPCROC2\", \"TRD\"]])\n",
    "#out = scaler.transform(train)"
   ]
  },
  {
   "cell_type": "code",
   "execution_count": 19,
   "metadata": {},
   "outputs": [
    {
     "name": "stdout",
     "output_type": "stream",
     "text": [
      "_________________________________________________________________\n",
      "Layer (type)                 Output Shape              Param #   \n",
      "=================================================================\n",
      "dense (Dense)                (None, 64)                448       \n",
      "_________________________________________________________________\n",
      "dense_1 (Dense)              (None, 64)                4160      \n",
      "_________________________________________________________________\n",
      "dense_2 (Dense)              (None, 64)                4160      \n",
      "_________________________________________________________________\n",
      "dense_3 (Dense)              (None, 2)                 130       \n",
      "_________________________________________________________________\n",
      "dense_4 (Dense)              (None, 64)                192       \n",
      "_________________________________________________________________\n",
      "dense_5 (Dense)              (None, 64)                4160      \n",
      "_________________________________________________________________\n",
      "dense_6 (Dense)              (None, 64)                4160      \n",
      "_________________________________________________________________\n",
      "dense_7 (Dense)              (None, 6)                 390       \n",
      "=================================================================\n",
      "Total params: 17,800\n",
      "Trainable params: 17,800\n",
      "Non-trainable params: 0\n",
      "_________________________________________________________________\n"
     ]
    }
   ],
   "source": [
    "model = Sequential()\n",
    "model.add(Dense(units=64, activation='selu', input_dim=6))\n",
    "model.add(Dense(units=64, activation='selu'))\n",
    "model.add(Dense(units=64, activation='selu'))\n",
    "model.add(Dense(units=2, activation='selu'))\n",
    "model.add(Dense(units=64, activation='selu'))\n",
    "model.add(Dense(units=64, activation='selu'))\n",
    "model.add(Dense(units=64, activation='selu'))\n",
    "model.add(Dense(units=6, activation='linear'))\n",
    "model.compile(loss='mse',\n",
    "              optimizer='adam',\n",
    "              metrics=['mse'])\n",
    "model.summary()"
   ]
  },
  {
   "cell_type": "code",
   "execution_count": 20,
   "metadata": {},
   "outputs": [
    {
     "name": "stdout",
     "output_type": "stream",
     "text": [
      "Train on 20000 samples, validate on 20000 samples\n",
      "Epoch 1/5\n",
      "20000/20000 [==============================] - 5s 253us/step - loss: 0.0532 - mean_squared_error: 0.0532 - val_loss: 0.0328 - val_mean_squared_error: 0.0328\n",
      "Epoch 2/5\n",
      "20000/20000 [==============================] - 4s 215us/step - loss: 0.0336 - mean_squared_error: 0.0336 - val_loss: 0.0313 - val_mean_squared_error: 0.0313\n",
      "Epoch 3/5\n",
      "20000/20000 [==============================] - 4s 210us/step - loss: 0.0322 - mean_squared_error: 0.0322 - val_loss: 0.0295 - val_mean_squared_error: 0.0295\n",
      "Epoch 4/5\n",
      "20000/20000 [==============================] - 4s 209us/step - loss: 0.0308 - mean_squared_error: 0.0308 - val_loss: 0.0297 - val_mean_squared_error: 0.0297\n",
      "Epoch 5/5\n",
      "20000/20000 [==============================] - 4s 211us/step - loss: 0.0311 - mean_squared_error: 0.0311 - val_loss: 0.0339 - val_mean_squared_error: 0.0339\n"
     ]
    },
    {
     "data": {
      "text/plain": [
       "<tensorflow.python.keras.callbacks.History at 0x7f4141afac10>"
      ]
     },
     "execution_count": 20,
     "metadata": {},
     "output_type": "execute_result"
    },
    {
     "name": "stderr",
     "output_type": "stream",
     "text": [
      "2019-01-25 15:54:11.789559: I tensorflow/core/platform/cpu_feature_guard.cc:141] Your CPU supports instructions that this TensorFlow binary was not compiled to use: FMA\n"
     ]
    }
   ],
   "source": [
    "train_data = train[[\"ITS\", \"TOF\", \"TPCROC0\", \"TPCROC1\", \"TPCROC2\", \"TRD\"]]\n",
    "test_data = test[[\"ITS\", \"TOF\", \"TPCROC0\", \"TPCROC1\", \"TPCROC2\", \"TRD\"]]\n",
    "model.fit(scaler.transform(train_data), scaler.transform(train_data), epochs=5, batch_size=32, \n",
    "          validation_data=[scaler.transform(test_data),scaler.transform(test_data)])"
   ]
  },
  {
   "cell_type": "code",
   "execution_count": 21,
   "metadata": {},
   "outputs": [],
   "source": [
    "out = scaler.inverse_transform(model.predict(scaler.transform(test_data)))"
   ]
  },
  {
   "cell_type": "code",
   "execution_count": 22,
   "metadata": {},
   "outputs": [
    {
     "data": {
      "text/html": [
       "<div>\n",
       "<style scoped>\n",
       "    .dataframe tbody tr th:only-of-type {\n",
       "        vertical-align: middle;\n",
       "    }\n",
       "\n",
       "    .dataframe tbody tr th {\n",
       "        vertical-align: top;\n",
       "    }\n",
       "\n",
       "    .dataframe thead th {\n",
       "        text-align: right;\n",
       "    }\n",
       "</style>\n",
       "<table border=\"1\" class=\"dataframe\">\n",
       "  <thead>\n",
       "    <tr style=\"text-align: right;\">\n",
       "      <th></th>\n",
       "      <th>index</th>\n",
       "      <th>ITS</th>\n",
       "      <th>TOF</th>\n",
       "      <th>TPCROC0</th>\n",
       "      <th>TPCROC1</th>\n",
       "      <th>TPCROC2</th>\n",
       "      <th>TRD</th>\n",
       "      <th>p</th>\n",
       "      <th>particle</th>\n",
       "      <th>ITS_ae</th>\n",
       "      <th>TOF_ae</th>\n",
       "      <th>TPCROC0_ae</th>\n",
       "      <th>TPCROC1_ae</th>\n",
       "      <th>TPCROC2_ae</th>\n",
       "      <th>TRD_ae</th>\n",
       "    </tr>\n",
       "  </thead>\n",
       "  <tbody>\n",
       "    <tr>\n",
       "      <th>0</th>\n",
       "      <td>15850</td>\n",
       "      <td>0.003037</td>\n",
       "      <td>1.179649</td>\n",
       "      <td>1.356606</td>\n",
       "      <td>1.358242</td>\n",
       "      <td>1.542979</td>\n",
       "      <td>1.489969</td>\n",
       "      <td>0.913884</td>\n",
       "      <td>2</td>\n",
       "      <td>0.002791</td>\n",
       "      <td>1.178101</td>\n",
       "      <td>1.597620</td>\n",
       "      <td>1.570463</td>\n",
       "      <td>1.630367</td>\n",
       "      <td>1.567490</td>\n",
       "    </tr>\n",
       "    <tr>\n",
       "      <th>1</th>\n",
       "      <td>33380</td>\n",
       "      <td>0.001502</td>\n",
       "      <td>1.011873</td>\n",
       "      <td>1.054118</td>\n",
       "      <td>1.098580</td>\n",
       "      <td>1.127731</td>\n",
       "      <td>1.223613</td>\n",
       "      <td>1.073067</td>\n",
       "      <td>4</td>\n",
       "      <td>0.001896</td>\n",
       "      <td>1.006713</td>\n",
       "      <td>1.141795</td>\n",
       "      <td>1.136627</td>\n",
       "      <td>1.169071</td>\n",
       "      <td>1.147920</td>\n",
       "    </tr>\n",
       "    <tr>\n",
       "      <th>2</th>\n",
       "      <td>14953</td>\n",
       "      <td>0.002461</td>\n",
       "      <td>1.053820</td>\n",
       "      <td>1.633676</td>\n",
       "      <td>1.618784</td>\n",
       "      <td>1.838253</td>\n",
       "      <td>1.772187</td>\n",
       "      <td>3.174213</td>\n",
       "      <td>2</td>\n",
       "      <td>0.003076</td>\n",
       "      <td>1.064107</td>\n",
       "      <td>1.714535</td>\n",
       "      <td>1.707050</td>\n",
       "      <td>1.715291</td>\n",
       "      <td>1.691540</td>\n",
       "    </tr>\n",
       "    <tr>\n",
       "      <th>3</th>\n",
       "      <td>24351</td>\n",
       "      <td>0.001590</td>\n",
       "      <td>0.909947</td>\n",
       "      <td>1.194989</td>\n",
       "      <td>1.107401</td>\n",
       "      <td>1.104609</td>\n",
       "      <td>1.223243</td>\n",
       "      <td>8.557716</td>\n",
       "      <td>3</td>\n",
       "      <td>0.001920</td>\n",
       "      <td>0.909188</td>\n",
       "      <td>1.146228</td>\n",
       "      <td>1.151252</td>\n",
       "      <td>1.164520</td>\n",
       "      <td>1.162448</td>\n",
       "    </tr>\n",
       "    <tr>\n",
       "      <th>4</th>\n",
       "      <td>16608</td>\n",
       "      <td>0.002877</td>\n",
       "      <td>0.949310</td>\n",
       "      <td>1.665274</td>\n",
       "      <td>1.652772</td>\n",
       "      <td>1.547522</td>\n",
       "      <td>1.564844</td>\n",
       "      <td>2.202538</td>\n",
       "      <td>2</td>\n",
       "      <td>0.002980</td>\n",
       "      <td>0.954546</td>\n",
       "      <td>1.676665</td>\n",
       "      <td>1.669461</td>\n",
       "      <td>1.665140</td>\n",
       "      <td>1.638305</td>\n",
       "    </tr>\n",
       "  </tbody>\n",
       "</table>\n",
       "</div>"
      ],
      "text/plain": [
       "   index       ITS       TOF   TPCROC0   TPCROC1   TPCROC2       TRD  \\\n",
       "0  15850  0.003037  1.179649  1.356606  1.358242  1.542979  1.489969   \n",
       "1  33380  0.001502  1.011873  1.054118  1.098580  1.127731  1.223613   \n",
       "2  14953  0.002461  1.053820  1.633676  1.618784  1.838253  1.772187   \n",
       "3  24351  0.001590  0.909947  1.194989  1.107401  1.104609  1.223243   \n",
       "4  16608  0.002877  0.949310  1.665274  1.652772  1.547522  1.564844   \n",
       "\n",
       "          p  particle    ITS_ae    TOF_ae  TPCROC0_ae  TPCROC1_ae  TPCROC2_ae  \\\n",
       "0  0.913884         2  0.002791  1.178101    1.597620    1.570463    1.630367   \n",
       "1  1.073067         4  0.001896  1.006713    1.141795    1.136627    1.169071   \n",
       "2  3.174213         2  0.003076  1.064107    1.714535    1.707050    1.715291   \n",
       "3  8.557716         3  0.001920  0.909188    1.146228    1.151252    1.164520   \n",
       "4  2.202538         2  0.002980  0.954546    1.676665    1.669461    1.665140   \n",
       "\n",
       "     TRD_ae  \n",
       "0  1.567490  \n",
       "1  1.147920  \n",
       "2  1.691540  \n",
       "3  1.162448  \n",
       "4  1.638305  "
      ]
     },
     "execution_count": 22,
     "metadata": {},
     "output_type": "execute_result"
    }
   ],
   "source": [
    "AE_predict = pd.DataFrame(out)\n",
    "AE_predict.columns = [\"ITS_ae\", \"TOF_ae\", \"TPCROC0_ae\", \"TPCROC1_ae\", \"TPCROC2_ae\", \"TRD_ae\"]\n",
    "test_ri = test.reset_index()\n",
    "df_test = pd.concat([test_ri,AE_predict], axis = 1)\n",
    "df_test.head()"
   ]
  },
  {
   "cell_type": "code",
   "execution_count": 23,
   "metadata": {},
   "outputs": [
    {
     "data": {
      "image/png": "[encoded data removed]",
      "text/plain": [
       "<Figure size 432x288 with 1 Axes>"
      ]
     },
     "metadata": {
      "needs_background": "light"
     },
     "output_type": "display_data"
    },
    {
     "data": {
      "image/png": "[encoded data removed]",
      "text/plain": [
       "<Figure size 432x288 with 1 Axes>"
      ]
     },
     "metadata": {
      "needs_background": "light"
     },
     "output_type": "display_data"
    }
   ],
   "source": [
    "plt.hist2d(df_all[\"p\"], df_all[\"TPCROC1\"], bins=(100, 100), cmap=plt.cm.jet, range = [[0.2, 2], [0.5, 3]])\n",
    "plt.show()\n",
    "plt.hist2d(df_test[\"p\"], df_test[\"TPCROC1_ae\"], bins=(100, 100), cmap=plt.cm.jet, range = [[0.2, 2], [0.5, 3]])\n",
    "plt.show()"
   ]
  },
  {
   "cell_type": "code",
   "execution_count": 24,
   "metadata": {},
   "outputs": [
    {
     "data": {
      "image/png": "[encoded data removed]",
      "text/plain": [
       "<Figure size 432x288 with 1 Axes>"
      ]
     },
     "metadata": {
      "needs_background": "light"
     },
     "output_type": "display_data"
    },
    {
     "data": {
      "image/png": "[encoded data removed]",
      "text/plain": [
       "<Figure size 432x288 with 1 Axes>"
      ]
     },
     "metadata": {
      "needs_background": "light"
     },
     "output_type": "display_data"
    }
   ],
   "source": [
    "particle_id = 2\n",
    "plt.hist2d(df_all.query(\"particle ==\" +str(particle_id))[\"p\"], df_all.query(\"particle == \" +str(particle_id))[\"TPCROC1\"], bins=(100, 100), cmap=plt.cm.jet, range = [[0.2, 2], [0.5, 3]])\n",
    "plt.show()\n",
    "plt.hist2d(df_test.query(\"particle ==\" +str(particle_id))[\"p\"], df_test.query(\"particle ==\" +str(particle_id))[\"TPCROC1_ae\"], bins=(100, 100), cmap=plt.cm.jet, range = [[0.2, 2], [0.5, 3]])\n",
    "plt.show()"
   ]
  },
  {
   "cell_type": "code",
   "execution_count": 25,
   "metadata": {},
   "outputs": [
    {
     "data": {
      "image/png": "[encoded data removed]",
      "text/plain": [
       "<Figure size 432x288 with 1 Axes>"
      ]
     },
     "metadata": {
      "needs_background": "light"
     },
     "output_type": "display_data"
    },
    {
     "data": {
      "image/png": "[encoded data removed]",
      "text/plain": [
       "<Figure size 432x288 with 1 Axes>"
      ]
     },
     "metadata": {
      "needs_background": "light"
     },
     "output_type": "display_data"
    }
   ],
   "source": [
    "plt.hist2d(df_all[\"p\"], df_all[\"TOF\"], bins=(100, 100), cmap=plt.cm.jet, range = [[0.2, 5], [0.4, 1.2]])\n",
    "plt.show()\n",
    "plt.hist2d(df_test[\"p\"], df_test[\"TOF_ae\"], bins=(100, 100), cmap=plt.cm.jet, range = [[0.2, 5], [0.4, 1.2]])\n",
    "plt.show()"
   ]
  },
  {
   "cell_type": "code",
   "execution_count": 26,
   "metadata": {},
   "outputs": [
    {
     "data": {
      "image/png": "[encoded data removed]",
      "text/plain": [
       "<Figure size 432x288 with 1 Axes>"
      ]
     },
     "metadata": {
      "needs_background": "light"
     },
     "output_type": "display_data"
    },
    {
     "data": {
      "image/png": "[encoded data removed]",
      "text/plain": [
       "<Figure size 432x288 with 1 Axes>"
      ]
     },
     "metadata": {
      "needs_background": "light"
     },
     "output_type": "display_data"
    }
   ],
   "source": [
    "plt.hist2d(df_all[\"p\"], df_all[\"ITS\"], bins=(100, 100), cmap=plt.cm.jet, range = [[0.2, 2], [0, 0.006]])\n",
    "plt.show()\n",
    "plt.hist2d(df_test[\"p\"], df_test[\"ITS_ae\"], bins=(100, 100), cmap=plt.cm.jet, range = [[0.2, 2], [0, 0.006]])\n",
    "plt.show()"
   ]
  },
  {
   "cell_type": "markdown",
   "metadata": {},
   "source": [
    "# Include zero entries"
   ]
  },
  {
   "cell_type": "code",
   "execution_count": 27,
   "metadata": {},
   "outputs": [
    {
     "data": {
      "text/plain": [
       "array([[1., 1., 1., ..., 1., 1., 1.],\n",
       "       [1., 1., 1., ..., 1., 1., 1.],\n",
       "       [1., 1., 1., ..., 0., 1., 1.],\n",
       "       ...,\n",
       "       [0., 1., 1., ..., 1., 1., 1.],\n",
       "       [1., 1., 1., ..., 1., 1., 1.],\n",
       "       [1., 1., 1., ..., 1., 1., 1.]])"
      ]
     },
     "execution_count": 27,
     "metadata": {},
     "output_type": "execute_result"
    }
   ],
   "source": [
    "def flip(p):\n",
    "    return 1 if np.random.random() < p else 0\n",
    "N=40000\n",
    "flips = []\n",
    "for i in range(6):\n",
    "    flips.append([flip(0.95) for i in xrange(N)])\n",
    "ones = np.ones(N)\n",
    "flip_dict = {\"A\" : flips[0], \"B\" : flips[1], \"C\" : flips[2], \"D\" : flips[3], \n",
    "             \"E\" : flips[4], \"F\" : flips[5], \"G\" : ones, \"H\" : ones}\n",
    "flip_df =  pd.DataFrame.from_dict(flip_dict)\n",
    "np.array(flip_df)"
   ]
  },
  {
   "cell_type": "code",
   "execution_count": 28,
   "metadata": {},
   "outputs": [],
   "source": [
    "df_all_zeros = np.multiply(df_all,flip_df)\n",
    "train_0, test_0, flipdftrain, flipdftest =train_test_split(df_all_zeros, flip_df, test_size=0.5)\n",
    "train_data_0 = train_0[[\"ITS\", \"TOF\", \"TPCROC0\", \"TPCROC1\", \"TPCROC2\", \"TRD\"]]\n",
    "test_data_0 = test_0[[\"ITS\", \"TOF\", \"TPCROC0\", \"TPCROC1\", \"TPCROC2\", \"TRD\"]]"
   ]
  },
  {
   "cell_type": "code",
   "execution_count": 29,
   "metadata": {},
   "outputs": [
    {
     "data": {
      "text/plain": [
       "StandardScaler(copy=True, with_mean=True, with_std=True)"
      ]
     },
     "execution_count": 29,
     "metadata": {},
     "output_type": "execute_result"
    }
   ],
   "source": [
    "scaler_0 = StandardScaler()\n",
    "scaler_0.fit(train[[\"ITS\", \"TOF\", \"TPCROC0\", \"TPCROC1\", \"TPCROC2\", \"TRD\"]])"
   ]
  },
  {
   "cell_type": "code",
   "execution_count": 30,
   "metadata": {},
   "outputs": [
    {
     "name": "stdout",
     "output_type": "stream",
     "text": [
      "Train on 20000 samples, validate on 20000 samples\n",
      "Epoch 1/5\n",
      "20000/20000 [==============================] - 4s 210us/step - loss: 0.1694 - mean_squared_error: 0.1694 - val_loss: 0.1651 - val_mean_squared_error: 0.1651\n",
      "Epoch 2/5\n",
      "20000/20000 [==============================] - 4s 201us/step - loss: 0.1583 - mean_squared_error: 0.1583 - val_loss: 0.1643 - val_mean_squared_error: 0.1643\n",
      "Epoch 3/5\n",
      "20000/20000 [==============================] - 4s 200us/step - loss: 0.1550 - mean_squared_error: 0.1550 - val_loss: 0.1573 - val_mean_squared_error: 0.1573\n",
      "Epoch 4/5\n",
      "20000/20000 [==============================] - 4s 210us/step - loss: 0.1526 - mean_squared_error: 0.1526 - val_loss: 0.1610 - val_mean_squared_error: 0.1610\n",
      "Epoch 5/5\n",
      "20000/20000 [==============================] - 4s 206us/step - loss: 0.1495 - mean_squared_error: 0.1495 - val_loss: 0.1569 - val_mean_squared_error: 0.1569\n"
     ]
    },
    {
     "data": {
      "text/plain": [
       "<tensorflow.python.keras.callbacks.History at 0x7f41402c5190>"
      ]
     },
     "execution_count": 30,
     "metadata": {},
     "output_type": "execute_result"
    }
   ],
   "source": [
    "model.fit(scaler_0.transform(train_data_0), scaler_0.transform(train_data_0), epochs=5, batch_size=32, \n",
    "          validation_data=[scaler_0.transform(test_data_0),scaler_0.transform(test_data_0)])"
   ]
  },
  {
   "cell_type": "code",
   "execution_count": 31,
   "metadata": {},
   "outputs": [
    {
     "data": {
      "text/html": [
       "<div>\n",
       "<style scoped>\n",
       "    .dataframe tbody tr th:only-of-type {\n",
       "        vertical-align: middle;\n",
       "    }\n",
       "\n",
       "    .dataframe tbody tr th {\n",
       "        vertical-align: top;\n",
       "    }\n",
       "\n",
       "    .dataframe thead th {\n",
       "        text-align: right;\n",
       "    }\n",
       "</style>\n",
       "<table border=\"1\" class=\"dataframe\">\n",
       "  <thead>\n",
       "    <tr style=\"text-align: right;\">\n",
       "      <th></th>\n",
       "      <th>index</th>\n",
       "      <th>ITS</th>\n",
       "      <th>TOF</th>\n",
       "      <th>TPCROC0</th>\n",
       "      <th>TPCROC1</th>\n",
       "      <th>TPCROC2</th>\n",
       "      <th>TRD</th>\n",
       "      <th>p</th>\n",
       "      <th>particle</th>\n",
       "      <th>ITS_ae</th>\n",
       "      <th>TOF_ae</th>\n",
       "      <th>TPCROC0_ae</th>\n",
       "      <th>TPCROC1_ae</th>\n",
       "      <th>TPCROC2_ae</th>\n",
       "      <th>TRD_ae</th>\n",
       "    </tr>\n",
       "  </thead>\n",
       "  <tbody>\n",
       "    <tr>\n",
       "      <th>0</th>\n",
       "      <td>19283</td>\n",
       "      <td>0.002298</td>\n",
       "      <td>1.163103</td>\n",
       "      <td>1.880939</td>\n",
       "      <td>1.740229</td>\n",
       "      <td>1.735375</td>\n",
       "      <td>1.686556</td>\n",
       "      <td>0.428570</td>\n",
       "      <td>2.0</td>\n",
       "      <td>0.002693</td>\n",
       "      <td>1.112270</td>\n",
       "      <td>1.567619</td>\n",
       "      <td>1.578709</td>\n",
       "      <td>1.435131</td>\n",
       "      <td>1.555176</td>\n",
       "    </tr>\n",
       "    <tr>\n",
       "      <th>1</th>\n",
       "      <td>31070</td>\n",
       "      <td>0.001633</td>\n",
       "      <td>0.730604</td>\n",
       "      <td>1.063926</td>\n",
       "      <td>1.141520</td>\n",
       "      <td>1.049593</td>\n",
       "      <td>1.034511</td>\n",
       "      <td>0.842027</td>\n",
       "      <td>4.0</td>\n",
       "      <td>0.001880</td>\n",
       "      <td>0.741108</td>\n",
       "      <td>1.118425</td>\n",
       "      <td>1.072103</td>\n",
       "      <td>1.169542</td>\n",
       "      <td>1.083318</td>\n",
       "    </tr>\n",
       "    <tr>\n",
       "      <th>2</th>\n",
       "      <td>18565</td>\n",
       "      <td>0.002246</td>\n",
       "      <td>0.832305</td>\n",
       "      <td>1.496303</td>\n",
       "      <td>1.425562</td>\n",
       "      <td>1.564974</td>\n",
       "      <td>1.640909</td>\n",
       "      <td>0.532324</td>\n",
       "      <td>2.0</td>\n",
       "      <td>0.002617</td>\n",
       "      <td>0.860889</td>\n",
       "      <td>1.536917</td>\n",
       "      <td>1.564122</td>\n",
       "      <td>1.616377</td>\n",
       "      <td>1.433143</td>\n",
       "    </tr>\n",
       "    <tr>\n",
       "      <th>3</th>\n",
       "      <td>28059</td>\n",
       "      <td>0.008407</td>\n",
       "      <td>0.335917</td>\n",
       "      <td>0.000000</td>\n",
       "      <td>5.290347</td>\n",
       "      <td>5.227470</td>\n",
       "      <td>4.119982</td>\n",
       "      <td>0.356099</td>\n",
       "      <td>3.0</td>\n",
       "      <td>0.006679</td>\n",
       "      <td>0.355000</td>\n",
       "      <td>3.597812</td>\n",
       "      <td>4.009200</td>\n",
       "      <td>3.998581</td>\n",
       "      <td>4.327829</td>\n",
       "    </tr>\n",
       "    <tr>\n",
       "      <th>4</th>\n",
       "      <td>21551</td>\n",
       "      <td>0.001676</td>\n",
       "      <td>0.000000</td>\n",
       "      <td>1.137237</td>\n",
       "      <td>1.243751</td>\n",
       "      <td>1.227835</td>\n",
       "      <td>0.946221</td>\n",
       "      <td>4.339535</td>\n",
       "      <td>3.0</td>\n",
       "      <td>0.002101</td>\n",
       "      <td>-0.002605</td>\n",
       "      <td>1.264366</td>\n",
       "      <td>1.174384</td>\n",
       "      <td>1.195120</td>\n",
       "      <td>1.179151</td>\n",
       "    </tr>\n",
       "  </tbody>\n",
       "</table>\n",
       "</div>"
      ],
      "text/plain": [
       "   index       ITS       TOF   TPCROC0   TPCROC1   TPCROC2       TRD  \\\n",
       "0  19283  0.002298  1.163103  1.880939  1.740229  1.735375  1.686556   \n",
       "1  31070  0.001633  0.730604  1.063926  1.141520  1.049593  1.034511   \n",
       "2  18565  0.002246  0.832305  1.496303  1.425562  1.564974  1.640909   \n",
       "3  28059  0.008407  0.335917  0.000000  5.290347  5.227470  4.119982   \n",
       "4  21551  0.001676  0.000000  1.137237  1.243751  1.227835  0.946221   \n",
       "\n",
       "          p  particle    ITS_ae    TOF_ae  TPCROC0_ae  TPCROC1_ae  TPCROC2_ae  \\\n",
       "0  0.428570       2.0  0.002693  1.112270    1.567619    1.578709    1.435131   \n",
       "1  0.842027       4.0  0.001880  0.741108    1.118425    1.072103    1.169542   \n",
       "2  0.532324       2.0  0.002617  0.860889    1.536917    1.564122    1.616377   \n",
       "3  0.356099       3.0  0.006679  0.355000    3.597812    4.009200    3.998581   \n",
       "4  4.339535       3.0  0.002101 -0.002605    1.264366    1.174384    1.195120   \n",
       "\n",
       "     TRD_ae  \n",
       "0  1.555176  \n",
       "1  1.083318  \n",
       "2  1.433143  \n",
       "3  4.327829  \n",
       "4  1.179151  "
      ]
     },
     "execution_count": 31,
     "metadata": {},
     "output_type": "execute_result"
    }
   ],
   "source": [
    "out_0 = scaler_0.inverse_transform(model.predict(scaler_0.transform(test_data_0)))\n",
    "AE_predict_0 = pd.DataFrame(out_0)\n",
    "AE_predict_0.columns = [\"ITS_ae\", \"TOF_ae\", \"TPCROC0_ae\", \"TPCROC1_ae\", \"TPCROC2_ae\", \"TRD_ae\"]\n",
    "test_0 = test_0.reset_index()\n",
    "df_test_0 = pd.concat([test_0,AE_predict_0], axis = 1)\n",
    "df_test_0.head()"
   ]
  },
  {
   "cell_type": "code",
   "execution_count": 32,
   "metadata": {},
   "outputs": [
    {
     "data": {
      "image/png": "[encoded data removed]",
      "text/plain": [
       "<Figure size 432x288 with 1 Axes>"
      ]
     },
     "metadata": {
      "needs_background": "light"
     },
     "output_type": "display_data"
    },
    {
     "data": {
      "image/png": "[encoded data removed]",
      "text/plain": [
       "<Figure size 432x288 with 1 Axes>"
      ]
     },
     "metadata": {
      "needs_background": "light"
     },
     "output_type": "display_data"
    },
    {
     "data": {
      "image/png": "[encoded data removed]",
      "text/plain": [
       "<Figure size 432x288 with 1 Axes>"
      ]
     },
     "metadata": {
      "needs_background": "light"
     },
     "output_type": "display_data"
    },
    {
     "data": {
      "image/png": "[encoded data removed]",
      "text/plain": [
       "<Figure size 432x288 with 1 Axes>"
      ]
     },
     "metadata": {
      "needs_background": "light"
     },
     "output_type": "display_data"
    }
   ],
   "source": [
    "plt.hist2d(df_all_zeros[\"p\"], df_all_zeros[\"TPCROC1\"], bins=(100, 100), cmap=plt.cm.jet, range = [[0.2, 2], [0.5, 3]])\n",
    "plt.show()\n",
    "plt.hist2d(df_test_0[\"p\"], df_test_0[\"TPCROC1_ae\"], bins=(100, 100), cmap=plt.cm.jet, range = [[0.2, 2], [0.5, 3]])\n",
    "plt.show()\n",
    "plt.hist2d(df_test_0.query(\"TPCROC1 == 0\")[\"p\"], df_test_0.query(\"TPCROC1 == 0\")[\"TPCROC1_ae\"], bins=(100, 100), cmap=plt.cm.jet, range = [[0.2, 2], [0.5, 3]])\n",
    "plt.show()\n",
    "plt.hist2d(df_test_0.query(\"TPCROC1 > 0\")[\"p\"], df_test_0.query(\"TPCROC1 > 0\")[\"TPCROC1_ae\"], bins=(100, 100), cmap=plt.cm.jet, range = [[0.2, 2], [0.5, 3]])\n",
    "plt.show()"
   ]
  },
  {
   "cell_type": "code",
   "execution_count": 33,
   "metadata": {},
   "outputs": [
    {
     "data": {
      "image/png": "[encoded data removed]",
      "text/plain": [
       "<Figure size 432x288 with 1 Axes>"
      ]
     },
     "metadata": {
      "needs_background": "light"
     },
     "output_type": "display_data"
    },
    {
     "data": {
      "image/png": "[encoded data removed]",
      "text/plain": [
       "<Figure size 432x288 with 1 Axes>"
      ]
     },
     "metadata": {
      "needs_background": "light"
     },
     "output_type": "display_data"
    },
    {
     "data": {
      "image/png": "[encoded data removed]",
      "text/plain": [
       "<Figure size 432x288 with 1 Axes>"
      ]
     },
     "metadata": {
      "needs_background": "light"
     },
     "output_type": "display_data"
    },
    {
     "data": {
      "image/png": "[encoded data removed]",
      "text/plain": [
       "<Figure size 432x288 with 1 Axes>"
      ]
     },
     "metadata": {
      "needs_background": "light"
     },
     "output_type": "display_data"
    }
   ],
   "source": [
    "particle_id = 4\n",
    "plt.hist2d(df_all_zeros.query(\"particle ==\" +str(particle_id))[\"p\"], df_all_zeros.query(\"particle == \" +str(particle_id))[\"TPCROC1\"], bins=(100, 100), cmap=plt.cm.jet, range = [[0.2, 2], [0.5, 3]])\n",
    "plt.show()\n",
    "plt.hist2d(df_test_0.query(\"particle ==\" +str(particle_id))[\"p\"], df_test_0.query(\"particle ==\" +str(particle_id))[\"TPCROC1_ae\"], bins=(100, 100), cmap=plt.cm.jet, range = [[0.2, 2], [0.5, 3]])\n",
    "plt.show()\n",
    "plt.hist2d(df_test_0.query(\"particle ==\" +str(particle_id)+\"and TPCROC1==0\")[\"p\"], \n",
    "           df_test_0.query(\"particle ==\" +str(particle_id)+\"and TPCROC1==0\")[\"TPCROC1_ae\"], bins=(100, 100), \n",
    "           cmap=plt.cm.jet, range = [[0.2, 2], [0.5, 3]])\n",
    "plt.show()\n",
    "plt.hist2d(df_test_0.query(\"particle ==\" +str(particle_id)+\"and TPCROC1>0\")[\"p\"], \n",
    "           df_test_0.query(\"particle ==\" +str(particle_id)+\"and TPCROC1>0\")[\"TPCROC1_ae\"], bins=(100, 100), \n",
    "           cmap=plt.cm.jet, range = [[0.2, 2], [0.5, 3]])\n",
    "plt.show()"
   ]
  },
  {
   "cell_type": "markdown",
   "metadata": {},
   "source": [
    "# Labeled Zero Entries\n",
    "in without entry, trained on data with entries"
   ]
  },
  {
   "cell_type": "code",
   "execution_count": 34,
   "metadata": {},
   "outputs": [],
   "source": [
    "train_l0 = np.multiply(train, flip_df.sample(n=20000))\n",
    "test_l0 = np.multiply(test, flip_df.sample(n=20000))\n",
    "train_data_l0 = train_l0[[\"ITS\", \"TOF\", \"TPCROC0\", \"TPCROC1\", \"TPCROC2\", \"TRD\"]]\n",
    "test_data_l0 = test_l0[[\"ITS\", \"TOF\", \"TPCROC0\", \"TPCROC1\", \"TPCROC2\", \"TRD\"]]"
   ]
  },
  {
   "cell_type": "code",
   "execution_count": 35,
   "metadata": {},
   "outputs": [
    {
     "data": {
      "text/plain": [
       "StandardScaler(copy=True, with_mean=True, with_std=True)"
      ]
     },
     "execution_count": 35,
     "metadata": {},
     "output_type": "execute_result"
    }
   ],
   "source": [
    "scaler_l0in = StandardScaler()\n",
    "scaler_l0out = StandardScaler()\n",
    "scaler_l0in.fit(train_data_l0)\n",
    "scaler_l0out.fit(train_data)"
   ]
  },
  {
   "cell_type": "code",
   "execution_count": 36,
   "metadata": {},
   "outputs": [
    {
     "name": "stdout",
     "output_type": "stream",
     "text": [
      "Train on 20000 samples, validate on 20000 samples\n",
      "Epoch 1/5\n",
      "20000/20000 [==============================] - 4s 210us/step - loss: 0.0593 - mean_squared_error: 0.0593 - val_loss: 0.0385 - val_mean_squared_error: 0.0385\n",
      "Epoch 2/5\n",
      "20000/20000 [==============================] - 4s 213us/step - loss: 0.0411 - mean_squared_error: 0.0411 - val_loss: 0.0365 - val_mean_squared_error: 0.0365\n",
      "Epoch 3/5\n",
      "20000/20000 [==============================] - 4s 214us/step - loss: 0.0383 - mean_squared_error: 0.0383 - val_loss: 0.0354 - val_mean_squared_error: 0.0354\n",
      "Epoch 4/5\n",
      "20000/20000 [==============================] - 4s 210us/step - loss: 0.0376 - mean_squared_error: 0.0376 - val_loss: 0.0362 - val_mean_squared_error: 0.0362\n",
      "Epoch 5/5\n",
      "20000/20000 [==============================] - 4s 210us/step - loss: 0.0373 - mean_squared_error: 0.0373 - val_loss: 0.0366 - val_mean_squared_error: 0.0366\n"
     ]
    },
    {
     "data": {
      "text/plain": [
       "<tensorflow.python.keras.callbacks.History at 0x7f41401ed290>"
      ]
     },
     "execution_count": 36,
     "metadata": {},
     "output_type": "execute_result"
    }
   ],
   "source": [
    "\n",
    "model.fit(scaler_l0in.transform(train_data_l0), scaler_l0out.transform(train_data), epochs=5, batch_size=32, \n",
    "          validation_data=[scaler_l0in.transform(test_data_l0),scaler_l0out.transform(test_data)])"
   ]
  },
  {
   "cell_type": "code",
   "execution_count": 37,
   "metadata": {},
   "outputs": [
    {
     "data": {
      "text/html": [
       "<div>\n",
       "<style scoped>\n",
       "    .dataframe tbody tr th:only-of-type {\n",
       "        vertical-align: middle;\n",
       "    }\n",
       "\n",
       "    .dataframe tbody tr th {\n",
       "        vertical-align: top;\n",
       "    }\n",
       "\n",
       "    .dataframe thead th {\n",
       "        text-align: right;\n",
       "    }\n",
       "</style>\n",
       "<table border=\"1\" class=\"dataframe\">\n",
       "  <thead>\n",
       "    <tr style=\"text-align: right;\">\n",
       "      <th></th>\n",
       "      <th>index</th>\n",
       "      <th>ITS</th>\n",
       "      <th>TOF</th>\n",
       "      <th>TPCROC0</th>\n",
       "      <th>TPCROC1</th>\n",
       "      <th>TPCROC2</th>\n",
       "      <th>TRD</th>\n",
       "      <th>p</th>\n",
       "      <th>particle</th>\n",
       "      <th>ITS_ae</th>\n",
       "      <th>TOF_ae</th>\n",
       "      <th>TPCROC0_ae</th>\n",
       "      <th>TPCROC1_ae</th>\n",
       "      <th>TPCROC2_ae</th>\n",
       "      <th>TRD_ae</th>\n",
       "    </tr>\n",
       "  </thead>\n",
       "  <tbody>\n",
       "    <tr>\n",
       "      <th>0</th>\n",
       "      <td>15850</td>\n",
       "      <td>0.003037</td>\n",
       "      <td>1.179649</td>\n",
       "      <td>1.356606</td>\n",
       "      <td>1.358242</td>\n",
       "      <td>1.542979</td>\n",
       "      <td>1.489969</td>\n",
       "      <td>0.913884</td>\n",
       "      <td>2.0</td>\n",
       "      <td>0.002551</td>\n",
       "      <td>1.222731</td>\n",
       "      <td>1.468359</td>\n",
       "      <td>1.464037</td>\n",
       "      <td>1.525195</td>\n",
       "      <td>1.493748</td>\n",
       "    </tr>\n",
       "    <tr>\n",
       "      <th>1</th>\n",
       "      <td>33380</td>\n",
       "      <td>0.001502</td>\n",
       "      <td>1.011873</td>\n",
       "      <td>1.054118</td>\n",
       "      <td>1.098580</td>\n",
       "      <td>1.127731</td>\n",
       "      <td>1.223613</td>\n",
       "      <td>1.073067</td>\n",
       "      <td>4.0</td>\n",
       "      <td>0.001674</td>\n",
       "      <td>0.995197</td>\n",
       "      <td>0.983392</td>\n",
       "      <td>1.026906</td>\n",
       "      <td>1.024412</td>\n",
       "      <td>1.006894</td>\n",
       "    </tr>\n",
       "    <tr>\n",
       "      <th>2</th>\n",
       "      <td>14953</td>\n",
       "      <td>0.002461</td>\n",
       "      <td>1.053820</td>\n",
       "      <td>1.633676</td>\n",
       "      <td>1.618784</td>\n",
       "      <td>1.838253</td>\n",
       "      <td>1.772187</td>\n",
       "      <td>3.174213</td>\n",
       "      <td>2.0</td>\n",
       "      <td>0.002752</td>\n",
       "      <td>1.058433</td>\n",
       "      <td>1.547757</td>\n",
       "      <td>1.544984</td>\n",
       "      <td>1.604844</td>\n",
       "      <td>1.567116</td>\n",
       "    </tr>\n",
       "    <tr>\n",
       "      <th>3</th>\n",
       "      <td>24351</td>\n",
       "      <td>0.001590</td>\n",
       "      <td>0.909947</td>\n",
       "      <td>1.194989</td>\n",
       "      <td>1.107401</td>\n",
       "      <td>1.104609</td>\n",
       "      <td>1.223243</td>\n",
       "      <td>8.557716</td>\n",
       "      <td>3.0</td>\n",
       "      <td>0.001699</td>\n",
       "      <td>0.870993</td>\n",
       "      <td>0.997050</td>\n",
       "      <td>1.039859</td>\n",
       "      <td>1.044249</td>\n",
       "      <td>1.016831</td>\n",
       "    </tr>\n",
       "    <tr>\n",
       "      <th>4</th>\n",
       "      <td>16608</td>\n",
       "      <td>0.002877</td>\n",
       "      <td>0.949310</td>\n",
       "      <td>1.665274</td>\n",
       "      <td>1.652772</td>\n",
       "      <td>1.547522</td>\n",
       "      <td>1.564844</td>\n",
       "      <td>2.202538</td>\n",
       "      <td>2.0</td>\n",
       "      <td>0.002739</td>\n",
       "      <td>0.932610</td>\n",
       "      <td>1.547055</td>\n",
       "      <td>1.544266</td>\n",
       "      <td>1.608558</td>\n",
       "      <td>1.555369</td>\n",
       "    </tr>\n",
       "  </tbody>\n",
       "</table>\n",
       "</div>"
      ],
      "text/plain": [
       "   index       ITS       TOF   TPCROC0   TPCROC1   TPCROC2       TRD  \\\n",
       "0  15850  0.003037  1.179649  1.356606  1.358242  1.542979  1.489969   \n",
       "1  33380  0.001502  1.011873  1.054118  1.098580  1.127731  1.223613   \n",
       "2  14953  0.002461  1.053820  1.633676  1.618784  1.838253  1.772187   \n",
       "3  24351  0.001590  0.909947  1.194989  1.107401  1.104609  1.223243   \n",
       "4  16608  0.002877  0.949310  1.665274  1.652772  1.547522  1.564844   \n",
       "\n",
       "          p  particle    ITS_ae    TOF_ae  TPCROC0_ae  TPCROC1_ae  TPCROC2_ae  \\\n",
       "0  0.913884       2.0  0.002551  1.222731    1.468359    1.464037    1.525195   \n",
       "1  1.073067       4.0  0.001674  0.995197    0.983392    1.026906    1.024412   \n",
       "2  3.174213       2.0  0.002752  1.058433    1.547757    1.544984    1.604844   \n",
       "3  8.557716       3.0  0.001699  0.870993    0.997050    1.039859    1.044249   \n",
       "4  2.202538       2.0  0.002739  0.932610    1.547055    1.544266    1.608558   \n",
       "\n",
       "     TRD_ae  \n",
       "0  1.493748  \n",
       "1  1.006894  \n",
       "2  1.567116  \n",
       "3  1.016831  \n",
       "4  1.555369  "
      ]
     },
     "execution_count": 37,
     "metadata": {},
     "output_type": "execute_result"
    }
   ],
   "source": [
    "out_l0 = scaler_l0in.inverse_transform(model.predict(scaler_l0in.transform(test_data_l0)))\n",
    "AE_predict_l0 = pd.DataFrame(out_l0)\n",
    "AE_predict_l0.columns = [\"ITS_ae\", \"TOF_ae\", \"TPCROC0_ae\", \"TPCROC1_ae\", \"TPCROC2_ae\", \"TRD_ae\"]\n",
    "test_l0 = test_l0.reset_index()\n",
    "df_test_l0 = pd.concat([test_l0,AE_predict_l0], axis = 1)\n",
    "df_test_l0.head()"
   ]
  },
  {
   "cell_type": "code",
   "execution_count": 38,
   "metadata": {},
   "outputs": [
    {
     "data": {
      "image/png": "[encoded data removed]",
      "text/plain": [
       "<Figure size 432x288 with 1 Axes>"
      ]
     },
     "metadata": {
      "needs_background": "light"
     },
     "output_type": "display_data"
    },
    {
     "data": {
      "image/png": "[encoded data removed]",
      "text/plain": [
       "<Figure size 432x288 with 1 Axes>"
      ]
     },
     "metadata": {
      "needs_background": "light"
     },
     "output_type": "display_data"
    },
    {
     "data": {
      "image/png": "[encoded data removed]",
      "text/plain": [
       "<Figure size 432x288 with 1 Axes>"
      ]
     },
     "metadata": {
      "needs_background": "light"
     },
     "output_type": "display_data"
    },
    {
     "data": {
      "image/png": "[encoded data removed]",
      "text/plain": [
       "<Figure size 432x288 with 1 Axes>"
      ]
     },
     "metadata": {
      "needs_background": "light"
     },
     "output_type": "display_data"
    },
    {
     "data": {
      "image/png": "[encoded data removed]",
      "text/plain": [
       "<Figure size 432x288 with 1 Axes>"
      ]
     },
     "metadata": {
      "needs_background": "light"
     },
     "output_type": "display_data"
    }
   ],
   "source": [
    "plt.hist2d(df_all_zeros[\"p\"], df_all_zeros[\"TPCROC1\"], bins=(100, 100), cmap=plt.cm.jet, range = [[0.2, 2], [0.5, 3]])\n",
    "plt.show()\n",
    "plt.hist2d(df_test_l0[\"p\"], df_test_l0[\"TPCROC1_ae\"], bins=(100, 100), cmap=plt.cm.jet, range = [[0.2, 2], [0.5, 3]])\n",
    "plt.show()\n",
    "plt.hist2d(df_test_0[\"p\"], df_test_0[\"TPCROC1_ae\"], bins=(100, 100), cmap=plt.cm.jet, range = [[0.2, 2], [0.5, 3]])\n",
    "plt.show()\n",
    "plt.hist2d(df_test_l0.query(\"TPCROC1 == 0\")[\"p\"], df_test_l0.query(\"TPCROC1 == 0\")[\"TPCROC1_ae\"], bins=(100, 100), cmap=plt.cm.jet, range = [[0.2, 2], [0.5, 3]])\n",
    "plt.show()\n",
    "plt.hist2d(df_test_l0.query(\"TPCROC1 > 0\")[\"p\"], df_test_l0.query(\"TPCROC1 > 0\")[\"TPCROC1_ae\"], bins=(100, 100), cmap=plt.cm.jet, range = [[0.2, 2], [0.5, 3]])\n",
    "plt.show()"
   ]
  },
  {
   "cell_type": "markdown",
   "metadata": {},
   "source": [
    "# Loss disregarding zero entries"
   ]
  },
  {
   "cell_type": "code",
   "execution_count": 39,
   "metadata": {},
   "outputs": [
    {
     "name": "stdout",
     "output_type": "stream",
     "text": [
      "-1.765705864037811\n",
      "-4.500022559214135\n",
      "-1.8949964561373962\n",
      "-1.9044197567363077\n",
      "-1.9027073527530796\n",
      "-1.8996667117012962\n"
     ]
    }
   ],
   "source": [
    "zerofinder = pd.DataFrame(scaler_0.transform(train_data_0))\n",
    "zerofinder.columns = [\"ITS\", \"TOF\", \"TPCROC0\", \"TPCROC1\", \"TPCROC2\", \"TRD\"]\n",
    "mins = []\n",
    "for el in zerofinder.columns:\n",
    "    minimum = np.min(np.array(zerofinder[[el]]))\n",
    "    mins.append(minimum)\n",
    "    print(minimum)"
   ]
  },
  {
   "cell_type": "code",
   "execution_count": 40,
   "metadata": {},
   "outputs": [],
   "source": [
    "def loss_nozeros(y_true, y_pred):\n",
    "    mins_tensor = tf.convert_to_tensor(mins)\n",
    "    mins_tensor_corrdim = tf.ones([tf.shape(y_true)[0]])*mins_tensor\n",
    "    greater = tf.greater(y_true,mins_tensor_corrdim)\n",
    "    x = tf.where(greater, K.mean(K.square(y_true-y_pred)))\n",
    "    return x"
   ]
  },
  {
   "cell_type": "code",
   "execution_count": 41,
   "metadata": {},
   "outputs": [],
   "source": [
    "#model.compile(loss=loss_nozeros,\n",
    "#              optimizer='adam')\n",
    "#model.fit(scaler_0.transform(train_data_0), scaler_0.transform(train_data_0), epochs=5, batch_size=32, \n",
    "#          validation_data=[scaler_0.transform(test_data_0),scaler_0.transform(test_data_0)])"
   ]
  },
  {
   "cell_type": "markdown",
   "metadata": {},
   "source": [
    "# input transformation (two autoencoder iterations)"
   ]
  },
  {
   "cell_type": "code",
   "execution_count": 42,
   "metadata": {},
   "outputs": [
    {
     "data": {
      "text/html": [
       "<div>\n",
       "<style scoped>\n",
       "    .dataframe tbody tr th:only-of-type {\n",
       "        vertical-align: middle;\n",
       "    }\n",
       "\n",
       "    .dataframe tbody tr th {\n",
       "        vertical-align: top;\n",
       "    }\n",
       "\n",
       "    .dataframe thead th {\n",
       "        text-align: right;\n",
       "    }\n",
       "</style>\n",
       "<table border=\"1\" class=\"dataframe\">\n",
       "  <thead>\n",
       "    <tr style=\"text-align: right;\">\n",
       "      <th></th>\n",
       "      <th>index</th>\n",
       "      <th>ITS</th>\n",
       "      <th>TOF</th>\n",
       "      <th>TPCROC0</th>\n",
       "      <th>TPCROC1</th>\n",
       "      <th>TPCROC2</th>\n",
       "      <th>TRD</th>\n",
       "      <th>p</th>\n",
       "      <th>particle</th>\n",
       "      <th>ITS_ae</th>\n",
       "      <th>TOF_ae</th>\n",
       "      <th>TPCROC0_ae</th>\n",
       "      <th>TPCROC1_ae</th>\n",
       "      <th>TPCROC2_ae</th>\n",
       "      <th>TRD_ae</th>\n",
       "    </tr>\n",
       "  </thead>\n",
       "  <tbody>\n",
       "    <tr>\n",
       "      <th>0</th>\n",
       "      <td>17619</td>\n",
       "      <td>0.002895</td>\n",
       "      <td>0.833223</td>\n",
       "      <td>1.530867</td>\n",
       "      <td>1.565678</td>\n",
       "      <td>1.549574</td>\n",
       "      <td>1.205198</td>\n",
       "      <td>0.542611</td>\n",
       "      <td>2.0</td>\n",
       "      <td>0.002693</td>\n",
       "      <td>1.112270</td>\n",
       "      <td>1.567619</td>\n",
       "      <td>1.578709</td>\n",
       "      <td>1.435131</td>\n",
       "      <td>1.555176</td>\n",
       "    </tr>\n",
       "    <tr>\n",
       "      <th>1</th>\n",
       "      <td>3622</td>\n",
       "      <td>0.001530</td>\n",
       "      <td>1.047347</td>\n",
       "      <td>0.943540</td>\n",
       "      <td>0.990049</td>\n",
       "      <td>1.067066</td>\n",
       "      <td>0.975891</td>\n",
       "      <td>0.527457</td>\n",
       "      <td>0.0</td>\n",
       "      <td>0.001880</td>\n",
       "      <td>0.741108</td>\n",
       "      <td>1.118425</td>\n",
       "      <td>1.072103</td>\n",
       "      <td>1.169542</td>\n",
       "      <td>1.083318</td>\n",
       "    </tr>\n",
       "    <tr>\n",
       "      <th>2</th>\n",
       "      <td>756</td>\n",
       "      <td>0.002050</td>\n",
       "      <td>1.070506</td>\n",
       "      <td>0.000000</td>\n",
       "      <td>0.000000</td>\n",
       "      <td>0.000000</td>\n",
       "      <td>1.206116</td>\n",
       "      <td>4.777428</td>\n",
       "      <td>0.0</td>\n",
       "      <td>0.002617</td>\n",
       "      <td>0.860889</td>\n",
       "      <td>1.536917</td>\n",
       "      <td>1.564122</td>\n",
       "      <td>1.616377</td>\n",
       "      <td>1.433143</td>\n",
       "    </tr>\n",
       "    <tr>\n",
       "      <th>3</th>\n",
       "      <td>19426</td>\n",
       "      <td>0.002659</td>\n",
       "      <td>1.025786</td>\n",
       "      <td>1.650342</td>\n",
       "      <td>1.587314</td>\n",
       "      <td>1.273705</td>\n",
       "      <td>1.530428</td>\n",
       "      <td>2.150323</td>\n",
       "      <td>2.0</td>\n",
       "      <td>0.006679</td>\n",
       "      <td>0.355000</td>\n",
       "      <td>3.597812</td>\n",
       "      <td>4.009200</td>\n",
       "      <td>3.998581</td>\n",
       "      <td>4.327829</td>\n",
       "    </tr>\n",
       "    <tr>\n",
       "      <th>4</th>\n",
       "      <td>30412</td>\n",
       "      <td>0.001688</td>\n",
       "      <td>0.831577</td>\n",
       "      <td>1.074190</td>\n",
       "      <td>0.000000</td>\n",
       "      <td>1.269411</td>\n",
       "      <td>0.915956</td>\n",
       "      <td>7.883060</td>\n",
       "      <td>4.0</td>\n",
       "      <td>0.002101</td>\n",
       "      <td>-0.002605</td>\n",
       "      <td>1.264366</td>\n",
       "      <td>1.174384</td>\n",
       "      <td>1.195120</td>\n",
       "      <td>1.179151</td>\n",
       "    </tr>\n",
       "  </tbody>\n",
       "</table>\n",
       "</div>"
      ],
      "text/plain": [
       "   index       ITS       TOF   TPCROC0   TPCROC1   TPCROC2       TRD  \\\n",
       "0  17619  0.002895  0.833223  1.530867  1.565678  1.549574  1.205198   \n",
       "1   3622  0.001530  1.047347  0.943540  0.990049  1.067066  0.975891   \n",
       "2    756  0.002050  1.070506  0.000000  0.000000  0.000000  1.206116   \n",
       "3  19426  0.002659  1.025786  1.650342  1.587314  1.273705  1.530428   \n",
       "4  30412  0.001688  0.831577  1.074190  0.000000  1.269411  0.915956   \n",
       "\n",
       "          p  particle    ITS_ae    TOF_ae  TPCROC0_ae  TPCROC1_ae  TPCROC2_ae  \\\n",
       "0  0.542611       2.0  0.002693  1.112270    1.567619    1.578709    1.435131   \n",
       "1  0.527457       0.0  0.001880  0.741108    1.118425    1.072103    1.169542   \n",
       "2  4.777428       0.0  0.002617  0.860889    1.536917    1.564122    1.616377   \n",
       "3  2.150323       2.0  0.006679  0.355000    3.597812    4.009200    3.998581   \n",
       "4  7.883060       4.0  0.002101 -0.002605    1.264366    1.174384    1.195120   \n",
       "\n",
       "     TRD_ae  \n",
       "0  1.555176  \n",
       "1  1.083318  \n",
       "2  1.433143  \n",
       "3  4.327829  \n",
       "4  1.179151  "
      ]
     },
     "execution_count": 42,
     "metadata": {},
     "output_type": "execute_result"
    }
   ],
   "source": [
    "out_tr0 = scaler.inverse_transform(model.predict(scaler.transform(train_data_0)))\n",
    "AE_predict_tr0 = pd.DataFrame(out_tr0)\n",
    "AE_predict_tr0.columns = [\"ITS_ae\", \"TOF_ae\", \"TPCROC0_ae\", \"TPCROC1_ae\", \"TPCROC2_ae\", \"TRD_ae\"]\n",
    "train_0 = train_0.reset_index()\n",
    "df_train_0 = pd.concat([train_0,AE_predict_0], axis = 1)\n",
    "df_train_0.head()"
   ]
  },
  {
   "cell_type": "code",
   "execution_count": 43,
   "metadata": {},
   "outputs": [],
   "source": [
    "ITS_1it = np.where(df_train_0.ITS==0, df_train_0.ITS_ae, df_train_0.ITS)\n",
    "TOF_1it = np.where(df_train_0.TOF==0, df_train_0.TOF_ae, df_train_0.TOF)\n",
    "TPCROC0_1it = np.where(df_train_0.TPCROC0==0, df_train_0.TPCROC0_ae, df_train_0.TPCROC0)\n",
    "TPCROC1_1it = np.where(df_train_0.TPCROC1==0, df_train_0.TPCROC1_ae, df_train_0.TPCROC1)\n",
    "TPCROC2_1it = np.where(df_train_0.TPCROC2==0, df_train_0.TPCROC2_ae, df_train_0.TPCROC2)\n",
    "TRD_1it = np.where(df_train_0.TRD==0, df_train_0.TRD_ae, df_train_0.TRD)"
   ]
  },
  {
   "cell_type": "code",
   "execution_count": 44,
   "metadata": {},
   "outputs": [],
   "source": [
    "train_1it = pd.DataFrame(np.array([ITS_1it,TOF_1it,TPCROC0_1it,TPCROC1_1it,TPCROC2_1it,TRD_1it]).T)\n",
    "train_1it.columns=[\"ITS\", \"TOF\", \"TPCROC0\", \"TPCROC1\", \"TPCROC2\", \"TRD\"]"
   ]
  },
  {
   "cell_type": "code",
   "execution_count": 45,
   "metadata": {},
   "outputs": [
    {
     "data": {
      "text/html": [
       "<div>\n",
       "<style scoped>\n",
       "    .dataframe tbody tr th:only-of-type {\n",
       "        vertical-align: middle;\n",
       "    }\n",
       "\n",
       "    .dataframe tbody tr th {\n",
       "        vertical-align: top;\n",
       "    }\n",
       "\n",
       "    .dataframe thead th {\n",
       "        text-align: right;\n",
       "    }\n",
       "</style>\n",
       "<table border=\"1\" class=\"dataframe\">\n",
       "  <thead>\n",
       "    <tr style=\"text-align: right;\">\n",
       "      <th></th>\n",
       "      <th>ITS</th>\n",
       "      <th>TOF</th>\n",
       "      <th>TPCROC0</th>\n",
       "      <th>TPCROC1</th>\n",
       "      <th>TPCROC2</th>\n",
       "      <th>TRD</th>\n",
       "    </tr>\n",
       "  </thead>\n",
       "  <tbody>\n",
       "    <tr>\n",
       "      <th>0</th>\n",
       "      <td>0.002895</td>\n",
       "      <td>0.833223</td>\n",
       "      <td>1.530867</td>\n",
       "      <td>1.565678</td>\n",
       "      <td>1.549574</td>\n",
       "      <td>1.205198</td>\n",
       "    </tr>\n",
       "    <tr>\n",
       "      <th>1</th>\n",
       "      <td>0.001530</td>\n",
       "      <td>1.047347</td>\n",
       "      <td>0.943540</td>\n",
       "      <td>0.990049</td>\n",
       "      <td>1.067066</td>\n",
       "      <td>0.975891</td>\n",
       "    </tr>\n",
       "    <tr>\n",
       "      <th>2</th>\n",
       "      <td>0.002050</td>\n",
       "      <td>1.070506</td>\n",
       "      <td>1.536917</td>\n",
       "      <td>1.564122</td>\n",
       "      <td>1.616377</td>\n",
       "      <td>1.206116</td>\n",
       "    </tr>\n",
       "    <tr>\n",
       "      <th>3</th>\n",
       "      <td>0.002659</td>\n",
       "      <td>1.025786</td>\n",
       "      <td>1.650342</td>\n",
       "      <td>1.587314</td>\n",
       "      <td>1.273705</td>\n",
       "      <td>1.530428</td>\n",
       "    </tr>\n",
       "    <tr>\n",
       "      <th>4</th>\n",
       "      <td>0.001688</td>\n",
       "      <td>0.831577</td>\n",
       "      <td>1.074190</td>\n",
       "      <td>1.174384</td>\n",
       "      <td>1.269411</td>\n",
       "      <td>0.915956</td>\n",
       "    </tr>\n",
       "  </tbody>\n",
       "</table>\n",
       "</div>"
      ],
      "text/plain": [
       "        ITS       TOF   TPCROC0   TPCROC1   TPCROC2       TRD\n",
       "0  0.002895  0.833223  1.530867  1.565678  1.549574  1.205198\n",
       "1  0.001530  1.047347  0.943540  0.990049  1.067066  0.975891\n",
       "2  0.002050  1.070506  1.536917  1.564122  1.616377  1.206116\n",
       "3  0.002659  1.025786  1.650342  1.587314  1.273705  1.530428\n",
       "4  0.001688  0.831577  1.074190  1.174384  1.269411  0.915956"
      ]
     },
     "execution_count": 45,
     "metadata": {},
     "output_type": "execute_result"
    }
   ],
   "source": [
    "train_1it.head()"
   ]
  },
  {
   "cell_type": "code",
   "execution_count": 46,
   "metadata": {},
   "outputs": [],
   "source": [
    "out_tt0 = scaler.inverse_transform(model.predict(scaler.transform(test_data_0)))\n",
    "AE_predict_tt0 = pd.DataFrame(out_tt0)\n",
    "AE_predict_tt0.columns = [\"ITS_ae\", \"TOF_ae\", \"TPCROC0_ae\", \"TPCROC1_ae\", \"TPCROC2_ae\", \"TRD_ae\"]\n",
    "test_0 = test_0.reset_index()\n",
    "df_test_0 = pd.concat([test_0,AE_predict_0], axis = 1)\n",
    "df_test_0 = df_test_0.drop(\"index\",axis = 1)\n",
    "df_test_0 = df_test_0.drop(\"level_0\",axis = 1)\n",
    "df_test_0.head()\n",
    "ITS_1it_tt = np.where(df_test_0.ITS==0, df_test_0.ITS_ae, df_test_0.ITS)\n",
    "TOF_1it_tt = np.where(df_test_0.TOF==0, df_test_0.TOF_ae, df_test_0.TOF)\n",
    "TPCROC0_1it_tt = np.where(df_test_0.TPCROC0==0, df_test_0.TPCROC0_ae, df_test_0.TPCROC0)\n",
    "TPCROC1_1it_tt = np.where(df_test_0.TPCROC1==0, df_test_0.TPCROC1_ae, df_test_0.TPCROC1)\n",
    "TPCROC2_1it_tt = np.where(df_test_0.TPCROC2==0, df_test_0.TPCROC2_ae, df_test_0.TPCROC2)\n",
    "TRD_1it_tt = np.where(df_test_0.TRD==0, df_test_0.TRD_ae, df_test_0.TRD)"
   ]
  },
  {
   "cell_type": "code",
   "execution_count": 47,
   "metadata": {},
   "outputs": [],
   "source": [
    "test_1it = pd.DataFrame(np.array([ITS_1it_tt,TOF_1it_tt,TPCROC0_1it_tt,TPCROC1_1it_tt,TPCROC2_1it_tt,TRD_1it_tt]).T)\n",
    "test_1it.columns=[\"ITS\", \"TOF\", \"TPCROC0\", \"TPCROC1\", \"TPCROC2\", \"TRD\"]"
   ]
  },
  {
   "cell_type": "code",
   "execution_count": 48,
   "metadata": {},
   "outputs": [
    {
     "data": {
      "text/html": [
       "<div>\n",
       "<style scoped>\n",
       "    .dataframe tbody tr th:only-of-type {\n",
       "        vertical-align: middle;\n",
       "    }\n",
       "\n",
       "    .dataframe tbody tr th {\n",
       "        vertical-align: top;\n",
       "    }\n",
       "\n",
       "    .dataframe thead th {\n",
       "        text-align: right;\n",
       "    }\n",
       "</style>\n",
       "<table border=\"1\" class=\"dataframe\">\n",
       "  <thead>\n",
       "    <tr style=\"text-align: right;\">\n",
       "      <th></th>\n",
       "      <th>ITS</th>\n",
       "      <th>TOF</th>\n",
       "      <th>TPCROC0</th>\n",
       "      <th>TPCROC1</th>\n",
       "      <th>TPCROC2</th>\n",
       "      <th>TRD</th>\n",
       "      <th>p</th>\n",
       "      <th>particle</th>\n",
       "      <th>ITS_ae</th>\n",
       "      <th>TOF_ae</th>\n",
       "      <th>TPCROC0_ae</th>\n",
       "      <th>TPCROC1_ae</th>\n",
       "      <th>TPCROC2_ae</th>\n",
       "      <th>TRD_ae</th>\n",
       "    </tr>\n",
       "  </thead>\n",
       "  <tbody>\n",
       "    <tr>\n",
       "      <th>0</th>\n",
       "      <td>0.002298</td>\n",
       "      <td>1.163103</td>\n",
       "      <td>1.880939</td>\n",
       "      <td>1.740229</td>\n",
       "      <td>1.735375</td>\n",
       "      <td>1.686556</td>\n",
       "      <td>0.428570</td>\n",
       "      <td>2.0</td>\n",
       "      <td>0.002693</td>\n",
       "      <td>1.112270</td>\n",
       "      <td>1.567619</td>\n",
       "      <td>1.578709</td>\n",
       "      <td>1.435131</td>\n",
       "      <td>1.555176</td>\n",
       "    </tr>\n",
       "    <tr>\n",
       "      <th>1</th>\n",
       "      <td>0.001633</td>\n",
       "      <td>0.730604</td>\n",
       "      <td>1.063926</td>\n",
       "      <td>1.141520</td>\n",
       "      <td>1.049593</td>\n",
       "      <td>1.034511</td>\n",
       "      <td>0.842027</td>\n",
       "      <td>4.0</td>\n",
       "      <td>0.001880</td>\n",
       "      <td>0.741108</td>\n",
       "      <td>1.118425</td>\n",
       "      <td>1.072103</td>\n",
       "      <td>1.169542</td>\n",
       "      <td>1.083318</td>\n",
       "    </tr>\n",
       "    <tr>\n",
       "      <th>2</th>\n",
       "      <td>0.002246</td>\n",
       "      <td>0.832305</td>\n",
       "      <td>1.496303</td>\n",
       "      <td>1.425562</td>\n",
       "      <td>1.564974</td>\n",
       "      <td>1.640909</td>\n",
       "      <td>0.532324</td>\n",
       "      <td>2.0</td>\n",
       "      <td>0.002617</td>\n",
       "      <td>0.860889</td>\n",
       "      <td>1.536917</td>\n",
       "      <td>1.564122</td>\n",
       "      <td>1.616377</td>\n",
       "      <td>1.433143</td>\n",
       "    </tr>\n",
       "    <tr>\n",
       "      <th>3</th>\n",
       "      <td>0.008407</td>\n",
       "      <td>0.335917</td>\n",
       "      <td>0.000000</td>\n",
       "      <td>5.290347</td>\n",
       "      <td>5.227470</td>\n",
       "      <td>4.119982</td>\n",
       "      <td>0.356099</td>\n",
       "      <td>3.0</td>\n",
       "      <td>0.006679</td>\n",
       "      <td>0.355000</td>\n",
       "      <td>3.597812</td>\n",
       "      <td>4.009200</td>\n",
       "      <td>3.998581</td>\n",
       "      <td>4.327829</td>\n",
       "    </tr>\n",
       "    <tr>\n",
       "      <th>4</th>\n",
       "      <td>0.001676</td>\n",
       "      <td>0.000000</td>\n",
       "      <td>1.137237</td>\n",
       "      <td>1.243751</td>\n",
       "      <td>1.227835</td>\n",
       "      <td>0.946221</td>\n",
       "      <td>4.339535</td>\n",
       "      <td>3.0</td>\n",
       "      <td>0.002101</td>\n",
       "      <td>-0.002605</td>\n",
       "      <td>1.264366</td>\n",
       "      <td>1.174384</td>\n",
       "      <td>1.195120</td>\n",
       "      <td>1.179151</td>\n",
       "    </tr>\n",
       "  </tbody>\n",
       "</table>\n",
       "</div>"
      ],
      "text/plain": [
       "        ITS       TOF   TPCROC0   TPCROC1   TPCROC2       TRD         p  \\\n",
       "0  0.002298  1.163103  1.880939  1.740229  1.735375  1.686556  0.428570   \n",
       "1  0.001633  0.730604  1.063926  1.141520  1.049593  1.034511  0.842027   \n",
       "2  0.002246  0.832305  1.496303  1.425562  1.564974  1.640909  0.532324   \n",
       "3  0.008407  0.335917  0.000000  5.290347  5.227470  4.119982  0.356099   \n",
       "4  0.001676  0.000000  1.137237  1.243751  1.227835  0.946221  4.339535   \n",
       "\n",
       "   particle    ITS_ae    TOF_ae  TPCROC0_ae  TPCROC1_ae  TPCROC2_ae    TRD_ae  \n",
       "0       2.0  0.002693  1.112270    1.567619    1.578709    1.435131  1.555176  \n",
       "1       4.0  0.001880  0.741108    1.118425    1.072103    1.169542  1.083318  \n",
       "2       2.0  0.002617  0.860889    1.536917    1.564122    1.616377  1.433143  \n",
       "3       3.0  0.006679  0.355000    3.597812    4.009200    3.998581  4.327829  \n",
       "4       3.0  0.002101 -0.002605    1.264366    1.174384    1.195120  1.179151  "
      ]
     },
     "execution_count": 48,
     "metadata": {},
     "output_type": "execute_result"
    }
   ],
   "source": [
    "df_test_0.head()"
   ]
  },
  {
   "cell_type": "code",
   "execution_count": 49,
   "metadata": {},
   "outputs": [
    {
     "name": "stdout",
     "output_type": "stream",
     "text": [
      "Train on 20000 samples, validate on 20000 samples\n",
      "Epoch 1/5\n",
      "20000/20000 [==============================] - 4s 215us/step - loss: 0.0908 - mean_squared_error: 0.0908 - val_loss: 0.0615 - val_mean_squared_error: 0.0615\n",
      "Epoch 2/5\n",
      "20000/20000 [==============================] - 4s 205us/step - loss: 0.0846 - mean_squared_error: 0.0846 - val_loss: 0.0581 - val_mean_squared_error: 0.0581\n",
      "Epoch 3/5\n",
      "20000/20000 [==============================] - 4s 212us/step - loss: 0.0830 - mean_squared_error: 0.0830 - val_loss: 0.0581 - val_mean_squared_error: 0.0581\n",
      "Epoch 4/5\n",
      "20000/20000 [==============================] - 4s 208us/step - loss: 0.0833 - mean_squared_error: 0.0833 - val_loss: 0.0580 - val_mean_squared_error: 0.0580\n",
      "Epoch 5/5\n",
      "20000/20000 [==============================] - 4s 214us/step - loss: 0.0820 - mean_squared_error: 0.0820 - val_loss: 0.0581 - val_mean_squared_error: 0.0581\n"
     ]
    },
    {
     "data": {
      "text/plain": [
       "<tensorflow.python.keras.callbacks.History at 0x7f41044e33d0>"
      ]
     },
     "execution_count": 49,
     "metadata": {},
     "output_type": "execute_result"
    }
   ],
   "source": [
    "scaler_1it = StandardScaler()\n",
    "scaler_1it.fit(train_1it[[\"ITS\", \"TOF\", \"TPCROC0\", \"TPCROC1\", \"TPCROC2\", \"TRD\"]])\n",
    "model.fit(scaler_1it.transform(train_1it[[\"ITS\", \"TOF\", \"TPCROC0\", \"TPCROC1\", \"TPCROC2\", \"TRD\"]]), \n",
    "          scaler_1it.transform(train_1it[[\"ITS\", \"TOF\", \"TPCROC0\", \"TPCROC1\", \"TPCROC2\", \"TRD\"]]), epochs=5, batch_size=32, \n",
    "          validation_data=[scaler_1it.transform(test_1it[[\"ITS\", \"TOF\", \"TPCROC0\", \"TPCROC1\", \"TPCROC2\", \"TRD\"]]),\n",
    "                           scaler_1it.transform(test_1it[[\"ITS\", \"TOF\", \"TPCROC0\", \"TPCROC1\", \"TPCROC2\", \"TRD\"]])])"
   ]
  },
  {
   "cell_type": "code",
   "execution_count": 59,
   "metadata": {},
   "outputs": [],
   "source": [
    "out_1it = scaler_1it.inverse_transform(model.predict(scaler_1it.transform(test_1it[[\"ITS\", \"TOF\", \"TPCROC0\", \"TPCROC1\", \"TPCROC2\", \"TRD\"]])))\n",
    "AE_predict_1it = pd.DataFrame(out_1it)\n",
    "AE_predict_1it.columns = [\"ITS_ae\", \"TOF_ae\", \"TPCROC0_ae\", \"TPCROC1_ae\", \"TPCROC2_ae\", \"TRD_ae\"]\n",
    "#test_1it = test_1it.reset_index()\n",
    "df_test_1it = pd.concat([test_1it,AE_predict_1it], axis = 1)\n",
    "df_test_1it.head()\n",
    "df_test_1it['p'] = pd.Series(df_test_0[\"p\"], index=df.index)\n",
    "df_test_1it['particle'] = pd.Series(df_test_0[\"particle\"], index=df.index)"
   ]
  },
  {
   "cell_type": "code",
   "execution_count": 54,
   "metadata": {},
   "outputs": [],
   "source": [
    "df_test_1it = df_test_1it.drop(\"index\",axis=1)"
   ]
  },
  {
   "cell_type": "code",
   "execution_count": 58,
   "metadata": {},
   "outputs": [
    {
     "data": {
      "image/png": "[encoded data removed]",
      "text/plain": [
       "<Figure size 432x288 with 1 Axes>"
      ]
     },
     "metadata": {
      "needs_background": "light"
     },
     "output_type": "display_data"
    },
    {
     "data": {
      "image/png": "[encoded data removed]",
      "text/plain": [
       "<Figure size 432x288 with 1 Axes>"
      ]
     },
     "metadata": {
      "needs_background": "light"
     },
     "output_type": "display_data"
    },
    {
     "data": {
      "image/png": "[encoded data removed]",
      "text/plain": [
       "<Figure size 432x288 with 1 Axes>"
      ]
     },
     "metadata": {
      "needs_background": "light"
     },
     "output_type": "display_data"
    },
    {
     "data": {
      "image/png": "[encoded data removed]",
      "text/plain": [
       "<Figure size 432x288 with 1 Axes>"
      ]
     },
     "metadata": {
      "needs_background": "light"
     },
     "output_type": "display_data"
    }
   ],
   "source": [
    "plt.hist2d(df_all_zeros[\"p\"], df_all_zeros[\"TPCROC1\"], bins=(100, 100), cmap=plt.cm.jet, range = [[0.2, 2], [0.5, 3]])\n",
    "plt.show()\n",
    "plt.hist2d(df_test_1it[\"p\"], df_test_1it[\"TPCROC1_ae\"], bins=(100, 100), cmap=plt.cm.jet, range = [[0.2, 2], [0.5, 3]])\n",
    "plt.show()\n",
    "plt.hist2d(df_test_0[\"p\"], df_test_0[\"TPCROC1_ae\"], bins=(100, 100), cmap=plt.cm.jet, range = [[0.2, 2], [0.5, 3]])\n",
    "plt.show()\n",
    "plt.hist2d(df_test_1it.query(\"TPCROC1 > 0\")[\"p\"], df_test_1it.query(\"TPCROC1 > 0\")[\"TPCROC1_ae\"], bins=(100, 100), cmap=plt.cm.jet, range = [[0.2, 2], [0.5, 3]])\n",
    "plt.show()"
   ]
  },
  {
   "cell_type": "code",
   "execution_count": 65,
   "metadata": {},
   "outputs": [
    {
     "data": {
      "image/png": "[encoded data removed]",
      "text/plain": [
       "<Figure size 432x288 with 1 Axes>"
      ]
     },
     "metadata": {
      "needs_background": "light"
     },
     "output_type": "display_data"
    },
    {
     "data": {
      "image/png": "[encoded data removed]",
      "text/plain": [
       "<Figure size 432x288 with 1 Axes>"
      ]
     },
     "metadata": {
      "needs_background": "light"
     },
     "output_type": "display_data"
    }
   ],
   "source": [
    "particle_id = 4\n",
    "plt.hist2d(df_all.query(\"particle ==\" +str(particle_id))[\"p\"], df_all.query(\"particle == \" +str(particle_id))[\"TPCROC1\"], bins=(100, 100), cmap=plt.cm.jet, range = [[0.2, 2], [0.5, 3]])\n",
    "plt.show()\n",
    "plt.hist2d(df_test_1it.query(\"particle ==\" +str(particle_id))[\"p\"], df_test_1it.query(\"particle ==\" +str(particle_id))[\"TPCROC1_ae\"], bins=(100, 100), cmap=plt.cm.jet, range = [[0.2, 2], [0.5, 3]])\n",
    "plt.show()"
   ]
  },
  {
   "cell_type": "markdown",
   "metadata": {},
   "source": [
    "# plot latent space "
   ]
  },
  {
   "cell_type": "code",
   "execution_count": 71,
   "metadata": {},
   "outputs": [],
   "source": [
    "f = K.function([model.layers[0].input, K.learning_phase()], [model.layers[3].output])"
   ]
  },
  {
   "cell_type": "code",
   "execution_count": 72,
   "metadata": {},
   "outputs": [],
   "source": [
    "lat_space = f([pd.DataFrame(test_1it[[\"ITS\", \"TOF\", \"TPCROC0\", \"TPCROC1\", \"TPCROC2\", \"TRD\"]]),1])"
   ]
  },
  {
   "cell_type": "code",
   "execution_count": 77,
   "metadata": {},
   "outputs": [
    {
     "data": {
      "text/plain": [
       "(20000,)"
      ]
     },
     "execution_count": 77,
     "metadata": {},
     "output_type": "execute_result"
    }
   ],
   "source": [
    "np.array(lat_space)[-1].T[0].shape"
   ]
  },
  {
   "cell_type": "code",
   "execution_count": 91,
   "metadata": {},
   "outputs": [
    {
     "data": {
      "image/png": "[encoded data removed]",
      "text/plain": [
       "<Figure size 432x288 with 1 Axes>"
      ]
     },
     "metadata": {
      "needs_background": "light"
     },
     "output_type": "display_data"
    }
   ],
   "source": [
    "plt.hist2d(np.array(lat_space)[-1].T[0],np.array(lat_space)[-1].T[1], range=[[-0.1,0.75],[1,2.1]], bins=100)\n",
    "plt.show()"
   ]
  }
 ],
 "metadata": {
  "kernelspec": {
   "display_name": "Python 3",
   "language": "python",
   "name": "python3"
  },
  "language_info": {
   "codemirror_mode": {
    "name": "ipython",
    "version": 2
   },
   "file_extension": ".py",
   "mimetype": "text/x-python",
   "name": "python",
   "nbconvert_exporter": "python",
   "pygments_lexer": "ipython2",
   "version": "2.7.12"
  }
 },
 "nbformat": 4,
 "nbformat_minor": 2
}
