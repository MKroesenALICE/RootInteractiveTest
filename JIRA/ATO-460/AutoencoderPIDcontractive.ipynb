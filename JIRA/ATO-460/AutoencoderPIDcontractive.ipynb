{
 "cells": [
  {
   "cell_type": "code",
   "execution_count": 1,
   "metadata": {},
   "outputs": [
    {
     "name": "stdout",
     "output_type": "stream",
     "text": [
      "Welcome to JupyROOT 6.10/08\n"
     ]
    }
   ],
   "source": [
    "import ROOT\n",
    "import numpy as np\n",
    "import matplotlib.pyplot as plt\n",
    "import math\n",
    "import pandas as pd\n",
    "from sklearn.model_selection import train_test_split\n",
    "from sklearn.preprocessing import StandardScaler\n",
    "from tensorflow.keras.models import Sequential, Model\n",
    "from tensorflow.keras.layers import Dense, Input\n",
    "import tensorflow.keras.backend as K\n",
    "import tensorflow as tf\n",
    "from functools import partial"
   ]
  },
  {
   "cell_type": "code",
   "execution_count": 2,
   "metadata": {},
   "outputs": [],
   "source": [
    "n_particles = 10000/2\n",
    "p = np.random.uniform(0.3,10.,n_particles)\n",
    "mp = np.random.uniform(1/10.,1/0.3,n_particles)\n",
    "p_mp = 1./mp "
   ]
  },
  {
   "cell_type": "code",
   "execution_count": 3,
   "metadata": {},
   "outputs": [
    {
     "data": {
      "image/png": "[encoded data removed]",
      "text/plain": [
       "<Figure size 432x288 with 1 Axes>"
      ]
     },
     "metadata": {
      "needs_background": "light"
     },
     "output_type": "display_data"
    },
    {
     "data": {
      "image/png": "[encoded data removed]",
      "text/plain": [
       "<Figure size 432x288 with 1 Axes>"
      ]
     },
     "metadata": {
      "needs_background": "light"
     },
     "output_type": "display_data"
    }
   ],
   "source": [
    "plt.hist(p_mp,50,range=(0.,10.))\n",
    "plt.show()\n",
    "p_ges = np.concatenate([p,p_mp])\n",
    "plt.hist(p_ges,50,range=(0,10))\n",
    "plt.show()"
   ]
  },
  {
   "cell_type": "code",
   "execution_count": 4,
   "metadata": {},
   "outputs": [
    {
     "data": {
      "text/plain": [
       "[0.139, 0.105, 0.000511, 0.938, 0.494]"
      ]
     },
     "execution_count": 4,
     "metadata": {},
     "output_type": "execute_result"
    }
   ],
   "source": [
    "mass_pi = 0.139\n",
    "mass_mu = 0.105\n",
    "mass_e = 0.000511\n",
    "mass_p = 0.938\n",
    "mass_K = 0.494\n",
    "masses = [mass_pi, mass_mu, mass_e, mass_p, mass_K]\n",
    "masses"
   ]
  },
  {
   "cell_type": "code",
   "execution_count": 5,
   "metadata": {},
   "outputs": [],
   "source": [
    "signals = []\n",
    "for mass in masses:\n",
    "    ITS_tmp = []\n",
    "    TPCROC0_tmp = []\n",
    "    TPCROC1_tmp = []\n",
    "    TPCROC2_tmp = []\n",
    "    TRD_tmp = []\n",
    "    TOF_tmp = []\n",
    "    for p in p_ges:\n",
    "        bg = p/mass\n",
    "        beta = bg/math.sqrt(1.+ bg*bg);\n",
    "        BBS = ROOT.AliExternalTrackParam.BetheBlochSolid(bg)\n",
    "        BBA = ROOT.AliExternalTrackParam.BetheBlochAleph(bg)\n",
    "        ITS_tmp.append(np.random.normal(BBS,0.1*BBS) ) ## ITS dEdx = smeared gaus 10% \n",
    "        TPCROC0_tmp.append(np.random.normal(BBA,0.1*BBA) )## TPC dEdx = smeared gaus 10% for 1st layer\n",
    "        TPCROC1_tmp.append(np.random.normal(BBA,0.1*BBA) )  ## TPC dEdx = smeared gaus 10% for 2nd layer\n",
    "        TPCROC2_tmp.append(np.random.normal(BBA,0.1*BBA) )  ## TPC dEdx = smeared gaus 10% for 3d layer\n",
    "        TRD_tmp.append(np.random.normal(BBA,0.1*BBA) )  ## TRD dEdx = smeared gaus 10% \n",
    "        TOF_tmp.append(np.random.normal(beta,0.1*beta) )  ## TOF - smeared with .... gaussian\n",
    "    signals.append({'ITS': ITS_tmp, 'TPCROC0': TPCROC0_tmp, 'TPCROC1': TPCROC1_tmp, 'TPCROC1': TPCROC1_tmp, \n",
    "                    'TPCROC2': TPCROC2_tmp, 'TRD': TRD_tmp, 'TOF': TOF_tmp})"
   ]
  },
  {
   "cell_type": "code",
   "execution_count": 6,
   "metadata": {},
   "outputs": [
    {
     "data": {
      "text/plain": [
       "[]"
      ]
     },
     "execution_count": 6,
     "metadata": {},
     "output_type": "execute_result"
    },
    {
     "data": {
      "image/png": "[encoded data removed]",
      "text/plain": [
       "<Figure size 432x288 with 1 Axes>"
      ]
     },
     "metadata": {
      "needs_background": "light"
     },
     "output_type": "display_data"
    }
   ],
   "source": [
    "df_list=[]\n",
    "for i, val in enumerate(masses):\n",
    "    df = pd.DataFrame.from_dict(signals[i])\n",
    "    df['p'] = pd.Series(p_ges, index=df.index)\n",
    "    df['particle'] = pd.Series(i, index=df.index)\n",
    "    df_list.append(df)\n",
    "df_all = pd.concat([df_list[0],df_list[2],df_list[3],df_list[4]], ignore_index=True)\n",
    "plt.hist2d(df_all[\"p\"], df_all[\"TPCROC1\"], bins=(100, 100), cmap=plt.cm.jet, range = [[0.2, 2], [0.5, 3]])\n",
    "plt.plot()"
   ]
  },
  {
   "cell_type": "code",
   "execution_count": 7,
   "metadata": {},
   "outputs": [
    {
     "data": {
      "text/html": [
       "<div>\n",
       "<style scoped>\n",
       "    .dataframe tbody tr th:only-of-type {\n",
       "        vertical-align: middle;\n",
       "    }\n",
       "\n",
       "    .dataframe tbody tr th {\n",
       "        vertical-align: top;\n",
       "    }\n",
       "\n",
       "    .dataframe thead th {\n",
       "        text-align: right;\n",
       "    }\n",
       "</style>\n",
       "<table border=\"1\" class=\"dataframe\">\n",
       "  <thead>\n",
       "    <tr style=\"text-align: right;\">\n",
       "      <th></th>\n",
       "      <th>ITS</th>\n",
       "      <th>TOF</th>\n",
       "      <th>TPCROC0</th>\n",
       "      <th>TPCROC1</th>\n",
       "      <th>TPCROC2</th>\n",
       "      <th>TRD</th>\n",
       "      <th>p</th>\n",
       "      <th>particle</th>\n",
       "      <th>flips</th>\n",
       "    </tr>\n",
       "  </thead>\n",
       "  <tbody>\n",
       "    <tr>\n",
       "      <th>0</th>\n",
       "      <td>0.002345</td>\n",
       "      <td>0.992644</td>\n",
       "      <td>1.075651</td>\n",
       "      <td>1.132047</td>\n",
       "      <td>1.258851</td>\n",
       "      <td>1.134535</td>\n",
       "      <td>4.338509</td>\n",
       "      <td>0</td>\n",
       "      <td>47</td>\n",
       "    </tr>\n",
       "    <tr>\n",
       "      <th>1</th>\n",
       "      <td>0.002044</td>\n",
       "      <td>1.061244</td>\n",
       "      <td>1.442640</td>\n",
       "      <td>1.356841</td>\n",
       "      <td>1.634750</td>\n",
       "      <td>1.152541</td>\n",
       "      <td>9.842911</td>\n",
       "      <td>0</td>\n",
       "      <td>63</td>\n",
       "    </tr>\n",
       "    <tr>\n",
       "      <th>2</th>\n",
       "      <td>0.001662</td>\n",
       "      <td>0.964156</td>\n",
       "      <td>1.067225</td>\n",
       "      <td>1.594481</td>\n",
       "      <td>1.139802</td>\n",
       "      <td>1.292813</td>\n",
       "      <td>5.791195</td>\n",
       "      <td>0</td>\n",
       "      <td>63</td>\n",
       "    </tr>\n",
       "    <tr>\n",
       "      <th>3</th>\n",
       "      <td>0.001981</td>\n",
       "      <td>0.923988</td>\n",
       "      <td>1.103137</td>\n",
       "      <td>1.132441</td>\n",
       "      <td>1.187712</td>\n",
       "      <td>1.248733</td>\n",
       "      <td>1.408798</td>\n",
       "      <td>0</td>\n",
       "      <td>55</td>\n",
       "    </tr>\n",
       "    <tr>\n",
       "      <th>4</th>\n",
       "      <td>0.001908</td>\n",
       "      <td>0.911512</td>\n",
       "      <td>1.171345</td>\n",
       "      <td>1.123244</td>\n",
       "      <td>1.195306</td>\n",
       "      <td>1.345555</td>\n",
       "      <td>4.648356</td>\n",
       "      <td>0</td>\n",
       "      <td>63</td>\n",
       "    </tr>\n",
       "  </tbody>\n",
       "</table>\n",
       "</div>"
      ],
      "text/plain": [
       "        ITS       TOF   TPCROC0   TPCROC1   TPCROC2       TRD         p  \\\n",
       "0  0.002345  0.992644  1.075651  1.132047  1.258851  1.134535  4.338509   \n",
       "1  0.002044  1.061244  1.442640  1.356841  1.634750  1.152541  9.842911   \n",
       "2  0.001662  0.964156  1.067225  1.594481  1.139802  1.292813  5.791195   \n",
       "3  0.001981  0.923988  1.103137  1.132441  1.187712  1.248733  1.408798   \n",
       "4  0.001908  0.911512  1.171345  1.123244  1.195306  1.345555  4.648356   \n",
       "\n",
       "   particle  flips  \n",
       "0         0     47  \n",
       "1         0     63  \n",
       "2         0     63  \n",
       "3         0     55  \n",
       "4         0     63  "
      ]
     },
     "execution_count": 7,
     "metadata": {},
     "output_type": "execute_result"
    }
   ],
   "source": [
    "N=len(df_all)\n",
    "probabilty = 0.95\n",
    "\n",
    "flips_raw = (1*(np.random.random(size=6*N)<probabilty)).reshape(6,-1)\n",
    "\n",
    "flips=flips_raw[0]\n",
    "for i in range(1,6):\n",
    "    # (1<<i = 2**i)\n",
    "    flips=flips_raw[i]*(1<<i) + flips\n",
    "\n",
    "\n",
    "df_all.loc[:,'flips']=flips\n",
    "df_all.head(5)"
   ]
  },
  {
   "cell_type": "code",
   "execution_count": 8,
   "metadata": {},
   "outputs": [
    {
     "data": {
      "text/html": [
       "<div>\n",
       "<style scoped>\n",
       "    .dataframe tbody tr th:only-of-type {\n",
       "        vertical-align: middle;\n",
       "    }\n",
       "\n",
       "    .dataframe tbody tr th {\n",
       "        vertical-align: top;\n",
       "    }\n",
       "\n",
       "    .dataframe thead th {\n",
       "        text-align: right;\n",
       "    }\n",
       "</style>\n",
       "<table border=\"1\" class=\"dataframe\">\n",
       "  <thead>\n",
       "    <tr style=\"text-align: right;\">\n",
       "      <th></th>\n",
       "      <th>ITS</th>\n",
       "      <th>TOF</th>\n",
       "      <th>TPCROC0</th>\n",
       "      <th>TPCROC1</th>\n",
       "      <th>TPCROC2</th>\n",
       "      <th>TRD</th>\n",
       "      <th>p</th>\n",
       "      <th>particle</th>\n",
       "      <th>flips</th>\n",
       "      <th>ITS_mr</th>\n",
       "      <th>...</th>\n",
       "      <th>TPCROC0_0</th>\n",
       "      <th>TPCROC1_mr</th>\n",
       "      <th>TPCROC1_w</th>\n",
       "      <th>TPCROC1_0</th>\n",
       "      <th>TPCROC2_mr</th>\n",
       "      <th>TPCROC2_w</th>\n",
       "      <th>TPCROC2_0</th>\n",
       "      <th>TRD_mr</th>\n",
       "      <th>TRD_w</th>\n",
       "      <th>TRD_0</th>\n",
       "    </tr>\n",
       "  </thead>\n",
       "  <tbody>\n",
       "    <tr>\n",
       "      <th>0</th>\n",
       "      <td>0.002345</td>\n",
       "      <td>0.992644</td>\n",
       "      <td>1.075651</td>\n",
       "      <td>1.132047</td>\n",
       "      <td>1.258851</td>\n",
       "      <td>1.134535</td>\n",
       "      <td>4.338509</td>\n",
       "      <td>0</td>\n",
       "      <td>47</td>\n",
       "      <td>0.002345</td>\n",
       "      <td>...</td>\n",
       "      <td>1.075651</td>\n",
       "      <td>1.132047</td>\n",
       "      <td>1.0</td>\n",
       "      <td>1.132047</td>\n",
       "      <td>1.487883</td>\n",
       "      <td>0.0</td>\n",
       "      <td>0.000000</td>\n",
       "      <td>1.134535</td>\n",
       "      <td>1.0</td>\n",
       "      <td>1.134535</td>\n",
       "    </tr>\n",
       "    <tr>\n",
       "      <th>1</th>\n",
       "      <td>0.002044</td>\n",
       "      <td>1.061244</td>\n",
       "      <td>1.442640</td>\n",
       "      <td>1.356841</td>\n",
       "      <td>1.634750</td>\n",
       "      <td>1.152541</td>\n",
       "      <td>9.842911</td>\n",
       "      <td>0</td>\n",
       "      <td>63</td>\n",
       "      <td>0.002044</td>\n",
       "      <td>...</td>\n",
       "      <td>1.442640</td>\n",
       "      <td>1.356841</td>\n",
       "      <td>1.0</td>\n",
       "      <td>1.356841</td>\n",
       "      <td>1.634750</td>\n",
       "      <td>1.0</td>\n",
       "      <td>1.634750</td>\n",
       "      <td>1.152541</td>\n",
       "      <td>1.0</td>\n",
       "      <td>1.152541</td>\n",
       "    </tr>\n",
       "    <tr>\n",
       "      <th>2</th>\n",
       "      <td>0.001662</td>\n",
       "      <td>0.964156</td>\n",
       "      <td>1.067225</td>\n",
       "      <td>1.594481</td>\n",
       "      <td>1.139802</td>\n",
       "      <td>1.292813</td>\n",
       "      <td>5.791195</td>\n",
       "      <td>0</td>\n",
       "      <td>63</td>\n",
       "      <td>0.001662</td>\n",
       "      <td>...</td>\n",
       "      <td>1.067225</td>\n",
       "      <td>1.594481</td>\n",
       "      <td>1.0</td>\n",
       "      <td>1.594481</td>\n",
       "      <td>1.139802</td>\n",
       "      <td>1.0</td>\n",
       "      <td>1.139802</td>\n",
       "      <td>1.292813</td>\n",
       "      <td>1.0</td>\n",
       "      <td>1.292813</td>\n",
       "    </tr>\n",
       "    <tr>\n",
       "      <th>3</th>\n",
       "      <td>0.001981</td>\n",
       "      <td>0.923988</td>\n",
       "      <td>1.103137</td>\n",
       "      <td>1.132441</td>\n",
       "      <td>1.187712</td>\n",
       "      <td>1.248733</td>\n",
       "      <td>1.408798</td>\n",
       "      <td>0</td>\n",
       "      <td>55</td>\n",
       "      <td>0.001981</td>\n",
       "      <td>...</td>\n",
       "      <td>1.103137</td>\n",
       "      <td>1.485870</td>\n",
       "      <td>0.0</td>\n",
       "      <td>0.000000</td>\n",
       "      <td>1.187712</td>\n",
       "      <td>1.0</td>\n",
       "      <td>1.187712</td>\n",
       "      <td>1.248733</td>\n",
       "      <td>1.0</td>\n",
       "      <td>1.248733</td>\n",
       "    </tr>\n",
       "    <tr>\n",
       "      <th>4</th>\n",
       "      <td>0.001908</td>\n",
       "      <td>0.911512</td>\n",
       "      <td>1.171345</td>\n",
       "      <td>1.123244</td>\n",
       "      <td>1.195306</td>\n",
       "      <td>1.345555</td>\n",
       "      <td>4.648356</td>\n",
       "      <td>0</td>\n",
       "      <td>63</td>\n",
       "      <td>0.001908</td>\n",
       "      <td>...</td>\n",
       "      <td>1.171345</td>\n",
       "      <td>1.123244</td>\n",
       "      <td>1.0</td>\n",
       "      <td>1.123244</td>\n",
       "      <td>1.195306</td>\n",
       "      <td>1.0</td>\n",
       "      <td>1.195306</td>\n",
       "      <td>1.345555</td>\n",
       "      <td>1.0</td>\n",
       "      <td>1.345555</td>\n",
       "    </tr>\n",
       "    <tr>\n",
       "      <th>5</th>\n",
       "      <td>0.002357</td>\n",
       "      <td>1.116974</td>\n",
       "      <td>1.417574</td>\n",
       "      <td>1.129733</td>\n",
       "      <td>1.231569</td>\n",
       "      <td>1.672636</td>\n",
       "      <td>9.834721</td>\n",
       "      <td>0</td>\n",
       "      <td>63</td>\n",
       "      <td>0.002357</td>\n",
       "      <td>...</td>\n",
       "      <td>1.417574</td>\n",
       "      <td>1.129733</td>\n",
       "      <td>1.0</td>\n",
       "      <td>1.129733</td>\n",
       "      <td>1.231569</td>\n",
       "      <td>1.0</td>\n",
       "      <td>1.231569</td>\n",
       "      <td>1.672636</td>\n",
       "      <td>1.0</td>\n",
       "      <td>1.672636</td>\n",
       "    </tr>\n",
       "    <tr>\n",
       "      <th>6</th>\n",
       "      <td>0.002000</td>\n",
       "      <td>1.075881</td>\n",
       "      <td>1.055386</td>\n",
       "      <td>1.016474</td>\n",
       "      <td>1.045164</td>\n",
       "      <td>0.894279</td>\n",
       "      <td>1.656978</td>\n",
       "      <td>0</td>\n",
       "      <td>63</td>\n",
       "      <td>0.002000</td>\n",
       "      <td>...</td>\n",
       "      <td>1.055386</td>\n",
       "      <td>1.016474</td>\n",
       "      <td>1.0</td>\n",
       "      <td>1.016474</td>\n",
       "      <td>1.045164</td>\n",
       "      <td>1.0</td>\n",
       "      <td>1.045164</td>\n",
       "      <td>0.894279</td>\n",
       "      <td>1.0</td>\n",
       "      <td>0.894279</td>\n",
       "    </tr>\n",
       "    <tr>\n",
       "      <th>7</th>\n",
       "      <td>0.001980</td>\n",
       "      <td>1.022756</td>\n",
       "      <td>1.272769</td>\n",
       "      <td>1.308062</td>\n",
       "      <td>1.414784</td>\n",
       "      <td>1.097513</td>\n",
       "      <td>8.872737</td>\n",
       "      <td>0</td>\n",
       "      <td>63</td>\n",
       "      <td>0.001980</td>\n",
       "      <td>...</td>\n",
       "      <td>1.272769</td>\n",
       "      <td>1.308062</td>\n",
       "      <td>1.0</td>\n",
       "      <td>1.308062</td>\n",
       "      <td>1.414784</td>\n",
       "      <td>1.0</td>\n",
       "      <td>1.414784</td>\n",
       "      <td>1.097513</td>\n",
       "      <td>1.0</td>\n",
       "      <td>1.097513</td>\n",
       "    </tr>\n",
       "    <tr>\n",
       "      <th>8</th>\n",
       "      <td>0.001835</td>\n",
       "      <td>1.086536</td>\n",
       "      <td>1.120982</td>\n",
       "      <td>1.065699</td>\n",
       "      <td>1.054940</td>\n",
       "      <td>1.151702</td>\n",
       "      <td>2.846979</td>\n",
       "      <td>0</td>\n",
       "      <td>55</td>\n",
       "      <td>0.001835</td>\n",
       "      <td>...</td>\n",
       "      <td>1.120982</td>\n",
       "      <td>1.485870</td>\n",
       "      <td>0.0</td>\n",
       "      <td>0.000000</td>\n",
       "      <td>1.054940</td>\n",
       "      <td>1.0</td>\n",
       "      <td>1.054940</td>\n",
       "      <td>1.151702</td>\n",
       "      <td>1.0</td>\n",
       "      <td>1.151702</td>\n",
       "    </tr>\n",
       "    <tr>\n",
       "      <th>9</th>\n",
       "      <td>0.002543</td>\n",
       "      <td>0.917652</td>\n",
       "      <td>1.565581</td>\n",
       "      <td>1.463130</td>\n",
       "      <td>1.392928</td>\n",
       "      <td>1.384138</td>\n",
       "      <td>7.920522</td>\n",
       "      <td>0</td>\n",
       "      <td>59</td>\n",
       "      <td>0.002543</td>\n",
       "      <td>...</td>\n",
       "      <td>0.000000</td>\n",
       "      <td>1.463130</td>\n",
       "      <td>1.0</td>\n",
       "      <td>1.463130</td>\n",
       "      <td>1.392928</td>\n",
       "      <td>1.0</td>\n",
       "      <td>1.392928</td>\n",
       "      <td>1.384138</td>\n",
       "      <td>1.0</td>\n",
       "      <td>1.384138</td>\n",
       "    </tr>\n",
       "  </tbody>\n",
       "</table>\n",
       "<p>10 rows × 27 columns</p>\n",
       "</div>"
      ],
      "text/plain": [
       "        ITS       TOF   TPCROC0   TPCROC1   TPCROC2       TRD         p  \\\n",
       "0  0.002345  0.992644  1.075651  1.132047  1.258851  1.134535  4.338509   \n",
       "1  0.002044  1.061244  1.442640  1.356841  1.634750  1.152541  9.842911   \n",
       "2  0.001662  0.964156  1.067225  1.594481  1.139802  1.292813  5.791195   \n",
       "3  0.001981  0.923988  1.103137  1.132441  1.187712  1.248733  1.408798   \n",
       "4  0.001908  0.911512  1.171345  1.123244  1.195306  1.345555  4.648356   \n",
       "5  0.002357  1.116974  1.417574  1.129733  1.231569  1.672636  9.834721   \n",
       "6  0.002000  1.075881  1.055386  1.016474  1.045164  0.894279  1.656978   \n",
       "7  0.001980  1.022756  1.272769  1.308062  1.414784  1.097513  8.872737   \n",
       "8  0.001835  1.086536  1.120982  1.065699  1.054940  1.151702  2.846979   \n",
       "9  0.002543  0.917652  1.565581  1.463130  1.392928  1.384138  7.920522   \n",
       "\n",
       "   particle  flips    ITS_mr    ...     TPCROC0_0  TPCROC1_mr  TPCROC1_w  \\\n",
       "0         0     47  0.002345    ...      1.075651    1.132047        1.0   \n",
       "1         0     63  0.002044    ...      1.442640    1.356841        1.0   \n",
       "2         0     63  0.001662    ...      1.067225    1.594481        1.0   \n",
       "3         0     55  0.001981    ...      1.103137    1.485870        0.0   \n",
       "4         0     63  0.001908    ...      1.171345    1.123244        1.0   \n",
       "5         0     63  0.002357    ...      1.417574    1.129733        1.0   \n",
       "6         0     63  0.002000    ...      1.055386    1.016474        1.0   \n",
       "7         0     63  0.001980    ...      1.272769    1.308062        1.0   \n",
       "8         0     55  0.001835    ...      1.120982    1.485870        0.0   \n",
       "9         0     59  0.002543    ...      0.000000    1.463130        1.0   \n",
       "\n",
       "   TPCROC1_0  TPCROC2_mr  TPCROC2_w  TPCROC2_0    TRD_mr  TRD_w     TRD_0  \n",
       "0   1.132047    1.487883        0.0   0.000000  1.134535    1.0  1.134535  \n",
       "1   1.356841    1.634750        1.0   1.634750  1.152541    1.0  1.152541  \n",
       "2   1.594481    1.139802        1.0   1.139802  1.292813    1.0  1.292813  \n",
       "3   0.000000    1.187712        1.0   1.187712  1.248733    1.0  1.248733  \n",
       "4   1.123244    1.195306        1.0   1.195306  1.345555    1.0  1.345555  \n",
       "5   1.129733    1.231569        1.0   1.231569  1.672636    1.0  1.672636  \n",
       "6   1.016474    1.045164        1.0   1.045164  0.894279    1.0  0.894279  \n",
       "7   1.308062    1.414784        1.0   1.414784  1.097513    1.0  1.097513  \n",
       "8   0.000000    1.054940        1.0   1.054940  1.151702    1.0  1.151702  \n",
       "9   1.463130    1.392928        1.0   1.392928  1.384138    1.0  1.384138  \n",
       "\n",
       "[10 rows x 27 columns]"
      ]
     },
     "execution_count": 8,
     "metadata": {},
     "output_type": "execute_result"
    }
   ],
   "source": [
    "# prepare \"flips-Data\" and weights\n",
    "for i ,name in enumerate(['ITS','TOF','TPCROC0','TPCROC1','TPCROC2','TRD']):\n",
    "    # calculate \"flip= 0/1\"\n",
    "    f=(np.array(df_all['flips'])>>i)&1\n",
    "    # if f=0 substitute value by mean\n",
    "    m=df_all[name].mean()\n",
    "    df_all.loc[:,name+'_mr']= df_all[name].multiply(f,axis='index')+m*(1-f) #mean replaced\n",
    "    df_all.loc[:,name+'_w']=1.0*f #weight\n",
    "    df_all.loc[:,name+'_0']= df_all[name].multiply(f,axis='index') #zeros\n",
    "    \n",
    "# generate data for stage 2\n",
    "df_stage_2=df_all.copy()\n",
    "df_stage_3=df_all.copy()\n",
    "df_all[df_all['particle']==0].head(10)"
   ]
  },
  {
   "cell_type": "code",
   "execution_count": 9,
   "metadata": {},
   "outputs": [],
   "source": [
    "train, test =train_test_split(df_all, test_size=0.5)"
   ]
  },
  {
   "cell_type": "markdown",
   "metadata": {},
   "source": [
    "# Create autoencoders"
   ]
  },
  {
   "cell_type": "code",
   "execution_count": 13,
   "metadata": {},
   "outputs": [],
   "source": [
    "def custom_loss(y_true, y_pred,weights):\n",
    "    return K.mean(K.square((y_true - y_pred)*weights))\n",
    "lam = 1e-4\n",
    "\n",
    "def contractive_loss(y_pred, y_true):\n",
    "    mse = K.mean(K.square(y_true - y_pred), axis=1)\n",
    "\n",
    "    W = K.variable(value=modelpt.get_layer('encoded').get_weights()[0])  # N x N_hidden\n",
    "    W = K.transpose(W)  # N_hidden x N\n",
    "    h = modelpt.get_layer('encoded').output\n",
    "    dh = h * (1 - h)  # N_batch x N_hidden\n",
    "\n",
    "    # N_batch x N_hidden * N_hidden x 1 = N_batch x 1\n",
    "    contractive = lam * K.sum(dh**2 * K.sum(W**2, axis=1), axis=1)\n",
    "\n",
    "    return mse + contractive\n",
    "\n",
    "inputs = Input(shape=(6,))\n",
    "inputw = Input(shape=(6,))\n",
    "enc1   = Dense(units=64, activation='selu')(inputs)\n",
    "enc2   = Dense(units=64, activation='selu')(enc1)\n",
    "enc3   = Dense(units=64, activation='selu')(enc2)\n",
    "enc4   = Dense(units=64, activation='selu')(enc3)\n",
    "layer0 = Dense(units=2 , activation='selu', name='encoded')(enc4)\n",
    "dec1   = Dense(units=64, activation='selu')(layer0)\n",
    "dec2   = Dense(units=64, activation='selu')(dec1)\n",
    "dec3   = Dense(units=64, activation='selu')(dec2)\n",
    "dec4   = Dense(units=64, activation='selu')(dec3)\n",
    "outputs= Dense(units=6, activation='linear')(dec4)\n",
    "\n",
    "c_loss = partial(custom_loss, weights=inputw)\n",
    "        \n",
    "modelpt = Model(inputs=inputs,outputs=outputs)\n",
    "models2 = Model(inputs=inputs,outputs=outputs)\n",
    "modell = Model(inputs=inputs,outputs=outputs)\n",
    "model0 = Model(inputs=inputs,outputs=outputs)\n",
    "model1 = Model(inputs=[inputs,inputw],outputs=outputs)\n",
    "modelpt.compile(loss=contractive_loss,\n",
    "              optimizer='adam',\n",
    "              metrics=['mse'])\n",
    "models2.compile(loss='mse',\n",
    "              optimizer='adam',\n",
    "              metrics=['mse'])\n",
    "modell.compile(loss='mse',\n",
    "              optimizer='adam',\n",
    "              metrics=['mse'])\n",
    "model0.compile(loss='mse',\n",
    "              optimizer='adam',\n",
    "              metrics=['mse'])\n",
    "model1.compile(loss=c_loss,\n",
    "              optimizer='adam',\n",
    "              metrics=['mse'])"
   ]
  },
  {
   "cell_type": "code",
   "execution_count": 14,
   "metadata": {},
   "outputs": [
    {
     "name": "stdout",
     "output_type": "stream",
     "text": [
      "_________________________________________________________________\n",
      "Layer (type)                 Output Shape              Param #   \n",
      "=================================================================\n",
      "input_7 (InputLayer)         (None, 6)                 0         \n",
      "_________________________________________________________________\n",
      "dense_29 (Dense)             (None, 64)                448       \n",
      "_________________________________________________________________\n",
      "dense_30 (Dense)             (None, 64)                4160      \n",
      "_________________________________________________________________\n",
      "dense_31 (Dense)             (None, 64)                4160      \n",
      "_________________________________________________________________\n",
      "dense_32 (Dense)             (None, 64)                4160      \n",
      "_________________________________________________________________\n",
      "encoded (Dense)              (None, 2)                 130       \n",
      "_________________________________________________________________\n",
      "dense_33 (Dense)             (None, 64)                192       \n",
      "_________________________________________________________________\n",
      "dense_34 (Dense)             (None, 64)                4160      \n",
      "_________________________________________________________________\n",
      "dense_35 (Dense)             (None, 64)                4160      \n",
      "_________________________________________________________________\n",
      "dense_36 (Dense)             (None, 64)                4160      \n",
      "_________________________________________________________________\n",
      "dense_37 (Dense)             (None, 6)                 390       \n",
      "=================================================================\n",
      "Total params: 26,120\n",
      "Trainable params: 26,120\n",
      "Non-trainable params: 0\n",
      "_________________________________________________________________\n"
     ]
    }
   ],
   "source": [
    "model0.summary()"
   ]
  },
  {
   "cell_type": "markdown",
   "metadata": {},
   "source": [
    "# perfect tracks"
   ]
  },
  {
   "cell_type": "code",
   "execution_count": 15,
   "metadata": {},
   "outputs": [
    {
     "data": {
      "text/plain": [
       "StandardScaler(copy=True, with_mean=True, with_std=True)"
      ]
     },
     "execution_count": 15,
     "metadata": {},
     "output_type": "execute_result"
    }
   ],
   "source": [
    "train_pt = train[[\"ITS\", \"TOF\", \"TPCROC0\", \"TPCROC1\", \"TPCROC2\", \"TRD\"]]\n",
    "test_pt = test[[\"ITS\", \"TOF\", \"TPCROC0\", \"TPCROC1\", \"TPCROC2\", \"TRD\"]]\n",
    "scaler_pt = StandardScaler()\n",
    "scaler_pt.fit( train[[\"ITS\", \"TOF\", \"TPCROC0\", \"TPCROC1\", \"TPCROC2\", \"TRD\"]])"
   ]
  },
  {
   "cell_type": "code",
   "execution_count": 16,
   "metadata": {},
   "outputs": [
    {
     "name": "stdout",
     "output_type": "stream",
     "text": [
      "Train on 20000 samples, validate on 20000 samples\n",
      "Epoch 1/5\n",
      "20000/20000 [==============================] - 7s 355us/step - loss: 0.0682 - mean_squared_error: 0.0680 - val_loss: 0.0376 - val_mean_squared_error: 0.0375\n",
      "Epoch 2/5\n",
      "20000/20000 [==============================] - 5s 275us/step - loss: 0.0392 - mean_squared_error: 0.0390 - val_loss: 0.0382 - val_mean_squared_error: 0.0380\n",
      "Epoch 3/5\n",
      "20000/20000 [==============================] - 6s 277us/step - loss: 0.0353 - mean_squared_error: 0.0351 - val_loss: 0.0372 - val_mean_squared_error: 0.0370\n",
      "Epoch 4/5\n",
      "20000/20000 [==============================] - 6s 280us/step - loss: 0.0364 - mean_squared_error: 0.0363 - val_loss: 0.0345 - val_mean_squared_error: 0.0344\n",
      "Epoch 5/5\n",
      "20000/20000 [==============================] - 5s 275us/step - loss: 0.0343 - mean_squared_error: 0.0342 - val_loss: 0.0401 - val_mean_squared_error: 0.0401\n"
     ]
    },
    {
     "data": {
      "text/plain": [
       "<tensorflow.python.keras.callbacks.History at 0x7fc9a00d4fd0>"
      ]
     },
     "execution_count": 16,
     "metadata": {},
     "output_type": "execute_result"
    }
   ],
   "source": [
    "modelpt.fit(scaler_pt.transform(train_pt), scaler_pt.transform(train_pt), epochs=5, batch_size=32, \n",
    "          validation_data=[scaler_pt.transform(test_pt),scaler_pt.transform(test_pt)])"
   ]
  },
  {
   "cell_type": "code",
   "execution_count": 17,
   "metadata": {},
   "outputs": [
    {
     "data": {
      "text/html": [
       "<div>\n",
       "<style scoped>\n",
       "    .dataframe tbody tr th:only-of-type {\n",
       "        vertical-align: middle;\n",
       "    }\n",
       "\n",
       "    .dataframe tbody tr th {\n",
       "        vertical-align: top;\n",
       "    }\n",
       "\n",
       "    .dataframe thead th {\n",
       "        text-align: right;\n",
       "    }\n",
       "</style>\n",
       "<table border=\"1\" class=\"dataframe\">\n",
       "  <thead>\n",
       "    <tr style=\"text-align: right;\">\n",
       "      <th></th>\n",
       "      <th>index</th>\n",
       "      <th>ITS</th>\n",
       "      <th>TOF</th>\n",
       "      <th>TPCROC0</th>\n",
       "      <th>TPCROC1</th>\n",
       "      <th>TPCROC2</th>\n",
       "      <th>TRD</th>\n",
       "      <th>p</th>\n",
       "      <th>particle</th>\n",
       "      <th>flips</th>\n",
       "      <th>...</th>\n",
       "      <th>TPCROC2_0</th>\n",
       "      <th>TRD_mr</th>\n",
       "      <th>TRD_w</th>\n",
       "      <th>TRD_0</th>\n",
       "      <th>ITS_ae</th>\n",
       "      <th>TOF_ae</th>\n",
       "      <th>TPCROC0_ae</th>\n",
       "      <th>TPCROC1_ae</th>\n",
       "      <th>TPCROC2_ae</th>\n",
       "      <th>TRD_ae</th>\n",
       "    </tr>\n",
       "  </thead>\n",
       "  <tbody>\n",
       "    <tr>\n",
       "      <th>0</th>\n",
       "      <td>26275</td>\n",
       "      <td>0.005455</td>\n",
       "      <td>0.450244</td>\n",
       "      <td>2.566274</td>\n",
       "      <td>2.579727</td>\n",
       "      <td>3.291105</td>\n",
       "      <td>3.678182</td>\n",
       "      <td>0.449221</td>\n",
       "      <td>3</td>\n",
       "      <td>47</td>\n",
       "      <td>...</td>\n",
       "      <td>0.000000</td>\n",
       "      <td>3.678182</td>\n",
       "      <td>1.0</td>\n",
       "      <td>3.678182</td>\n",
       "      <td>0.005044</td>\n",
       "      <td>0.471757</td>\n",
       "      <td>2.917360</td>\n",
       "      <td>2.841505</td>\n",
       "      <td>2.850626</td>\n",
       "      <td>2.786802</td>\n",
       "    </tr>\n",
       "    <tr>\n",
       "      <th>1</th>\n",
       "      <td>18728</td>\n",
       "      <td>0.002551</td>\n",
       "      <td>0.918248</td>\n",
       "      <td>1.489984</td>\n",
       "      <td>1.556601</td>\n",
       "      <td>1.521115</td>\n",
       "      <td>1.489452</td>\n",
       "      <td>0.327849</td>\n",
       "      <td>2</td>\n",
       "      <td>63</td>\n",
       "      <td>...</td>\n",
       "      <td>1.521115</td>\n",
       "      <td>1.489452</td>\n",
       "      <td>1.0</td>\n",
       "      <td>1.489452</td>\n",
       "      <td>0.002570</td>\n",
       "      <td>0.940787</td>\n",
       "      <td>1.470252</td>\n",
       "      <td>1.513014</td>\n",
       "      <td>1.497566</td>\n",
       "      <td>1.497624</td>\n",
       "    </tr>\n",
       "    <tr>\n",
       "      <th>2</th>\n",
       "      <td>20262</td>\n",
       "      <td>0.001855</td>\n",
       "      <td>1.036015</td>\n",
       "      <td>0.986494</td>\n",
       "      <td>1.231528</td>\n",
       "      <td>1.117397</td>\n",
       "      <td>1.190801</td>\n",
       "      <td>7.751631</td>\n",
       "      <td>3</td>\n",
       "      <td>62</td>\n",
       "      <td>...</td>\n",
       "      <td>1.117397</td>\n",
       "      <td>1.190801</td>\n",
       "      <td>1.0</td>\n",
       "      <td>1.190801</td>\n",
       "      <td>0.001797</td>\n",
       "      <td>1.069504</td>\n",
       "      <td>1.034825</td>\n",
       "      <td>1.093437</td>\n",
       "      <td>1.092278</td>\n",
       "      <td>1.103765</td>\n",
       "    </tr>\n",
       "  </tbody>\n",
       "</table>\n",
       "<p>3 rows × 34 columns</p>\n",
       "</div>"
      ],
      "text/plain": [
       "   index       ITS       TOF   TPCROC0   TPCROC1   TPCROC2       TRD  \\\n",
       "0  26275  0.005455  0.450244  2.566274  2.579727  3.291105  3.678182   \n",
       "1  18728  0.002551  0.918248  1.489984  1.556601  1.521115  1.489452   \n",
       "2  20262  0.001855  1.036015  0.986494  1.231528  1.117397  1.190801   \n",
       "\n",
       "          p  particle  flips    ...     TPCROC2_0    TRD_mr  TRD_w     TRD_0  \\\n",
       "0  0.449221         3     47    ...      0.000000  3.678182    1.0  3.678182   \n",
       "1  0.327849         2     63    ...      1.521115  1.489452    1.0  1.489452   \n",
       "2  7.751631         3     62    ...      1.117397  1.190801    1.0  1.190801   \n",
       "\n",
       "     ITS_ae    TOF_ae  TPCROC0_ae  TPCROC1_ae  TPCROC2_ae    TRD_ae  \n",
       "0  0.005044  0.471757    2.917360    2.841505    2.850626  2.786802  \n",
       "1  0.002570  0.940787    1.470252    1.513014    1.497566  1.497624  \n",
       "2  0.001797  1.069504    1.034825    1.093437    1.092278  1.103765  \n",
       "\n",
       "[3 rows x 34 columns]"
      ]
     },
     "execution_count": 17,
     "metadata": {},
     "output_type": "execute_result"
    }
   ],
   "source": [
    "out = scaler_pt.inverse_transform(modelpt.predict(scaler_pt.transform(test_pt)))\n",
    "AE_predict = pd.DataFrame(out)\n",
    "AE_predict.columns = [\"ITS_ae\", \"TOF_ae\", \"TPCROC0_ae\", \"TPCROC1_ae\", \"TPCROC2_ae\", \"TRD_ae\"]\n",
    "test = test.reset_index()\n",
    "df_test = pd.concat([test,AE_predict], axis = 1)\n",
    "df_test.head(3)"
   ]
  },
  {
   "cell_type": "code",
   "execution_count": 18,
   "metadata": {},
   "outputs": [
    {
     "data": {
      "image/png": "[encoded data removed]",
      "text/plain": [
       "<Figure size 432x288 with 1 Axes>"
      ]
     },
     "metadata": {
      "needs_background": "light"
     },
     "output_type": "display_data"
    },
    {
     "data": {
      "image/png": "[encoded data removed]",
      "text/plain": [
       "<Figure size 432x288 with 1 Axes>"
      ]
     },
     "metadata": {
      "needs_background": "light"
     },
     "output_type": "display_data"
    }
   ],
   "source": [
    "plt.hist2d(df_all[\"p\"], df_all[\"TPCROC1\"], bins=(100, 100), cmap=plt.cm.jet, range = [[0.2, 2], [0.5, 3]])\n",
    "plt.show()\n",
    "plt.hist2d(df_test[\"p\"], df_test[\"TPCROC2_ae\"], bins=(100, 100), cmap=plt.cm.jet, range = [[0.2, 2], [0.5, 3]])\n",
    "plt.show()"
   ]
  },
  {
   "cell_type": "markdown",
   "metadata": {},
   "source": [
    "# Train with zeros"
   ]
  },
  {
   "cell_type": "code",
   "execution_count": null,
   "metadata": {},
   "outputs": [],
   "source": [
    "train_0 = train[[\"ITS_0\", \"TOF_0\", \"TPCROC0_0\", \"TPCROC1_0\", \"TPCROC2_0\", \"TRD_0\"]]\n",
    "test_0 = test[[\"ITS_0\", \"TOF_0\", \"TPCROC0_0\", \"TPCROC1_0\", \"TPCROC2_0\", \"TRD_0\"]]\n",
    "scaler_0 = StandardScaler()\n",
    "scaler_0.fit( train[[\"ITS_0\", \"TOF_0\", \"TPCROC0_0\", \"TPCROC1_0\", \"TPCROC2_0\", \"TRD_0\"]])\n",
    "#scaler_0.fit( train[[\"ITS\", \"TOF\", \"TPCROC0\", \"TPCROC1\", \"TPCROC2\", \"TRD\"]]) "
   ]
  },
  {
   "cell_type": "code",
   "execution_count": null,
   "metadata": {},
   "outputs": [],
   "source": [
    "train[[\"ITS_0\", \"TOF_0\", \"TPCROC0_0\", \"TPCROC1_0\", \"TPCROC2_0\", \"TRD_0\"]].head()"
   ]
  },
  {
   "cell_type": "code",
   "execution_count": null,
   "metadata": {},
   "outputs": [],
   "source": [
    "train[[\"ITS\", \"TOF\", \"TPCROC0\", \"TPCROC1\", \"TPCROC2\", \"TRD\"]].head()\n"
   ]
  },
  {
   "cell_type": "code",
   "execution_count": null,
   "metadata": {},
   "outputs": [],
   "source": [
    "model0.fit(scaler_0.transform(train_0), scaler_0.transform(train_0), epochs=5, batch_size=32, \n",
    "          validation_data=[scaler_0.transform(test_0),scaler_0.transform(test_0)])"
   ]
  },
  {
   "cell_type": "code",
   "execution_count": null,
   "metadata": {},
   "outputs": [],
   "source": [
    "out = scaler_0.inverse_transform(model0.predict(scaler_0.transform(test_0)))\n",
    "AE_predict = pd.DataFrame(out)\n",
    "AE_predict.columns = [\"ITS_ae\", \"TOF_ae\", \"TPCROC0_ae\", \"TPCROC1_ae\", \"TPCROC2_ae\", \"TRD_ae\"]\n",
    "test = test.reset_index()\n",
    "df_test = pd.concat([test,AE_predict], axis = 1)\n",
    "df_test.head(3)"
   ]
  },
  {
   "cell_type": "code",
   "execution_count": null,
   "metadata": {},
   "outputs": [],
   "source": [
    "plt.hist2d(df_all[\"p\"], df_all[\"TPCROC1\"], bins=(100, 100), cmap=plt.cm.jet, range = [[0.2, 2], [0.5, 3]])\n",
    "plt.show()\n",
    "plt.hist2d(df_test[\"p\"], df_test[\"TPCROC2_ae\"], bins=(100, 100), cmap=plt.cm.jet, range = [[0.2, 2], [0.5, 3]])\n",
    "plt.show()"
   ]
  },
  {
   "cell_type": "markdown",
   "metadata": {},
   "source": [
    "# labels for missing tracks"
   ]
  },
  {
   "cell_type": "code",
   "execution_count": null,
   "metadata": {},
   "outputs": [],
   "source": [
    "train_in = train[[\"ITS_mr\", \"TOF_mr\", \"TPCROC0_mr\", \"TPCROC1_mr\", \"TPCROC2_mr\", \"TRD_mr\"]]\n",
    "train_out = train[[\"ITS\", \"TOF\", \"TPCROC0\", \"TPCROC1\", \"TPCROC2\", \"TRD\"]]\n",
    "test_in = test[[\"ITS_mr\", \"TOF_mr\", \"TPCROC0_mr\", \"TPCROC1_mr\", \"TPCROC2_mr\", \"TRD_mr\"]]\n",
    "test_out = test[[\"ITS\", \"TOF\", \"TPCROC0\", \"TPCROC1\", \"TPCROC2\", \"TRD\"]]\n",
    "scaler_in = StandardScaler()\n",
    "scaler_out = StandardScaler()\n",
    "scaler_in.fit(train_in)\n",
    "scaler_out.fit(train_out)"
   ]
  },
  {
   "cell_type": "code",
   "execution_count": null,
   "metadata": {},
   "outputs": [],
   "source": [
    "modell.fit(scaler_in.transform(train_in), scaler_out.transform(train_out), epochs=5, batch_size=32, \n",
    "          validation_data=[scaler_in.transform(test_in),scaler_out.transform(test_out)])"
   ]
  },
  {
   "cell_type": "code",
   "execution_count": null,
   "metadata": {},
   "outputs": [],
   "source": [
    "out = scaler_out.inverse_transform(modell.predict(scaler_in.transform(test_in)))\n",
    "AE_predict = pd.DataFrame(out)\n",
    "AE_predict.columns = [\"ITS_ae\", \"TOF_ae\", \"TPCROC0_ae\", \"TPCROC1_ae\", \"TPCROC2_ae\", \"TRD_ae\"]\n",
    "#test = test.reset_index()\n",
    "df_test = pd.concat([test,AE_predict], axis = 1)\n",
    "df_test.head(3)"
   ]
  },
  {
   "cell_type": "code",
   "execution_count": null,
   "metadata": {},
   "outputs": [],
   "source": [
    "plt.hist2d(df_all[\"p\"], df_all[\"TPCROC1\"], bins=(100, 100), cmap=plt.cm.jet, range = [[0.2, 2], [0.5, 3]])\n",
    "plt.show()\n",
    "plt.hist2d(df_test[\"p\"], df_test[\"TPCROC1_ae\"], bins=(100, 100), cmap=plt.cm.jet, range = [[0.2, 2], [0.5, 3]])\n",
    "plt.show()"
   ]
  },
  {
   "cell_type": "markdown",
   "metadata": {},
   "source": [
    "# mean input, zero weights for missing values"
   ]
  },
  {
   "cell_type": "code",
   "execution_count": null,
   "metadata": {},
   "outputs": [],
   "source": [
    "train_mr = train[[\"ITS_mr\", \"TOF_mr\", \"TPCROC0_mr\", \"TPCROC1_mr\", \"TPCROC2_mr\", \"TRD_mr\"]]\n",
    "test_mr = test[[\"ITS_mr\", \"TOF_mr\", \"TPCROC0_mr\", \"TPCROC1_mr\", \"TPCROC2_mr\", \"TRD_mr\"]]\n",
    "train_w    = train[[\"ITS_w\", \"TOF_w\", \"TPCROC0_w\", \"TPCROC1_w\", \"TPCROC2_w\", \"TRD_w\"]]\n",
    "test_w     = test[[\"ITS_w\", \"TOF_w\", \"TPCROC0_w\", \"TPCROC1_w\", \"TPCROC2_w\", \"TRD_w\"]]"
   ]
  },
  {
   "cell_type": "code",
   "execution_count": null,
   "metadata": {},
   "outputs": [],
   "source": [
    "scaler_mr = StandardScaler()\n",
    "scaler_mr.fit(train_mr)"
   ]
  },
  {
   "cell_type": "code",
   "execution_count": null,
   "metadata": {},
   "outputs": [],
   "source": [
    "model1.fit([scaler_mr.transform(train_mr),train_w], scaler_mr.transform(train_mr), epochs=5, batch_size=32, \n",
    "          validation_data=[[scaler_mr.transform(test_mr),train_w],scaler_mr.transform(test_mr)])"
   ]
  },
  {
   "cell_type": "code",
   "execution_count": null,
   "metadata": {},
   "outputs": [],
   "source": [
    "out = scaler_mr.inverse_transform(model1.predict([scaler_mr.transform(test_mr),test_w]))\n",
    "AE_predict = pd.DataFrame(out)\n",
    "AE_predict.columns = [\"ITS_ae\", \"TOF_ae\", \"TPCROC0_ae\", \"TPCROC1_ae\", \"TPCROC2_ae\", \"TRD_ae\"]\n",
    "#test = test.reset_index()\n",
    "df_test = pd.concat([test,AE_predict], axis = 1)\n",
    "df_test.head(3)"
   ]
  },
  {
   "cell_type": "code",
   "execution_count": null,
   "metadata": {},
   "outputs": [],
   "source": [
    "plt.hist2d(df_all[\"p\"], df_all[\"TPCROC1\"], bins=(100, 100), cmap=plt.cm.jet, range = [[0.2, 2], [0.5, 3]])\n",
    "plt.show()\n",
    "plt.hist2d(df_test[\"p\"], df_test[\"TPCROC1_ae\"], bins=(100, 100), cmap=plt.cm.jet, range = [[0.2, 2], [0.5, 3]])\n",
    "plt.show()"
   ]
  },
  {
   "cell_type": "markdown",
   "metadata": {},
   "source": [
    "# second iteration, replace missing values by values from first iteration"
   ]
  },
  {
   "cell_type": "code",
   "execution_count": null,
   "metadata": {},
   "outputs": [],
   "source": [
    "# stage 2\n",
    "stage2_data = df_stage_2[[\"ITS_mr\", \"TOF_mr\", \"TPCROC0_mr\", \"TPCROC1_mr\", \"TPCROC2_mr\", \"TRD_mr\"]]\n",
    "out = scaler_mr.inverse_transform(models2.predict(scaler_mr.transform(stage2_data)))\n",
    "AE_predict = pd.DataFrame(out)\n",
    "AE_predict.columns = [\"ITS_ae\", \"TOF_ae\", \"TPCROC0_ae\", \"TPCROC1_ae\", \"TPCROC2_ae\", \"TRD_ae\"]\n",
    "for i ,name in enumerate(['ITS','TOF','TPCROC0','TPCROC1','TPCROC2','TRD']):\n",
    "    # calculate \"flip= 0/1\"\n",
    "    f=(np.array(df_stage_2['flips'])>>i)&1\n",
    "    m=AE_predict[name+'_ae']\n",
    "    df_stage_2.loc[:,name+'_s2']= df_stage_2[name].multiply(f,axis='index')+m*(1-f)"
   ]
  },
  {
   "cell_type": "code",
   "execution_count": null,
   "metadata": {},
   "outputs": [],
   "source": [
    "train, test =train_test_split(df_stage_2, test_size=0.5)\n",
    "train_s2 = train[[\"ITS_s2\", \"TOF_s2\", \"TPCROC0_s2\", \"TPCROC1_s2\", \"TPCROC2_s2\", \"TRD_s2\"]]\n",
    "test_s2 = test[[\"ITS_s2\", \"TOF_s2\", \"TPCROC0_s2\", \"TPCROC1_s2\", \"TPCROC2_s2\", \"TRD_s2\"]]"
   ]
  },
  {
   "cell_type": "code",
   "execution_count": null,
   "metadata": {},
   "outputs": [],
   "source": [
    "scaler_s2 = StandardScaler()\n",
    "scaler_s2.fit(train_s2)\n",
    "models2.fit(scaler_s2.transform(train_s2), scaler_s2.transform(train_s2), epochs=5, batch_size=32, \n",
    "          validation_data=[scaler_s2.transform(test_s2),scaler_s2.transform(test_s2)])"
   ]
  },
  {
   "cell_type": "code",
   "execution_count": null,
   "metadata": {},
   "outputs": [],
   "source": [
    "out = scaler_s2.inverse_transform(models2.predict(scaler_s2.transform(test_s2)))\n",
    "AE_predict = pd.DataFrame(out)\n",
    "AE_predict.columns = [\"ITS_ae\", \"TOF_ae\", \"TPCROC0_ae\", \"TPCROC1_ae\", \"TPCROC2_ae\", \"TRD_ae\"]\n",
    "test = test.reset_index()\n",
    "df_test = pd.concat([test,AE_predict], axis = 1)\n",
    "df_test.head(3)"
   ]
  },
  {
   "cell_type": "code",
   "execution_count": null,
   "metadata": {},
   "outputs": [],
   "source": [
    "plt.hist2d(df_all[\"p\"], df_all[\"TPCROC1\"], bins=(100, 100), cmap=plt.cm.jet, range = [[0.2, 2], [0.5, 3]])\n",
    "plt.show()\n",
    "plt.hist2d(df_test[\"p\"], df_test[\"TPCROC1_ae\"], bins=(100, 100), cmap=plt.cm.jet, range = [[0.2, 2], [0.5, 3]])\n",
    "plt.show()"
   ]
  },
  {
   "cell_type": "code",
   "execution_count": null,
   "metadata": {},
   "outputs": [],
   "source": []
  }
 ],
 "metadata": {
  "kernelspec": {
   "display_name": "Python 3",
   "language": "python",
   "name": "python3"
  },
  "language_info": {
   "codemirror_mode": {
    "name": "ipython",
    "version": 2
   },
   "file_extension": ".py",
   "mimetype": "text/x-python",
   "name": "python",
   "nbconvert_exporter": "python",
   "pygments_lexer": "ipython2",
   "version": "2.7.12"
  }
 },
 "nbformat": 4,
 "nbformat_minor": 2
}
