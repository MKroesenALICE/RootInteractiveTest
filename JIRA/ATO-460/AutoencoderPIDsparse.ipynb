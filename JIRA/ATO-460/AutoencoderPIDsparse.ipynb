{
 "cells": [
  {
   "cell_type": "code",
   "execution_count": 1,
   "metadata": {},
   "outputs": [
    {
     "name": "stdout",
     "output_type": "stream",
     "text": [
      "Welcome to JupyROOT 6.10/08\n"
     ]
    }
   ],
   "source": [
    "import ROOT\n",
    "import numpy as np\n",
    "import matplotlib.pyplot as plt\n",
    "import math\n",
    "import pandas as pd\n",
    "from sklearn.model_selection import train_test_split\n",
    "from sklearn.preprocessing import StandardScaler\n",
    "from tensorflow.keras.models import Sequential, Model\n",
    "from tensorflow.keras.layers import Dense, Input\n",
    "import tensorflow.keras.backend as K\n",
    "from tensorflow.keras import regularizers\n",
    "import tensorflow as tf\n",
    "from functools import partial"
   ]
  },
  {
   "cell_type": "code",
   "execution_count": 2,
   "metadata": {},
   "outputs": [],
   "source": [
    "n_particles = 10000/2\n",
    "p = np.random.uniform(0.3,10.,n_particles)\n",
    "mp = np.random.uniform(1/10.,1/0.3,n_particles)\n",
    "p_mp = 1./mp "
   ]
  },
  {
   "cell_type": "code",
   "execution_count": 3,
   "metadata": {},
   "outputs": [
    {
     "data": {
      "image/png": "[encoded data removed]",
      "text/plain": [
       "<Figure size 432x288 with 1 Axes>"
      ]
     },
     "metadata": {
      "needs_background": "light"
     },
     "output_type": "display_data"
    },
    {
     "data": {
      "image/png": "[encoded data removed]",
      "text/plain": [
       "<Figure size 432x288 with 1 Axes>"
      ]
     },
     "metadata": {
      "needs_background": "light"
     },
     "output_type": "display_data"
    }
   ],
   "source": [
    "plt.hist(p_mp,50,range=(0.,10.))\n",
    "plt.show()\n",
    "p_ges = np.concatenate([p,p_mp])\n",
    "plt.hist(p_ges,50,range=(0,10))\n",
    "plt.show()"
   ]
  },
  {
   "cell_type": "code",
   "execution_count": 4,
   "metadata": {},
   "outputs": [
    {
     "data": {
      "text/plain": [
       "[0.139, 0.105, 0.000511, 0.938, 0.494]"
      ]
     },
     "execution_count": 4,
     "metadata": {},
     "output_type": "execute_result"
    }
   ],
   "source": [
    "mass_pi = 0.139\n",
    "mass_mu = 0.105\n",
    "mass_e = 0.000511\n",
    "mass_p = 0.938\n",
    "mass_K = 0.494\n",
    "masses = [mass_pi, mass_mu, mass_e, mass_p, mass_K]\n",
    "masses"
   ]
  },
  {
   "cell_type": "code",
   "execution_count": 5,
   "metadata": {},
   "outputs": [],
   "source": [
    "signals = []\n",
    "for mass in masses:\n",
    "    ITS_tmp = []\n",
    "    TPCROC0_tmp = []\n",
    "    TPCROC1_tmp = []\n",
    "    TPCROC2_tmp = []\n",
    "    TRD_tmp = []\n",
    "    TOF_tmp = []\n",
    "    for p in p_ges:\n",
    "        bg = p/mass\n",
    "        beta = bg/math.sqrt(1.+ bg*bg);\n",
    "        BBS = ROOT.AliExternalTrackParam.BetheBlochSolid(bg)\n",
    "        BBA = ROOT.AliExternalTrackParam.BetheBlochAleph(bg)\n",
    "        ITS_tmp.append(np.random.normal(BBS,0.1*BBS) ) ## ITS dEdx = smeared gaus 10% \n",
    "        TPCROC0_tmp.append(np.random.normal(BBA,0.1*BBA) )## TPC dEdx = smeared gaus 10% for 1st layer\n",
    "        TPCROC1_tmp.append(np.random.normal(BBA,0.1*BBA) )  ## TPC dEdx = smeared gaus 10% for 2nd layer\n",
    "        TPCROC2_tmp.append(np.random.normal(BBA,0.1*BBA) )  ## TPC dEdx = smeared gaus 10% for 3d layer\n",
    "        TRD_tmp.append(np.random.normal(BBA,0.1*BBA) )  ## TRD dEdx = smeared gaus 10% \n",
    "        TOF_tmp.append(np.random.normal(beta,0.1*beta) )  ## TOF - smeared with .... gaussian\n",
    "    signals.append({'ITS': ITS_tmp, 'TPCROC0': TPCROC0_tmp, 'TPCROC1': TPCROC1_tmp, 'TPCROC1': TPCROC1_tmp, \n",
    "                    'TPCROC2': TPCROC2_tmp, 'TRD': TRD_tmp, 'TOF': TOF_tmp})"
   ]
  },
  {
   "cell_type": "code",
   "execution_count": 6,
   "metadata": {},
   "outputs": [
    {
     "data": {
      "text/plain": [
       "[]"
      ]
     },
     "execution_count": 6,
     "metadata": {},
     "output_type": "execute_result"
    },
    {
     "data": {
      "image/png": "[encoded data removed]",
      "text/plain": [
       "<Figure size 432x288 with 1 Axes>"
      ]
     },
     "metadata": {
      "needs_background": "light"
     },
     "output_type": "display_data"
    }
   ],
   "source": [
    "df_list=[]\n",
    "for i, val in enumerate(masses):\n",
    "    df = pd.DataFrame.from_dict(signals[i])\n",
    "    df['p'] = pd.Series(p_ges, index=df.index)\n",
    "    df['particle'] = pd.Series(i, index=df.index)\n",
    "    df_list.append(df)\n",
    "df_all = pd.concat([df_list[0],df_list[2],df_list[3],df_list[4]], ignore_index=True)\n",
    "plt.hist2d(df_all[\"p\"], df_all[\"TPCROC1\"], bins=(100, 100), cmap=plt.cm.jet, range = [[0.2, 2], [0.5, 3]])\n",
    "plt.plot()"
   ]
  },
  {
   "cell_type": "code",
   "execution_count": 7,
   "metadata": {},
   "outputs": [
    {
     "data": {
      "text/html": [
       "<div>\n",
       "<style scoped>\n",
       "    .dataframe tbody tr th:only-of-type {\n",
       "        vertical-align: middle;\n",
       "    }\n",
       "\n",
       "    .dataframe tbody tr th {\n",
       "        vertical-align: top;\n",
       "    }\n",
       "\n",
       "    .dataframe thead th {\n",
       "        text-align: right;\n",
       "    }\n",
       "</style>\n",
       "<table border=\"1\" class=\"dataframe\">\n",
       "  <thead>\n",
       "    <tr style=\"text-align: right;\">\n",
       "      <th></th>\n",
       "      <th>ITS</th>\n",
       "      <th>TOF</th>\n",
       "      <th>TPCROC0</th>\n",
       "      <th>TPCROC1</th>\n",
       "      <th>TPCROC2</th>\n",
       "      <th>TRD</th>\n",
       "      <th>p</th>\n",
       "      <th>particle</th>\n",
       "      <th>flips</th>\n",
       "    </tr>\n",
       "  </thead>\n",
       "  <tbody>\n",
       "    <tr>\n",
       "      <th>0</th>\n",
       "      <td>0.001876</td>\n",
       "      <td>1.118382</td>\n",
       "      <td>1.400154</td>\n",
       "      <td>1.283007</td>\n",
       "      <td>1.286354</td>\n",
       "      <td>1.476715</td>\n",
       "      <td>6.960797</td>\n",
       "      <td>0</td>\n",
       "      <td>63</td>\n",
       "    </tr>\n",
       "    <tr>\n",
       "      <th>1</th>\n",
       "      <td>0.002161</td>\n",
       "      <td>0.834615</td>\n",
       "      <td>1.298617</td>\n",
       "      <td>1.064123</td>\n",
       "      <td>1.317187</td>\n",
       "      <td>1.323193</td>\n",
       "      <td>6.061898</td>\n",
       "      <td>0</td>\n",
       "      <td>63</td>\n",
       "    </tr>\n",
       "    <tr>\n",
       "      <th>2</th>\n",
       "      <td>0.001974</td>\n",
       "      <td>1.019529</td>\n",
       "      <td>1.222457</td>\n",
       "      <td>1.190231</td>\n",
       "      <td>1.085385</td>\n",
       "      <td>1.193840</td>\n",
       "      <td>2.993727</td>\n",
       "      <td>0</td>\n",
       "      <td>63</td>\n",
       "    </tr>\n",
       "    <tr>\n",
       "      <th>3</th>\n",
       "      <td>0.001886</td>\n",
       "      <td>0.971169</td>\n",
       "      <td>0.815833</td>\n",
       "      <td>1.013392</td>\n",
       "      <td>1.046606</td>\n",
       "      <td>1.030747</td>\n",
       "      <td>1.081588</td>\n",
       "      <td>0</td>\n",
       "      <td>57</td>\n",
       "    </tr>\n",
       "    <tr>\n",
       "      <th>4</th>\n",
       "      <td>0.001781</td>\n",
       "      <td>1.110512</td>\n",
       "      <td>1.217670</td>\n",
       "      <td>1.397451</td>\n",
       "      <td>1.321348</td>\n",
       "      <td>1.328026</td>\n",
       "      <td>4.374931</td>\n",
       "      <td>0</td>\n",
       "      <td>63</td>\n",
       "    </tr>\n",
       "  </tbody>\n",
       "</table>\n",
       "</div>"
      ],
      "text/plain": [
       "        ITS       TOF   TPCROC0   TPCROC1   TPCROC2       TRD         p  \\\n",
       "0  0.001876  1.118382  1.400154  1.283007  1.286354  1.476715  6.960797   \n",
       "1  0.002161  0.834615  1.298617  1.064123  1.317187  1.323193  6.061898   \n",
       "2  0.001974  1.019529  1.222457  1.190231  1.085385  1.193840  2.993727   \n",
       "3  0.001886  0.971169  0.815833  1.013392  1.046606  1.030747  1.081588   \n",
       "4  0.001781  1.110512  1.217670  1.397451  1.321348  1.328026  4.374931   \n",
       "\n",
       "   particle  flips  \n",
       "0         0     63  \n",
       "1         0     63  \n",
       "2         0     63  \n",
       "3         0     57  \n",
       "4         0     63  "
      ]
     },
     "execution_count": 7,
     "metadata": {},
     "output_type": "execute_result"
    }
   ],
   "source": [
    "N=len(df_all)\n",
    "probabilty = 0.95\n",
    "\n",
    "flips_raw = (1*(np.random.random(size=6*N)<probabilty)).reshape(6,-1)\n",
    "\n",
    "flips=flips_raw[0]\n",
    "for i in range(1,6):\n",
    "    # (1<<i = 2**i)\n",
    "    flips=flips_raw[i]*(1<<i) + flips\n",
    "\n",
    "\n",
    "df_all.loc[:,'flips']=flips\n",
    "df_all.head(5)"
   ]
  },
  {
   "cell_type": "code",
   "execution_count": 8,
   "metadata": {},
   "outputs": [
    {
     "data": {
      "text/html": [
       "<div>\n",
       "<style scoped>\n",
       "    .dataframe tbody tr th:only-of-type {\n",
       "        vertical-align: middle;\n",
       "    }\n",
       "\n",
       "    .dataframe tbody tr th {\n",
       "        vertical-align: top;\n",
       "    }\n",
       "\n",
       "    .dataframe thead th {\n",
       "        text-align: right;\n",
       "    }\n",
       "</style>\n",
       "<table border=\"1\" class=\"dataframe\">\n",
       "  <thead>\n",
       "    <tr style=\"text-align: right;\">\n",
       "      <th></th>\n",
       "      <th>ITS</th>\n",
       "      <th>TOF</th>\n",
       "      <th>TPCROC0</th>\n",
       "      <th>TPCROC1</th>\n",
       "      <th>TPCROC2</th>\n",
       "      <th>TRD</th>\n",
       "      <th>p</th>\n",
       "      <th>particle</th>\n",
       "      <th>flips</th>\n",
       "      <th>ITS_mr</th>\n",
       "      <th>...</th>\n",
       "      <th>TPCROC0_0</th>\n",
       "      <th>TPCROC1_mr</th>\n",
       "      <th>TPCROC1_w</th>\n",
       "      <th>TPCROC1_0</th>\n",
       "      <th>TPCROC2_mr</th>\n",
       "      <th>TPCROC2_w</th>\n",
       "      <th>TPCROC2_0</th>\n",
       "      <th>TRD_mr</th>\n",
       "      <th>TRD_w</th>\n",
       "      <th>TRD_0</th>\n",
       "    </tr>\n",
       "  </thead>\n",
       "  <tbody>\n",
       "    <tr>\n",
       "      <th>0</th>\n",
       "      <td>0.001876</td>\n",
       "      <td>1.118382</td>\n",
       "      <td>1.400154</td>\n",
       "      <td>1.283007</td>\n",
       "      <td>1.286354</td>\n",
       "      <td>1.476715</td>\n",
       "      <td>6.960797</td>\n",
       "      <td>0</td>\n",
       "      <td>63</td>\n",
       "      <td>0.001876</td>\n",
       "      <td>...</td>\n",
       "      <td>1.400154</td>\n",
       "      <td>1.283007</td>\n",
       "      <td>1.0</td>\n",
       "      <td>1.283007</td>\n",
       "      <td>1.286354</td>\n",
       "      <td>1.0</td>\n",
       "      <td>1.286354</td>\n",
       "      <td>1.476715</td>\n",
       "      <td>1.0</td>\n",
       "      <td>1.476715</td>\n",
       "    </tr>\n",
       "    <tr>\n",
       "      <th>1</th>\n",
       "      <td>0.002161</td>\n",
       "      <td>0.834615</td>\n",
       "      <td>1.298617</td>\n",
       "      <td>1.064123</td>\n",
       "      <td>1.317187</td>\n",
       "      <td>1.323193</td>\n",
       "      <td>6.061898</td>\n",
       "      <td>0</td>\n",
       "      <td>63</td>\n",
       "      <td>0.002161</td>\n",
       "      <td>...</td>\n",
       "      <td>1.298617</td>\n",
       "      <td>1.064123</td>\n",
       "      <td>1.0</td>\n",
       "      <td>1.064123</td>\n",
       "      <td>1.317187</td>\n",
       "      <td>1.0</td>\n",
       "      <td>1.317187</td>\n",
       "      <td>1.323193</td>\n",
       "      <td>1.0</td>\n",
       "      <td>1.323193</td>\n",
       "    </tr>\n",
       "    <tr>\n",
       "      <th>2</th>\n",
       "      <td>0.001974</td>\n",
       "      <td>1.019529</td>\n",
       "      <td>1.222457</td>\n",
       "      <td>1.190231</td>\n",
       "      <td>1.085385</td>\n",
       "      <td>1.193840</td>\n",
       "      <td>2.993727</td>\n",
       "      <td>0</td>\n",
       "      <td>63</td>\n",
       "      <td>0.001974</td>\n",
       "      <td>...</td>\n",
       "      <td>1.222457</td>\n",
       "      <td>1.190231</td>\n",
       "      <td>1.0</td>\n",
       "      <td>1.190231</td>\n",
       "      <td>1.085385</td>\n",
       "      <td>1.0</td>\n",
       "      <td>1.085385</td>\n",
       "      <td>1.193840</td>\n",
       "      <td>1.0</td>\n",
       "      <td>1.193840</td>\n",
       "    </tr>\n",
       "    <tr>\n",
       "      <th>3</th>\n",
       "      <td>0.001886</td>\n",
       "      <td>0.971169</td>\n",
       "      <td>0.815833</td>\n",
       "      <td>1.013392</td>\n",
       "      <td>1.046606</td>\n",
       "      <td>1.030747</td>\n",
       "      <td>1.081588</td>\n",
       "      <td>0</td>\n",
       "      <td>57</td>\n",
       "      <td>0.001886</td>\n",
       "      <td>...</td>\n",
       "      <td>0.000000</td>\n",
       "      <td>1.013392</td>\n",
       "      <td>1.0</td>\n",
       "      <td>1.013392</td>\n",
       "      <td>1.046606</td>\n",
       "      <td>1.0</td>\n",
       "      <td>1.046606</td>\n",
       "      <td>1.030747</td>\n",
       "      <td>1.0</td>\n",
       "      <td>1.030747</td>\n",
       "    </tr>\n",
       "    <tr>\n",
       "      <th>4</th>\n",
       "      <td>0.001781</td>\n",
       "      <td>1.110512</td>\n",
       "      <td>1.217670</td>\n",
       "      <td>1.397451</td>\n",
       "      <td>1.321348</td>\n",
       "      <td>1.328026</td>\n",
       "      <td>4.374931</td>\n",
       "      <td>0</td>\n",
       "      <td>63</td>\n",
       "      <td>0.001781</td>\n",
       "      <td>...</td>\n",
       "      <td>1.217670</td>\n",
       "      <td>1.397451</td>\n",
       "      <td>1.0</td>\n",
       "      <td>1.397451</td>\n",
       "      <td>1.321348</td>\n",
       "      <td>1.0</td>\n",
       "      <td>1.321348</td>\n",
       "      <td>1.328026</td>\n",
       "      <td>1.0</td>\n",
       "      <td>1.328026</td>\n",
       "    </tr>\n",
       "    <tr>\n",
       "      <th>5</th>\n",
       "      <td>0.001983</td>\n",
       "      <td>0.976142</td>\n",
       "      <td>1.151044</td>\n",
       "      <td>1.165133</td>\n",
       "      <td>1.166762</td>\n",
       "      <td>1.110739</td>\n",
       "      <td>2.203330</td>\n",
       "      <td>0</td>\n",
       "      <td>63</td>\n",
       "      <td>0.001983</td>\n",
       "      <td>...</td>\n",
       "      <td>1.151044</td>\n",
       "      <td>1.165133</td>\n",
       "      <td>1.0</td>\n",
       "      <td>1.165133</td>\n",
       "      <td>1.166762</td>\n",
       "      <td>1.0</td>\n",
       "      <td>1.166762</td>\n",
       "      <td>1.110739</td>\n",
       "      <td>1.0</td>\n",
       "      <td>1.110739</td>\n",
       "    </tr>\n",
       "    <tr>\n",
       "      <th>6</th>\n",
       "      <td>0.002176</td>\n",
       "      <td>0.838962</td>\n",
       "      <td>1.191545</td>\n",
       "      <td>1.062937</td>\n",
       "      <td>1.672534</td>\n",
       "      <td>1.026063</td>\n",
       "      <td>8.296247</td>\n",
       "      <td>0</td>\n",
       "      <td>63</td>\n",
       "      <td>0.002176</td>\n",
       "      <td>...</td>\n",
       "      <td>1.191545</td>\n",
       "      <td>1.062937</td>\n",
       "      <td>1.0</td>\n",
       "      <td>1.062937</td>\n",
       "      <td>1.672534</td>\n",
       "      <td>1.0</td>\n",
       "      <td>1.672534</td>\n",
       "      <td>1.026063</td>\n",
       "      <td>1.0</td>\n",
       "      <td>1.026063</td>\n",
       "    </tr>\n",
       "    <tr>\n",
       "      <th>7</th>\n",
       "      <td>0.002134</td>\n",
       "      <td>0.960046</td>\n",
       "      <td>1.427616</td>\n",
       "      <td>1.309126</td>\n",
       "      <td>1.450852</td>\n",
       "      <td>1.389302</td>\n",
       "      <td>7.202524</td>\n",
       "      <td>0</td>\n",
       "      <td>63</td>\n",
       "      <td>0.002134</td>\n",
       "      <td>...</td>\n",
       "      <td>1.427616</td>\n",
       "      <td>1.309126</td>\n",
       "      <td>1.0</td>\n",
       "      <td>1.309126</td>\n",
       "      <td>1.450852</td>\n",
       "      <td>1.0</td>\n",
       "      <td>1.450852</td>\n",
       "      <td>1.389302</td>\n",
       "      <td>1.0</td>\n",
       "      <td>1.389302</td>\n",
       "    </tr>\n",
       "    <tr>\n",
       "      <th>8</th>\n",
       "      <td>0.001938</td>\n",
       "      <td>1.051485</td>\n",
       "      <td>1.208800</td>\n",
       "      <td>1.376441</td>\n",
       "      <td>1.202279</td>\n",
       "      <td>1.345475</td>\n",
       "      <td>5.527327</td>\n",
       "      <td>0</td>\n",
       "      <td>63</td>\n",
       "      <td>0.001938</td>\n",
       "      <td>...</td>\n",
       "      <td>1.208800</td>\n",
       "      <td>1.376441</td>\n",
       "      <td>1.0</td>\n",
       "      <td>1.376441</td>\n",
       "      <td>1.202279</td>\n",
       "      <td>1.0</td>\n",
       "      <td>1.202279</td>\n",
       "      <td>1.345475</td>\n",
       "      <td>1.0</td>\n",
       "      <td>1.345475</td>\n",
       "    </tr>\n",
       "    <tr>\n",
       "      <th>9</th>\n",
       "      <td>0.002201</td>\n",
       "      <td>0.990256</td>\n",
       "      <td>1.285685</td>\n",
       "      <td>1.400345</td>\n",
       "      <td>1.187124</td>\n",
       "      <td>1.271107</td>\n",
       "      <td>8.326023</td>\n",
       "      <td>0</td>\n",
       "      <td>63</td>\n",
       "      <td>0.002201</td>\n",
       "      <td>...</td>\n",
       "      <td>1.285685</td>\n",
       "      <td>1.400345</td>\n",
       "      <td>1.0</td>\n",
       "      <td>1.400345</td>\n",
       "      <td>1.187124</td>\n",
       "      <td>1.0</td>\n",
       "      <td>1.187124</td>\n",
       "      <td>1.271107</td>\n",
       "      <td>1.0</td>\n",
       "      <td>1.271107</td>\n",
       "    </tr>\n",
       "  </tbody>\n",
       "</table>\n",
       "<p>10 rows × 27 columns</p>\n",
       "</div>"
      ],
      "text/plain": [
       "        ITS       TOF   TPCROC0   TPCROC1   TPCROC2       TRD         p  \\\n",
       "0  0.001876  1.118382  1.400154  1.283007  1.286354  1.476715  6.960797   \n",
       "1  0.002161  0.834615  1.298617  1.064123  1.317187  1.323193  6.061898   \n",
       "2  0.001974  1.019529  1.222457  1.190231  1.085385  1.193840  2.993727   \n",
       "3  0.001886  0.971169  0.815833  1.013392  1.046606  1.030747  1.081588   \n",
       "4  0.001781  1.110512  1.217670  1.397451  1.321348  1.328026  4.374931   \n",
       "5  0.001983  0.976142  1.151044  1.165133  1.166762  1.110739  2.203330   \n",
       "6  0.002176  0.838962  1.191545  1.062937  1.672534  1.026063  8.296247   \n",
       "7  0.002134  0.960046  1.427616  1.309126  1.450852  1.389302  7.202524   \n",
       "8  0.001938  1.051485  1.208800  1.376441  1.202279  1.345475  5.527327   \n",
       "9  0.002201  0.990256  1.285685  1.400345  1.187124  1.271107  8.326023   \n",
       "\n",
       "   particle  flips    ITS_mr    ...     TPCROC0_0  TPCROC1_mr  TPCROC1_w  \\\n",
       "0         0     63  0.001876    ...      1.400154    1.283007        1.0   \n",
       "1         0     63  0.002161    ...      1.298617    1.064123        1.0   \n",
       "2         0     63  0.001974    ...      1.222457    1.190231        1.0   \n",
       "3         0     57  0.001886    ...      0.000000    1.013392        1.0   \n",
       "4         0     63  0.001781    ...      1.217670    1.397451        1.0   \n",
       "5         0     63  0.001983    ...      1.151044    1.165133        1.0   \n",
       "6         0     63  0.002176    ...      1.191545    1.062937        1.0   \n",
       "7         0     63  0.002134    ...      1.427616    1.309126        1.0   \n",
       "8         0     63  0.001938    ...      1.208800    1.376441        1.0   \n",
       "9         0     63  0.002201    ...      1.285685    1.400345        1.0   \n",
       "\n",
       "   TPCROC1_0  TPCROC2_mr  TPCROC2_w  TPCROC2_0    TRD_mr  TRD_w     TRD_0  \n",
       "0   1.283007    1.286354        1.0   1.286354  1.476715    1.0  1.476715  \n",
       "1   1.064123    1.317187        1.0   1.317187  1.323193    1.0  1.323193  \n",
       "2   1.190231    1.085385        1.0   1.085385  1.193840    1.0  1.193840  \n",
       "3   1.013392    1.046606        1.0   1.046606  1.030747    1.0  1.030747  \n",
       "4   1.397451    1.321348        1.0   1.321348  1.328026    1.0  1.328026  \n",
       "5   1.165133    1.166762        1.0   1.166762  1.110739    1.0  1.110739  \n",
       "6   1.062937    1.672534        1.0   1.672534  1.026063    1.0  1.026063  \n",
       "7   1.309126    1.450852        1.0   1.450852  1.389302    1.0  1.389302  \n",
       "8   1.376441    1.202279        1.0   1.202279  1.345475    1.0  1.345475  \n",
       "9   1.400345    1.187124        1.0   1.187124  1.271107    1.0  1.271107  \n",
       "\n",
       "[10 rows x 27 columns]"
      ]
     },
     "execution_count": 8,
     "metadata": {},
     "output_type": "execute_result"
    }
   ],
   "source": [
    "# prepare \"flips-Data\" and weights\n",
    "for i ,name in enumerate(['ITS','TOF','TPCROC0','TPCROC1','TPCROC2','TRD']):\n",
    "    # calculate \"flip= 0/1\"\n",
    "    f=(np.array(df_all['flips'])>>i)&1\n",
    "    # if f=0 substitute value by mean\n",
    "    m=df_all[name].mean()\n",
    "    df_all.loc[:,name+'_mr']= df_all[name].multiply(f,axis='index')+m*(1-f) #mean replaced\n",
    "    df_all.loc[:,name+'_w']=1.0*f #weight\n",
    "    df_all.loc[:,name+'_0']= df_all[name].multiply(f,axis='index') #zeros\n",
    "    \n",
    "# generate data for stage 2\n",
    "df_stage_2=df_all.copy()\n",
    "df_stage_3=df_all.copy()\n",
    "df_all[df_all['particle']==0].head(10)"
   ]
  },
  {
   "cell_type": "code",
   "execution_count": 9,
   "metadata": {},
   "outputs": [],
   "source": [
    "train, test =train_test_split(df_all, test_size=0.5)"
   ]
  },
  {
   "cell_type": "markdown",
   "metadata": {},
   "source": [
    "# Create autoencoders"
   ]
  },
  {
   "cell_type": "code",
   "execution_count": 10,
   "metadata": {},
   "outputs": [],
   "source": [
    "def custom_loss(y_true, y_pred,weights):\n",
    "    return K.mean(K.square((y_true - y_pred)*weights))\n",
    "\n",
    "inputs = Input(shape=(6,))\n",
    "inputw = Input(shape=(6,))\n",
    "enc1   = Dense(units=64, activation='selu')(inputs)\n",
    "enc2   = Dense(units=64, activation='selu')(enc1)\n",
    "enc3   = Dense(units=64, activation='selu')(enc2)\n",
    "enc4   = Dense(units=64, activation='selu')(enc3)\n",
    "layer0 = Dense(units=2 , activation='linear',activity_regularizer=regularizers.l1(10e-4))(enc4)\n",
    "dec1   = Dense(units=64, activation='selu')(layer0)\n",
    "dec2   = Dense(units=64, activation='selu')(dec1)\n",
    "dec3   = Dense(units=64, activation='selu')(dec2)\n",
    "dec4   = Dense(units=64, activation='selu')(dec3)\n",
    "outputs= Dense(units=6, activation='linear')(dec4)\n",
    "\n",
    "c_loss = partial(custom_loss, weights=inputw)\n",
    "        \n",
    "modelpt = Model(inputs=inputs,outputs=outputs)\n",
    "models2 = Model(inputs=inputs,outputs=outputs)\n",
    "modell = Model(inputs=inputs,outputs=outputs)\n",
    "model0 = Model(inputs=inputs,outputs=outputs)\n",
    "model1 = Model(inputs=[inputs,inputw],outputs=outputs)\n",
    "modelpt.compile(loss='mse',\n",
    "              optimizer='adam',\n",
    "              metrics=['mse'])\n",
    "models2.compile(loss='mse',\n",
    "              optimizer='adam',\n",
    "              metrics=['mse'])\n",
    "modell.compile(loss='mse',\n",
    "              optimizer='adam',\n",
    "              metrics=['mse'])\n",
    "model0.compile(loss='mse',\n",
    "              optimizer='adam',\n",
    "              metrics=['mse'])\n",
    "model1.compile(loss=c_loss,\n",
    "              optimizer='adam',\n",
    "              metrics=['mse'])"
   ]
  },
  {
   "cell_type": "code",
   "execution_count": 11,
   "metadata": {},
   "outputs": [
    {
     "name": "stdout",
     "output_type": "stream",
     "text": [
      "_________________________________________________________________\n",
      "Layer (type)                 Output Shape              Param #   \n",
      "=================================================================\n",
      "input_1 (InputLayer)         (None, 6)                 0         \n",
      "_________________________________________________________________\n",
      "dense (Dense)                (None, 64)                448       \n",
      "_________________________________________________________________\n",
      "dense_1 (Dense)              (None, 64)                4160      \n",
      "_________________________________________________________________\n",
      "dense_2 (Dense)              (None, 64)                4160      \n",
      "_________________________________________________________________\n",
      "dense_3 (Dense)              (None, 64)                4160      \n",
      "_________________________________________________________________\n",
      "dense_4 (Dense)              (None, 2)                 130       \n",
      "_________________________________________________________________\n",
      "dense_5 (Dense)              (None, 64)                192       \n",
      "_________________________________________________________________\n",
      "dense_6 (Dense)              (None, 64)                4160      \n",
      "_________________________________________________________________\n",
      "dense_7 (Dense)              (None, 64)                4160      \n",
      "_________________________________________________________________\n",
      "dense_8 (Dense)              (None, 64)                4160      \n",
      "_________________________________________________________________\n",
      "dense_9 (Dense)              (None, 6)                 390       \n",
      "=================================================================\n",
      "Total params: 26,120\n",
      "Trainable params: 26,120\n",
      "Non-trainable params: 0\n",
      "_________________________________________________________________\n"
     ]
    }
   ],
   "source": [
    "model0.summary()"
   ]
  },
  {
   "cell_type": "markdown",
   "metadata": {},
   "source": [
    "# perfect tracks"
   ]
  },
  {
   "cell_type": "code",
   "execution_count": 12,
   "metadata": {},
   "outputs": [
    {
     "data": {
      "text/plain": [
       "StandardScaler(copy=True, with_mean=True, with_std=True)"
      ]
     },
     "execution_count": 12,
     "metadata": {},
     "output_type": "execute_result"
    }
   ],
   "source": [
    "train_pt = train[[\"ITS\", \"TOF\", \"TPCROC0\", \"TPCROC1\", \"TPCROC2\", \"TRD\"]]\n",
    "test_pt = test[[\"ITS\", \"TOF\", \"TPCROC0\", \"TPCROC1\", \"TPCROC2\", \"TRD\"]]\n",
    "scaler_pt = StandardScaler()\n",
    "scaler_pt.fit( train[[\"ITS\", \"TOF\", \"TPCROC0\", \"TPCROC1\", \"TPCROC2\", \"TRD\"]])"
   ]
  },
  {
   "cell_type": "code",
   "execution_count": 13,
   "metadata": {},
   "outputs": [
    {
     "name": "stdout",
     "output_type": "stream",
     "text": [
      "Train on 20000 samples, validate on 20000 samples\n",
      "Epoch 1/5\n",
      "20000/20000 [==============================] - 7s 333us/step - loss: 0.1454 - mean_squared_error: 0.0810 - val_loss: 0.1116 - val_mean_squared_error: 0.0643\n",
      "Epoch 2/5\n",
      "20000/20000 [==============================] - 5s 265us/step - loss: 0.0931 - mean_squared_error: 0.0543 - val_loss: 0.1026 - val_mean_squared_error: 0.0595\n",
      "Epoch 3/5\n",
      "20000/20000 [==============================] - 5s 265us/step - loss: 0.0829 - mean_squared_error: 0.0506 - val_loss: 0.0771 - val_mean_squared_error: 0.0506\n",
      "Epoch 4/5\n",
      "20000/20000 [==============================] - 5s 264us/step - loss: 0.0739 - mean_squared_error: 0.0473 - val_loss: 0.0682 - val_mean_squared_error: 0.0430\n",
      "Epoch 5/5\n",
      "20000/20000 [==============================] - 5s 268us/step - loss: 0.0700 - mean_squared_error: 0.0458 - val_loss: 0.0705 - val_mean_squared_error: 0.0491\n"
     ]
    },
    {
     "data": {
      "text/plain": [
       "<tensorflow.python.keras.callbacks.History at 0x7f01968316d0>"
      ]
     },
     "execution_count": 13,
     "metadata": {},
     "output_type": "execute_result"
    },
    {
     "name": "stderr",
     "output_type": "stream",
     "text": [
      "2019-01-29 15:46:42.259846: I tensorflow/core/platform/cpu_feature_guard.cc:141] Your CPU supports instructions that this TensorFlow binary was not compiled to use: FMA\n"
     ]
    }
   ],
   "source": [
    "modelpt.fit(scaler_pt.transform(train_pt), scaler_pt.transform(train_pt), epochs=5, batch_size=32, \n",
    "          validation_data=[scaler_pt.transform(test_pt),scaler_pt.transform(test_pt)])"
   ]
  },
  {
   "cell_type": "code",
   "execution_count": 14,
   "metadata": {},
   "outputs": [
    {
     "data": {
      "text/html": [
       "<div>\n",
       "<style scoped>\n",
       "    .dataframe tbody tr th:only-of-type {\n",
       "        vertical-align: middle;\n",
       "    }\n",
       "\n",
       "    .dataframe tbody tr th {\n",
       "        vertical-align: top;\n",
       "    }\n",
       "\n",
       "    .dataframe thead th {\n",
       "        text-align: right;\n",
       "    }\n",
       "</style>\n",
       "<table border=\"1\" class=\"dataframe\">\n",
       "  <thead>\n",
       "    <tr style=\"text-align: right;\">\n",
       "      <th></th>\n",
       "      <th>index</th>\n",
       "      <th>ITS</th>\n",
       "      <th>TOF</th>\n",
       "      <th>TPCROC0</th>\n",
       "      <th>TPCROC1</th>\n",
       "      <th>TPCROC2</th>\n",
       "      <th>TRD</th>\n",
       "      <th>p</th>\n",
       "      <th>particle</th>\n",
       "      <th>flips</th>\n",
       "      <th>...</th>\n",
       "      <th>TPCROC2_0</th>\n",
       "      <th>TRD_mr</th>\n",
       "      <th>TRD_w</th>\n",
       "      <th>TRD_0</th>\n",
       "      <th>ITS_ae</th>\n",
       "      <th>TOF_ae</th>\n",
       "      <th>TPCROC0_ae</th>\n",
       "      <th>TPCROC1_ae</th>\n",
       "      <th>TPCROC2_ae</th>\n",
       "      <th>TRD_ae</th>\n",
       "    </tr>\n",
       "  </thead>\n",
       "  <tbody>\n",
       "    <tr>\n",
       "      <th>0</th>\n",
       "      <td>24046</td>\n",
       "      <td>0.002058</td>\n",
       "      <td>0.931931</td>\n",
       "      <td>1.082367</td>\n",
       "      <td>1.116329</td>\n",
       "      <td>1.173777</td>\n",
       "      <td>1.066094</td>\n",
       "      <td>6.601343</td>\n",
       "      <td>3</td>\n",
       "      <td>61</td>\n",
       "      <td>...</td>\n",
       "      <td>1.173777</td>\n",
       "      <td>1.066094</td>\n",
       "      <td>1.0</td>\n",
       "      <td>1.066094</td>\n",
       "      <td>0.001805</td>\n",
       "      <td>0.968895</td>\n",
       "      <td>1.108639</td>\n",
       "      <td>1.143062</td>\n",
       "      <td>1.107739</td>\n",
       "      <td>1.094225</td>\n",
       "    </tr>\n",
       "    <tr>\n",
       "      <th>1</th>\n",
       "      <td>13828</td>\n",
       "      <td>0.002422</td>\n",
       "      <td>0.940766</td>\n",
       "      <td>1.433450</td>\n",
       "      <td>1.566123</td>\n",
       "      <td>1.770192</td>\n",
       "      <td>1.507235</td>\n",
       "      <td>5.817805</td>\n",
       "      <td>2</td>\n",
       "      <td>61</td>\n",
       "      <td>...</td>\n",
       "      <td>1.770192</td>\n",
       "      <td>1.507235</td>\n",
       "      <td>1.0</td>\n",
       "      <td>1.507235</td>\n",
       "      <td>0.002532</td>\n",
       "      <td>0.978720</td>\n",
       "      <td>1.501819</td>\n",
       "      <td>1.523969</td>\n",
       "      <td>1.500517</td>\n",
       "      <td>1.487708</td>\n",
       "    </tr>\n",
       "    <tr>\n",
       "      <th>2</th>\n",
       "      <td>20188</td>\n",
       "      <td>0.001701</td>\n",
       "      <td>1.116355</td>\n",
       "      <td>1.083332</td>\n",
       "      <td>1.172431</td>\n",
       "      <td>0.855223</td>\n",
       "      <td>1.043763</td>\n",
       "      <td>7.041901</td>\n",
       "      <td>3</td>\n",
       "      <td>31</td>\n",
       "      <td>...</td>\n",
       "      <td>0.855223</td>\n",
       "      <td>1.485453</td>\n",
       "      <td>0.0</td>\n",
       "      <td>0.000000</td>\n",
       "      <td>0.001883</td>\n",
       "      <td>1.141884</td>\n",
       "      <td>1.150535</td>\n",
       "      <td>1.205595</td>\n",
       "      <td>1.158487</td>\n",
       "      <td>1.146943</td>\n",
       "    </tr>\n",
       "  </tbody>\n",
       "</table>\n",
       "<p>3 rows × 34 columns</p>\n",
       "</div>"
      ],
      "text/plain": [
       "   index       ITS       TOF   TPCROC0   TPCROC1   TPCROC2       TRD  \\\n",
       "0  24046  0.002058  0.931931  1.082367  1.116329  1.173777  1.066094   \n",
       "1  13828  0.002422  0.940766  1.433450  1.566123  1.770192  1.507235   \n",
       "2  20188  0.001701  1.116355  1.083332  1.172431  0.855223  1.043763   \n",
       "\n",
       "          p  particle  flips    ...     TPCROC2_0    TRD_mr  TRD_w     TRD_0  \\\n",
       "0  6.601343         3     61    ...      1.173777  1.066094    1.0  1.066094   \n",
       "1  5.817805         2     61    ...      1.770192  1.507235    1.0  1.507235   \n",
       "2  7.041901         3     31    ...      0.855223  1.485453    0.0  0.000000   \n",
       "\n",
       "     ITS_ae    TOF_ae  TPCROC0_ae  TPCROC1_ae  TPCROC2_ae    TRD_ae  \n",
       "0  0.001805  0.968895    1.108639    1.143062    1.107739  1.094225  \n",
       "1  0.002532  0.978720    1.501819    1.523969    1.500517  1.487708  \n",
       "2  0.001883  1.141884    1.150535    1.205595    1.158487  1.146943  \n",
       "\n",
       "[3 rows x 34 columns]"
      ]
     },
     "execution_count": 14,
     "metadata": {},
     "output_type": "execute_result"
    }
   ],
   "source": [
    "out = scaler_pt.inverse_transform(modelpt.predict(scaler_pt.transform(test_pt)))\n",
    "AE_predict = pd.DataFrame(out)\n",
    "AE_predict.columns = [\"ITS_ae\", \"TOF_ae\", \"TPCROC0_ae\", \"TPCROC1_ae\", \"TPCROC2_ae\", \"TRD_ae\"]\n",
    "test = test.reset_index()\n",
    "df_test = pd.concat([test,AE_predict], axis = 1)\n",
    "df_test.head(3)"
   ]
  },
  {
   "cell_type": "code",
   "execution_count": 15,
   "metadata": {},
   "outputs": [
    {
     "data": {
      "image/png": "[encoded data removed]",
      "text/plain": [
       "<Figure size 432x288 with 1 Axes>"
      ]
     },
     "metadata": {
      "needs_background": "light"
     },
     "output_type": "display_data"
    },
    {
     "data": {
      "image/png": "[encoded data removed]",
      "text/plain": [
       "<Figure size 432x288 with 1 Axes>"
      ]
     },
     "metadata": {
      "needs_background": "light"
     },
     "output_type": "display_data"
    }
   ],
   "source": [
    "plt.hist2d(df_all[\"p\"], df_all[\"TPCROC1\"], bins=(100, 100), cmap=plt.cm.jet, range = [[0.2, 2], [0.5, 3]])\n",
    "plt.show()\n",
    "plt.hist2d(df_test[\"p\"], df_test[\"TPCROC2_ae\"], bins=(100, 100), cmap=plt.cm.jet, range = [[0.2, 2], [0.5, 3]])\n",
    "plt.show()"
   ]
  },
  {
   "cell_type": "markdown",
   "metadata": {},
   "source": [
    "# Train with zeros"
   ]
  },
  {
   "cell_type": "code",
   "execution_count": 16,
   "metadata": {},
   "outputs": [
    {
     "data": {
      "text/plain": [
       "StandardScaler(copy=True, with_mean=True, with_std=True)"
      ]
     },
     "execution_count": 16,
     "metadata": {},
     "output_type": "execute_result"
    }
   ],
   "source": [
    "train_0 = train[[\"ITS_0\", \"TOF_0\", \"TPCROC0_0\", \"TPCROC1_0\", \"TPCROC2_0\", \"TRD_0\"]]\n",
    "test_0 = test[[\"ITS_0\", \"TOF_0\", \"TPCROC0_0\", \"TPCROC1_0\", \"TPCROC2_0\", \"TRD_0\"]]\n",
    "scaler_0 = StandardScaler()\n",
    "scaler_0.fit( train[[\"ITS_0\", \"TOF_0\", \"TPCROC0_0\", \"TPCROC1_0\", \"TPCROC2_0\", \"TRD_0\"]])\n",
    "#scaler_0.fit( train[[\"ITS\", \"TOF\", \"TPCROC0\", \"TPCROC1\", \"TPCROC2\", \"TRD\"]]) "
   ]
  },
  {
   "cell_type": "code",
   "execution_count": 17,
   "metadata": {},
   "outputs": [
    {
     "data": {
      "text/html": [
       "<div>\n",
       "<style scoped>\n",
       "    .dataframe tbody tr th:only-of-type {\n",
       "        vertical-align: middle;\n",
       "    }\n",
       "\n",
       "    .dataframe tbody tr th {\n",
       "        vertical-align: top;\n",
       "    }\n",
       "\n",
       "    .dataframe thead th {\n",
       "        text-align: right;\n",
       "    }\n",
       "</style>\n",
       "<table border=\"1\" class=\"dataframe\">\n",
       "  <thead>\n",
       "    <tr style=\"text-align: right;\">\n",
       "      <th></th>\n",
       "      <th>ITS_0</th>\n",
       "      <th>TOF_0</th>\n",
       "      <th>TPCROC0_0</th>\n",
       "      <th>TPCROC1_0</th>\n",
       "      <th>TPCROC2_0</th>\n",
       "      <th>TRD_0</th>\n",
       "    </tr>\n",
       "  </thead>\n",
       "  <tbody>\n",
       "    <tr>\n",
       "      <th>17190</th>\n",
       "      <td>0.002842</td>\n",
       "      <td>0.882161</td>\n",
       "      <td>1.530464</td>\n",
       "      <td>1.360363</td>\n",
       "      <td>1.681578</td>\n",
       "      <td>1.529194</td>\n",
       "    </tr>\n",
       "    <tr>\n",
       "      <th>33062</th>\n",
       "      <td>0.001786</td>\n",
       "      <td>1.147631</td>\n",
       "      <td>1.001753</td>\n",
       "      <td>1.239490</td>\n",
       "      <td>1.115969</td>\n",
       "      <td>1.109676</td>\n",
       "    </tr>\n",
       "    <tr>\n",
       "      <th>21101</th>\n",
       "      <td>0.001421</td>\n",
       "      <td>0.999654</td>\n",
       "      <td>1.054486</td>\n",
       "      <td>1.149225</td>\n",
       "      <td>0.992124</td>\n",
       "      <td>0.000000</td>\n",
       "    </tr>\n",
       "    <tr>\n",
       "      <th>17660</th>\n",
       "      <td>0.002982</td>\n",
       "      <td>0.929222</td>\n",
       "      <td>1.583967</td>\n",
       "      <td>1.641427</td>\n",
       "      <td>1.448455</td>\n",
       "      <td>1.704423</td>\n",
       "    </tr>\n",
       "    <tr>\n",
       "      <th>26304</th>\n",
       "      <td>0.010295</td>\n",
       "      <td>0.298979</td>\n",
       "      <td>5.890153</td>\n",
       "      <td>5.277499</td>\n",
       "      <td>5.397682</td>\n",
       "      <td>5.330434</td>\n",
       "    </tr>\n",
       "  </tbody>\n",
       "</table>\n",
       "</div>"
      ],
      "text/plain": [
       "          ITS_0     TOF_0  TPCROC0_0  TPCROC1_0  TPCROC2_0     TRD_0\n",
       "17190  0.002842  0.882161   1.530464   1.360363   1.681578  1.529194\n",
       "33062  0.001786  1.147631   1.001753   1.239490   1.115969  1.109676\n",
       "21101  0.001421  0.999654   1.054486   1.149225   0.992124  0.000000\n",
       "17660  0.002982  0.929222   1.583967   1.641427   1.448455  1.704423\n",
       "26304  0.010295  0.298979   5.890153   5.277499   5.397682  5.330434"
      ]
     },
     "execution_count": 17,
     "metadata": {},
     "output_type": "execute_result"
    }
   ],
   "source": [
    "train[[\"ITS_0\", \"TOF_0\", \"TPCROC0_0\", \"TPCROC1_0\", \"TPCROC2_0\", \"TRD_0\"]].head()"
   ]
  },
  {
   "cell_type": "code",
   "execution_count": 18,
   "metadata": {},
   "outputs": [
    {
     "data": {
      "text/html": [
       "<div>\n",
       "<style scoped>\n",
       "    .dataframe tbody tr th:only-of-type {\n",
       "        vertical-align: middle;\n",
       "    }\n",
       "\n",
       "    .dataframe tbody tr th {\n",
       "        vertical-align: top;\n",
       "    }\n",
       "\n",
       "    .dataframe thead th {\n",
       "        text-align: right;\n",
       "    }\n",
       "</style>\n",
       "<table border=\"1\" class=\"dataframe\">\n",
       "  <thead>\n",
       "    <tr style=\"text-align: right;\">\n",
       "      <th></th>\n",
       "      <th>ITS</th>\n",
       "      <th>TOF</th>\n",
       "      <th>TPCROC0</th>\n",
       "      <th>TPCROC1</th>\n",
       "      <th>TPCROC2</th>\n",
       "      <th>TRD</th>\n",
       "    </tr>\n",
       "  </thead>\n",
       "  <tbody>\n",
       "    <tr>\n",
       "      <th>17190</th>\n",
       "      <td>0.002842</td>\n",
       "      <td>0.882161</td>\n",
       "      <td>1.530464</td>\n",
       "      <td>1.360363</td>\n",
       "      <td>1.681578</td>\n",
       "      <td>1.529194</td>\n",
       "    </tr>\n",
       "    <tr>\n",
       "      <th>33062</th>\n",
       "      <td>0.001786</td>\n",
       "      <td>1.147631</td>\n",
       "      <td>1.001753</td>\n",
       "      <td>1.239490</td>\n",
       "      <td>1.115969</td>\n",
       "      <td>1.109676</td>\n",
       "    </tr>\n",
       "    <tr>\n",
       "      <th>21101</th>\n",
       "      <td>0.001421</td>\n",
       "      <td>0.999654</td>\n",
       "      <td>1.054486</td>\n",
       "      <td>1.149225</td>\n",
       "      <td>0.992124</td>\n",
       "      <td>0.830137</td>\n",
       "    </tr>\n",
       "    <tr>\n",
       "      <th>17660</th>\n",
       "      <td>0.002982</td>\n",
       "      <td>0.929222</td>\n",
       "      <td>1.583967</td>\n",
       "      <td>1.641427</td>\n",
       "      <td>1.448455</td>\n",
       "      <td>1.704423</td>\n",
       "    </tr>\n",
       "    <tr>\n",
       "      <th>26304</th>\n",
       "      <td>0.010295</td>\n",
       "      <td>0.298979</td>\n",
       "      <td>5.890153</td>\n",
       "      <td>5.277499</td>\n",
       "      <td>5.397682</td>\n",
       "      <td>5.330434</td>\n",
       "    </tr>\n",
       "  </tbody>\n",
       "</table>\n",
       "</div>"
      ],
      "text/plain": [
       "            ITS       TOF   TPCROC0   TPCROC1   TPCROC2       TRD\n",
       "17190  0.002842  0.882161  1.530464  1.360363  1.681578  1.529194\n",
       "33062  0.001786  1.147631  1.001753  1.239490  1.115969  1.109676\n",
       "21101  0.001421  0.999654  1.054486  1.149225  0.992124  0.830137\n",
       "17660  0.002982  0.929222  1.583967  1.641427  1.448455  1.704423\n",
       "26304  0.010295  0.298979  5.890153  5.277499  5.397682  5.330434"
      ]
     },
     "execution_count": 18,
     "metadata": {},
     "output_type": "execute_result"
    }
   ],
   "source": [
    "train[[\"ITS\", \"TOF\", \"TPCROC0\", \"TPCROC1\", \"TPCROC2\", \"TRD\"]].head()\n"
   ]
  },
  {
   "cell_type": "code",
   "execution_count": 19,
   "metadata": {},
   "outputs": [
    {
     "name": "stdout",
     "output_type": "stream",
     "text": [
      "Train on 20000 samples, validate on 20000 samples\n",
      "Epoch 1/5\n",
      "20000/20000 [==============================] - 7s 340us/step - loss: 0.2002 - mean_squared_error: 0.1715 - val_loss: 0.1819 - val_mean_squared_error: 0.1579\n",
      "Epoch 2/5\n",
      "20000/20000 [==============================] - 5s 272us/step - loss: 0.1889 - mean_squared_error: 0.1630 - val_loss: 0.1913 - val_mean_squared_error: 0.1703\n",
      "Epoch 3/5\n",
      "20000/20000 [==============================] - 5s 268us/step - loss: 0.1814 - mean_squared_error: 0.1592 - val_loss: 0.1893 - val_mean_squared_error: 0.1672\n",
      "Epoch 4/5\n",
      "20000/20000 [==============================] - 5s 269us/step - loss: 0.1766 - mean_squared_error: 0.1539 - val_loss: 0.1632 - val_mean_squared_error: 0.1432\n",
      "Epoch 5/5\n",
      "20000/20000 [==============================] - 5s 271us/step - loss: 0.1609 - mean_squared_error: 0.1407 - val_loss: 0.1683 - val_mean_squared_error: 0.1493\n"
     ]
    },
    {
     "data": {
      "text/plain": [
       "<tensorflow.python.keras.callbacks.History at 0x7f01959bcf10>"
      ]
     },
     "execution_count": 19,
     "metadata": {},
     "output_type": "execute_result"
    }
   ],
   "source": [
    "model0.fit(scaler_0.transform(train_0), scaler_0.transform(train_0), epochs=5, batch_size=32, \n",
    "          validation_data=[scaler_0.transform(test_0),scaler_0.transform(test_0)])"
   ]
  },
  {
   "cell_type": "code",
   "execution_count": 20,
   "metadata": {},
   "outputs": [
    {
     "data": {
      "text/html": [
       "<div>\n",
       "<style scoped>\n",
       "    .dataframe tbody tr th:only-of-type {\n",
       "        vertical-align: middle;\n",
       "    }\n",
       "\n",
       "    .dataframe tbody tr th {\n",
       "        vertical-align: top;\n",
       "    }\n",
       "\n",
       "    .dataframe thead th {\n",
       "        text-align: right;\n",
       "    }\n",
       "</style>\n",
       "<table border=\"1\" class=\"dataframe\">\n",
       "  <thead>\n",
       "    <tr style=\"text-align: right;\">\n",
       "      <th></th>\n",
       "      <th>level_0</th>\n",
       "      <th>index</th>\n",
       "      <th>ITS</th>\n",
       "      <th>TOF</th>\n",
       "      <th>TPCROC0</th>\n",
       "      <th>TPCROC1</th>\n",
       "      <th>TPCROC2</th>\n",
       "      <th>TRD</th>\n",
       "      <th>p</th>\n",
       "      <th>particle</th>\n",
       "      <th>...</th>\n",
       "      <th>TPCROC2_0</th>\n",
       "      <th>TRD_mr</th>\n",
       "      <th>TRD_w</th>\n",
       "      <th>TRD_0</th>\n",
       "      <th>ITS_ae</th>\n",
       "      <th>TOF_ae</th>\n",
       "      <th>TPCROC0_ae</th>\n",
       "      <th>TPCROC1_ae</th>\n",
       "      <th>TPCROC2_ae</th>\n",
       "      <th>TRD_ae</th>\n",
       "    </tr>\n",
       "  </thead>\n",
       "  <tbody>\n",
       "    <tr>\n",
       "      <th>0</th>\n",
       "      <td>0</td>\n",
       "      <td>24046</td>\n",
       "      <td>0.002058</td>\n",
       "      <td>0.931931</td>\n",
       "      <td>1.082367</td>\n",
       "      <td>1.116329</td>\n",
       "      <td>1.173777</td>\n",
       "      <td>1.066094</td>\n",
       "      <td>6.601343</td>\n",
       "      <td>3</td>\n",
       "      <td>...</td>\n",
       "      <td>1.173777</td>\n",
       "      <td>1.066094</td>\n",
       "      <td>1.0</td>\n",
       "      <td>1.066094</td>\n",
       "      <td>0.001814</td>\n",
       "      <td>-0.062470</td>\n",
       "      <td>1.107289</td>\n",
       "      <td>1.121171</td>\n",
       "      <td>1.171285</td>\n",
       "      <td>1.240546</td>\n",
       "    </tr>\n",
       "    <tr>\n",
       "      <th>1</th>\n",
       "      <td>1</td>\n",
       "      <td>13828</td>\n",
       "      <td>0.002422</td>\n",
       "      <td>0.940766</td>\n",
       "      <td>1.433450</td>\n",
       "      <td>1.566123</td>\n",
       "      <td>1.770192</td>\n",
       "      <td>1.507235</td>\n",
       "      <td>5.817805</td>\n",
       "      <td>2</td>\n",
       "      <td>...</td>\n",
       "      <td>1.770192</td>\n",
       "      <td>1.507235</td>\n",
       "      <td>1.0</td>\n",
       "      <td>1.507235</td>\n",
       "      <td>0.002738</td>\n",
       "      <td>0.038708</td>\n",
       "      <td>1.561486</td>\n",
       "      <td>1.506964</td>\n",
       "      <td>1.590468</td>\n",
       "      <td>1.654390</td>\n",
       "    </tr>\n",
       "    <tr>\n",
       "      <th>2</th>\n",
       "      <td>2</td>\n",
       "      <td>20188</td>\n",
       "      <td>0.001701</td>\n",
       "      <td>1.116355</td>\n",
       "      <td>1.083332</td>\n",
       "      <td>1.172431</td>\n",
       "      <td>0.855223</td>\n",
       "      <td>1.043763</td>\n",
       "      <td>7.041901</td>\n",
       "      <td>3</td>\n",
       "      <td>...</td>\n",
       "      <td>0.855223</td>\n",
       "      <td>1.485453</td>\n",
       "      <td>0.0</td>\n",
       "      <td>0.000000</td>\n",
       "      <td>0.001566</td>\n",
       "      <td>1.003015</td>\n",
       "      <td>0.871500</td>\n",
       "      <td>0.875508</td>\n",
       "      <td>0.797705</td>\n",
       "      <td>0.851782</td>\n",
       "    </tr>\n",
       "  </tbody>\n",
       "</table>\n",
       "<p>3 rows × 35 columns</p>\n",
       "</div>"
      ],
      "text/plain": [
       "   level_0  index       ITS       TOF   TPCROC0   TPCROC1   TPCROC2       TRD  \\\n",
       "0        0  24046  0.002058  0.931931  1.082367  1.116329  1.173777  1.066094   \n",
       "1        1  13828  0.002422  0.940766  1.433450  1.566123  1.770192  1.507235   \n",
       "2        2  20188  0.001701  1.116355  1.083332  1.172431  0.855223  1.043763   \n",
       "\n",
       "          p  particle    ...     TPCROC2_0    TRD_mr  TRD_w     TRD_0  \\\n",
       "0  6.601343         3    ...      1.173777  1.066094    1.0  1.066094   \n",
       "1  5.817805         2    ...      1.770192  1.507235    1.0  1.507235   \n",
       "2  7.041901         3    ...      0.855223  1.485453    0.0  0.000000   \n",
       "\n",
       "     ITS_ae    TOF_ae  TPCROC0_ae  TPCROC1_ae  TPCROC2_ae    TRD_ae  \n",
       "0  0.001814 -0.062470    1.107289    1.121171    1.171285  1.240546  \n",
       "1  0.002738  0.038708    1.561486    1.506964    1.590468  1.654390  \n",
       "2  0.001566  1.003015    0.871500    0.875508    0.797705  0.851782  \n",
       "\n",
       "[3 rows x 35 columns]"
      ]
     },
     "execution_count": 20,
     "metadata": {},
     "output_type": "execute_result"
    }
   ],
   "source": [
    "out = scaler_0.inverse_transform(model0.predict(scaler_0.transform(test_0)))\n",
    "AE_predict = pd.DataFrame(out)\n",
    "AE_predict.columns = [\"ITS_ae\", \"TOF_ae\", \"TPCROC0_ae\", \"TPCROC1_ae\", \"TPCROC2_ae\", \"TRD_ae\"]\n",
    "test = test.reset_index()\n",
    "df_test = pd.concat([test,AE_predict], axis = 1)\n",
    "df_test.head(3)"
   ]
  },
  {
   "cell_type": "code",
   "execution_count": 21,
   "metadata": {},
   "outputs": [
    {
     "data": {
      "image/png": "[encoded data removed]",
      "text/plain": [
       "<Figure size 432x288 with 1 Axes>"
      ]
     },
     "metadata": {
      "needs_background": "light"
     },
     "output_type": "display_data"
    },
    {
     "data": {
      "image/png": "[encoded data removed]",
      "text/plain": [
       "<Figure size 432x288 with 1 Axes>"
      ]
     },
     "metadata": {
      "needs_background": "light"
     },
     "output_type": "display_data"
    }
   ],
   "source": [
    "plt.hist2d(df_all[\"p\"], df_all[\"TPCROC1\"], bins=(100, 100), cmap=plt.cm.jet, range = [[0.2, 2], [0.5, 3]])\n",
    "plt.show()\n",
    "plt.hist2d(df_test[\"p\"], df_test[\"TPCROC2_ae\"], bins=(100, 100), cmap=plt.cm.jet, range = [[0.2, 2], [0.5, 3]])\n",
    "plt.show()"
   ]
  },
  {
   "cell_type": "markdown",
   "metadata": {},
   "source": [
    "# labels for missing tracks"
   ]
  },
  {
   "cell_type": "code",
   "execution_count": 22,
   "metadata": {},
   "outputs": [
    {
     "data": {
      "text/plain": [
       "StandardScaler(copy=True, with_mean=True, with_std=True)"
      ]
     },
     "execution_count": 22,
     "metadata": {},
     "output_type": "execute_result"
    }
   ],
   "source": [
    "train_in = train[[\"ITS_mr\", \"TOF_mr\", \"TPCROC0_mr\", \"TPCROC1_mr\", \"TPCROC2_mr\", \"TRD_mr\"]]\n",
    "train_out = train[[\"ITS\", \"TOF\", \"TPCROC0\", \"TPCROC1\", \"TPCROC2\", \"TRD\"]]\n",
    "test_in = test[[\"ITS_mr\", \"TOF_mr\", \"TPCROC0_mr\", \"TPCROC1_mr\", \"TPCROC2_mr\", \"TRD_mr\"]]\n",
    "test_out = test[[\"ITS\", \"TOF\", \"TPCROC0\", \"TPCROC1\", \"TPCROC2\", \"TRD\"]]\n",
    "scaler_in = StandardScaler()\n",
    "scaler_out = StandardScaler()\n",
    "scaler_in.fit(train_in)\n",
    "scaler_out.fit(train_out)"
   ]
  },
  {
   "cell_type": "code",
   "execution_count": 23,
   "metadata": {},
   "outputs": [
    {
     "name": "stdout",
     "output_type": "stream",
     "text": [
      "Train on 20000 samples, validate on 20000 samples\n",
      "Epoch 1/5\n",
      "19872/20000 [============================>.] - ETA: 0s - loss: 0.0697 - mean_squared_error: 0.0531"
     ]
    },
    {
     "ename": "KeyboardInterrupt",
     "evalue": "",
     "output_type": "error",
     "traceback": [
      "\u001b[0;31m\u001b[0m",
      "\u001b[0;31mKeyboardInterrupt\u001b[0mTraceback (most recent call last)",
      "\u001b[0;32m<ipython-input-23-d74303bfa37b>\u001b[0m in \u001b[0;36m<module>\u001b[0;34m()\u001b[0m\n\u001b[1;32m      1\u001b[0m modell.fit(scaler_in.transform(train_in), scaler_out.transform(train_out), epochs=5, batch_size=32, \n\u001b[0;32m----> 2\u001b[0;31m           validation_data=[scaler_in.transform(test_in),scaler_out.transform(test_out)])\n\u001b[0m",
      "\u001b[0;32m/misc/alidata100/alice_u/kroesen/venv/alice-env/local/lib/python2.7/site-packages/tensorflow/python/keras/engine/training.pyc\u001b[0m in \u001b[0;36mfit\u001b[0;34m(self, x, y, batch_size, epochs, verbose, callbacks, validation_split, validation_data, shuffle, class_weight, sample_weight, initial_epoch, steps_per_epoch, validation_steps, max_queue_size, workers, use_multiprocessing, **kwargs)\u001b[0m\n\u001b[1;32m   1637\u001b[0m           \u001b[0minitial_epoch\u001b[0m\u001b[0;34m=\u001b[0m\u001b[0minitial_epoch\u001b[0m\u001b[0;34m,\u001b[0m\u001b[0;34m\u001b[0m\u001b[0m\n\u001b[1;32m   1638\u001b[0m           \u001b[0msteps_per_epoch\u001b[0m\u001b[0;34m=\u001b[0m\u001b[0msteps_per_epoch\u001b[0m\u001b[0;34m,\u001b[0m\u001b[0;34m\u001b[0m\u001b[0m\n\u001b[0;32m-> 1639\u001b[0;31m           validation_steps=validation_steps)\n\u001b[0m\u001b[1;32m   1640\u001b[0m \u001b[0;34m\u001b[0m\u001b[0m\n\u001b[1;32m   1641\u001b[0m   def evaluate(self,\n",
      "\u001b[0;32m/misc/alidata100/alice_u/kroesen/venv/alice-env/local/lib/python2.7/site-packages/tensorflow/python/keras/engine/training_arrays.pyc\u001b[0m in \u001b[0;36mfit_loop\u001b[0;34m(model, inputs, targets, sample_weights, batch_size, epochs, verbose, callbacks, val_inputs, val_targets, val_sample_weights, shuffle, initial_epoch, steps_per_epoch, validation_steps)\u001b[0m\n\u001b[1;32m    231\u001b[0m                 \u001b[0msample_weights\u001b[0m\u001b[0;34m=\u001b[0m\u001b[0mval_sample_weights\u001b[0m\u001b[0;34m,\u001b[0m\u001b[0;34m\u001b[0m\u001b[0m\n\u001b[1;32m    232\u001b[0m                 \u001b[0mbatch_size\u001b[0m\u001b[0;34m=\u001b[0m\u001b[0mbatch_size\u001b[0m\u001b[0;34m,\u001b[0m\u001b[0;34m\u001b[0m\u001b[0m\n\u001b[0;32m--> 233\u001b[0;31m                 verbose=0)\n\u001b[0m\u001b[1;32m    234\u001b[0m             \u001b[0;32mif\u001b[0m \u001b[0;32mnot\u001b[0m \u001b[0misinstance\u001b[0m\u001b[0;34m(\u001b[0m\u001b[0mval_outs\u001b[0m\u001b[0;34m,\u001b[0m \u001b[0mlist\u001b[0m\u001b[0;34m)\u001b[0m\u001b[0;34m:\u001b[0m\u001b[0;34m\u001b[0m\u001b[0m\n\u001b[1;32m    235\u001b[0m               \u001b[0mval_outs\u001b[0m \u001b[0;34m=\u001b[0m \u001b[0;34m[\u001b[0m\u001b[0mval_outs\u001b[0m\u001b[0;34m]\u001b[0m\u001b[0;34m\u001b[0m\u001b[0m\n",
      "\u001b[0;32m/misc/alidata100/alice_u/kroesen/venv/alice-env/local/lib/python2.7/site-packages/tensorflow/python/keras/engine/training_arrays.pyc\u001b[0m in \u001b[0;36mtest_loop\u001b[0;34m(model, inputs, targets, sample_weights, batch_size, verbose, steps)\u001b[0m\n\u001b[1;32m    446\u001b[0m             \u001b[0mouts\u001b[0m\u001b[0;34m[\u001b[0m\u001b[0mi\u001b[0m\u001b[0;34m]\u001b[0m \u001b[0;34m=\u001b[0m \u001b[0mbatch_out\u001b[0m\u001b[0;34m\u001b[0m\u001b[0m\n\u001b[1;32m    447\u001b[0m           \u001b[0;32melse\u001b[0m\u001b[0;34m:\u001b[0m\u001b[0;34m\u001b[0m\u001b[0m\n\u001b[0;32m--> 448\u001b[0;31m             \u001b[0mouts\u001b[0m\u001b[0;34m[\u001b[0m\u001b[0mi\u001b[0m\u001b[0;34m]\u001b[0m \u001b[0;34m+=\u001b[0m \u001b[0mbatch_out\u001b[0m \u001b[0;34m*\u001b[0m \u001b[0mlen\u001b[0m\u001b[0;34m(\u001b[0m\u001b[0mbatch_ids\u001b[0m\u001b[0;34m)\u001b[0m\u001b[0;34m\u001b[0m\u001b[0m\n\u001b[0m\u001b[1;32m    449\u001b[0m       \u001b[0;32melse\u001b[0m\u001b[0;34m:\u001b[0m\u001b[0;34m\u001b[0m\u001b[0m\n\u001b[1;32m    450\u001b[0m         \u001b[0;32mif\u001b[0m \u001b[0mbatch_index\u001b[0m \u001b[0;34m==\u001b[0m \u001b[0;36m0\u001b[0m\u001b[0;34m:\u001b[0m\u001b[0;34m\u001b[0m\u001b[0m\n",
      "\u001b[0;31mKeyboardInterrupt\u001b[0m: "
     ]
    }
   ],
   "source": [
    "modell.fit(scaler_in.transform(train_in), scaler_out.transform(train_out), epochs=5, batch_size=32, \n",
    "          validation_data=[scaler_in.transform(test_in),scaler_out.transform(test_out)])"
   ]
  },
  {
   "cell_type": "code",
   "execution_count": null,
   "metadata": {},
   "outputs": [],
   "source": [
    "out = scaler_out.inverse_transform(modell.predict(scaler_in.transform(test_in)))\n",
    "AE_predict = pd.DataFrame(out)\n",
    "AE_predict.columns = [\"ITS_ae\", \"TOF_ae\", \"TPCROC0_ae\", \"TPCROC1_ae\", \"TPCROC2_ae\", \"TRD_ae\"]\n",
    "#test = test.reset_index()\n",
    "df_test = pd.concat([test,AE_predict], axis = 1)\n",
    "df_test.head(3)"
   ]
  },
  {
   "cell_type": "code",
   "execution_count": null,
   "metadata": {},
   "outputs": [],
   "source": [
    "plt.hist2d(df_all[\"p\"], df_all[\"TPCROC1\"], bins=(100, 100), cmap=plt.cm.jet, range = [[0.2, 2], [0.5, 3]])\n",
    "plt.show()\n",
    "plt.hist2d(df_test[\"p\"], df_test[\"TPCROC1_ae\"], bins=(100, 100), cmap=plt.cm.jet, range = [[0.2, 2], [0.5, 3]])\n",
    "plt.show()"
   ]
  },
  {
   "cell_type": "markdown",
   "metadata": {},
   "source": [
    "# mean input, zero weights for missing values"
   ]
  },
  {
   "cell_type": "code",
   "execution_count": null,
   "metadata": {},
   "outputs": [],
   "source": [
    "train_mr = train[[\"ITS_mr\", \"TOF_mr\", \"TPCROC0_mr\", \"TPCROC1_mr\", \"TPCROC2_mr\", \"TRD_mr\"]]\n",
    "test_mr = test[[\"ITS_mr\", \"TOF_mr\", \"TPCROC0_mr\", \"TPCROC1_mr\", \"TPCROC2_mr\", \"TRD_mr\"]]\n",
    "train_w    = train[[\"ITS_w\", \"TOF_w\", \"TPCROC0_w\", \"TPCROC1_w\", \"TPCROC2_w\", \"TRD_w\"]]\n",
    "test_w     = test[[\"ITS_w\", \"TOF_w\", \"TPCROC0_w\", \"TPCROC1_w\", \"TPCROC2_w\", \"TRD_w\"]]"
   ]
  },
  {
   "cell_type": "code",
   "execution_count": null,
   "metadata": {},
   "outputs": [],
   "source": [
    "scaler_mr = StandardScaler()\n",
    "scaler_mr.fit(train_mr)"
   ]
  },
  {
   "cell_type": "code",
   "execution_count": null,
   "metadata": {},
   "outputs": [],
   "source": [
    "model1.fit([scaler_mr.transform(train_mr),train_w], scaler_mr.transform(train_mr), epochs=5, batch_size=32, \n",
    "          validation_data=[[scaler_mr.transform(test_mr),train_w],scaler_mr.transform(test_mr)])"
   ]
  },
  {
   "cell_type": "code",
   "execution_count": null,
   "metadata": {},
   "outputs": [],
   "source": [
    "out = scaler_mr.inverse_transform(model1.predict([scaler_mr.transform(test_mr),test_w]))\n",
    "AE_predict = pd.DataFrame(out)\n",
    "AE_predict.columns = [\"ITS_ae\", \"TOF_ae\", \"TPCROC0_ae\", \"TPCROC1_ae\", \"TPCROC2_ae\", \"TRD_ae\"]\n",
    "#test = test.reset_index()\n",
    "df_test = pd.concat([test,AE_predict], axis = 1)\n",
    "df_test.head(3)"
   ]
  },
  {
   "cell_type": "code",
   "execution_count": null,
   "metadata": {},
   "outputs": [],
   "source": [
    "plt.hist2d(df_all[\"p\"], df_all[\"TPCROC1\"], bins=(100, 100), cmap=plt.cm.jet, range = [[0.2, 2], [0.5, 3]])\n",
    "plt.show()\n",
    "plt.hist2d(df_test[\"p\"], df_test[\"TPCROC1_ae\"], bins=(100, 100), cmap=plt.cm.jet, range = [[0.2, 2], [0.5, 3]])\n",
    "plt.show()"
   ]
  },
  {
   "cell_type": "markdown",
   "metadata": {},
   "source": [
    "# second iteration, replace missing values by values from first iteration"
   ]
  },
  {
   "cell_type": "code",
   "execution_count": null,
   "metadata": {},
   "outputs": [],
   "source": [
    "# stage 2\n",
    "stage2_data = df_stage_2[[\"ITS_mr\", \"TOF_mr\", \"TPCROC0_mr\", \"TPCROC1_mr\", \"TPCROC2_mr\", \"TRD_mr\"]]\n",
    "out = scaler_mr.inverse_transform(models2.predict(scaler_mr.transform(stage2_data)))\n",
    "AE_predict = pd.DataFrame(out)\n",
    "AE_predict.columns = [\"ITS_ae\", \"TOF_ae\", \"TPCROC0_ae\", \"TPCROC1_ae\", \"TPCROC2_ae\", \"TRD_ae\"]\n",
    "for i ,name in enumerate(['ITS','TOF','TPCROC0','TPCROC1','TPCROC2','TRD']):\n",
    "    # calculate \"flip= 0/1\"\n",
    "    f=(np.array(df_stage_2['flips'])>>i)&1\n",
    "    m=AE_predict[name+'_ae']\n",
    "    df_stage_2.loc[:,name+'_s2']= df_stage_2[name].multiply(f,axis='index')+m*(1-f)"
   ]
  },
  {
   "cell_type": "code",
   "execution_count": null,
   "metadata": {},
   "outputs": [],
   "source": [
    "train, test =train_test_split(df_stage_2, test_size=0.5)\n",
    "train_s2 = train[[\"ITS_s2\", \"TOF_s2\", \"TPCROC0_s2\", \"TPCROC1_s2\", \"TPCROC2_s2\", \"TRD_s2\"]]\n",
    "test_s2 = test[[\"ITS_s2\", \"TOF_s2\", \"TPCROC0_s2\", \"TPCROC1_s2\", \"TPCROC2_s2\", \"TRD_s2\"]]"
   ]
  },
  {
   "cell_type": "code",
   "execution_count": null,
   "metadata": {},
   "outputs": [],
   "source": [
    "scaler_s2 = StandardScaler()\n",
    "scaler_s2.fit(train_s2)\n",
    "models2.fit(scaler_s2.transform(train_s2), scaler_s2.transform(train_s2), epochs=5, batch_size=32, \n",
    "          validation_data=[scaler_s2.transform(test_s2),scaler_s2.transform(test_s2)])"
   ]
  },
  {
   "cell_type": "code",
   "execution_count": null,
   "metadata": {},
   "outputs": [],
   "source": [
    "out = scaler_s2.inverse_transform(models2.predict(scaler_s2.transform(test_s2)))\n",
    "AE_predict = pd.DataFrame(out)\n",
    "AE_predict.columns = [\"ITS_ae\", \"TOF_ae\", \"TPCROC0_ae\", \"TPCROC1_ae\", \"TPCROC2_ae\", \"TRD_ae\"]\n",
    "test = test.reset_index()\n",
    "df_test = pd.concat([test,AE_predict], axis = 1)\n",
    "df_test.head(3)"
   ]
  },
  {
   "cell_type": "code",
   "execution_count": null,
   "metadata": {},
   "outputs": [],
   "source": [
    "plt.hist2d(df_all[\"p\"], df_all[\"TPCROC1\"], bins=(100, 100), cmap=plt.cm.jet, range = [[0.2, 2], [0.5, 3]])\n",
    "plt.show()\n",
    "plt.hist2d(df_test[\"p\"], df_test[\"TPCROC1_ae\"], bins=(100, 100), cmap=plt.cm.jet, range = [[0.2, 2], [0.5, 3]])\n",
    "plt.show()"
   ]
  },
  {
   "cell_type": "code",
   "execution_count": null,
   "metadata": {},
   "outputs": [],
   "source": []
  }
 ],
 "metadata": {
  "kernelspec": {
   "display_name": "Python 3",
   "language": "python",
   "name": "python3"
  },
  "language_info": {
   "codemirror_mode": {
    "name": "ipython",
    "version": 2
   },
   "file_extension": ".py",
   "mimetype": "text/x-python",
   "name": "python",
   "nbconvert_exporter": "python",
   "pygments_lexer": "ipython2",
   "version": "2.7.12"
  }
 },
 "nbformat": 4,
 "nbformat_minor": 2
}
