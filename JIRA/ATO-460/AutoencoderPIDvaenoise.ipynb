{
 "cells": [
  {
   "cell_type": "code",
   "execution_count": 1,
   "metadata": {},
   "outputs": [
    {
     "name": "stdout",
     "output_type": "stream",
     "text": [
      "Welcome to JupyROOT 6.10/08\n"
     ]
    }
   ],
   "source": [
    "import ROOT\n",
    "import numpy as np\n",
    "import matplotlib.pyplot as plt\n",
    "import math\n",
    "import pandas as pd\n",
    "from sklearn.model_selection import train_test_split\n",
    "from sklearn.preprocessing import StandardScaler\n",
    "from tensorflow.keras.models import Sequential, Model\n",
    "from tensorflow.keras.layers import Dense, Input, GaussianNoise, Lambda, multiply\n",
    "import tensorflow.keras.backend as K\n",
    "import tensorflow as tf\n",
    "from functools import partial"
   ]
  },
  {
   "cell_type": "code",
   "execution_count": 2,
   "metadata": {},
   "outputs": [],
   "source": [
    "n_particles = 10000/2\n",
    "p = np.random.uniform(0.3,10.,n_particles)\n",
    "mp = np.random.uniform(1/10.,1/0.3,n_particles)\n",
    "p_mp = 1./mp "
   ]
  },
  {
   "cell_type": "code",
   "execution_count": 3,
   "metadata": {},
   "outputs": [
    {
     "data": {
      "image/png": "[encoded data removed]",
      "text/plain": [
       "<Figure size 432x288 with 1 Axes>"
      ]
     },
     "metadata": {
      "needs_background": "light"
     },
     "output_type": "display_data"
    },
    {
     "data": {
      "image/png": "[encoded data removed]",
      "text/plain": [
       "<Figure size 432x288 with 1 Axes>"
      ]
     },
     "metadata": {
      "needs_background": "light"
     },
     "output_type": "display_data"
    }
   ],
   "source": [
    "plt.hist(p_mp,50,range=(0.,10.))\n",
    "plt.show()\n",
    "p_ges = np.concatenate([p,p_mp])\n",
    "plt.hist(p_ges,50,range=(0,10))\n",
    "plt.show()"
   ]
  },
  {
   "cell_type": "code",
   "execution_count": 4,
   "metadata": {},
   "outputs": [
    {
     "data": {
      "text/plain": [
       "[0.139, 0.105, 0.000511, 0.938, 0.494]"
      ]
     },
     "execution_count": 4,
     "metadata": {},
     "output_type": "execute_result"
    }
   ],
   "source": [
    "mass_pi = 0.139\n",
    "mass_mu = 0.105\n",
    "mass_e = 0.000511\n",
    "mass_p = 0.938\n",
    "mass_K = 0.494\n",
    "masses = [mass_pi, mass_mu, mass_e, mass_p, mass_K]\n",
    "masses"
   ]
  },
  {
   "cell_type": "code",
   "execution_count": 5,
   "metadata": {},
   "outputs": [],
   "source": [
    "signals = []\n",
    "for mass in masses:\n",
    "    ITS_tmp = []\n",
    "    TPCROC0_tmp = []\n",
    "    TPCROC1_tmp = []\n",
    "    TPCROC2_tmp = []\n",
    "    TRD_tmp = []\n",
    "    TOF_tmp = []\n",
    "    for p in p_ges:\n",
    "        bg = p/mass\n",
    "        beta = bg/math.sqrt(1.+ bg*bg);\n",
    "        BBS = ROOT.AliExternalTrackParam.BetheBlochSolid(bg)\n",
    "        BBA = ROOT.AliExternalTrackParam.BetheBlochAleph(bg)\n",
    "        ITS_tmp.append(np.random.normal(BBS,0.1*BBS) ) ## ITS dEdx = smeared gaus 10% \n",
    "        TPCROC0_tmp.append(np.random.normal(BBA,0.1*BBA) )## TPC dEdx = smeared gaus 10% for 1st layer\n",
    "        TPCROC1_tmp.append(np.random.normal(BBA,0.1*BBA) )  ## TPC dEdx = smeared gaus 10% for 2nd layer\n",
    "        TPCROC2_tmp.append(np.random.normal(BBA,0.1*BBA) )  ## TPC dEdx = smeared gaus 10% for 3d layer\n",
    "        TRD_tmp.append(np.random.normal(BBA,0.1*BBA) )  ## TRD dEdx = smeared gaus 10% \n",
    "        TOF_tmp.append(np.random.normal(beta,0.1*beta) )  ## TOF - smeared with .... gaussian\n",
    "    signals.append({'ITS': ITS_tmp, 'TPCROC0': TPCROC0_tmp, 'TPCROC1': TPCROC1_tmp, 'TPCROC1': TPCROC1_tmp, \n",
    "                    'TPCROC2': TPCROC2_tmp, 'TRD': TRD_tmp, 'TOF': TOF_tmp})"
   ]
  },
  {
   "cell_type": "code",
   "execution_count": 6,
   "metadata": {},
   "outputs": [
    {
     "data": {
      "text/plain": [
       "[]"
      ]
     },
     "execution_count": 6,
     "metadata": {},
     "output_type": "execute_result"
    },
    {
     "data": {
      "image/png": "[encoded data removed]",
      "text/plain": [
       "<Figure size 432x288 with 1 Axes>"
      ]
     },
     "metadata": {
      "needs_background": "light"
     },
     "output_type": "display_data"
    }
   ],
   "source": [
    "df_list=[]\n",
    "for i, val in enumerate(masses):\n",
    "    df = pd.DataFrame.from_dict(signals[i])\n",
    "    df['p'] = pd.Series(p_ges, index=df.index)\n",
    "    df['particle'] = pd.Series(i, index=df.index)\n",
    "    df_list.append(df)\n",
    "df_all = pd.concat([df_list[0],df_list[2],df_list[3],df_list[4]], ignore_index=True)\n",
    "plt.hist2d(df_all[\"p\"], df_all[\"TPCROC1\"], bins=(100, 100), cmap=plt.cm.jet, range = [[0.2, 2], [0.5, 3]])\n",
    "plt.plot()"
   ]
  },
  {
   "cell_type": "code",
   "execution_count": 7,
   "metadata": {},
   "outputs": [
    {
     "data": {
      "text/html": [
       "<div>\n",
       "<style scoped>\n",
       "    .dataframe tbody tr th:only-of-type {\n",
       "        vertical-align: middle;\n",
       "    }\n",
       "\n",
       "    .dataframe tbody tr th {\n",
       "        vertical-align: top;\n",
       "    }\n",
       "\n",
       "    .dataframe thead th {\n",
       "        text-align: right;\n",
       "    }\n",
       "</style>\n",
       "<table border=\"1\" class=\"dataframe\">\n",
       "  <thead>\n",
       "    <tr style=\"text-align: right;\">\n",
       "      <th></th>\n",
       "      <th>ITS</th>\n",
       "      <th>TOF</th>\n",
       "      <th>TPCROC0</th>\n",
       "      <th>TPCROC1</th>\n",
       "      <th>TPCROC2</th>\n",
       "      <th>TRD</th>\n",
       "      <th>p</th>\n",
       "      <th>particle</th>\n",
       "      <th>flips</th>\n",
       "    </tr>\n",
       "  </thead>\n",
       "  <tbody>\n",
       "    <tr>\n",
       "      <th>0</th>\n",
       "      <td>0.001978</td>\n",
       "      <td>1.072818</td>\n",
       "      <td>1.095227</td>\n",
       "      <td>1.295762</td>\n",
       "      <td>1.163034</td>\n",
       "      <td>1.070659</td>\n",
       "      <td>2.750534</td>\n",
       "      <td>0</td>\n",
       "      <td>63</td>\n",
       "    </tr>\n",
       "    <tr>\n",
       "      <th>1</th>\n",
       "      <td>0.001587</td>\n",
       "      <td>0.965093</td>\n",
       "      <td>1.126623</td>\n",
       "      <td>1.165796</td>\n",
       "      <td>1.023420</td>\n",
       "      <td>1.017493</td>\n",
       "      <td>1.018593</td>\n",
       "      <td>0</td>\n",
       "      <td>61</td>\n",
       "    </tr>\n",
       "    <tr>\n",
       "      <th>2</th>\n",
       "      <td>0.001573</td>\n",
       "      <td>0.957367</td>\n",
       "      <td>1.095358</td>\n",
       "      <td>1.146877</td>\n",
       "      <td>1.163341</td>\n",
       "      <td>1.082987</td>\n",
       "      <td>2.581321</td>\n",
       "      <td>0</td>\n",
       "      <td>63</td>\n",
       "    </tr>\n",
       "    <tr>\n",
       "      <th>3</th>\n",
       "      <td>0.002145</td>\n",
       "      <td>0.967461</td>\n",
       "      <td>0.986878</td>\n",
       "      <td>1.035375</td>\n",
       "      <td>1.096468</td>\n",
       "      <td>1.103041</td>\n",
       "      <td>1.486933</td>\n",
       "      <td>0</td>\n",
       "      <td>63</td>\n",
       "    </tr>\n",
       "    <tr>\n",
       "      <th>4</th>\n",
       "      <td>0.002019</td>\n",
       "      <td>0.933493</td>\n",
       "      <td>1.297682</td>\n",
       "      <td>1.160793</td>\n",
       "      <td>1.279546</td>\n",
       "      <td>1.293694</td>\n",
       "      <td>4.786379</td>\n",
       "      <td>0</td>\n",
       "      <td>63</td>\n",
       "    </tr>\n",
       "  </tbody>\n",
       "</table>\n",
       "</div>"
      ],
      "text/plain": [
       "        ITS       TOF   TPCROC0   TPCROC1   TPCROC2       TRD         p  \\\n",
       "0  0.001978  1.072818  1.095227  1.295762  1.163034  1.070659  2.750534   \n",
       "1  0.001587  0.965093  1.126623  1.165796  1.023420  1.017493  1.018593   \n",
       "2  0.001573  0.957367  1.095358  1.146877  1.163341  1.082987  2.581321   \n",
       "3  0.002145  0.967461  0.986878  1.035375  1.096468  1.103041  1.486933   \n",
       "4  0.002019  0.933493  1.297682  1.160793  1.279546  1.293694  4.786379   \n",
       "\n",
       "   particle  flips  \n",
       "0         0     63  \n",
       "1         0     61  \n",
       "2         0     63  \n",
       "3         0     63  \n",
       "4         0     63  "
      ]
     },
     "execution_count": 7,
     "metadata": {},
     "output_type": "execute_result"
    }
   ],
   "source": [
    "N=len(df_all)\n",
    "probabilty = 0.95\n",
    "\n",
    "flips_raw = (1*(np.random.random(size=6*N)<probabilty)).reshape(6,-1)\n",
    "\n",
    "flips=flips_raw[0]\n",
    "for i in range(1,6):\n",
    "    # (1<<i = 2**i)\n",
    "    flips=flips_raw[i]*(1<<i) + flips\n",
    "\n",
    "\n",
    "df_all.loc[:,'flips']=flips\n",
    "df_all.head(5)"
   ]
  },
  {
   "cell_type": "code",
   "execution_count": 8,
   "metadata": {},
   "outputs": [
    {
     "data": {
      "text/html": [
       "<div>\n",
       "<style scoped>\n",
       "    .dataframe tbody tr th:only-of-type {\n",
       "        vertical-align: middle;\n",
       "    }\n",
       "\n",
       "    .dataframe tbody tr th {\n",
       "        vertical-align: top;\n",
       "    }\n",
       "\n",
       "    .dataframe thead th {\n",
       "        text-align: right;\n",
       "    }\n",
       "</style>\n",
       "<table border=\"1\" class=\"dataframe\">\n",
       "  <thead>\n",
       "    <tr style=\"text-align: right;\">\n",
       "      <th></th>\n",
       "      <th>ITS</th>\n",
       "      <th>TOF</th>\n",
       "      <th>TPCROC0</th>\n",
       "      <th>TPCROC1</th>\n",
       "      <th>TPCROC2</th>\n",
       "      <th>TRD</th>\n",
       "      <th>p</th>\n",
       "      <th>particle</th>\n",
       "      <th>flips</th>\n",
       "      <th>ITS_mr</th>\n",
       "      <th>...</th>\n",
       "      <th>TPCROC0_0</th>\n",
       "      <th>TPCROC1_mr</th>\n",
       "      <th>TPCROC1_w</th>\n",
       "      <th>TPCROC1_0</th>\n",
       "      <th>TPCROC2_mr</th>\n",
       "      <th>TPCROC2_w</th>\n",
       "      <th>TPCROC2_0</th>\n",
       "      <th>TRD_mr</th>\n",
       "      <th>TRD_w</th>\n",
       "      <th>TRD_0</th>\n",
       "    </tr>\n",
       "  </thead>\n",
       "  <tbody>\n",
       "    <tr>\n",
       "      <th>0</th>\n",
       "      <td>0.001978</td>\n",
       "      <td>1.072818</td>\n",
       "      <td>1.095227</td>\n",
       "      <td>1.295762</td>\n",
       "      <td>1.163034</td>\n",
       "      <td>1.070659</td>\n",
       "      <td>2.750534</td>\n",
       "      <td>0</td>\n",
       "      <td>63</td>\n",
       "      <td>0.001978</td>\n",
       "      <td>...</td>\n",
       "      <td>1.095227</td>\n",
       "      <td>1.295762</td>\n",
       "      <td>1.0</td>\n",
       "      <td>1.295762</td>\n",
       "      <td>1.163034</td>\n",
       "      <td>1.0</td>\n",
       "      <td>1.163034</td>\n",
       "      <td>1.070659</td>\n",
       "      <td>1.0</td>\n",
       "      <td>1.070659</td>\n",
       "    </tr>\n",
       "    <tr>\n",
       "      <th>1</th>\n",
       "      <td>0.001587</td>\n",
       "      <td>0.965093</td>\n",
       "      <td>1.126623</td>\n",
       "      <td>1.165796</td>\n",
       "      <td>1.023420</td>\n",
       "      <td>1.017493</td>\n",
       "      <td>1.018593</td>\n",
       "      <td>0</td>\n",
       "      <td>61</td>\n",
       "      <td>0.001587</td>\n",
       "      <td>...</td>\n",
       "      <td>1.126623</td>\n",
       "      <td>1.165796</td>\n",
       "      <td>1.0</td>\n",
       "      <td>1.165796</td>\n",
       "      <td>1.023420</td>\n",
       "      <td>1.0</td>\n",
       "      <td>1.023420</td>\n",
       "      <td>1.017493</td>\n",
       "      <td>1.0</td>\n",
       "      <td>1.017493</td>\n",
       "    </tr>\n",
       "    <tr>\n",
       "      <th>2</th>\n",
       "      <td>0.001573</td>\n",
       "      <td>0.957367</td>\n",
       "      <td>1.095358</td>\n",
       "      <td>1.146877</td>\n",
       "      <td>1.163341</td>\n",
       "      <td>1.082987</td>\n",
       "      <td>2.581321</td>\n",
       "      <td>0</td>\n",
       "      <td>63</td>\n",
       "      <td>0.001573</td>\n",
       "      <td>...</td>\n",
       "      <td>1.095358</td>\n",
       "      <td>1.146877</td>\n",
       "      <td>1.0</td>\n",
       "      <td>1.146877</td>\n",
       "      <td>1.163341</td>\n",
       "      <td>1.0</td>\n",
       "      <td>1.163341</td>\n",
       "      <td>1.082987</td>\n",
       "      <td>1.0</td>\n",
       "      <td>1.082987</td>\n",
       "    </tr>\n",
       "    <tr>\n",
       "      <th>3</th>\n",
       "      <td>0.002145</td>\n",
       "      <td>0.967461</td>\n",
       "      <td>0.986878</td>\n",
       "      <td>1.035375</td>\n",
       "      <td>1.096468</td>\n",
       "      <td>1.103041</td>\n",
       "      <td>1.486933</td>\n",
       "      <td>0</td>\n",
       "      <td>63</td>\n",
       "      <td>0.002145</td>\n",
       "      <td>...</td>\n",
       "      <td>0.986878</td>\n",
       "      <td>1.035375</td>\n",
       "      <td>1.0</td>\n",
       "      <td>1.035375</td>\n",
       "      <td>1.096468</td>\n",
       "      <td>1.0</td>\n",
       "      <td>1.096468</td>\n",
       "      <td>1.103041</td>\n",
       "      <td>1.0</td>\n",
       "      <td>1.103041</td>\n",
       "    </tr>\n",
       "    <tr>\n",
       "      <th>4</th>\n",
       "      <td>0.002019</td>\n",
       "      <td>0.933493</td>\n",
       "      <td>1.297682</td>\n",
       "      <td>1.160793</td>\n",
       "      <td>1.279546</td>\n",
       "      <td>1.293694</td>\n",
       "      <td>4.786379</td>\n",
       "      <td>0</td>\n",
       "      <td>63</td>\n",
       "      <td>0.002019</td>\n",
       "      <td>...</td>\n",
       "      <td>1.297682</td>\n",
       "      <td>1.160793</td>\n",
       "      <td>1.0</td>\n",
       "      <td>1.160793</td>\n",
       "      <td>1.279546</td>\n",
       "      <td>1.0</td>\n",
       "      <td>1.279546</td>\n",
       "      <td>1.293694</td>\n",
       "      <td>1.0</td>\n",
       "      <td>1.293694</td>\n",
       "    </tr>\n",
       "    <tr>\n",
       "      <th>5</th>\n",
       "      <td>0.001878</td>\n",
       "      <td>0.962286</td>\n",
       "      <td>1.198575</td>\n",
       "      <td>1.392793</td>\n",
       "      <td>1.153466</td>\n",
       "      <td>1.088185</td>\n",
       "      <td>2.830092</td>\n",
       "      <td>0</td>\n",
       "      <td>63</td>\n",
       "      <td>0.001878</td>\n",
       "      <td>...</td>\n",
       "      <td>1.198575</td>\n",
       "      <td>1.392793</td>\n",
       "      <td>1.0</td>\n",
       "      <td>1.392793</td>\n",
       "      <td>1.153466</td>\n",
       "      <td>1.0</td>\n",
       "      <td>1.153466</td>\n",
       "      <td>1.088185</td>\n",
       "      <td>1.0</td>\n",
       "      <td>1.088185</td>\n",
       "    </tr>\n",
       "    <tr>\n",
       "      <th>6</th>\n",
       "      <td>0.002256</td>\n",
       "      <td>0.983955</td>\n",
       "      <td>1.292573</td>\n",
       "      <td>1.393740</td>\n",
       "      <td>1.460910</td>\n",
       "      <td>1.431454</td>\n",
       "      <td>9.526142</td>\n",
       "      <td>0</td>\n",
       "      <td>63</td>\n",
       "      <td>0.002256</td>\n",
       "      <td>...</td>\n",
       "      <td>1.292573</td>\n",
       "      <td>1.393740</td>\n",
       "      <td>1.0</td>\n",
       "      <td>1.393740</td>\n",
       "      <td>1.460910</td>\n",
       "      <td>1.0</td>\n",
       "      <td>1.460910</td>\n",
       "      <td>1.431454</td>\n",
       "      <td>1.0</td>\n",
       "      <td>1.431454</td>\n",
       "    </tr>\n",
       "    <tr>\n",
       "      <th>7</th>\n",
       "      <td>0.001915</td>\n",
       "      <td>0.929671</td>\n",
       "      <td>1.046223</td>\n",
       "      <td>1.391327</td>\n",
       "      <td>1.321903</td>\n",
       "      <td>1.273534</td>\n",
       "      <td>9.082062</td>\n",
       "      <td>0</td>\n",
       "      <td>63</td>\n",
       "      <td>0.001915</td>\n",
       "      <td>...</td>\n",
       "      <td>1.046223</td>\n",
       "      <td>1.391327</td>\n",
       "      <td>1.0</td>\n",
       "      <td>1.391327</td>\n",
       "      <td>1.321903</td>\n",
       "      <td>1.0</td>\n",
       "      <td>1.321903</td>\n",
       "      <td>1.273534</td>\n",
       "      <td>1.0</td>\n",
       "      <td>1.273534</td>\n",
       "    </tr>\n",
       "    <tr>\n",
       "      <th>8</th>\n",
       "      <td>0.002114</td>\n",
       "      <td>1.174693</td>\n",
       "      <td>1.021354</td>\n",
       "      <td>0.971542</td>\n",
       "      <td>0.982291</td>\n",
       "      <td>1.141238</td>\n",
       "      <td>0.528347</td>\n",
       "      <td>0</td>\n",
       "      <td>63</td>\n",
       "      <td>0.002114</td>\n",
       "      <td>...</td>\n",
       "      <td>1.021354</td>\n",
       "      <td>0.971542</td>\n",
       "      <td>1.0</td>\n",
       "      <td>0.971542</td>\n",
       "      <td>0.982291</td>\n",
       "      <td>1.0</td>\n",
       "      <td>0.982291</td>\n",
       "      <td>1.141238</td>\n",
       "      <td>1.0</td>\n",
       "      <td>1.141238</td>\n",
       "    </tr>\n",
       "    <tr>\n",
       "      <th>9</th>\n",
       "      <td>0.001621</td>\n",
       "      <td>0.970758</td>\n",
       "      <td>1.276803</td>\n",
       "      <td>1.050881</td>\n",
       "      <td>1.514249</td>\n",
       "      <td>1.220042</td>\n",
       "      <td>2.923881</td>\n",
       "      <td>0</td>\n",
       "      <td>63</td>\n",
       "      <td>0.001621</td>\n",
       "      <td>...</td>\n",
       "      <td>1.276803</td>\n",
       "      <td>1.050881</td>\n",
       "      <td>1.0</td>\n",
       "      <td>1.050881</td>\n",
       "      <td>1.514249</td>\n",
       "      <td>1.0</td>\n",
       "      <td>1.514249</td>\n",
       "      <td>1.220042</td>\n",
       "      <td>1.0</td>\n",
       "      <td>1.220042</td>\n",
       "    </tr>\n",
       "  </tbody>\n",
       "</table>\n",
       "<p>10 rows × 27 columns</p>\n",
       "</div>"
      ],
      "text/plain": [
       "        ITS       TOF   TPCROC0   TPCROC1   TPCROC2       TRD         p  \\\n",
       "0  0.001978  1.072818  1.095227  1.295762  1.163034  1.070659  2.750534   \n",
       "1  0.001587  0.965093  1.126623  1.165796  1.023420  1.017493  1.018593   \n",
       "2  0.001573  0.957367  1.095358  1.146877  1.163341  1.082987  2.581321   \n",
       "3  0.002145  0.967461  0.986878  1.035375  1.096468  1.103041  1.486933   \n",
       "4  0.002019  0.933493  1.297682  1.160793  1.279546  1.293694  4.786379   \n",
       "5  0.001878  0.962286  1.198575  1.392793  1.153466  1.088185  2.830092   \n",
       "6  0.002256  0.983955  1.292573  1.393740  1.460910  1.431454  9.526142   \n",
       "7  0.001915  0.929671  1.046223  1.391327  1.321903  1.273534  9.082062   \n",
       "8  0.002114  1.174693  1.021354  0.971542  0.982291  1.141238  0.528347   \n",
       "9  0.001621  0.970758  1.276803  1.050881  1.514249  1.220042  2.923881   \n",
       "\n",
       "   particle  flips    ITS_mr    ...     TPCROC0_0  TPCROC1_mr  TPCROC1_w  \\\n",
       "0         0     63  0.001978    ...      1.095227    1.295762        1.0   \n",
       "1         0     61  0.001587    ...      1.126623    1.165796        1.0   \n",
       "2         0     63  0.001573    ...      1.095358    1.146877        1.0   \n",
       "3         0     63  0.002145    ...      0.986878    1.035375        1.0   \n",
       "4         0     63  0.002019    ...      1.297682    1.160793        1.0   \n",
       "5         0     63  0.001878    ...      1.198575    1.392793        1.0   \n",
       "6         0     63  0.002256    ...      1.292573    1.393740        1.0   \n",
       "7         0     63  0.001915    ...      1.046223    1.391327        1.0   \n",
       "8         0     63  0.002114    ...      1.021354    0.971542        1.0   \n",
       "9         0     63  0.001621    ...      1.276803    1.050881        1.0   \n",
       "\n",
       "   TPCROC1_0  TPCROC2_mr  TPCROC2_w  TPCROC2_0    TRD_mr  TRD_w     TRD_0  \n",
       "0   1.295762    1.163034        1.0   1.163034  1.070659    1.0  1.070659  \n",
       "1   1.165796    1.023420        1.0   1.023420  1.017493    1.0  1.017493  \n",
       "2   1.146877    1.163341        1.0   1.163341  1.082987    1.0  1.082987  \n",
       "3   1.035375    1.096468        1.0   1.096468  1.103041    1.0  1.103041  \n",
       "4   1.160793    1.279546        1.0   1.279546  1.293694    1.0  1.293694  \n",
       "5   1.392793    1.153466        1.0   1.153466  1.088185    1.0  1.088185  \n",
       "6   1.393740    1.460910        1.0   1.460910  1.431454    1.0  1.431454  \n",
       "7   1.391327    1.321903        1.0   1.321903  1.273534    1.0  1.273534  \n",
       "8   0.971542    0.982291        1.0   0.982291  1.141238    1.0  1.141238  \n",
       "9   1.050881    1.514249        1.0   1.514249  1.220042    1.0  1.220042  \n",
       "\n",
       "[10 rows x 27 columns]"
      ]
     },
     "execution_count": 8,
     "metadata": {},
     "output_type": "execute_result"
    }
   ],
   "source": [
    "# prepare \"flips-Data\" and weights\n",
    "for i ,name in enumerate(['ITS','TOF','TPCROC0','TPCROC1','TPCROC2','TRD']):\n",
    "    # calculate \"flip= 0/1\"\n",
    "    f=(np.array(df_all['flips'])>>i)&1\n",
    "    # if f=0 substitute value by mean\n",
    "    m=df_all[name].mean()\n",
    "    df_all.loc[:,name+'_mr']= df_all[name].multiply(f,axis='index')+m*(1-f) #mean replaced\n",
    "    df_all.loc[:,name+'_w']=1.0*f #weight\n",
    "    df_all.loc[:,name+'_0']= df_all[name].multiply(f,axis='index') #zeros\n",
    "    \n",
    "# generate data for stage 2\n",
    "df_stage_2=df_all.copy()\n",
    "df_stage_3=df_all.copy()\n",
    "df_all[df_all['particle']==0].head(10)"
   ]
  },
  {
   "cell_type": "code",
   "execution_count": 9,
   "metadata": {},
   "outputs": [],
   "source": [
    "train, test =train_test_split(df_all, test_size=0.5)"
   ]
  },
  {
   "cell_type": "markdown",
   "metadata": {},
   "source": [
    "# Create autoencoders"
   ]
  },
  {
   "cell_type": "code",
   "execution_count": 10,
   "metadata": {},
   "outputs": [],
   "source": [
    "def custom_loss(y_true, y_pred,weights):\n",
    "    return K.sum(K.square((y_true - y_pred)*weights),axis=1)\n",
    "\n",
    "def sample_z(args):\n",
    "    mean,ln_var = args\n",
    "    eps        = K.random_normal(shape=(2,),mean=0., stddev=1.0)\n",
    "    return     mean+K.exp(ln_var/2)*eps\n",
    "\n",
    "\n",
    "inputs = Input(shape=(6,))\n",
    "inputw = Input(shape=(6,))\n",
    "noise = GaussianNoise(0.2)(inputs)\n",
    "enc1   = Dense(units=64, activation='selu')(noise)\n",
    "enc2   = Dense(units=64, activation='selu')(enc1)\n",
    "enc3   = Dense(units=64, activation='selu')(enc2)\n",
    "enc4   = Dense(units=64, activation='selu')(enc3)\n",
    "\n",
    "mean   = Dense(units=2 , activation='linear')(enc4)\n",
    "ln_var = Dense(units=2 , activation='linear')(enc4)\n",
    "\n",
    "z      = Lambda(sample_z)([mean,ln_var])\n",
    "dec1   = Dense(units=64, activation='selu')(z)\n",
    "dec2   = Dense(units=64, activation='selu')(dec1)\n",
    "dec3   = Dense(units=64, activation='selu')(dec2)\n",
    "dec4   = Dense(units=64, activation='selu')(dec3)\n",
    "outputs= Dense(units=6, activation='linear')(dec4)\n",
    "\n",
    "c_loss = partial(custom_loss, weights=inputw)\n",
    "        \n",
    "modelpt = Model(inputs=inputs,outputs=outputs)\n",
    "models2 = Model(inputs=inputs,outputs=outputs)\n",
    "modell = Model(inputs=inputs,outputs=outputs)\n",
    "model0 = Model(inputs=inputs,outputs=outputs)\n",
    "model1 = Model(inputs=[inputs,inputw],outputs=outputs)\n",
    "\n",
    "\n",
    "def vae_loss(y_true,y_pred):\n",
    "    scaler=10\n",
    "    l1 = K.sum(K.square((y_true - y_pred)),axis=1)*scaler\n",
    "    l2 = 0.5*K.sum(K.exp(ln_var)+K.square(mean)-1. - ln_var,axis=1)\n",
    "    return l1+l2\n",
    "\n",
    "def weighted_vae_loss(y_true,y_pred,weights):\n",
    "    scaler=10\n",
    "    l1 = K.sum(K.square((y_true - y_pred)*weights),axis=1)*scaler\n",
    "    l2 = 0.5*K.sum(K.exp(ln_var)+K.square(mean)-1. - ln_var,axis=1)\n",
    "    return l1+l2\n",
    "\n",
    "w_loss = partial(weighted_vae_loss,weights=inputw)\n",
    "\n",
    "modelpt.compile(loss=vae_loss,\n",
    "              optimizer='adam',\n",
    "              metrics=['mse'])\n",
    "models2.compile(loss=vae_loss,\n",
    "              optimizer='adam',\n",
    "              metrics=['mse'])\n",
    "modell.compile(loss=vae_loss,\n",
    "              optimizer='adam',\n",
    "              metrics=['mse'])\n",
    "model0.compile(loss=vae_loss,\n",
    "              optimizer='adam',\n",
    "              metrics=['mse'])\n",
    "model1.compile(loss=w_loss,\n",
    "              optimizer='adam',\n",
    "              metrics=['mse'])"
   ]
  },
  {
   "cell_type": "code",
   "execution_count": 11,
   "metadata": {},
   "outputs": [
    {
     "name": "stdout",
     "output_type": "stream",
     "text": [
      "__________________________________________________________________________________________________\n",
      "Layer (type)                    Output Shape         Param #     Connected to                     \n",
      "==================================================================================================\n",
      "input_1 (InputLayer)            (None, 6)            0                                            \n",
      "__________________________________________________________________________________________________\n",
      "dense (Dense)                   (None, 64)           448         input_1[0][0]                    \n",
      "__________________________________________________________________________________________________\n",
      "dense_1 (Dense)                 (None, 64)           4160        dense[0][0]                      \n",
      "__________________________________________________________________________________________________\n",
      "dense_2 (Dense)                 (None, 64)           4160        dense_1[0][0]                    \n",
      "__________________________________________________________________________________________________\n",
      "dense_3 (Dense)                 (None, 64)           4160        dense_2[0][0]                    \n",
      "__________________________________________________________________________________________________\n",
      "dense_4 (Dense)                 (None, 2)            130         dense_3[0][0]                    \n",
      "__________________________________________________________________________________________________\n",
      "dense_5 (Dense)                 (None, 2)            130         dense_3[0][0]                    \n",
      "__________________________________________________________________________________________________\n",
      "lambda (Lambda)                 (None, 2)            0           dense_4[0][0]                    \n",
      "                                                                 dense_5[0][0]                    \n",
      "__________________________________________________________________________________________________\n",
      "dense_6 (Dense)                 (None, 64)           192         lambda[0][0]                     \n",
      "__________________________________________________________________________________________________\n",
      "dense_7 (Dense)                 (None, 64)           4160        dense_6[0][0]                    \n",
      "__________________________________________________________________________________________________\n",
      "dense_8 (Dense)                 (None, 64)           4160        dense_7[0][0]                    \n",
      "__________________________________________________________________________________________________\n",
      "dense_9 (Dense)                 (None, 64)           4160        dense_8[0][0]                    \n",
      "__________________________________________________________________________________________________\n",
      "dense_10 (Dense)                (None, 6)            390         dense_9[0][0]                    \n",
      "==================================================================================================\n",
      "Total params: 26,250\n",
      "Trainable params: 26,250\n",
      "Non-trainable params: 0\n",
      "__________________________________________________________________________________________________\n"
     ]
    }
   ],
   "source": [
    "model0.summary()"
   ]
  },
  {
   "cell_type": "markdown",
   "metadata": {},
   "source": [
    "# perfect tracks"
   ]
  },
  {
   "cell_type": "code",
   "execution_count": 12,
   "metadata": {},
   "outputs": [
    {
     "data": {
      "text/plain": [
       "StandardScaler(copy=True, with_mean=True, with_std=True)"
      ]
     },
     "execution_count": 12,
     "metadata": {},
     "output_type": "execute_result"
    }
   ],
   "source": [
    "train_pt = train[[\"ITS\", \"TOF\", \"TPCROC0\", \"TPCROC1\", \"TPCROC2\", \"TRD\"]]\n",
    "test_pt = test[[\"ITS\", \"TOF\", \"TPCROC0\", \"TPCROC1\", \"TPCROC2\", \"TRD\"]]\n",
    "scaler_pt = StandardScaler()\n",
    "scaler_pt.fit( train[[\"ITS\", \"TOF\", \"TPCROC0\", \"TPCROC1\", \"TPCROC2\", \"TRD\"]])"
   ]
  },
  {
   "cell_type": "code",
   "execution_count": 13,
   "metadata": {},
   "outputs": [
    {
     "name": "stdout",
     "output_type": "stream",
     "text": [
      "Train on 20000 samples, validate on 20000 samples\n",
      "Epoch 1/20\n",
      "20000/20000 [==============================] - 8s 402us/step - loss: 23.5019 - mean_squared_error: 0.0982 - val_loss: 13.5032 - val_mean_squared_error: 0.0485\n",
      "Epoch 2/20\n",
      "20000/20000 [==============================] - 6s 283us/step - loss: 13.3558 - mean_squared_error: 0.0478 - val_loss: 13.1023 - val_mean_squared_error: 0.0467\n",
      "Epoch 3/20\n",
      "20000/20000 [==============================] - 6s 286us/step - loss: 12.3902 - mean_squared_error: 0.0436 - val_loss: 13.2151 - val_mean_squared_error: 0.0476\n",
      "Epoch 4/20\n",
      "20000/20000 [==============================] - 6s 296us/step - loss: 12.7916 - mean_squared_error: 0.0454 - val_loss: 12.9473 - val_mean_squared_error: 0.0480\n",
      "Epoch 5/20\n",
      "20000/20000 [==============================] - 6s 301us/step - loss: 12.6093 - mean_squared_error: 0.0445 - val_loss: 12.6686 - val_mean_squared_error: 0.0410\n",
      "Epoch 6/20\n",
      "20000/20000 [==============================] - 6s 299us/step - loss: 12.0390 - mean_squared_error: 0.0417 - val_loss: 11.3932 - val_mean_squared_error: 0.0379\n",
      "Epoch 7/20\n",
      "20000/20000 [==============================] - 6s 304us/step - loss: 12.2003 - mean_squared_error: 0.0423 - val_loss: 11.5003 - val_mean_squared_error: 0.0402\n",
      "Epoch 8/20\n",
      "20000/20000 [==============================] - 6s 301us/step - loss: 11.9685 - mean_squared_error: 0.0419 - val_loss: 11.4842 - val_mean_squared_error: 0.0375\n",
      "Epoch 9/20\n",
      "20000/20000 [==============================] - 6s 299us/step - loss: 12.1132 - mean_squared_error: 0.0423 - val_loss: 11.2291 - val_mean_squared_error: 0.0377\n",
      "Epoch 10/20\n",
      "20000/20000 [==============================] - 6s 300us/step - loss: 11.8125 - mean_squared_error: 0.0411 - val_loss: 11.0288 - val_mean_squared_error: 0.0382\n",
      "Epoch 11/20\n",
      "20000/20000 [==============================] - 6s 297us/step - loss: 11.5826 - mean_squared_error: 0.0403 - val_loss: 11.0050 - val_mean_squared_error: 0.0369\n",
      "Epoch 12/20\n",
      "20000/20000 [==============================] - 6s 300us/step - loss: 11.7130 - mean_squared_error: 0.0403 - val_loss: 11.1835 - val_mean_squared_error: 0.0398\n",
      "Epoch 13/20\n",
      "20000/20000 [==============================] - 6s 297us/step - loss: 11.7050 - mean_squared_error: 0.0410 - val_loss: 11.6205 - val_mean_squared_error: 0.0410\n",
      "Epoch 14/20\n",
      "20000/20000 [==============================] - 9s 464us/step - loss: 11.3369 - mean_squared_error: 0.0390 - val_loss: 11.6742 - val_mean_squared_error: 0.0381\n",
      "Epoch 15/20\n",
      "20000/20000 [==============================] - 13s 652us/step - loss: 11.8527 - mean_squared_error: 0.0417 - val_loss: 13.9858 - val_mean_squared_error: 0.0511\n",
      "Epoch 16/20\n",
      "20000/20000 [==============================] - 6s 294us/step - loss: 11.7662 - mean_squared_error: 0.0408 - val_loss: 10.9359 - val_mean_squared_error: 0.0363\n",
      "Epoch 17/20\n",
      "20000/20000 [==============================] - 6s 319us/step - loss: 11.3057 - mean_squared_error: 0.0390 - val_loss: 11.2750 - val_mean_squared_error: 0.0381\n",
      "Epoch 18/20\n",
      "20000/20000 [==============================] - 6s 287us/step - loss: 11.4308 - mean_squared_error: 0.0393 - val_loss: 11.1217 - val_mean_squared_error: 0.0390\n",
      "Epoch 19/20\n",
      "20000/20000 [==============================] - 6s 287us/step - loss: 11.2958 - mean_squared_error: 0.0395 - val_loss: 11.4543 - val_mean_squared_error: 0.0390\n",
      "Epoch 20/20\n",
      "20000/20000 [==============================] - 6s 289us/step - loss: 11.2408 - mean_squared_error: 0.0389 - val_loss: 10.9743 - val_mean_squared_error: 0.0375\n"
     ]
    },
    {
     "data": {
      "text/plain": [
       "<tensorflow.python.keras.callbacks.History at 0x7f53fb0fd450>"
      ]
     },
     "execution_count": 13,
     "metadata": {},
     "output_type": "execute_result"
    },
    {
     "name": "stderr",
     "output_type": "stream",
     "text": [
      "2019-01-29 16:48:25.047853: I tensorflow/core/platform/cpu_feature_guard.cc:141] Your CPU supports instructions that this TensorFlow binary was not compiled to use: FMA\n"
     ]
    }
   ],
   "source": [
    "modelpt.fit(scaler_pt.transform(train_pt), scaler_pt.transform(train_pt), epochs=20, batch_size=32, \n",
    "          validation_data=[scaler_pt.transform(test_pt),scaler_pt.transform(test_pt)])"
   ]
  },
  {
   "cell_type": "code",
   "execution_count": 14,
   "metadata": {},
   "outputs": [
    {
     "data": {
      "text/html": [
       "<div>\n",
       "<style scoped>\n",
       "    .dataframe tbody tr th:only-of-type {\n",
       "        vertical-align: middle;\n",
       "    }\n",
       "\n",
       "    .dataframe tbody tr th {\n",
       "        vertical-align: top;\n",
       "    }\n",
       "\n",
       "    .dataframe thead th {\n",
       "        text-align: right;\n",
       "    }\n",
       "</style>\n",
       "<table border=\"1\" class=\"dataframe\">\n",
       "  <thead>\n",
       "    <tr style=\"text-align: right;\">\n",
       "      <th></th>\n",
       "      <th>index</th>\n",
       "      <th>ITS</th>\n",
       "      <th>TOF</th>\n",
       "      <th>TPCROC0</th>\n",
       "      <th>TPCROC1</th>\n",
       "      <th>TPCROC2</th>\n",
       "      <th>TRD</th>\n",
       "      <th>p</th>\n",
       "      <th>particle</th>\n",
       "      <th>flips</th>\n",
       "      <th>...</th>\n",
       "      <th>TPCROC2_0</th>\n",
       "      <th>TRD_mr</th>\n",
       "      <th>TRD_w</th>\n",
       "      <th>TRD_0</th>\n",
       "      <th>ITS_ae</th>\n",
       "      <th>TOF_ae</th>\n",
       "      <th>TPCROC0_ae</th>\n",
       "      <th>TPCROC1_ae</th>\n",
       "      <th>TPCROC2_ae</th>\n",
       "      <th>TRD_ae</th>\n",
       "    </tr>\n",
       "  </thead>\n",
       "  <tbody>\n",
       "    <tr>\n",
       "      <th>0</th>\n",
       "      <td>13431</td>\n",
       "      <td>0.003543</td>\n",
       "      <td>1.081237</td>\n",
       "      <td>1.911961</td>\n",
       "      <td>1.790663</td>\n",
       "      <td>1.687408</td>\n",
       "      <td>1.670589</td>\n",
       "      <td>2.777944</td>\n",
       "      <td>2</td>\n",
       "      <td>61</td>\n",
       "      <td>...</td>\n",
       "      <td>1.687408</td>\n",
       "      <td>1.670589</td>\n",
       "      <td>1.0</td>\n",
       "      <td>1.670589</td>\n",
       "      <td>0.003167</td>\n",
       "      <td>1.072162</td>\n",
       "      <td>1.697248</td>\n",
       "      <td>1.704875</td>\n",
       "      <td>1.680327</td>\n",
       "      <td>1.721453</td>\n",
       "    </tr>\n",
       "    <tr>\n",
       "      <th>1</th>\n",
       "      <td>10112</td>\n",
       "      <td>0.002460</td>\n",
       "      <td>1.017606</td>\n",
       "      <td>1.293882</td>\n",
       "      <td>1.557658</td>\n",
       "      <td>1.694549</td>\n",
       "      <td>1.566584</td>\n",
       "      <td>2.215883</td>\n",
       "      <td>2</td>\n",
       "      <td>63</td>\n",
       "      <td>...</td>\n",
       "      <td>1.694549</td>\n",
       "      <td>1.566584</td>\n",
       "      <td>1.0</td>\n",
       "      <td>1.566584</td>\n",
       "      <td>0.002565</td>\n",
       "      <td>1.007734</td>\n",
       "      <td>1.509478</td>\n",
       "      <td>1.526561</td>\n",
       "      <td>1.521739</td>\n",
       "      <td>1.513398</td>\n",
       "    </tr>\n",
       "    <tr>\n",
       "      <th>2</th>\n",
       "      <td>33368</td>\n",
       "      <td>0.001965</td>\n",
       "      <td>1.121008</td>\n",
       "      <td>1.192376</td>\n",
       "      <td>1.097080</td>\n",
       "      <td>1.289789</td>\n",
       "      <td>1.134719</td>\n",
       "      <td>6.662248</td>\n",
       "      <td>4</td>\n",
       "      <td>59</td>\n",
       "      <td>...</td>\n",
       "      <td>1.289789</td>\n",
       "      <td>1.134719</td>\n",
       "      <td>1.0</td>\n",
       "      <td>1.134719</td>\n",
       "      <td>0.001919</td>\n",
       "      <td>1.121126</td>\n",
       "      <td>1.132387</td>\n",
       "      <td>1.150395</td>\n",
       "      <td>1.119922</td>\n",
       "      <td>1.140808</td>\n",
       "    </tr>\n",
       "  </tbody>\n",
       "</table>\n",
       "<p>3 rows × 34 columns</p>\n",
       "</div>"
      ],
      "text/plain": [
       "   index       ITS       TOF   TPCROC0   TPCROC1   TPCROC2       TRD  \\\n",
       "0  13431  0.003543  1.081237  1.911961  1.790663  1.687408  1.670589   \n",
       "1  10112  0.002460  1.017606  1.293882  1.557658  1.694549  1.566584   \n",
       "2  33368  0.001965  1.121008  1.192376  1.097080  1.289789  1.134719   \n",
       "\n",
       "          p  particle  flips    ...     TPCROC2_0    TRD_mr  TRD_w     TRD_0  \\\n",
       "0  2.777944         2     61    ...      1.687408  1.670589    1.0  1.670589   \n",
       "1  2.215883         2     63    ...      1.694549  1.566584    1.0  1.566584   \n",
       "2  6.662248         4     59    ...      1.289789  1.134719    1.0  1.134719   \n",
       "\n",
       "     ITS_ae    TOF_ae  TPCROC0_ae  TPCROC1_ae  TPCROC2_ae    TRD_ae  \n",
       "0  0.003167  1.072162    1.697248    1.704875    1.680327  1.721453  \n",
       "1  0.002565  1.007734    1.509478    1.526561    1.521739  1.513398  \n",
       "2  0.001919  1.121126    1.132387    1.150395    1.119922  1.140808  \n",
       "\n",
       "[3 rows x 34 columns]"
      ]
     },
     "execution_count": 14,
     "metadata": {},
     "output_type": "execute_result"
    }
   ],
   "source": [
    "out = scaler_pt.inverse_transform(modelpt.predict(scaler_pt.transform(test_pt)))\n",
    "AE_predict = pd.DataFrame(out)\n",
    "AE_predict.columns = [\"ITS_ae\", \"TOF_ae\", \"TPCROC0_ae\", \"TPCROC1_ae\", \"TPCROC2_ae\", \"TRD_ae\"]\n",
    "test = test.reset_index()\n",
    "df_test = pd.concat([test,AE_predict], axis = 1)\n",
    "df_test.head(3)"
   ]
  },
  {
   "cell_type": "code",
   "execution_count": 15,
   "metadata": {},
   "outputs": [
    {
     "data": {
      "image/png": "[encoded data removed]",
      "text/plain": [
       "<Figure size 432x288 with 1 Axes>"
      ]
     },
     "metadata": {
      "needs_background": "light"
     },
     "output_type": "display_data"
    },
    {
     "data": {
      "image/png": "[encoded data removed]",
      "text/plain": [
       "<Figure size 432x288 with 1 Axes>"
      ]
     },
     "metadata": {
      "needs_background": "light"
     },
     "output_type": "display_data"
    }
   ],
   "source": [
    "plt.hist2d(df_all[\"p\"], df_all[\"TPCROC1\"], bins=(100, 100), cmap=plt.cm.jet, range = [[0.2, 2], [0.5, 3]])\n",
    "plt.show()\n",
    "plt.hist2d(df_test[\"p\"], df_test[\"TPCROC2_ae\"], bins=(100, 100), cmap=plt.cm.jet, range = [[0.2, 2], [0.5, 3]])\n",
    "plt.show()"
   ]
  },
  {
   "cell_type": "markdown",
   "metadata": {},
   "source": [
    "# Train with zeros"
   ]
  },
  {
   "cell_type": "code",
   "execution_count": null,
   "metadata": {},
   "outputs": [],
   "source": [
    "train_0 = train[[\"ITS_0\", \"TOF_0\", \"TPCROC0_0\", \"TPCROC1_0\", \"TPCROC2_0\", \"TRD_0\"]]\n",
    "test_0 = test[[\"ITS_0\", \"TOF_0\", \"TPCROC0_0\", \"TPCROC1_0\", \"TPCROC2_0\", \"TRD_0\"]]\n",
    "scaler_0 = StandardScaler()\n",
    "scaler_0.fit( train[[\"ITS_0\", \"TOF_0\", \"TPCROC0_0\", \"TPCROC1_0\", \"TPCROC2_0\", \"TRD_0\"]])\n",
    "#scaler_0.fit( train[[\"ITS\", \"TOF\", \"TPCROC0\", \"TPCROC1\", \"TPCROC2\", \"TRD\"]]) "
   ]
  },
  {
   "cell_type": "code",
   "execution_count": null,
   "metadata": {},
   "outputs": [],
   "source": [
    "train[[\"ITS_0\", \"TOF_0\", \"TPCROC0_0\", \"TPCROC1_0\", \"TPCROC2_0\", \"TRD_0\"]].head()"
   ]
  },
  {
   "cell_type": "code",
   "execution_count": null,
   "metadata": {},
   "outputs": [],
   "source": [
    "train[[\"ITS\", \"TOF\", \"TPCROC0\", \"TPCROC1\", \"TPCROC2\", \"TRD\"]].head()\n"
   ]
  },
  {
   "cell_type": "code",
   "execution_count": null,
   "metadata": {},
   "outputs": [],
   "source": [
    "model0.fit(scaler_0.transform(train_0), scaler_0.transform(train_0), epochs=5, batch_size=32, \n",
    "          validation_data=[scaler_0.transform(test_0),scaler_0.transform(test_0)])"
   ]
  },
  {
   "cell_type": "code",
   "execution_count": null,
   "metadata": {},
   "outputs": [],
   "source": [
    "out = scaler_0.inverse_transform(model0.predict(scaler_0.transform(test_0)))\n",
    "AE_predict = pd.DataFrame(out)\n",
    "AE_predict.columns = [\"ITS_ae\", \"TOF_ae\", \"TPCROC0_ae\", \"TPCROC1_ae\", \"TPCROC2_ae\", \"TRD_ae\"]\n",
    "test = test.reset_index()\n",
    "df_test = pd.concat([test,AE_predict], axis = 1)\n",
    "df_test.head(3)"
   ]
  },
  {
   "cell_type": "code",
   "execution_count": null,
   "metadata": {},
   "outputs": [],
   "source": [
    "plt.hist2d(df_all[\"p\"], df_all[\"TPCROC1\"], bins=(100, 100), cmap=plt.cm.jet, range = [[0.2, 2], [0.5, 3]])\n",
    "plt.show()\n",
    "plt.hist2d(df_test[\"p\"], df_test[\"TPCROC2_ae\"], bins=(100, 100), cmap=plt.cm.jet, range = [[0.2, 2], [0.5, 3]])\n",
    "plt.show()"
   ]
  },
  {
   "cell_type": "markdown",
   "metadata": {},
   "source": [
    "# labels for missing tracks"
   ]
  },
  {
   "cell_type": "code",
   "execution_count": null,
   "metadata": {},
   "outputs": [],
   "source": [
    "train_in = train[[\"ITS_mr\", \"TOF_mr\", \"TPCROC0_mr\", \"TPCROC1_mr\", \"TPCROC2_mr\", \"TRD_mr\"]]\n",
    "train_out = train[[\"ITS\", \"TOF\", \"TPCROC0\", \"TPCROC1\", \"TPCROC2\", \"TRD\"]]\n",
    "test_in = test[[\"ITS_mr\", \"TOF_mr\", \"TPCROC0_mr\", \"TPCROC1_mr\", \"TPCROC2_mr\", \"TRD_mr\"]]\n",
    "test_out = test[[\"ITS\", \"TOF\", \"TPCROC0\", \"TPCROC1\", \"TPCROC2\", \"TRD\"]]\n",
    "scaler_in = StandardScaler()\n",
    "scaler_out = StandardScaler()\n",
    "scaler_in.fit(train_in)\n",
    "scaler_out.fit(train_out)"
   ]
  },
  {
   "cell_type": "code",
   "execution_count": null,
   "metadata": {},
   "outputs": [],
   "source": [
    "modell.fit(scaler_in.transform(train_in), scaler_out.transform(train_out), epochs=5, batch_size=32, \n",
    "          validation_data=[scaler_in.transform(test_in),scaler_out.transform(test_out)])"
   ]
  },
  {
   "cell_type": "code",
   "execution_count": null,
   "metadata": {},
   "outputs": [],
   "source": [
    "out = scaler_out.inverse_transform(modell.predict(scaler_in.transform(test_in)))\n",
    "AE_predict = pd.DataFrame(out)\n",
    "AE_predict.columns = [\"ITS_ae\", \"TOF_ae\", \"TPCROC0_ae\", \"TPCROC1_ae\", \"TPCROC2_ae\", \"TRD_ae\"]\n",
    "#test = test.reset_index()\n",
    "df_test = pd.concat([test,AE_predict], axis = 1)\n",
    "df_test.head(3)"
   ]
  },
  {
   "cell_type": "code",
   "execution_count": null,
   "metadata": {},
   "outputs": [],
   "source": [
    "plt.hist2d(df_all[\"p\"], df_all[\"TPCROC1\"], bins=(100, 100), cmap=plt.cm.jet, range = [[0.2, 2], [0.5, 3]])\n",
    "plt.show()\n",
    "plt.hist2d(df_test[\"p\"], df_test[\"TPCROC1_ae\"], bins=(100, 100), cmap=plt.cm.jet, range = [[0.2, 2], [0.5, 3]])\n",
    "plt.show()"
   ]
  },
  {
   "cell_type": "markdown",
   "metadata": {},
   "source": [
    "# mean input, zero weights for missing values"
   ]
  },
  {
   "cell_type": "code",
   "execution_count": null,
   "metadata": {},
   "outputs": [],
   "source": [
    "train_mr = train[[\"ITS_mr\", \"TOF_mr\", \"TPCROC0_mr\", \"TPCROC1_mr\", \"TPCROC2_mr\", \"TRD_mr\"]]\n",
    "test_mr = test[[\"ITS_mr\", \"TOF_mr\", \"TPCROC0_mr\", \"TPCROC1_mr\", \"TPCROC2_mr\", \"TRD_mr\"]]\n",
    "train_w    = train[[\"ITS_w\", \"TOF_w\", \"TPCROC0_w\", \"TPCROC1_w\", \"TPCROC2_w\", \"TRD_w\"]]\n",
    "test_w     = test[[\"ITS_w\", \"TOF_w\", \"TPCROC0_w\", \"TPCROC1_w\", \"TPCROC2_w\", \"TRD_w\"]]"
   ]
  },
  {
   "cell_type": "code",
   "execution_count": null,
   "metadata": {},
   "outputs": [],
   "source": [
    "scaler_mr = StandardScaler()\n",
    "scaler_mr.fit(train_mr)"
   ]
  },
  {
   "cell_type": "code",
   "execution_count": null,
   "metadata": {},
   "outputs": [],
   "source": [
    "model1.fit([scaler_mr.transform(train_mr),train_w], scaler_mr.transform(train_mr), epochs=5, batch_size=32, \n",
    "          validation_data=[[scaler_mr.transform(test_mr),train_w],scaler_mr.transform(test_mr)])"
   ]
  },
  {
   "cell_type": "code",
   "execution_count": null,
   "metadata": {},
   "outputs": [],
   "source": [
    "out = scaler_mr.inverse_transform(model1.predict([scaler_mr.transform(test_mr),test_w]))\n",
    "AE_predict = pd.DataFrame(out)\n",
    "AE_predict.columns = [\"ITS_ae\", \"TOF_ae\", \"TPCROC0_ae\", \"TPCROC1_ae\", \"TPCROC2_ae\", \"TRD_ae\"]\n",
    "#test = test.reset_index()\n",
    "df_test = pd.concat([test,AE_predict], axis = 1)\n",
    "df_test.head(3)"
   ]
  },
  {
   "cell_type": "code",
   "execution_count": null,
   "metadata": {},
   "outputs": [],
   "source": [
    "plt.hist2d(df_all[\"p\"], df_all[\"TPCROC1\"], bins=(100, 100), cmap=plt.cm.jet, range = [[0.2, 2], [0.5, 3]])\n",
    "plt.show()\n",
    "plt.hist2d(df_test[\"p\"], df_test[\"TPCROC1_ae\"], bins=(100, 100), cmap=plt.cm.jet, range = [[0.2, 2], [0.5, 3]])\n",
    "plt.show()"
   ]
  },
  {
   "cell_type": "markdown",
   "metadata": {},
   "source": [
    "# second iteration, replace missing values by values from first iteration"
   ]
  },
  {
   "cell_type": "code",
   "execution_count": null,
   "metadata": {},
   "outputs": [],
   "source": [
    "# stage 2\n",
    "stage2_data = df_stage_2[[\"ITS_mr\", \"TOF_mr\", \"TPCROC0_mr\", \"TPCROC1_mr\", \"TPCROC2_mr\", \"TRD_mr\"]]\n",
    "out = scaler_mr.inverse_transform(models2.predict(scaler_mr.transform(stage2_data)))\n",
    "AE_predict = pd.DataFrame(out)\n",
    "AE_predict.columns = [\"ITS_ae\", \"TOF_ae\", \"TPCROC0_ae\", \"TPCROC1_ae\", \"TPCROC2_ae\", \"TRD_ae\"]\n",
    "for i ,name in enumerate(['ITS','TOF','TPCROC0','TPCROC1','TPCROC2','TRD']):\n",
    "    # calculate \"flip= 0/1\"\n",
    "    f=(np.array(df_stage_2['flips'])>>i)&1\n",
    "    m=AE_predict[name+'_ae']\n",
    "    df_stage_2.loc[:,name+'_s2']= df_stage_2[name].multiply(f,axis='index')+m*(1-f)"
   ]
  },
  {
   "cell_type": "code",
   "execution_count": null,
   "metadata": {},
   "outputs": [],
   "source": [
    "train, test =train_test_split(df_stage_2, test_size=0.5)\n",
    "train_s2 = train[[\"ITS_s2\", \"TOF_s2\", \"TPCROC0_s2\", \"TPCROC1_s2\", \"TPCROC2_s2\", \"TRD_s2\"]]\n",
    "test_s2 = test[[\"ITS_s2\", \"TOF_s2\", \"TPCROC0_s2\", \"TPCROC1_s2\", \"TPCROC2_s2\", \"TRD_s2\"]]"
   ]
  },
  {
   "cell_type": "code",
   "execution_count": null,
   "metadata": {},
   "outputs": [],
   "source": [
    "scaler_s2 = StandardScaler()\n",
    "scaler_s2.fit(train_s2)\n",
    "models2.fit(scaler_s2.transform(train_s2), scaler_s2.transform(train_s2), epochs=5, batch_size=32, \n",
    "          validation_data=[scaler_s2.transform(test_s2),scaler_s2.transform(test_s2)])"
   ]
  },
  {
   "cell_type": "code",
   "execution_count": null,
   "metadata": {},
   "outputs": [],
   "source": [
    "out = scaler_s2.inverse_transform(models2.predict(scaler_s2.transform(test_s2)))\n",
    "AE_predict = pd.DataFrame(out)\n",
    "AE_predict.columns = [\"ITS_ae\", \"TOF_ae\", \"TPCROC0_ae\", \"TPCROC1_ae\", \"TPCROC2_ae\", \"TRD_ae\"]\n",
    "test = test.reset_index()\n",
    "df_test = pd.concat([test,AE_predict], axis = 1)\n",
    "df_test.head(3)"
   ]
  },
  {
   "cell_type": "code",
   "execution_count": null,
   "metadata": {},
   "outputs": [],
   "source": [
    "plt.hist2d(df_all[\"p\"], df_all[\"TPCROC1\"], bins=(100, 100), cmap=plt.cm.jet, range = [[0.2, 2], [0.5, 3]])\n",
    "plt.show()\n",
    "plt.hist2d(df_test[\"p\"], df_test[\"TPCROC1_ae\"], bins=(100, 100), cmap=plt.cm.jet, range = [[0.2, 2], [0.5, 3]])\n",
    "plt.show()"
   ]
  },
  {
   "cell_type": "code",
   "execution_count": null,
   "metadata": {},
   "outputs": [],
   "source": []
  }
 ],
 "metadata": {
  "kernelspec": {
   "display_name": "Python 3",
   "language": "python",
   "name": "python3"
  },
  "language_info": {
   "codemirror_mode": {
    "name": "ipython",
    "version": 2
   },
   "file_extension": ".py",
   "mimetype": "text/x-python",
   "name": "python",
   "nbconvert_exporter": "python",
   "pygments_lexer": "ipython2",
   "version": "2.7.12"
  }
 },
 "nbformat": 4,
 "nbformat_minor": 2
}
