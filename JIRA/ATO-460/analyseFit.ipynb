{
 "cells": [
  {
   "cell_type": "markdown",
   "metadata": {},
   "source": [
    "# Example Notebok for the numpy function visualization of dEdx parameteriation\n",
    "* used as a test for PID autencoder \n",
    "* in the future we will add interactivity as an example of function visuliation (Alperen)"
   ]
  },
  {
   "cell_type": "code",
   "execution_count": null,
   "metadata": {},
   "outputs": [],
   "source": [
    "import numpy as np\n",
    "import matplotlib.pyplot as plt"
   ]
  },
  {
   "cell_type": "code",
   "execution_count": null,
   "metadata": {},
   "outputs": [],
   "source": [
    "def BetheBlochAlephNP(bg,kp1=0.76176e-1,kp2=10.632,kp3=0.13279e-4,kp4=1.8631,kp5=1.9479):\n",
    "        beta = bg/np.sqrt(1.+ bg*bg)\n",
    "        aa   = np.exp(kp4*np.log(beta))\n",
    "        bb   = np.exp(-kp5*np.log(bg))\n",
    "        bb   = np.log(kp3+bb)\n",
    "        return (kp2-aa-bb)*kp1/aa"
   ]
  },
  {
   "cell_type": "code",
   "execution_count": null,
   "metadata": {},
   "outputs": [],
   "source": [
    "kp_new = [0.07783108122483016, 11.485809107637332, 1.8733592294992876e-05, 1.685173407223727, 1.4833857871811276]"
   ]
  },
  {
   "cell_type": "code",
   "execution_count": null,
   "metadata": {},
   "outputs": [],
   "source": [
    "t = np.arange(0., 10., 0.1)\n",
    "for mass in masses:\n",
    "    plt.plot(t, BetheBlochAlephNP(t/mass, kp_new[0], kp_new[1], kp_new[2], kp_new[3], kp_new[4]),t, BetheBlochAlephNP(t/mass))\n",
    "    plt.show()"
   ]
  },
  {
   "cell_type": "code",
   "execution_count": null,
   "metadata": {},
   "outputs": [],
   "source": [
    "mass_e = 0.000511  \n",
    "mass_pi = 0.139    \n",
    "mass_K = 0.494\n",
    "mass_p = 0.938\n",
    "masses = [mass_e, mass_pi,mass_K, mass_p]"
   ]
  },
  {
   "cell_type": "code",
   "execution_count": null,
   "metadata": {},
   "outputs": [],
   "source": [
    "t = np.arange(0., 10., 0.1)\n",
    "for mass in masses:\n",
    "    plt.plot(t, (BetheBlochAlephNP(t/mass, kp_new[0], kp_new[1], kp_new[2], kp_new[3], kp_new[4])-BetheBlochAlephNP(t/mass))/BetheBlochAlephNP(t/mass))\n",
    "    plt.show()"
   ]
  }
 ],
 "metadata": {
  "kernelspec": {
   "display_name": "Python 2",
   "language": "python",
   "name": "python2"
  },
  "language_info": {
   "codemirror_mode": {
    "name": "ipython",
    "version": 2
   },
   "file_extension": ".py",
   "mimetype": "text/x-python",
   "name": "python",
   "nbconvert_exporter": "python",
   "pygments_lexer": "ipython2",
   "version": "2.7.15rc1"
  }
 },
 "nbformat": 4,
 "nbformat_minor": 2
}
