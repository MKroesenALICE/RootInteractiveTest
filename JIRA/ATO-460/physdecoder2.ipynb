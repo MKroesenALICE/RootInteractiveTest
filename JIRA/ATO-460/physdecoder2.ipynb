{
 "cells": [
  {
   "cell_type": "code",
   "execution_count": null,
   "metadata": {},
   "outputs": [],
   "source": [
    "from __future__ import absolute_import ,division ,print_function\n",
    "import numpy as np\n",
    "import matplotlib.pyplot as plt\n",
    "import seaborn as sns\n",
    "import math\n",
    "import pandas as pd\n",
    "\n",
    "import ROOT\n",
    "\n",
    "import tensorflow as tf\n",
    "\n",
    "from sklearn.model_selection import train_test_split\n",
    "from sklearn.preprocessing import StandardScaler\n",
    "from tensorflow.keras.models import Sequential\n",
    "from tensorflow.keras.layers import Input,Dense,Lambda,multiply,Multiply,RepeatVector,Flatten,Concatenate,Dropout\n",
    "from tensorflow.keras.models import Model\n",
    "\n",
    "import tensorflow.keras.backend as K\n",
    "from functools import partial"
   ]
  },
  {
   "cell_type": "code",
   "execution_count": null,
   "metadata": {},
   "outputs": [],
   "source": [
    "#K.set_session(tf.Session(config=tf.ConfigProto(intra_op_parallelism_threads=32, inter_op_parallelism_threads=4)))"
   ]
  },
  {
   "cell_type": "code",
   "execution_count": null,
   "metadata": {},
   "outputs": [],
   "source": [
    "n_particles = 100000/2\n",
    "p = np.random.uniform(0.3,10.,int(n_particles))\n",
    "mp = np.random.uniform(1/10.,1/0.3,int(n_particles))\n",
    "p_mp = 1./mp \n",
    "p_ges = np.concatenate([p,p_mp])"
   ]
  },
  {
   "cell_type": "code",
   "execution_count": null,
   "metadata": {},
   "outputs": [],
   "source": [
    "\n",
    "mass_e = 0.000511\n",
    "mass_mu = 0.105\n",
    "mass_pi = 0.139\n",
    "mass_K = 0.494\n",
    "mass_p = 0.938\n",
    "masses = [ mass_e,mass_mu, mass_pi, mass_K , mass_p]\n",
    "masses"
   ]
  },
  {
   "cell_type": "code",
   "execution_count": null,
   "metadata": {},
   "outputs": [],
   "source": [
    "signals = []\n",
    "for mass in masses:\n",
    "    ITS_tmp = []\n",
    "    TPCROC0_tmp = []\n",
    "    TPCROC1_tmp = []\n",
    "    TPCROC2_tmp = []\n",
    "    TRD_tmp = []\n",
    "    TOF_tmp = []\n",
    "    BBS_tmp = []\n",
    "    BBA_tmp = []\n",
    "    beta_tmp = []\n",
    "    pmeas_tmp = []\n",
    "    for p in p_ges:\n",
    "        bg = p/mass\n",
    "        beta = bg/math.sqrt(1.+ bg*bg);\n",
    "        BBS = ROOT.AliExternalTrackParam.BetheBlochSolid(bg)\n",
    "        BBA = ROOT.AliExternalTrackParam.BetheBlochAleph(bg)\n",
    "        ITS_tmp.append(np.random.normal(BBS,0.1*BBS) ) ## ITS dEdx = smeared gaus 10% \n",
    "        TPCROC0_tmp.append(np.random.normal(BBA,0.1*BBA) )## TPC dEdx = smeared gaus 10% for 1st layer\n",
    "        TPCROC1_tmp.append(np.random.normal(BBA,0.1*BBA) )  ## TPC dEdx = smeared gaus 10% for 2nd layer\n",
    "        TPCROC2_tmp.append(np.random.normal(BBA,0.1*BBA) )  ## TPC dEdx = smeared gaus 10% for 3d layer\n",
    "        TRD_tmp.append(np.random.normal(BBA,0.1*BBA) )  ## TRD dEdx = smeared gaus 10% \n",
    "        TOF_tmp.append(np.random.normal(beta,0.01*beta) )  ## TOF - smeared with .... gaussian\n",
    "        pmeas_tmp.append(np.random.normal(p,0.01*p))\n",
    "        BBS_tmp.append(BBS)\n",
    "        BBA_tmp.append(BBA)\n",
    "        beta_tmp.append(beta)\n",
    "        \n",
    "    signals.append({'ITS': ITS_tmp, 'TPCROC0': TPCROC0_tmp, 'TPCROC1': TPCROC1_tmp, 'TPCROC1': TPCROC1_tmp, \n",
    "                    'TPCROC2': TPCROC2_tmp, 'TRD': TRD_tmp, 'TOF': TOF_tmp, 'BBS': BBS_tmp, 'BBA': BBA_tmp, \"beta\": beta_tmp,\n",
    "                   \"pmeas\": pmeas_tmp})"
   ]
  },
  {
   "cell_type": "code",
   "execution_count": null,
   "metadata": {},
   "outputs": [],
   "source": [
    "df_list=[]\n",
    "for i, val in enumerate(masses):\n",
    "    df = pd.DataFrame.from_dict(signals[i])\n",
    "    df['p'] = pd.Series(p_ges, index=df.index)\n",
    "    df['particle'] = pd.Series(i, index=df.index)\n",
    "    df_list.append(df)\n",
    "df_all = pd.concat([df_list[0],df_list[2],df_list[3],df_list[4]], ignore_index=True)"
   ]
  },
  {
   "cell_type": "code",
   "execution_count": null,
   "metadata": {},
   "outputs": [],
   "source": [
    "m_inv  = np.array([1./mass_e,1./mass_mu,1./mass_pi,1./mass_K,1./mass_p])\n",
    "bg     = np.log(pd.DataFrame(m_inv[df_all[\"particle\"]]*df_all[\"p\"]))\n",
    "bg.columns=['lnbg']\n",
    "df_all = pd.concat([df_all,bg], axis = 1).sample(frac=1)\n",
    "df_all.head(10)"
   ]
  },
  {
   "cell_type": "code",
   "execution_count": null,
   "metadata": {},
   "outputs": [],
   "source": [
    "plt.hist2d(df_all[\"p\"], df_all[\"TPCROC1\"], bins=(100, 100), cmap=plt.cm.jet, range = [[0.2, 2], [0.5, 3]])\n",
    "plt.plot()"
   ]
  },
  {
   "cell_type": "code",
   "execution_count": null,
   "metadata": {},
   "outputs": [],
   "source": [
    "plt.hist2d(df_all[\"p\"], df_all[\"TOF\"], bins=(100, 100), cmap=plt.cm.jet, range = [[0.2, 2], [0.0, 1.1]])\n",
    "plt.plot()"
   ]
  },
  {
   "cell_type": "code",
   "execution_count": null,
   "metadata": {},
   "outputs": [],
   "source": [
    "def BetheBlochAlephNP(lnbg,kp1=0.76176e-1,kp2=10.632,kp3=0.13279e-4,kp4=1.8631,kp5=1.9479):\n",
    "    bg   = np.exp(lnbg)\n",
    "    beta = bg/np.sqrt(1.+ bg*bg)\n",
    "    aa   = np.exp(kp4*np.log(beta))\n",
    "    bb   = np.exp(-kp5*np.log(bg))\n",
    "    bb   = np.log(kp3+bb)\n",
    "    return (kp2-aa-bb)*kp1/aa\n",
    "\n",
    "def BetheBlochGeantNP(lnbg,kp0=2.33,kp1=0.20,kp2=3.00,kp3=173e-9,kp4=0.49848):\n",
    "    bg   = np.exp(lnbg)\n",
    "    mK  = 0.307075e-3\n",
    "    me  = 0.511e-3\n",
    "    rho = kp0\n",
    "    x0  = kp1*2.303\n",
    "    x1  = kp2*2.303\n",
    "    mI  = kp3\n",
    "    mZA = kp4\n",
    "    bg2 = bg*bg\n",
    "    maxT= 2*me*bg2\n",
    "    \n",
    "    d2=0.\n",
    "    x=np.log(bg)\n",
    "    lhwI=np.log(28.816*1e-9*np.sqrt(rho*mZA)/mI)\n",
    "    if x>x1 :\n",
    "        d2 = lhwI + x - 0.5\n",
    "    else :\n",
    "        if x>x0:\n",
    "            r=(x1-x)/(x1-x0)\n",
    "            d2 = lhwI + x - 0.5 + (0.5 - lhwI - x0)*r*r*r\n",
    "        \n",
    "    return mK*mZA*(1+bg2)/bg2*(0.5*np.log(2*me*bg2*maxT/(mI*mI)) - bg2/(1+bg2) - d2)\n",
    "\n",
    "def BetheBlochSolidNP(lnbg):\n",
    "    return BetheBlochGeantNP(lnbg)"
   ]
  },
  {
   "cell_type": "code",
   "execution_count": null,
   "metadata": {},
   "outputs": [],
   "source": [
    "\n",
    "def BetheBlochAleph(lnbg,kp1=0.76176e-1,kp2=10.632,kp3=0.13279e-4,kp4=1.8631,kp5=1.9479):\n",
    "    bg   = K.exp(lnbg)\n",
    "    beta = bg/K.sqrt(1.+ bg*bg)\n",
    "    aa   = K.exp(kp4*K.log(beta))\n",
    "    bb   = K.exp(-kp5*K.log(bg))\n",
    "    bb   = K.log(kp3+bb)\n",
    "    return (kp2-aa-bb)*kp1/aa\n",
    "\n",
    "\n",
    "def BetheBlochGeant(lnbg,kp0=2.33,kp1=0.20,kp2=3.00,kp3=173.0e-9,kp4=0.49848):\n",
    "    bg=K.exp(lnbg)\n",
    "    mK  = 0.307075e-3\n",
    "    me  = 0.511e-3\n",
    "    rho = kp0\n",
    "    x0  = kp1*2.303\n",
    "    x1  = kp2*2.303\n",
    "    mI  = kp3\n",
    "    mZA = kp4\n",
    "    bg2 = bg*bg\n",
    "    maxT= 2*me*bg2\n",
    "    \n",
    "    \n",
    "    x=lnbg\n",
    "    lhwI=K.log(28.816e-9*K.sqrt(K.cast(rho*mZA,dtype=float))/mI)\n",
    "\n",
    "    d2=K.switch(K.greater(x,x1),lhwI + x - 0.5,\n",
    "               K.switch(K.greater(x,x0),lhwI + x - 0.5 + (0.5 - lhwI - x0)*(((x1-x)/(x1-x0))**3),0.*bg))\n",
    "        \n",
    "    return mK*mZA*(1+bg2)/bg2*(0.5*K.log(2*me*bg2*maxT/(mI*mI)) - bg2/(1+bg2) - d2)\n",
    "\n",
    "    \n",
    "def BetheBlochSolid(lnbg):\n",
    "    return BetheBlochGeant(lnbg)\n",
    "\n",
    "def getbeta(lnbg):\n",
    "    bg   = K.exp(lnbg)\n",
    "    return bg/K.sqrt(1.+ bg*bg)\n"
   ]
  },
  {
   "cell_type": "code",
   "execution_count": null,
   "metadata": {},
   "outputs": [],
   "source": [
    "\n",
    "\n",
    "def custom_loss(y_true, y_pred):\n",
    "\n",
    "    d = (y_true - y_pred)/ y_true \n",
    "    d0=d[:,0]\n",
    "    d1=d[:,1]*10\n",
    "    d2=d[:,2]\n",
    "    d3=d[:,3]\n",
    "    d4=d[:,4]\n",
    "    d5=d[:,5]\n",
    "    d=d0*d0+d1*d1+d2*d2+d3*d3+d4*d4+d5*d5\n",
    "\n",
    "    return d/6.\n",
    "\n",
    "inputs = Input(shape=(7,))\n",
    "enc    = Dense(units=64, activation='selu')(inputs)\n",
    "enc    = Dense(units=64, activation='selu')(enc)\n",
    "enc    = Dense(units=64, activation='selu')(enc)\n",
    "#enc    = Dense(units=64, activation='selu')(enc)\n",
    "\n",
    "gb     = Dense(units=1, activation='linear')(enc)\n",
    "\n",
    "BBA    = Lambda(BetheBlochAleph)(gb)\n",
    "BBA4   = RepeatVector(4)(BBA)\n",
    "BBA4    = Flatten()(BBA4) \n",
    "BBS    = Lambda(BetheBlochSolid)(gb)\n",
    "TOF    = Lambda(getbeta)(gb)\n",
    "final  = Concatenate(axis=-1)([BBS,TOF,BBA4])\n",
    "\n",
    "modelgb= Model(inputs=inputs,outputs=gb)\n",
    "modelBB= Model(inputs=inputs,outputs=BBA)\n",
    "modelBS= Model(inputs=inputs,outputs=BBS)\n",
    "modelTF= Model(inputs=inputs,outputs=TOF)\n",
    "modelfi= Model(inputs=inputs,outputs=final)\n",
    "\n",
    "modelfi.compile(loss=custom_loss,optimizer='adam',metrics=['mse'])\n",
    "modelgb.compile(loss='mse',optimizer='adam',metrics=['mse'])"
   ]
  },
  {
   "cell_type": "code",
   "execution_count": null,
   "metadata": {},
   "outputs": [],
   "source": [
    "modelfi.summary()"
   ]
  },
  {
   "cell_type": "code",
   "execution_count": null,
   "metadata": {},
   "outputs": [],
   "source": [
    "modelgb.summary()"
   ]
  },
  {
   "cell_type": "code",
   "execution_count": null,
   "metadata": {},
   "outputs": [],
   "source": [
    "modelBB.summary()"
   ]
  },
  {
   "cell_type": "code",
   "execution_count": null,
   "metadata": {},
   "outputs": [],
   "source": [
    "train, test =train_test_split(df_all, test_size=0.5)\n",
    "train_data = train[[\"ITS\", \"TOF\", \"TPCROC0\", \"TPCROC1\", \"TPCROC2\", \"TRD\",\"p\"]]\n",
    "test_data  = test[[\"ITS\", \"TOF\", \"TPCROC0\", \"TPCROC1\", \"TPCROC2\", \"TRD\",\"p\"]]\n",
    "\n",
    "train_fdata= train[[\"ITS\", \"TOF\", \"TPCROC0\", \"TPCROC1\", \"TPCROC2\", \"TRD\"]]\n",
    "test_fdata = test[[\"ITS\", \"TOF\", \"TPCROC0\", \"TPCROC1\", \"TPCROC2\", \"TRD\"]]\n",
    "\n",
    "train_gb   = train[[\"lnbg\"]]\n",
    "test_gb    = test[[\"lnbg\"]]"
   ]
  },
  {
   "cell_type": "code",
   "execution_count": null,
   "metadata": {},
   "outputs": [],
   "source": [
    "# take scaler from unmodified values ?\n",
    "scaler = StandardScaler()\n",
    "scaler.fit(train[[\"ITS\",\"TOF\", \"TPCROC0\", \"TPCROC1\", \"TPCROC2\", \"TRD\",\"p\"]])\n",
    "\n"
   ]
  },
  {
   "cell_type": "code",
   "execution_count": null,
   "metadata": {},
   "outputs": [],
   "source": [
    "#modelgb.fit(scaler.transform(train_data),train_gb, epochs=10, batch_size=64, \n",
    "#          validation_data=[scaler.transform(test_data),test_gb])"
   ]
  },
  {
   "cell_type": "code",
   "execution_count": null,
   "metadata": {},
   "outputs": [],
   "source": [
    "modelfi.fit(scaler.transform(train_data),train_fdata, epochs=12, batch_size=128, \n",
    "          validation_data=[scaler.transform(test_data),test_fdata])"
   ]
  },
  {
   "cell_type": "code",
   "execution_count": null,
   "metadata": {},
   "outputs": [],
   "source": [
    "out=modelfi.predict(scaler.transform(test_data))\n",
    "AE_predict = pd.DataFrame(out)\n",
    "AE_predict.columns = [\"ITS_ae\", \"TOF_ae\", \"TPCROC0_ae\", \"TPCROC1_ae\", \"TPCROC2_ae\", \"TRD_ae\"]\n",
    "ogb=(modelgb.predict(scaler.transform(test_data)))\n",
    "GB_predict = pd.DataFrame(ogb)\n",
    "GB_predict.columns = [\"gb_ae\"]\n",
    "test = test.reset_index()\n",
    "df_test = pd.concat([test,AE_predict,GB_predict], axis = 1)\n",
    "df_test.head()"
   ]
  },
  {
   "cell_type": "code",
   "execution_count": null,
   "metadata": {},
   "outputs": [],
   "source": [
    "plt.hist2d(df_test[\"p\"], df_test[\"TPCROC1\"], bins=(100, 100), cmap=plt.cm.jet, range = [[0.2, 2], [0.5, 3]])\n",
    "plt.show()\n",
    "plt.hist2d(df_test[\"p\"], df_test[\"TPCROC1_ae\"], bins=(100, 100), cmap=plt.cm.jet, range = [[0.2, 2], [0.5, 3]])\n",
    "plt.show()\n"
   ]
  },
  {
   "cell_type": "code",
   "execution_count": null,
   "metadata": {},
   "outputs": [],
   "source": [
    "particle_id = 2\n",
    "delta=df_test.query(\"particle==\" + str(particle_id))[\"TPCROC1_ae\"]-df_test.query(\"particle==\" + str(particle_id))[\"BBA\"]\n",
    "plt.hist2d(df_test.query(\"particle==\" + str(particle_id))[\"p\"],delta, bins=(50, 50), range = [[0.2, 2], [-0.2, 0.2]], cmap=plt.cm.BuPu)\n",
    "plt.show()"
   ]
  },
  {
   "cell_type": "code",
   "execution_count": null,
   "metadata": {},
   "outputs": [],
   "source": [
    "particle_id = 0\n",
    "delta=df_test.query(\"particle==\" + str(particle_id))[\"TPCROC1_ae\"]-df_test.query(\"particle==\" + str(particle_id))[\"BBA\"]\n",
    "plt.hist2d(df_test.query(\"particle==\" + str(particle_id))[\"p\"],delta, bins=(100, 100), range = [[0.2, 2], [-0.2, 0.2]])\n",
    "plt.show()"
   ]
  },
  {
   "cell_type": "code",
   "execution_count": null,
   "metadata": {},
   "outputs": [],
   "source": [
    "particle_id = 0\n",
    "delta=df_test.query(\"particle==\" + str(particle_id))[\"TPCROC1_ae\"]-df_test.query(\"particle==\" + str(particle_id))[\"BBA\"]\n",
    "plt.hist2d(df_test.query(\"particle==\" + str(particle_id))[\"p\"],delta, bins=(100, 100), range = [[0.2, 2], [-0.2, 0.2]])\n",
    "plt.show()"
   ]
  },
  {
   "cell_type": "code",
   "execution_count": null,
   "metadata": {},
   "outputs": [],
   "source": [
    "particle_id = 4\n",
    "delta=df_test.query(\"particle==\" + str(particle_id))[\"TPCROC1_ae\"]-df_test.query(\"particle==\" + str(particle_id))[\"BBA\"]\n",
    "momentum = df_test.query(\"particle==\" + str(particle_id))[\"p\"]\n",
    "sns.jointplot(momentum, delta)\n",
    "#plt.hist2d(momentum,delta, bins=(100, 100), range = [[0.2, 2], [-0.2, 0.2]], cmap=plt.cm.BuPu)\n",
    "#plt.show()"
   ]
  },
  {
   "cell_type": "code",
   "execution_count": null,
   "metadata": {},
   "outputs": [],
   "source": [
    "particle_id = 2\n",
    "plt.hist2d(df_test.query(\"particle==\" + str(particle_id))[\"p\"], df_test.query(\"particle==\" + str(particle_id))[\"TPCROC1\"], bins=(100, 100), cmap=plt.cm.jet, range = [[0.2, 2], [0.5, 3]])\n",
    "plt.show()\n",
    "plt.hist2d(df_test.query(\"particle==\" + str(particle_id))[\"p\"], df_test.query(\"particle==\" + str(particle_id))[\"TPCROC1_ae\"], bins=(100, 100), cmap=plt.cm.jet, range = [[0.2, 2], [0.5, 3]])\n",
    "plt.show()\n"
   ]
  },
  {
   "cell_type": "code",
   "execution_count": null,
   "metadata": {},
   "outputs": [],
   "source": [
    "#plt.yscale('log')\n",
    "plt.axis([0.,10.,0.,10.])\n",
    "plt.scatter(df_test[\"p\"],df_test[\"gb_ae\"],c=df_test[\"particle\"])\n",
    "plt.show()"
   ]
  },
  {
   "cell_type": "code",
   "execution_count": null,
   "metadata": {},
   "outputs": [],
   "source": [
    "#plt.yscale('log')\n",
    "plt.axis([0.,10.,0.,10.])\n",
    "plt.scatter(df_test[\"p\"],np.exp(df_test[\"gb_ae\"]),c=df_test[\"particle\"])\n",
    "plt.show()"
   ]
  },
  {
   "cell_type": "code",
   "execution_count": null,
   "metadata": {},
   "outputs": [],
   "source": [
    "\n",
    "plt.hist(df_test[\"p\"]/np.exp(df_test[\"gb_ae\"]),bins=100, range=[0,1.5])\n",
    "plt.xscale('log')"
   ]
  },
  {
   "cell_type": "code",
   "execution_count": null,
   "metadata": {},
   "outputs": [],
   "source": [
    "particle_id = 3\n",
    "plt.hist(df_test.query(\"particle==\" + str(particle_id))[\"p\"]/np.exp(df_test.query(\"particle==\" + str(particle_id))[\"gb_ae\"]),bins=100, range=[0,1.5])\n",
    "plt.xscale('log')"
   ]
  },
  {
   "cell_type": "code",
   "execution_count": null,
   "metadata": {},
   "outputs": [],
   "source": [
    "particle_id = 4\n",
    "plt.hist(df_test.query(\"particle==\" + str(particle_id)+ \"and p>0.2 and p < 3.\")[\"p\"]/np.exp(df_test.query(\"particle==\" + str(particle_id)+ \"and p>0.2 and p < 3.\")[\"gb_ae\"]),bins=100, range=[0,1.5])\n",
    "plt.xscale('log')"
   ]
  },
  {
   "cell_type": "code",
   "execution_count": null,
   "metadata": {},
   "outputs": [],
   "source": [
    "from sklearn.ensemble import RandomForestClassifier"
   ]
  },
  {
   "cell_type": "code",
   "execution_count": null,
   "metadata": {},
   "outputs": [],
   "source": [
    "RF = RandomForestClassifier(n_estimators=150, max_depth = 15, n_jobs=30)\n",
    "RF2 = RandomForestClassifier(n_estimators=150, max_depth = 15, n_jobs=30)"
   ]
  },
  {
   "cell_type": "code",
   "execution_count": null,
   "metadata": {},
   "outputs": [],
   "source": [
    "RFtrain, RFtest = train_test_split(df_test,test_size=0.5)"
   ]
  },
  {
   "cell_type": "code",
   "execution_count": null,
   "metadata": {},
   "outputs": [],
   "source": [
    "RF.fit(RFtrain[[\"ITS\",\"TOF\", \"TPCROC0\", \"TPCROC1\", \"TPCROC2\", \"TRD\",\"p\"]], np.ravel(RFtrain[[\"particle\"]]))"
   ]
  },
  {
   "cell_type": "code",
   "execution_count": null,
   "metadata": {},
   "outputs": [],
   "source": [
    "RF.score(RFtest[[\"ITS\",\"TOF\", \"TPCROC0\", \"TPCROC1\", \"TPCROC2\", \"TRD\",\"p\"]], np.ravel(RFtest[[\"particle\"]]))"
   ]
  },
  {
   "cell_type": "code",
   "execution_count": null,
   "metadata": {},
   "outputs": [],
   "source": [
    "RF2.fit(RFtrain[[\"ITS_ae\",\"TOF_ae\", \"TPCROC0_ae\", \"TPCROC1_ae\", \"TPCROC2_ae\", \"TRD_ae\",\"p\"]], np.ravel(RFtrain[[\"particle\"]]))"
   ]
  },
  {
   "cell_type": "code",
   "execution_count": null,
   "metadata": {},
   "outputs": [],
   "source": [
    "RF2.score(RFtest[[\"ITS_ae\",\"TOF_ae\", \"TPCROC0_ae\", \"TPCROC1_ae\", \"TPCROC2_ae\", \"TRD_ae\",\"p\"]], np.ravel(RFtest[[\"particle\"]]))"
   ]
  },
  {
   "cell_type": "code",
   "execution_count": null,
   "metadata": {},
   "outputs": [],
   "source": []
  }
 ],
 "metadata": {
  "kernelspec": {
   "display_name": "Python 2",
   "language": "python",
   "name": "python2"
  },
  "language_info": {
   "codemirror_mode": {
    "name": "ipython",
    "version": 2
   },
   "file_extension": ".py",
   "mimetype": "text/x-python",
   "name": "python",
   "nbconvert_exporter": "python",
   "pygments_lexer": "ipython2",
   "version": "2.7.12"
  }
 },
 "nbformat": 4,
 "nbformat_minor": 2
}
