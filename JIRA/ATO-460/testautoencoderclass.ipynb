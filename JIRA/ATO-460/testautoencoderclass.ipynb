{
 "cells": [
  {
   "cell_type": "code",
   "execution_count": null,
   "metadata": {},
   "outputs": [],
   "source": [
    "import pandas as pd\n",
    "import numpy as np\n",
    "\n",
    "from autoencoder import ToyDetectors, DEDXEncoder\n",
    "\n",
    "from sklearn.model_selection import train_test_split\n",
    "from sklearn.preprocessing import StandardScaler\n",
    "\n",
    "import tensorflow.keras.backend as K"
   ]
  },
  {
   "cell_type": "code",
   "execution_count": null,
   "metadata": {},
   "outputs": [],
   "source": [
    "TD = ToyDetectors()\n",
    "DFTD = TD.GenerateToyParticles()"
   ]
  },
  {
   "cell_type": "code",
   "execution_count": null,
   "metadata": {},
   "outputs": [],
   "source": [
    "DFTD.head()"
   ]
  },
  {
   "cell_type": "code",
   "execution_count": null,
   "metadata": {},
   "outputs": [],
   "source": [
    "DEDXEnc = DEDXEncoder()"
   ]
  },
  {
   "cell_type": "code",
   "execution_count": null,
   "metadata": {},
   "outputs": [],
   "source": [
    "DEDXEnc.CreateModel()"
   ]
  },
  {
   "cell_type": "code",
   "execution_count": null,
   "metadata": {},
   "outputs": [],
   "source": [
    "DEDXEnc.model.summary()"
   ]
  },
  {
   "cell_type": "code",
   "execution_count": null,
   "metadata": {},
   "outputs": [],
   "source": [
    "train, test =train_test_split(DFTD, test_size=0.5)\n",
    "train_data = train[[\"ITS\", \"TOF\", \"TPCROC0\", \"TPCROC1\", \"TPCROC2\", \"TRD\",\"p\"]]\n",
    "test_data  = test[[\"ITS\", \"TOF\", \"TPCROC0\", \"TPCROC1\", \"TPCROC2\", \"TRD\",\"p\"]]\n",
    "\n",
    "train_fdata= train[[\"ITS\", \"TOF\", \"TPCROC0\", \"TPCROC1\", \"TPCROC2\", \"TRD\"]]\n",
    "test_fdata = test[[\"ITS\", \"TOF\", \"TPCROC0\", \"TPCROC1\", \"TPCROC2\", \"TRD\"]]"
   ]
  },
  {
   "cell_type": "code",
   "execution_count": null,
   "metadata": {},
   "outputs": [],
   "source": [
    "scaler = StandardScaler()\n",
    "scaler.fit(train[[\"ITS\",\"TOF\", \"TPCROC0\", \"TPCROC1\", \"TPCROC2\", \"TRD\",\"p\"]])\n"
   ]
  },
  {
   "cell_type": "code",
   "execution_count": null,
   "metadata": {},
   "outputs": [],
   "source": [
    "DEDXEnc.model.fit(scaler.transform(train_data),train_fdata, epochs=12, batch_size=128, \n",
    "          validation_data=[scaler.transform(test_data),test_fdata])"
   ]
  },
  {
   "cell_type": "code",
   "execution_count": null,
   "metadata": {},
   "outputs": [],
   "source": [
    "DEDXEnc.BGfromModel([train[[\"ITS\",\"TOF\", \"TPCROC0\", \"TPCROC1\", \"TPCROC2\", \"TRD\",\"p\"]]])"
   ]
  },
  {
   "cell_type": "code",
   "execution_count": null,
   "metadata": {},
   "outputs": [],
   "source": [
    "out=DEDXEnc.model.predict(scaler.transform(test_data))\n",
    "AE_predict = pd.DataFrame(out)\n",
    "AE_predict.columns = [\"ITS_ae\", \"TOF_ae\", \"TPCROC0_ae\", \"TPCROC1_ae\", \"TPCROC2_ae\", \"TRD_ae\"]\n",
    "ogb=DEDXEnc.BGfromModel([(scaler.transform(test_data))])\n",
    "#print(ogb[-1])\n",
    "GB_predict = pd.DataFrame(ogb[-1])\n",
    "GB_predict.columns = [\"gb_ae\"]\n",
    "test = test.reset_index()\n",
    "df_test = pd.concat([test,AE_predict,GB_predict], axis = 1)\n",
    "df_test.head()"
   ]
  }
 ],
 "metadata": {
  "kernelspec": {
   "display_name": "Python 3",
   "language": "python",
   "name": "python3"
  },
  "language_info": {
   "codemirror_mode": {
    "name": "ipython",
    "version": 2
   },
   "file_extension": ".py",
   "mimetype": "text/x-python",
   "name": "python",
   "nbconvert_exporter": "python",
   "pygments_lexer": "ipython2",
   "version": "2.7.12"
  }
 },
 "nbformat": 4,
 "nbformat_minor": 2
}
