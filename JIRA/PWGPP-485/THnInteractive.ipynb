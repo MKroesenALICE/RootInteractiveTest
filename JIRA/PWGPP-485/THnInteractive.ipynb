{
 "cells": [
  {
   "cell_type": "code",
   "execution_count": 1,
   "metadata": {},
   "outputs": [
    {
     "name": "stdout",
     "output_type": "stream",
     "text": [
      "Welcome to JupyROOT 6.13/03\n"
     ]
    }
   ],
   "source": [
    "import ROOT"
   ]
  },
  {
   "cell_type": "code",
   "execution_count": 2,
   "metadata": {},
   "outputs": [],
   "source": [
    "f=ROOT.TFile.Open(\"../data/PWGPP-485/hisPull.root\")\n",
    "hisArray  = f.Get(\"hisArray\")\n",
    "rcanvas=ROOT.TCanvas(\"xxx\",\"xxx\")"
   ]
  },
  {
   "cell_type": "code",
   "execution_count": 3,
   "metadata": {},
   "outputs": [
    {
     "name": "stdout",
     "output_type": "stream",
     "text": [
      "OBJ: TObjArray\tTObjArray\tAn array of objects : 0\n",
      " OBJ: THnT<float>\thisdY\thisdY : 0 at: 0x557844ece0c0\n",
      " OBJ: THnT<float>\thisdZ\thisdZ : 0 at: 0x5578450a5db0\n",
      " OBJ: THnT<float>\thisPullYLow\thisPullYLow : 0 at: 0x5578450a64e0\n",
      " OBJ: THnT<float>\thisPullYHM1\thisPullYHM1 : 0 at: 0x5578450a6cd0\n",
      " OBJ: THnT<float>\thisPullYBL\thisPullYBL : 0 at: 0x5578450a74c0\n",
      " OBJ: THnT<float>\thisPullYCL\thisPullYCL : 0 at: 0x5578450a7cb0\n",
      " OBJ: THnT<float>\thisPullZLow\thisPullZLow : 0 at: 0x5578450a84a0\n",
      " OBJ: THnT<float>\thisPullZHM1\thisPullZHM1 : 0 at: 0x5578450a8c90\n",
      " OBJ: THnT<float>\thisPullZBL\thisPullZBL : 0 at: 0x5578450a9480\n",
      " OBJ: THnT<float>\thisPullZCL\thisPullZCL : 0 at: 0x5578450a9c70\n"
     ]
    }
   ],
   "source": [
    "hisArray.ls()"
   ]
  },
  {
   "cell_type": "code",
   "execution_count": 4,
   "metadata": {},
   "outputs": [
    {
     "name": "stdout",
     "output_type": "stream",
     "text": [
      "THnT<float> (*0x557844ece0c0): \"hisdY\" \"hisdY\"\n",
      "  5 dimensions, 2.09798e+06 entries in 856800 filled bins\n",
      "    axis 0 \"dy\": 100 bins (-1.5..1.5), variable bin sizes\n",
      "    axis 1 \"multM\": 10 bins (0..3), variable bin sizes\n",
      "    axis 2 \"tgl\": 5 bins (0..1), variable bin sizes\n",
      "    axis 3 \"mdEdx\": 8 bins (0..1), variable bin sizes\n",
      "    axis 4 \"row\": 8 bins (0..160), variable bin sizes\n"
     ]
    }
   ],
   "source": [
    "hisArray[0].Print(\"all\")"
   ]
  },
  {
   "cell_type": "code",
   "execution_count": 5,
   "metadata": {},
   "outputs": [
    {
     "ename": "NameError",
     "evalue": "name 'drawHisto' is not defined",
     "output_type": "error",
     "traceback": [
      "\u001b[0;31m\u001b[0m",
      "\u001b[0;31mNameError\u001b[0mTraceback (most recent call last)",
      "\u001b[0;32m<ipython-input-5-8600f75cc549>\u001b[0m in \u001b[0;36m<module>\u001b[0;34m()\u001b[0m\n\u001b[1;32m      1\u001b[0m \u001b[0mselection\u001b[0m\u001b[0;34m=\u001b[0m\u001b[0;34m\"hisdy(0,1),hisdZ(0,2)\"\u001b[0m\u001b[0;34m\u001b[0m\u001b[0m\n\u001b[0;32m----> 2\u001b[0;31m \u001b[0mdrawHisto\u001b[0m\u001b[0;34m(\u001b[0m\u001b[0marray\u001b[0m\u001b[0;34m,\u001b[0m\u001b[0mselection\u001b[0m\u001b[0;34m,\u001b[0m\u001b[0msliders\u001b[0m\u001b[0;34m)\u001b[0m\u001b[0;34m;\u001b[0m\u001b[0;34m\u001b[0m\u001b[0m\n\u001b[0m",
      "\u001b[0;31mNameError\u001b[0m: name 'drawHisto' is not defined"
     ]
    }
   ],
   "source": [
    "# selection=\"hisdy(0,1),hisdZ(0,2)\"\n",
    "# drawHisto(array,selection,sliders);"
   ]
  },
  {
   "cell_type": "code",
   "execution_count": 7,
   "metadata": {},
   "outputs": [
    {
     "name": "stderr",
     "output_type": "stream",
     "text": [
      "Warning in <TFile::Append>: Replacing existing TH1: hisdY_proj_1_0 (Potential memory leak).\n"
     ]
    },
    {
     "data": {
      "image/png": "[encoded data removed]",
      "text/plain": [
       "<IPython.core.display.Image object>"
      ]
     },
     "metadata": {},
     "output_type": "display_data"
    }
   ],
   "source": [
    "hisArray.FindObject(\"hisdY\").GetAxis(1).SetRangeUser(2.,2.5)\n",
    "hisArray.FindObject(\"hisdY\").Projection(0,1).Draw(\"colz\")\n",
    "rcanvas.Draw()"
   ]
  },
  {
   "cell_type": "code",
   "execution_count": 12,
   "metadata": {},
   "outputs": [
    {
     "data": {
      "text/plain": [
       "0.0"
      ]
     },
     "execution_count": 12,
     "metadata": {},
     "output_type": "execute_result"
    },
    {
     "name": "stderr",
     "output_type": "stream",
     "text": [
      "Warning in <TFile::Append>: Replacing existing TH1: hisdY_proj_1_0 (Potential memory leak).\n"
     ]
    }
   ],
   "source": [
    "hisArray.FindObject(\"hisdY\").Projection(0,1).GetArray()[20]"
   ]
  },
  {
   "cell_type": "code",
   "execution_count": null,
   "metadata": {},
   "outputs": [],
   "source": []
  }
 ],
 "metadata": {
  "kernelspec": {
   "display_name": "Python 2",
   "language": "python",
   "name": "python2"
  },
  "language_info": {
   "codemirror_mode": {
    "name": "ipython",
    "version": 2
   },
   "file_extension": ".py",
   "mimetype": "text/x-python",
   "name": "python",
   "nbconvert_exporter": "python",
   "pygments_lexer": "ipython2",
   "version": "2.7.15rc1"
  }
 },
 "nbformat": 4,
 "nbformat_minor": 2
}
