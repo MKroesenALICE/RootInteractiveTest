{
 "cells": [
  {
   "cell_type": "markdown",
   "metadata": {},
   "source": [
    "#  First interactive version of the multidimension histogram drawing\n",
    "* TODO 0 add refernce to JIRA \n",
    "* "
   ]
  },
  {
   "cell_type": "code",
   "execution_count": 1,
   "metadata": {},
   "outputs": [
    {
     "name": "stdout",
     "output_type": "stream",
     "text": [
      "Welcome to JupyROOT 6.13/03\n"
     ]
    },
    {
     "data": {
      "text/html": [
       "\n",
       "    <div class=\"bk-root\">\n",
       "        <a href=\"https://bokeh.pydata.org\" target=\"_blank\" class=\"bk-logo bk-logo-small bk-logo-notebook\"></a>\n",
       "        <span id=\"1001\">Loading BokehJS ...</span>\n",
       "    </div>"
      ]
     },
     "metadata": {},
     "output_type": "display_data"
    },
    {
     "data": {
      "application/javascript": [
       "\n",
       "(function(root) {\n",
       "  function now() {\n",
       "    return new Date();\n",
       "  }\n",
       "\n",
       "  var force = true;\n",
       "\n",
       "  if (typeof (root._bokeh_onload_callbacks) === \"undefined\" || force === true) {\n",
       "    root._bokeh_onload_callbacks = [];\n",
       "    root._bokeh_is_loading = undefined;\n",
       "  }\n",
       "\n",
       "  var JS_MIME_TYPE = 'application/javascript';\n",
       "  var HTML_MIME_TYPE = 'text/html';\n",
       "  var EXEC_MIME_TYPE = 'application/vnd.bokehjs_exec.v0+json';\n",
       "  var CLASS_NAME = 'output_bokeh rendered_html';\n",
       "\n",
       "  /**\n",
       "   * Render data to the DOM node\n",
       "   */\n",
       "  function render(props, node) {\n",
       "    var script = document.createElement(\"script\");\n",
       "    node.appendChild(script);\n",
       "  }\n",
       "\n",
       "  /**\n",
       "   * Handle when an output is cleared or removed\n",
       "   */\n",
       "  function handleClearOutput(event, handle) {\n",
       "    var cell = handle.cell;\n",
       "\n",
       "    var id = cell.output_area._bokeh_element_id;\n",
       "    var server_id = cell.output_area._bokeh_server_id;\n",
       "    // Clean up Bokeh references\n",
       "    if (id != null && id in Bokeh.index) {\n",
       "      Bokeh.index[id].model.document.clear();\n",
       "      delete Bokeh.index[id];\n",
       "    }\n",
       "\n",
       "    if (server_id !== undefined) {\n",
       "      // Clean up Bokeh references\n",
       "      var cmd = \"from bokeh.io.state import curstate; print(curstate().uuid_to_server['\" + server_id + \"'].get_sessions()[0].document.roots[0]._id)\";\n",
       "      cell.notebook.kernel.execute(cmd, {\n",
       "        iopub: {\n",
       "          output: function(msg) {\n",
       "            var id = msg.content.text.trim();\n",
       "            if (id in Bokeh.index) {\n",
       "              Bokeh.index[id].model.document.clear();\n",
       "              delete Bokeh.index[id];\n",
       "            }\n",
       "          }\n",
       "        }\n",
       "      });\n",
       "      // Destroy server and session\n",
       "      var cmd = \"import bokeh.io.notebook as ion; ion.destroy_server('\" + server_id + \"')\";\n",
       "      cell.notebook.kernel.execute(cmd);\n",
       "    }\n",
       "  }\n",
       "\n",
       "  /**\n",
       "   * Handle when a new output is added\n",
       "   */\n",
       "  function handleAddOutput(event, handle) {\n",
       "    var output_area = handle.output_area;\n",
       "    var output = handle.output;\n",
       "\n",
       "    // limit handleAddOutput to display_data with EXEC_MIME_TYPE content only\n",
       "    if ((output.output_type != \"display_data\") || (!output.data.hasOwnProperty(EXEC_MIME_TYPE))) {\n",
       "      return\n",
       "    }\n",
       "\n",
       "    var toinsert = output_area.element.find(\".\" + CLASS_NAME.split(' ')[0]);\n",
       "\n",
       "    if (output.metadata[EXEC_MIME_TYPE][\"id\"] !== undefined) {\n",
       "      toinsert[toinsert.length - 1].firstChild.textContent = output.data[JS_MIME_TYPE];\n",
       "      // store reference to embed id on output_area\n",
       "      output_area._bokeh_element_id = output.metadata[EXEC_MIME_TYPE][\"id\"];\n",
       "    }\n",
       "    if (output.metadata[EXEC_MIME_TYPE][\"server_id\"] !== undefined) {\n",
       "      var bk_div = document.createElement(\"div\");\n",
       "      bk_div.innerHTML = output.data[HTML_MIME_TYPE];\n",
       "      var script_attrs = bk_div.children[0].attributes;\n",
       "      for (var i = 0; i < script_attrs.length; i++) {\n",
       "        toinsert[toinsert.length - 1].firstChild.setAttribute(script_attrs[i].name, script_attrs[i].value);\n",
       "      }\n",
       "      // store reference to server id on output_area\n",
       "      output_area._bokeh_server_id = output.metadata[EXEC_MIME_TYPE][\"server_id\"];\n",
       "    }\n",
       "  }\n",
       "\n",
       "  function register_renderer(events, OutputArea) {\n",
       "\n",
       "    function append_mime(data, metadata, element) {\n",
       "      // create a DOM node to render to\n",
       "      var toinsert = this.create_output_subarea(\n",
       "        metadata,\n",
       "        CLASS_NAME,\n",
       "        EXEC_MIME_TYPE\n",
       "      );\n",
       "      this.keyboard_manager.register_events(toinsert);\n",
       "      // Render to node\n",
       "      var props = {data: data, metadata: metadata[EXEC_MIME_TYPE]};\n",
       "      render(props, toinsert[toinsert.length - 1]);\n",
       "      element.append(toinsert);\n",
       "      return toinsert\n",
       "    }\n",
       "\n",
       "    /* Handle when an output is cleared or removed */\n",
       "    events.on('clear_output.CodeCell', handleClearOutput);\n",
       "    events.on('delete.Cell', handleClearOutput);\n",
       "\n",
       "    /* Handle when a new output is added */\n",
       "    events.on('output_added.OutputArea', handleAddOutput);\n",
       "\n",
       "    /**\n",
       "     * Register the mime type and append_mime function with output_area\n",
       "     */\n",
       "    OutputArea.prototype.register_mime_type(EXEC_MIME_TYPE, append_mime, {\n",
       "      /* Is output safe? */\n",
       "      safe: true,\n",
       "      /* Index of renderer in `output_area.display_order` */\n",
       "      index: 0\n",
       "    });\n",
       "  }\n",
       "\n",
       "  // register the mime type if in Jupyter Notebook environment and previously unregistered\n",
       "  if (root.Jupyter !== undefined) {\n",
       "    var events = require('base/js/events');\n",
       "    var OutputArea = require('notebook/js/outputarea').OutputArea;\n",
       "\n",
       "    if (OutputArea.prototype.mime_types().indexOf(EXEC_MIME_TYPE) == -1) {\n",
       "      register_renderer(events, OutputArea);\n",
       "    }\n",
       "  }\n",
       "\n",
       "  \n",
       "  if (typeof (root._bokeh_timeout) === \"undefined\" || force === true) {\n",
       "    root._bokeh_timeout = Date.now() + 5000;\n",
       "    root._bokeh_failed_load = false;\n",
       "  }\n",
       "\n",
       "  var NB_LOAD_WARNING = {'data': {'text/html':\n",
       "     \"<div style='background-color: #fdd'>\\n\"+\n",
       "     \"<p>\\n\"+\n",
       "     \"BokehJS does not appear to have successfully loaded. If loading BokehJS from CDN, this \\n\"+\n",
       "     \"may be due to a slow or bad network connection. Possible fixes:\\n\"+\n",
       "     \"</p>\\n\"+\n",
       "     \"<ul>\\n\"+\n",
       "     \"<li>re-rerun `output_notebook()` to attempt to load from CDN again, or</li>\\n\"+\n",
       "     \"<li>use INLINE resources instead, as so:</li>\\n\"+\n",
       "     \"</ul>\\n\"+\n",
       "     \"<code>\\n\"+\n",
       "     \"from bokeh.resources import INLINE\\n\"+\n",
       "     \"output_notebook(resources=INLINE)\\n\"+\n",
       "     \"</code>\\n\"+\n",
       "     \"</div>\"}};\n",
       "\n",
       "  function display_loaded() {\n",
       "    var el = document.getElementById(\"1001\");\n",
       "    if (el != null) {\n",
       "      el.textContent = \"BokehJS is loading...\";\n",
       "    }\n",
       "    if (root.Bokeh !== undefined) {\n",
       "      if (el != null) {\n",
       "        el.textContent = \"BokehJS \" + root.Bokeh.version + \" successfully loaded.\";\n",
       "      }\n",
       "    } else if (Date.now() < root._bokeh_timeout) {\n",
       "      setTimeout(display_loaded, 100)\n",
       "    }\n",
       "  }\n",
       "\n",
       "\n",
       "  function run_callbacks() {\n",
       "    try {\n",
       "      root._bokeh_onload_callbacks.forEach(function(callback) { callback() });\n",
       "    }\n",
       "    finally {\n",
       "      delete root._bokeh_onload_callbacks\n",
       "    }\n",
       "    console.info(\"Bokeh: all callbacks have finished\");\n",
       "  }\n",
       "\n",
       "  function load_libs(js_urls, callback) {\n",
       "    root._bokeh_onload_callbacks.push(callback);\n",
       "    if (root._bokeh_is_loading > 0) {\n",
       "      console.log(\"Bokeh: BokehJS is being loaded, scheduling callback at\", now());\n",
       "      return null;\n",
       "    }\n",
       "    if (js_urls == null || js_urls.length === 0) {\n",
       "      run_callbacks();\n",
       "      return null;\n",
       "    }\n",
       "    console.log(\"Bokeh: BokehJS not loaded, scheduling load and callback at\", now());\n",
       "    root._bokeh_is_loading = js_urls.length;\n",
       "    for (var i = 0; i < js_urls.length; i++) {\n",
       "      var url = js_urls[i];\n",
       "      var s = document.createElement('script');\n",
       "      s.src = url;\n",
       "      s.async = false;\n",
       "      s.onreadystatechange = s.onload = function() {\n",
       "        root._bokeh_is_loading--;\n",
       "        if (root._bokeh_is_loading === 0) {\n",
       "          console.log(\"Bokeh: all BokehJS libraries loaded\");\n",
       "          run_callbacks()\n",
       "        }\n",
       "      };\n",
       "      s.onerror = function() {\n",
       "        console.warn(\"failed to load library \" + url);\n",
       "      };\n",
       "      console.log(\"Bokeh: injecting script tag for BokehJS library: \", url);\n",
       "      document.getElementsByTagName(\"head\")[0].appendChild(s);\n",
       "    }\n",
       "  };var element = document.getElementById(\"1001\");\n",
       "  if (element == null) {\n",
       "    console.log(\"Bokeh: ERROR: autoload.js configured with elementid '1001' but no matching script tag was found. \")\n",
       "    return false;\n",
       "  }\n",
       "\n",
       "  var js_urls = [\"https://cdn.pydata.org/bokeh/release/bokeh-1.0.4.min.js\", \"https://cdn.pydata.org/bokeh/release/bokeh-widgets-1.0.4.min.js\", \"https://cdn.pydata.org/bokeh/release/bokeh-tables-1.0.4.min.js\", \"https://cdn.pydata.org/bokeh/release/bokeh-gl-1.0.4.min.js\"];\n",
       "\n",
       "  var inline_js = [\n",
       "    function(Bokeh) {\n",
       "      Bokeh.set_log_level(\"info\");\n",
       "    },\n",
       "    \n",
       "    function(Bokeh) {\n",
       "      \n",
       "    },\n",
       "    function(Bokeh) {\n",
       "      console.log(\"Bokeh: injecting CSS: https://cdn.pydata.org/bokeh/release/bokeh-1.0.4.min.css\");\n",
       "      Bokeh.embed.inject_css(\"https://cdn.pydata.org/bokeh/release/bokeh-1.0.4.min.css\");\n",
       "      console.log(\"Bokeh: injecting CSS: https://cdn.pydata.org/bokeh/release/bokeh-widgets-1.0.4.min.css\");\n",
       "      Bokeh.embed.inject_css(\"https://cdn.pydata.org/bokeh/release/bokeh-widgets-1.0.4.min.css\");\n",
       "      console.log(\"Bokeh: injecting CSS: https://cdn.pydata.org/bokeh/release/bokeh-tables-1.0.4.min.css\");\n",
       "      Bokeh.embed.inject_css(\"https://cdn.pydata.org/bokeh/release/bokeh-tables-1.0.4.min.css\");\n",
       "    }\n",
       "  ];\n",
       "\n",
       "  function run_inline_js() {\n",
       "    \n",
       "    if ((root.Bokeh !== undefined) || (force === true)) {\n",
       "      for (var i = 0; i < inline_js.length; i++) {\n",
       "        inline_js[i].call(root, root.Bokeh);\n",
       "      }if (force === true) {\n",
       "        display_loaded();\n",
       "      }} else if (Date.now() < root._bokeh_timeout) {\n",
       "      setTimeout(run_inline_js, 100);\n",
       "    } else if (!root._bokeh_failed_load) {\n",
       "      console.log(\"Bokeh: BokehJS failed to load within specified timeout.\");\n",
       "      root._bokeh_failed_load = true;\n",
       "    } else if (force !== true) {\n",
       "      var cell = $(document.getElementById(\"1001\")).parents('.cell').data().cell;\n",
       "      cell.output_area.append_execute_result(NB_LOAD_WARNING)\n",
       "    }\n",
       "\n",
       "  }\n",
       "\n",
       "  if (root._bokeh_is_loading === 0) {\n",
       "    console.log(\"Bokeh: BokehJS loaded, going straight to plotting\");\n",
       "    run_inline_js();\n",
       "  } else {\n",
       "    load_libs(js_urls, function() {\n",
       "      console.log(\"Bokeh: BokehJS plotting callback run at\", now());\n",
       "      run_inline_js();\n",
       "    });\n",
       "  }\n",
       "}(window));"
      ],
      "application/vnd.bokehjs_load.v0+json": "\n(function(root) {\n  function now() {\n    return new Date();\n  }\n\n  var force = true;\n\n  if (typeof (root._bokeh_onload_callbacks) === \"undefined\" || force === true) {\n    root._bokeh_onload_callbacks = [];\n    root._bokeh_is_loading = undefined;\n  }\n\n  \n\n  \n  if (typeof (root._bokeh_timeout) === \"undefined\" || force === true) {\n    root._bokeh_timeout = Date.now() + 5000;\n    root._bokeh_failed_load = false;\n  }\n\n  var NB_LOAD_WARNING = {'data': {'text/html':\n     \"<div style='background-color: #fdd'>\\n\"+\n     \"<p>\\n\"+\n     \"BokehJS does not appear to have successfully loaded. If loading BokehJS from CDN, this \\n\"+\n     \"may be due to a slow or bad network connection. Possible fixes:\\n\"+\n     \"</p>\\n\"+\n     \"<ul>\\n\"+\n     \"<li>re-rerun `output_notebook()` to attempt to load from CDN again, or</li>\\n\"+\n     \"<li>use INLINE resources instead, as so:</li>\\n\"+\n     \"</ul>\\n\"+\n     \"<code>\\n\"+\n     \"from bokeh.resources import INLINE\\n\"+\n     \"output_notebook(resources=INLINE)\\n\"+\n     \"</code>\\n\"+\n     \"</div>\"}};\n\n  function display_loaded() {\n    var el = document.getElementById(\"1001\");\n    if (el != null) {\n      el.textContent = \"BokehJS is loading...\";\n    }\n    if (root.Bokeh !== undefined) {\n      if (el != null) {\n        el.textContent = \"BokehJS \" + root.Bokeh.version + \" successfully loaded.\";\n      }\n    } else if (Date.now() < root._bokeh_timeout) {\n      setTimeout(display_loaded, 100)\n    }\n  }\n\n\n  function run_callbacks() {\n    try {\n      root._bokeh_onload_callbacks.forEach(function(callback) { callback() });\n    }\n    finally {\n      delete root._bokeh_onload_callbacks\n    }\n    console.info(\"Bokeh: all callbacks have finished\");\n  }\n\n  function load_libs(js_urls, callback) {\n    root._bokeh_onload_callbacks.push(callback);\n    if (root._bokeh_is_loading > 0) {\n      console.log(\"Bokeh: BokehJS is being loaded, scheduling callback at\", now());\n      return null;\n    }\n    if (js_urls == null || js_urls.length === 0) {\n      run_callbacks();\n      return null;\n    }\n    console.log(\"Bokeh: BokehJS not loaded, scheduling load and callback at\", now());\n    root._bokeh_is_loading = js_urls.length;\n    for (var i = 0; i < js_urls.length; i++) {\n      var url = js_urls[i];\n      var s = document.createElement('script');\n      s.src = url;\n      s.async = false;\n      s.onreadystatechange = s.onload = function() {\n        root._bokeh_is_loading--;\n        if (root._bokeh_is_loading === 0) {\n          console.log(\"Bokeh: all BokehJS libraries loaded\");\n          run_callbacks()\n        }\n      };\n      s.onerror = function() {\n        console.warn(\"failed to load library \" + url);\n      };\n      console.log(\"Bokeh: injecting script tag for BokehJS library: \", url);\n      document.getElementsByTagName(\"head\")[0].appendChild(s);\n    }\n  };var element = document.getElementById(\"1001\");\n  if (element == null) {\n    console.log(\"Bokeh: ERROR: autoload.js configured with elementid '1001' but no matching script tag was found. \")\n    return false;\n  }\n\n  var js_urls = [\"https://cdn.pydata.org/bokeh/release/bokeh-1.0.4.min.js\", \"https://cdn.pydata.org/bokeh/release/bokeh-widgets-1.0.4.min.js\", \"https://cdn.pydata.org/bokeh/release/bokeh-tables-1.0.4.min.js\", \"https://cdn.pydata.org/bokeh/release/bokeh-gl-1.0.4.min.js\"];\n\n  var inline_js = [\n    function(Bokeh) {\n      Bokeh.set_log_level(\"info\");\n    },\n    \n    function(Bokeh) {\n      \n    },\n    function(Bokeh) {\n      console.log(\"Bokeh: injecting CSS: https://cdn.pydata.org/bokeh/release/bokeh-1.0.4.min.css\");\n      Bokeh.embed.inject_css(\"https://cdn.pydata.org/bokeh/release/bokeh-1.0.4.min.css\");\n      console.log(\"Bokeh: injecting CSS: https://cdn.pydata.org/bokeh/release/bokeh-widgets-1.0.4.min.css\");\n      Bokeh.embed.inject_css(\"https://cdn.pydata.org/bokeh/release/bokeh-widgets-1.0.4.min.css\");\n      console.log(\"Bokeh: injecting CSS: https://cdn.pydata.org/bokeh/release/bokeh-tables-1.0.4.min.css\");\n      Bokeh.embed.inject_css(\"https://cdn.pydata.org/bokeh/release/bokeh-tables-1.0.4.min.css\");\n    }\n  ];\n\n  function run_inline_js() {\n    \n    if ((root.Bokeh !== undefined) || (force === true)) {\n      for (var i = 0; i < inline_js.length; i++) {\n        inline_js[i].call(root, root.Bokeh);\n      }if (force === true) {\n        display_loaded();\n      }} else if (Date.now() < root._bokeh_timeout) {\n      setTimeout(run_inline_js, 100);\n    } else if (!root._bokeh_failed_load) {\n      console.log(\"Bokeh: BokehJS failed to load within specified timeout.\");\n      root._bokeh_failed_load = true;\n    } else if (force !== true) {\n      var cell = $(document.getElementById(\"1001\")).parents('.cell').data().cell;\n      cell.output_area.append_execute_result(NB_LOAD_WARNING)\n    }\n\n  }\n\n  if (root._bokeh_is_loading === 0) {\n    console.log(\"Bokeh: BokehJS loaded, going straight to plotting\");\n    run_inline_js();\n  } else {\n    load_libs(js_urls, function() {\n      console.log(\"Bokeh: BokehJS plotting callback run at\", now());\n      run_inline_js();\n    });\n  }\n}(window));"
     },
     "metadata": {},
     "output_type": "display_data"
    }
   ],
   "source": [
    "import ROOT\n",
    "from drawHisto import *\n",
    "from bokeh.plotting import output_file\n",
    "from bokeh.io import output_notebook\n",
    "output_notebook()"
   ]
  },
  {
   "cell_type": "code",
   "execution_count": 2,
   "metadata": {},
   "outputs": [
    {
     "name": "stdout",
     "output_type": "stream",
     "text": [
      "OBJ: TObjArray\tTObjArray\tAn array of objects : 0\n",
      " OBJ: THnT<float>\thisdY\thisdY : 0 at: 0x5637dd748220\n",
      " OBJ: THnT<float>\thisdZ\thisdZ : 0 at: 0x5637dd8b4b00\n",
      " OBJ: THnT<float>\thisPullYLow\thisPullYLow : 0 at: 0x5637dd8b5230\n",
      " OBJ: THnT<float>\thisPullYHM1\thisPullYHM1 : 0 at: 0x5637dd8b5a20\n",
      " OBJ: THnT<float>\thisPullYBL\thisPullYBL : 0 at: 0x5637dd8b6210\n",
      " OBJ: THnT<float>\thisPullYCL\thisPullYCL : 0 at: 0x5637dd8b6a00\n",
      " OBJ: THnT<float>\thisPullZLow\thisPullZLow : 0 at: 0x5637dd8b71f0\n",
      " OBJ: THnT<float>\thisPullZHM1\thisPullZHM1 : 0 at: 0x5637dd8b79e0\n",
      " OBJ: THnT<float>\thisPullZBL\thisPullZBL : 0 at: 0x5637dd8b81d0\n",
      " OBJ: THnT<float>\thisPullZCL\thisPullZCL : 0 at: 0x5637dd8b89c0\n"
     ]
    },
    {
     "name": "stderr",
     "output_type": "stream",
     "text": [
      "Info in <TFile::OpenFromCache>: using local cache copy of http://rootinteractive.web.cern.ch/RootInteractive/testData/JIRA/PWGPP-485/hisPull.root [../data/RootInteractive/testData/JIRA/PWGPP-485/hisPull.root]\n"
     ]
    }
   ],
   "source": [
    "ROOT.TFile.SetCacheFileDir(\"../data/\")\n",
    "f = ROOT.TFile.Open(\"http://rootinteractive.web.cern.ch/RootInteractive/testData/JIRA/PWGPP-485/hisPull.root\",\"cacheread\")\n",
    "hisArray  = f.Get(\"hisArray\")\n",
    "hisArray.ls()"
   ]
  },
  {
   "cell_type": "code",
   "execution_count": 3,
   "metadata": {},
   "outputs": [
    {
     "data": {
      "text/plain": [
       "\u001b[0;31mInit signature:\u001b[0m \u001b[0mdrawHisto\u001b[0m\u001b[0;34m(\u001b[0m\u001b[0mself\u001b[0m\u001b[0;34m,\u001b[0m \u001b[0mhistograms\u001b[0m\u001b[0;34m,\u001b[0m \u001b[0mselection\u001b[0m\u001b[0;34m,\u001b[0m \u001b[0;34m**\u001b[0m\u001b[0moptions\u001b[0m\u001b[0;34m)\u001b[0m\u001b[0;34m\u001b[0m\u001b[0m\n",
       "\u001b[0;31mDocstring:\u001b[0m      <no docstring>\n",
       "\u001b[0;31mInit docstring:\u001b[0m\n",
       ":param histograms:      TObjArray consists of multidimensional TTree's ( THnT )\n",
       "                            for detailed info check:\n",
       "                                https://root.cern.ch/doc/master/classTObjArray.html\n",
       "                                https://root.cern.ch/doc/master/classTHnT.html\n",
       "\n",
       ":param selection:       String, list of the  histograms to draw. Separated by commas (,)\n",
       "                        Dimensions to draw must be included inside of parenthesis' as an integer.\n",
       "                        Ex:\n",
       "                            \"hisdZ(3),hisdZ(0),hisPullZHM1(3),hisPullZCL(1)\"\n",
       "\n",
       ":param options:         -ncols: the number of columns\n",
       "\u001b[0;31mFile:\u001b[0m           ~/github/RootInteractiveTest/JIRA/PWGPP-485/drawHisto.py\n",
       "\u001b[0;31mType:\u001b[0m           type\n"
      ]
     },
     "metadata": {},
     "output_type": "display_data"
    }
   ],
   "source": [
    "drawHisto?"
   ]
  },
  {
   "cell_type": "code",
   "execution_count": 4,
   "metadata": {},
   "outputs": [
    {
     "data": {
      "text/html": [
       "\n",
       "\n",
       "\n",
       "\n",
       "\n",
       "\n",
       "  <div class=\"bk-root\" id=\"185eebbc-e6ff-4fb0-adfd-2757581c9879\" data-root-id=\"1171\"></div>\n"
      ]
     },
     "metadata": {},
     "output_type": "display_data"
    },
    {
     "data": {
      "application/javascript": [
       "(function(root) {\n",
       "  function embed_document(root) {\n",
       "    \n",
       "  var docs_json = {\"ced9d803-75ed-48f8-8c72-91775ad7b2ce\":{\"roots\":{\"references\":[{\"attributes\":{},\"id\":\"1140\",\"type\":\"UnionRenderers\"},{\"attributes\":{},\"id\":\"1147\",\"type\":\"BasicTickFormatter\"},{\"attributes\":{},\"id\":\"1149\",\"type\":\"BasicTickFormatter\"},{\"attributes\":{\"bottom_units\":\"screen\",\"fill_alpha\":{\"value\":0.5},\"fill_color\":{\"value\":\"lightgrey\"},\"left_units\":\"screen\",\"level\":\"overlay\",\"line_alpha\":{\"value\":1.0},\"line_color\":{\"value\":\"black\"},\"line_dash\":[4,4],\"line_width\":{\"value\":2},\"plot\":null,\"render_mode\":\"css\",\"right_units\":\"screen\",\"top_units\":\"screen\"},\"id\":\"1079\",\"type\":\"BoxAnnotation\"},{\"attributes\":{\"active_drag\":\"auto\",\"active_inspect\":\"auto\",\"active_multi\":null,\"active_scroll\":\"auto\",\"active_tap\":\"auto\",\"tools\":[{\"id\":\"1068\",\"type\":\"PanTool\"},{\"id\":\"1069\",\"type\":\"BoxZoomTool\"},{\"id\":\"1070\",\"type\":\"WheelZoomTool\"},{\"id\":\"1071\",\"type\":\"BoxSelectTool\"},{\"id\":\"1072\",\"type\":\"LassoSelectTool\"},{\"id\":\"1073\",\"type\":\"ResetTool\"}]},\"id\":\"1074\",\"type\":\"Toolbar\"},{\"attributes\":{\"bottom_units\":\"screen\",\"fill_alpha\":{\"value\":0.5},\"fill_color\":{\"value\":\"lightgrey\"},\"left_units\":\"screen\",\"level\":\"overlay\",\"line_alpha\":{\"value\":1.0},\"line_color\":{\"value\":\"black\"},\"line_dash\":[4,4],\"line_width\":{\"value\":2},\"plot\":null,\"render_mode\":\"css\",\"right_units\":\"screen\",\"top_units\":\"screen\"},\"id\":\"1075\",\"type\":\"BoxAnnotation\"},{\"attributes\":{\"callback\":null,\"overlay\":{\"id\":\"1082\",\"type\":\"PolyAnnotation\"}},\"id\":\"1072\",\"type\":\"LassoSelectTool\"},{\"attributes\":{},\"id\":\"1073\",\"type\":\"ResetTool\"},{\"attributes\":{},\"id\":\"1070\",\"type\":\"WheelZoomTool\"},{\"attributes\":{\"callback\":null,\"overlay\":{\"id\":\"1079\",\"type\":\"BoxAnnotation\"}},\"id\":\"1071\",\"type\":\"BoxSelectTool\"},{\"attributes\":{\"callback\":null},\"id\":\"1094\",\"type\":\"DataRange1d\"},{\"attributes\":{\"callback\":null,\"start\":0},\"id\":\"1096\",\"type\":\"DataRange1d\"},{\"attributes\":{\"callback\":null,\"data\":{\"bottom\":[0,0,0,0,0,0,0,0,0,0,0,0,0,0,0,0,0,0,0,0,0,0,0,0,0,0,0,0,0,0,0,0,0,0,0,0,0,0,0,0,0,0,0,0,0,0,0,0,0,0,0,0,0,0,0,0,0,0,0,0,0,0,0,0,0,0,0,0,0,0,0,0,0,0,0,0,0,0,0,0,0,0,0,0,0,0,0,0,0,0,0,0,0,0,0,0,0,0,0,0],\"left\":[-6.0,-5.88,-5.76,-5.64,-5.52,-5.4,-5.28,-5.16,-5.04,-4.92,-4.8,-4.68,-4.5600000000000005,-4.4399999999999995,-4.32,-4.2,-4.08,-3.96,-3.84,-3.72,-3.6,-3.48,-3.3600000000000003,-3.24,-3.12,-3.0,-2.88,-2.7600000000000002,-2.64,-2.52,-2.4000000000000004,-2.2800000000000002,-2.16,-2.04,-1.92,-1.7999999999999998,-1.6799999999999997,-1.5600000000000005,-1.4400000000000004,-1.3200000000000003,-1.2000000000000002,-1.08,-0.96,-0.8399999999999999,-0.7200000000000006,-0.6000000000000005,-0.4800000000000004,-0.3600000000000003,-0.2400000000000002,-0.1200000000000001,0.0,0.1200000000000001,0.2400000000000002,0.35999999999999943,0.47999999999999954,0.5999999999999996,0.7199999999999998,0.8399999999999999,0.96,1.08,1.1999999999999993,1.3199999999999994,1.4399999999999995,1.5599999999999996,1.6799999999999997,1.7999999999999998,1.92,2.039999999999999,2.16,2.2799999999999994,2.4000000000000004,2.5199999999999996,2.6400000000000006,2.76,2.879999999999999,3.0,3.119999999999999,3.24,3.3599999999999994,3.4800000000000004,3.5999999999999996,3.719999999999999,3.84,3.959999999999999,4.08,4.199999999999999,4.32,4.4399999999999995,4.559999999999999,4.68,4.799999999999999,4.92,5.039999999999999,5.16,5.279999999999999,5.4,5.52,5.639999999999999,5.76,5.879999999999999],\"right\":[-5.88,-5.76,-5.64,-5.52,-5.4,-5.28,-5.16,-5.04,-4.92,-4.8,-4.68,-4.5600000000000005,-4.4399999999999995,-4.32,-4.2,-4.08,-3.96,-3.84,-3.72,-3.6,-3.48,-3.3600000000000003,-3.24,-3.12,-3.0,-2.88,-2.7600000000000002,-2.64,-2.52,-2.4000000000000004,-2.2800000000000002,-2.16,-2.04,-1.92,-1.7999999999999998,-1.6799999999999997,-1.5600000000000005,-1.4400000000000004,-1.3200000000000003,-1.2000000000000002,-1.08,-0.96,-0.8399999999999999,-0.7200000000000006,-0.6000000000000005,-0.4800000000000004,-0.3600000000000003,-0.2400000000000002,-0.1200000000000001,0.0,0.1200000000000001,0.2400000000000002,0.35999999999999943,0.47999999999999954,0.5999999999999996,0.7199999999999998,0.8399999999999999,0.96,1.08,1.1999999999999993,1.3199999999999994,1.4399999999999995,1.5599999999999996,1.6799999999999997,1.7999999999999998,1.92,2.039999999999999,2.16,2.2799999999999994,2.4000000000000004,2.5199999999999996,2.6400000000000006,2.76,2.879999999999999,3.0,3.119999999999999,3.24,3.3599999999999994,3.4800000000000004,3.5999999999999996,3.719999999999999,3.84,3.959999999999999,4.08,4.199999999999999,4.32,4.4399999999999995,4.559999999999999,4.68,4.799999999999999,4.92,5.039999999999999,5.16,5.279999999999999,5.4,5.52,5.639999999999999,5.76,5.879999999999999,6.0],\"top\":[215.0,261.0,274.0,355.0,377.0,457.0,483.0,597.0,663.0,694.0,773.0,898.0,1035.0,1174.0,1261.0,1398.0,1486.0,1681.0,1765.0,2095.0,2221.0,2432.0,2731.0,2994.0,3381.0,3820.0,4249.0,4727.0,5362.0,5979.0,6802.0,7843.0,9066.0,10397.0,12157.0,14455.0,16938.0,20321.0,24844.0,30323.0,36530.0,44327.0,53790.0,64718.0,77630.0,90683.0,104267.0,115408.0,123827.0,128923.0,128635.0,123994.0,113990.0,103080.0,89518.0,76763.0,64579.0,53348.0,44531.0,36082.0,29846.0,24741.0,20499.0,17290.0,14543.0,12475.0,10628.0,9123.0,8048.0,7085.0,6188.0,5401.0,4761.0,4441.0,3948.0,3617.0,3144.0,2872.0,2569.0,2334.0,2097.0,1873.0,1677.0,1600.0,1331.0,1297.0,1151.0,999.0,922.0,782.0,715.0,670.0,560.0,548.0,445.0,354.0,334.0,288.0,259.0,247.0]},\"selected\":{\"id\":\"1161\",\"type\":\"Selection\"},\"selection_policy\":{\"id\":\"1162\",\"type\":\"UnionRenderers\"}},\"id\":\"1090\",\"type\":\"ColumnDataSource\"},{\"attributes\":{\"plot\":null,\"text\":\"hisPullYHM1 projection pullyHM1\"},\"id\":\"1091\",\"type\":\"Title\"},{\"attributes\":{\"background_fill_color\":{\"value\":\"#fafafa\"},\"below\":[{\"id\":\"1102\",\"type\":\"LinearAxis\"}],\"left\":[{\"id\":\"1107\",\"type\":\"LinearAxis\"}],\"plot_height\":400,\"plot_width\":400,\"renderers\":[{\"id\":\"1102\",\"type\":\"LinearAxis\"},{\"id\":\"1106\",\"type\":\"Grid\"},{\"id\":\"1107\",\"type\":\"LinearAxis\"},{\"id\":\"1111\",\"type\":\"Grid\"},{\"id\":\"1119\",\"type\":\"BoxAnnotation\"},{\"id\":\"1123\",\"type\":\"BoxAnnotation\"},{\"id\":\"1126\",\"type\":\"PolyAnnotation\"},{\"id\":\"1132\",\"type\":\"GlyphRenderer\"}],\"title\":{\"id\":\"1091\",\"type\":\"Title\"},\"toolbar\":{\"id\":\"1118\",\"type\":\"Toolbar\"},\"toolbar_location\":null,\"x_range\":{\"id\":\"1094\",\"type\":\"DataRange1d\"},\"x_scale\":{\"id\":\"1098\",\"type\":\"LinearScale\"},\"y_range\":{\"id\":\"1096\",\"type\":\"DataRange1d\"},\"y_scale\":{\"id\":\"1100\",\"type\":\"LinearScale\"}},\"id\":\"1092\",\"subtype\":\"Figure\",\"type\":\"Plot\"},{\"attributes\":{},\"id\":\"1098\",\"type\":\"LinearScale\"},{\"attributes\":{},\"id\":\"1150\",\"type\":\"Selection\"},{\"attributes\":{\"overlay\":{\"id\":\"1075\",\"type\":\"BoxAnnotation\"}},\"id\":\"1069\",\"type\":\"BoxZoomTool\"},{\"attributes\":{},\"id\":\"1068\",\"type\":\"PanTool\"},{\"attributes\":{\"formatter\":{\"id\":\"1149\",\"type\":\"BasicTickFormatter\"},\"plot\":{\"id\":\"1048\",\"subtype\":\"Figure\",\"type\":\"Plot\"},\"ticker\":{\"id\":\"1064\",\"type\":\"BasicTicker\"}},\"id\":\"1063\",\"type\":\"LinearAxis\"},{\"attributes\":{\"plot\":{\"id\":\"1048\",\"subtype\":\"Figure\",\"type\":\"Plot\"},\"ticker\":{\"id\":\"1059\",\"type\":\"BasicTicker\"}},\"id\":\"1062\",\"type\":\"Grid\"},{\"attributes\":{},\"id\":\"1064\",\"type\":\"BasicTicker\"},{\"attributes\":{\"dimension\":1,\"plot\":{\"id\":\"1048\",\"subtype\":\"Figure\",\"type\":\"Plot\"},\"ticker\":{\"id\":\"1064\",\"type\":\"BasicTicker\"}},\"id\":\"1067\",\"type\":\"Grid\"},{\"attributes\":{\"bottom\":{\"field\":\"bottom\"},\"fill_color\":{\"value\":\"navy\"},\"left\":{\"field\":\"left\"},\"line_color\":{\"value\":\"white\"},\"right\":{\"field\":\"right\"},\"top\":{\"field\":\"top\"}},\"id\":\"1087\",\"type\":\"Quad\"},{\"attributes\":{\"fill_alpha\":{\"value\":0.5},\"fill_color\":{\"value\":\"lightgrey\"},\"level\":\"overlay\",\"line_alpha\":{\"value\":1.0},\"line_color\":{\"value\":\"black\"},\"line_dash\":[4,4],\"line_width\":{\"value\":2},\"plot\":null,\"xs_units\":\"screen\",\"ys_units\":\"screen\"},\"id\":\"1082\",\"type\":\"PolyAnnotation\"},{\"attributes\":{\"bottom_units\":\"screen\",\"fill_alpha\":{\"value\":0.5},\"fill_color\":{\"value\":\"lightgrey\"},\"left_units\":\"screen\",\"level\":\"overlay\",\"line_alpha\":{\"value\":1.0},\"line_color\":{\"value\":\"black\"},\"line_dash\":[4,4],\"line_width\":{\"value\":2},\"plot\":null,\"render_mode\":\"css\",\"right_units\":\"screen\",\"top_units\":\"screen\"},\"id\":\"1123\",\"type\":\"BoxAnnotation\"},{\"attributes\":{\"source\":{\"id\":\"1046\",\"type\":\"ColumnDataSource\"}},\"id\":\"1089\",\"type\":\"CDSView\"},{\"attributes\":{\"data_source\":{\"id\":\"1046\",\"type\":\"ColumnDataSource\"},\"glyph\":{\"id\":\"1087\",\"type\":\"Quad\"},\"hover_glyph\":null,\"muted_glyph\":null,\"view\":{\"id\":\"1089\",\"type\":\"CDSView\"}},\"id\":\"1088\",\"type\":\"GlyphRenderer\"},{\"attributes\":{\"plot\":{\"id\":\"1004\",\"subtype\":\"Figure\",\"type\":\"Plot\"},\"ticker\":{\"id\":\"1015\",\"type\":\"BasicTicker\"}},\"id\":\"1018\",\"type\":\"Grid\"},{\"attributes\":{\"formatter\":{\"id\":\"1138\",\"type\":\"BasicTickFormatter\"},\"plot\":{\"id\":\"1004\",\"subtype\":\"Figure\",\"type\":\"Plot\"},\"ticker\":{\"id\":\"1020\",\"type\":\"BasicTicker\"}},\"id\":\"1019\",\"type\":\"LinearAxis\"},{\"attributes\":{\"axis_label\":\"dy\",\"formatter\":{\"id\":\"1136\",\"type\":\"BasicTickFormatter\"},\"plot\":{\"id\":\"1004\",\"subtype\":\"Figure\",\"type\":\"Plot\"},\"ticker\":{\"id\":\"1015\",\"type\":\"BasicTicker\"}},\"id\":\"1014\",\"type\":\"LinearAxis\"},{\"attributes\":{},\"id\":\"1015\",\"type\":\"BasicTicker\"},{\"attributes\":{},\"id\":\"1010\",\"type\":\"LinearScale\"},{\"attributes\":{},\"id\":\"1012\",\"type\":\"LinearScale\"},{\"attributes\":{},\"id\":\"1139\",\"type\":\"Selection\"},{\"attributes\":{},\"id\":\"1138\",\"type\":\"BasicTickFormatter\"},{\"attributes\":{\"source\":{\"id\":\"1090\",\"type\":\"ColumnDataSource\"}},\"id\":\"1133\",\"type\":\"CDSView\"},{\"attributes\":{\"data_source\":{\"id\":\"1090\",\"type\":\"ColumnDataSource\"},\"glyph\":{\"id\":\"1131\",\"type\":\"Quad\"},\"hover_glyph\":null,\"muted_glyph\":null,\"view\":{\"id\":\"1133\",\"type\":\"CDSView\"}},\"id\":\"1132\",\"type\":\"GlyphRenderer\"},{\"attributes\":{\"bottom\":{\"field\":\"bottom\"},\"fill_color\":{\"value\":\"navy\"},\"left\":{\"field\":\"left\"},\"line_color\":{\"value\":\"white\"},\"right\":{\"field\":\"right\"},\"top\":{\"field\":\"top\"}},\"id\":\"1131\",\"type\":\"Quad\"},{\"attributes\":{},\"id\":\"1136\",\"type\":\"BasicTickFormatter\"},{\"attributes\":{\"callback\":null,\"start\":0},\"id\":\"1008\",\"type\":\"DataRange1d\"},{\"attributes\":{\"callback\":null},\"id\":\"1006\",\"type\":\"DataRange1d\"},{\"attributes\":{\"background_fill_color\":{\"value\":\"#fafafa\"},\"below\":[{\"id\":\"1014\",\"type\":\"LinearAxis\"}],\"left\":[{\"id\":\"1019\",\"type\":\"LinearAxis\"}],\"plot_height\":400,\"plot_width\":400,\"renderers\":[{\"id\":\"1014\",\"type\":\"LinearAxis\"},{\"id\":\"1018\",\"type\":\"Grid\"},{\"id\":\"1019\",\"type\":\"LinearAxis\"},{\"id\":\"1023\",\"type\":\"Grid\"},{\"id\":\"1031\",\"type\":\"BoxAnnotation\"},{\"id\":\"1035\",\"type\":\"BoxAnnotation\"},{\"id\":\"1038\",\"type\":\"PolyAnnotation\"},{\"id\":\"1044\",\"type\":\"GlyphRenderer\"}],\"title\":{\"id\":\"1003\",\"type\":\"Title\"},\"toolbar\":{\"id\":\"1030\",\"type\":\"Toolbar\"},\"toolbar_location\":null,\"x_range\":{\"id\":\"1006\",\"type\":\"DataRange1d\"},\"x_scale\":{\"id\":\"1010\",\"type\":\"LinearScale\"},\"y_range\":{\"id\":\"1008\",\"type\":\"DataRange1d\"},\"y_scale\":{\"id\":\"1012\",\"type\":\"LinearScale\"}},\"id\":\"1004\",\"subtype\":\"Figure\",\"type\":\"Plot\"},{\"attributes\":{\"plot\":null,\"text\":\"hisdY projection dy\"},\"id\":\"1003\",\"type\":\"Title\"},{\"attributes\":{\"callback\":null,\"data\":{\"bottom\":[0,0,0,0,0,0,0,0,0,0,0,0,0,0,0,0,0,0,0,0,0,0,0,0,0,0,0,0,0,0,0,0,0,0,0,0,0,0,0,0,0,0,0,0,0,0,0,0,0,0,0,0,0,0,0,0,0,0,0,0,0,0,0,0,0,0,0,0,0,0,0,0,0,0,0,0,0,0,0,0,0,0,0,0,0,0,0,0,0,0,0,0,0,0,0,0,0,0,0,0],\"left\":[-1.5,-1.47,-1.44,-1.41,-1.38,-1.35,-1.32,-1.29,-1.26,-1.23,-1.2,-1.17,-1.1400000000000001,-1.1099999999999999,-1.08,-1.05,-1.02,-0.99,-0.96,-0.93,-0.9,-0.87,-0.8400000000000001,-0.81,-0.78,-0.75,-0.72,-0.6900000000000001,-0.66,-0.63,-0.6000000000000001,-0.5700000000000001,-0.54,-0.51,-0.48,-0.44999999999999996,-0.41999999999999993,-0.3900000000000001,-0.3600000000000001,-0.33000000000000007,-0.30000000000000004,-0.27,-0.24,-0.20999999999999996,-0.18000000000000016,-0.15000000000000013,-0.1200000000000001,-0.09000000000000008,-0.06000000000000005,-0.030000000000000027,0.0,0.030000000000000027,0.06000000000000005,0.08999999999999986,0.11999999999999988,0.1499999999999999,0.17999999999999994,0.20999999999999996,0.24,0.27,0.2999999999999998,0.32999999999999985,0.3599999999999999,0.3899999999999999,0.41999999999999993,0.44999999999999996,0.48,0.5099999999999998,0.54,0.5699999999999998,0.6000000000000001,0.6299999999999999,0.6600000000000001,0.69,0.7199999999999998,0.75,0.7799999999999998,0.81,0.8399999999999999,0.8700000000000001,0.8999999999999999,0.9299999999999997,0.96,0.9899999999999998,1.02,1.0499999999999998,1.08,1.1099999999999999,1.1399999999999997,1.17,1.1999999999999997,1.23,1.2599999999999998,1.29,1.3199999999999998,1.35,1.38,1.4099999999999997,1.44,1.4699999999999998],\"right\":[-1.47,-1.44,-1.41,-1.38,-1.35,-1.32,-1.29,-1.26,-1.23,-1.2,-1.17,-1.1400000000000001,-1.1099999999999999,-1.08,-1.05,-1.02,-0.99,-0.96,-0.93,-0.9,-0.87,-0.8400000000000001,-0.81,-0.78,-0.75,-0.72,-0.6900000000000001,-0.66,-0.63,-0.6000000000000001,-0.5700000000000001,-0.54,-0.51,-0.48,-0.44999999999999996,-0.41999999999999993,-0.3900000000000001,-0.3600000000000001,-0.33000000000000007,-0.30000000000000004,-0.27,-0.24,-0.20999999999999996,-0.18000000000000016,-0.15000000000000013,-0.1200000000000001,-0.09000000000000008,-0.06000000000000005,-0.030000000000000027,0.0,0.030000000000000027,0.06000000000000005,0.08999999999999986,0.11999999999999988,0.1499999999999999,0.17999999999999994,0.20999999999999996,0.24,0.27,0.2999999999999998,0.32999999999999985,0.3599999999999999,0.3899999999999999,0.41999999999999993,0.44999999999999996,0.48,0.5099999999999998,0.54,0.5699999999999998,0.6000000000000001,0.6299999999999999,0.6600000000000001,0.69,0.7199999999999998,0.75,0.7799999999999998,0.81,0.8399999999999999,0.8700000000000001,0.8999999999999999,0.9299999999999997,0.96,0.9899999999999998,1.02,1.0499999999999998,1.08,1.1099999999999999,1.1399999999999997,1.17,1.1999999999999997,1.23,1.2599999999999998,1.29,1.3199999999999998,1.35,1.38,1.4099999999999997,1.44,1.4699999999999998,1.5],\"top\":[5.0,9.0,14.0,13.0,19.0,17.0,26.0,29.0,40.0,42.0,49.0,68.0,79.0,91.0,117.0,149.0,295.0,459.0,598.0,700.0,810.0,971.0,1062.0,1248.0,1462.0,1728.0,1953.0,2322.0,2557.0,2960.0,3441.0,4024.0,4915.0,5669.0,6682.0,7791.0,9155.0,10968.0,12952.0,15815.0,18939.0,23693.0,30137.0,39513.0,52942.0,73647.0,104860.0,149470.0,206051.0,249831.0,249855.0,203207.0,148029.0,104159.0,73056.0,53376.0,39518.0,30511.0,23863.0,19235.0,16038.0,13103.0,11139.0,9287.0,7873.0,6758.0,5654.0,4903.0,4363.0,3683.0,2987.0,2608.0,2382.0,1895.0,1659.0,1444.0,1264.0,1093.0,941.0,811.0,673.0,623.0,504.0,255.0,153.0,111.0,82.0,74.0,52.0,45.0,48.0,25.0,22.0,17.0,13.0,20.0,14.0,21.0,5.0,7.0]},\"selected\":{\"id\":\"1139\",\"type\":\"Selection\"},\"selection_policy\":{\"id\":\"1140\",\"type\":\"UnionRenderers\"}},\"id\":\"1002\",\"type\":\"ColumnDataSource\"},{\"attributes\":{\"fill_alpha\":{\"value\":0.5},\"fill_color\":{\"value\":\"lightgrey\"},\"level\":\"overlay\",\"line_alpha\":{\"value\":1.0},\"line_color\":{\"value\":\"black\"},\"line_dash\":[4,4],\"line_width\":{\"value\":2},\"plot\":null,\"xs_units\":\"screen\",\"ys_units\":\"screen\"},\"id\":\"1038\",\"type\":\"PolyAnnotation\"},{\"attributes\":{\"active_drag\":\"auto\",\"active_inspect\":\"auto\",\"active_multi\":null,\"active_scroll\":\"auto\",\"active_tap\":\"auto\",\"tools\":[{\"id\":\"1024\",\"type\":\"PanTool\"},{\"id\":\"1025\",\"type\":\"BoxZoomTool\"},{\"id\":\"1026\",\"type\":\"WheelZoomTool\"},{\"id\":\"1027\",\"type\":\"BoxSelectTool\"},{\"id\":\"1028\",\"type\":\"LassoSelectTool\"},{\"id\":\"1029\",\"type\":\"ResetTool\"}]},\"id\":\"1030\",\"type\":\"Toolbar\"},{\"attributes\":{\"bottom_units\":\"screen\",\"fill_alpha\":{\"value\":0.5},\"fill_color\":{\"value\":\"lightgrey\"},\"left_units\":\"screen\",\"level\":\"overlay\",\"line_alpha\":{\"value\":1.0},\"line_color\":{\"value\":\"black\"},\"line_dash\":[4,4],\"line_width\":{\"value\":2},\"plot\":null,\"render_mode\":\"css\",\"right_units\":\"screen\",\"top_units\":\"screen\"},\"id\":\"1031\",\"type\":\"BoxAnnotation\"},{\"attributes\":{\"bottom_units\":\"screen\",\"fill_alpha\":{\"value\":0.5},\"fill_color\":{\"value\":\"lightgrey\"},\"left_units\":\"screen\",\"level\":\"overlay\",\"line_alpha\":{\"value\":1.0},\"line_color\":{\"value\":\"black\"},\"line_dash\":[4,4],\"line_width\":{\"value\":2},\"plot\":null,\"render_mode\":\"css\",\"right_units\":\"screen\",\"top_units\":\"screen\"},\"id\":\"1035\",\"type\":\"BoxAnnotation\"},{\"attributes\":{\"fill_alpha\":{\"value\":0.5},\"fill_color\":{\"value\":\"lightgrey\"},\"level\":\"overlay\",\"line_alpha\":{\"value\":1.0},\"line_color\":{\"value\":\"black\"},\"line_dash\":[4,4],\"line_width\":{\"value\":2},\"plot\":null,\"xs_units\":\"screen\",\"ys_units\":\"screen\"},\"id\":\"1126\",\"type\":\"PolyAnnotation\"},{\"attributes\":{\"overlay\":{\"id\":\"1031\",\"type\":\"BoxAnnotation\"}},\"id\":\"1025\",\"type\":\"BoxZoomTool\"},{\"attributes\":{},\"id\":\"1024\",\"type\":\"PanTool\"},{\"attributes\":{\"callback\":null,\"overlay\":{\"id\":\"1035\",\"type\":\"BoxAnnotation\"}},\"id\":\"1027\",\"type\":\"BoxSelectTool\"},{\"attributes\":{},\"id\":\"1026\",\"type\":\"WheelZoomTool\"},{\"attributes\":{},\"id\":\"1020\",\"type\":\"BasicTicker\"},{\"attributes\":{\"dimension\":1,\"plot\":{\"id\":\"1004\",\"subtype\":\"Figure\",\"type\":\"Plot\"},\"ticker\":{\"id\":\"1020\",\"type\":\"BasicTicker\"}},\"id\":\"1023\",\"type\":\"Grid\"},{\"attributes\":{},\"id\":\"1029\",\"type\":\"ResetTool\"},{\"attributes\":{\"callback\":null,\"overlay\":{\"id\":\"1038\",\"type\":\"PolyAnnotation\"}},\"id\":\"1028\",\"type\":\"LassoSelectTool\"},{\"attributes\":{\"plot\":{\"id\":\"1092\",\"subtype\":\"Figure\",\"type\":\"Plot\"},\"ticker\":{\"id\":\"1103\",\"type\":\"BasicTicker\"}},\"id\":\"1106\",\"type\":\"Grid\"},{\"attributes\":{\"formatter\":{\"id\":\"1160\",\"type\":\"BasicTickFormatter\"},\"plot\":{\"id\":\"1092\",\"subtype\":\"Figure\",\"type\":\"Plot\"},\"ticker\":{\"id\":\"1108\",\"type\":\"BasicTicker\"}},\"id\":\"1107\",\"type\":\"LinearAxis\"},{\"attributes\":{\"axis_label\":\"pullyHM1\",\"formatter\":{\"id\":\"1158\",\"type\":\"BasicTickFormatter\"},\"plot\":{\"id\":\"1092\",\"subtype\":\"Figure\",\"type\":\"Plot\"},\"ticker\":{\"id\":\"1103\",\"type\":\"BasicTicker\"}},\"id\":\"1102\",\"type\":\"LinearAxis\"},{\"attributes\":{},\"id\":\"1103\",\"type\":\"BasicTicker\"},{\"attributes\":{},\"id\":\"1100\",\"type\":\"LinearScale\"},{\"attributes\":{},\"id\":\"1108\",\"type\":\"BasicTicker\"},{\"attributes\":{\"children\":[{\"id\":\"1004\",\"subtype\":\"Figure\",\"type\":\"Plot\"},{\"id\":\"1048\",\"subtype\":\"Figure\",\"type\":\"Plot\"},{\"id\":\"1092\",\"subtype\":\"Figure\",\"type\":\"Plot\"}]},\"id\":\"1167\",\"type\":\"Row\"},{\"attributes\":{},\"id\":\"1160\",\"type\":\"BasicTickFormatter\"},{\"attributes\":{},\"id\":\"1161\",\"type\":\"Selection\"},{\"attributes\":{},\"id\":\"1162\",\"type\":\"UnionRenderers\"},{\"attributes\":{\"children\":[{\"id\":\"1167\",\"type\":\"Row\"}]},\"id\":\"1168\",\"type\":\"Column\"},{\"attributes\":{\"tools\":[{\"id\":\"1024\",\"type\":\"PanTool\"},{\"id\":\"1025\",\"type\":\"BoxZoomTool\"},{\"id\":\"1026\",\"type\":\"WheelZoomTool\"},{\"id\":\"1027\",\"type\":\"BoxSelectTool\"},{\"id\":\"1028\",\"type\":\"LassoSelectTool\"},{\"id\":\"1029\",\"type\":\"ResetTool\"},{\"id\":\"1068\",\"type\":\"PanTool\"},{\"id\":\"1069\",\"type\":\"BoxZoomTool\"},{\"id\":\"1070\",\"type\":\"WheelZoomTool\"},{\"id\":\"1071\",\"type\":\"BoxSelectTool\"},{\"id\":\"1072\",\"type\":\"LassoSelectTool\"},{\"id\":\"1073\",\"type\":\"ResetTool\"},{\"id\":\"1112\",\"type\":\"PanTool\"},{\"id\":\"1113\",\"type\":\"BoxZoomTool\"},{\"id\":\"1114\",\"type\":\"WheelZoomTool\"},{\"id\":\"1115\",\"type\":\"BoxSelectTool\"},{\"id\":\"1116\",\"type\":\"LassoSelectTool\"},{\"id\":\"1117\",\"type\":\"ResetTool\"}]},\"id\":\"1169\",\"type\":\"ProxyToolbar\"},{\"attributes\":{},\"id\":\"1158\",\"type\":\"BasicTickFormatter\"},{\"attributes\":{\"callback\":null},\"id\":\"1050\",\"type\":\"DataRange1d\"},{\"attributes\":{\"callback\":null,\"start\":0},\"id\":\"1052\",\"type\":\"DataRange1d\"},{\"attributes\":{},\"id\":\"1054\",\"type\":\"LinearScale\"},{\"attributes\":{},\"id\":\"1056\",\"type\":\"LinearScale\"},{\"attributes\":{\"axis_label\":\"pullyLM\",\"formatter\":{\"id\":\"1147\",\"type\":\"BasicTickFormatter\"},\"plot\":{\"id\":\"1048\",\"subtype\":\"Figure\",\"type\":\"Plot\"},\"ticker\":{\"id\":\"1059\",\"type\":\"BasicTicker\"}},\"id\":\"1058\",\"type\":\"LinearAxis\"},{\"attributes\":{},\"id\":\"1059\",\"type\":\"BasicTicker\"},{\"attributes\":{\"dimension\":1,\"plot\":{\"id\":\"1092\",\"subtype\":\"Figure\",\"type\":\"Plot\"},\"ticker\":{\"id\":\"1108\",\"type\":\"BasicTicker\"}},\"id\":\"1111\",\"type\":\"Grid\"},{\"attributes\":{\"overlay\":{\"id\":\"1119\",\"type\":\"BoxAnnotation\"}},\"id\":\"1113\",\"type\":\"BoxZoomTool\"},{\"attributes\":{},\"id\":\"1112\",\"type\":\"PanTool\"},{\"attributes\":{\"callback\":null,\"overlay\":{\"id\":\"1123\",\"type\":\"BoxAnnotation\"}},\"id\":\"1115\",\"type\":\"BoxSelectTool\"},{\"attributes\":{},\"id\":\"1114\",\"type\":\"WheelZoomTool\"},{\"attributes\":{},\"id\":\"1117\",\"type\":\"ResetTool\"},{\"attributes\":{\"callback\":null,\"overlay\":{\"id\":\"1126\",\"type\":\"PolyAnnotation\"}},\"id\":\"1116\",\"type\":\"LassoSelectTool\"},{\"attributes\":{\"bottom_units\":\"screen\",\"fill_alpha\":{\"value\":0.5},\"fill_color\":{\"value\":\"lightgrey\"},\"left_units\":\"screen\",\"level\":\"overlay\",\"line_alpha\":{\"value\":1.0},\"line_color\":{\"value\":\"black\"},\"line_dash\":[4,4],\"line_width\":{\"value\":2},\"plot\":null,\"render_mode\":\"css\",\"right_units\":\"screen\",\"top_units\":\"screen\"},\"id\":\"1119\",\"type\":\"BoxAnnotation\"},{\"attributes\":{\"active_drag\":\"auto\",\"active_inspect\":\"auto\",\"active_multi\":null,\"active_scroll\":\"auto\",\"active_tap\":\"auto\",\"tools\":[{\"id\":\"1112\",\"type\":\"PanTool\"},{\"id\":\"1113\",\"type\":\"BoxZoomTool\"},{\"id\":\"1114\",\"type\":\"WheelZoomTool\"},{\"id\":\"1115\",\"type\":\"BoxSelectTool\"},{\"id\":\"1116\",\"type\":\"LassoSelectTool\"},{\"id\":\"1117\",\"type\":\"ResetTool\"}]},\"id\":\"1118\",\"type\":\"Toolbar\"},{\"attributes\":{\"children\":[{\"id\":\"1170\",\"type\":\"ToolbarBox\"},{\"id\":\"1168\",\"type\":\"Column\"}]},\"id\":\"1171\",\"type\":\"Column\"},{\"attributes\":{\"toolbar\":{\"id\":\"1169\",\"type\":\"ProxyToolbar\"},\"toolbar_location\":\"above\"},\"id\":\"1170\",\"type\":\"ToolbarBox\"},{\"attributes\":{},\"id\":\"1151\",\"type\":\"UnionRenderers\"},{\"attributes\":{\"bottom\":{\"field\":\"bottom\"},\"fill_color\":{\"value\":\"navy\"},\"left\":{\"field\":\"left\"},\"line_color\":{\"value\":\"white\"},\"right\":{\"field\":\"right\"},\"top\":{\"field\":\"top\"}},\"id\":\"1043\",\"type\":\"Quad\"},{\"attributes\":{\"plot\":null,\"text\":\"hisPullYLow projection pullyLM\"},\"id\":\"1047\",\"type\":\"Title\"},{\"attributes\":{\"callback\":null,\"data\":{\"bottom\":[0,0,0,0,0,0,0,0,0,0,0,0,0,0,0,0,0,0,0,0,0,0,0,0,0,0,0,0,0,0,0,0,0,0,0,0,0,0,0,0,0,0,0,0,0,0,0,0,0,0,0,0,0,0,0,0,0,0,0,0,0,0,0,0,0,0,0,0,0,0,0,0,0,0,0,0,0,0,0,0,0,0,0,0,0,0,0,0,0,0,0,0,0,0,0,0,0,0,0,0],\"left\":[-6.0,-5.88,-5.76,-5.64,-5.52,-5.4,-5.28,-5.16,-5.04,-4.92,-4.8,-4.68,-4.5600000000000005,-4.4399999999999995,-4.32,-4.2,-4.08,-3.96,-3.84,-3.72,-3.6,-3.48,-3.3600000000000003,-3.24,-3.12,-3.0,-2.88,-2.7600000000000002,-2.64,-2.52,-2.4000000000000004,-2.2800000000000002,-2.16,-2.04,-1.92,-1.7999999999999998,-1.6799999999999997,-1.5600000000000005,-1.4400000000000004,-1.3200000000000003,-1.2000000000000002,-1.08,-0.96,-0.8399999999999999,-0.7200000000000006,-0.6000000000000005,-0.4800000000000004,-0.3600000000000003,-0.2400000000000002,-0.1200000000000001,0.0,0.1200000000000001,0.2400000000000002,0.35999999999999943,0.47999999999999954,0.5999999999999996,0.7199999999999998,0.8399999999999999,0.96,1.08,1.1999999999999993,1.3199999999999994,1.4399999999999995,1.5599999999999996,1.6799999999999997,1.7999999999999998,1.92,2.039999999999999,2.16,2.2799999999999994,2.4000000000000004,2.5199999999999996,2.6400000000000006,2.76,2.879999999999999,3.0,3.119999999999999,3.24,3.3599999999999994,3.4800000000000004,3.5999999999999996,3.719999999999999,3.84,3.959999999999999,4.08,4.199999999999999,4.32,4.4399999999999995,4.559999999999999,4.68,4.799999999999999,4.92,5.039999999999999,5.16,5.279999999999999,5.4,5.52,5.639999999999999,5.76,5.879999999999999],\"right\":[-5.88,-5.76,-5.64,-5.52,-5.4,-5.28,-5.16,-5.04,-4.92,-4.8,-4.68,-4.5600000000000005,-4.4399999999999995,-4.32,-4.2,-4.08,-3.96,-3.84,-3.72,-3.6,-3.48,-3.3600000000000003,-3.24,-3.12,-3.0,-2.88,-2.7600000000000002,-2.64,-2.52,-2.4000000000000004,-2.2800000000000002,-2.16,-2.04,-1.92,-1.7999999999999998,-1.6799999999999997,-1.5600000000000005,-1.4400000000000004,-1.3200000000000003,-1.2000000000000002,-1.08,-0.96,-0.8399999999999999,-0.7200000000000006,-0.6000000000000005,-0.4800000000000004,-0.3600000000000003,-0.2400000000000002,-0.1200000000000001,0.0,0.1200000000000001,0.2400000000000002,0.35999999999999943,0.47999999999999954,0.5999999999999996,0.7199999999999998,0.8399999999999999,0.96,1.08,1.1999999999999993,1.3199999999999994,1.4399999999999995,1.5599999999999996,1.6799999999999997,1.7999999999999998,1.92,2.039999999999999,2.16,2.2799999999999994,2.4000000000000004,2.5199999999999996,2.6400000000000006,2.76,2.879999999999999,3.0,3.119999999999999,3.24,3.3599999999999994,3.4800000000000004,3.5999999999999996,3.719999999999999,3.84,3.959999999999999,4.08,4.199999999999999,4.32,4.4399999999999995,4.559999999999999,4.68,4.799999999999999,4.92,5.039999999999999,5.16,5.279999999999999,5.4,5.52,5.639999999999999,5.76,5.879999999999999,6.0],\"top\":[810.0,841.0,945.0,998.0,1055.0,1176.0,1225.0,1325.0,1400.0,1497.0,1540.0,1740.0,1804.0,1918.0,1971.0,2157.0,2355.0,2490.0,2781.0,2986.0,3219.0,3507.0,3853.0,4375.0,4843.0,5271.0,5762.0,6460.0,7180.0,8383.0,9261.0,10664.0,12362.0,14016.0,16646.0,19336.0,22668.0,26828.0,31339.0,36641.0,42851.0,50162.0,57141.0,65455.0,73886.0,82112.0,89032.0,94815.0,98921.0,101198.0,101114.0,99395.0,94009.0,88065.0,81017.0,72898.0,64530.0,56717.0,49657.0,42711.0,36401.0,31154.0,26863.0,22443.0,19346.0,16692.0,14380.0,12273.0,10911.0,9536.0,8339.0,7453.0,6649.0,5980.0,5247.0,4906.0,4483.0,4072.0,3698.0,3340.0,3067.0,2879.0,2605.0,2484.0,2227.0,2172.0,1919.0,1889.0,1733.0,1576.0,1494.0,1376.0,1344.0,1303.0,1178.0,1134.0,1006.0,912.0,882.0,817.0]},\"selected\":{\"id\":\"1150\",\"type\":\"Selection\"},\"selection_policy\":{\"id\":\"1151\",\"type\":\"UnionRenderers\"}},\"id\":\"1046\",\"type\":\"ColumnDataSource\"},{\"attributes\":{\"source\":{\"id\":\"1002\",\"type\":\"ColumnDataSource\"}},\"id\":\"1045\",\"type\":\"CDSView\"},{\"attributes\":{\"data_source\":{\"id\":\"1002\",\"type\":\"ColumnDataSource\"},\"glyph\":{\"id\":\"1043\",\"type\":\"Quad\"},\"hover_glyph\":null,\"muted_glyph\":null,\"view\":{\"id\":\"1045\",\"type\":\"CDSView\"}},\"id\":\"1044\",\"type\":\"GlyphRenderer\"},{\"attributes\":{\"background_fill_color\":{\"value\":\"#fafafa\"},\"below\":[{\"id\":\"1058\",\"type\":\"LinearAxis\"}],\"left\":[{\"id\":\"1063\",\"type\":\"LinearAxis\"}],\"plot_height\":400,\"plot_width\":400,\"renderers\":[{\"id\":\"1058\",\"type\":\"LinearAxis\"},{\"id\":\"1062\",\"type\":\"Grid\"},{\"id\":\"1063\",\"type\":\"LinearAxis\"},{\"id\":\"1067\",\"type\":\"Grid\"},{\"id\":\"1075\",\"type\":\"BoxAnnotation\"},{\"id\":\"1079\",\"type\":\"BoxAnnotation\"},{\"id\":\"1082\",\"type\":\"PolyAnnotation\"},{\"id\":\"1088\",\"type\":\"GlyphRenderer\"}],\"title\":{\"id\":\"1047\",\"type\":\"Title\"},\"toolbar\":{\"id\":\"1074\",\"type\":\"Toolbar\"},\"toolbar_location\":null,\"x_range\":{\"id\":\"1050\",\"type\":\"DataRange1d\"},\"x_scale\":{\"id\":\"1054\",\"type\":\"LinearScale\"},\"y_range\":{\"id\":\"1052\",\"type\":\"DataRange1d\"},\"y_scale\":{\"id\":\"1056\",\"type\":\"LinearScale\"}},\"id\":\"1048\",\"subtype\":\"Figure\",\"type\":\"Plot\"}],\"root_ids\":[\"1171\"]},\"title\":\"Bokeh Application\",\"version\":\"1.0.4\"}};\n",
       "  var render_items = [{\"docid\":\"ced9d803-75ed-48f8-8c72-91775ad7b2ce\",\"notebook_comms_target\":\"1202\",\"roots\":{\"1171\":\"185eebbc-e6ff-4fb0-adfd-2757581c9879\"}}];\n",
       "  root.Bokeh.embed.embed_items_notebook(docs_json, render_items);\n",
       "\n",
       "  }\n",
       "  if (root.Bokeh !== undefined) {\n",
       "    embed_document(root);\n",
       "  } else {\n",
       "    var attempts = 0;\n",
       "    var timer = setInterval(function(root) {\n",
       "      if (root.Bokeh !== undefined) {\n",
       "        embed_document(root);\n",
       "        clearInterval(timer);\n",
       "      }\n",
       "      attempts++;\n",
       "      if (attempts > 100) {\n",
       "        console.log(\"Bokeh: ERROR: Unable to run BokehJS code because BokehJS library is missing\");\n",
       "        clearInterval(timer);\n",
       "      }\n",
       "    }, 10, root)\n",
       "  }\n",
       "})(window);"
      ],
      "application/vnd.bokehjs_exec.v0+json": ""
     },
     "metadata": {
      "application/vnd.bokehjs_exec.v0+json": {
       "id": "1171"
      }
     },
     "output_type": "display_data"
    },
    {
     "data": {
      "application/vnd.jupyter.widget-view+json": {
       "model_id": "d222056a60c847bfaf1e7e7d99a90bd3",
       "version_major": 2,
       "version_minor": 0
      },
      "text/plain": [
       "VkJveChjaGlsZHJlbj0oRmxvYXRSYW5nZVNsaWRlcih2YWx1ZT0oMC4wLCAxNjAuMCksIGRlc2NyaXB0aW9uPXUncm93JywgbGF5b3V0PUxheW91dCh3aWR0aD11JzY2JScpLCBtYXg9MTYwLjDigKY=\n"
      ]
     },
     "metadata": {},
     "output_type": "display_data"
    },
    {
     "name": "stderr",
     "output_type": "stream",
     "text": [
      "Warning in <TFile::Append>: Replacing existing TH1: hisdY_proj_0 (Potential memory leak).\n",
      "Warning in <TFile::Append>: Replacing existing TH1: hisPullYLow_proj_0 (Potential memory leak).\n",
      "Warning in <TFile::Append>: Replacing existing TH1: hisPullYHM1_proj_0 (Potential memory leak).\n"
     ]
    }
   ],
   "source": [
    "selection=\"hisdY(0),hisPullYLow(0),hisPullYHM1(0)\"\n",
    "x=drawHisto(hisArray,selection,ncols=3);"
   ]
  },
  {
   "cell_type": "code",
   "execution_count": 5,
   "metadata": {},
   "outputs": [
    {
     "name": "stdout",
     "output_type": "stream",
     "text": [
      "THnT<float> (*0x5637dd748220): \"hisdY\" \"hisdY\"\n",
      "  5 dimensions, 2.09798e+06 entries in 856800 filled bins\n",
      "    axis 0 \"dy\": 100 bins (-1.5..1.5), variable bin sizes\n",
      "    axis 1 \"multM\": 10 bins (0..3), variable bin sizes\n",
      "    axis 2 \"tgl\": 5 bins (0..1), variable bin sizes\n",
      "    axis 3 \"mdEdx\": 8 bins (0..1), variable bin sizes\n",
      "    axis 4 \"row\": 8 bins (0..160), variable bin sizes\n"
     ]
    }
   ],
   "source": [
    "hisArray.At(0).Print(\"all\")"
   ]
  }
 ],
 "metadata": {
  "kernelspec": {
   "display_name": "Python 2",
   "language": "python",
   "name": "python2"
  },
  "language_info": {
   "codemirror_mode": {
    "name": "ipython",
    "version": 2
   },
   "file_extension": ".py",
   "mimetype": "text/x-python",
   "name": "python",
   "nbconvert_exporter": "python",
   "pygments_lexer": "ipython2",
   "version": "2.7.15rc1"
  }
 },
 "nbformat": 4,
 "nbformat_minor": 2
}
