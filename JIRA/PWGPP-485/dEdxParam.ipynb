{
 "cells": [
  {
   "cell_type": "markdown",
   "metadata": {},
   "source": [
    "# Load include "
   ]
  },
  {
   "cell_type": "code",
   "execution_count": null,
   "metadata": {},
   "outputs": [],
   "source": [
    "from Tools.aliTreePlayer import *\n",
    "from TTreeHnInteractive.TTreeHnBrowser import *\n",
    "from InteractiveDrawing.bokeh.bokehTools import *\n",
    "#from MLpipeline.NDFunctionInterface import  DataContainer, Fitter\n",
    "from InteractiveDrawing.bokeh.bokehDrawPanda import *\n",
    "from InteractiveDrawing.bokeh.bokehDraw import *\n",
    "output_notebook()\n",
    "p3 = figure(plot_width=700, plot_height=400, title=\"template\")"
   ]
  },
  {
   "cell_type": "code",
   "execution_count": null,
   "metadata": {},
   "outputs": [],
   "source": [
    "tree=ROOT.AliTreePlayer.LoadTrees(\"cat tree.list\",\".*\",\"xxx\",\".*\",\"\",\"\")\n",
    "tree.SetAlias(\"selected\",\"rndm<0.3\")"
   ]
  },
  {
   "cell_type": "code",
   "execution_count": null,
   "metadata": {},
   "outputs": [],
   "source": [
    "bokehDraw.verbosity=3\n",
    "variables=\"elA:piA:kaA:prA:it:ptot:eta:selected:cent:sign\"\n",
    "varDraw=\"elA:piA:kaA:prA\"\n",
    "tooltips=[('Eta ','@eta'),('Centrality ','@cent'),(\"pTot\",\"@ptot\"),(\"Iteration\",\"@it\")]\n",
    "p3 = figure(plot_width=500, plot_height=300, title=\"template\")\n",
    "widgets=\"tab.cuts(slider.ptot(0.2,2.2,0.02,0.2,2.2),slider.eta(0,0.8,0.1,0.0,0.1),slider.cent(0,100,10,0,100),dropdown.it(0,1,2,3,4,5,6)),tab.sign(dropdown.sign(0,1,-1))\"\n",
    "xxx=bokehDraw(tree,\"elA>1&piA>100&kaA>50&prA>1\",\"ptot\",varDraw,\"cent\",widgets,p3,commonX=1,size=4,ncols=2,nEntries=100000000,tooltip=tooltips,variables=variables, y_axis_type=\"log\")\n"
   ]
  },
  {
   "cell_type": "code",
   "execution_count": null,
   "metadata": {},
   "outputs": [],
   "source": []
  }
 ],
 "metadata": {
  "kernelspec": {
   "display_name": "Python 2",
   "language": "python",
   "name": "python2"
  },
  "language_info": {
   "codemirror_mode": {
    "name": "ipython",
    "version": 2
   },
   "file_extension": ".py",
   "mimetype": "text/x-python",
   "name": "python",
   "nbconvert_exporter": "python",
   "pygments_lexer": "ipython2",
   "version": "2.7.15rc1"
  }
 },
 "nbformat": 4,
 "nbformat_minor": 2
}
