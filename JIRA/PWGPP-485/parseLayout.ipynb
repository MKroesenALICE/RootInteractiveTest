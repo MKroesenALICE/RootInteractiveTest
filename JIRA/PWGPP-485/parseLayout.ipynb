{
 "cells": [
  {
   "cell_type": "markdown",
   "metadata": {},
   "source": [
    "# Parsing of the bokeh layout playing"
   ]
  },
  {
   "cell_type": "code",
   "execution_count": null,
   "metadata": {},
   "outputs": [],
   "source": [
    "import pyparsing \n",
    "from bokeh.io import output_notebook, show\n",
    "from bokeh.plotting import figure\n",
    "from bokeh.layouts import *\n",
    "from bokeh.models import HoverTool\n",
    "output_notebook()\n",
    "import random\n",
    "from bokeh.palettes import Spectral6 as palette\n",
    "import itertools\n",
    "colors = itertools.cycle(palette)"
   ]
  },
  {
   "cell_type": "code",
   "execution_count": null,
   "metadata": {},
   "outputs": [],
   "source": [
    "npoints=50\n",
    "nfigures=10\n",
    "x = list(range(npoints))\n",
    "yList=[]\n",
    "figList=[]\n",
    "tooltips=[(\"x\",\"(@x)\"),  (\"y\",\"@y\")]\n",
    "tools = 'pan,box_zoom, wheel_zoom,box_select,lasso_select,reset'\n",
    "tools = [HoverTool(tooltips=tooltips), tools]\n",
    "for i in range(nfigures):\n",
    "    y=random.sample(xrange(100), npoints)\n",
    "    if (i>0): \n",
    "        for idx, val in enumerate(y):\n",
    "            y[idx]+=yList[i-1][idx]\n",
    "    y.sort()\n",
    "    yList.append(y)\n",
    "    f = figure(width=250, plot_height=250,tools=tools)\n",
    "    f.circle(x, y, size=10, color=next(colors), alpha=0.5)\n",
    "    figList.append(f)\n",
    "f=figList    "
   ]
  },
  {
   "cell_type": "code",
   "execution_count": null,
   "metadata": {},
   "outputs": [],
   "source": [
    "f[2].plot_width=2*f[0].plot_width\n",
    "pp=gridplot([[f[0],f[1]],[f[2]],[f[3]]],plot_height=150)\n",
    "show(pp)"
   ]
  },
  {
   "cell_type": "code",
   "execution_count": null,
   "metadata": {},
   "outputs": [],
   "source": [
    "def processRow(row, figList,layoutList):\n",
    "    print(\"Raw\",row)\n",
    "    array=[]\n",
    "    layoutList.append(array)\n",
    "    option=processLayoutOption(row)\n",
    "    print(\"Option\",option)\n",
    "    for idx,y in enumerate(row):\n",
    "        if not y.isdigit(): continue \n",
    "        fig=figList[int(y)]\n",
    "        array.append(fig)\n",
    "        if ('commonY' in option):\n",
    "            if type(option[\"commonY\"])==str: \n",
    "                fig.y_range=array[0].y_range\n",
    "            else:\n",
    "                try: fig.y_range=figList[int(option[\"commonY\"])].y_range\n",
    "                except ValueError: continue\n",
    "        if ('commonX' in option):\n",
    "            if type(option[\"commonX\"])==str: \n",
    "                fig.x_range=array[0].x_range\n",
    "            else:\n",
    "                try: fig.x_range=figList[int(option[\"commonX\"])].x_range\n",
    "                except ValueError,e : \n",
    "                    logger.error('Failed: to processs option '+ option[\"commonX\"])\n",
    "\n",
    "            \n",
    "        if (idx>0) & ('y_visible' in option): fig.yaxis.visible=bool(option[\"y_visible\"])\n",
    "        if ('x_visible' in option):     fig.xaxis.visible=bool(option[\"x_visible\"])\n",
    "            \n",
    "           \n",
    "def processLayoutOption(layout):   # https://stackoverflow.com/questions/9305387/string-of-kwargs-to-kwargs\n",
    "    options={}\n",
    "    for x in layout: \n",
    "        if not(type(x) == str): continue\n",
    "        if (\"=\" in str(x)):                  ## one of the way to see if it's list\n",
    "            try:\n",
    "                k, v=x.split(\"=\")\n",
    "            except ValueError: continue   \n",
    "            options[k]=v\n",
    "            if v.isdigit():\n",
    "                options[k]=int(v)\n",
    "            else:\n",
    "                try:\n",
    "                    options[k]=float(v)\n",
    "                except ValueError:\n",
    "                    options[k]=v \n",
    "    return options\n",
    "\n",
    "def processLayout(layout, figList):\n",
    "    thecontent = pyparsing.Word(pyparsing.alphanums+\".+-=_\")  | pyparsing.Suppress(',')\n",
    "    parens     = pyparsing.nestedExpr( '(', ')', content=thecontent)\n",
    "    res = parens.parseString(layout)[0]\n",
    "    layoutList=[]\n",
    "    optionList=[]\n",
    "    #print(res.asList())\n",
    "    options=processLayoutOption(res)\n",
    "    print(options)\n",
    "    for x in res:\n",
    "        if type(x) != str:  \n",
    "           processRow(x,figList,layoutList)\n",
    "    return res.asList(), layoutList, options"
   ]
  },
  {
   "cell_type": "code",
   "execution_count": null,
   "metadata": {},
   "outputs": [],
   "source": [
    "layout=\"((0,3,commonY=1,commonX=1.4,x_visible=1,y_visible=0), (1,plot_height=0.4,commonY=1,commonX=1), plot_height=300, plot_width=600)\"\n",
    "x,layoutList,options=processLayout(layout,figList)\n",
    "show(gridplot(layoutList,**options))"
   ]
  },
  {
   "cell_type": "code",
   "execution_count": null,
   "metadata": {},
   "outputs": [],
   "source": []
  }
 ],
 "metadata": {
  "kernelspec": {
   "display_name": "Python 2",
   "language": "python",
   "name": "python2"
  },
  "language_info": {
   "codemirror_mode": {
    "name": "ipython",
    "version": 2
   },
   "file_extension": ".py",
   "mimetype": "text/x-python",
   "name": "python",
   "nbconvert_exporter": "python",
   "pygments_lexer": "ipython2",
   "version": "2.7.15rc1"
  }
 },
 "nbformat": 4,
 "nbformat_minor": 2
}
