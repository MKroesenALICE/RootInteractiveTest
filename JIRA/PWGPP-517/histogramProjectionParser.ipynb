{
 "cells": [
  {
   "cell_type": "code",
   "execution_count": null,
   "metadata": {},
   "outputs": [],
   "source": [
    "import pyparsing  # make sure you have this installed\n",
    "import numpy as np\n",
    "from RootInteractive.InteractiveDrawing.bokeh.bokehDrawHisto import *"
   ]
  },
  {
   "cell_type": "markdown",
   "metadata": {},
   "source": [
    "# Parse projection string"
   ]
  },
  {
   "cell_type": "code",
   "execution_count": null,
   "metadata": {},
   "outputs": [],
   "source": [
    "finput=ROOT.TFile(\" ~/github/data/RootInteractive/testData/JIRA/PWGPP-485/hisPull.root\")\n",
    "hisArray=finput.Get(\"hisArray\")\n",
    "hisArray.ls()"
   ]
  },
  {
   "cell_type": "code",
   "execution_count": null,
   "metadata": {},
   "outputs": [],
   "source": [
    "np.abs?\n"
   ]
  },
  {
   "cell_type": "code",
   "execution_count": null,
   "metadata": {},
   "outputs": [],
   "source": [
    "histogramArray={}\n",
    "for his in hisArray:\n",
    "    ddHis=thnToNumpyDD(his)\n",
    "    histogramArray[ddHis['name']]=ddHis"
   ]
  },
  {
   "cell_type": "code",
   "execution_count": null,
   "metadata": {},
   "outputs": [],
   "source": [
    "def buildStr(strToBeBuild):\n",
    "    if isinstance(strToBeBuild,str):\n",
    "        return strToBeBuild\n",
    "    iString=''\n",
    "    iString += '('\n",
    "    for sub in strToBeBuild:\n",
    "        iString += buildStr(sub)\n",
    "    iString += ')'\n",
    "    return iString"
   ]
  },
  {
   "cell_type": "code",
   "execution_count": null,
   "metadata": {},
   "outputs": [],
   "source": [
    "def parseExpression(toParse):\n",
    "    theContent = pyparsing.Word(pyparsing.alphanums+\":,;+/-*^.\\/\")\n",
    "    parens = pyparsing.nestedExpr(\"(\", \")\", content=theContent)\n",
    "    res = parens.parseString(toParse)\n",
    "    projection=res.asList()\n",
    "    projection[0][0]=buildStr(projection[0][0])\n",
    "    return projection"
   ]
  },
  {
   "cell_type": "code",
   "execution_count": null,
   "metadata": {},
   "outputs": [],
   "source": [
    "expression=parseExpression(\"( (abs(hisdY)/cos(hisdZ*0.5)) (0:5,0:10,0,0:10) (0) () )\")\n",
    "print(expression)"
   ]
  },
  {
   "cell_type": "code",
   "execution_count": null,
   "metadata": {},
   "outputs": [],
   "source": [
    "def evalHistoExpression(expression, histogramArray):\n",
    "    # expression  hisdY-hisdZ, abs(hisdY-hisdZ)\n",
    "    query=expression[0][0]\n",
    "    keys=list(histogramArray.keys())\n",
    "    func_list = re.findall(r\"\\w+\\(\",expression[0][0])  # there still a paranthesis at the end\n",
    "    for iKey in keys:\n",
    "        query=query.replace(iKey,\"histogramArray[\\'\"+iKey+\"\\'][\\'H\\']\")\n",
    "    for iFunc in func_list:\n",
    "        if iFunc[:-1] in dir(np):\n",
    "            query=query.replace(iFunc,\"np.\"+iFunc)\n",
    "   # print(query)        \n",
    "    histogram = eval(query+\"[np.index_exp\"+str(expression[0][1]).replace(\"'\",\"\")+\"]\")\n",
    "    return histogram"
   ]
  },
  {
   "cell_type": "code",
   "execution_count": null,
   "metadata": {},
   "outputs": [],
   "source": [
    "histo=evalHistoExpression(expression, histogramArray)\n",
    "histo"
   ]
  },
  {
   "cell_type": "code",
   "execution_count": null,
   "metadata": {},
   "outputs": [],
   "source": [
    "toParse0 = \"((hisdY/hisdZ)(0:5,0:10,0,0:10)(0)())\"\n",
    "# theContent = pyparsing.Word(pyparsing.alphanums + \".+-_\") | '#' | pyparsing.Suppress(',') | pyparsing.Suppress(':')\n",
    "theContent = pyparsing.Word(pyparsing.alphanums+\":,;+/-*^\")\n",
    "parens = pyparsing.nestedExpr(\"(\", \")\", content=theContent)\n",
    "res = parens.parseString(toParse0)\n",
    "projection=res.asList()\n",
    "projection"
   ]
  },
  {
   "cell_type": "markdown",
   "metadata": {},
   "source": [
    "# Parse expression for histograms"
   ]
  },
  {
   "cell_type": "code",
   "execution_count": null,
   "metadata": {},
   "outputs": [],
   "source": [
    "parseExpression(\"((abs(hisdY))(0:5,0:10,0,0:10)(0)()+abs(hisdZ)(0:5,0:10,0,0:10)(0)()))\")"
   ]
  },
  {
   "cell_type": "code",
   "execution_count": null,
   "metadata": {},
   "outputs": [],
   "source": [
    "np.sin((histogramArray['hisdY']['H']))"
   ]
  },
  {
   "cell_type": "code",
   "execution_count": null,
   "metadata": {},
   "outputs": [],
   "source": [
    "(histogramArray['hisdY']['H']*histogramArray['hisdZ']['H'])"
   ]
  },
  {
   "cell_type": "markdown",
   "metadata": {},
   "source": [
    "# Create slice"
   ]
  },
  {
   "cell_type": "code",
   "execution_count": null,
   "metadata": {},
   "outputs": [],
   "source": [
    "slice = eval(\"np.index_exp\"+str(projection[0][1]).replace(\"'\",\"\"))\n",
    "slice"
   ]
  }
 ],
 "metadata": {
  "kernelspec": {
   "display_name": "Python 3",
   "language": "python",
   "name": "python3"
  },
  "language_info": {
   "codemirror_mode": {
    "name": "ipython",
    "version": 3
   },
   "file_extension": ".py",
   "mimetype": "text/x-python",
   "name": "python",
   "nbconvert_exporter": "python",
   "pygments_lexer": "ipython3",
   "version": "3.6.8"
  }
 },
 "nbformat": 4,
 "nbformat_minor": 2
}
