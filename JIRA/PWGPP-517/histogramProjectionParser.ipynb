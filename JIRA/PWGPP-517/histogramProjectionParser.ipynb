{
 "cells": [
  {
   "cell_type": "code",
   "execution_count": 15,
   "metadata": {},
   "outputs": [
    {
     "name": "stdout",
     "output_type": "stream",
     "text": [
      "Welcome to JupyROOT 6.15/02\n"
     ]
    }
   ],
   "source": [
    "import pyparsing  # make sure you have this installed\n",
    "import numpy as np\n",
    "from RootInteractive.InteractiveDrawing.bokeh.bokehDrawHisto import *"
   ]
  },
  {
   "cell_type": "markdown",
   "metadata": {},
   "source": [
    "# Parse projection string"
   ]
  },
  {
   "cell_type": "code",
   "execution_count": 16,
   "metadata": {},
   "outputs": [
    {
     "name": "stdout",
     "output_type": "stream",
     "text": [
      "OBJ: TObjArray\tTObjArray\tAn array of objects : 0\n",
      " OBJ: THnT<float>\thisdY\thisdY : 0 at: 0x6b25130\n",
      " OBJ: THnT<float>\thisdZ\thisdZ : 0 at: 0x779e050\n",
      " OBJ: THnT<float>\thisPullYLow\thisPullYLow : 0 at: 0x779e780\n",
      " OBJ: THnT<float>\thisPullYHM1\thisPullYHM1 : 0 at: 0x779ef70\n",
      " OBJ: THnT<float>\thisPullYBL\thisPullYBL : 0 at: 0x779f760\n",
      " OBJ: THnT<float>\thisPullYCL\thisPullYCL : 0 at: 0x779ff50\n",
      " OBJ: THnT<float>\thisPullZLow\thisPullZLow : 0 at: 0x77a0740\n",
      " OBJ: THnT<float>\thisPullZHM1\thisPullZHM1 : 0 at: 0x77a0f30\n",
      " OBJ: THnT<float>\thisPullZBL\thisPullZBL : 0 at: 0x77a1720\n",
      " OBJ: THnT<float>\thisPullZCL\thisPullZCL : 0 at: 0x77a1f10\n"
     ]
    }
   ],
   "source": [
    "finput=ROOT.TFile(\" ~/github/RootInteractive3/tutorial/data/RootInteractive/testData/JIRA/PWGPP-485/hisPull.root\")\n",
    "hisArray=finput.Get(\"hisArray\")\n",
    "hisArray.ls()\n"
   ]
  },
  {
   "cell_type": "code",
   "execution_count": 18,
   "metadata": {},
   "outputs": [],
   "source": [
    "histogramArray={}\n",
    "for his in hisArray:\n",
    "    ddHis=thnToNumpyDD(his)\n",
    "    histogramArray[ddHis['name']]=ddHis"
   ]
  },
  {
   "cell_type": "code",
   "execution_count": 24,
   "metadata": {},
   "outputs": [
    {
     "data": {
      "text/plain": [
       "[[['hisdY/hisdZ'], ['0:5,0:10,0,0:10'], ['0'], []]]"
      ]
     },
     "execution_count": 24,
     "metadata": {},
     "output_type": "execute_result"
    }
   ],
   "source": [
    "toParse0 = \"((hisdY/hisdZ)(0:5,0:10,0,0:10)(0)())\"\n",
    "# theContent = pyparsing.Word(pyparsing.alphanums + \".+-_\") | '#' | pyparsing.Suppress(',') | pyparsing.Suppress(':')\n",
    "theContent = pyparsing.Word(pyparsing.alphanums+\":,;+/-\")\n",
    "parens = pyparsing.nestedExpr(\"(\", \")\", content=theContent)\n",
    "res = parens.parseString(toParse0)\n",
    "projection=res.asList()\n",
    "projection"
   ]
  },
  {
   "cell_type": "markdown",
   "metadata": {},
   "source": [
    "# Parse expression for histograms"
   ]
  },
  {
   "cell_type": "code",
   "execution_count": null,
   "metadata": {},
   "outputs": [],
   "source": []
  },
  {
   "cell_type": "markdown",
   "metadata": {},
   "source": [
    "# Create slice"
   ]
  },
  {
   "cell_type": "code",
   "execution_count": 26,
   "metadata": {},
   "outputs": [
    {
     "data": {
      "text/plain": [
       "(slice(0, 5, None), slice(0, 10, None), 0, slice(0, 10, None))"
      ]
     },
     "execution_count": 26,
     "metadata": {},
     "output_type": "execute_result"
    }
   ],
   "source": [
    "slice = eval(\"np.index_exp\"+str(projection[0][1]).replace(\"'\",\"\"))\n",
    "slice"
   ]
  },
  {
   "cell_type": "code",
   "execution_count": null,
   "metadata": {},
   "outputs": [],
   "source": []
  }
 ],
 "metadata": {
  "kernelspec": {
   "display_name": "Python 3",
   "language": "python",
   "name": "python3"
  },
  "language_info": {
   "codemirror_mode": {
    "name": "ipython",
    "version": 3
   },
   "file_extension": ".py",
   "mimetype": "text/x-python",
   "name": "python",
   "nbconvert_exporter": "python",
   "pygments_lexer": "ipython3",
   "version": "3.6.7"
  }
 },
 "nbformat": 4,
 "nbformat_minor": 2
}
