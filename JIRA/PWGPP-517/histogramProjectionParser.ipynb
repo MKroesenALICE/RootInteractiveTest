{
 "cells": [
  {
   "cell_type": "code",
   "execution_count": null,
   "metadata": {},
   "outputs": [],
   "source": [
    "import pyparsing  # make sure you have this installed\n",
    "import numpy as np\n",
    "from RootInteractive.InteractiveDrawing.bokeh.bokehDrawHisto import *\n",
    "\n",
    "from bokeh.io import output_notebook\n",
    "from Tools.Alice.BetheBloch import *\n",
    "output_notebook()"
   ]
  },
  {
   "cell_type": "markdown",
   "metadata": {},
   "source": [
    "# Setup Toy MC"
   ]
  },
  {
   "cell_type": "code",
   "execution_count": null,
   "metadata": {},
   "outputs": [],
   "source": [
    "nPoints=1000000\n",
    "pdg=ROOT.TDatabasePDG.Instance()\n",
    "particleList=[\"e+\",\"mu+\",\"pi+\",\"K+\",\"proton\"]\n",
    "massList=[ pdg.GetParticle(a).Mass() for a in particleList ]    \n",
    "def GetMass(iPart):\n",
    "    return [massList[i] for i in iPart]\n",
    "detectors=[\"ITS\",\"TPC0\",\"TPC1\",\"TPC2\",\"TRD\"]"
   ]
  },
  {
   "cell_type": "markdown",
   "metadata": {},
   "source": [
    "# Make Toy MC generatinc array of dEdx measurement"
   ]
  },
  {
   "cell_type": "code",
   "execution_count": null,
   "metadata": {},
   "outputs": [],
   "source": [
    "p=np.random.random(nPoints)\n",
    "p*=5\n",
    "p+=0.1\n",
    "particle=np.random.randint(0,5,size=nPoints)\n",
    "mass=np.asarray(GetMass(particle))\n",
    "lbg=np.log(p/mass)\n",
    "data={'p':p, 'particle':particle, 'lbg':lbg}\n",
    "df=pd.DataFrame(data)\n",
    "for det in detectors:\n",
    "    df[det]=BetheBlochAlephNP(lbg)\n",
    "    df[det]*=np.random.normal(1,0.1,nPoints)"
   ]
  },
  {
   "cell_type": "code",
   "execution_count": null,
   "metadata": {},
   "outputs": [],
   "source": [
    "df.head(10)"
   ]
  },
  {
   "cell_type": "markdown",
   "metadata": {},
   "source": [
    "# Creating the histogram Array"
   ]
  },
  {
   "cell_type": "code",
   "execution_count": null,
   "metadata": {},
   "outputs": [],
   "source": [
    "histogramArray={}\n",
    "for det in detectors:\n",
    "    hisString=det+\":p:particle:#\"+det+\">0>>his\"+det+\"PP(100,0.5,3,100,0.3,5,5,0,5)\"\n",
    "    ddHis=makeHistogram(df,hisString)\n",
    "    histogramArray[det]=ddHis\n",
    "    \n",
    " "
   ]
  },
  {
   "cell_type": "markdown",
   "metadata": {},
   "source": [
    "# Define the parser"
   ]
  },
  {
   "cell_type": "code",
   "execution_count": null,
   "metadata": {},
   "outputs": [],
   "source": [
    "def buildStr(strToBeBuild):\n",
    "    if isinstance(strToBeBuild,str):\n",
    "        return strToBeBuild\n",
    "    iString=''\n",
    "    iString += '('\n",
    "    for sub in strToBeBuild:\n",
    "        iString += buildStr(sub)\n",
    "    iString += ')'\n",
    "    return iString\n",
    "\n",
    "def parseExpression(toParse):\n",
    "    theContent = pyparsing.Word(pyparsing.alphanums+\":,;+/-*^.\\/\")\n",
    "    parens = pyparsing.nestedExpr(\"(\", \")\", content=theContent)\n",
    "    res = parens.parseString(toParse)\n",
    "    projection=res.asList()\n",
    "    projection[0][0]=buildStr(projection[0][0])\n",
    "    return projection"
   ]
  },
  {
   "cell_type": "markdown",
   "metadata": {},
   "source": [
    "# Expression Evaluater"
   ]
  },
  {
   "cell_type": "code",
   "execution_count": null,
   "metadata": {},
   "outputs": [],
   "source": [
    "def evalHistoExpression(expression, histogramArray):\n",
    "    # expression  hisdY-hisdZ, abs(hisdY-hisdZ)\n",
    "    histogram={}\n",
    "    varnames=[]\n",
    "    query=expression[0][0]\n",
    "    keys=list(histogramArray.keys())\n",
    "    func_list = re.findall(r\"\\w+\\(\",expression[0][0])  # there still a paranthesis at the end\n",
    "    for iKey in keys:\n",
    "        query=query.replace(iKey,\"histogramArray[\\'\"+iKey+\"\\'][\\'H\\']\")\n",
    "        varnames+=histogramArray[iKey][\"varNames\"]\n",
    "        axes=histogramArray[iKey][\"axes\"]   # For now it uses axes from the last histogram since all axes are identical\n",
    "                                                # Later more clever way to determine axes will be implemented\n",
    "    for iFunc in func_list:\n",
    "        if iFunc[:-1] in dir(np):\n",
    "            query=query.replace(iFunc,\"np.\"+iFunc)   \n",
    "    histogram[\"H\"] = eval(query+\"[np.index_exp\"+str(expression[0][1]).replace(\"'\",\"\")+\"]\")\n",
    "    histogram[\"name\"]=expression[0][0][1:-1]\n",
    "    histogram[\"varNames\"]=list(set(varnames))\n",
    "    histogram[\"axes\"]=axes\n",
    "    \n",
    "    return histogram"
   ]
  },
  {
   "cell_type": "markdown",
   "metadata": {},
   "source": [
    "# Draw the histogram"
   ]
  },
  {
   "cell_type": "code",
   "execution_count": null,
   "metadata": {},
   "outputs": [],
   "source": [
    "expression=parseExpression(\"( (abs(TRD)/log(ITS*0.5+0.1)) (0:5,0:10,0:10) (0) () )\")\n",
    "print(expression)"
   ]
  },
  {
   "cell_type": "code",
   "execution_count": null,
   "metadata": {},
   "outputs": [],
   "source": [
    "histo=evalHistoExpression(expression, histogramArray)\n",
    "p,d=bokehDrawHistoSliceColz(histo,eval(\"np.index_exp[\"+str(expression[0][1][0])+\"]\"), 1,2,1, {'plot_width':800, 'plot_height':700},{'size':10})\n",
    "show(p)"
   ]
  }
 ],
 "metadata": {
  "kernelspec": {
   "display_name": "Python 3",
   "language": "python",
   "name": "python3"
  },
  "language_info": {
   "codemirror_mode": {
    "name": "ipython",
    "version": 3
   },
   "file_extension": ".py",
   "mimetype": "text/x-python",
   "name": "python",
   "nbconvert_exporter": "python",
   "pygments_lexer": "ipython3",
   "version": "3.6.8"
  }
 },
 "nbformat": 4,
 "nbformat_minor": 2
}
