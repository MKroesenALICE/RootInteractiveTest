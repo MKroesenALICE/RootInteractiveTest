{
 "cells": [
  {
   "cell_type": "code",
   "execution_count": null,
   "metadata": {},
   "outputs": [],
   "source": [
    "import pyparsing  # make sure you have this installed\n",
    "import numpy as np\n",
    "from RootInteractive.InteractiveDrawing.bokeh.bokehDrawHisto import *\n",
    "\n",
    "from bokeh.io import output_notebook\n",
    "from RootInteractive.Tools.Alice.BetheBloch import *\n",
    "output_notebook()"
   ]
  },
  {
   "cell_type": "markdown",
   "metadata": {},
   "source": [
    "# Setup Toy MC\n",
    "# Make Toy MC generatinc array of dEdx measurement using Tools MC"
   ]
  },
  {
   "cell_type": "code",
   "execution_count": null,
   "metadata": {},
   "outputs": [],
   "source": [
    "detectors=[\"ITS\",\"TPC0\",\"TPC1\",\"TPC2\",\"TRD\"]\n",
    "df=toyMC(100000,detectors)\n",
    "df.head(10)"
   ]
  },
  {
   "cell_type": "markdown",
   "metadata": {},
   "source": [
    "# Creating the histogram Array"
   ]
  },
  {
   "cell_type": "code",
   "execution_count": null,
   "metadata": {},
   "outputs": [],
   "source": [
    "histogramArray={}\n",
    "for det in detectors:\n",
    "    hisString=det+\":p:particle:#\"+det+\">0>>his\"+det+\"PP(100,0.5,3,100,0.3,5,5,0,5)\"\n",
    "    ddHis=makeHistogram(df,hisString)\n",
    "    histogramArray[det]=ddHis\n",
    " "
   ]
  },
  {
   "cell_type": "markdown",
   "metadata": {},
   "source": [
    "# Define the parser"
   ]
  },
  {
   "cell_type": "markdown",
   "metadata": {},
   "source": [
    "# Expression Evaluater"
   ]
  },
  {
   "cell_type": "code",
   "execution_count": null,
   "metadata": {},
   "outputs": [],
   "source": [
    "def evalHistoExpression2(expression, histogramArray):\n",
    "    # expression  hisdY-hisdZ, abs(hisdY-hisdZ)\n",
    "    print(expression)\n",
    "    histogram={}\n",
    "    axes=[]\n",
    "    varNames=[]\n",
    "    query=expression[0][0]\n",
    "    keys=list(set(re.findall(r\"\\w+\",expression[0][0])).intersection(list(histogramArray.keys())))\n",
    "    func_list = set(re.findall(r\"\\w+\\(\",expression[0][0]))  # there still a paranthesis at the end\n",
    "    \n",
    "    for iKey in keys:\n",
    "        query=query.replace(iKey,\"histogramArray[\\'\"+iKey+\"\\'][\\'H\\']\")\n",
    "        \n",
    "        for i,var in enumerate(histogramArray[iKey][\"varNames\"]):\n",
    "            try:\n",
    "                varNames[i].append(var)\n",
    "            except:\n",
    "                varNames.append([var])\n",
    "            varNames[i]=list(set(varNames[i]))\n",
    "                           \n",
    "        axes.append(histogramArray[iKey][\"axes\"])\n",
    "    \n",
    "    \n",
    "    tmp=axes[0]\n",
    "    for axe in axes:\n",
    "        for i in range(len(tmp)):\n",
    "            if not (axe[i] == tmp[i]).all():\n",
    "                raise valueError(\"histograms have incompatible axeses.\" )\n",
    "    axes=tmp\n",
    "    \n",
    "    for iFunc in func_list:\n",
    "        if iFunc[:-1] in dir(np):\n",
    "            query=query.replace(iFunc,\"np.\"+iFunc)  \n",
    "    \n",
    "    for i,var in enumerate(varNames):\n",
    "        varNames[i]=','.join(var)\n",
    "        \n",
    "    \n",
    "    print(query)        \n",
    "    histogram[\"H\"] = eval(query+\"[np.index_exp\"+str(expression[0][1]).replace(\"'\",\"\")+\"]\")\n",
    "    histogram[\"name\"]=expression[0][0][1:-1]\n",
    "    print(varNames)\n",
    "    histogram[\"varNames\"]=varNames\n",
    "    histogram[\"axes\"]=axes\n",
    "    \n",
    "    return histogram"
   ]
  },
  {
   "cell_type": "markdown",
   "metadata": {},
   "source": [
    "# Draw the histogram"
   ]
  },
  {
   "cell_type": "code",
   "execution_count": null,
   "metadata": {},
   "outputs": [],
   "source": [
    "expressionList=parseProjectionExpression(\"( (TRD-TRD*0.5+ITS-TRD/2) (0:100,1:10,0:10:2) (0,1) () )\")\n",
    "#expression=parseExpression(\"( (ITS) (0:100,0:10,0:10) (0,1) () )\")\n",
    "print(expressionList)\n",
    "histo=evalHistoExpression(expressionList, histogramArray)"
   ]
  },
  {
   "cell_type": "code",
   "execution_count": null,
   "metadata": {},
   "outputs": [],
   "source": [
    "p,d=bokehDrawHistoSliceColz(histo,eval(\"np.index_exp[\"+str(expressionList[0][1][0])+\"]\"), 0,1,1, {'plot_width':800, 'plot_height':700},{'size':10})\n",
    "show(p)"
   ]
  },
  {
   "cell_type": "code",
   "execution_count": null,
   "metadata": {},
   "outputs": [],
   "source": [
    "p,d = drawHistogramExpression(\"( (TRD-TRD*0.5+ITS-TRD/2-ITS*0.9999+-ITS*0.0001)(0:100,1:10,0:10:2) (0,1)())\",histogramArray,{'plot_width':800, 'plot_height':700},{'size':10})\n",
    "show(p)"
   ]
  }
 ],
 "metadata": {
  "kernelspec": {
   "display_name": "Python 3",
   "language": "python",
   "name": "python3"
  },
  "language_info": {
   "codemirror_mode": {
    "name": "ipython",
    "version": 3
   },
   "file_extension": ".py",
   "mimetype": "text/x-python",
   "name": "python",
   "nbconvert_exporter": "python",
   "pygments_lexer": "ipython3",
   "version": "3.6.8"
  }
 },
 "nbformat": 4,
 "nbformat_minor": 2
}
