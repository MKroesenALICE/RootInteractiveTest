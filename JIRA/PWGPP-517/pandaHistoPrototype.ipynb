{
 "cells": [
  {
   "cell_type": "code",
   "execution_count": null,
   "metadata": {},
   "outputs": [],
   "source": [
    "import numpy as np\n",
    "import matplotlib.pyplot as plt\n",
    "import math\n",
    "import pandas as pd\n",
    "from functools import partial\n",
    "#\n",
    "import re\n",
    "from RootInteractive.TTreeHnInteractive.TTreeHnBrowser import *\n",
    "from RootInteractive.InteractiveDrawing.bokeh.bokehDraw import *\n",
    "output_notebook()\n",
    "import ROOT\n",
    "ROOT.gSystem.Load(\"$ALICE_ROOT/lib/libSTAT.so\")\n",
    "from RootInteractive.Tools.aliTreePlayer import *\n",
    "from RootInteractive.Tools.histoNDTools import *\n",
    "import logging\n",
    "from RootInteractive.Tools.Alice.BetheBloch import *\n",
    "from bokeh.palettes import *\n",
    "logging.getLogger().setLevel(1)\n"
   ]
  },
  {
   "cell_type": "code",
   "execution_count": null,
   "metadata": {},
   "outputs": [],
   "source": [
    "bokehDrawHistoColz2?"
   ]
  },
  {
   "cell_type": "markdown",
   "metadata": {},
   "source": [
    "# Setup Toy MC"
   ]
  },
  {
   "cell_type": "code",
   "execution_count": null,
   "metadata": {},
   "outputs": [],
   "source": [
    "nPoints=1000000\n",
    "pdg=ROOT.TDatabasePDG.Instance()\n",
    "particleList=[\"e+\",\"mu+\",\"pi+\",\"K+\",\"proton\"]\n",
    "massList=[ pdg.GetParticle(a).Mass() for a in particleList ]    \n",
    "def GetMass(iPart):\n",
    "    return [massList[i] for i in iPart]\n",
    "detectors=[\"ITS\",\"TPC0\",\"TPC1\",\"TPC2\",\"TRD\"]"
   ]
  },
  {
   "cell_type": "markdown",
   "metadata": {},
   "source": [
    "# Make Toy MC generatinc array of dEdx measurement"
   ]
  },
  {
   "cell_type": "code",
   "execution_count": null,
   "metadata": {},
   "outputs": [],
   "source": [
    "p=np.random.random(nPoints)\n",
    "p*=5\n",
    "p+=0.1\n",
    "particle=np.random.randint(0,5,size=nPoints)\n",
    "mass=np.asarray(GetMass(particle))\n",
    "lbg=np.log(p/mass)\n",
    "data={'p':p, 'particle':particle, 'lbg':lbg}\n",
    "df=pd.DataFrame(data)\n",
    "for det in detectors:\n",
    "    df[det]=BetheBlochAlephNP(lbg)\n",
    "    df[det]*=np.random.normal(1,0.1,nPoints)"
   ]
  },
  {
   "cell_type": "code",
   "execution_count": null,
   "metadata": {},
   "outputs": [],
   "source": [
    "df.head(10)"
   ]
  },
  {
   "cell_type": "code",
   "execution_count": null,
   "metadata": {},
   "outputs": [],
   "source": [
    "hisString=\"TRD:p:particle:#TRD>0>>hisTRDPP(100,0.5,3,100,0.3,5,5,0,5)\"\n",
    "histo=makeHistogram(df,hisString)"
   ]
  },
  {
   "cell_type": "code",
   "execution_count": null,
   "metadata": {},
   "outputs": [],
   "source": [
    "#drawHisto(histo,slice):\n",
    "%timeit -n 100  histo[\"H\"].sum()"
   ]
  },
  {
   "cell_type": "code",
   "execution_count": null,
   "metadata": {},
   "outputs": [],
   "source": [
    "#plt.plot(histo[\"axes\"][0][1:51],histo[\"H\"][:,10,2],\"ro\")\n",
    "#histo[\"axes\"][0][0:50]"
   ]
  },
  {
   "cell_type": "code",
   "execution_count": null,
   "metadata": {},
   "outputs": [],
   "source": [
    "bokehDrawHistoSliceColz?"
   ]
  },
  {
   "cell_type": "code",
   "execution_count": null,
   "metadata": {},
   "outputs": [],
   "source": [
    "def bokehDrawHistoColz2(histo, hSlice, axisDraw, axisColor, figOption, graphOption):\n",
    "    # slice example  = np.index_exp[:, 1:3,3:5]\n",
    "    sliceString=str(hSlice).replace(\"slice\",\"\")\n",
    "    TOOLTIPS = [\n",
    "        (\"index\", \"$index\"),\n",
    "        (\"Slice\",sliceString)\n",
    "    ]\n",
    "    array=histo[\"H\"][hSlice]\n",
    "    plots=[]\n",
    "\n",
    "    axisSum=tuple([idx for idx,a in enumerate(array) if idx not in [axisDraw,axisColor]])\n",
    "    #= ColumnDataSource(dfQuery)\n",
    "    #bin0=slice[axisColor][0]\n",
    "    start=hSlice[axisColor].start\n",
    "    stop=hSlice[axisColor].stop\n",
    "    step=1\n",
    "    hSliceList=list(hSlice)\n",
    "    color=Category10[stop-start+2]\n",
    "    colorIndex=0\n",
    "    data={}\n",
    "    x=histo[\"axes\"][axisDraw][hSlice[axisDraw]]\n",
    "    data['varX']=x\n",
    "    fIndex=0\n",
    "    for a in range(start,stop,step):\n",
    "        hSliceList[axisColor]=slice(a,a+1,step)\n",
    "        hSliceLocal=tuple(hSliceList)\n",
    "        #print a, histo[\"axes\"][axisColor][a]\n",
    "        y=np.sum(histo[\"H\"][hSliceLocal],axis=(1,2))\n",
    "        data[\"varY\"+str(fIndex)]=y\n",
    "        TOOLTIPS.append((\"varY\"+str(hSliceList[axisColor]).replace(\"slice\",\"\"),\"@varY\"+str(fIndex)))\n",
    "        fIndex+=1\n",
    "    source =ColumnDataSource(data)\n",
    "    p2 = figure(title=histo[\"name\"], tooltips=TOOLTIPS, **figOption)\n",
    "    #print(data)\n",
    "    fIndex=0\n",
    "    for a in range(start,stop,step):\n",
    "        p2.scatter(\"varX\", \"varY\"+str(fIndex),source=source, color=color[fIndex],marker=bokehMarkers[fIndex%4], legend=\"Bin\"+str(a), **graphOption)\n",
    "        fIndex+=1\n",
    "    p2.legend.click_policy=\"hide\"   \n",
    "    show(p2)    \n",
    "    "
   ]
  },
  {
   "cell_type": "code",
   "execution_count": null,
   "metadata": {},
   "outputs": [],
   "source": [
    "figOption={'plot_width':600, 'plot_height':400}\n",
    "plotOption={'size':6}\n",
    "bokehDrawHistoColz2(histo,np.index_exp[1:50, 10:11,0:5], 0,2, {'plot_width':800, 'plot_height':700},{'size':10})"
   ]
  },
  {
   "cell_type": "code",
   "execution_count": null,
   "metadata": {},
   "outputs": [],
   "source": [
    "plotOption={'plot_width':600, 'plot_height':400}\n",
    "graphOption={'size':2}\n",
    "\n",
    "def dumpFun(plotOption, kwargs):\n",
    "    print (plotOption)\n",
    "    print (kwargs)\n",
    "    \n",
    "dumpFun(plotOption,graphOption)"
   ]
  },
  {
   "cell_type": "code",
   "execution_count": null,
   "metadata": {},
   "outputs": [],
   "source": [
    "hSlice = np.index_exp[:, 1:3,3:5]\n",
    "print(histo[\"H\"][hSlice].shape)\n",
    "np.sum(histo[\"H\"][hSlice],axis=(1,2))"
   ]
  },
  {
   "cell_type": "code",
   "execution_count": null,
   "metadata": {},
   "outputs": [],
   "source": [
    "\"y\"+str(1)"
   ]
  },
  {
   "cell_type": "raw",
   "metadata": {},
   "source": [
    "histoPD.query(\"count>0\").head()"
   ]
  },
  {
   "cell_type": "raw",
   "metadata": {},
   "source": [
    "selection=\"count>0\"\n",
    "varDraw=\"count\"\n",
    "widgets=\"tab.sliders(slider.TRD(0.5,3,0.1,0.5,3),slider.pmeas(0,5,0.2,0,5),slider.particle(0,5,1,1))\"\n",
    "layout=\"((0,plot_height=500),plot_height=500,plot_width=1000)\"\n",
    "xxx=bokehDraw(histoPD,selection,\"TRD\",\"count\",\"pmeas\",widgets,0,commonX=1,size=4,layout=layout)"
   ]
  },
  {
   "cell_type": "raw",
   "metadata": {},
   "source": [
    "hisString=\"\"\n",
    "hisString+=\"TRD:pmeas:particle:#TRD>0>>hisTRDPP(50,0.5,3,20,0.3,5,5,0,5)\"\n",
    "histo,edges,varList=makeHistogram(MCdata,hisString)"
   ]
  },
  {
   "cell_type": "code",
   "execution_count": null,
   "metadata": {},
   "outputs": [],
   "source": []
  }
 ],
 "metadata": {
  "kernelspec": {
   "display_name": "Python 3",
   "language": "python",
   "name": "python3"
  },
  "language_info": {
   "codemirror_mode": {
    "name": "ipython",
    "version": 3
   },
   "file_extension": ".py",
   "mimetype": "text/x-python",
   "name": "python",
   "nbconvert_exporter": "python",
   "pygments_lexer": "ipython3",
   "version": "3.6.8"
  }
 },
 "nbformat": 4,
 "nbformat_minor": 2
}
