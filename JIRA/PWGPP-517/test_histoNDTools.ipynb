{
 "cells": [
  {
   "cell_type": "markdown",
   "metadata": {},
   "source": [
    "# This is test notebook for developpers"
   ]
  },
  {
   "cell_type": "code",
   "execution_count": null,
   "metadata": {},
   "outputs": [],
   "source": [
    "import ROOT   \n",
    "from root_numpy import *\n",
    "from RootInteractive.Tools.histoNDTools import *\n",
    "# http://scikit-hep.org/root_numpy/reference/generated/root_numpy.hist2array.html#root_numpy.hist2array\n",
    "ROOT.TFile.SetCacheFileDir(\"../data/\")\n",
    "finput=ROOT.TFile.Open(\"https://rootinteractive.web.cern.ch/RootInteractive/testData/JIRA/PWGPP-485/hisPull.root\",\"cacheread\")\n",
    "hisArray=finput.Get(\"hisArray\")\n",
    "his=hisArray.FindObject(\"hisdY\")"
   ]
  },
  {
   "cell_type": "code",
   "execution_count": null,
   "metadata": {},
   "outputs": [],
   "source": [
    "histogram=thnToNumpyDD(his)"
   ]
  },
  {
   "cell_type": "code",
   "execution_count": null,
   "metadata": {},
   "outputs": [],
   "source": [
    "histogramArray={}\n",
    "for his in hisArray:\n",
    "    ddHis=thnToNumpyDD(his)\n",
    "    histogramArray[ddHis['name']]=ddHis"
   ]
  },
  {
   "cell_type": "code",
   "execution_count": null,
   "metadata": {},
   "outputs": [],
   "source": [
    "hisDraw=histogramArray['hisdY']\n",
    "print(hisDraw[\"varNames\"], hisDraw[\"axes\"])\n",
    "for i, axes in enumerate(hisDraw[\"axes\"]):\n",
    "    print(hisDraw['varNames'][i], hisDraw['axes'][i].size)"
   ]
  },
  {
   "cell_type": "code",
   "execution_count": null,
   "metadata": {},
   "outputs": [],
   "source": [
    "xxx,yyy=bokehDrawHistoSliceColz(histogramArray['hisdY'],np.index_exp[0:100, 0:10, 0:6,0:5,1:3], 0,3,1,{'plot_width':500, 'plot_height':300},{'size':10})\n",
    "show(xxx)"
   ]
  },
  {
   "cell_type": "code",
   "execution_count": null,
   "metadata": {},
   "outputs": [],
   "source": []
  }
 ],
 "metadata": {
  "kernelspec": {
   "display_name": "Python 3",
   "language": "python",
   "name": "python3"
  },
  "language_info": {
   "codemirror_mode": {
    "name": "ipython",
    "version": 3
   },
   "file_extension": ".py",
   "mimetype": "text/x-python",
   "name": "python",
   "nbconvert_exporter": "python",
   "pygments_lexer": "ipython3",
   "version": "3.6.7"
  }
 },
 "nbformat": 4,
 "nbformat_minor": 2
}
