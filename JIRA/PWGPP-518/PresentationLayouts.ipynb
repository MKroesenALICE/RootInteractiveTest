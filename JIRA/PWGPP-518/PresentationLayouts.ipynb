{
 "cells": [
  {
   "cell_type": "markdown",
   "metadata": {},
   "source": [
    "# Presentation layout from the bokeh tutorial\n",
    "* playground notebok for developers of RootInteractive \n",
    "* I tried to use/modify layout  - in the bottom part but the code looks to be buggy\n",
    "* Own custom layout should be done in order to save a problem\n",
    "  * Under development in the RootInteractive\n",
    "  "
   ]
  },
  {
   "cell_type": "code",
   "execution_count": null,
   "metadata": {},
   "outputs": [],
   "source": [
    "from bokeh.io import output_notebook, show\n",
    "from bokeh.plotting import figure\n",
    "from bokeh.layouts import layout\n",
    "output_notebook()"
   ]
  },
  {
   "cell_type": "markdown",
   "metadata": {},
   "source": [
    "In the previous chapters we started to learn how to create single plots using differnet kinds of data. But we often want to plot more than one thing. Boeh plots can be individually embedded in HTML documents, but it's often easier to\n",
    "combine multiple plots in one of Bokeh's built-in layouts. We will learn how to do that in this chapter\n",
    "\n",
    "The cell below defines a few data variables we will use in examples."
   ]
  },
  {
   "cell_type": "code",
   "execution_count": null,
   "metadata": {},
   "outputs": [],
   "source": [
    "x = list(range(11))\n",
    "y0, y1, y2 = x, [10-i for i in x], [abs(i-5) for i in x]"
   ]
  },
  {
   "cell_type": "markdown",
   "metadata": {},
   "source": [
    "# Rows and Columns\n",
    "The `bokeh.layouts` modules provides the ``row`` and ``column`` functions to arrange plot objects in vertical or horizontal layouts. Below is an example of three plots arranged in a row."
   ]
  },
  {
   "cell_type": "code",
   "execution_count": null,
   "metadata": {},
   "outputs": [],
   "source": [
    "from bokeh.layouts import row\n",
    "\n",
    "# create a new plot\n",
    "s1 = figure(width=250, plot_height=250)\n",
    "s1.circle(x, y0, size=10, color=\"navy\", alpha=0.5)\n",
    "\n",
    "# create another one\n",
    "s2 = figure(width=250, height=250)\n",
    "s2.triangle(x, y1, size=10, color=\"firebrick\", alpha=0.5)\n",
    "\n",
    "# create and another\n",
    "s3 = figure(width=250, height=250)\n",
    "s3.square(x, y2, size=10, color=\"olive\", alpha=0.5)\n",
    "\n",
    "# show the results in a row\n",
    "show(row(s1, s2,s3))"
   ]
  },
  {
   "cell_type": "code",
   "execution_count": null,
   "metadata": {},
   "outputs": [],
   "source": [
    "# EXERCISE: use column to arrange a few plots vertically\n"
   ]
  },
  {
   "cell_type": "markdown",
   "metadata": {},
   "source": [
    "# Grid plots\n",
    "\n",
    "Bokeh also provides a `gridplot` layout in `bokeh.layouts` for arranging plots in a grid, as show in the example below."
   ]
  },
  {
   "cell_type": "code",
   "execution_count": null,
   "metadata": {},
   "outputs": [],
   "source": [
    "from bokeh.layouts import gridplot\n",
    "\n",
    "# create a new plot\n",
    "s1 = figure(width=250, plot_height=250)\n",
    "s1.circle(x, y0, size=10, color=\"navy\", alpha=0.5)\n",
    "\n",
    "# create another one\n",
    "s2 = figure(width=250, height=250)\n",
    "s2.triangle(x, y1, size=10, color=\"firebrick\", alpha=0.5)\n",
    "\n",
    "# create and another\n",
    "s3 = figure(width=250, height=250)\n",
    "s3.square(x, y2, size=10, color=\"olive\", alpha=0.5)\n",
    "# create and another\n",
    "s4 = figure(width=250, height=250)\n",
    "s4.square(x, y2, size=10, color=\"olive\", alpha=0.5)\n",
    "# put all the plots in a gridplot\n",
    "\n",
    "#p = gridplot([[s1, s2], [s3, None]], toolbar_location=None)\n",
    "p = gridplot([[s1, s2,s3], [s4]], plot_width=300,plot_height=300, )\n",
    "# show the results\n",
    "show(p)"
   ]
  },
  {
   "cell_type": "code",
   "execution_count": null,
   "metadata": {},
   "outputs": [],
   "source": [
    "# EXERCISE: create a gridplot of your own\n",
    "from bokeh.layouts import gridplot\n",
    "\n",
    "# create a new plot\n",
    "s1 = figure(width=250, plot_height=250)\n",
    "s1.circle(x, y0, size=10, color=\"navy\", alpha=0.5)\n",
    "\n",
    "# create another one\n",
    "s2 = figure(width=250, height=250)\n",
    "s2.triangle(x, y1, size=10, color=\"firebrick\", alpha=0.5)\n",
    "\n",
    "# create and another\n",
    "s3 = figure(width=250, height=250)\n",
    "s3.square(x, y2, size=10, color=\"olive\", alpha=0.5)\n",
    "# create and another\n",
    "s4 = figure(width=250, height=250)\n",
    "s4.square(y2,x, size=10, color=\"olive\", alpha=0.5)\n",
    "# put all the plots in a gridplot\n",
    "\n",
    "#p = gridplot([[s1, s2], [s3, None]], toolbar_location=None)\n",
    "p = gridplot([[s1, s2,s3], [s4]], plot_width=300,plot_height=300, )\n",
    "# show the results\n",
    "show(p)"
   ]
  },
  {
   "cell_type": "markdown",
   "metadata": {},
   "source": [
    "# My attempt to make the layout working properly\n",
    "* I had to resize element to get expected behaviour"
   ]
  },
  {
   "cell_type": "code",
   "execution_count": null,
   "metadata": {},
   "outputs": [],
   "source": [
    "from bokeh.layouts import layout\n",
    "s1.xaxis.visible = False \n",
    "s2.xaxis.visible = False\n",
    "s3.xaxis.visible = False\n",
    "s2.yaxis.visible = False\n",
    "s3.yaxis.visible = False\n",
    "s4.plot_width=s2.plot_width*3\n",
    "p2 = gridplot([[s1, s2,s3], [s4]],plot_height=150,toolbar_location=\"above\")\n",
    "show(p2)"
   ]
  },
  {
   "cell_type": "code",
   "execution_count": null,
   "metadata": {},
   "outputs": [],
   "source": []
  }
 ],
 "metadata": {
  "kernelspec": {
   "display_name": "Python 3",
   "language": "python",
   "name": "python3"
  },
  "language_info": {
   "codemirror_mode": {
    "name": "ipython",
    "version": 3
   },
   "file_extension": ".py",
   "mimetype": "text/x-python",
   "name": "python",
   "nbconvert_exporter": "python",
   "pygments_lexer": "ipython3",
   "version": "3.6.8"
  }
 },
 "nbformat": 4,
 "nbformat_minor": 2
}
