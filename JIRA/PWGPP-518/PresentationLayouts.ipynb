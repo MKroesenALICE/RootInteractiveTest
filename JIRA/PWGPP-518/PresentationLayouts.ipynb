{
 "cells": [
  {
   "cell_type": "markdown",
   "metadata": {},
   "source": [
    "# Presentation layout from the bokeh tutorial\n",
    "* playground notebok for developers of RootInteractive \n",
    "* I tried to use/modify layout  - in the bottom part but the code looks to be buggy\n",
    "* Own custom layout should be done in order to save a problem\n",
    "  * Under development in the RootInteractive\n",
    "  "
   ]
  },
  {
   "cell_type": "code",
   "execution_count": 1,
   "metadata": {},
   "outputs": [
    {
     "data": {
      "text/html": [
       "\n",
       "    <div class=\"bk-root\">\n",
       "        <a href=\"https://bokeh.pydata.org\" target=\"_blank\" class=\"bk-logo bk-logo-small bk-logo-notebook\"></a>\n",
       "        <span id=\"1001\">Loading BokehJS ...</span>\n",
       "    </div>"
      ]
     },
     "metadata": {},
     "output_type": "display_data"
    },
    {
     "data": {
      "application/javascript": [
       "\n",
       "(function(root) {\n",
       "  function now() {\n",
       "    return new Date();\n",
       "  }\n",
       "\n",
       "  var force = true;\n",
       "\n",
       "  if (typeof (root._bokeh_onload_callbacks) === \"undefined\" || force === true) {\n",
       "    root._bokeh_onload_callbacks = [];\n",
       "    root._bokeh_is_loading = undefined;\n",
       "  }\n",
       "\n",
       "  var JS_MIME_TYPE = 'application/javascript';\n",
       "  var HTML_MIME_TYPE = 'text/html';\n",
       "  var EXEC_MIME_TYPE = 'application/vnd.bokehjs_exec.v0+json';\n",
       "  var CLASS_NAME = 'output_bokeh rendered_html';\n",
       "\n",
       "  /**\n",
       "   * Render data to the DOM node\n",
       "   */\n",
       "  function render(props, node) {\n",
       "    var script = document.createElement(\"script\");\n",
       "    node.appendChild(script);\n",
       "  }\n",
       "\n",
       "  /**\n",
       "   * Handle when an output is cleared or removed\n",
       "   */\n",
       "  function handleClearOutput(event, handle) {\n",
       "    var cell = handle.cell;\n",
       "\n",
       "    var id = cell.output_area._bokeh_element_id;\n",
       "    var server_id = cell.output_area._bokeh_server_id;\n",
       "    // Clean up Bokeh references\n",
       "    if (id != null && id in Bokeh.index) {\n",
       "      Bokeh.index[id].model.document.clear();\n",
       "      delete Bokeh.index[id];\n",
       "    }\n",
       "\n",
       "    if (server_id !== undefined) {\n",
       "      // Clean up Bokeh references\n",
       "      var cmd = \"from bokeh.io.state import curstate; print(curstate().uuid_to_server['\" + server_id + \"'].get_sessions()[0].document.roots[0]._id)\";\n",
       "      cell.notebook.kernel.execute(cmd, {\n",
       "        iopub: {\n",
       "          output: function(msg) {\n",
       "            var id = msg.content.text.trim();\n",
       "            if (id in Bokeh.index) {\n",
       "              Bokeh.index[id].model.document.clear();\n",
       "              delete Bokeh.index[id];\n",
       "            }\n",
       "          }\n",
       "        }\n",
       "      });\n",
       "      // Destroy server and session\n",
       "      var cmd = \"import bokeh.io.notebook as ion; ion.destroy_server('\" + server_id + \"')\";\n",
       "      cell.notebook.kernel.execute(cmd);\n",
       "    }\n",
       "  }\n",
       "\n",
       "  /**\n",
       "   * Handle when a new output is added\n",
       "   */\n",
       "  function handleAddOutput(event, handle) {\n",
       "    var output_area = handle.output_area;\n",
       "    var output = handle.output;\n",
       "\n",
       "    // limit handleAddOutput to display_data with EXEC_MIME_TYPE content only\n",
       "    if ((output.output_type != \"display_data\") || (!output.data.hasOwnProperty(EXEC_MIME_TYPE))) {\n",
       "      return\n",
       "    }\n",
       "\n",
       "    var toinsert = output_area.element.find(\".\" + CLASS_NAME.split(' ')[0]);\n",
       "\n",
       "    if (output.metadata[EXEC_MIME_TYPE][\"id\"] !== undefined) {\n",
       "      toinsert[toinsert.length - 1].firstChild.textContent = output.data[JS_MIME_TYPE];\n",
       "      // store reference to embed id on output_area\n",
       "      output_area._bokeh_element_id = output.metadata[EXEC_MIME_TYPE][\"id\"];\n",
       "    }\n",
       "    if (output.metadata[EXEC_MIME_TYPE][\"server_id\"] !== undefined) {\n",
       "      var bk_div = document.createElement(\"div\");\n",
       "      bk_div.innerHTML = output.data[HTML_MIME_TYPE];\n",
       "      var script_attrs = bk_div.children[0].attributes;\n",
       "      for (var i = 0; i < script_attrs.length; i++) {\n",
       "        toinsert[toinsert.length - 1].firstChild.setAttribute(script_attrs[i].name, script_attrs[i].value);\n",
       "      }\n",
       "      // store reference to server id on output_area\n",
       "      output_area._bokeh_server_id = output.metadata[EXEC_MIME_TYPE][\"server_id\"];\n",
       "    }\n",
       "  }\n",
       "\n",
       "  function register_renderer(events, OutputArea) {\n",
       "\n",
       "    function append_mime(data, metadata, element) {\n",
       "      // create a DOM node to render to\n",
       "      var toinsert = this.create_output_subarea(\n",
       "        metadata,\n",
       "        CLASS_NAME,\n",
       "        EXEC_MIME_TYPE\n",
       "      );\n",
       "      this.keyboard_manager.register_events(toinsert);\n",
       "      // Render to node\n",
       "      var props = {data: data, metadata: metadata[EXEC_MIME_TYPE]};\n",
       "      render(props, toinsert[toinsert.length - 1]);\n",
       "      element.append(toinsert);\n",
       "      return toinsert\n",
       "    }\n",
       "\n",
       "    /* Handle when an output is cleared or removed */\n",
       "    events.on('clear_output.CodeCell', handleClearOutput);\n",
       "    events.on('delete.Cell', handleClearOutput);\n",
       "\n",
       "    /* Handle when a new output is added */\n",
       "    events.on('output_added.OutputArea', handleAddOutput);\n",
       "\n",
       "    /**\n",
       "     * Register the mime type and append_mime function with output_area\n",
       "     */\n",
       "    OutputArea.prototype.register_mime_type(EXEC_MIME_TYPE, append_mime, {\n",
       "      /* Is output safe? */\n",
       "      safe: true,\n",
       "      /* Index of renderer in `output_area.display_order` */\n",
       "      index: 0\n",
       "    });\n",
       "  }\n",
       "\n",
       "  // register the mime type if in Jupyter Notebook environment and previously unregistered\n",
       "  if (root.Jupyter !== undefined) {\n",
       "    var events = require('base/js/events');\n",
       "    var OutputArea = require('notebook/js/outputarea').OutputArea;\n",
       "\n",
       "    if (OutputArea.prototype.mime_types().indexOf(EXEC_MIME_TYPE) == -1) {\n",
       "      register_renderer(events, OutputArea);\n",
       "    }\n",
       "  }\n",
       "\n",
       "  \n",
       "  if (typeof (root._bokeh_timeout) === \"undefined\" || force === true) {\n",
       "    root._bokeh_timeout = Date.now() + 5000;\n",
       "    root._bokeh_failed_load = false;\n",
       "  }\n",
       "\n",
       "  var NB_LOAD_WARNING = {'data': {'text/html':\n",
       "     \"<div style='background-color: #fdd'>\\n\"+\n",
       "     \"<p>\\n\"+\n",
       "     \"BokehJS does not appear to have successfully loaded. If loading BokehJS from CDN, this \\n\"+\n",
       "     \"may be due to a slow or bad network connection. Possible fixes:\\n\"+\n",
       "     \"</p>\\n\"+\n",
       "     \"<ul>\\n\"+\n",
       "     \"<li>re-rerun `output_notebook()` to attempt to load from CDN again, or</li>\\n\"+\n",
       "     \"<li>use INLINE resources instead, as so:</li>\\n\"+\n",
       "     \"</ul>\\n\"+\n",
       "     \"<code>\\n\"+\n",
       "     \"from bokeh.resources import INLINE\\n\"+\n",
       "     \"output_notebook(resources=INLINE)\\n\"+\n",
       "     \"</code>\\n\"+\n",
       "     \"</div>\"}};\n",
       "\n",
       "  function display_loaded() {\n",
       "    var el = document.getElementById(\"1001\");\n",
       "    if (el != null) {\n",
       "      el.textContent = \"BokehJS is loading...\";\n",
       "    }\n",
       "    if (root.Bokeh !== undefined) {\n",
       "      if (el != null) {\n",
       "        el.textContent = \"BokehJS \" + root.Bokeh.version + \" successfully loaded.\";\n",
       "      }\n",
       "    } else if (Date.now() < root._bokeh_timeout) {\n",
       "      setTimeout(display_loaded, 100)\n",
       "    }\n",
       "  }\n",
       "\n",
       "\n",
       "  function run_callbacks() {\n",
       "    try {\n",
       "      root._bokeh_onload_callbacks.forEach(function(callback) { callback() });\n",
       "    }\n",
       "    finally {\n",
       "      delete root._bokeh_onload_callbacks\n",
       "    }\n",
       "    console.info(\"Bokeh: all callbacks have finished\");\n",
       "  }\n",
       "\n",
       "  function load_libs(js_urls, callback) {\n",
       "    root._bokeh_onload_callbacks.push(callback);\n",
       "    if (root._bokeh_is_loading > 0) {\n",
       "      console.log(\"Bokeh: BokehJS is being loaded, scheduling callback at\", now());\n",
       "      return null;\n",
       "    }\n",
       "    if (js_urls == null || js_urls.length === 0) {\n",
       "      run_callbacks();\n",
       "      return null;\n",
       "    }\n",
       "    console.log(\"Bokeh: BokehJS not loaded, scheduling load and callback at\", now());\n",
       "    root._bokeh_is_loading = js_urls.length;\n",
       "    for (var i = 0; i < js_urls.length; i++) {\n",
       "      var url = js_urls[i];\n",
       "      var s = document.createElement('script');\n",
       "      s.src = url;\n",
       "      s.async = false;\n",
       "      s.onreadystatechange = s.onload = function() {\n",
       "        root._bokeh_is_loading--;\n",
       "        if (root._bokeh_is_loading === 0) {\n",
       "          console.log(\"Bokeh: all BokehJS libraries loaded\");\n",
       "          run_callbacks()\n",
       "        }\n",
       "      };\n",
       "      s.onerror = function() {\n",
       "        console.warn(\"failed to load library \" + url);\n",
       "      };\n",
       "      console.log(\"Bokeh: injecting script tag for BokehJS library: \", url);\n",
       "      document.getElementsByTagName(\"head\")[0].appendChild(s);\n",
       "    }\n",
       "  };var element = document.getElementById(\"1001\");\n",
       "  if (element == null) {\n",
       "    console.log(\"Bokeh: ERROR: autoload.js configured with elementid '1001' but no matching script tag was found. \")\n",
       "    return false;\n",
       "  }\n",
       "\n",
       "  var js_urls = [\"https://cdn.pydata.org/bokeh/release/bokeh-1.0.4.min.js\", \"https://cdn.pydata.org/bokeh/release/bokeh-widgets-1.0.4.min.js\", \"https://cdn.pydata.org/bokeh/release/bokeh-tables-1.0.4.min.js\", \"https://cdn.pydata.org/bokeh/release/bokeh-gl-1.0.4.min.js\"];\n",
       "\n",
       "  var inline_js = [\n",
       "    function(Bokeh) {\n",
       "      Bokeh.set_log_level(\"info\");\n",
       "    },\n",
       "    \n",
       "    function(Bokeh) {\n",
       "      \n",
       "    },\n",
       "    function(Bokeh) {\n",
       "      console.log(\"Bokeh: injecting CSS: https://cdn.pydata.org/bokeh/release/bokeh-1.0.4.min.css\");\n",
       "      Bokeh.embed.inject_css(\"https://cdn.pydata.org/bokeh/release/bokeh-1.0.4.min.css\");\n",
       "      console.log(\"Bokeh: injecting CSS: https://cdn.pydata.org/bokeh/release/bokeh-widgets-1.0.4.min.css\");\n",
       "      Bokeh.embed.inject_css(\"https://cdn.pydata.org/bokeh/release/bokeh-widgets-1.0.4.min.css\");\n",
       "      console.log(\"Bokeh: injecting CSS: https://cdn.pydata.org/bokeh/release/bokeh-tables-1.0.4.min.css\");\n",
       "      Bokeh.embed.inject_css(\"https://cdn.pydata.org/bokeh/release/bokeh-tables-1.0.4.min.css\");\n",
       "    }\n",
       "  ];\n",
       "\n",
       "  function run_inline_js() {\n",
       "    \n",
       "    if ((root.Bokeh !== undefined) || (force === true)) {\n",
       "      for (var i = 0; i < inline_js.length; i++) {\n",
       "        inline_js[i].call(root, root.Bokeh);\n",
       "      }if (force === true) {\n",
       "        display_loaded();\n",
       "      }} else if (Date.now() < root._bokeh_timeout) {\n",
       "      setTimeout(run_inline_js, 100);\n",
       "    } else if (!root._bokeh_failed_load) {\n",
       "      console.log(\"Bokeh: BokehJS failed to load within specified timeout.\");\n",
       "      root._bokeh_failed_load = true;\n",
       "    } else if (force !== true) {\n",
       "      var cell = $(document.getElementById(\"1001\")).parents('.cell').data().cell;\n",
       "      cell.output_area.append_execute_result(NB_LOAD_WARNING)\n",
       "    }\n",
       "\n",
       "  }\n",
       "\n",
       "  if (root._bokeh_is_loading === 0) {\n",
       "    console.log(\"Bokeh: BokehJS loaded, going straight to plotting\");\n",
       "    run_inline_js();\n",
       "  } else {\n",
       "    load_libs(js_urls, function() {\n",
       "      console.log(\"Bokeh: BokehJS plotting callback run at\", now());\n",
       "      run_inline_js();\n",
       "    });\n",
       "  }\n",
       "}(window));"
      ],
      "application/vnd.bokehjs_load.v0+json": "\n(function(root) {\n  function now() {\n    return new Date();\n  }\n\n  var force = true;\n\n  if (typeof (root._bokeh_onload_callbacks) === \"undefined\" || force === true) {\n    root._bokeh_onload_callbacks = [];\n    root._bokeh_is_loading = undefined;\n  }\n\n  \n\n  \n  if (typeof (root._bokeh_timeout) === \"undefined\" || force === true) {\n    root._bokeh_timeout = Date.now() + 5000;\n    root._bokeh_failed_load = false;\n  }\n\n  var NB_LOAD_WARNING = {'data': {'text/html':\n     \"<div style='background-color: #fdd'>\\n\"+\n     \"<p>\\n\"+\n     \"BokehJS does not appear to have successfully loaded. If loading BokehJS from CDN, this \\n\"+\n     \"may be due to a slow or bad network connection. Possible fixes:\\n\"+\n     \"</p>\\n\"+\n     \"<ul>\\n\"+\n     \"<li>re-rerun `output_notebook()` to attempt to load from CDN again, or</li>\\n\"+\n     \"<li>use INLINE resources instead, as so:</li>\\n\"+\n     \"</ul>\\n\"+\n     \"<code>\\n\"+\n     \"from bokeh.resources import INLINE\\n\"+\n     \"output_notebook(resources=INLINE)\\n\"+\n     \"</code>\\n\"+\n     \"</div>\"}};\n\n  function display_loaded() {\n    var el = document.getElementById(\"1001\");\n    if (el != null) {\n      el.textContent = \"BokehJS is loading...\";\n    }\n    if (root.Bokeh !== undefined) {\n      if (el != null) {\n        el.textContent = \"BokehJS \" + root.Bokeh.version + \" successfully loaded.\";\n      }\n    } else if (Date.now() < root._bokeh_timeout) {\n      setTimeout(display_loaded, 100)\n    }\n  }\n\n\n  function run_callbacks() {\n    try {\n      root._bokeh_onload_callbacks.forEach(function(callback) { callback() });\n    }\n    finally {\n      delete root._bokeh_onload_callbacks\n    }\n    console.info(\"Bokeh: all callbacks have finished\");\n  }\n\n  function load_libs(js_urls, callback) {\n    root._bokeh_onload_callbacks.push(callback);\n    if (root._bokeh_is_loading > 0) {\n      console.log(\"Bokeh: BokehJS is being loaded, scheduling callback at\", now());\n      return null;\n    }\n    if (js_urls == null || js_urls.length === 0) {\n      run_callbacks();\n      return null;\n    }\n    console.log(\"Bokeh: BokehJS not loaded, scheduling load and callback at\", now());\n    root._bokeh_is_loading = js_urls.length;\n    for (var i = 0; i < js_urls.length; i++) {\n      var url = js_urls[i];\n      var s = document.createElement('script');\n      s.src = url;\n      s.async = false;\n      s.onreadystatechange = s.onload = function() {\n        root._bokeh_is_loading--;\n        if (root._bokeh_is_loading === 0) {\n          console.log(\"Bokeh: all BokehJS libraries loaded\");\n          run_callbacks()\n        }\n      };\n      s.onerror = function() {\n        console.warn(\"failed to load library \" + url);\n      };\n      console.log(\"Bokeh: injecting script tag for BokehJS library: \", url);\n      document.getElementsByTagName(\"head\")[0].appendChild(s);\n    }\n  };var element = document.getElementById(\"1001\");\n  if (element == null) {\n    console.log(\"Bokeh: ERROR: autoload.js configured with elementid '1001' but no matching script tag was found. \")\n    return false;\n  }\n\n  var js_urls = [\"https://cdn.pydata.org/bokeh/release/bokeh-1.0.4.min.js\", \"https://cdn.pydata.org/bokeh/release/bokeh-widgets-1.0.4.min.js\", \"https://cdn.pydata.org/bokeh/release/bokeh-tables-1.0.4.min.js\", \"https://cdn.pydata.org/bokeh/release/bokeh-gl-1.0.4.min.js\"];\n\n  var inline_js = [\n    function(Bokeh) {\n      Bokeh.set_log_level(\"info\");\n    },\n    \n    function(Bokeh) {\n      \n    },\n    function(Bokeh) {\n      console.log(\"Bokeh: injecting CSS: https://cdn.pydata.org/bokeh/release/bokeh-1.0.4.min.css\");\n      Bokeh.embed.inject_css(\"https://cdn.pydata.org/bokeh/release/bokeh-1.0.4.min.css\");\n      console.log(\"Bokeh: injecting CSS: https://cdn.pydata.org/bokeh/release/bokeh-widgets-1.0.4.min.css\");\n      Bokeh.embed.inject_css(\"https://cdn.pydata.org/bokeh/release/bokeh-widgets-1.0.4.min.css\");\n      console.log(\"Bokeh: injecting CSS: https://cdn.pydata.org/bokeh/release/bokeh-tables-1.0.4.min.css\");\n      Bokeh.embed.inject_css(\"https://cdn.pydata.org/bokeh/release/bokeh-tables-1.0.4.min.css\");\n    }\n  ];\n\n  function run_inline_js() {\n    \n    if ((root.Bokeh !== undefined) || (force === true)) {\n      for (var i = 0; i < inline_js.length; i++) {\n        inline_js[i].call(root, root.Bokeh);\n      }if (force === true) {\n        display_loaded();\n      }} else if (Date.now() < root._bokeh_timeout) {\n      setTimeout(run_inline_js, 100);\n    } else if (!root._bokeh_failed_load) {\n      console.log(\"Bokeh: BokehJS failed to load within specified timeout.\");\n      root._bokeh_failed_load = true;\n    } else if (force !== true) {\n      var cell = $(document.getElementById(\"1001\")).parents('.cell').data().cell;\n      cell.output_area.append_execute_result(NB_LOAD_WARNING)\n    }\n\n  }\n\n  if (root._bokeh_is_loading === 0) {\n    console.log(\"Bokeh: BokehJS loaded, going straight to plotting\");\n    run_inline_js();\n  } else {\n    load_libs(js_urls, function() {\n      console.log(\"Bokeh: BokehJS plotting callback run at\", now());\n      run_inline_js();\n    });\n  }\n}(window));"
     },
     "metadata": {},
     "output_type": "display_data"
    }
   ],
   "source": [
    "from bokeh.io import output_notebook, show\n",
    "from bokeh.plotting import figure\n",
    "from bokeh.layouts import layout\n",
    "output_notebook()"
   ]
  },
  {
   "cell_type": "markdown",
   "metadata": {},
   "source": [
    "In the previous chapters we started to learn how to create single plots using differnet kinds of data. But we often want to plot more than one thing. Boeh plots can be individually embedded in HTML documents, but it's often easier to\n",
    "combine multiple plots in one of Bokeh's built-in layouts. We will learn how to do that in this chapter\n",
    "\n",
    "The cell below defines a few data variables we will use in examples."
   ]
  },
  {
   "cell_type": "code",
   "execution_count": 2,
   "metadata": {},
   "outputs": [],
   "source": [
    "x = list(range(11))\n",
    "y0, y1, y2 = x, [10-i for i in x], [abs(i-5) for i in x]"
   ]
  },
  {
   "cell_type": "markdown",
   "metadata": {},
   "source": [
    "# Rows and Columns\n",
    "The `bokeh.layouts` modules provides the ``row`` and ``column`` functions to arrange plot objects in vertical or horizontal layouts. Below is an example of three plots arranged in a row."
   ]
  },
  {
   "cell_type": "code",
   "execution_count": 3,
   "metadata": {},
   "outputs": [
    {
     "data": {
      "text/html": [
       "\n",
       "\n",
       "\n",
       "\n",
       "\n",
       "\n",
       "  <div class=\"bk-root\" id=\"a0bd90cd-777c-4081-ae96-83a6d3b177b2\" data-root-id=\"1119\"></div>\n"
      ]
     },
     "metadata": {},
     "output_type": "display_data"
    },
    {
     "data": {
      "application/javascript": [
       "(function(root) {\n",
       "  function embed_document(root) {\n",
       "    \n",
       "  var docs_json = {\"492ce3fa-102e-4baa-90b1-be6da9186284\":{\"roots\":{\"references\":[{\"attributes\":{},\"id\":\"1142\",\"type\":\"UnionRenderers\"},{\"attributes\":{},\"id\":\"1141\",\"type\":\"Selection\"},{\"attributes\":{},\"id\":\"1144\",\"type\":\"Selection\"},{\"attributes\":{},\"id\":\"1145\",\"type\":\"UnionRenderers\"},{\"attributes\":{\"data_source\":{\"id\":\"1075\",\"type\":\"ColumnDataSource\"},\"glyph\":{\"id\":\"1076\",\"type\":\"Triangle\"},\"hover_glyph\":null,\"muted_glyph\":null,\"nonselection_glyph\":{\"id\":\"1077\",\"type\":\"Triangle\"},\"selection_glyph\":null,\"view\":{\"id\":\"1079\",\"type\":\"CDSView\"}},\"id\":\"1078\",\"type\":\"GlyphRenderer\"},{\"attributes\":{\"source\":{\"id\":\"1075\",\"type\":\"ColumnDataSource\"}},\"id\":\"1079\",\"type\":\"CDSView\"},{\"attributes\":{\"fill_alpha\":{\"value\":0.5},\"fill_color\":{\"value\":\"firebrick\"},\"line_alpha\":{\"value\":0.5},\"line_color\":{\"value\":\"firebrick\"},\"size\":{\"units\":\"screen\",\"value\":10},\"x\":{\"field\":\"x\"},\"y\":{\"field\":\"y\"}},\"id\":\"1076\",\"type\":\"Triangle\"},{\"attributes\":{\"fill_alpha\":{\"value\":0.1},\"fill_color\":{\"value\":\"#1f77b4\"},\"line_alpha\":{\"value\":0.1},\"line_color\":{\"value\":\"#1f77b4\"},\"size\":{\"units\":\"screen\",\"value\":10},\"x\":{\"field\":\"x\"},\"y\":{\"field\":\"y\"}},\"id\":\"1077\",\"type\":\"Triangle\"},{\"attributes\":{\"callback\":null,\"data\":{\"x\":[0,1,2,3,4,5,6,7,8,9,10],\"y\":[10,9,8,7,6,5,4,3,2,1,0]},\"selected\":{\"id\":\"1141\",\"type\":\"Selection\"},\"selection_policy\":{\"id\":\"1142\",\"type\":\"UnionRenderers\"}},\"id\":\"1075\",\"type\":\"ColumnDataSource\"},{\"attributes\":{\"formatter\":{\"id\":\"1137\",\"type\":\"BasicTickFormatter\"},\"plot\":{\"id\":\"1080\",\"subtype\":\"Figure\",\"type\":\"Plot\"},\"ticker\":{\"id\":\"1095\",\"type\":\"BasicTicker\"}},\"id\":\"1094\",\"type\":\"LinearAxis\"},{\"attributes\":{},\"id\":\"1095\",\"type\":\"BasicTicker\"},{\"attributes\":{},\"id\":\"1090\",\"type\":\"BasicTicker\"},{\"attributes\":{\"plot\":{\"id\":\"1080\",\"subtype\":\"Figure\",\"type\":\"Plot\"},\"ticker\":{\"id\":\"1090\",\"type\":\"BasicTicker\"}},\"id\":\"1093\",\"type\":\"Grid\"},{\"attributes\":{\"dimension\":1,\"plot\":{\"id\":\"1080\",\"subtype\":\"Figure\",\"type\":\"Plot\"},\"ticker\":{\"id\":\"1095\",\"type\":\"BasicTicker\"}},\"id\":\"1098\",\"type\":\"Grid\"},{\"attributes\":{},\"id\":\"1099\",\"type\":\"PanTool\"},{\"attributes\":{\"bottom_units\":\"screen\",\"fill_alpha\":{\"value\":0.5},\"fill_color\":{\"value\":\"lightgrey\"},\"left_units\":\"screen\",\"level\":\"overlay\",\"line_alpha\":{\"value\":1.0},\"line_color\":{\"value\":\"black\"},\"line_dash\":[4,4],\"line_width\":{\"value\":2},\"plot\":null,\"render_mode\":\"css\",\"right_units\":\"screen\",\"top_units\":\"screen\"},\"id\":\"1068\",\"type\":\"BoxAnnotation\"},{\"attributes\":{},\"id\":\"1061\",\"type\":\"WheelZoomTool\"},{\"attributes\":{},\"id\":\"1060\",\"type\":\"PanTool\"},{\"attributes\":{},\"id\":\"1063\",\"type\":\"SaveTool\"},{\"attributes\":{\"overlay\":{\"id\":\"1068\",\"type\":\"BoxAnnotation\"}},\"id\":\"1062\",\"type\":\"BoxZoomTool\"},{\"attributes\":{},\"id\":\"1065\",\"type\":\"HelpTool\"},{\"attributes\":{},\"id\":\"1064\",\"type\":\"ResetTool\"},{\"attributes\":{\"active_drag\":\"auto\",\"active_inspect\":\"auto\",\"active_multi\":null,\"active_scroll\":\"auto\",\"active_tap\":\"auto\",\"tools\":[{\"id\":\"1060\",\"type\":\"PanTool\"},{\"id\":\"1061\",\"type\":\"WheelZoomTool\"},{\"id\":\"1062\",\"type\":\"BoxZoomTool\"},{\"id\":\"1063\",\"type\":\"SaveTool\"},{\"id\":\"1064\",\"type\":\"ResetTool\"},{\"id\":\"1065\",\"type\":\"HelpTool\"}]},\"id\":\"1066\",\"type\":\"Toolbar\"},{\"attributes\":{},\"id\":\"1087\",\"type\":\"LinearScale\"},{\"attributes\":{},\"id\":\"1129\",\"type\":\"BasicTickFormatter\"},{\"attributes\":{},\"id\":\"1085\",\"type\":\"LinearScale\"},{\"attributes\":{\"callback\":null},\"id\":\"1083\",\"type\":\"DataRange1d\"},{\"attributes\":{\"callback\":null},\"id\":\"1081\",\"type\":\"DataRange1d\"},{\"attributes\":{\"below\":[{\"id\":\"1089\",\"type\":\"LinearAxis\"}],\"left\":[{\"id\":\"1094\",\"type\":\"LinearAxis\"}],\"plot_height\":250,\"plot_width\":250,\"renderers\":[{\"id\":\"1089\",\"type\":\"LinearAxis\"},{\"id\":\"1093\",\"type\":\"Grid\"},{\"id\":\"1094\",\"type\":\"LinearAxis\"},{\"id\":\"1098\",\"type\":\"Grid\"},{\"id\":\"1107\",\"type\":\"BoxAnnotation\"},{\"id\":\"1117\",\"type\":\"GlyphRenderer\"}],\"title\":{\"id\":\"1125\",\"type\":\"Title\"},\"toolbar\":{\"id\":\"1105\",\"type\":\"Toolbar\"},\"x_range\":{\"id\":\"1081\",\"type\":\"DataRange1d\"},\"x_scale\":{\"id\":\"1085\",\"type\":\"LinearScale\"},\"y_range\":{\"id\":\"1083\",\"type\":\"DataRange1d\"},\"y_scale\":{\"id\":\"1087\",\"type\":\"LinearScale\"}},\"id\":\"1080\",\"subtype\":\"Figure\",\"type\":\"Plot\"},{\"attributes\":{\"plot\":null,\"text\":\"\"},\"id\":\"1121\",\"type\":\"Title\"},{\"attributes\":{\"plot\":null,\"text\":\"\"},\"id\":\"1123\",\"type\":\"Title\"},{\"attributes\":{\"plot\":null,\"text\":\"\"},\"id\":\"1125\",\"type\":\"Title\"},{\"attributes\":{\"formatter\":{\"id\":\"1135\",\"type\":\"BasicTickFormatter\"},\"plot\":{\"id\":\"1080\",\"subtype\":\"Figure\",\"type\":\"Plot\"},\"ticker\":{\"id\":\"1090\",\"type\":\"BasicTicker\"}},\"id\":\"1089\",\"type\":\"LinearAxis\"},{\"attributes\":{},\"id\":\"1127\",\"type\":\"BasicTickFormatter\"},{\"attributes\":{\"plot\":{\"id\":\"1002\",\"subtype\":\"Figure\",\"type\":\"Plot\"},\"ticker\":{\"id\":\"1012\",\"type\":\"BasicTicker\"}},\"id\":\"1015\",\"type\":\"Grid\"},{\"attributes\":{\"formatter\":{\"id\":\"1129\",\"type\":\"BasicTickFormatter\"},\"plot\":{\"id\":\"1002\",\"subtype\":\"Figure\",\"type\":\"Plot\"},\"ticker\":{\"id\":\"1017\",\"type\":\"BasicTicker\"}},\"id\":\"1016\",\"type\":\"LinearAxis\"},{\"attributes\":{},\"id\":\"1017\",\"type\":\"BasicTicker\"},{\"attributes\":{\"formatter\":{\"id\":\"1127\",\"type\":\"BasicTickFormatter\"},\"plot\":{\"id\":\"1002\",\"subtype\":\"Figure\",\"type\":\"Plot\"},\"ticker\":{\"id\":\"1012\",\"type\":\"BasicTicker\"}},\"id\":\"1011\",\"type\":\"LinearAxis\"},{\"attributes\":{},\"id\":\"1012\",\"type\":\"BasicTicker\"},{\"attributes\":{},\"id\":\"1139\",\"type\":\"UnionRenderers\"},{\"attributes\":{},\"id\":\"1138\",\"type\":\"Selection\"},{\"attributes\":{},\"id\":\"1133\",\"type\":\"BasicTickFormatter\"},{\"attributes\":{},\"id\":\"1131\",\"type\":\"BasicTickFormatter\"},{\"attributes\":{},\"id\":\"1137\",\"type\":\"BasicTickFormatter\"},{\"attributes\":{},\"id\":\"1135\",\"type\":\"BasicTickFormatter\"},{\"attributes\":{},\"id\":\"1009\",\"type\":\"LinearScale\"},{\"attributes\":{},\"id\":\"1007\",\"type\":\"LinearScale\"},{\"attributes\":{\"callback\":null},\"id\":\"1005\",\"type\":\"DataRange1d\"},{\"attributes\":{\"callback\":null},\"id\":\"1003\",\"type\":\"DataRange1d\"},{\"attributes\":{\"below\":[{\"id\":\"1011\",\"type\":\"LinearAxis\"}],\"left\":[{\"id\":\"1016\",\"type\":\"LinearAxis\"}],\"plot_height\":250,\"plot_width\":250,\"renderers\":[{\"id\":\"1011\",\"type\":\"LinearAxis\"},{\"id\":\"1015\",\"type\":\"Grid\"},{\"id\":\"1016\",\"type\":\"LinearAxis\"},{\"id\":\"1020\",\"type\":\"Grid\"},{\"id\":\"1029\",\"type\":\"BoxAnnotation\"},{\"id\":\"1039\",\"type\":\"GlyphRenderer\"}],\"title\":{\"id\":\"1121\",\"type\":\"Title\"},\"toolbar\":{\"id\":\"1027\",\"type\":\"Toolbar\"},\"x_range\":{\"id\":\"1003\",\"type\":\"DataRange1d\"},\"x_scale\":{\"id\":\"1007\",\"type\":\"LinearScale\"},\"y_range\":{\"id\":\"1005\",\"type\":\"DataRange1d\"},\"y_scale\":{\"id\":\"1009\",\"type\":\"LinearScale\"}},\"id\":\"1002\",\"subtype\":\"Figure\",\"type\":\"Plot\"},{\"attributes\":{\"fill_alpha\":{\"value\":0.1},\"fill_color\":{\"value\":\"#1f77b4\"},\"line_alpha\":{\"value\":0.1},\"line_color\":{\"value\":\"#1f77b4\"},\"size\":{\"units\":\"screen\",\"value\":10},\"x\":{\"field\":\"x\"},\"y\":{\"field\":\"y\"}},\"id\":\"1038\",\"type\":\"Circle\"},{\"attributes\":{\"data_source\":{\"id\":\"1036\",\"type\":\"ColumnDataSource\"},\"glyph\":{\"id\":\"1037\",\"type\":\"Circle\"},\"hover_glyph\":null,\"muted_glyph\":null,\"nonselection_glyph\":{\"id\":\"1038\",\"type\":\"Circle\"},\"selection_glyph\":null,\"view\":{\"id\":\"1040\",\"type\":\"CDSView\"}},\"id\":\"1039\",\"type\":\"GlyphRenderer\"},{\"attributes\":{\"callback\":null,\"data\":{\"x\":[0,1,2,3,4,5,6,7,8,9,10],\"y\":[0,1,2,3,4,5,6,7,8,9,10]},\"selected\":{\"id\":\"1138\",\"type\":\"Selection\"},\"selection_policy\":{\"id\":\"1139\",\"type\":\"UnionRenderers\"}},\"id\":\"1036\",\"type\":\"ColumnDataSource\"},{\"attributes\":{\"fill_alpha\":{\"value\":0.5},\"fill_color\":{\"value\":\"navy\"},\"line_alpha\":{\"value\":0.5},\"line_color\":{\"value\":\"navy\"},\"size\":{\"units\":\"screen\",\"value\":10},\"x\":{\"field\":\"x\"},\"y\":{\"field\":\"y\"}},\"id\":\"1037\",\"type\":\"Circle\"},{\"attributes\":{},\"id\":\"1025\",\"type\":\"ResetTool\"},{\"attributes\":{},\"id\":\"1024\",\"type\":\"SaveTool\"},{\"attributes\":{\"active_drag\":\"auto\",\"active_inspect\":\"auto\",\"active_multi\":null,\"active_scroll\":\"auto\",\"active_tap\":\"auto\",\"tools\":[{\"id\":\"1021\",\"type\":\"PanTool\"},{\"id\":\"1022\",\"type\":\"WheelZoomTool\"},{\"id\":\"1023\",\"type\":\"BoxZoomTool\"},{\"id\":\"1024\",\"type\":\"SaveTool\"},{\"id\":\"1025\",\"type\":\"ResetTool\"},{\"id\":\"1026\",\"type\":\"HelpTool\"}]},\"id\":\"1027\",\"type\":\"Toolbar\"},{\"attributes\":{},\"id\":\"1026\",\"type\":\"HelpTool\"},{\"attributes\":{},\"id\":\"1021\",\"type\":\"PanTool\"},{\"attributes\":{\"dimension\":1,\"plot\":{\"id\":\"1002\",\"subtype\":\"Figure\",\"type\":\"Plot\"},\"ticker\":{\"id\":\"1017\",\"type\":\"BasicTicker\"}},\"id\":\"1020\",\"type\":\"Grid\"},{\"attributes\":{\"overlay\":{\"id\":\"1029\",\"type\":\"BoxAnnotation\"}},\"id\":\"1023\",\"type\":\"BoxZoomTool\"},{\"attributes\":{},\"id\":\"1022\",\"type\":\"WheelZoomTool\"},{\"attributes\":{\"bottom_units\":\"screen\",\"fill_alpha\":{\"value\":0.5},\"fill_color\":{\"value\":\"lightgrey\"},\"left_units\":\"screen\",\"level\":\"overlay\",\"line_alpha\":{\"value\":1.0},\"line_color\":{\"value\":\"black\"},\"line_dash\":[4,4],\"line_width\":{\"value\":2},\"plot\":null,\"render_mode\":\"css\",\"right_units\":\"screen\",\"top_units\":\"screen\"},\"id\":\"1029\",\"type\":\"BoxAnnotation\"},{\"attributes\":{\"bottom_units\":\"screen\",\"fill_alpha\":{\"value\":0.5},\"fill_color\":{\"value\":\"lightgrey\"},\"left_units\":\"screen\",\"level\":\"overlay\",\"line_alpha\":{\"value\":1.0},\"line_color\":{\"value\":\"black\"},\"line_dash\":[4,4],\"line_width\":{\"value\":2},\"plot\":null,\"render_mode\":\"css\",\"right_units\":\"screen\",\"top_units\":\"screen\"},\"id\":\"1107\",\"type\":\"BoxAnnotation\"},{\"attributes\":{},\"id\":\"1104\",\"type\":\"HelpTool\"},{\"attributes\":{\"active_drag\":\"auto\",\"active_inspect\":\"auto\",\"active_multi\":null,\"active_scroll\":\"auto\",\"active_tap\":\"auto\",\"tools\":[{\"id\":\"1099\",\"type\":\"PanTool\"},{\"id\":\"1100\",\"type\":\"WheelZoomTool\"},{\"id\":\"1101\",\"type\":\"BoxZoomTool\"},{\"id\":\"1102\",\"type\":\"SaveTool\"},{\"id\":\"1103\",\"type\":\"ResetTool\"},{\"id\":\"1104\",\"type\":\"HelpTool\"}]},\"id\":\"1105\",\"type\":\"Toolbar\"},{\"attributes\":{},\"id\":\"1102\",\"type\":\"SaveTool\"},{\"attributes\":{},\"id\":\"1103\",\"type\":\"ResetTool\"},{\"attributes\":{},\"id\":\"1100\",\"type\":\"WheelZoomTool\"},{\"attributes\":{\"overlay\":{\"id\":\"1107\",\"type\":\"BoxAnnotation\"}},\"id\":\"1101\",\"type\":\"BoxZoomTool\"},{\"attributes\":{\"formatter\":{\"id\":\"1131\",\"type\":\"BasicTickFormatter\"},\"plot\":{\"id\":\"1041\",\"subtype\":\"Figure\",\"type\":\"Plot\"},\"ticker\":{\"id\":\"1051\",\"type\":\"BasicTicker\"}},\"id\":\"1050\",\"type\":\"LinearAxis\"},{\"attributes\":{},\"id\":\"1051\",\"type\":\"BasicTicker\"},{\"attributes\":{\"plot\":{\"id\":\"1041\",\"subtype\":\"Figure\",\"type\":\"Plot\"},\"ticker\":{\"id\":\"1051\",\"type\":\"BasicTicker\"}},\"id\":\"1054\",\"type\":\"Grid\"},{\"attributes\":{\"formatter\":{\"id\":\"1133\",\"type\":\"BasicTickFormatter\"},\"plot\":{\"id\":\"1041\",\"subtype\":\"Figure\",\"type\":\"Plot\"},\"ticker\":{\"id\":\"1056\",\"type\":\"BasicTicker\"}},\"id\":\"1055\",\"type\":\"LinearAxis\"},{\"attributes\":{},\"id\":\"1056\",\"type\":\"BasicTicker\"},{\"attributes\":{\"dimension\":1,\"plot\":{\"id\":\"1041\",\"subtype\":\"Figure\",\"type\":\"Plot\"},\"ticker\":{\"id\":\"1056\",\"type\":\"BasicTicker\"}},\"id\":\"1059\",\"type\":\"Grid\"},{\"attributes\":{\"fill_alpha\":{\"value\":0.5},\"fill_color\":{\"value\":\"olive\"},\"line_alpha\":{\"value\":0.5},\"line_color\":{\"value\":\"olive\"},\"size\":{\"units\":\"screen\",\"value\":10},\"x\":{\"field\":\"x\"},\"y\":{\"field\":\"y\"}},\"id\":\"1115\",\"type\":\"Square\"},{\"attributes\":{\"callback\":null,\"data\":{\"x\":[0,1,2,3,4,5,6,7,8,9,10],\"y\":[5,4,3,2,1,0,1,2,3,4,5]},\"selected\":{\"id\":\"1144\",\"type\":\"Selection\"},\"selection_policy\":{\"id\":\"1145\",\"type\":\"UnionRenderers\"}},\"id\":\"1114\",\"type\":\"ColumnDataSource\"},{\"attributes\":{\"data_source\":{\"id\":\"1114\",\"type\":\"ColumnDataSource\"},\"glyph\":{\"id\":\"1115\",\"type\":\"Square\"},\"hover_glyph\":null,\"muted_glyph\":null,\"nonselection_glyph\":{\"id\":\"1116\",\"type\":\"Square\"},\"selection_glyph\":null,\"view\":{\"id\":\"1118\",\"type\":\"CDSView\"}},\"id\":\"1117\",\"type\":\"GlyphRenderer\"},{\"attributes\":{\"fill_alpha\":{\"value\":0.1},\"fill_color\":{\"value\":\"#1f77b4\"},\"line_alpha\":{\"value\":0.1},\"line_color\":{\"value\":\"#1f77b4\"},\"size\":{\"units\":\"screen\",\"value\":10},\"x\":{\"field\":\"x\"},\"y\":{\"field\":\"y\"}},\"id\":\"1116\",\"type\":\"Square\"},{\"attributes\":{\"children\":[{\"id\":\"1002\",\"subtype\":\"Figure\",\"type\":\"Plot\"},{\"id\":\"1041\",\"subtype\":\"Figure\",\"type\":\"Plot\"},{\"id\":\"1080\",\"subtype\":\"Figure\",\"type\":\"Plot\"}]},\"id\":\"1119\",\"type\":\"Row\"},{\"attributes\":{\"source\":{\"id\":\"1114\",\"type\":\"ColumnDataSource\"}},\"id\":\"1118\",\"type\":\"CDSView\"},{\"attributes\":{\"callback\":null},\"id\":\"1042\",\"type\":\"DataRange1d\"},{\"attributes\":{\"below\":[{\"id\":\"1050\",\"type\":\"LinearAxis\"}],\"left\":[{\"id\":\"1055\",\"type\":\"LinearAxis\"}],\"plot_height\":250,\"plot_width\":250,\"renderers\":[{\"id\":\"1050\",\"type\":\"LinearAxis\"},{\"id\":\"1054\",\"type\":\"Grid\"},{\"id\":\"1055\",\"type\":\"LinearAxis\"},{\"id\":\"1059\",\"type\":\"Grid\"},{\"id\":\"1068\",\"type\":\"BoxAnnotation\"},{\"id\":\"1078\",\"type\":\"GlyphRenderer\"}],\"title\":{\"id\":\"1123\",\"type\":\"Title\"},\"toolbar\":{\"id\":\"1066\",\"type\":\"Toolbar\"},\"x_range\":{\"id\":\"1042\",\"type\":\"DataRange1d\"},\"x_scale\":{\"id\":\"1046\",\"type\":\"LinearScale\"},\"y_range\":{\"id\":\"1044\",\"type\":\"DataRange1d\"},\"y_scale\":{\"id\":\"1048\",\"type\":\"LinearScale\"}},\"id\":\"1041\",\"subtype\":\"Figure\",\"type\":\"Plot\"},{\"attributes\":{\"source\":{\"id\":\"1036\",\"type\":\"ColumnDataSource\"}},\"id\":\"1040\",\"type\":\"CDSView\"},{\"attributes\":{},\"id\":\"1046\",\"type\":\"LinearScale\"},{\"attributes\":{\"callback\":null},\"id\":\"1044\",\"type\":\"DataRange1d\"},{\"attributes\":{},\"id\":\"1048\",\"type\":\"LinearScale\"}],\"root_ids\":[\"1119\"]},\"title\":\"Bokeh Application\",\"version\":\"1.0.4\"}};\n",
       "  var render_items = [{\"docid\":\"492ce3fa-102e-4baa-90b1-be6da9186284\",\"roots\":{\"1119\":\"a0bd90cd-777c-4081-ae96-83a6d3b177b2\"}}];\n",
       "  root.Bokeh.embed.embed_items_notebook(docs_json, render_items);\n",
       "\n",
       "  }\n",
       "  if (root.Bokeh !== undefined) {\n",
       "    embed_document(root);\n",
       "  } else {\n",
       "    var attempts = 0;\n",
       "    var timer = setInterval(function(root) {\n",
       "      if (root.Bokeh !== undefined) {\n",
       "        embed_document(root);\n",
       "        clearInterval(timer);\n",
       "      }\n",
       "      attempts++;\n",
       "      if (attempts > 100) {\n",
       "        console.log(\"Bokeh: ERROR: Unable to run BokehJS code because BokehJS library is missing\");\n",
       "        clearInterval(timer);\n",
       "      }\n",
       "    }, 10, root)\n",
       "  }\n",
       "})(window);"
      ],
      "application/vnd.bokehjs_exec.v0+json": ""
     },
     "metadata": {
      "application/vnd.bokehjs_exec.v0+json": {
       "id": "1119"
      }
     },
     "output_type": "display_data"
    }
   ],
   "source": [
    "from bokeh.layouts import row\n",
    "\n",
    "# create a new plot\n",
    "s1 = figure(width=250, plot_height=250)\n",
    "s1.circle(x, y0, size=10, color=\"navy\", alpha=0.5)\n",
    "\n",
    "# create another one\n",
    "s2 = figure(width=250, height=250)\n",
    "s2.triangle(x, y1, size=10, color=\"firebrick\", alpha=0.5)\n",
    "\n",
    "# create and another\n",
    "s3 = figure(width=250, height=250)\n",
    "s3.square(x, y2, size=10, color=\"olive\", alpha=0.5)\n",
    "\n",
    "# show the results in a row\n",
    "show(row(s1, s2,s3))"
   ]
  },
  {
   "cell_type": "code",
   "execution_count": 4,
   "metadata": {},
   "outputs": [],
   "source": [
    "# EXERCISE: use column to arrange a few plots vertically\n"
   ]
  },
  {
   "cell_type": "markdown",
   "metadata": {},
   "source": [
    "# Grid plots\n",
    "\n",
    "Bokeh also provides a `gridplot` layout in `bokeh.layouts` for arranging plots in a grid, as show in the example below."
   ]
  },
  {
   "cell_type": "code",
   "execution_count": 5,
   "metadata": {},
   "outputs": [
    {
     "data": {
      "text/html": [
       "\n",
       "\n",
       "\n",
       "\n",
       "\n",
       "\n",
       "  <div class=\"bk-root\" id=\"3100d022-1d78-4ef2-9fe5-fcedc1519cbf\" data-root-id=\"1510\"></div>\n"
      ]
     },
     "metadata": {},
     "output_type": "display_data"
    },
    {
     "data": {
      "application/javascript": [
       "(function(root) {\n",
       "  function embed_document(root) {\n",
       "    \n",
       "  var docs_json = {\"e7fea4fb-d16c-4552-9700-ef610598d81f\":{\"roots\":{\"references\":[{\"attributes\":{\"below\":[{\"id\":\"1318\",\"type\":\"LinearAxis\"}],\"left\":[{\"id\":\"1323\",\"type\":\"LinearAxis\"}],\"plot_height\":300,\"plot_width\":300,\"renderers\":[{\"id\":\"1318\",\"type\":\"LinearAxis\"},{\"id\":\"1322\",\"type\":\"Grid\"},{\"id\":\"1323\",\"type\":\"LinearAxis\"},{\"id\":\"1327\",\"type\":\"Grid\"},{\"id\":\"1336\",\"type\":\"BoxAnnotation\"},{\"id\":\"1346\",\"type\":\"GlyphRenderer\"}],\"title\":{\"id\":\"1466\",\"type\":\"Title\"},\"toolbar\":{\"id\":\"1334\",\"type\":\"Toolbar\"},\"toolbar_location\":null,\"x_range\":{\"id\":\"1310\",\"type\":\"DataRange1d\"},\"x_scale\":{\"id\":\"1314\",\"type\":\"LinearScale\"},\"y_range\":{\"id\":\"1312\",\"type\":\"DataRange1d\"},\"y_scale\":{\"id\":\"1316\",\"type\":\"LinearScale\"}},\"id\":\"1309\",\"subtype\":\"Figure\",\"type\":\"Plot\"},{\"attributes\":{},\"id\":\"1371\",\"type\":\"ResetTool\"},{\"attributes\":{},\"id\":\"1370\",\"type\":\"SaveTool\"},{\"attributes\":{\"active_drag\":\"auto\",\"active_inspect\":\"auto\",\"active_multi\":null,\"active_scroll\":\"auto\",\"active_tap\":\"auto\",\"tools\":[{\"id\":\"1367\",\"type\":\"PanTool\"},{\"id\":\"1368\",\"type\":\"WheelZoomTool\"},{\"id\":\"1369\",\"type\":\"BoxZoomTool\"},{\"id\":\"1370\",\"type\":\"SaveTool\"},{\"id\":\"1371\",\"type\":\"ResetTool\"},{\"id\":\"1372\",\"type\":\"HelpTool\"}]},\"id\":\"1373\",\"type\":\"Toolbar\"},{\"attributes\":{},\"id\":\"1372\",\"type\":\"HelpTool\"},{\"attributes\":{\"bottom_units\":\"screen\",\"fill_alpha\":{\"value\":0.5},\"fill_color\":{\"value\":\"lightgrey\"},\"left_units\":\"screen\",\"level\":\"overlay\",\"line_alpha\":{\"value\":1.0},\"line_color\":{\"value\":\"black\"},\"line_dash\":[4,4],\"line_width\":{\"value\":2},\"plot\":null,\"render_mode\":\"css\",\"right_units\":\"screen\",\"top_units\":\"screen\"},\"id\":\"1375\",\"type\":\"BoxAnnotation\"},{\"attributes\":{},\"id\":\"1468\",\"type\":\"BasicTickFormatter\"},{\"attributes\":{\"source\":{\"id\":\"1460\",\"type\":\"ColumnDataSource\"}},\"id\":\"1464\",\"type\":\"CDSView\"},{\"attributes\":{\"plot\":null,\"text\":\"\"},\"id\":\"1466\",\"type\":\"Title\"},{\"attributes\":{\"fill_alpha\":{\"value\":0.5},\"fill_color\":{\"value\":\"olive\"},\"line_alpha\":{\"value\":0.5},\"line_color\":{\"value\":\"olive\"},\"size\":{\"units\":\"screen\",\"value\":10},\"x\":{\"field\":\"x\"},\"y\":{\"field\":\"y\"}},\"id\":\"1461\",\"type\":\"Square\"},{\"attributes\":{\"callback\":null,\"data\":{\"x\":[0,1,2,3,4,5,6,7,8,9,10],\"y\":[5,4,3,2,1,0,1,2,3,4,5]},\"selected\":{\"id\":\"1502\",\"type\":\"Selection\"},\"selection_policy\":{\"id\":\"1503\",\"type\":\"UnionRenderers\"}},\"id\":\"1460\",\"type\":\"ColumnDataSource\"},{\"attributes\":{\"data_source\":{\"id\":\"1460\",\"type\":\"ColumnDataSource\"},\"glyph\":{\"id\":\"1461\",\"type\":\"Square\"},\"hover_glyph\":null,\"muted_glyph\":null,\"nonselection_glyph\":{\"id\":\"1462\",\"type\":\"Square\"},\"selection_glyph\":null,\"view\":{\"id\":\"1464\",\"type\":\"CDSView\"}},\"id\":\"1463\",\"type\":\"GlyphRenderer\"},{\"attributes\":{\"fill_alpha\":{\"value\":0.1},\"fill_color\":{\"value\":\"#1f77b4\"},\"line_alpha\":{\"value\":0.1},\"line_color\":{\"value\":\"#1f77b4\"},\"size\":{\"units\":\"screen\",\"value\":10},\"x\":{\"field\":\"x\"},\"y\":{\"field\":\"y\"}},\"id\":\"1462\",\"type\":\"Square\"},{\"attributes\":{},\"id\":\"1316\",\"type\":\"LinearScale\"},{\"attributes\":{},\"id\":\"1314\",\"type\":\"LinearScale\"},{\"attributes\":{\"callback\":null},\"id\":\"1312\",\"type\":\"DataRange1d\"},{\"attributes\":{\"callback\":null},\"id\":\"1310\",\"type\":\"DataRange1d\"},{\"attributes\":{},\"id\":\"1319\",\"type\":\"BasicTicker\"},{\"attributes\":{\"formatter\":{\"id\":\"1468\",\"type\":\"BasicTickFormatter\"},\"plot\":{\"id\":\"1309\",\"subtype\":\"Figure\",\"type\":\"Plot\"},\"ticker\":{\"id\":\"1319\",\"type\":\"BasicTicker\"}},\"id\":\"1318\",\"type\":\"LinearAxis\"},{\"attributes\":{},\"id\":\"1490\",\"type\":\"BasicTickFormatter\"},{\"attributes\":{},\"id\":\"1491\",\"type\":\"Selection\"},{\"attributes\":{},\"id\":\"1492\",\"type\":\"UnionRenderers\"},{\"attributes\":{\"children\":[{\"id\":\"1309\",\"subtype\":\"Figure\",\"type\":\"Plot\"},{\"id\":\"1348\",\"subtype\":\"Figure\",\"type\":\"Plot\"},{\"id\":\"1387\",\"subtype\":\"Figure\",\"type\":\"Plot\"}]},\"id\":\"1495\",\"type\":\"Row\"},{\"attributes\":{\"plot\":null,\"text\":\"\"},\"id\":\"1497\",\"type\":\"Title\"},{\"attributes\":{},\"id\":\"1499\",\"type\":\"BasicTickFormatter\"},{\"attributes\":{},\"id\":\"1394\",\"type\":\"LinearScale\"},{\"attributes\":{},\"id\":\"1406\",\"type\":\"PanTool\"},{\"attributes\":{\"callback\":null},\"id\":\"1388\",\"type\":\"DataRange1d\"},{\"attributes\":{},\"id\":\"1410\",\"type\":\"ResetTool\"},{\"attributes\":{},\"id\":\"1411\",\"type\":\"HelpTool\"},{\"attributes\":{\"active_drag\":\"auto\",\"active_inspect\":\"auto\",\"active_multi\":null,\"active_scroll\":\"auto\",\"active_tap\":\"auto\",\"tools\":[{\"id\":\"1406\",\"type\":\"PanTool\"},{\"id\":\"1407\",\"type\":\"WheelZoomTool\"},{\"id\":\"1408\",\"type\":\"BoxZoomTool\"},{\"id\":\"1409\",\"type\":\"SaveTool\"},{\"id\":\"1410\",\"type\":\"ResetTool\"},{\"id\":\"1411\",\"type\":\"HelpTool\"}]},\"id\":\"1412\",\"type\":\"Toolbar\"},{\"attributes\":{\"below\":[{\"id\":\"1396\",\"type\":\"LinearAxis\"}],\"left\":[{\"id\":\"1401\",\"type\":\"LinearAxis\"}],\"plot_height\":300,\"plot_width\":300,\"renderers\":[{\"id\":\"1396\",\"type\":\"LinearAxis\"},{\"id\":\"1400\",\"type\":\"Grid\"},{\"id\":\"1401\",\"type\":\"LinearAxis\"},{\"id\":\"1405\",\"type\":\"Grid\"},{\"id\":\"1414\",\"type\":\"BoxAnnotation\"},{\"id\":\"1424\",\"type\":\"GlyphRenderer\"}],\"title\":{\"id\":\"1486\",\"type\":\"Title\"},\"toolbar\":{\"id\":\"1412\",\"type\":\"Toolbar\"},\"toolbar_location\":null,\"x_range\":{\"id\":\"1388\",\"type\":\"DataRange1d\"},\"x_scale\":{\"id\":\"1392\",\"type\":\"LinearScale\"},\"y_range\":{\"id\":\"1390\",\"type\":\"DataRange1d\"},\"y_scale\":{\"id\":\"1394\",\"type\":\"LinearScale\"}},\"id\":\"1387\",\"subtype\":\"Figure\",\"type\":\"Plot\"},{\"attributes\":{\"bottom_units\":\"screen\",\"fill_alpha\":{\"value\":0.5},\"fill_color\":{\"value\":\"lightgrey\"},\"left_units\":\"screen\",\"level\":\"overlay\",\"line_alpha\":{\"value\":1.0},\"line_color\":{\"value\":\"black\"},\"line_dash\":[4,4],\"line_width\":{\"value\":2},\"plot\":null,\"render_mode\":\"css\",\"right_units\":\"screen\",\"top_units\":\"screen\"},\"id\":\"1414\",\"type\":\"BoxAnnotation\"},{\"attributes\":{\"callback\":null,\"data\":{\"x\":[0,1,2,3,4,5,6,7,8,9,10],\"y\":[10,9,8,7,6,5,4,3,2,1,0]},\"selected\":{\"id\":\"1481\",\"type\":\"Selection\"},\"selection_policy\":{\"id\":\"1482\",\"type\":\"UnionRenderers\"}},\"id\":\"1382\",\"type\":\"ColumnDataSource\"},{\"attributes\":{\"fill_alpha\":{\"value\":0.5},\"fill_color\":{\"value\":\"firebrick\"},\"line_alpha\":{\"value\":0.5},\"line_color\":{\"value\":\"firebrick\"},\"size\":{\"units\":\"screen\",\"value\":10},\"x\":{\"field\":\"x\"},\"y\":{\"field\":\"y\"}},\"id\":\"1383\",\"type\":\"Triangle\"},{\"attributes\":{\"plot\":{\"id\":\"1309\",\"subtype\":\"Figure\",\"type\":\"Plot\"},\"ticker\":{\"id\":\"1319\",\"type\":\"BasicTicker\"}},\"id\":\"1322\",\"type\":\"Grid\"},{\"attributes\":{\"formatter\":{\"id\":\"1470\",\"type\":\"BasicTickFormatter\"},\"plot\":{\"id\":\"1309\",\"subtype\":\"Figure\",\"type\":\"Plot\"},\"ticker\":{\"id\":\"1324\",\"type\":\"BasicTicker\"}},\"id\":\"1323\",\"type\":\"LinearAxis\"},{\"attributes\":{\"dimension\":1,\"plot\":{\"id\":\"1309\",\"subtype\":\"Figure\",\"type\":\"Plot\"},\"ticker\":{\"id\":\"1324\",\"type\":\"BasicTicker\"}},\"id\":\"1327\",\"type\":\"Grid\"},{\"attributes\":{},\"id\":\"1324\",\"type\":\"BasicTicker\"},{\"attributes\":{},\"id\":\"1328\",\"type\":\"PanTool\"},{\"attributes\":{},\"id\":\"1329\",\"type\":\"WheelZoomTool\"},{\"attributes\":{},\"id\":\"1482\",\"type\":\"UnionRenderers\"},{\"attributes\":{},\"id\":\"1481\",\"type\":\"Selection\"},{\"attributes\":{},\"id\":\"1480\",\"type\":\"BasicTickFormatter\"},{\"attributes\":{\"plot\":null,\"text\":\"\"},\"id\":\"1486\",\"type\":\"Title\"},{\"attributes\":{},\"id\":\"1488\",\"type\":\"BasicTickFormatter\"},{\"attributes\":{},\"id\":\"1409\",\"type\":\"SaveTool\"},{\"attributes\":{\"overlay\":{\"id\":\"1414\",\"type\":\"BoxAnnotation\"}},\"id\":\"1408\",\"type\":\"BoxZoomTool\"},{\"attributes\":{},\"id\":\"1397\",\"type\":\"BasicTicker\"},{\"attributes\":{},\"id\":\"1402\",\"type\":\"BasicTicker\"},{\"attributes\":{\"formatter\":{\"id\":\"1490\",\"type\":\"BasicTickFormatter\"},\"plot\":{\"id\":\"1387\",\"subtype\":\"Figure\",\"type\":\"Plot\"},\"ticker\":{\"id\":\"1402\",\"type\":\"BasicTicker\"}},\"id\":\"1401\",\"type\":\"LinearAxis\"},{\"attributes\":{\"plot\":{\"id\":\"1387\",\"subtype\":\"Figure\",\"type\":\"Plot\"},\"ticker\":{\"id\":\"1397\",\"type\":\"BasicTicker\"}},\"id\":\"1400\",\"type\":\"Grid\"},{\"attributes\":{},\"id\":\"1407\",\"type\":\"WheelZoomTool\"},{\"attributes\":{},\"id\":\"1392\",\"type\":\"LinearScale\"},{\"attributes\":{\"dimension\":1,\"plot\":{\"id\":\"1387\",\"subtype\":\"Figure\",\"type\":\"Plot\"},\"ticker\":{\"id\":\"1402\",\"type\":\"BasicTicker\"}},\"id\":\"1405\",\"type\":\"Grid\"},{\"attributes\":{\"callback\":null},\"id\":\"1390\",\"type\":\"DataRange1d\"},{\"attributes\":{\"active_drag\":\"auto\",\"active_inspect\":\"auto\",\"active_multi\":null,\"active_scroll\":\"auto\",\"active_tap\":\"auto\",\"tools\":[{\"id\":\"1328\",\"type\":\"PanTool\"},{\"id\":\"1329\",\"type\":\"WheelZoomTool\"},{\"id\":\"1330\",\"type\":\"BoxZoomTool\"},{\"id\":\"1331\",\"type\":\"SaveTool\"},{\"id\":\"1332\",\"type\":\"ResetTool\"},{\"id\":\"1333\",\"type\":\"HelpTool\"}]},\"id\":\"1334\",\"type\":\"Toolbar\"},{\"attributes\":{\"bottom_units\":\"screen\",\"fill_alpha\":{\"value\":0.5},\"fill_color\":{\"value\":\"lightgrey\"},\"left_units\":\"screen\",\"level\":\"overlay\",\"line_alpha\":{\"value\":1.0},\"line_color\":{\"value\":\"black\"},\"line_dash\":[4,4],\"line_width\":{\"value\":2},\"plot\":null,\"render_mode\":\"css\",\"right_units\":\"screen\",\"top_units\":\"screen\"},\"id\":\"1336\",\"type\":\"BoxAnnotation\"},{\"attributes\":{},\"id\":\"1331\",\"type\":\"SaveTool\"},{\"attributes\":{\"overlay\":{\"id\":\"1336\",\"type\":\"BoxAnnotation\"}},\"id\":\"1330\",\"type\":\"BoxZoomTool\"},{\"attributes\":{},\"id\":\"1333\",\"type\":\"HelpTool\"},{\"attributes\":{},\"id\":\"1332\",\"type\":\"ResetTool\"},{\"attributes\":{\"fill_alpha\":{\"value\":0.1},\"fill_color\":{\"value\":\"#1f77b4\"},\"line_alpha\":{\"value\":0.1},\"line_color\":{\"value\":\"#1f77b4\"},\"size\":{\"units\":\"screen\",\"value\":10},\"x\":{\"field\":\"x\"},\"y\":{\"field\":\"y\"}},\"id\":\"1384\",\"type\":\"Triangle\"},{\"attributes\":{\"data_source\":{\"id\":\"1382\",\"type\":\"ColumnDataSource\"},\"glyph\":{\"id\":\"1383\",\"type\":\"Triangle\"},\"hover_glyph\":null,\"muted_glyph\":null,\"nonselection_glyph\":{\"id\":\"1384\",\"type\":\"Triangle\"},\"selection_glyph\":null,\"view\":{\"id\":\"1386\",\"type\":\"CDSView\"}},\"id\":\"1385\",\"type\":\"GlyphRenderer\"},{\"attributes\":{\"source\":{\"id\":\"1382\",\"type\":\"ColumnDataSource\"}},\"id\":\"1386\",\"type\":\"CDSView\"},{\"attributes\":{},\"id\":\"1436\",\"type\":\"BasicTicker\"},{\"attributes\":{\"formatter\":{\"id\":\"1499\",\"type\":\"BasicTickFormatter\"},\"plot\":{\"id\":\"1426\",\"subtype\":\"Figure\",\"type\":\"Plot\"},\"ticker\":{\"id\":\"1436\",\"type\":\"BasicTicker\"}},\"id\":\"1435\",\"type\":\"LinearAxis\"},{\"attributes\":{},\"id\":\"1433\",\"type\":\"LinearScale\"},{\"attributes\":{},\"id\":\"1431\",\"type\":\"LinearScale\"},{\"attributes\":{\"formatter\":{\"id\":\"1488\",\"type\":\"BasicTickFormatter\"},\"plot\":{\"id\":\"1387\",\"subtype\":\"Figure\",\"type\":\"Plot\"},\"ticker\":{\"id\":\"1397\",\"type\":\"BasicTicker\"}},\"id\":\"1396\",\"type\":\"LinearAxis\"},{\"attributes\":{\"plot\":{\"id\":\"1426\",\"subtype\":\"Figure\",\"type\":\"Plot\"},\"ticker\":{\"id\":\"1436\",\"type\":\"BasicTicker\"}},\"id\":\"1439\",\"type\":\"Grid\"},{\"attributes\":{\"below\":[{\"id\":\"1357\",\"type\":\"LinearAxis\"}],\"left\":[{\"id\":\"1362\",\"type\":\"LinearAxis\"}],\"plot_height\":300,\"plot_width\":300,\"renderers\":[{\"id\":\"1357\",\"type\":\"LinearAxis\"},{\"id\":\"1361\",\"type\":\"Grid\"},{\"id\":\"1362\",\"type\":\"LinearAxis\"},{\"id\":\"1366\",\"type\":\"Grid\"},{\"id\":\"1375\",\"type\":\"BoxAnnotation\"},{\"id\":\"1385\",\"type\":\"GlyphRenderer\"}],\"title\":{\"id\":\"1476\",\"type\":\"Title\"},\"toolbar\":{\"id\":\"1373\",\"type\":\"Toolbar\"},\"toolbar_location\":null,\"x_range\":{\"id\":\"1349\",\"type\":\"DataRange1d\"},\"x_scale\":{\"id\":\"1353\",\"type\":\"LinearScale\"},\"y_range\":{\"id\":\"1351\",\"type\":\"DataRange1d\"},\"y_scale\":{\"id\":\"1355\",\"type\":\"LinearScale\"}},\"id\":\"1348\",\"subtype\":\"Figure\",\"type\":\"Plot\"},{\"attributes\":{\"callback\":null},\"id\":\"1349\",\"type\":\"DataRange1d\"},{\"attributes\":{\"callback\":null,\"data\":{\"x\":[0,1,2,3,4,5,6,7,8,9,10],\"y\":[0,1,2,3,4,5,6,7,8,9,10]},\"selected\":{\"id\":\"1471\",\"type\":\"Selection\"},\"selection_policy\":{\"id\":\"1472\",\"type\":\"UnionRenderers\"}},\"id\":\"1343\",\"type\":\"ColumnDataSource\"},{\"attributes\":{\"fill_alpha\":{\"value\":0.5},\"fill_color\":{\"value\":\"navy\"},\"line_alpha\":{\"value\":0.5},\"line_color\":{\"value\":\"navy\"},\"size\":{\"units\":\"screen\",\"value\":10},\"x\":{\"field\":\"x\"},\"y\":{\"field\":\"y\"}},\"id\":\"1344\",\"type\":\"Circle\"},{\"attributes\":{\"fill_alpha\":{\"value\":0.1},\"fill_color\":{\"value\":\"#1f77b4\"},\"line_alpha\":{\"value\":0.1},\"line_color\":{\"value\":\"#1f77b4\"},\"size\":{\"units\":\"screen\",\"value\":10},\"x\":{\"field\":\"x\"},\"y\":{\"field\":\"y\"}},\"id\":\"1345\",\"type\":\"Circle\"},{\"attributes\":{\"data_source\":{\"id\":\"1343\",\"type\":\"ColumnDataSource\"},\"glyph\":{\"id\":\"1344\",\"type\":\"Circle\"},\"hover_glyph\":null,\"muted_glyph\":null,\"nonselection_glyph\":{\"id\":\"1345\",\"type\":\"Circle\"},\"selection_glyph\":null,\"view\":{\"id\":\"1347\",\"type\":\"CDSView\"}},\"id\":\"1346\",\"type\":\"GlyphRenderer\"},{\"attributes\":{\"source\":{\"id\":\"1343\",\"type\":\"ColumnDataSource\"}},\"id\":\"1347\",\"type\":\"CDSView\"},{\"attributes\":{\"callback\":null,\"data\":{\"x\":[0,1,2,3,4,5,6,7,8,9,10],\"y\":[5,4,3,2,1,0,1,2,3,4,5]},\"selected\":{\"id\":\"1491\",\"type\":\"Selection\"},\"selection_policy\":{\"id\":\"1492\",\"type\":\"UnionRenderers\"}},\"id\":\"1421\",\"type\":\"ColumnDataSource\"},{\"attributes\":{\"fill_alpha\":{\"value\":0.1},\"fill_color\":{\"value\":\"#1f77b4\"},\"line_alpha\":{\"value\":0.1},\"line_color\":{\"value\":\"#1f77b4\"},\"size\":{\"units\":\"screen\",\"value\":10},\"x\":{\"field\":\"x\"},\"y\":{\"field\":\"y\"}},\"id\":\"1423\",\"type\":\"Square\"},{\"attributes\":{\"fill_alpha\":{\"value\":0.5},\"fill_color\":{\"value\":\"olive\"},\"line_alpha\":{\"value\":0.5},\"line_color\":{\"value\":\"olive\"},\"size\":{\"units\":\"screen\",\"value\":10},\"x\":{\"field\":\"x\"},\"y\":{\"field\":\"y\"}},\"id\":\"1422\",\"type\":\"Square\"},{\"attributes\":{\"source\":{\"id\":\"1421\",\"type\":\"ColumnDataSource\"}},\"id\":\"1425\",\"type\":\"CDSView\"},{\"attributes\":{\"data_source\":{\"id\":\"1421\",\"type\":\"ColumnDataSource\"},\"glyph\":{\"id\":\"1422\",\"type\":\"Square\"},\"hover_glyph\":null,\"muted_glyph\":null,\"nonselection_glyph\":{\"id\":\"1423\",\"type\":\"Square\"},\"selection_glyph\":null,\"view\":{\"id\":\"1425\",\"type\":\"CDSView\"}},\"id\":\"1424\",\"type\":\"GlyphRenderer\"},{\"attributes\":{\"callback\":null},\"id\":\"1427\",\"type\":\"DataRange1d\"},{\"attributes\":{\"below\":[{\"id\":\"1435\",\"type\":\"LinearAxis\"}],\"left\":[{\"id\":\"1440\",\"type\":\"LinearAxis\"}],\"plot_height\":300,\"plot_width\":300,\"renderers\":[{\"id\":\"1435\",\"type\":\"LinearAxis\"},{\"id\":\"1439\",\"type\":\"Grid\"},{\"id\":\"1440\",\"type\":\"LinearAxis\"},{\"id\":\"1444\",\"type\":\"Grid\"},{\"id\":\"1453\",\"type\":\"BoxAnnotation\"},{\"id\":\"1463\",\"type\":\"GlyphRenderer\"}],\"title\":{\"id\":\"1497\",\"type\":\"Title\"},\"toolbar\":{\"id\":\"1451\",\"type\":\"Toolbar\"},\"toolbar_location\":null,\"x_range\":{\"id\":\"1427\",\"type\":\"DataRange1d\"},\"x_scale\":{\"id\":\"1431\",\"type\":\"LinearScale\"},\"y_range\":{\"id\":\"1429\",\"type\":\"DataRange1d\"},\"y_scale\":{\"id\":\"1433\",\"type\":\"LinearScale\"}},\"id\":\"1426\",\"subtype\":\"Figure\",\"type\":\"Plot\"},{\"attributes\":{\"callback\":null},\"id\":\"1429\",\"type\":\"DataRange1d\"},{\"attributes\":{},\"id\":\"1502\",\"type\":\"Selection\"},{\"attributes\":{},\"id\":\"1503\",\"type\":\"UnionRenderers\"},{\"attributes\":{},\"id\":\"1501\",\"type\":\"BasicTickFormatter\"},{\"attributes\":{\"children\":[{\"id\":\"1426\",\"subtype\":\"Figure\",\"type\":\"Plot\"}]},\"id\":\"1506\",\"type\":\"Row\"},{\"attributes\":{\"children\":[{\"id\":\"1495\",\"type\":\"Row\"},{\"id\":\"1506\",\"type\":\"Row\"}]},\"id\":\"1507\",\"type\":\"Column\"},{\"attributes\":{\"tools\":[{\"id\":\"1328\",\"type\":\"PanTool\"},{\"id\":\"1329\",\"type\":\"WheelZoomTool\"},{\"id\":\"1330\",\"type\":\"BoxZoomTool\"},{\"id\":\"1331\",\"type\":\"SaveTool\"},{\"id\":\"1332\",\"type\":\"ResetTool\"},{\"id\":\"1333\",\"type\":\"HelpTool\"},{\"id\":\"1367\",\"type\":\"PanTool\"},{\"id\":\"1368\",\"type\":\"WheelZoomTool\"},{\"id\":\"1369\",\"type\":\"BoxZoomTool\"},{\"id\":\"1370\",\"type\":\"SaveTool\"},{\"id\":\"1371\",\"type\":\"ResetTool\"},{\"id\":\"1372\",\"type\":\"HelpTool\"},{\"id\":\"1406\",\"type\":\"PanTool\"},{\"id\":\"1407\",\"type\":\"WheelZoomTool\"},{\"id\":\"1408\",\"type\":\"BoxZoomTool\"},{\"id\":\"1409\",\"type\":\"SaveTool\"},{\"id\":\"1410\",\"type\":\"ResetTool\"},{\"id\":\"1411\",\"type\":\"HelpTool\"},{\"id\":\"1445\",\"type\":\"PanTool\"},{\"id\":\"1446\",\"type\":\"WheelZoomTool\"},{\"id\":\"1447\",\"type\":\"BoxZoomTool\"},{\"id\":\"1448\",\"type\":\"SaveTool\"},{\"id\":\"1449\",\"type\":\"ResetTool\"},{\"id\":\"1450\",\"type\":\"HelpTool\"}]},\"id\":\"1508\",\"type\":\"ProxyToolbar\"},{\"attributes\":{\"toolbar\":{\"id\":\"1508\",\"type\":\"ProxyToolbar\"},\"toolbar_location\":\"above\"},\"id\":\"1509\",\"type\":\"ToolbarBox\"},{\"attributes\":{},\"id\":\"1358\",\"type\":\"BasicTicker\"},{\"attributes\":{},\"id\":\"1353\",\"type\":\"LinearScale\"},{\"attributes\":{\"callback\":null},\"id\":\"1351\",\"type\":\"DataRange1d\"},{\"attributes\":{\"formatter\":{\"id\":\"1478\",\"type\":\"BasicTickFormatter\"},\"plot\":{\"id\":\"1348\",\"subtype\":\"Figure\",\"type\":\"Plot\"},\"ticker\":{\"id\":\"1358\",\"type\":\"BasicTicker\"}},\"id\":\"1357\",\"type\":\"LinearAxis\"},{\"attributes\":{},\"id\":\"1355\",\"type\":\"LinearScale\"},{\"attributes\":{},\"id\":\"1450\",\"type\":\"HelpTool\"},{\"attributes\":{\"active_drag\":\"auto\",\"active_inspect\":\"auto\",\"active_multi\":null,\"active_scroll\":\"auto\",\"active_tap\":\"auto\",\"tools\":[{\"id\":\"1445\",\"type\":\"PanTool\"},{\"id\":\"1446\",\"type\":\"WheelZoomTool\"},{\"id\":\"1447\",\"type\":\"BoxZoomTool\"},{\"id\":\"1448\",\"type\":\"SaveTool\"},{\"id\":\"1449\",\"type\":\"ResetTool\"},{\"id\":\"1450\",\"type\":\"HelpTool\"}]},\"id\":\"1451\",\"type\":\"Toolbar\"},{\"attributes\":{\"bottom_units\":\"screen\",\"fill_alpha\":{\"value\":0.5},\"fill_color\":{\"value\":\"lightgrey\"},\"left_units\":\"screen\",\"level\":\"overlay\",\"line_alpha\":{\"value\":1.0},\"line_color\":{\"value\":\"black\"},\"line_dash\":[4,4],\"line_width\":{\"value\":2},\"plot\":null,\"render_mode\":\"css\",\"right_units\":\"screen\",\"top_units\":\"screen\"},\"id\":\"1453\",\"type\":\"BoxAnnotation\"},{\"attributes\":{\"children\":[{\"id\":\"1509\",\"type\":\"ToolbarBox\"},{\"id\":\"1507\",\"type\":\"Column\"}]},\"id\":\"1510\",\"type\":\"Column\"},{\"attributes\":{},\"id\":\"1472\",\"type\":\"UnionRenderers\"},{\"attributes\":{\"overlay\":{\"id\":\"1453\",\"type\":\"BoxAnnotation\"}},\"id\":\"1447\",\"type\":\"BoxZoomTool\"},{\"attributes\":{},\"id\":\"1446\",\"type\":\"WheelZoomTool\"},{\"attributes\":{},\"id\":\"1445\",\"type\":\"PanTool\"},{\"attributes\":{\"dimension\":1,\"plot\":{\"id\":\"1426\",\"subtype\":\"Figure\",\"type\":\"Plot\"},\"ticker\":{\"id\":\"1441\",\"type\":\"BasicTicker\"}},\"id\":\"1444\",\"type\":\"Grid\"},{\"attributes\":{},\"id\":\"1441\",\"type\":\"BasicTicker\"},{\"attributes\":{\"formatter\":{\"id\":\"1501\",\"type\":\"BasicTickFormatter\"},\"plot\":{\"id\":\"1426\",\"subtype\":\"Figure\",\"type\":\"Plot\"},\"ticker\":{\"id\":\"1441\",\"type\":\"BasicTicker\"}},\"id\":\"1440\",\"type\":\"LinearAxis\"},{\"attributes\":{\"formatter\":{\"id\":\"1480\",\"type\":\"BasicTickFormatter\"},\"plot\":{\"id\":\"1348\",\"subtype\":\"Figure\",\"type\":\"Plot\"},\"ticker\":{\"id\":\"1363\",\"type\":\"BasicTicker\"}},\"id\":\"1362\",\"type\":\"LinearAxis\"},{\"attributes\":{},\"id\":\"1449\",\"type\":\"ResetTool\"},{\"attributes\":{},\"id\":\"1448\",\"type\":\"SaveTool\"},{\"attributes\":{\"dimension\":1,\"plot\":{\"id\":\"1348\",\"subtype\":\"Figure\",\"type\":\"Plot\"},\"ticker\":{\"id\":\"1363\",\"type\":\"BasicTicker\"}},\"id\":\"1366\",\"type\":\"Grid\"},{\"attributes\":{},\"id\":\"1367\",\"type\":\"PanTool\"},{\"attributes\":{},\"id\":\"1470\",\"type\":\"BasicTickFormatter\"},{\"attributes\":{},\"id\":\"1471\",\"type\":\"Selection\"},{\"attributes\":{\"plot\":null,\"text\":\"\"},\"id\":\"1476\",\"type\":\"Title\"},{\"attributes\":{},\"id\":\"1363\",\"type\":\"BasicTicker\"},{\"attributes\":{\"plot\":{\"id\":\"1348\",\"subtype\":\"Figure\",\"type\":\"Plot\"},\"ticker\":{\"id\":\"1358\",\"type\":\"BasicTicker\"}},\"id\":\"1361\",\"type\":\"Grid\"},{\"attributes\":{},\"id\":\"1478\",\"type\":\"BasicTickFormatter\"},{\"attributes\":{},\"id\":\"1368\",\"type\":\"WheelZoomTool\"},{\"attributes\":{\"overlay\":{\"id\":\"1375\",\"type\":\"BoxAnnotation\"}},\"id\":\"1369\",\"type\":\"BoxZoomTool\"}],\"root_ids\":[\"1510\"]},\"title\":\"Bokeh Application\",\"version\":\"1.0.4\"}};\n",
       "  var render_items = [{\"docid\":\"e7fea4fb-d16c-4552-9700-ef610598d81f\",\"roots\":{\"1510\":\"3100d022-1d78-4ef2-9fe5-fcedc1519cbf\"}}];\n",
       "  root.Bokeh.embed.embed_items_notebook(docs_json, render_items);\n",
       "\n",
       "  }\n",
       "  if (root.Bokeh !== undefined) {\n",
       "    embed_document(root);\n",
       "  } else {\n",
       "    var attempts = 0;\n",
       "    var timer = setInterval(function(root) {\n",
       "      if (root.Bokeh !== undefined) {\n",
       "        embed_document(root);\n",
       "        clearInterval(timer);\n",
       "      }\n",
       "      attempts++;\n",
       "      if (attempts > 100) {\n",
       "        console.log(\"Bokeh: ERROR: Unable to run BokehJS code because BokehJS library is missing\");\n",
       "        clearInterval(timer);\n",
       "      }\n",
       "    }, 10, root)\n",
       "  }\n",
       "})(window);"
      ],
      "application/vnd.bokehjs_exec.v0+json": ""
     },
     "metadata": {
      "application/vnd.bokehjs_exec.v0+json": {
       "id": "1510"
      }
     },
     "output_type": "display_data"
    }
   ],
   "source": [
    "from bokeh.layouts import gridplot\n",
    "\n",
    "# create a new plot\n",
    "s1 = figure(width=250, plot_height=250)\n",
    "s1.circle(x, y0, size=10, color=\"navy\", alpha=0.5)\n",
    "\n",
    "# create another one\n",
    "s2 = figure(width=250, height=250)\n",
    "s2.triangle(x, y1, size=10, color=\"firebrick\", alpha=0.5)\n",
    "\n",
    "# create and another\n",
    "s3 = figure(width=250, height=250)\n",
    "s3.square(x, y2, size=10, color=\"olive\", alpha=0.5)\n",
    "# create and another\n",
    "s4 = figure(width=250, height=250)\n",
    "s4.square(x, y2, size=10, color=\"olive\", alpha=0.5)\n",
    "# put all the plots in a gridplot\n",
    "\n",
    "#p = gridplot([[s1, s2], [s3, None]], toolbar_location=None)\n",
    "p = gridplot([[s1, s2,s3], [s4]], plot_width=300,plot_height=300, )\n",
    "# show the results\n",
    "show(p)"
   ]
  },
  {
   "cell_type": "code",
   "execution_count": 6,
   "metadata": {},
   "outputs": [
    {
     "data": {
      "text/html": [
       "\n",
       "\n",
       "\n",
       "\n",
       "\n",
       "\n",
       "  <div class=\"bk-root\" id=\"9b68fb29-7697-481a-9f09-f266aa9bfd30\" data-root-id=\"1991\"></div>\n"
      ]
     },
     "metadata": {},
     "output_type": "display_data"
    },
    {
     "data": {
      "application/javascript": [
       "(function(root) {\n",
       "  function embed_document(root) {\n",
       "    \n",
       "  var docs_json = {\"ea6e35f3-7dcd-47bc-a29b-b0c3bb6681af\":{\"roots\":{\"references\":[{\"attributes\":{\"below\":[{\"id\":\"1877\",\"type\":\"LinearAxis\"}],\"left\":[{\"id\":\"1882\",\"type\":\"LinearAxis\"}],\"plot_height\":300,\"plot_width\":300,\"renderers\":[{\"id\":\"1877\",\"type\":\"LinearAxis\"},{\"id\":\"1881\",\"type\":\"Grid\"},{\"id\":\"1882\",\"type\":\"LinearAxis\"},{\"id\":\"1886\",\"type\":\"Grid\"},{\"id\":\"1895\",\"type\":\"BoxAnnotation\"},{\"id\":\"1905\",\"type\":\"GlyphRenderer\"}],\"title\":{\"id\":\"1967\",\"type\":\"Title\"},\"toolbar\":{\"id\":\"1893\",\"type\":\"Toolbar\"},\"toolbar_location\":null,\"x_range\":{\"id\":\"1869\",\"type\":\"DataRange1d\"},\"x_scale\":{\"id\":\"1873\",\"type\":\"LinearScale\"},\"y_range\":{\"id\":\"1871\",\"type\":\"DataRange1d\"},\"y_scale\":{\"id\":\"1875\",\"type\":\"LinearScale\"}},\"id\":\"1868\",\"subtype\":\"Figure\",\"type\":\"Plot\"},{\"attributes\":{\"callback\":null},\"id\":\"1832\",\"type\":\"DataRange1d\"},{\"attributes\":{\"callback\":null},\"id\":\"1830\",\"type\":\"DataRange1d\"},{\"attributes\":{},\"id\":\"1949\",\"type\":\"BasicTickFormatter\"},{\"attributes\":{},\"id\":\"1836\",\"type\":\"LinearScale\"},{\"attributes\":{},\"id\":\"1834\",\"type\":\"LinearScale\"},{\"attributes\":{\"fill_alpha\":{\"value\":0.5},\"fill_color\":{\"value\":\"olive\"},\"line_alpha\":{\"value\":0.5},\"line_color\":{\"value\":\"olive\"},\"size\":{\"units\":\"screen\",\"value\":10},\"x\":{\"field\":\"x\"},\"y\":{\"field\":\"y\"}},\"id\":\"1942\",\"type\":\"Square\"},{\"attributes\":{\"fill_alpha\":{\"value\":0.1},\"fill_color\":{\"value\":\"#1f77b4\"},\"line_alpha\":{\"value\":0.1},\"line_color\":{\"value\":\"#1f77b4\"},\"size\":{\"units\":\"screen\",\"value\":10},\"x\":{\"field\":\"x\"},\"y\":{\"field\":\"y\"}},\"id\":\"1943\",\"type\":\"Square\"},{\"attributes\":{\"formatter\":{\"id\":\"1959\",\"type\":\"BasicTickFormatter\"},\"plot\":{\"id\":\"1829\",\"subtype\":\"Figure\",\"type\":\"Plot\"},\"ticker\":{\"id\":\"1839\",\"type\":\"BasicTicker\"}},\"id\":\"1838\",\"type\":\"LinearAxis\"},{\"attributes\":{\"callback\":null,\"data\":{\"x\":[5,4,3,2,1,0,1,2,3,4,5],\"y\":[0,1,2,3,4,5,6,7,8,9,10]},\"selected\":{\"id\":\"1983\",\"type\":\"Selection\"},\"selection_policy\":{\"id\":\"1984\",\"type\":\"UnionRenderers\"}},\"id\":\"1941\",\"type\":\"ColumnDataSource\"},{\"attributes\":{\"plot\":null,\"text\":\"\"},\"id\":\"1947\",\"type\":\"Title\"},{\"attributes\":{\"data_source\":{\"id\":\"1941\",\"type\":\"ColumnDataSource\"},\"glyph\":{\"id\":\"1942\",\"type\":\"Square\"},\"hover_glyph\":null,\"muted_glyph\":null,\"nonselection_glyph\":{\"id\":\"1943\",\"type\":\"Square\"},\"selection_glyph\":null,\"view\":{\"id\":\"1945\",\"type\":\"CDSView\"}},\"id\":\"1944\",\"type\":\"GlyphRenderer\"},{\"attributes\":{\"source\":{\"id\":\"1941\",\"type\":\"ColumnDataSource\"}},\"id\":\"1945\",\"type\":\"CDSView\"},{\"attributes\":{\"formatter\":{\"id\":\"1949\",\"type\":\"BasicTickFormatter\"},\"plot\":{\"id\":\"1790\",\"subtype\":\"Figure\",\"type\":\"Plot\"},\"ticker\":{\"id\":\"1800\",\"type\":\"BasicTicker\"}},\"id\":\"1799\",\"type\":\"LinearAxis\"},{\"attributes\":{\"callback\":null},\"id\":\"1793\",\"type\":\"DataRange1d\"},{\"attributes\":{\"callback\":null},\"id\":\"1791\",\"type\":\"DataRange1d\"},{\"attributes\":{\"below\":[{\"id\":\"1799\",\"type\":\"LinearAxis\"}],\"left\":[{\"id\":\"1804\",\"type\":\"LinearAxis\"}],\"plot_height\":300,\"plot_width\":300,\"renderers\":[{\"id\":\"1799\",\"type\":\"LinearAxis\"},{\"id\":\"1803\",\"type\":\"Grid\"},{\"id\":\"1804\",\"type\":\"LinearAxis\"},{\"id\":\"1808\",\"type\":\"Grid\"},{\"id\":\"1817\",\"type\":\"BoxAnnotation\"},{\"id\":\"1827\",\"type\":\"GlyphRenderer\"}],\"title\":{\"id\":\"1947\",\"type\":\"Title\"},\"toolbar\":{\"id\":\"1815\",\"type\":\"Toolbar\"},\"toolbar_location\":null,\"x_range\":{\"id\":\"1791\",\"type\":\"DataRange1d\"},\"x_scale\":{\"id\":\"1795\",\"type\":\"LinearScale\"},\"y_range\":{\"id\":\"1793\",\"type\":\"DataRange1d\"},\"y_scale\":{\"id\":\"1797\",\"type\":\"LinearScale\"}},\"id\":\"1790\",\"subtype\":\"Figure\",\"type\":\"Plot\"},{\"attributes\":{},\"id\":\"1797\",\"type\":\"LinearScale\"},{\"attributes\":{},\"id\":\"1795\",\"type\":\"LinearScale\"},{\"attributes\":{\"plot\":null,\"text\":\"\"},\"id\":\"1957\",\"type\":\"Title\"},{\"attributes\":{},\"id\":\"1951\",\"type\":\"BasicTickFormatter\"},{\"attributes\":{},\"id\":\"1953\",\"type\":\"UnionRenderers\"},{\"attributes\":{},\"id\":\"1952\",\"type\":\"Selection\"},{\"attributes\":{},\"id\":\"1959\",\"type\":\"BasicTickFormatter\"},{\"attributes\":{\"below\":[{\"id\":\"1838\",\"type\":\"LinearAxis\"}],\"left\":[{\"id\":\"1843\",\"type\":\"LinearAxis\"}],\"plot_height\":300,\"plot_width\":300,\"renderers\":[{\"id\":\"1838\",\"type\":\"LinearAxis\"},{\"id\":\"1842\",\"type\":\"Grid\"},{\"id\":\"1843\",\"type\":\"LinearAxis\"},{\"id\":\"1847\",\"type\":\"Grid\"},{\"id\":\"1856\",\"type\":\"BoxAnnotation\"},{\"id\":\"1866\",\"type\":\"GlyphRenderer\"}],\"title\":{\"id\":\"1957\",\"type\":\"Title\"},\"toolbar\":{\"id\":\"1854\",\"type\":\"Toolbar\"},\"toolbar_location\":null,\"x_range\":{\"id\":\"1830\",\"type\":\"DataRange1d\"},\"x_scale\":{\"id\":\"1834\",\"type\":\"LinearScale\"},\"y_range\":{\"id\":\"1832\",\"type\":\"DataRange1d\"},\"y_scale\":{\"id\":\"1836\",\"type\":\"LinearScale\"}},\"id\":\"1829\",\"subtype\":\"Figure\",\"type\":\"Plot\"},{\"attributes\":{\"source\":{\"id\":\"1824\",\"type\":\"ColumnDataSource\"}},\"id\":\"1828\",\"type\":\"CDSView\"},{\"attributes\":{\"fill_alpha\":{\"value\":0.5},\"fill_color\":{\"value\":\"navy\"},\"line_alpha\":{\"value\":0.5},\"line_color\":{\"value\":\"navy\"},\"size\":{\"units\":\"screen\",\"value\":10},\"x\":{\"field\":\"x\"},\"y\":{\"field\":\"y\"}},\"id\":\"1825\",\"type\":\"Circle\"},{\"attributes\":{\"callback\":null,\"data\":{\"x\":[0,1,2,3,4,5,6,7,8,9,10],\"y\":[0,1,2,3,4,5,6,7,8,9,10]},\"selected\":{\"id\":\"1952\",\"type\":\"Selection\"},\"selection_policy\":{\"id\":\"1953\",\"type\":\"UnionRenderers\"}},\"id\":\"1824\",\"type\":\"ColumnDataSource\"},{\"attributes\":{\"data_source\":{\"id\":\"1824\",\"type\":\"ColumnDataSource\"},\"glyph\":{\"id\":\"1825\",\"type\":\"Circle\"},\"hover_glyph\":null,\"muted_glyph\":null,\"nonselection_glyph\":{\"id\":\"1826\",\"type\":\"Circle\"},\"selection_glyph\":null,\"view\":{\"id\":\"1828\",\"type\":\"CDSView\"}},\"id\":\"1827\",\"type\":\"GlyphRenderer\"},{\"attributes\":{\"fill_alpha\":{\"value\":0.1},\"fill_color\":{\"value\":\"#1f77b4\"},\"line_alpha\":{\"value\":0.1},\"line_color\":{\"value\":\"#1f77b4\"},\"size\":{\"units\":\"screen\",\"value\":10},\"x\":{\"field\":\"x\"},\"y\":{\"field\":\"y\"}},\"id\":\"1826\",\"type\":\"Circle\"},{\"attributes\":{\"plot\":{\"id\":\"1907\",\"subtype\":\"Figure\",\"type\":\"Plot\"},\"ticker\":{\"id\":\"1917\",\"type\":\"BasicTicker\"}},\"id\":\"1920\",\"type\":\"Grid\"},{\"attributes\":{\"formatter\":{\"id\":\"1982\",\"type\":\"BasicTickFormatter\"},\"plot\":{\"id\":\"1907\",\"subtype\":\"Figure\",\"type\":\"Plot\"},\"ticker\":{\"id\":\"1922\",\"type\":\"BasicTicker\"}},\"id\":\"1921\",\"type\":\"LinearAxis\"},{\"attributes\":{},\"id\":\"1922\",\"type\":\"BasicTicker\"},{\"attributes\":{\"dimension\":1,\"plot\":{\"id\":\"1907\",\"subtype\":\"Figure\",\"type\":\"Plot\"},\"ticker\":{\"id\":\"1922\",\"type\":\"BasicTicker\"}},\"id\":\"1925\",\"type\":\"Grid\"},{\"attributes\":{},\"id\":\"1926\",\"type\":\"PanTool\"},{\"attributes\":{},\"id\":\"1927\",\"type\":\"WheelZoomTool\"},{\"attributes\":{\"overlay\":{\"id\":\"1934\",\"type\":\"BoxAnnotation\"}},\"id\":\"1928\",\"type\":\"BoxZoomTool\"},{\"attributes\":{},\"id\":\"1929\",\"type\":\"SaveTool\"},{\"attributes\":{\"overlay\":{\"id\":\"1856\",\"type\":\"BoxAnnotation\"}},\"id\":\"1850\",\"type\":\"BoxZoomTool\"},{\"attributes\":{},\"id\":\"1851\",\"type\":\"SaveTool\"},{\"attributes\":{},\"id\":\"1852\",\"type\":\"ResetTool\"},{\"attributes\":{},\"id\":\"1853\",\"type\":\"HelpTool\"},{\"attributes\":{\"active_drag\":\"auto\",\"active_inspect\":\"auto\",\"active_multi\":null,\"active_scroll\":\"auto\",\"active_tap\":\"auto\",\"tools\":[{\"id\":\"1848\",\"type\":\"PanTool\"},{\"id\":\"1849\",\"type\":\"WheelZoomTool\"},{\"id\":\"1850\",\"type\":\"BoxZoomTool\"},{\"id\":\"1851\",\"type\":\"SaveTool\"},{\"id\":\"1852\",\"type\":\"ResetTool\"},{\"id\":\"1853\",\"type\":\"HelpTool\"}]},\"id\":\"1854\",\"type\":\"Toolbar\"},{\"attributes\":{\"bottom_units\":\"screen\",\"fill_alpha\":{\"value\":0.5},\"fill_color\":{\"value\":\"lightgrey\"},\"left_units\":\"screen\",\"level\":\"overlay\",\"line_alpha\":{\"value\":1.0},\"line_color\":{\"value\":\"black\"},\"line_dash\":[4,4],\"line_width\":{\"value\":2},\"plot\":null,\"render_mode\":\"css\",\"right_units\":\"screen\",\"top_units\":\"screen\"},\"id\":\"1856\",\"type\":\"BoxAnnotation\"},{\"attributes\":{\"active_drag\":\"auto\",\"active_inspect\":\"auto\",\"active_multi\":null,\"active_scroll\":\"auto\",\"active_tap\":\"auto\",\"tools\":[{\"id\":\"1926\",\"type\":\"PanTool\"},{\"id\":\"1927\",\"type\":\"WheelZoomTool\"},{\"id\":\"1928\",\"type\":\"BoxZoomTool\"},{\"id\":\"1929\",\"type\":\"SaveTool\"},{\"id\":\"1930\",\"type\":\"ResetTool\"},{\"id\":\"1931\",\"type\":\"HelpTool\"}]},\"id\":\"1932\",\"type\":\"Toolbar\"},{\"attributes\":{},\"id\":\"1931\",\"type\":\"HelpTool\"},{\"attributes\":{},\"id\":\"1930\",\"type\":\"ResetTool\"},{\"attributes\":{\"bottom_units\":\"screen\",\"fill_alpha\":{\"value\":0.5},\"fill_color\":{\"value\":\"lightgrey\"},\"left_units\":\"screen\",\"level\":\"overlay\",\"line_alpha\":{\"value\":1.0},\"line_color\":{\"value\":\"black\"},\"line_dash\":[4,4],\"line_width\":{\"value\":2},\"plot\":null,\"render_mode\":\"css\",\"right_units\":\"screen\",\"top_units\":\"screen\"},\"id\":\"1934\",\"type\":\"BoxAnnotation\"},{\"attributes\":{},\"id\":\"1849\",\"type\":\"WheelZoomTool\"},{\"attributes\":{},\"id\":\"1848\",\"type\":\"PanTool\"},{\"attributes\":{\"formatter\":{\"id\":\"1961\",\"type\":\"BasicTickFormatter\"},\"plot\":{\"id\":\"1829\",\"subtype\":\"Figure\",\"type\":\"Plot\"},\"ticker\":{\"id\":\"1844\",\"type\":\"BasicTicker\"}},\"id\":\"1843\",\"type\":\"LinearAxis\"},{\"attributes\":{\"plot\":{\"id\":\"1829\",\"subtype\":\"Figure\",\"type\":\"Plot\"},\"ticker\":{\"id\":\"1839\",\"type\":\"BasicTicker\"}},\"id\":\"1842\",\"type\":\"Grid\"},{\"attributes\":{\"dimension\":1,\"plot\":{\"id\":\"1829\",\"subtype\":\"Figure\",\"type\":\"Plot\"},\"ticker\":{\"id\":\"1844\",\"type\":\"BasicTicker\"}},\"id\":\"1847\",\"type\":\"Grid\"},{\"attributes\":{},\"id\":\"1844\",\"type\":\"BasicTicker\"},{\"attributes\":{},\"id\":\"1839\",\"type\":\"BasicTicker\"},{\"attributes\":{\"formatter\":{\"id\":\"1969\",\"type\":\"BasicTickFormatter\"},\"plot\":{\"id\":\"1868\",\"subtype\":\"Figure\",\"type\":\"Plot\"},\"ticker\":{\"id\":\"1878\",\"type\":\"BasicTicker\"}},\"id\":\"1877\",\"type\":\"LinearAxis\"},{\"attributes\":{},\"id\":\"1875\",\"type\":\"LinearScale\"},{\"attributes\":{},\"id\":\"1873\",\"type\":\"LinearScale\"},{\"attributes\":{\"callback\":null},\"id\":\"1908\",\"type\":\"DataRange1d\"},{\"attributes\":{\"callback\":null},\"id\":\"1871\",\"type\":\"DataRange1d\"},{\"attributes\":{\"source\":{\"id\":\"1902\",\"type\":\"ColumnDataSource\"}},\"id\":\"1906\",\"type\":\"CDSView\"},{\"attributes\":{\"below\":[{\"id\":\"1916\",\"type\":\"LinearAxis\"}],\"left\":[{\"id\":\"1921\",\"type\":\"LinearAxis\"}],\"plot_height\":300,\"plot_width\":300,\"renderers\":[{\"id\":\"1916\",\"type\":\"LinearAxis\"},{\"id\":\"1920\",\"type\":\"Grid\"},{\"id\":\"1921\",\"type\":\"LinearAxis\"},{\"id\":\"1925\",\"type\":\"Grid\"},{\"id\":\"1934\",\"type\":\"BoxAnnotation\"},{\"id\":\"1944\",\"type\":\"GlyphRenderer\"}],\"title\":{\"id\":\"1978\",\"type\":\"Title\"},\"toolbar\":{\"id\":\"1932\",\"type\":\"Toolbar\"},\"toolbar_location\":null,\"x_range\":{\"id\":\"1908\",\"type\":\"DataRange1d\"},\"x_scale\":{\"id\":\"1912\",\"type\":\"LinearScale\"},\"y_range\":{\"id\":\"1910\",\"type\":\"DataRange1d\"},\"y_scale\":{\"id\":\"1914\",\"type\":\"LinearScale\"}},\"id\":\"1907\",\"subtype\":\"Figure\",\"type\":\"Plot\"},{\"attributes\":{\"fill_alpha\":{\"value\":0.1},\"fill_color\":{\"value\":\"#1f77b4\"},\"line_alpha\":{\"value\":0.1},\"line_color\":{\"value\":\"#1f77b4\"},\"size\":{\"units\":\"screen\",\"value\":10},\"x\":{\"field\":\"x\"},\"y\":{\"field\":\"y\"}},\"id\":\"1904\",\"type\":\"Square\"},{\"attributes\":{\"data_source\":{\"id\":\"1902\",\"type\":\"ColumnDataSource\"},\"glyph\":{\"id\":\"1903\",\"type\":\"Square\"},\"hover_glyph\":null,\"muted_glyph\":null,\"nonselection_glyph\":{\"id\":\"1904\",\"type\":\"Square\"},\"selection_glyph\":null,\"view\":{\"id\":\"1906\",\"type\":\"CDSView\"}},\"id\":\"1905\",\"type\":\"GlyphRenderer\"},{\"attributes\":{\"callback\":null,\"data\":{\"x\":[0,1,2,3,4,5,6,7,8,9,10],\"y\":[5,4,3,2,1,0,1,2,3,4,5]},\"selected\":{\"id\":\"1972\",\"type\":\"Selection\"},\"selection_policy\":{\"id\":\"1973\",\"type\":\"UnionRenderers\"}},\"id\":\"1902\",\"type\":\"ColumnDataSource\"},{\"attributes\":{\"fill_alpha\":{\"value\":0.5},\"fill_color\":{\"value\":\"olive\"},\"line_alpha\":{\"value\":0.5},\"line_color\":{\"value\":\"olive\"},\"size\":{\"units\":\"screen\",\"value\":10},\"x\":{\"field\":\"x\"},\"y\":{\"field\":\"y\"}},\"id\":\"1903\",\"type\":\"Square\"},{\"attributes\":{},\"id\":\"1878\",\"type\":\"BasicTicker\"},{\"attributes\":{\"children\":[{\"id\":\"1907\",\"subtype\":\"Figure\",\"type\":\"Plot\"}]},\"id\":\"1987\",\"type\":\"Row\"},{\"attributes\":{},\"id\":\"1984\",\"type\":\"UnionRenderers\"},{\"attributes\":{},\"id\":\"1982\",\"type\":\"BasicTickFormatter\"},{\"attributes\":{},\"id\":\"1983\",\"type\":\"Selection\"},{\"attributes\":{},\"id\":\"1980\",\"type\":\"BasicTickFormatter\"},{\"attributes\":{\"children\":[{\"id\":\"1976\",\"type\":\"Row\"},{\"id\":\"1987\",\"type\":\"Row\"}]},\"id\":\"1988\",\"type\":\"Column\"},{\"attributes\":{\"tools\":[{\"id\":\"1809\",\"type\":\"PanTool\"},{\"id\":\"1810\",\"type\":\"WheelZoomTool\"},{\"id\":\"1811\",\"type\":\"BoxZoomTool\"},{\"id\":\"1812\",\"type\":\"SaveTool\"},{\"id\":\"1813\",\"type\":\"ResetTool\"},{\"id\":\"1814\",\"type\":\"HelpTool\"},{\"id\":\"1848\",\"type\":\"PanTool\"},{\"id\":\"1849\",\"type\":\"WheelZoomTool\"},{\"id\":\"1850\",\"type\":\"BoxZoomTool\"},{\"id\":\"1851\",\"type\":\"SaveTool\"},{\"id\":\"1852\",\"type\":\"ResetTool\"},{\"id\":\"1853\",\"type\":\"HelpTool\"},{\"id\":\"1887\",\"type\":\"PanTool\"},{\"id\":\"1888\",\"type\":\"WheelZoomTool\"},{\"id\":\"1889\",\"type\":\"BoxZoomTool\"},{\"id\":\"1890\",\"type\":\"SaveTool\"},{\"id\":\"1891\",\"type\":\"ResetTool\"},{\"id\":\"1892\",\"type\":\"HelpTool\"},{\"id\":\"1926\",\"type\":\"PanTool\"},{\"id\":\"1927\",\"type\":\"WheelZoomTool\"},{\"id\":\"1928\",\"type\":\"BoxZoomTool\"},{\"id\":\"1929\",\"type\":\"SaveTool\"},{\"id\":\"1930\",\"type\":\"ResetTool\"},{\"id\":\"1931\",\"type\":\"HelpTool\"}]},\"id\":\"1989\",\"type\":\"ProxyToolbar\"},{\"attributes\":{\"callback\":null,\"data\":{\"x\":[0,1,2,3,4,5,6,7,8,9,10],\"y\":[10,9,8,7,6,5,4,3,2,1,0]},\"selected\":{\"id\":\"1962\",\"type\":\"Selection\"},\"selection_policy\":{\"id\":\"1963\",\"type\":\"UnionRenderers\"}},\"id\":\"1863\",\"type\":\"ColumnDataSource\"},{\"attributes\":{\"fill_alpha\":{\"value\":0.1},\"fill_color\":{\"value\":\"#1f77b4\"},\"line_alpha\":{\"value\":0.1},\"line_color\":{\"value\":\"#1f77b4\"},\"size\":{\"units\":\"screen\",\"value\":10},\"x\":{\"field\":\"x\"},\"y\":{\"field\":\"y\"}},\"id\":\"1865\",\"type\":\"Triangle\"},{\"attributes\":{\"fill_alpha\":{\"value\":0.5},\"fill_color\":{\"value\":\"firebrick\"},\"line_alpha\":{\"value\":0.5},\"line_color\":{\"value\":\"firebrick\"},\"size\":{\"units\":\"screen\",\"value\":10},\"x\":{\"field\":\"x\"},\"y\":{\"field\":\"y\"}},\"id\":\"1864\",\"type\":\"Triangle\"},{\"attributes\":{\"source\":{\"id\":\"1863\",\"type\":\"ColumnDataSource\"}},\"id\":\"1867\",\"type\":\"CDSView\"},{\"attributes\":{\"data_source\":{\"id\":\"1863\",\"type\":\"ColumnDataSource\"},\"glyph\":{\"id\":\"1864\",\"type\":\"Triangle\"},\"hover_glyph\":null,\"muted_glyph\":null,\"nonselection_glyph\":{\"id\":\"1865\",\"type\":\"Triangle\"},\"selection_glyph\":null,\"view\":{\"id\":\"1867\",\"type\":\"CDSView\"}},\"id\":\"1866\",\"type\":\"GlyphRenderer\"},{\"attributes\":{\"callback\":null},\"id\":\"1869\",\"type\":\"DataRange1d\"},{\"attributes\":{\"callback\":null},\"id\":\"1910\",\"type\":\"DataRange1d\"},{\"attributes\":{},\"id\":\"1912\",\"type\":\"LinearScale\"},{\"attributes\":{},\"id\":\"1914\",\"type\":\"LinearScale\"},{\"attributes\":{},\"id\":\"1917\",\"type\":\"BasicTicker\"},{\"attributes\":{\"formatter\":{\"id\":\"1980\",\"type\":\"BasicTickFormatter\"},\"plot\":{\"id\":\"1907\",\"subtype\":\"Figure\",\"type\":\"Plot\"},\"ticker\":{\"id\":\"1917\",\"type\":\"BasicTicker\"}},\"id\":\"1916\",\"type\":\"LinearAxis\"},{\"attributes\":{\"children\":[{\"id\":\"1990\",\"type\":\"ToolbarBox\"},{\"id\":\"1988\",\"type\":\"Column\"}]},\"id\":\"1991\",\"type\":\"Column\"},{\"attributes\":{\"toolbar\":{\"id\":\"1989\",\"type\":\"ProxyToolbar\"},\"toolbar_location\":\"above\"},\"id\":\"1990\",\"type\":\"ToolbarBox\"},{\"attributes\":{\"plot\":null,\"text\":\"\"},\"id\":\"1978\",\"type\":\"Title\"},{\"attributes\":{},\"id\":\"1809\",\"type\":\"PanTool\"},{\"attributes\":{\"bottom_units\":\"screen\",\"fill_alpha\":{\"value\":0.5},\"fill_color\":{\"value\":\"lightgrey\"},\"left_units\":\"screen\",\"level\":\"overlay\",\"line_alpha\":{\"value\":1.0},\"line_color\":{\"value\":\"black\"},\"line_dash\":[4,4],\"line_width\":{\"value\":2},\"plot\":null,\"render_mode\":\"css\",\"right_units\":\"screen\",\"top_units\":\"screen\"},\"id\":\"1895\",\"type\":\"BoxAnnotation\"},{\"attributes\":{},\"id\":\"1890\",\"type\":\"SaveTool\"},{\"attributes\":{},\"id\":\"1891\",\"type\":\"ResetTool\"},{\"attributes\":{},\"id\":\"1892\",\"type\":\"HelpTool\"},{\"attributes\":{\"active_drag\":\"auto\",\"active_inspect\":\"auto\",\"active_multi\":null,\"active_scroll\":\"auto\",\"active_tap\":\"auto\",\"tools\":[{\"id\":\"1887\",\"type\":\"PanTool\"},{\"id\":\"1888\",\"type\":\"WheelZoomTool\"},{\"id\":\"1889\",\"type\":\"BoxZoomTool\"},{\"id\":\"1890\",\"type\":\"SaveTool\"},{\"id\":\"1891\",\"type\":\"ResetTool\"},{\"id\":\"1892\",\"type\":\"HelpTool\"}]},\"id\":\"1893\",\"type\":\"Toolbar\"},{\"attributes\":{},\"id\":\"1814\",\"type\":\"HelpTool\"},{\"attributes\":{\"active_drag\":\"auto\",\"active_inspect\":\"auto\",\"active_multi\":null,\"active_scroll\":\"auto\",\"active_tap\":\"auto\",\"tools\":[{\"id\":\"1809\",\"type\":\"PanTool\"},{\"id\":\"1810\",\"type\":\"WheelZoomTool\"},{\"id\":\"1811\",\"type\":\"BoxZoomTool\"},{\"id\":\"1812\",\"type\":\"SaveTool\"},{\"id\":\"1813\",\"type\":\"ResetTool\"},{\"id\":\"1814\",\"type\":\"HelpTool\"}]},\"id\":\"1815\",\"type\":\"Toolbar\"},{\"attributes\":{\"bottom_units\":\"screen\",\"fill_alpha\":{\"value\":0.5},\"fill_color\":{\"value\":\"lightgrey\"},\"left_units\":\"screen\",\"level\":\"overlay\",\"line_alpha\":{\"value\":1.0},\"line_color\":{\"value\":\"black\"},\"line_dash\":[4,4],\"line_width\":{\"value\":2},\"plot\":null,\"render_mode\":\"css\",\"right_units\":\"screen\",\"top_units\":\"screen\"},\"id\":\"1817\",\"type\":\"BoxAnnotation\"},{\"attributes\":{},\"id\":\"1810\",\"type\":\"WheelZoomTool\"},{\"attributes\":{\"overlay\":{\"id\":\"1817\",\"type\":\"BoxAnnotation\"}},\"id\":\"1811\",\"type\":\"BoxZoomTool\"},{\"attributes\":{},\"id\":\"1812\",\"type\":\"SaveTool\"},{\"attributes\":{},\"id\":\"1813\",\"type\":\"ResetTool\"},{\"attributes\":{\"plot\":null,\"text\":\"\"},\"id\":\"1967\",\"type\":\"Title\"},{\"attributes\":{},\"id\":\"1961\",\"type\":\"BasicTickFormatter\"},{\"attributes\":{},\"id\":\"1962\",\"type\":\"Selection\"},{\"attributes\":{},\"id\":\"1963\",\"type\":\"UnionRenderers\"},{\"attributes\":{\"overlay\":{\"id\":\"1895\",\"type\":\"BoxAnnotation\"}},\"id\":\"1889\",\"type\":\"BoxZoomTool\"},{\"attributes\":{},\"id\":\"1888\",\"type\":\"WheelZoomTool\"},{\"attributes\":{},\"id\":\"1887\",\"type\":\"PanTool\"},{\"attributes\":{\"dimension\":1,\"plot\":{\"id\":\"1868\",\"subtype\":\"Figure\",\"type\":\"Plot\"},\"ticker\":{\"id\":\"1883\",\"type\":\"BasicTicker\"}},\"id\":\"1886\",\"type\":\"Grid\"},{\"attributes\":{},\"id\":\"1883\",\"type\":\"BasicTicker\"},{\"attributes\":{\"formatter\":{\"id\":\"1971\",\"type\":\"BasicTickFormatter\"},\"plot\":{\"id\":\"1868\",\"subtype\":\"Figure\",\"type\":\"Plot\"},\"ticker\":{\"id\":\"1883\",\"type\":\"BasicTicker\"}},\"id\":\"1882\",\"type\":\"LinearAxis\"},{\"attributes\":{\"plot\":{\"id\":\"1868\",\"subtype\":\"Figure\",\"type\":\"Plot\"},\"ticker\":{\"id\":\"1878\",\"type\":\"BasicTicker\"}},\"id\":\"1881\",\"type\":\"Grid\"},{\"attributes\":{},\"id\":\"1969\",\"type\":\"BasicTickFormatter\"},{\"attributes\":{},\"id\":\"1805\",\"type\":\"BasicTicker\"},{\"attributes\":{\"formatter\":{\"id\":\"1951\",\"type\":\"BasicTickFormatter\"},\"plot\":{\"id\":\"1790\",\"subtype\":\"Figure\",\"type\":\"Plot\"},\"ticker\":{\"id\":\"1805\",\"type\":\"BasicTicker\"}},\"id\":\"1804\",\"type\":\"LinearAxis\"},{\"attributes\":{\"plot\":{\"id\":\"1790\",\"subtype\":\"Figure\",\"type\":\"Plot\"},\"ticker\":{\"id\":\"1800\",\"type\":\"BasicTicker\"}},\"id\":\"1803\",\"type\":\"Grid\"},{\"attributes\":{},\"id\":\"1800\",\"type\":\"BasicTicker\"},{\"attributes\":{\"children\":[{\"id\":\"1790\",\"subtype\":\"Figure\",\"type\":\"Plot\"},{\"id\":\"1829\",\"subtype\":\"Figure\",\"type\":\"Plot\"},{\"id\":\"1868\",\"subtype\":\"Figure\",\"type\":\"Plot\"}]},\"id\":\"1976\",\"type\":\"Row\"},{\"attributes\":{},\"id\":\"1973\",\"type\":\"UnionRenderers\"},{\"attributes\":{},\"id\":\"1972\",\"type\":\"Selection\"},{\"attributes\":{},\"id\":\"1971\",\"type\":\"BasicTickFormatter\"},{\"attributes\":{\"dimension\":1,\"plot\":{\"id\":\"1790\",\"subtype\":\"Figure\",\"type\":\"Plot\"},\"ticker\":{\"id\":\"1805\",\"type\":\"BasicTicker\"}},\"id\":\"1808\",\"type\":\"Grid\"}],\"root_ids\":[\"1991\"]},\"title\":\"Bokeh Application\",\"version\":\"1.0.4\"}};\n",
       "  var render_items = [{\"docid\":\"ea6e35f3-7dcd-47bc-a29b-b0c3bb6681af\",\"roots\":{\"1991\":\"9b68fb29-7697-481a-9f09-f266aa9bfd30\"}}];\n",
       "  root.Bokeh.embed.embed_items_notebook(docs_json, render_items);\n",
       "\n",
       "  }\n",
       "  if (root.Bokeh !== undefined) {\n",
       "    embed_document(root);\n",
       "  } else {\n",
       "    var attempts = 0;\n",
       "    var timer = setInterval(function(root) {\n",
       "      if (root.Bokeh !== undefined) {\n",
       "        embed_document(root);\n",
       "        clearInterval(timer);\n",
       "      }\n",
       "      attempts++;\n",
       "      if (attempts > 100) {\n",
       "        console.log(\"Bokeh: ERROR: Unable to run BokehJS code because BokehJS library is missing\");\n",
       "        clearInterval(timer);\n",
       "      }\n",
       "    }, 10, root)\n",
       "  }\n",
       "})(window);"
      ],
      "application/vnd.bokehjs_exec.v0+json": ""
     },
     "metadata": {
      "application/vnd.bokehjs_exec.v0+json": {
       "id": "1991"
      }
     },
     "output_type": "display_data"
    }
   ],
   "source": [
    "# EXERCISE: create a gridplot of your own\n",
    "from bokeh.layouts import gridplot\n",
    "\n",
    "# create a new plot\n",
    "s1 = figure(width=250, plot_height=250)\n",
    "s1.circle(x, y0, size=10, color=\"navy\", alpha=0.5)\n",
    "\n",
    "# create another one\n",
    "s2 = figure(width=250, height=250)\n",
    "s2.triangle(x, y1, size=10, color=\"firebrick\", alpha=0.5)\n",
    "\n",
    "# create and another\n",
    "s3 = figure(width=250, height=250)\n",
    "s3.square(x, y2, size=10, color=\"olive\", alpha=0.5)\n",
    "# create and another\n",
    "s4 = figure(width=250, height=250)\n",
    "s4.square(y2,x, size=10, color=\"olive\", alpha=0.5)\n",
    "# put all the plots in a gridplot\n",
    "\n",
    "#p = gridplot([[s1, s2], [s3, None]], toolbar_location=None)\n",
    "p = gridplot([[s1, s2,s3], [s4]], plot_width=300,plot_height=300, )\n",
    "# show the results\n",
    "show(p)"
   ]
  },
  {
   "cell_type": "markdown",
   "metadata": {},
   "source": [
    "# My attempt to make the layout working properly\n",
    "* I had to resize element to get expected behaviour"
   ]
  },
  {
   "cell_type": "code",
   "execution_count": 20,
   "metadata": {},
   "outputs": [
    {
     "data": {
      "text/html": [
       "\n",
       "\n",
       "\n",
       "\n",
       "\n",
       "\n",
       "  <div class=\"bk-root\" id=\"76e5e2d2-6566-4df1-9baf-3968fe628b13\" data-root-id=\"9320\"></div>\n"
      ]
     },
     "metadata": {},
     "output_type": "display_data"
    },
    {
     "data": {
      "application/javascript": [
       "(function(root) {\n",
       "  function embed_document(root) {\n",
       "    \n",
       "  var docs_json = {\"f38a4230-e149-4c05-ae38-a7bcafdd352d\":{\"roots\":{\"references\":[{\"attributes\":{\"below\":[{\"id\":\"1877\",\"type\":\"LinearAxis\"}],\"left\":[{\"id\":\"1882\",\"type\":\"LinearAxis\"}],\"plot_height\":150,\"plot_width\":300,\"renderers\":[{\"id\":\"1877\",\"type\":\"LinearAxis\"},{\"id\":\"1881\",\"type\":\"Grid\"},{\"id\":\"1882\",\"type\":\"LinearAxis\"},{\"id\":\"1886\",\"type\":\"Grid\"},{\"id\":\"1895\",\"type\":\"BoxAnnotation\"},{\"id\":\"1905\",\"type\":\"GlyphRenderer\"}],\"title\":{\"id\":\"1967\",\"type\":\"Title\"},\"toolbar\":{\"id\":\"1893\",\"type\":\"Toolbar\"},\"toolbar_location\":null,\"x_range\":{\"id\":\"1869\",\"type\":\"DataRange1d\"},\"x_scale\":{\"id\":\"1873\",\"type\":\"LinearScale\"},\"y_range\":{\"id\":\"1871\",\"type\":\"DataRange1d\"},\"y_scale\":{\"id\":\"1875\",\"type\":\"LinearScale\"}},\"id\":\"1868\",\"subtype\":\"Figure\",\"type\":\"Plot\"},{\"attributes\":{\"callback\":null},\"id\":\"1832\",\"type\":\"DataRange1d\"},{\"attributes\":{\"callback\":null},\"id\":\"1830\",\"type\":\"DataRange1d\"},{\"attributes\":{},\"id\":\"1949\",\"type\":\"BasicTickFormatter\"},{\"attributes\":{},\"id\":\"1836\",\"type\":\"LinearScale\"},{\"attributes\":{},\"id\":\"1834\",\"type\":\"LinearScale\"},{\"attributes\":{\"fill_alpha\":{\"value\":0.5},\"fill_color\":{\"value\":\"olive\"},\"line_alpha\":{\"value\":0.5},\"line_color\":{\"value\":\"olive\"},\"size\":{\"units\":\"screen\",\"value\":10},\"x\":{\"field\":\"x\"},\"y\":{\"field\":\"y\"}},\"id\":\"1942\",\"type\":\"Square\"},{\"attributes\":{\"fill_alpha\":{\"value\":0.1},\"fill_color\":{\"value\":\"#1f77b4\"},\"line_alpha\":{\"value\":0.1},\"line_color\":{\"value\":\"#1f77b4\"},\"size\":{\"units\":\"screen\",\"value\":10},\"x\":{\"field\":\"x\"},\"y\":{\"field\":\"y\"}},\"id\":\"1943\",\"type\":\"Square\"},{\"attributes\":{\"formatter\":{\"id\":\"1959\",\"type\":\"BasicTickFormatter\"},\"plot\":{\"id\":\"1829\",\"subtype\":\"Figure\",\"type\":\"Plot\"},\"ticker\":{\"id\":\"1839\",\"type\":\"BasicTicker\"},\"visible\":false},\"id\":\"1838\",\"type\":\"LinearAxis\"},{\"attributes\":{\"callback\":null,\"data\":{\"x\":[5,4,3,2,1,0,1,2,3,4,5],\"y\":[0,1,2,3,4,5,6,7,8,9,10]},\"selected\":{\"id\":\"1983\",\"type\":\"Selection\"},\"selection_policy\":{\"id\":\"1984\",\"type\":\"UnionRenderers\"}},\"id\":\"1941\",\"type\":\"ColumnDataSource\"},{\"attributes\":{\"plot\":null,\"text\":\"\"},\"id\":\"1947\",\"type\":\"Title\"},{\"attributes\":{\"data_source\":{\"id\":\"1941\",\"type\":\"ColumnDataSource\"},\"glyph\":{\"id\":\"1942\",\"type\":\"Square\"},\"hover_glyph\":null,\"muted_glyph\":null,\"nonselection_glyph\":{\"id\":\"1943\",\"type\":\"Square\"},\"selection_glyph\":null,\"view\":{\"id\":\"1945\",\"type\":\"CDSView\"}},\"id\":\"1944\",\"type\":\"GlyphRenderer\"},{\"attributes\":{\"source\":{\"id\":\"1941\",\"type\":\"ColumnDataSource\"}},\"id\":\"1945\",\"type\":\"CDSView\"},{\"attributes\":{\"formatter\":{\"id\":\"1949\",\"type\":\"BasicTickFormatter\"},\"plot\":{\"id\":\"1790\",\"subtype\":\"Figure\",\"type\":\"Plot\"},\"ticker\":{\"id\":\"1800\",\"type\":\"BasicTicker\"},\"visible\":false},\"id\":\"1799\",\"type\":\"LinearAxis\"},{\"attributes\":{\"callback\":null},\"id\":\"1793\",\"type\":\"DataRange1d\"},{\"attributes\":{\"callback\":null},\"id\":\"1791\",\"type\":\"DataRange1d\"},{\"attributes\":{\"below\":[{\"id\":\"1799\",\"type\":\"LinearAxis\"}],\"left\":[{\"id\":\"1804\",\"type\":\"LinearAxis\"}],\"plot_height\":150,\"plot_width\":300,\"renderers\":[{\"id\":\"1799\",\"type\":\"LinearAxis\"},{\"id\":\"1803\",\"type\":\"Grid\"},{\"id\":\"1804\",\"type\":\"LinearAxis\"},{\"id\":\"1808\",\"type\":\"Grid\"},{\"id\":\"1817\",\"type\":\"BoxAnnotation\"},{\"id\":\"1827\",\"type\":\"GlyphRenderer\"}],\"title\":{\"id\":\"1947\",\"type\":\"Title\"},\"toolbar\":{\"id\":\"1815\",\"type\":\"Toolbar\"},\"toolbar_location\":null,\"x_range\":{\"id\":\"1791\",\"type\":\"DataRange1d\"},\"x_scale\":{\"id\":\"1795\",\"type\":\"LinearScale\"},\"y_range\":{\"id\":\"1793\",\"type\":\"DataRange1d\"},\"y_scale\":{\"id\":\"1797\",\"type\":\"LinearScale\"}},\"id\":\"1790\",\"subtype\":\"Figure\",\"type\":\"Plot\"},{\"attributes\":{},\"id\":\"1797\",\"type\":\"LinearScale\"},{\"attributes\":{},\"id\":\"1795\",\"type\":\"LinearScale\"},{\"attributes\":{\"plot\":null,\"text\":\"\"},\"id\":\"1957\",\"type\":\"Title\"},{\"attributes\":{},\"id\":\"1951\",\"type\":\"BasicTickFormatter\"},{\"attributes\":{},\"id\":\"1953\",\"type\":\"UnionRenderers\"},{\"attributes\":{},\"id\":\"1952\",\"type\":\"Selection\"},{\"attributes\":{},\"id\":\"1959\",\"type\":\"BasicTickFormatter\"},{\"attributes\":{\"below\":[{\"id\":\"1838\",\"type\":\"LinearAxis\"}],\"left\":[{\"id\":\"1843\",\"type\":\"LinearAxis\"}],\"plot_height\":150,\"plot_width\":300,\"renderers\":[{\"id\":\"1838\",\"type\":\"LinearAxis\"},{\"id\":\"1842\",\"type\":\"Grid\"},{\"id\":\"1843\",\"type\":\"LinearAxis\"},{\"id\":\"1847\",\"type\":\"Grid\"},{\"id\":\"1856\",\"type\":\"BoxAnnotation\"},{\"id\":\"1866\",\"type\":\"GlyphRenderer\"}],\"title\":{\"id\":\"1957\",\"type\":\"Title\"},\"toolbar\":{\"id\":\"1854\",\"type\":\"Toolbar\"},\"toolbar_location\":null,\"x_range\":{\"id\":\"1830\",\"type\":\"DataRange1d\"},\"x_scale\":{\"id\":\"1834\",\"type\":\"LinearScale\"},\"y_range\":{\"id\":\"1832\",\"type\":\"DataRange1d\"},\"y_scale\":{\"id\":\"1836\",\"type\":\"LinearScale\"}},\"id\":\"1829\",\"subtype\":\"Figure\",\"type\":\"Plot\"},{\"attributes\":{\"source\":{\"id\":\"1824\",\"type\":\"ColumnDataSource\"}},\"id\":\"1828\",\"type\":\"CDSView\"},{\"attributes\":{\"fill_alpha\":{\"value\":0.5},\"fill_color\":{\"value\":\"navy\"},\"line_alpha\":{\"value\":0.5},\"line_color\":{\"value\":\"navy\"},\"size\":{\"units\":\"screen\",\"value\":10},\"x\":{\"field\":\"x\"},\"y\":{\"field\":\"y\"}},\"id\":\"1825\",\"type\":\"Circle\"},{\"attributes\":{\"callback\":null,\"data\":{\"x\":[0,1,2,3,4,5,6,7,8,9,10],\"y\":[0,1,2,3,4,5,6,7,8,9,10]},\"selected\":{\"id\":\"1952\",\"type\":\"Selection\"},\"selection_policy\":{\"id\":\"1953\",\"type\":\"UnionRenderers\"}},\"id\":\"1824\",\"type\":\"ColumnDataSource\"},{\"attributes\":{\"data_source\":{\"id\":\"1824\",\"type\":\"ColumnDataSource\"},\"glyph\":{\"id\":\"1825\",\"type\":\"Circle\"},\"hover_glyph\":null,\"muted_glyph\":null,\"nonselection_glyph\":{\"id\":\"1826\",\"type\":\"Circle\"},\"selection_glyph\":null,\"view\":{\"id\":\"1828\",\"type\":\"CDSView\"}},\"id\":\"1827\",\"type\":\"GlyphRenderer\"},{\"attributes\":{\"fill_alpha\":{\"value\":0.1},\"fill_color\":{\"value\":\"#1f77b4\"},\"line_alpha\":{\"value\":0.1},\"line_color\":{\"value\":\"#1f77b4\"},\"size\":{\"units\":\"screen\",\"value\":10},\"x\":{\"field\":\"x\"},\"y\":{\"field\":\"y\"}},\"id\":\"1826\",\"type\":\"Circle\"},{\"attributes\":{\"plot\":{\"id\":\"1907\",\"subtype\":\"Figure\",\"type\":\"Plot\"},\"ticker\":{\"id\":\"1917\",\"type\":\"BasicTicker\"}},\"id\":\"1920\",\"type\":\"Grid\"},{\"attributes\":{\"formatter\":{\"id\":\"1982\",\"type\":\"BasicTickFormatter\"},\"plot\":{\"id\":\"1907\",\"subtype\":\"Figure\",\"type\":\"Plot\"},\"ticker\":{\"id\":\"1922\",\"type\":\"BasicTicker\"}},\"id\":\"1921\",\"type\":\"LinearAxis\"},{\"attributes\":{},\"id\":\"1922\",\"type\":\"BasicTicker\"},{\"attributes\":{\"dimension\":1,\"plot\":{\"id\":\"1907\",\"subtype\":\"Figure\",\"type\":\"Plot\"},\"ticker\":{\"id\":\"1922\",\"type\":\"BasicTicker\"}},\"id\":\"1925\",\"type\":\"Grid\"},{\"attributes\":{},\"id\":\"1926\",\"type\":\"PanTool\"},{\"attributes\":{},\"id\":\"1927\",\"type\":\"WheelZoomTool\"},{\"attributes\":{\"overlay\":{\"id\":\"1934\",\"type\":\"BoxAnnotation\"}},\"id\":\"1928\",\"type\":\"BoxZoomTool\"},{\"attributes\":{\"children\":[{\"id\":\"1790\",\"subtype\":\"Figure\",\"type\":\"Plot\"},{\"id\":\"1829\",\"subtype\":\"Figure\",\"type\":\"Plot\"},{\"id\":\"1868\",\"subtype\":\"Figure\",\"type\":\"Plot\"}]},\"id\":\"9305\",\"type\":\"Row\"},{\"attributes\":{\"fill_alpha\":{\"value\":0.1},\"fill_color\":{\"value\":\"#1f77b4\"},\"line_alpha\":{\"value\":0.1},\"line_color\":{\"value\":\"#1f77b4\"},\"size\":{\"units\":\"screen\",\"value\":10},\"x\":{\"field\":\"x\"},\"y\":{\"field\":\"y\"}},\"id\":\"1904\",\"type\":\"Square\"},{\"attributes\":{\"overlay\":{\"id\":\"1856\",\"type\":\"BoxAnnotation\"}},\"id\":\"1850\",\"type\":\"BoxZoomTool\"},{\"attributes\":{},\"id\":\"1851\",\"type\":\"SaveTool\"},{\"attributes\":{},\"id\":\"1852\",\"type\":\"ResetTool\"},{\"attributes\":{},\"id\":\"1853\",\"type\":\"HelpTool\"},{\"attributes\":{\"active_drag\":\"auto\",\"active_inspect\":\"auto\",\"active_multi\":null,\"active_scroll\":\"auto\",\"active_tap\":\"auto\",\"tools\":[{\"id\":\"1848\",\"type\":\"PanTool\"},{\"id\":\"1849\",\"type\":\"WheelZoomTool\"},{\"id\":\"1850\",\"type\":\"BoxZoomTool\"},{\"id\":\"1851\",\"type\":\"SaveTool\"},{\"id\":\"1852\",\"type\":\"ResetTool\"},{\"id\":\"1853\",\"type\":\"HelpTool\"}]},\"id\":\"1854\",\"type\":\"Toolbar\"},{\"attributes\":{\"bottom_units\":\"screen\",\"fill_alpha\":{\"value\":0.5},\"fill_color\":{\"value\":\"lightgrey\"},\"left_units\":\"screen\",\"level\":\"overlay\",\"line_alpha\":{\"value\":1.0},\"line_color\":{\"value\":\"black\"},\"line_dash\":[4,4],\"line_width\":{\"value\":2},\"plot\":null,\"render_mode\":\"css\",\"right_units\":\"screen\",\"top_units\":\"screen\"},\"id\":\"1856\",\"type\":\"BoxAnnotation\"},{\"attributes\":{\"active_drag\":\"auto\",\"active_inspect\":\"auto\",\"active_multi\":null,\"active_scroll\":\"auto\",\"active_tap\":\"auto\",\"tools\":[{\"id\":\"1926\",\"type\":\"PanTool\"},{\"id\":\"1927\",\"type\":\"WheelZoomTool\"},{\"id\":\"1928\",\"type\":\"BoxZoomTool\"},{\"id\":\"1929\",\"type\":\"SaveTool\"},{\"id\":\"1930\",\"type\":\"ResetTool\"},{\"id\":\"1931\",\"type\":\"HelpTool\"}]},\"id\":\"1932\",\"type\":\"Toolbar\"},{\"attributes\":{},\"id\":\"1931\",\"type\":\"HelpTool\"},{\"attributes\":{},\"id\":\"1930\",\"type\":\"ResetTool\"},{\"attributes\":{\"toolbar\":{\"id\":\"9318\",\"type\":\"ProxyToolbar\"},\"toolbar_location\":\"above\"},\"id\":\"9319\",\"type\":\"ToolbarBox\"},{\"attributes\":{\"tools\":[{\"id\":\"1809\",\"type\":\"PanTool\"},{\"id\":\"1810\",\"type\":\"WheelZoomTool\"},{\"id\":\"1811\",\"type\":\"BoxZoomTool\"},{\"id\":\"1812\",\"type\":\"SaveTool\"},{\"id\":\"1813\",\"type\":\"ResetTool\"},{\"id\":\"1814\",\"type\":\"HelpTool\"},{\"id\":\"1848\",\"type\":\"PanTool\"},{\"id\":\"1849\",\"type\":\"WheelZoomTool\"},{\"id\":\"1850\",\"type\":\"BoxZoomTool\"},{\"id\":\"1851\",\"type\":\"SaveTool\"},{\"id\":\"1852\",\"type\":\"ResetTool\"},{\"id\":\"1853\",\"type\":\"HelpTool\"},{\"id\":\"1887\",\"type\":\"PanTool\"},{\"id\":\"1888\",\"type\":\"WheelZoomTool\"},{\"id\":\"1889\",\"type\":\"BoxZoomTool\"},{\"id\":\"1890\",\"type\":\"SaveTool\"},{\"id\":\"1891\",\"type\":\"ResetTool\"},{\"id\":\"1892\",\"type\":\"HelpTool\"},{\"id\":\"1926\",\"type\":\"PanTool\"},{\"id\":\"1927\",\"type\":\"WheelZoomTool\"},{\"id\":\"1928\",\"type\":\"BoxZoomTool\"},{\"id\":\"1929\",\"type\":\"SaveTool\"},{\"id\":\"1930\",\"type\":\"ResetTool\"},{\"id\":\"1931\",\"type\":\"HelpTool\"}]},\"id\":\"9318\",\"type\":\"ProxyToolbar\"},{\"attributes\":{\"children\":[{\"id\":\"9305\",\"type\":\"Row\"},{\"id\":\"9316\",\"type\":\"Row\"}]},\"id\":\"9317\",\"type\":\"Column\"},{\"attributes\":{\"children\":[{\"id\":\"1907\",\"subtype\":\"Figure\",\"type\":\"Plot\"}]},\"id\":\"9316\",\"type\":\"Row\"},{\"attributes\":{},\"id\":\"1849\",\"type\":\"WheelZoomTool\"},{\"attributes\":{},\"id\":\"1848\",\"type\":\"PanTool\"},{\"attributes\":{\"formatter\":{\"id\":\"1961\",\"type\":\"BasicTickFormatter\"},\"plot\":{\"id\":\"1829\",\"subtype\":\"Figure\",\"type\":\"Plot\"},\"ticker\":{\"id\":\"1844\",\"type\":\"BasicTicker\"},\"visible\":false},\"id\":\"1843\",\"type\":\"LinearAxis\"},{\"attributes\":{\"plot\":{\"id\":\"1829\",\"subtype\":\"Figure\",\"type\":\"Plot\"},\"ticker\":{\"id\":\"1839\",\"type\":\"BasicTicker\"}},\"id\":\"1842\",\"type\":\"Grid\"},{\"attributes\":{\"dimension\":1,\"plot\":{\"id\":\"1829\",\"subtype\":\"Figure\",\"type\":\"Plot\"},\"ticker\":{\"id\":\"1844\",\"type\":\"BasicTicker\"}},\"id\":\"1847\",\"type\":\"Grid\"},{\"attributes\":{},\"id\":\"1844\",\"type\":\"BasicTicker\"},{\"attributes\":{},\"id\":\"1839\",\"type\":\"BasicTicker\"},{\"attributes\":{\"bottom_units\":\"screen\",\"fill_alpha\":{\"value\":0.5},\"fill_color\":{\"value\":\"lightgrey\"},\"left_units\":\"screen\",\"level\":\"overlay\",\"line_alpha\":{\"value\":1.0},\"line_color\":{\"value\":\"black\"},\"line_dash\":[4,4],\"line_width\":{\"value\":2},\"plot\":null,\"render_mode\":\"css\",\"right_units\":\"screen\",\"top_units\":\"screen\"},\"id\":\"1934\",\"type\":\"BoxAnnotation\"},{\"attributes\":{\"formatter\":{\"id\":\"1969\",\"type\":\"BasicTickFormatter\"},\"plot\":{\"id\":\"1868\",\"subtype\":\"Figure\",\"type\":\"Plot\"},\"ticker\":{\"id\":\"1878\",\"type\":\"BasicTicker\"},\"visible\":false},\"id\":\"1877\",\"type\":\"LinearAxis\"},{\"attributes\":{},\"id\":\"1875\",\"type\":\"LinearScale\"},{\"attributes\":{},\"id\":\"1873\",\"type\":\"LinearScale\"},{\"attributes\":{\"callback\":null},\"id\":\"1908\",\"type\":\"DataRange1d\"},{\"attributes\":{\"callback\":null},\"id\":\"1871\",\"type\":\"DataRange1d\"},{\"attributes\":{\"source\":{\"id\":\"1902\",\"type\":\"ColumnDataSource\"}},\"id\":\"1906\",\"type\":\"CDSView\"},{\"attributes\":{\"below\":[{\"id\":\"1916\",\"type\":\"LinearAxis\"}],\"left\":[{\"id\":\"1921\",\"type\":\"LinearAxis\"}],\"plot_height\":150,\"plot_width\":900,\"renderers\":[{\"id\":\"1916\",\"type\":\"LinearAxis\"},{\"id\":\"1920\",\"type\":\"Grid\"},{\"id\":\"1921\",\"type\":\"LinearAxis\"},{\"id\":\"1925\",\"type\":\"Grid\"},{\"id\":\"1934\",\"type\":\"BoxAnnotation\"},{\"id\":\"1944\",\"type\":\"GlyphRenderer\"}],\"title\":{\"id\":\"1978\",\"type\":\"Title\"},\"toolbar\":{\"id\":\"1932\",\"type\":\"Toolbar\"},\"toolbar_location\":null,\"x_range\":{\"id\":\"1908\",\"type\":\"DataRange1d\"},\"x_scale\":{\"id\":\"1912\",\"type\":\"LinearScale\"},\"y_range\":{\"id\":\"1910\",\"type\":\"DataRange1d\"},\"y_scale\":{\"id\":\"1914\",\"type\":\"LinearScale\"}},\"id\":\"1907\",\"subtype\":\"Figure\",\"type\":\"Plot\"},{\"attributes\":{\"children\":[{\"id\":\"9319\",\"type\":\"ToolbarBox\"},{\"id\":\"9317\",\"type\":\"Column\"}]},\"id\":\"9320\",\"type\":\"Column\"},{\"attributes\":{\"data_source\":{\"id\":\"1902\",\"type\":\"ColumnDataSource\"},\"glyph\":{\"id\":\"1903\",\"type\":\"Square\"},\"hover_glyph\":null,\"muted_glyph\":null,\"nonselection_glyph\":{\"id\":\"1904\",\"type\":\"Square\"},\"selection_glyph\":null,\"view\":{\"id\":\"1906\",\"type\":\"CDSView\"}},\"id\":\"1905\",\"type\":\"GlyphRenderer\"},{\"attributes\":{\"callback\":null,\"data\":{\"x\":[0,1,2,3,4,5,6,7,8,9,10],\"y\":[5,4,3,2,1,0,1,2,3,4,5]},\"selected\":{\"id\":\"1972\",\"type\":\"Selection\"},\"selection_policy\":{\"id\":\"1973\",\"type\":\"UnionRenderers\"}},\"id\":\"1902\",\"type\":\"ColumnDataSource\"},{\"attributes\":{\"fill_alpha\":{\"value\":0.5},\"fill_color\":{\"value\":\"olive\"},\"line_alpha\":{\"value\":0.5},\"line_color\":{\"value\":\"olive\"},\"size\":{\"units\":\"screen\",\"value\":10},\"x\":{\"field\":\"x\"},\"y\":{\"field\":\"y\"}},\"id\":\"1903\",\"type\":\"Square\"},{\"attributes\":{},\"id\":\"1878\",\"type\":\"BasicTicker\"},{\"attributes\":{},\"id\":\"1984\",\"type\":\"UnionRenderers\"},{\"attributes\":{},\"id\":\"1982\",\"type\":\"BasicTickFormatter\"},{\"attributes\":{},\"id\":\"1983\",\"type\":\"Selection\"},{\"attributes\":{},\"id\":\"1980\",\"type\":\"BasicTickFormatter\"},{\"attributes\":{\"callback\":null,\"data\":{\"x\":[0,1,2,3,4,5,6,7,8,9,10],\"y\":[10,9,8,7,6,5,4,3,2,1,0]},\"selected\":{\"id\":\"1962\",\"type\":\"Selection\"},\"selection_policy\":{\"id\":\"1963\",\"type\":\"UnionRenderers\"}},\"id\":\"1863\",\"type\":\"ColumnDataSource\"},{\"attributes\":{\"fill_alpha\":{\"value\":0.1},\"fill_color\":{\"value\":\"#1f77b4\"},\"line_alpha\":{\"value\":0.1},\"line_color\":{\"value\":\"#1f77b4\"},\"size\":{\"units\":\"screen\",\"value\":10},\"x\":{\"field\":\"x\"},\"y\":{\"field\":\"y\"}},\"id\":\"1865\",\"type\":\"Triangle\"},{\"attributes\":{\"fill_alpha\":{\"value\":0.5},\"fill_color\":{\"value\":\"firebrick\"},\"line_alpha\":{\"value\":0.5},\"line_color\":{\"value\":\"firebrick\"},\"size\":{\"units\":\"screen\",\"value\":10},\"x\":{\"field\":\"x\"},\"y\":{\"field\":\"y\"}},\"id\":\"1864\",\"type\":\"Triangle\"},{\"attributes\":{\"source\":{\"id\":\"1863\",\"type\":\"ColumnDataSource\"}},\"id\":\"1867\",\"type\":\"CDSView\"},{\"attributes\":{\"data_source\":{\"id\":\"1863\",\"type\":\"ColumnDataSource\"},\"glyph\":{\"id\":\"1864\",\"type\":\"Triangle\"},\"hover_glyph\":null,\"muted_glyph\":null,\"nonselection_glyph\":{\"id\":\"1865\",\"type\":\"Triangle\"},\"selection_glyph\":null,\"view\":{\"id\":\"1867\",\"type\":\"CDSView\"}},\"id\":\"1866\",\"type\":\"GlyphRenderer\"},{\"attributes\":{\"callback\":null},\"id\":\"1869\",\"type\":\"DataRange1d\"},{\"attributes\":{\"callback\":null},\"id\":\"1910\",\"type\":\"DataRange1d\"},{\"attributes\":{},\"id\":\"1912\",\"type\":\"LinearScale\"},{\"attributes\":{},\"id\":\"1914\",\"type\":\"LinearScale\"},{\"attributes\":{},\"id\":\"1917\",\"type\":\"BasicTicker\"},{\"attributes\":{\"formatter\":{\"id\":\"1980\",\"type\":\"BasicTickFormatter\"},\"plot\":{\"id\":\"1907\",\"subtype\":\"Figure\",\"type\":\"Plot\"},\"ticker\":{\"id\":\"1917\",\"type\":\"BasicTicker\"}},\"id\":\"1916\",\"type\":\"LinearAxis\"},{\"attributes\":{\"plot\":null,\"text\":\"\"},\"id\":\"1978\",\"type\":\"Title\"},{\"attributes\":{},\"id\":\"1809\",\"type\":\"PanTool\"},{\"attributes\":{},\"id\":\"1929\",\"type\":\"SaveTool\"},{\"attributes\":{\"bottom_units\":\"screen\",\"fill_alpha\":{\"value\":0.5},\"fill_color\":{\"value\":\"lightgrey\"},\"left_units\":\"screen\",\"level\":\"overlay\",\"line_alpha\":{\"value\":1.0},\"line_color\":{\"value\":\"black\"},\"line_dash\":[4,4],\"line_width\":{\"value\":2},\"plot\":null,\"render_mode\":\"css\",\"right_units\":\"screen\",\"top_units\":\"screen\"},\"id\":\"1895\",\"type\":\"BoxAnnotation\"},{\"attributes\":{},\"id\":\"1890\",\"type\":\"SaveTool\"},{\"attributes\":{},\"id\":\"1891\",\"type\":\"ResetTool\"},{\"attributes\":{},\"id\":\"1892\",\"type\":\"HelpTool\"},{\"attributes\":{\"active_drag\":\"auto\",\"active_inspect\":\"auto\",\"active_multi\":null,\"active_scroll\":\"auto\",\"active_tap\":\"auto\",\"tools\":[{\"id\":\"1887\",\"type\":\"PanTool\"},{\"id\":\"1888\",\"type\":\"WheelZoomTool\"},{\"id\":\"1889\",\"type\":\"BoxZoomTool\"},{\"id\":\"1890\",\"type\":\"SaveTool\"},{\"id\":\"1891\",\"type\":\"ResetTool\"},{\"id\":\"1892\",\"type\":\"HelpTool\"}]},\"id\":\"1893\",\"type\":\"Toolbar\"},{\"attributes\":{},\"id\":\"1814\",\"type\":\"HelpTool\"},{\"attributes\":{\"active_drag\":\"auto\",\"active_inspect\":\"auto\",\"active_multi\":null,\"active_scroll\":\"auto\",\"active_tap\":\"auto\",\"tools\":[{\"id\":\"1809\",\"type\":\"PanTool\"},{\"id\":\"1810\",\"type\":\"WheelZoomTool\"},{\"id\":\"1811\",\"type\":\"BoxZoomTool\"},{\"id\":\"1812\",\"type\":\"SaveTool\"},{\"id\":\"1813\",\"type\":\"ResetTool\"},{\"id\":\"1814\",\"type\":\"HelpTool\"}]},\"id\":\"1815\",\"type\":\"Toolbar\"},{\"attributes\":{\"bottom_units\":\"screen\",\"fill_alpha\":{\"value\":0.5},\"fill_color\":{\"value\":\"lightgrey\"},\"left_units\":\"screen\",\"level\":\"overlay\",\"line_alpha\":{\"value\":1.0},\"line_color\":{\"value\":\"black\"},\"line_dash\":[4,4],\"line_width\":{\"value\":2},\"plot\":null,\"render_mode\":\"css\",\"right_units\":\"screen\",\"top_units\":\"screen\"},\"id\":\"1817\",\"type\":\"BoxAnnotation\"},{\"attributes\":{},\"id\":\"1810\",\"type\":\"WheelZoomTool\"},{\"attributes\":{},\"id\":\"1969\",\"type\":\"BasicTickFormatter\"},{\"attributes\":{},\"id\":\"1812\",\"type\":\"SaveTool\"},{\"attributes\":{},\"id\":\"1813\",\"type\":\"ResetTool\"},{\"attributes\":{\"plot\":null,\"text\":\"\"},\"id\":\"1967\",\"type\":\"Title\"},{\"attributes\":{},\"id\":\"1961\",\"type\":\"BasicTickFormatter\"},{\"attributes\":{},\"id\":\"1962\",\"type\":\"Selection\"},{\"attributes\":{},\"id\":\"1963\",\"type\":\"UnionRenderers\"},{\"attributes\":{\"overlay\":{\"id\":\"1895\",\"type\":\"BoxAnnotation\"}},\"id\":\"1889\",\"type\":\"BoxZoomTool\"},{\"attributes\":{},\"id\":\"1888\",\"type\":\"WheelZoomTool\"},{\"attributes\":{},\"id\":\"1887\",\"type\":\"PanTool\"},{\"attributes\":{\"dimension\":1,\"plot\":{\"id\":\"1868\",\"subtype\":\"Figure\",\"type\":\"Plot\"},\"ticker\":{\"id\":\"1883\",\"type\":\"BasicTicker\"}},\"id\":\"1886\",\"type\":\"Grid\"},{\"attributes\":{},\"id\":\"1883\",\"type\":\"BasicTicker\"},{\"attributes\":{\"formatter\":{\"id\":\"1971\",\"type\":\"BasicTickFormatter\"},\"plot\":{\"id\":\"1868\",\"subtype\":\"Figure\",\"type\":\"Plot\"},\"ticker\":{\"id\":\"1883\",\"type\":\"BasicTicker\"},\"visible\":false},\"id\":\"1882\",\"type\":\"LinearAxis\"},{\"attributes\":{\"plot\":{\"id\":\"1868\",\"subtype\":\"Figure\",\"type\":\"Plot\"},\"ticker\":{\"id\":\"1878\",\"type\":\"BasicTicker\"}},\"id\":\"1881\",\"type\":\"Grid\"},{\"attributes\":{\"overlay\":{\"id\":\"1817\",\"type\":\"BoxAnnotation\"}},\"id\":\"1811\",\"type\":\"BoxZoomTool\"},{\"attributes\":{},\"id\":\"1805\",\"type\":\"BasicTicker\"},{\"attributes\":{\"formatter\":{\"id\":\"1951\",\"type\":\"BasicTickFormatter\"},\"plot\":{\"id\":\"1790\",\"subtype\":\"Figure\",\"type\":\"Plot\"},\"ticker\":{\"id\":\"1805\",\"type\":\"BasicTicker\"}},\"id\":\"1804\",\"type\":\"LinearAxis\"},{\"attributes\":{\"plot\":{\"id\":\"1790\",\"subtype\":\"Figure\",\"type\":\"Plot\"},\"ticker\":{\"id\":\"1800\",\"type\":\"BasicTicker\"}},\"id\":\"1803\",\"type\":\"Grid\"},{\"attributes\":{},\"id\":\"1800\",\"type\":\"BasicTicker\"},{\"attributes\":{},\"id\":\"1973\",\"type\":\"UnionRenderers\"},{\"attributes\":{},\"id\":\"1972\",\"type\":\"Selection\"},{\"attributes\":{},\"id\":\"1971\",\"type\":\"BasicTickFormatter\"},{\"attributes\":{\"dimension\":1,\"plot\":{\"id\":\"1790\",\"subtype\":\"Figure\",\"type\":\"Plot\"},\"ticker\":{\"id\":\"1805\",\"type\":\"BasicTicker\"}},\"id\":\"1808\",\"type\":\"Grid\"}],\"root_ids\":[\"9320\"]},\"title\":\"Bokeh Application\",\"version\":\"1.0.4\"}};\n",
       "  var render_items = [{\"docid\":\"f38a4230-e149-4c05-ae38-a7bcafdd352d\",\"roots\":{\"9320\":\"76e5e2d2-6566-4df1-9baf-3968fe628b13\"}}];\n",
       "  root.Bokeh.embed.embed_items_notebook(docs_json, render_items);\n",
       "\n",
       "  }\n",
       "  if (root.Bokeh !== undefined) {\n",
       "    embed_document(root);\n",
       "  } else {\n",
       "    var attempts = 0;\n",
       "    var timer = setInterval(function(root) {\n",
       "      if (root.Bokeh !== undefined) {\n",
       "        embed_document(root);\n",
       "        clearInterval(timer);\n",
       "      }\n",
       "      attempts++;\n",
       "      if (attempts > 100) {\n",
       "        console.log(\"Bokeh: ERROR: Unable to run BokehJS code because BokehJS library is missing\");\n",
       "        clearInterval(timer);\n",
       "      }\n",
       "    }, 10, root)\n",
       "  }\n",
       "})(window);"
      ],
      "application/vnd.bokehjs_exec.v0+json": ""
     },
     "metadata": {
      "application/vnd.bokehjs_exec.v0+json": {
       "id": "9320"
      }
     },
     "output_type": "display_data"
    }
   ],
   "source": [
    "from bokeh.layouts import layout\n",
    "s1.xaxis.visible = False \n",
    "s2.xaxis.visible = False\n",
    "s3.xaxis.visible = False\n",
    "s2.yaxis.visible = False\n",
    "s3.yaxis.visible = False\n",
    "s4.plot_width=s2.plot_width*3\n",
    "p2 = gridplot([[s1, s2,s3], [s4]],plot_height=150,toolbar_location=\"above\")\n",
    "show(p2)"
   ]
  },
  {
   "cell_type": "code",
   "execution_count": null,
   "metadata": {},
   "outputs": [],
   "source": []
  }
 ],
 "metadata": {
  "kernelspec": {
   "display_name": "Python 2",
   "language": "python",
   "name": "python2"
  },
  "language_info": {
   "codemirror_mode": {
    "name": "ipython",
    "version": 2
   },
   "file_extension": ".py",
   "mimetype": "text/x-python",
   "name": "python",
   "nbconvert_exporter": "python",
   "pygments_lexer": "ipython2",
   "version": "2.7.15rc1"
  }
 },
 "nbformat": 4,
 "nbformat_minor": 2
}
