{
 "cells": [
  {
   "cell_type": "markdown",
   "metadata": {},
   "source": [
    "## Playing with bokeh layouts and interactive layouts\n",
    "### Content\n",
    "* 0.) Load libraries\n",
    "* 1.) Generate random input data\n",
    "* 2.) drawColzArrray example\n",
    "* 3.) bokehDraw example with sliders\n",
    "* 4.) bokehDraw example with sliders and layout\n"
   ]
  },
  {
   "cell_type": "markdown",
   "metadata": {},
   "source": [
    "###  0.) Load libraries"
   ]
  },
  {
   "cell_type": "code",
   "execution_count": null,
   "metadata": {},
   "outputs": [],
   "source": [
    "from RootInteractive.MLpipeline.NDFunctionInterface import DataContainer, Fitter\n",
    "from RootInteractive.TTreeHnInteractive.TTreeHnBrowser import *\n",
    "from RootInteractive.InteractiveDrawing.bokeh.bokehTools import *\n",
    "from RootInteractive.InteractiveDrawing.bokeh.bokehDraw import *\n",
    "from RootInteractive.Tools.aliTreePlayer import readDataFrameURL\n",
    "from bokeh.layouts import layout\n",
    "output_notebook()"
   ]
  },
  {
   "cell_type": "markdown",
   "metadata": {},
   "source": [
    "### 1.) Generate random input data"
   ]
  },
  {
   "cell_type": "code",
   "execution_count": null,
   "metadata": {},
   "outputs": [],
   "source": [
    "df = pd.DataFrame(np.random.randint(0,100,size=(200, 4)), columns=list('ABCD'))\n",
    "df.head(5)"
   ]
  },
  {
   "cell_type": "markdown",
   "metadata": {},
   "source": [
    "### 2.) drawColzArrray example\n",
    "* get help\n",
    "* draw example"
   ]
  },
  {
   "cell_type": "code",
   "execution_count": null,
   "metadata": {},
   "outputs": [],
   "source": [
    "drawColzArray?"
   ]
  },
  {
   "cell_type": "code",
   "execution_count": null,
   "metadata": {},
   "outputs": [],
   "source": [
    "drawColzArray(df,\"A>0\",\"A\",\"A:B:C:D:A\",\"C\",None,ncols=2,plot_width=400,commonX=1, plot_height=200)"
   ]
  },
  {
   "cell_type": "markdown",
   "metadata": {},
   "source": [
    "### 3.) bokehDraw example with sliders\n",
    "* no layout specification\n",
    "  * default all 4 figures in one row"
   ]
  },
  {
   "cell_type": "code",
   "execution_count": null,
   "metadata": {},
   "outputs": [],
   "source": [
    "xxx=bokehDraw(df,\"A>0\",\"A\",\"A:B:C:D:A\",\"C\",\"slider.A(0,100.1,1,0,100),slider.B(0,100,1,0,100)\",None,ncols=5,plot_width=400,commonX=1, plot_height=200)"
   ]
  },
  {
   "cell_type": "markdown",
   "metadata": {},
   "source": [
    "###  3.) bokehDraw example with sliders and layout"
   ]
  },
  {
   "cell_type": "code",
   "execution_count": null,
   "metadata": {},
   "outputs": [],
   "source": [
    "xxx=bokehDraw(df,\"A>0\",\"A\",\"A:B:C:D:A\",\"C\",\"slider.A(0,100.1,1,0,100),slider.B(0,100,1,0,100)\",None,ncols=2,plot_width=400,commonX=1, plot_height=200)"
   ]
  }
 ],
 "metadata": {
  "kernelspec": {
   "display_name": "Python 3",
   "language": "python",
   "name": "python3"
  },
  "language_info": {
   "codemirror_mode": {
    "name": "ipython",
    "version": 3
   },
   "file_extension": ".py",
   "mimetype": "text/x-python",
   "name": "python",
   "nbconvert_exporter": "python",
   "pygments_lexer": "ipython3",
   "version": "3.6.8"
  }
 },
 "nbformat": 4,
 "nbformat_minor": 2
}
