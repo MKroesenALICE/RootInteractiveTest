{
 "cells": [
  {
   "cell_type": "markdown",
   "metadata": {},
   "source": [
    "# Playeing with bokeh layouts and interactive layouts\n",
    "* originally to test bokeh functionality\n",
    "* to be used in standard test"
   ]
  },
  {
   "cell_type": "code",
   "execution_count": 1,
   "metadata": {},
   "outputs": [
    {
     "name": "stderr",
     "output_type": "stream",
     "text": [
      "Using TensorFlow backend.\n"
     ]
    },
    {
     "name": "stdout",
     "output_type": "stream",
     "text": [
      "Welcome to JupyROOT 6.13/03\n"
     ]
    },
    {
     "data": {
      "text/html": [
       "\n",
       "    <div class=\"bk-root\">\n",
       "        <a href=\"https://bokeh.pydata.org\" target=\"_blank\" class=\"bk-logo bk-logo-small bk-logo-notebook\"></a>\n",
       "        <span id=\"1001\">Loading BokehJS ...</span>\n",
       "    </div>"
      ]
     },
     "metadata": {},
     "output_type": "display_data"
    },
    {
     "data": {
      "application/javascript": [
       "\n",
       "(function(root) {\n",
       "  function now() {\n",
       "    return new Date();\n",
       "  }\n",
       "\n",
       "  var force = true;\n",
       "\n",
       "  if (typeof (root._bokeh_onload_callbacks) === \"undefined\" || force === true) {\n",
       "    root._bokeh_onload_callbacks = [];\n",
       "    root._bokeh_is_loading = undefined;\n",
       "  }\n",
       "\n",
       "  var JS_MIME_TYPE = 'application/javascript';\n",
       "  var HTML_MIME_TYPE = 'text/html';\n",
       "  var EXEC_MIME_TYPE = 'application/vnd.bokehjs_exec.v0+json';\n",
       "  var CLASS_NAME = 'output_bokeh rendered_html';\n",
       "\n",
       "  /**\n",
       "   * Render data to the DOM node\n",
       "   */\n",
       "  function render(props, node) {\n",
       "    var script = document.createElement(\"script\");\n",
       "    node.appendChild(script);\n",
       "  }\n",
       "\n",
       "  /**\n",
       "   * Handle when an output is cleared or removed\n",
       "   */\n",
       "  function handleClearOutput(event, handle) {\n",
       "    var cell = handle.cell;\n",
       "\n",
       "    var id = cell.output_area._bokeh_element_id;\n",
       "    var server_id = cell.output_area._bokeh_server_id;\n",
       "    // Clean up Bokeh references\n",
       "    if (id != null && id in Bokeh.index) {\n",
       "      Bokeh.index[id].model.document.clear();\n",
       "      delete Bokeh.index[id];\n",
       "    }\n",
       "\n",
       "    if (server_id !== undefined) {\n",
       "      // Clean up Bokeh references\n",
       "      var cmd = \"from bokeh.io.state import curstate; print(curstate().uuid_to_server['\" + server_id + \"'].get_sessions()[0].document.roots[0]._id)\";\n",
       "      cell.notebook.kernel.execute(cmd, {\n",
       "        iopub: {\n",
       "          output: function(msg) {\n",
       "            var id = msg.content.text.trim();\n",
       "            if (id in Bokeh.index) {\n",
       "              Bokeh.index[id].model.document.clear();\n",
       "              delete Bokeh.index[id];\n",
       "            }\n",
       "          }\n",
       "        }\n",
       "      });\n",
       "      // Destroy server and session\n",
       "      var cmd = \"import bokeh.io.notebook as ion; ion.destroy_server('\" + server_id + \"')\";\n",
       "      cell.notebook.kernel.execute(cmd);\n",
       "    }\n",
       "  }\n",
       "\n",
       "  /**\n",
       "   * Handle when a new output is added\n",
       "   */\n",
       "  function handleAddOutput(event, handle) {\n",
       "    var output_area = handle.output_area;\n",
       "    var output = handle.output;\n",
       "\n",
       "    // limit handleAddOutput to display_data with EXEC_MIME_TYPE content only\n",
       "    if ((output.output_type != \"display_data\") || (!output.data.hasOwnProperty(EXEC_MIME_TYPE))) {\n",
       "      return\n",
       "    }\n",
       "\n",
       "    var toinsert = output_area.element.find(\".\" + CLASS_NAME.split(' ')[0]);\n",
       "\n",
       "    if (output.metadata[EXEC_MIME_TYPE][\"id\"] !== undefined) {\n",
       "      toinsert[toinsert.length - 1].firstChild.textContent = output.data[JS_MIME_TYPE];\n",
       "      // store reference to embed id on output_area\n",
       "      output_area._bokeh_element_id = output.metadata[EXEC_MIME_TYPE][\"id\"];\n",
       "    }\n",
       "    if (output.metadata[EXEC_MIME_TYPE][\"server_id\"] !== undefined) {\n",
       "      var bk_div = document.createElement(\"div\");\n",
       "      bk_div.innerHTML = output.data[HTML_MIME_TYPE];\n",
       "      var script_attrs = bk_div.children[0].attributes;\n",
       "      for (var i = 0; i < script_attrs.length; i++) {\n",
       "        toinsert[toinsert.length - 1].firstChild.setAttribute(script_attrs[i].name, script_attrs[i].value);\n",
       "      }\n",
       "      // store reference to server id on output_area\n",
       "      output_area._bokeh_server_id = output.metadata[EXEC_MIME_TYPE][\"server_id\"];\n",
       "    }\n",
       "  }\n",
       "\n",
       "  function register_renderer(events, OutputArea) {\n",
       "\n",
       "    function append_mime(data, metadata, element) {\n",
       "      // create a DOM node to render to\n",
       "      var toinsert = this.create_output_subarea(\n",
       "        metadata,\n",
       "        CLASS_NAME,\n",
       "        EXEC_MIME_TYPE\n",
       "      );\n",
       "      this.keyboard_manager.register_events(toinsert);\n",
       "      // Render to node\n",
       "      var props = {data: data, metadata: metadata[EXEC_MIME_TYPE]};\n",
       "      render(props, toinsert[toinsert.length - 1]);\n",
       "      element.append(toinsert);\n",
       "      return toinsert\n",
       "    }\n",
       "\n",
       "    /* Handle when an output is cleared or removed */\n",
       "    events.on('clear_output.CodeCell', handleClearOutput);\n",
       "    events.on('delete.Cell', handleClearOutput);\n",
       "\n",
       "    /* Handle when a new output is added */\n",
       "    events.on('output_added.OutputArea', handleAddOutput);\n",
       "\n",
       "    /**\n",
       "     * Register the mime type and append_mime function with output_area\n",
       "     */\n",
       "    OutputArea.prototype.register_mime_type(EXEC_MIME_TYPE, append_mime, {\n",
       "      /* Is output safe? */\n",
       "      safe: true,\n",
       "      /* Index of renderer in `output_area.display_order` */\n",
       "      index: 0\n",
       "    });\n",
       "  }\n",
       "\n",
       "  // register the mime type if in Jupyter Notebook environment and previously unregistered\n",
       "  if (root.Jupyter !== undefined) {\n",
       "    var events = require('base/js/events');\n",
       "    var OutputArea = require('notebook/js/outputarea').OutputArea;\n",
       "\n",
       "    if (OutputArea.prototype.mime_types().indexOf(EXEC_MIME_TYPE) == -1) {\n",
       "      register_renderer(events, OutputArea);\n",
       "    }\n",
       "  }\n",
       "\n",
       "  \n",
       "  if (typeof (root._bokeh_timeout) === \"undefined\" || force === true) {\n",
       "    root._bokeh_timeout = Date.now() + 5000;\n",
       "    root._bokeh_failed_load = false;\n",
       "  }\n",
       "\n",
       "  var NB_LOAD_WARNING = {'data': {'text/html':\n",
       "     \"<div style='background-color: #fdd'>\\n\"+\n",
       "     \"<p>\\n\"+\n",
       "     \"BokehJS does not appear to have successfully loaded. If loading BokehJS from CDN, this \\n\"+\n",
       "     \"may be due to a slow or bad network connection. Possible fixes:\\n\"+\n",
       "     \"</p>\\n\"+\n",
       "     \"<ul>\\n\"+\n",
       "     \"<li>re-rerun `output_notebook()` to attempt to load from CDN again, or</li>\\n\"+\n",
       "     \"<li>use INLINE resources instead, as so:</li>\\n\"+\n",
       "     \"</ul>\\n\"+\n",
       "     \"<code>\\n\"+\n",
       "     \"from bokeh.resources import INLINE\\n\"+\n",
       "     \"output_notebook(resources=INLINE)\\n\"+\n",
       "     \"</code>\\n\"+\n",
       "     \"</div>\"}};\n",
       "\n",
       "  function display_loaded() {\n",
       "    var el = document.getElementById(\"1001\");\n",
       "    if (el != null) {\n",
       "      el.textContent = \"BokehJS is loading...\";\n",
       "    }\n",
       "    if (root.Bokeh !== undefined) {\n",
       "      if (el != null) {\n",
       "        el.textContent = \"BokehJS \" + root.Bokeh.version + \" successfully loaded.\";\n",
       "      }\n",
       "    } else if (Date.now() < root._bokeh_timeout) {\n",
       "      setTimeout(display_loaded, 100)\n",
       "    }\n",
       "  }\n",
       "\n",
       "\n",
       "  function run_callbacks() {\n",
       "    try {\n",
       "      root._bokeh_onload_callbacks.forEach(function(callback) { callback() });\n",
       "    }\n",
       "    finally {\n",
       "      delete root._bokeh_onload_callbacks\n",
       "    }\n",
       "    console.info(\"Bokeh: all callbacks have finished\");\n",
       "  }\n",
       "\n",
       "  function load_libs(js_urls, callback) {\n",
       "    root._bokeh_onload_callbacks.push(callback);\n",
       "    if (root._bokeh_is_loading > 0) {\n",
       "      console.log(\"Bokeh: BokehJS is being loaded, scheduling callback at\", now());\n",
       "      return null;\n",
       "    }\n",
       "    if (js_urls == null || js_urls.length === 0) {\n",
       "      run_callbacks();\n",
       "      return null;\n",
       "    }\n",
       "    console.log(\"Bokeh: BokehJS not loaded, scheduling load and callback at\", now());\n",
       "    root._bokeh_is_loading = js_urls.length;\n",
       "    for (var i = 0; i < js_urls.length; i++) {\n",
       "      var url = js_urls[i];\n",
       "      var s = document.createElement('script');\n",
       "      s.src = url;\n",
       "      s.async = false;\n",
       "      s.onreadystatechange = s.onload = function() {\n",
       "        root._bokeh_is_loading--;\n",
       "        if (root._bokeh_is_loading === 0) {\n",
       "          console.log(\"Bokeh: all BokehJS libraries loaded\");\n",
       "          run_callbacks()\n",
       "        }\n",
       "      };\n",
       "      s.onerror = function() {\n",
       "        console.warn(\"failed to load library \" + url);\n",
       "      };\n",
       "      console.log(\"Bokeh: injecting script tag for BokehJS library: \", url);\n",
       "      document.getElementsByTagName(\"head\")[0].appendChild(s);\n",
       "    }\n",
       "  };var element = document.getElementById(\"1001\");\n",
       "  if (element == null) {\n",
       "    console.log(\"Bokeh: ERROR: autoload.js configured with elementid '1001' but no matching script tag was found. \")\n",
       "    return false;\n",
       "  }\n",
       "\n",
       "  var js_urls = [\"https://cdn.pydata.org/bokeh/release/bokeh-1.0.4.min.js\", \"https://cdn.pydata.org/bokeh/release/bokeh-widgets-1.0.4.min.js\", \"https://cdn.pydata.org/bokeh/release/bokeh-tables-1.0.4.min.js\", \"https://cdn.pydata.org/bokeh/release/bokeh-gl-1.0.4.min.js\"];\n",
       "\n",
       "  var inline_js = [\n",
       "    function(Bokeh) {\n",
       "      Bokeh.set_log_level(\"info\");\n",
       "    },\n",
       "    \n",
       "    function(Bokeh) {\n",
       "      \n",
       "    },\n",
       "    function(Bokeh) {\n",
       "      console.log(\"Bokeh: injecting CSS: https://cdn.pydata.org/bokeh/release/bokeh-1.0.4.min.css\");\n",
       "      Bokeh.embed.inject_css(\"https://cdn.pydata.org/bokeh/release/bokeh-1.0.4.min.css\");\n",
       "      console.log(\"Bokeh: injecting CSS: https://cdn.pydata.org/bokeh/release/bokeh-widgets-1.0.4.min.css\");\n",
       "      Bokeh.embed.inject_css(\"https://cdn.pydata.org/bokeh/release/bokeh-widgets-1.0.4.min.css\");\n",
       "      console.log(\"Bokeh: injecting CSS: https://cdn.pydata.org/bokeh/release/bokeh-tables-1.0.4.min.css\");\n",
       "      Bokeh.embed.inject_css(\"https://cdn.pydata.org/bokeh/release/bokeh-tables-1.0.4.min.css\");\n",
       "    }\n",
       "  ];\n",
       "\n",
       "  function run_inline_js() {\n",
       "    \n",
       "    if ((root.Bokeh !== undefined) || (force === true)) {\n",
       "      for (var i = 0; i < inline_js.length; i++) {\n",
       "        inline_js[i].call(root, root.Bokeh);\n",
       "      }if (force === true) {\n",
       "        display_loaded();\n",
       "      }} else if (Date.now() < root._bokeh_timeout) {\n",
       "      setTimeout(run_inline_js, 100);\n",
       "    } else if (!root._bokeh_failed_load) {\n",
       "      console.log(\"Bokeh: BokehJS failed to load within specified timeout.\");\n",
       "      root._bokeh_failed_load = true;\n",
       "    } else if (force !== true) {\n",
       "      var cell = $(document.getElementById(\"1001\")).parents('.cell').data().cell;\n",
       "      cell.output_area.append_execute_result(NB_LOAD_WARNING)\n",
       "    }\n",
       "\n",
       "  }\n",
       "\n",
       "  if (root._bokeh_is_loading === 0) {\n",
       "    console.log(\"Bokeh: BokehJS loaded, going straight to plotting\");\n",
       "    run_inline_js();\n",
       "  } else {\n",
       "    load_libs(js_urls, function() {\n",
       "      console.log(\"Bokeh: BokehJS plotting callback run at\", now());\n",
       "      run_inline_js();\n",
       "    });\n",
       "  }\n",
       "}(window));"
      ],
      "application/vnd.bokehjs_load.v0+json": "\n(function(root) {\n  function now() {\n    return new Date();\n  }\n\n  var force = true;\n\n  if (typeof (root._bokeh_onload_callbacks) === \"undefined\" || force === true) {\n    root._bokeh_onload_callbacks = [];\n    root._bokeh_is_loading = undefined;\n  }\n\n  \n\n  \n  if (typeof (root._bokeh_timeout) === \"undefined\" || force === true) {\n    root._bokeh_timeout = Date.now() + 5000;\n    root._bokeh_failed_load = false;\n  }\n\n  var NB_LOAD_WARNING = {'data': {'text/html':\n     \"<div style='background-color: #fdd'>\\n\"+\n     \"<p>\\n\"+\n     \"BokehJS does not appear to have successfully loaded. If loading BokehJS from CDN, this \\n\"+\n     \"may be due to a slow or bad network connection. Possible fixes:\\n\"+\n     \"</p>\\n\"+\n     \"<ul>\\n\"+\n     \"<li>re-rerun `output_notebook()` to attempt to load from CDN again, or</li>\\n\"+\n     \"<li>use INLINE resources instead, as so:</li>\\n\"+\n     \"</ul>\\n\"+\n     \"<code>\\n\"+\n     \"from bokeh.resources import INLINE\\n\"+\n     \"output_notebook(resources=INLINE)\\n\"+\n     \"</code>\\n\"+\n     \"</div>\"}};\n\n  function display_loaded() {\n    var el = document.getElementById(\"1001\");\n    if (el != null) {\n      el.textContent = \"BokehJS is loading...\";\n    }\n    if (root.Bokeh !== undefined) {\n      if (el != null) {\n        el.textContent = \"BokehJS \" + root.Bokeh.version + \" successfully loaded.\";\n      }\n    } else if (Date.now() < root._bokeh_timeout) {\n      setTimeout(display_loaded, 100)\n    }\n  }\n\n\n  function run_callbacks() {\n    try {\n      root._bokeh_onload_callbacks.forEach(function(callback) { callback() });\n    }\n    finally {\n      delete root._bokeh_onload_callbacks\n    }\n    console.info(\"Bokeh: all callbacks have finished\");\n  }\n\n  function load_libs(js_urls, callback) {\n    root._bokeh_onload_callbacks.push(callback);\n    if (root._bokeh_is_loading > 0) {\n      console.log(\"Bokeh: BokehJS is being loaded, scheduling callback at\", now());\n      return null;\n    }\n    if (js_urls == null || js_urls.length === 0) {\n      run_callbacks();\n      return null;\n    }\n    console.log(\"Bokeh: BokehJS not loaded, scheduling load and callback at\", now());\n    root._bokeh_is_loading = js_urls.length;\n    for (var i = 0; i < js_urls.length; i++) {\n      var url = js_urls[i];\n      var s = document.createElement('script');\n      s.src = url;\n      s.async = false;\n      s.onreadystatechange = s.onload = function() {\n        root._bokeh_is_loading--;\n        if (root._bokeh_is_loading === 0) {\n          console.log(\"Bokeh: all BokehJS libraries loaded\");\n          run_callbacks()\n        }\n      };\n      s.onerror = function() {\n        console.warn(\"failed to load library \" + url);\n      };\n      console.log(\"Bokeh: injecting script tag for BokehJS library: \", url);\n      document.getElementsByTagName(\"head\")[0].appendChild(s);\n    }\n  };var element = document.getElementById(\"1001\");\n  if (element == null) {\n    console.log(\"Bokeh: ERROR: autoload.js configured with elementid '1001' but no matching script tag was found. \")\n    return false;\n  }\n\n  var js_urls = [\"https://cdn.pydata.org/bokeh/release/bokeh-1.0.4.min.js\", \"https://cdn.pydata.org/bokeh/release/bokeh-widgets-1.0.4.min.js\", \"https://cdn.pydata.org/bokeh/release/bokeh-tables-1.0.4.min.js\", \"https://cdn.pydata.org/bokeh/release/bokeh-gl-1.0.4.min.js\"];\n\n  var inline_js = [\n    function(Bokeh) {\n      Bokeh.set_log_level(\"info\");\n    },\n    \n    function(Bokeh) {\n      \n    },\n    function(Bokeh) {\n      console.log(\"Bokeh: injecting CSS: https://cdn.pydata.org/bokeh/release/bokeh-1.0.4.min.css\");\n      Bokeh.embed.inject_css(\"https://cdn.pydata.org/bokeh/release/bokeh-1.0.4.min.css\");\n      console.log(\"Bokeh: injecting CSS: https://cdn.pydata.org/bokeh/release/bokeh-widgets-1.0.4.min.css\");\n      Bokeh.embed.inject_css(\"https://cdn.pydata.org/bokeh/release/bokeh-widgets-1.0.4.min.css\");\n      console.log(\"Bokeh: injecting CSS: https://cdn.pydata.org/bokeh/release/bokeh-tables-1.0.4.min.css\");\n      Bokeh.embed.inject_css(\"https://cdn.pydata.org/bokeh/release/bokeh-tables-1.0.4.min.css\");\n    }\n  ];\n\n  function run_inline_js() {\n    \n    if ((root.Bokeh !== undefined) || (force === true)) {\n      for (var i = 0; i < inline_js.length; i++) {\n        inline_js[i].call(root, root.Bokeh);\n      }if (force === true) {\n        display_loaded();\n      }} else if (Date.now() < root._bokeh_timeout) {\n      setTimeout(run_inline_js, 100);\n    } else if (!root._bokeh_failed_load) {\n      console.log(\"Bokeh: BokehJS failed to load within specified timeout.\");\n      root._bokeh_failed_load = true;\n    } else if (force !== true) {\n      var cell = $(document.getElementById(\"1001\")).parents('.cell').data().cell;\n      cell.output_area.append_execute_result(NB_LOAD_WARNING)\n    }\n\n  }\n\n  if (root._bokeh_is_loading === 0) {\n    console.log(\"Bokeh: BokehJS loaded, going straight to plotting\");\n    run_inline_js();\n  } else {\n    load_libs(js_urls, function() {\n      console.log(\"Bokeh: BokehJS plotting callback run at\", now());\n      run_inline_js();\n    });\n  }\n}(window));"
     },
     "metadata": {},
     "output_type": "display_data"
    }
   ],
   "source": [
    "from MLpipeline.NDFunctionInterface import DataContainer, Fitter\n",
    "from TTreeHnInteractive.TTreeHnBrowser import *\n",
    "from InteractiveDrawing.bokeh.bokehTools import *\n",
    "from InteractiveDrawing.bokeh.bokehDraw import *\n",
    "from Tools.aliTreePlayer import readDataFrameURL\n",
    "from bokeh.layouts import layout\n",
    "output_notebook()"
   ]
  },
  {
   "cell_type": "code",
   "execution_count": 2,
   "metadata": {},
   "outputs": [
    {
     "data": {
      "text/html": [
       "\n",
       "\n",
       "\n",
       "\n",
       "\n",
       "\n",
       "  <div class=\"bk-root\" id=\"82f87d05-e0e0-4860-aedb-6252d782c028\" data-root-id=\"1303\"></div>\n"
      ]
     },
     "metadata": {},
     "output_type": "display_data"
    },
    {
     "data": {
      "application/javascript": [
       "(function(root) {\n",
       "  function embed_document(root) {\n",
       "    \n",
       "  var docs_json = {\"46a1d95b-12af-465d-afc5-ab11cf846077\":{\"roots\":{\"references\":[{\"attributes\":{\"plot\":null,\"text\":\"D vs A  Color=C\"},\"id\":\"1142\",\"type\":\"Title\"},{\"attributes\":{\"below\":[{\"id\":\"1153\",\"type\":\"LinearAxis\"}],\"left\":[{\"id\":\"1158\",\"type\":\"LinearAxis\"}],\"plot_height\":200,\"plot_width\":400,\"renderers\":[{\"id\":\"1153\",\"type\":\"LinearAxis\"},{\"id\":\"1157\",\"type\":\"Grid\"},{\"id\":\"1158\",\"type\":\"LinearAxis\"},{\"id\":\"1162\",\"type\":\"Grid\"},{\"id\":\"1170\",\"type\":\"BoxAnnotation\"},{\"id\":\"1174\",\"type\":\"BoxAnnotation\"},{\"id\":\"1177\",\"type\":\"PolyAnnotation\"},{\"id\":\"1185\",\"type\":\"GlyphRenderer\"},{\"id\":\"1187\",\"type\":\"ColorBar\"}],\"right\":[{\"id\":\"1187\",\"type\":\"ColorBar\"}],\"title\":{\"id\":\"1142\",\"type\":\"Title\"},\"toolbar\":{\"id\":\"1169\",\"type\":\"Toolbar\"},\"toolbar_location\":null,\"x_range\":{\"id\":\"1007\",\"type\":\"DataRange1d\"},\"x_scale\":{\"id\":\"1149\",\"type\":\"LinearScale\"},\"y_range\":{\"id\":\"1147\",\"type\":\"DataRange1d\"},\"y_scale\":{\"id\":\"1151\",\"type\":\"LinearScale\"}},\"id\":\"1143\",\"subtype\":\"Figure\",\"type\":\"Plot\"},{\"attributes\":{\"source\":{\"id\":\"1002\",\"type\":\"ColumnDataSource\"}},\"id\":\"1140\",\"type\":\"CDSView\"},{\"attributes\":{\"color_mapper\":{\"id\":\"1003\",\"type\":\"LinearColorMapper\"},\"formatter\":{\"id\":\"1262\",\"type\":\"BasicTickFormatter\"},\"location\":[0,0],\"plot\":{\"id\":\"1097\",\"subtype\":\"Figure\",\"type\":\"Plot\"},\"ticker\":{\"id\":\"1261\",\"type\":\"BasicTicker\"},\"width\":8},\"id\":\"1141\",\"type\":\"ColorBar\"},{\"attributes\":{\"children\":[{\"id\":\"1299\",\"type\":\"Row\"}]},\"id\":\"1300\",\"type\":\"Column\"},{\"attributes\":{\"tools\":[{\"id\":\"1025\",\"type\":\"PanTool\"},{\"id\":\"1026\",\"type\":\"BoxZoomTool\"},{\"id\":\"1027\",\"type\":\"WheelZoomTool\"},{\"id\":\"1028\",\"type\":\"BoxSelectTool\"},{\"id\":\"1029\",\"type\":\"LassoSelectTool\"},{\"id\":\"1030\",\"type\":\"ResetTool\"},{\"id\":\"1071\",\"type\":\"PanTool\"},{\"id\":\"1072\",\"type\":\"BoxZoomTool\"},{\"id\":\"1073\",\"type\":\"WheelZoomTool\"},{\"id\":\"1074\",\"type\":\"BoxSelectTool\"},{\"id\":\"1075\",\"type\":\"LassoSelectTool\"},{\"id\":\"1076\",\"type\":\"ResetTool\"},{\"id\":\"1117\",\"type\":\"PanTool\"},{\"id\":\"1118\",\"type\":\"BoxZoomTool\"},{\"id\":\"1119\",\"type\":\"WheelZoomTool\"},{\"id\":\"1120\",\"type\":\"BoxSelectTool\"},{\"id\":\"1121\",\"type\":\"LassoSelectTool\"},{\"id\":\"1122\",\"type\":\"ResetTool\"},{\"id\":\"1163\",\"type\":\"PanTool\"},{\"id\":\"1164\",\"type\":\"BoxZoomTool\"},{\"id\":\"1165\",\"type\":\"WheelZoomTool\"},{\"id\":\"1166\",\"type\":\"BoxSelectTool\"},{\"id\":\"1167\",\"type\":\"LassoSelectTool\"},{\"id\":\"1168\",\"type\":\"ResetTool\"},{\"id\":\"1209\",\"type\":\"PanTool\"},{\"id\":\"1210\",\"type\":\"BoxZoomTool\"},{\"id\":\"1211\",\"type\":\"WheelZoomTool\"},{\"id\":\"1212\",\"type\":\"BoxSelectTool\"},{\"id\":\"1213\",\"type\":\"LassoSelectTool\"},{\"id\":\"1214\",\"type\":\"ResetTool\"}]},\"id\":\"1301\",\"type\":\"ProxyToolbar\"},{\"attributes\":{\"toolbar\":{\"id\":\"1301\",\"type\":\"ProxyToolbar\"},\"toolbar_location\":\"above\"},\"id\":\"1302\",\"type\":\"ToolbarBox\"},{\"attributes\":{\"children\":[{\"id\":\"1302\",\"type\":\"ToolbarBox\"},{\"id\":\"1300\",\"type\":\"Column\"}]},\"id\":\"1303\",\"type\":\"Column\"},{\"attributes\":{},\"id\":\"1262\",\"type\":\"BasicTickFormatter\"},{\"attributes\":{},\"id\":\"1261\",\"type\":\"BasicTicker\"},{\"attributes\":{},\"id\":\"1149\",\"type\":\"LinearScale\"},{\"attributes\":{},\"id\":\"1266\",\"type\":\"BasicTickFormatter\"},{\"attributes\":{},\"id\":\"1264\",\"type\":\"BasicTickFormatter\"},{\"attributes\":{\"callback\":null},\"id\":\"1147\",\"type\":\"DataRange1d\"},{\"attributes\":{\"bottom_units\":\"screen\",\"fill_alpha\":{\"value\":0.5},\"fill_color\":{\"value\":\"lightgrey\"},\"left_units\":\"screen\",\"level\":\"overlay\",\"line_alpha\":{\"value\":1.0},\"line_color\":{\"value\":\"black\"},\"line_dash\":[4,4],\"line_width\":{\"value\":2},\"plot\":null,\"render_mode\":\"css\",\"right_units\":\"screen\",\"top_units\":\"screen\"},\"id\":\"1078\",\"type\":\"BoxAnnotation\"},{\"attributes\":{},\"id\":\"1076\",\"type\":\"ResetTool\"},{\"attributes\":{\"active_drag\":\"auto\",\"active_inspect\":\"auto\",\"active_multi\":null,\"active_scroll\":\"auto\",\"active_tap\":\"auto\",\"tools\":[{\"id\":\"1071\",\"type\":\"PanTool\"},{\"id\":\"1072\",\"type\":\"BoxZoomTool\"},{\"id\":\"1073\",\"type\":\"WheelZoomTool\"},{\"id\":\"1074\",\"type\":\"BoxSelectTool\"},{\"id\":\"1075\",\"type\":\"LassoSelectTool\"},{\"id\":\"1076\",\"type\":\"ResetTool\"}]},\"id\":\"1077\",\"type\":\"Toolbar\"},{\"attributes\":{\"callback\":null,\"overlay\":{\"id\":\"1082\",\"type\":\"BoxAnnotation\"}},\"id\":\"1074\",\"type\":\"BoxSelectTool\"},{\"attributes\":{\"callback\":null,\"overlay\":{\"id\":\"1085\",\"type\":\"PolyAnnotation\"}},\"id\":\"1075\",\"type\":\"LassoSelectTool\"},{\"attributes\":{\"overlay\":{\"id\":\"1078\",\"type\":\"BoxAnnotation\"}},\"id\":\"1072\",\"type\":\"BoxZoomTool\"},{\"attributes\":{},\"id\":\"1073\",\"type\":\"WheelZoomTool\"},{\"attributes\":{\"dimension\":1,\"plot\":{\"id\":\"1051\",\"subtype\":\"Figure\",\"type\":\"Plot\"},\"ticker\":{\"id\":\"1067\",\"type\":\"BasicTicker\"}},\"id\":\"1070\",\"type\":\"Grid\"},{\"attributes\":{},\"id\":\"1071\",\"type\":\"PanTool\"},{\"attributes\":{\"formatter\":{\"id\":\"1266\",\"type\":\"BasicTickFormatter\"},\"plot\":{\"id\":\"1097\",\"subtype\":\"Figure\",\"type\":\"Plot\"},\"ticker\":{\"id\":\"1113\",\"type\":\"BasicTicker\"}},\"id\":\"1112\",\"type\":\"LinearAxis\"},{\"attributes\":{},\"id\":\"1253\",\"type\":\"BasicTickFormatter\"},{\"attributes\":{\"source\":{\"id\":\"1002\",\"type\":\"ColumnDataSource\"}},\"id\":\"1094\",\"type\":\"CDSView\"},{\"attributes\":{\"color_mapper\":{\"id\":\"1003\",\"type\":\"LinearColorMapper\"},\"formatter\":{\"id\":\"1249\",\"type\":\"BasicTickFormatter\"},\"location\":[0,0],\"plot\":{\"id\":\"1051\",\"subtype\":\"Figure\",\"type\":\"Plot\"},\"ticker\":{\"id\":\"1248\",\"type\":\"BasicTicker\"},\"width\":8},\"id\":\"1095\",\"type\":\"ColorBar\"},{\"attributes\":{\"plot\":null,\"text\":\"C vs A  Color=C\"},\"id\":\"1096\",\"type\":\"Title\"},{\"attributes\":{\"below\":[{\"id\":\"1107\",\"type\":\"LinearAxis\"}],\"left\":[{\"id\":\"1112\",\"type\":\"LinearAxis\"}],\"plot_height\":200,\"plot_width\":400,\"renderers\":[{\"id\":\"1107\",\"type\":\"LinearAxis\"},{\"id\":\"1111\",\"type\":\"Grid\"},{\"id\":\"1112\",\"type\":\"LinearAxis\"},{\"id\":\"1116\",\"type\":\"Grid\"},{\"id\":\"1124\",\"type\":\"BoxAnnotation\"},{\"id\":\"1128\",\"type\":\"BoxAnnotation\"},{\"id\":\"1131\",\"type\":\"PolyAnnotation\"},{\"id\":\"1139\",\"type\":\"GlyphRenderer\"},{\"id\":\"1141\",\"type\":\"ColorBar\"}],\"right\":[{\"id\":\"1141\",\"type\":\"ColorBar\"}],\"title\":{\"id\":\"1096\",\"type\":\"Title\"},\"toolbar\":{\"id\":\"1123\",\"type\":\"Toolbar\"},\"toolbar_location\":null,\"x_range\":{\"id\":\"1007\",\"type\":\"DataRange1d\"},\"x_scale\":{\"id\":\"1103\",\"type\":\"LinearScale\"},\"y_range\":{\"id\":\"1101\",\"type\":\"DataRange1d\"},\"y_scale\":{\"id\":\"1105\",\"type\":\"LinearScale\"}},\"id\":\"1097\",\"subtype\":\"Figure\",\"type\":\"Plot\"},{\"attributes\":{},\"id\":\"1159\",\"type\":\"BasicTicker\"},{\"attributes\":{\"fill_color\":{\"field\":\"C\",\"transform\":{\"id\":\"1003\",\"type\":\"LinearColorMapper\"}},\"line_color\":{\"field\":\"C\",\"transform\":{\"id\":\"1003\",\"type\":\"LinearColorMapper\"}},\"marker\":{\"value\":\"square\"},\"size\":{\"units\":\"screen\",\"value\":2},\"x\":{\"field\":\"A\"},\"y\":{\"field\":\"B\"}},\"id\":\"1091\",\"type\":\"Scatter\"},{\"attributes\":{\"fill_alpha\":{\"value\":0.1},\"fill_color\":{\"value\":\"#1f77b4\"},\"line_alpha\":{\"value\":0.1},\"line_color\":{\"value\":\"#1f77b4\"},\"marker\":{\"value\":\"square\"},\"size\":{\"units\":\"screen\",\"value\":2},\"x\":{\"field\":\"A\"},\"y\":{\"field\":\"B\"}},\"id\":\"1092\",\"type\":\"Scatter\"},{\"attributes\":{\"data_source\":{\"id\":\"1002\",\"type\":\"ColumnDataSource\"},\"glyph\":{\"id\":\"1091\",\"type\":\"Scatter\"},\"hover_glyph\":null,\"muted_glyph\":null,\"nonselection_glyph\":{\"id\":\"1092\",\"type\":\"Scatter\"},\"selection_glyph\":null,\"view\":{\"id\":\"1094\",\"type\":\"CDSView\"}},\"id\":\"1093\",\"type\":\"GlyphRenderer\"},{\"attributes\":{},\"id\":\"1154\",\"type\":\"BasicTicker\"},{\"attributes\":{\"plot\":{\"id\":\"1143\",\"subtype\":\"Figure\",\"type\":\"Plot\"},\"ticker\":{\"id\":\"1154\",\"type\":\"BasicTicker\"}},\"id\":\"1157\",\"type\":\"Grid\"},{\"attributes\":{},\"id\":\"1151\",\"type\":\"LinearScale\"},{\"attributes\":{\"formatter\":{\"id\":\"1277\",\"type\":\"BasicTickFormatter\"},\"plot\":{\"id\":\"1143\",\"subtype\":\"Figure\",\"type\":\"Plot\"},\"ticker\":{\"id\":\"1154\",\"type\":\"BasicTicker\"}},\"id\":\"1153\",\"type\":\"LinearAxis\"},{\"attributes\":{},\"id\":\"1119\",\"type\":\"WheelZoomTool\"},{\"attributes\":{\"formatter\":{\"id\":\"1251\",\"type\":\"BasicTickFormatter\"},\"plot\":{\"id\":\"1051\",\"subtype\":\"Figure\",\"type\":\"Plot\"},\"ticker\":{\"id\":\"1062\",\"type\":\"BasicTicker\"}},\"id\":\"1061\",\"type\":\"LinearAxis\"},{\"attributes\":{},\"id\":\"1062\",\"type\":\"BasicTicker\"},{\"attributes\":{\"plot\":{\"id\":\"1051\",\"subtype\":\"Figure\",\"type\":\"Plot\"},\"ticker\":{\"id\":\"1062\",\"type\":\"BasicTicker\"}},\"id\":\"1065\",\"type\":\"Grid\"},{\"attributes\":{},\"id\":\"1067\",\"type\":\"BasicTicker\"},{\"attributes\":{\"formatter\":{\"id\":\"1253\",\"type\":\"BasicTickFormatter\"},\"plot\":{\"id\":\"1051\",\"subtype\":\"Figure\",\"type\":\"Plot\"},\"ticker\":{\"id\":\"1067\",\"type\":\"BasicTicker\"}},\"id\":\"1066\",\"type\":\"LinearAxis\"},{\"attributes\":{\"bottom_units\":\"screen\",\"fill_alpha\":{\"value\":0.5},\"fill_color\":{\"value\":\"lightgrey\"},\"left_units\":\"screen\",\"level\":\"overlay\",\"line_alpha\":{\"value\":1.0},\"line_color\":{\"value\":\"black\"},\"line_dash\":[4,4],\"line_width\":{\"value\":2},\"plot\":null,\"render_mode\":\"css\",\"right_units\":\"screen\",\"top_units\":\"screen\"},\"id\":\"1128\",\"type\":\"BoxAnnotation\"},{\"attributes\":{\"fill_alpha\":{\"value\":0.5},\"fill_color\":{\"value\":\"lightgrey\"},\"level\":\"overlay\",\"line_alpha\":{\"value\":1.0},\"line_color\":{\"value\":\"black\"},\"line_dash\":[4,4],\"line_width\":{\"value\":2},\"plot\":null,\"xs_units\":\"screen\",\"ys_units\":\"screen\"},\"id\":\"1085\",\"type\":\"PolyAnnotation\"},{\"attributes\":{\"bottom_units\":\"screen\",\"fill_alpha\":{\"value\":0.5},\"fill_color\":{\"value\":\"lightgrey\"},\"left_units\":\"screen\",\"level\":\"overlay\",\"line_alpha\":{\"value\":1.0},\"line_color\":{\"value\":\"black\"},\"line_dash\":[4,4],\"line_width\":{\"value\":2},\"plot\":null,\"render_mode\":\"css\",\"right_units\":\"screen\",\"top_units\":\"screen\"},\"id\":\"1082\",\"type\":\"BoxAnnotation\"},{\"attributes\":{},\"id\":\"1279\",\"type\":\"BasicTickFormatter\"},{\"attributes\":{\"callback\":null,\"overlay\":{\"id\":\"1128\",\"type\":\"BoxAnnotation\"}},\"id\":\"1120\",\"type\":\"BoxSelectTool\"},{\"attributes\":{\"callback\":null,\"overlay\":{\"id\":\"1131\",\"type\":\"PolyAnnotation\"}},\"id\":\"1121\",\"type\":\"LassoSelectTool\"},{\"attributes\":{},\"id\":\"1122\",\"type\":\"ResetTool\"},{\"attributes\":{\"active_drag\":\"auto\",\"active_inspect\":\"auto\",\"active_multi\":null,\"active_scroll\":\"auto\",\"active_tap\":\"auto\",\"tools\":[{\"id\":\"1117\",\"type\":\"PanTool\"},{\"id\":\"1118\",\"type\":\"BoxZoomTool\"},{\"id\":\"1119\",\"type\":\"WheelZoomTool\"},{\"id\":\"1120\",\"type\":\"BoxSelectTool\"},{\"id\":\"1121\",\"type\":\"LassoSelectTool\"},{\"id\":\"1122\",\"type\":\"ResetTool\"}]},\"id\":\"1123\",\"type\":\"Toolbar\"},{\"attributes\":{\"bottom_units\":\"screen\",\"fill_alpha\":{\"value\":0.5},\"fill_color\":{\"value\":\"lightgrey\"},\"left_units\":\"screen\",\"level\":\"overlay\",\"line_alpha\":{\"value\":1.0},\"line_color\":{\"value\":\"black\"},\"line_dash\":[4,4],\"line_width\":{\"value\":2},\"plot\":null,\"render_mode\":\"css\",\"right_units\":\"screen\",\"top_units\":\"screen\"},\"id\":\"1124\",\"type\":\"BoxAnnotation\"},{\"attributes\":{\"data_source\":{\"id\":\"1002\",\"type\":\"ColumnDataSource\"},\"glyph\":{\"id\":\"1137\",\"type\":\"Scatter\"},\"hover_glyph\":null,\"muted_glyph\":null,\"nonselection_glyph\":{\"id\":\"1138\",\"type\":\"Scatter\"},\"selection_glyph\":null,\"view\":{\"id\":\"1140\",\"type\":\"CDSView\"}},\"id\":\"1139\",\"type\":\"GlyphRenderer\"},{\"attributes\":{\"fill_color\":{\"field\":\"C\",\"transform\":{\"id\":\"1003\",\"type\":\"LinearColorMapper\"}},\"line_color\":{\"field\":\"C\",\"transform\":{\"id\":\"1003\",\"type\":\"LinearColorMapper\"}},\"marker\":{\"value\":\"square\"},\"size\":{\"units\":\"screen\",\"value\":2},\"x\":{\"field\":\"A\"},\"y\":{\"field\":\"D\"}},\"id\":\"1183\",\"type\":\"Scatter\"},{\"attributes\":{\"plot\":{\"id\":\"1005\",\"subtype\":\"Figure\",\"type\":\"Plot\"},\"ticker\":{\"id\":\"1016\",\"type\":\"BasicTicker\"}},\"id\":\"1019\",\"type\":\"Grid\"},{\"attributes\":{},\"id\":\"1251\",\"type\":\"BasicTickFormatter\"},{\"attributes\":{\"formatter\":{\"id\":\"1238\",\"type\":\"BasicTickFormatter\"},\"plot\":{\"id\":\"1005\",\"subtype\":\"Figure\",\"type\":\"Plot\"},\"ticker\":{\"id\":\"1016\",\"type\":\"BasicTicker\"}},\"id\":\"1015\",\"type\":\"LinearAxis\"},{\"attributes\":{},\"id\":\"1016\",\"type\":\"BasicTicker\"},{\"attributes\":{},\"id\":\"1011\",\"type\":\"LinearScale\"},{\"attributes\":{},\"id\":\"1013\",\"type\":\"LinearScale\"},{\"attributes\":{},\"id\":\"1235\",\"type\":\"BasicTicker\"},{\"attributes\":{},\"id\":\"1236\",\"type\":\"BasicTickFormatter\"},{\"attributes\":{\"fill_alpha\":{\"value\":0.1},\"fill_color\":{\"value\":\"#1f77b4\"},\"line_alpha\":{\"value\":0.1},\"line_color\":{\"value\":\"#1f77b4\"},\"marker\":{\"value\":\"square\"},\"size\":{\"units\":\"screen\",\"value\":2},\"x\":{\"field\":\"A\"},\"y\":{\"field\":\"C\"}},\"id\":\"1138\",\"type\":\"Scatter\"},{\"attributes\":{\"fill_alpha\":{\"value\":0.1},\"fill_color\":{\"value\":\"#1f77b4\"},\"line_alpha\":{\"value\":0.1},\"line_color\":{\"value\":\"#1f77b4\"},\"marker\":{\"value\":\"square\"},\"size\":{\"units\":\"screen\",\"value\":2},\"x\":{\"field\":\"A\"},\"y\":{\"field\":\"A\"}},\"id\":\"1230\",\"type\":\"Scatter\"},{\"attributes\":{\"data_source\":{\"id\":\"1002\",\"type\":\"ColumnDataSource\"},\"glyph\":{\"id\":\"1229\",\"type\":\"Scatter\"},\"hover_glyph\":null,\"muted_glyph\":null,\"nonselection_glyph\":{\"id\":\"1230\",\"type\":\"Scatter\"},\"selection_glyph\":null,\"view\":{\"id\":\"1232\",\"type\":\"CDSView\"}},\"id\":\"1231\",\"type\":\"GlyphRenderer\"},{\"attributes\":{\"source\":{\"id\":\"1002\",\"type\":\"ColumnDataSource\"}},\"id\":\"1232\",\"type\":\"CDSView\"},{\"attributes\":{\"color_mapper\":{\"id\":\"1003\",\"type\":\"LinearColorMapper\"},\"formatter\":{\"id\":\"1288\",\"type\":\"BasicTickFormatter\"},\"location\":[0,0],\"plot\":{\"id\":\"1189\",\"subtype\":\"Figure\",\"type\":\"Plot\"},\"ticker\":{\"id\":\"1287\",\"type\":\"BasicTicker\"},\"width\":8},\"id\":\"1233\",\"type\":\"ColorBar\"},{\"attributes\":{\"fill_color\":{\"field\":\"C\",\"transform\":{\"id\":\"1003\",\"type\":\"LinearColorMapper\"}},\"line_color\":{\"field\":\"C\",\"transform\":{\"id\":\"1003\",\"type\":\"LinearColorMapper\"}},\"marker\":{\"value\":\"square\"},\"size\":{\"units\":\"screen\",\"value\":2},\"x\":{\"field\":\"A\"},\"y\":{\"field\":\"C\"}},\"id\":\"1137\",\"type\":\"Scatter\"},{\"attributes\":{\"fill_alpha\":{\"value\":0.5},\"fill_color\":{\"value\":\"lightgrey\"},\"level\":\"overlay\",\"line_alpha\":{\"value\":1.0},\"line_color\":{\"value\":\"black\"},\"line_dash\":[4,4],\"line_width\":{\"value\":2},\"plot\":null,\"xs_units\":\"screen\",\"ys_units\":\"screen\"},\"id\":\"1131\",\"type\":\"PolyAnnotation\"},{\"attributes\":{},\"id\":\"1238\",\"type\":\"BasicTickFormatter\"},{\"attributes\":{},\"id\":\"1241\",\"type\":\"Selection\"},{\"attributes\":{},\"id\":\"1240\",\"type\":\"BasicTickFormatter\"},{\"attributes\":{},\"id\":\"1242\",\"type\":\"UnionRenderers\"},{\"attributes\":{\"callback\":null},\"id\":\"1009\",\"type\":\"DataRange1d\"},{\"attributes\":{},\"id\":\"1249\",\"type\":\"BasicTickFormatter\"},{\"attributes\":{},\"id\":\"1248\",\"type\":\"BasicTicker\"},{\"attributes\":{\"below\":[{\"id\":\"1015\",\"type\":\"LinearAxis\"}],\"left\":[{\"id\":\"1020\",\"type\":\"LinearAxis\"}],\"plot_height\":200,\"plot_width\":400,\"renderers\":[{\"id\":\"1015\",\"type\":\"LinearAxis\"},{\"id\":\"1019\",\"type\":\"Grid\"},{\"id\":\"1020\",\"type\":\"LinearAxis\"},{\"id\":\"1024\",\"type\":\"Grid\"},{\"id\":\"1032\",\"type\":\"BoxAnnotation\"},{\"id\":\"1036\",\"type\":\"BoxAnnotation\"},{\"id\":\"1039\",\"type\":\"PolyAnnotation\"},{\"id\":\"1047\",\"type\":\"GlyphRenderer\"},{\"id\":\"1049\",\"type\":\"ColorBar\"}],\"right\":[{\"id\":\"1049\",\"type\":\"ColorBar\"}],\"title\":{\"id\":\"1004\",\"type\":\"Title\"},\"toolbar\":{\"id\":\"1031\",\"type\":\"Toolbar\"},\"toolbar_location\":null,\"x_range\":{\"id\":\"1007\",\"type\":\"DataRange1d\"},\"x_scale\":{\"id\":\"1011\",\"type\":\"LinearScale\"},\"y_range\":{\"id\":\"1009\",\"type\":\"DataRange1d\"},\"y_scale\":{\"id\":\"1013\",\"type\":\"LinearScale\"}},\"id\":\"1005\",\"subtype\":\"Figure\",\"type\":\"Plot\"},{\"attributes\":{\"plot\":null,\"text\":\"A vs A  Color=C\"},\"id\":\"1004\",\"type\":\"Title\"},{\"attributes\":{\"high\":99,\"low\":1,\"palette\":[\"#3288bd\",\"#99d594\",\"#e6f598\",\"#fee08b\",\"#fc8d59\",\"#d53e4f\"]},\"id\":\"1003\",\"type\":\"LinearColorMapper\"},{\"attributes\":{\"callback\":null,\"data\":{\"A\":[16,1,57,72,77,52,90,40,57,22,76,65,22,78,77,24,94,69,11,61,37,77,96,71,84,57,84,84,53,44,8,65,42,68,34,52,77,45,41,42,63,44,52,33,31,10,69,96,12,77,33,6,4,48,59,90,94,99,21,98,79,58,54,18,9,57,26,70,94,54,98,90,68,31,25,87,31,9,17,3,43,44,43,7,2,90,65,62,83,86,97,27,56,82,61,67,34,17,84,83,92,92,12,82,51,77,78,47,76,83,64,97,10,41,62,22,94,89,87,79,72,47,16,64,41,34,67,65,11,85,62,36,13,90,82,97,4,95,45,11,75,43,88,67,78,57,19,57,13,39,36,60,58,90,23,49,52,55,67,3,85,3,78,31,77,87,33,37,49,92,31,22,89,74,64,5,19,69,79,40,35,5,77,94,74,39,59,76,53,4,25,60,70,26,93,29,40,96,24,20],\"B\":[11,3,10,39,38,92,64,16,64,93,82,35,34,77,95,35,79,4,52,48,62,32,67,65,58,19,76,39,24,25,33,73,92,2,90,87,24,94,39,89,19,81,53,5,44,81,70,85,29,80,1,12,40,89,27,24,41,24,35,7,40,40,90,52,97,37,34,81,75,68,17,94,8,52,87,71,53,25,65,2,25,44,48,94,34,5,73,21,4,13,63,20,87,0,12,83,48,71,33,51,52,69,66,41,10,41,44,56,21,40,7,58,37,0,43,11,35,55,19,23,64,36,6,19,19,0,52,27,97,58,85,51,47,71,51,70,43,84,65,54,15,97,67,48,18,14,78,99,50,18,16,77,24,65,60,8,9,84,75,45,57,56,33,51,2,21,74,50,69,45,5,71,69,86,86,29,14,67,71,39,74,81,12,39,22,74,72,46,52,56,31,75,80,95,62,41,5,89,13,70],\"C\":[74,13,65,22,13,15,85,97,48,94,78,81,71,86,2,32,11,68,82,97,88,60,81,69,90,83,73,13,19,89,18,1,27,4,15,16,77,25,6,33,91,18,50,39,89,93,70,8,87,34,49,55,35,79,62,85,57,84,98,93,73,99,82,12,35,79,46,51,49,20,35,88,5,79,83,37,99,97,27,44,46,84,57,53,96,7,81,18,94,88,62,70,69,74,93,63,8,58,39,7,51,61,97,55,20,76,8,51,23,57,29,6,95,13,16,80,26,7,63,56,62,89,30,82,74,95,19,41,82,60,22,59,85,57,75,13,37,3,3,81,16,22,76,68,9,74,45,17,10,88,39,88,1,64,62,47,14,6,60,48,99,78,6,58,13,74,38,1,60,11,23,94,83,61,93,75,55,31,3,24,52,35,83,77,12,2,78,27,57,16,42,45,51,79,85,90,56,73,83,67],\"D\":[37,21,66,47,56,34,59,86,40,41,57,65,56,58,11,99,80,6,61,63,95,49,53,62,58,61,28,16,41,19,25,90,38,73,14,52,72,33,16,22,60,7,5,69,15,48,91,60,23,29,65,10,38,86,34,64,98,16,21,46,43,9,73,97,0,88,26,44,21,81,10,96,42,6,33,33,16,79,40,53,14,11,92,31,95,52,9,3,83,75,20,76,23,40,78,72,15,48,53,47,2,44,90,20,29,80,70,9,94,34,3,72,34,85,58,41,54,84,96,75,4,1,51,98,0,46,6,31,97,96,62,71,52,17,20,62,11,49,96,57,28,64,30,99,95,73,94,63,93,45,72,96,98,5,55,63,3,85,31,23,2,99,93,27,40,10,91,1,2,6,28,46,88,49,79,88,12,28,63,36,21,99,93,17,48,63,0,60,20,5,16,75,58,83,55,81,60,70,12,36],\"index\":[0,1,2,3,4,5,6,7,8,9,10,11,12,13,14,15,16,17,18,19,20,21,22,23,24,25,26,27,28,29,30,31,32,33,34,35,36,37,38,39,40,41,42,43,44,45,46,47,48,49,50,51,52,53,54,55,56,57,58,59,60,61,62,63,64,65,66,67,68,69,70,71,72,73,74,75,76,77,78,79,80,81,82,83,84,85,86,87,88,89,90,91,92,93,94,95,96,97,98,99,100,101,102,103,104,105,106,107,108,109,110,111,112,113,114,115,116,117,118,119,120,121,122,123,124,125,126,127,128,129,130,131,132,133,134,135,136,137,138,139,140,141,142,143,144,145,146,147,148,149,150,151,152,153,154,155,156,157,158,159,160,161,162,163,164,165,166,167,168,169,170,171,172,173,174,175,176,177,178,179,180,181,182,183,184,185,186,187,188,189,190,191,192,193,194,195,196,197,198,199]},\"selected\":{\"id\":\"1241\",\"type\":\"Selection\"},\"selection_policy\":{\"id\":\"1242\",\"type\":\"UnionRenderers\"}},\"id\":\"1002\",\"type\":\"ColumnDataSource\"},{\"attributes\":{\"fill_alpha\":{\"value\":0.5},\"fill_color\":{\"value\":\"lightgrey\"},\"level\":\"overlay\",\"line_alpha\":{\"value\":1.0},\"line_color\":{\"value\":\"black\"},\"line_dash\":[4,4],\"line_width\":{\"value\":2},\"plot\":null,\"xs_units\":\"screen\",\"ys_units\":\"screen\"},\"id\":\"1223\",\"type\":\"PolyAnnotation\"},{\"attributes\":{\"bottom_units\":\"screen\",\"fill_alpha\":{\"value\":0.5},\"fill_color\":{\"value\":\"lightgrey\"},\"left_units\":\"screen\",\"level\":\"overlay\",\"line_alpha\":{\"value\":1.0},\"line_color\":{\"value\":\"black\"},\"line_dash\":[4,4],\"line_width\":{\"value\":2},\"plot\":null,\"render_mode\":\"css\",\"right_units\":\"screen\",\"top_units\":\"screen\"},\"id\":\"1220\",\"type\":\"BoxAnnotation\"},{\"attributes\":{\"fill_color\":{\"field\":\"C\",\"transform\":{\"id\":\"1003\",\"type\":\"LinearColorMapper\"}},\"line_color\":{\"field\":\"C\",\"transform\":{\"id\":\"1003\",\"type\":\"LinearColorMapper\"}},\"marker\":{\"value\":\"square\"},\"size\":{\"units\":\"screen\",\"value\":2},\"x\":{\"field\":\"A\"},\"y\":{\"field\":\"A\"}},\"id\":\"1229\",\"type\":\"Scatter\"},{\"attributes\":{\"fill_alpha\":{\"value\":0.5},\"fill_color\":{\"value\":\"lightgrey\"},\"level\":\"overlay\",\"line_alpha\":{\"value\":1.0},\"line_color\":{\"value\":\"black\"},\"line_dash\":[4,4],\"line_width\":{\"value\":2},\"plot\":null,\"xs_units\":\"screen\",\"ys_units\":\"screen\"},\"id\":\"1039\",\"type\":\"PolyAnnotation\"},{\"attributes\":{\"bottom_units\":\"screen\",\"fill_alpha\":{\"value\":0.5},\"fill_color\":{\"value\":\"lightgrey\"},\"left_units\":\"screen\",\"level\":\"overlay\",\"line_alpha\":{\"value\":1.0},\"line_color\":{\"value\":\"black\"},\"line_dash\":[4,4],\"line_width\":{\"value\":2},\"plot\":null,\"render_mode\":\"css\",\"right_units\":\"screen\",\"top_units\":\"screen\"},\"id\":\"1032\",\"type\":\"BoxAnnotation\"},{\"attributes\":{},\"id\":\"1030\",\"type\":\"ResetTool\"},{\"attributes\":{\"active_drag\":\"auto\",\"active_inspect\":\"auto\",\"active_multi\":null,\"active_scroll\":\"auto\",\"active_tap\":\"auto\",\"tools\":[{\"id\":\"1025\",\"type\":\"PanTool\"},{\"id\":\"1026\",\"type\":\"BoxZoomTool\"},{\"id\":\"1027\",\"type\":\"WheelZoomTool\"},{\"id\":\"1028\",\"type\":\"BoxSelectTool\"},{\"id\":\"1029\",\"type\":\"LassoSelectTool\"},{\"id\":\"1030\",\"type\":\"ResetTool\"}]},\"id\":\"1031\",\"type\":\"Toolbar\"},{\"attributes\":{\"bottom_units\":\"screen\",\"fill_alpha\":{\"value\":0.5},\"fill_color\":{\"value\":\"lightgrey\"},\"left_units\":\"screen\",\"level\":\"overlay\",\"line_alpha\":{\"value\":1.0},\"line_color\":{\"value\":\"black\"},\"line_dash\":[4,4],\"line_width\":{\"value\":2},\"plot\":null,\"render_mode\":\"css\",\"right_units\":\"screen\",\"top_units\":\"screen\"},\"id\":\"1036\",\"type\":\"BoxAnnotation\"},{\"attributes\":{\"callback\":null,\"overlay\":{\"id\":\"1220\",\"type\":\"BoxAnnotation\"}},\"id\":\"1212\",\"type\":\"BoxSelectTool\"},{\"attributes\":{\"callback\":null,\"overlay\":{\"id\":\"1223\",\"type\":\"PolyAnnotation\"}},\"id\":\"1213\",\"type\":\"LassoSelectTool\"},{\"attributes\":{\"overlay\":{\"id\":\"1216\",\"type\":\"BoxAnnotation\"}},\"id\":\"1210\",\"type\":\"BoxZoomTool\"},{\"attributes\":{},\"id\":\"1211\",\"type\":\"WheelZoomTool\"},{\"attributes\":{\"bottom_units\":\"screen\",\"fill_alpha\":{\"value\":0.5},\"fill_color\":{\"value\":\"lightgrey\"},\"left_units\":\"screen\",\"level\":\"overlay\",\"line_alpha\":{\"value\":1.0},\"line_color\":{\"value\":\"black\"},\"line_dash\":[4,4],\"line_width\":{\"value\":2},\"plot\":null,\"render_mode\":\"css\",\"right_units\":\"screen\",\"top_units\":\"screen\"},\"id\":\"1216\",\"type\":\"BoxAnnotation\"},{\"attributes\":{},\"id\":\"1214\",\"type\":\"ResetTool\"},{\"attributes\":{\"active_drag\":\"auto\",\"active_inspect\":\"auto\",\"active_multi\":null,\"active_scroll\":\"auto\",\"active_tap\":\"auto\",\"tools\":[{\"id\":\"1209\",\"type\":\"PanTool\"},{\"id\":\"1210\",\"type\":\"BoxZoomTool\"},{\"id\":\"1211\",\"type\":\"WheelZoomTool\"},{\"id\":\"1212\",\"type\":\"BoxSelectTool\"},{\"id\":\"1213\",\"type\":\"LassoSelectTool\"},{\"id\":\"1214\",\"type\":\"ResetTool\"}]},\"id\":\"1215\",\"type\":\"Toolbar\"},{\"attributes\":{\"active_drag\":\"auto\",\"active_inspect\":\"auto\",\"active_multi\":null,\"active_scroll\":\"auto\",\"active_tap\":\"auto\",\"tools\":[{\"id\":\"1163\",\"type\":\"PanTool\"},{\"id\":\"1164\",\"type\":\"BoxZoomTool\"},{\"id\":\"1165\",\"type\":\"WheelZoomTool\"},{\"id\":\"1166\",\"type\":\"BoxSelectTool\"},{\"id\":\"1167\",\"type\":\"LassoSelectTool\"},{\"id\":\"1168\",\"type\":\"ResetTool\"}]},\"id\":\"1169\",\"type\":\"Toolbar\"},{\"attributes\":{},\"id\":\"1025\",\"type\":\"PanTool\"},{\"attributes\":{\"dimension\":1,\"plot\":{\"id\":\"1005\",\"subtype\":\"Figure\",\"type\":\"Plot\"},\"ticker\":{\"id\":\"1021\",\"type\":\"BasicTicker\"}},\"id\":\"1024\",\"type\":\"Grid\"},{\"attributes\":{},\"id\":\"1027\",\"type\":\"WheelZoomTool\"},{\"attributes\":{\"overlay\":{\"id\":\"1032\",\"type\":\"BoxAnnotation\"}},\"id\":\"1026\",\"type\":\"BoxZoomTool\"},{\"attributes\":{},\"id\":\"1021\",\"type\":\"BasicTicker\"},{\"attributes\":{\"formatter\":{\"id\":\"1240\",\"type\":\"BasicTickFormatter\"},\"plot\":{\"id\":\"1005\",\"subtype\":\"Figure\",\"type\":\"Plot\"},\"ticker\":{\"id\":\"1021\",\"type\":\"BasicTicker\"}},\"id\":\"1020\",\"type\":\"LinearAxis\"},{\"attributes\":{\"plot\":null,\"text\":\"A vs A  Color=C\"},\"id\":\"1188\",\"type\":\"Title\"},{\"attributes\":{\"below\":[{\"id\":\"1199\",\"type\":\"LinearAxis\"}],\"left\":[{\"id\":\"1204\",\"type\":\"LinearAxis\"}],\"plot_height\":200,\"plot_width\":400,\"renderers\":[{\"id\":\"1199\",\"type\":\"LinearAxis\"},{\"id\":\"1203\",\"type\":\"Grid\"},{\"id\":\"1204\",\"type\":\"LinearAxis\"},{\"id\":\"1208\",\"type\":\"Grid\"},{\"id\":\"1216\",\"type\":\"BoxAnnotation\"},{\"id\":\"1220\",\"type\":\"BoxAnnotation\"},{\"id\":\"1223\",\"type\":\"PolyAnnotation\"},{\"id\":\"1231\",\"type\":\"GlyphRenderer\"},{\"id\":\"1233\",\"type\":\"ColorBar\"}],\"right\":[{\"id\":\"1233\",\"type\":\"ColorBar\"}],\"title\":{\"id\":\"1188\",\"type\":\"Title\"},\"toolbar\":{\"id\":\"1215\",\"type\":\"Toolbar\"},\"toolbar_location\":null,\"x_range\":{\"id\":\"1007\",\"type\":\"DataRange1d\"},\"x_scale\":{\"id\":\"1195\",\"type\":\"LinearScale\"},\"y_range\":{\"id\":\"1193\",\"type\":\"DataRange1d\"},\"y_scale\":{\"id\":\"1197\",\"type\":\"LinearScale\"}},\"id\":\"1189\",\"subtype\":\"Figure\",\"type\":\"Plot\"},{\"attributes\":{\"source\":{\"id\":\"1002\",\"type\":\"ColumnDataSource\"}},\"id\":\"1186\",\"type\":\"CDSView\"},{\"attributes\":{\"color_mapper\":{\"id\":\"1003\",\"type\":\"LinearColorMapper\"},\"formatter\":{\"id\":\"1275\",\"type\":\"BasicTickFormatter\"},\"location\":[0,0],\"plot\":{\"id\":\"1143\",\"subtype\":\"Figure\",\"type\":\"Plot\"},\"ticker\":{\"id\":\"1274\",\"type\":\"BasicTicker\"},\"width\":8},\"id\":\"1187\",\"type\":\"ColorBar\"},{\"attributes\":{\"fill_alpha\":{\"value\":0.1},\"fill_color\":{\"value\":\"#1f77b4\"},\"line_alpha\":{\"value\":0.1},\"line_color\":{\"value\":\"#1f77b4\"},\"marker\":{\"value\":\"square\"},\"size\":{\"units\":\"screen\",\"value\":2},\"x\":{\"field\":\"A\"},\"y\":{\"field\":\"D\"}},\"id\":\"1184\",\"type\":\"Scatter\"},{\"attributes\":{\"data_source\":{\"id\":\"1002\",\"type\":\"ColumnDataSource\"},\"glyph\":{\"id\":\"1183\",\"type\":\"Scatter\"},\"hover_glyph\":null,\"muted_glyph\":null,\"nonselection_glyph\":{\"id\":\"1184\",\"type\":\"Scatter\"},\"selection_glyph\":null,\"view\":{\"id\":\"1186\",\"type\":\"CDSView\"}},\"id\":\"1185\",\"type\":\"GlyphRenderer\"},{\"attributes\":{\"callback\":null,\"overlay\":{\"id\":\"1039\",\"type\":\"PolyAnnotation\"}},\"id\":\"1029\",\"type\":\"LassoSelectTool\"},{\"attributes\":{\"callback\":null,\"overlay\":{\"id\":\"1036\",\"type\":\"BoxAnnotation\"}},\"id\":\"1028\",\"type\":\"BoxSelectTool\"},{\"attributes\":{\"formatter\":{\"id\":\"1264\",\"type\":\"BasicTickFormatter\"},\"plot\":{\"id\":\"1097\",\"subtype\":\"Figure\",\"type\":\"Plot\"},\"ticker\":{\"id\":\"1108\",\"type\":\"BasicTicker\"}},\"id\":\"1107\",\"type\":\"LinearAxis\"},{\"attributes\":{},\"id\":\"1105\",\"type\":\"LinearScale\"},{\"attributes\":{},\"id\":\"1103\",\"type\":\"LinearScale\"},{\"attributes\":{\"callback\":null},\"id\":\"1101\",\"type\":\"DataRange1d\"},{\"attributes\":{},\"id\":\"1108\",\"type\":\"BasicTicker\"},{\"attributes\":{\"overlay\":{\"id\":\"1170\",\"type\":\"BoxAnnotation\"}},\"id\":\"1164\",\"type\":\"BoxZoomTool\"},{\"attributes\":{},\"id\":\"1165\",\"type\":\"WheelZoomTool\"},{\"attributes\":{\"callback\":null,\"overlay\":{\"id\":\"1174\",\"type\":\"BoxAnnotation\"}},\"id\":\"1166\",\"type\":\"BoxSelectTool\"},{\"attributes\":{\"callback\":null,\"overlay\":{\"id\":\"1177\",\"type\":\"PolyAnnotation\"}},\"id\":\"1167\",\"type\":\"LassoSelectTool\"},{\"attributes\":{},\"id\":\"1209\",\"type\":\"PanTool\"},{\"attributes\":{\"dimension\":1,\"plot\":{\"id\":\"1189\",\"subtype\":\"Figure\",\"type\":\"Plot\"},\"ticker\":{\"id\":\"1205\",\"type\":\"BasicTicker\"}},\"id\":\"1208\",\"type\":\"Grid\"},{\"attributes\":{\"dimension\":1,\"plot\":{\"id\":\"1143\",\"subtype\":\"Figure\",\"type\":\"Plot\"},\"ticker\":{\"id\":\"1159\",\"type\":\"BasicTicker\"}},\"id\":\"1162\",\"type\":\"Grid\"},{\"attributes\":{},\"id\":\"1163\",\"type\":\"PanTool\"},{\"attributes\":{},\"id\":\"1205\",\"type\":\"BasicTicker\"},{\"attributes\":{\"formatter\":{\"id\":\"1292\",\"type\":\"BasicTickFormatter\"},\"plot\":{\"id\":\"1189\",\"subtype\":\"Figure\",\"type\":\"Plot\"},\"ticker\":{\"id\":\"1205\",\"type\":\"BasicTicker\"}},\"id\":\"1204\",\"type\":\"LinearAxis\"},{\"attributes\":{},\"id\":\"1168\",\"type\":\"ResetTool\"},{\"attributes\":{},\"id\":\"1200\",\"type\":\"BasicTicker\"},{\"attributes\":{\"plot\":{\"id\":\"1189\",\"subtype\":\"Figure\",\"type\":\"Plot\"},\"ticker\":{\"id\":\"1200\",\"type\":\"BasicTicker\"}},\"id\":\"1203\",\"type\":\"Grid\"},{\"attributes\":{\"formatter\":{\"id\":\"1279\",\"type\":\"BasicTickFormatter\"},\"plot\":{\"id\":\"1143\",\"subtype\":\"Figure\",\"type\":\"Plot\"},\"ticker\":{\"id\":\"1159\",\"type\":\"BasicTicker\"}},\"id\":\"1158\",\"type\":\"LinearAxis\"},{\"attributes\":{\"formatter\":{\"id\":\"1290\",\"type\":\"BasicTickFormatter\"},\"plot\":{\"id\":\"1189\",\"subtype\":\"Figure\",\"type\":\"Plot\"},\"ticker\":{\"id\":\"1200\",\"type\":\"BasicTicker\"}},\"id\":\"1199\",\"type\":\"LinearAxis\"},{\"attributes\":{\"below\":[{\"id\":\"1061\",\"type\":\"LinearAxis\"}],\"left\":[{\"id\":\"1066\",\"type\":\"LinearAxis\"}],\"plot_height\":200,\"plot_width\":400,\"renderers\":[{\"id\":\"1061\",\"type\":\"LinearAxis\"},{\"id\":\"1065\",\"type\":\"Grid\"},{\"id\":\"1066\",\"type\":\"LinearAxis\"},{\"id\":\"1070\",\"type\":\"Grid\"},{\"id\":\"1078\",\"type\":\"BoxAnnotation\"},{\"id\":\"1082\",\"type\":\"BoxAnnotation\"},{\"id\":\"1085\",\"type\":\"PolyAnnotation\"},{\"id\":\"1093\",\"type\":\"GlyphRenderer\"},{\"id\":\"1095\",\"type\":\"ColorBar\"}],\"right\":[{\"id\":\"1095\",\"type\":\"ColorBar\"}],\"title\":{\"id\":\"1050\",\"type\":\"Title\"},\"toolbar\":{\"id\":\"1077\",\"type\":\"Toolbar\"},\"toolbar_location\":null,\"x_range\":{\"id\":\"1007\",\"type\":\"DataRange1d\"},\"x_scale\":{\"id\":\"1057\",\"type\":\"LinearScale\"},\"y_range\":{\"id\":\"1055\",\"type\":\"DataRange1d\"},\"y_scale\":{\"id\":\"1059\",\"type\":\"LinearScale\"}},\"id\":\"1051\",\"subtype\":\"Figure\",\"type\":\"Plot\"},{\"attributes\":{\"callback\":null},\"id\":\"1055\",\"type\":\"DataRange1d\"},{\"attributes\":{},\"id\":\"1057\",\"type\":\"LinearScale\"},{\"attributes\":{},\"id\":\"1059\",\"type\":\"LinearScale\"},{\"attributes\":{\"callback\":null},\"id\":\"1193\",\"type\":\"DataRange1d\"},{\"attributes\":{},\"id\":\"1195\",\"type\":\"LinearScale\"},{\"attributes\":{},\"id\":\"1197\",\"type\":\"LinearScale\"},{\"attributes\":{\"plot\":{\"id\":\"1097\",\"subtype\":\"Figure\",\"type\":\"Plot\"},\"ticker\":{\"id\":\"1108\",\"type\":\"BasicTicker\"}},\"id\":\"1111\",\"type\":\"Grid\"},{\"attributes\":{},\"id\":\"1113\",\"type\":\"BasicTicker\"},{\"attributes\":{\"children\":[{\"id\":\"1005\",\"subtype\":\"Figure\",\"type\":\"Plot\"},{\"id\":\"1051\",\"subtype\":\"Figure\",\"type\":\"Plot\"},{\"id\":\"1097\",\"subtype\":\"Figure\",\"type\":\"Plot\"},{\"id\":\"1143\",\"subtype\":\"Figure\",\"type\":\"Plot\"},{\"id\":\"1189\",\"subtype\":\"Figure\",\"type\":\"Plot\"}]},\"id\":\"1299\",\"type\":\"Row\"},{\"attributes\":{},\"id\":\"1117\",\"type\":\"PanTool\"},{\"attributes\":{\"dimension\":1,\"plot\":{\"id\":\"1097\",\"subtype\":\"Figure\",\"type\":\"Plot\"},\"ticker\":{\"id\":\"1113\",\"type\":\"BasicTicker\"}},\"id\":\"1116\",\"type\":\"Grid\"},{\"attributes\":{},\"id\":\"1292\",\"type\":\"BasicTickFormatter\"},{\"attributes\":{\"overlay\":{\"id\":\"1124\",\"type\":\"BoxAnnotation\"}},\"id\":\"1118\",\"type\":\"BoxZoomTool\"},{\"attributes\":{},\"id\":\"1290\",\"type\":\"BasicTickFormatter\"},{\"attributes\":{\"fill_alpha\":{\"value\":0.5},\"fill_color\":{\"value\":\"lightgrey\"},\"level\":\"overlay\",\"line_alpha\":{\"value\":1.0},\"line_color\":{\"value\":\"black\"},\"line_dash\":[4,4],\"line_width\":{\"value\":2},\"plot\":null,\"xs_units\":\"screen\",\"ys_units\":\"screen\"},\"id\":\"1177\",\"type\":\"PolyAnnotation\"},{\"attributes\":{\"plot\":null,\"text\":\"B vs A  Color=C\"},\"id\":\"1050\",\"type\":\"Title\"},{\"attributes\":{\"bottom_units\":\"screen\",\"fill_alpha\":{\"value\":0.5},\"fill_color\":{\"value\":\"lightgrey\"},\"left_units\":\"screen\",\"level\":\"overlay\",\"line_alpha\":{\"value\":1.0},\"line_color\":{\"value\":\"black\"},\"line_dash\":[4,4],\"line_width\":{\"value\":2},\"plot\":null,\"render_mode\":\"css\",\"right_units\":\"screen\",\"top_units\":\"screen\"},\"id\":\"1174\",\"type\":\"BoxAnnotation\"},{\"attributes\":{\"bottom_units\":\"screen\",\"fill_alpha\":{\"value\":0.5},\"fill_color\":{\"value\":\"lightgrey\"},\"left_units\":\"screen\",\"level\":\"overlay\",\"line_alpha\":{\"value\":1.0},\"line_color\":{\"value\":\"black\"},\"line_dash\":[4,4],\"line_width\":{\"value\":2},\"plot\":null,\"render_mode\":\"css\",\"right_units\":\"screen\",\"top_units\":\"screen\"},\"id\":\"1170\",\"type\":\"BoxAnnotation\"},{\"attributes\":{},\"id\":\"1274\",\"type\":\"BasicTicker\"},{\"attributes\":{},\"id\":\"1275\",\"type\":\"BasicTickFormatter\"},{\"attributes\":{},\"id\":\"1277\",\"type\":\"BasicTickFormatter\"},{\"attributes\":{\"callback\":null},\"id\":\"1007\",\"type\":\"DataRange1d\"},{\"attributes\":{},\"id\":\"1287\",\"type\":\"BasicTicker\"},{\"attributes\":{\"data_source\":{\"id\":\"1002\",\"type\":\"ColumnDataSource\"},\"glyph\":{\"id\":\"1045\",\"type\":\"Scatter\"},\"hover_glyph\":null,\"muted_glyph\":null,\"nonselection_glyph\":{\"id\":\"1046\",\"type\":\"Scatter\"},\"selection_glyph\":null,\"view\":{\"id\":\"1048\",\"type\":\"CDSView\"}},\"id\":\"1047\",\"type\":\"GlyphRenderer\"},{\"attributes\":{\"fill_alpha\":{\"value\":0.1},\"fill_color\":{\"value\":\"#1f77b4\"},\"line_alpha\":{\"value\":0.1},\"line_color\":{\"value\":\"#1f77b4\"},\"marker\":{\"value\":\"square\"},\"size\":{\"units\":\"screen\",\"value\":2},\"x\":{\"field\":\"A\"},\"y\":{\"field\":\"A\"}},\"id\":\"1046\",\"type\":\"Scatter\"},{\"attributes\":{\"fill_color\":{\"field\":\"C\",\"transform\":{\"id\":\"1003\",\"type\":\"LinearColorMapper\"}},\"line_color\":{\"field\":\"C\",\"transform\":{\"id\":\"1003\",\"type\":\"LinearColorMapper\"}},\"marker\":{\"value\":\"square\"},\"size\":{\"units\":\"screen\",\"value\":2},\"x\":{\"field\":\"A\"},\"y\":{\"field\":\"A\"}},\"id\":\"1045\",\"type\":\"Scatter\"},{\"attributes\":{\"color_mapper\":{\"id\":\"1003\",\"type\":\"LinearColorMapper\"},\"formatter\":{\"id\":\"1236\",\"type\":\"BasicTickFormatter\"},\"location\":[0,0],\"plot\":{\"id\":\"1005\",\"subtype\":\"Figure\",\"type\":\"Plot\"},\"ticker\":{\"id\":\"1235\",\"type\":\"BasicTicker\"},\"width\":8},\"id\":\"1049\",\"type\":\"ColorBar\"},{\"attributes\":{\"source\":{\"id\":\"1002\",\"type\":\"ColumnDataSource\"}},\"id\":\"1048\",\"type\":\"CDSView\"},{\"attributes\":{},\"id\":\"1288\",\"type\":\"BasicTickFormatter\"}],\"root_ids\":[\"1303\"]},\"title\":\"Bokeh Application\",\"version\":\"1.0.4\"}};\n",
       "  var render_items = [{\"docid\":\"46a1d95b-12af-465d-afc5-ab11cf846077\",\"notebook_comms_target\":\"1356\",\"roots\":{\"1303\":\"82f87d05-e0e0-4860-aedb-6252d782c028\"}}];\n",
       "  root.Bokeh.embed.embed_items_notebook(docs_json, render_items);\n",
       "\n",
       "  }\n",
       "  if (root.Bokeh !== undefined) {\n",
       "    embed_document(root);\n",
       "  } else {\n",
       "    var attempts = 0;\n",
       "    var timer = setInterval(function(root) {\n",
       "      if (root.Bokeh !== undefined) {\n",
       "        embed_document(root);\n",
       "        clearInterval(timer);\n",
       "      }\n",
       "      attempts++;\n",
       "      if (attempts > 100) {\n",
       "        console.log(\"Bokeh: ERROR: Unable to run BokehJS code because BokehJS library is missing\");\n",
       "        clearInterval(timer);\n",
       "      }\n",
       "    }, 10, root)\n",
       "  }\n",
       "})(window);"
      ],
      "application/vnd.bokehjs_exec.v0+json": ""
     },
     "metadata": {
      "application/vnd.bokehjs_exec.v0+json": {
       "id": "1303"
      }
     },
     "output_type": "display_data"
    },
    {
     "data": {
      "application/vnd.jupyter.widget-view+json": {
       "model_id": "c7d7d933a1d340cfb736cb33f13eee48",
       "version_major": 2,
       "version_minor": 0
      },
      "text/plain": [
       "VkJveChjaGlsZHJlbj0oRmxvYXRSYW5nZVNsaWRlcih2YWx1ZT0oMC4wLCAxMDAuMCksIGRlc2NyaXB0aW9uPXUnQScsIGxheW91dD1MYXlvdXQod2lkdGg9dSc2NiUnKSwgbWF4PTEwMC4xLCDigKY=\n"
      ]
     },
     "metadata": {},
     "output_type": "display_data"
    }
   ],
   "source": [
    "df = pd.DataFrame(np.random.randint(0,100,size=(200, 4)), columns=list('ABCD'))\n",
    "df.head(10)\n",
    "xxx=bokehDraw(df,\"A>0\",\"A\",\"A:B:C:D:A\",\"C\",\"slider.A(0,100.1,1,0,100),slider.B(0,100,1,0,100)\",None,ncols=5,plot_width=400,commonX=1, plot_height=200)"
   ]
  },
  {
   "cell_type": "code",
   "execution_count": 3,
   "metadata": {},
   "outputs": [
    {
     "data": {
      "text/html": [
       "\n",
       "\n",
       "\n",
       "\n",
       "\n",
       "\n",
       "  <div class=\"bk-root\" id=\"8bdb2f80-99a9-4fce-97ab-f3452effa306\" data-root-id=\"2056\"></div>\n"
      ]
     },
     "metadata": {},
     "output_type": "display_data"
    },
    {
     "data": {
      "application/javascript": [
       "(function(root) {\n",
       "  function embed_document(root) {\n",
       "    \n",
       "  var docs_json = {\"739dd93f-0dd2-464f-9197-614de264663f\":{\"roots\":{\"references\":[{\"attributes\":{\"callback\":null,\"overlay\":{\"id\":\"1790\",\"type\":\"PolyAnnotation\"}},\"id\":\"1780\",\"type\":\"LassoSelectTool\"},{\"attributes\":{},\"id\":\"1781\",\"type\":\"ResetTool\"},{\"attributes\":{\"active_drag\":\"auto\",\"active_inspect\":\"auto\",\"active_multi\":null,\"active_scroll\":\"auto\",\"active_tap\":\"auto\",\"tools\":[{\"id\":\"1776\",\"type\":\"PanTool\"},{\"id\":\"1777\",\"type\":\"BoxZoomTool\"},{\"id\":\"1778\",\"type\":\"WheelZoomTool\"},{\"id\":\"1779\",\"type\":\"BoxSelectTool\"},{\"id\":\"1780\",\"type\":\"LassoSelectTool\"},{\"id\":\"1781\",\"type\":\"ResetTool\"}]},\"id\":\"1782\",\"type\":\"Toolbar\"},{\"attributes\":{\"bottom_units\":\"screen\",\"fill_alpha\":{\"value\":0.5},\"fill_color\":{\"value\":\"lightgrey\"},\"left_units\":\"screen\",\"level\":\"overlay\",\"line_alpha\":{\"value\":1.0},\"line_color\":{\"value\":\"black\"},\"line_dash\":[4,4],\"line_width\":{\"value\":2},\"plot\":null,\"render_mode\":\"css\",\"right_units\":\"screen\",\"top_units\":\"screen\"},\"id\":\"1783\",\"type\":\"BoxAnnotation\"},{\"attributes\":{\"bottom_units\":\"screen\",\"fill_alpha\":{\"value\":0.5},\"fill_color\":{\"value\":\"lightgrey\"},\"left_units\":\"screen\",\"level\":\"overlay\",\"line_alpha\":{\"value\":1.0},\"line_color\":{\"value\":\"black\"},\"line_dash\":[4,4],\"line_width\":{\"value\":2},\"plot\":null,\"render_mode\":\"css\",\"right_units\":\"screen\",\"top_units\":\"screen\"},\"id\":\"1787\",\"type\":\"BoxAnnotation\"},{\"attributes\":{},\"id\":\"1910\",\"type\":\"BasicTicker\"},{\"attributes\":{\"dimension\":1,\"plot\":{\"id\":\"1756\",\"subtype\":\"Figure\",\"type\":\"Plot\"},\"ticker\":{\"id\":\"1772\",\"type\":\"BasicTicker\"}},\"id\":\"1775\",\"type\":\"Grid\"},{\"attributes\":{\"bottom_units\":\"screen\",\"fill_alpha\":{\"value\":0.5},\"fill_color\":{\"value\":\"lightgrey\"},\"left_units\":\"screen\",\"level\":\"overlay\",\"line_alpha\":{\"value\":1.0},\"line_color\":{\"value\":\"black\"},\"line_dash\":[4,4],\"line_width\":{\"value\":2},\"plot\":null,\"render_mode\":\"css\",\"right_units\":\"screen\",\"top_units\":\"screen\"},\"id\":\"1833\",\"type\":\"BoxAnnotation\"},{\"attributes\":{\"overlay\":{\"id\":\"1783\",\"type\":\"BoxAnnotation\"}},\"id\":\"1777\",\"type\":\"BoxZoomTool\"},{\"attributes\":{},\"id\":\"1776\",\"type\":\"PanTool\"},{\"attributes\":{\"formatter\":{\"id\":\"1991\",\"type\":\"BasicTickFormatter\"},\"plot\":{\"id\":\"1756\",\"subtype\":\"Figure\",\"type\":\"Plot\"},\"ticker\":{\"id\":\"1772\",\"type\":\"BasicTicker\"}},\"id\":\"1771\",\"type\":\"LinearAxis\"},{\"attributes\":{\"plot\":{\"id\":\"1756\",\"subtype\":\"Figure\",\"type\":\"Plot\"},\"ticker\":{\"id\":\"1767\",\"type\":\"BasicTicker\"}},\"id\":\"1770\",\"type\":\"Grid\"},{\"attributes\":{},\"id\":\"1772\",\"type\":\"BasicTicker\"},{\"attributes\":{\"below\":[{\"id\":\"1950\",\"type\":\"LinearAxis\"}],\"left\":[{\"id\":\"1955\",\"type\":\"LinearAxis\"}],\"plot_height\":200,\"plot_width\":400,\"renderers\":[{\"id\":\"1950\",\"type\":\"LinearAxis\"},{\"id\":\"1954\",\"type\":\"Grid\"},{\"id\":\"1955\",\"type\":\"LinearAxis\"},{\"id\":\"1959\",\"type\":\"Grid\"},{\"id\":\"1967\",\"type\":\"BoxAnnotation\"},{\"id\":\"1971\",\"type\":\"BoxAnnotation\"},{\"id\":\"1974\",\"type\":\"PolyAnnotation\"},{\"id\":\"1982\",\"type\":\"GlyphRenderer\"},{\"id\":\"1984\",\"type\":\"ColorBar\"}],\"right\":[{\"id\":\"1984\",\"type\":\"ColorBar\"}],\"title\":{\"id\":\"1939\",\"type\":\"Title\"},\"toolbar\":{\"id\":\"1966\",\"type\":\"Toolbar\"},\"toolbar_location\":null,\"x_range\":{\"id\":\"1758\",\"type\":\"DataRange1d\"},\"x_scale\":{\"id\":\"1946\",\"type\":\"LinearScale\"},\"y_range\":{\"id\":\"1944\",\"type\":\"DataRange1d\"},\"y_scale\":{\"id\":\"1948\",\"type\":\"LinearScale\"}},\"id\":\"1940\",\"subtype\":\"Figure\",\"type\":\"Plot\"},{\"attributes\":{},\"id\":\"1946\",\"type\":\"LinearScale\"},{\"attributes\":{},\"id\":\"1778\",\"type\":\"WheelZoomTool\"},{\"attributes\":{\"callback\":null},\"id\":\"1944\",\"type\":\"DataRange1d\"},{\"attributes\":{},\"id\":\"2018\",\"type\":\"BasicTickFormatter\"},{\"attributes\":{},\"id\":\"2014\",\"type\":\"BasicTickFormatter\"},{\"attributes\":{},\"id\":\"2016\",\"type\":\"BasicTickFormatter\"},{\"attributes\":{\"children\":[{\"id\":\"1756\",\"subtype\":\"Figure\",\"type\":\"Plot\"},{\"id\":\"1802\",\"subtype\":\"Figure\",\"type\":\"Plot\"}]},\"id\":\"2011\",\"type\":\"Row\"},{\"attributes\":{},\"id\":\"2013\",\"type\":\"BasicTicker\"},{\"attributes\":{\"source\":{\"id\":\"1753\",\"type\":\"ColumnDataSource\"}},\"id\":\"1799\",\"type\":\"CDSView\"},{\"attributes\":{\"data_source\":{\"id\":\"1753\",\"type\":\"ColumnDataSource\"},\"glyph\":{\"id\":\"1796\",\"type\":\"Scatter\"},\"hover_glyph\":null,\"muted_glyph\":null,\"nonselection_glyph\":{\"id\":\"1797\",\"type\":\"Scatter\"},\"selection_glyph\":null,\"view\":{\"id\":\"1799\",\"type\":\"CDSView\"}},\"id\":\"1798\",\"type\":\"GlyphRenderer\"},{\"attributes\":{\"fill_alpha\":{\"value\":0.5},\"fill_color\":{\"value\":\"lightgrey\"},\"level\":\"overlay\",\"line_alpha\":{\"value\":1.0},\"line_color\":{\"value\":\"black\"},\"line_dash\":[4,4],\"line_width\":{\"value\":2},\"plot\":null,\"xs_units\":\"screen\",\"ys_units\":\"screen\"},\"id\":\"1790\",\"type\":\"PolyAnnotation\"},{\"attributes\":{\"fill_alpha\":{\"value\":0.1},\"fill_color\":{\"value\":\"#1f77b4\"},\"line_alpha\":{\"value\":0.1},\"line_color\":{\"value\":\"#1f77b4\"},\"marker\":{\"value\":\"square\"},\"size\":{\"units\":\"screen\",\"value\":2},\"x\":{\"field\":\"A\"},\"y\":{\"field\":\"A\"}},\"id\":\"1797\",\"type\":\"Scatter\"},{\"attributes\":{\"fill_color\":{\"field\":\"C\",\"transform\":{\"id\":\"1754\",\"type\":\"LinearColorMapper\"}},\"line_color\":{\"field\":\"C\",\"transform\":{\"id\":\"1754\",\"type\":\"LinearColorMapper\"}},\"marker\":{\"value\":\"square\"},\"size\":{\"units\":\"screen\",\"value\":2},\"x\":{\"field\":\"A\"},\"y\":{\"field\":\"A\"}},\"id\":\"1796\",\"type\":\"Scatter\"},{\"attributes\":{\"formatter\":{\"id\":\"2045\",\"type\":\"BasicTickFormatter\"},\"plot\":{\"id\":\"1940\",\"subtype\":\"Figure\",\"type\":\"Plot\"},\"ticker\":{\"id\":\"1956\",\"type\":\"BasicTicker\"}},\"id\":\"1955\",\"type\":\"LinearAxis\"},{\"attributes\":{\"plot\":{\"id\":\"1940\",\"subtype\":\"Figure\",\"type\":\"Plot\"},\"ticker\":{\"id\":\"1951\",\"type\":\"BasicTicker\"}},\"id\":\"1954\",\"type\":\"Grid\"},{\"attributes\":{},\"id\":\"1956\",\"type\":\"BasicTicker\"},{\"attributes\":{},\"id\":\"1951\",\"type\":\"BasicTicker\"},{\"attributes\":{\"formatter\":{\"id\":\"2043\",\"type\":\"BasicTickFormatter\"},\"plot\":{\"id\":\"1940\",\"subtype\":\"Figure\",\"type\":\"Plot\"},\"ticker\":{\"id\":\"1951\",\"type\":\"BasicTicker\"}},\"id\":\"1950\",\"type\":\"LinearAxis\"},{\"attributes\":{\"dimension\":1,\"plot\":{\"id\":\"1940\",\"subtype\":\"Figure\",\"type\":\"Plot\"},\"ticker\":{\"id\":\"1956\",\"type\":\"BasicTicker\"}},\"id\":\"1959\",\"type\":\"Grid\"},{\"attributes\":{\"bottom_units\":\"screen\",\"fill_alpha\":{\"value\":0.5},\"fill_color\":{\"value\":\"lightgrey\"},\"left_units\":\"screen\",\"level\":\"overlay\",\"line_alpha\":{\"value\":1.0},\"line_color\":{\"value\":\"black\"},\"line_dash\":[4,4],\"line_width\":{\"value\":2},\"plot\":null,\"render_mode\":\"css\",\"right_units\":\"screen\",\"top_units\":\"screen\"},\"id\":\"1829\",\"type\":\"BoxAnnotation\"},{\"attributes\":{\"active_drag\":\"auto\",\"active_inspect\":\"auto\",\"active_multi\":null,\"active_scroll\":\"auto\",\"active_tap\":\"auto\",\"tools\":[{\"id\":\"1822\",\"type\":\"PanTool\"},{\"id\":\"1823\",\"type\":\"BoxZoomTool\"},{\"id\":\"1824\",\"type\":\"WheelZoomTool\"},{\"id\":\"1825\",\"type\":\"BoxSelectTool\"},{\"id\":\"1826\",\"type\":\"LassoSelectTool\"},{\"id\":\"1827\",\"type\":\"ResetTool\"}]},\"id\":\"1828\",\"type\":\"Toolbar\"},{\"attributes\":{\"callback\":null,\"overlay\":{\"id\":\"1833\",\"type\":\"BoxAnnotation\"}},\"id\":\"1825\",\"type\":\"BoxSelectTool\"},{\"attributes\":{},\"id\":\"1824\",\"type\":\"WheelZoomTool\"},{\"attributes\":{},\"id\":\"1827\",\"type\":\"ResetTool\"},{\"attributes\":{\"callback\":null,\"overlay\":{\"id\":\"1836\",\"type\":\"PolyAnnotation\"}},\"id\":\"1826\",\"type\":\"LassoSelectTool\"},{\"attributes\":{\"dimension\":1,\"plot\":{\"id\":\"1802\",\"subtype\":\"Figure\",\"type\":\"Plot\"},\"ticker\":{\"id\":\"1818\",\"type\":\"BasicTicker\"}},\"id\":\"1821\",\"type\":\"Grid\"},{\"attributes\":{\"overlay\":{\"id\":\"1829\",\"type\":\"BoxAnnotation\"}},\"id\":\"1823\",\"type\":\"BoxZoomTool\"},{\"attributes\":{},\"id\":\"1822\",\"type\":\"PanTool\"},{\"attributes\":{\"plot\":{\"id\":\"1894\",\"subtype\":\"Figure\",\"type\":\"Plot\"},\"ticker\":{\"id\":\"1905\",\"type\":\"BasicTicker\"}},\"id\":\"1908\",\"type\":\"Grid\"},{\"attributes\":{\"callback\":null,\"overlay\":{\"id\":\"1879\",\"type\":\"BoxAnnotation\"}},\"id\":\"1871\",\"type\":\"BoxSelectTool\"},{\"attributes\":{\"active_drag\":\"auto\",\"active_inspect\":\"auto\",\"active_multi\":null,\"active_scroll\":\"auto\",\"active_tap\":\"auto\",\"tools\":[{\"id\":\"1914\",\"type\":\"PanTool\"},{\"id\":\"1915\",\"type\":\"BoxZoomTool\"},{\"id\":\"1916\",\"type\":\"WheelZoomTool\"},{\"id\":\"1917\",\"type\":\"BoxSelectTool\"},{\"id\":\"1918\",\"type\":\"LassoSelectTool\"},{\"id\":\"1919\",\"type\":\"ResetTool\"}]},\"id\":\"1920\",\"type\":\"Toolbar\"},{\"attributes\":{\"bottom_units\":\"screen\",\"fill_alpha\":{\"value\":0.5},\"fill_color\":{\"value\":\"lightgrey\"},\"left_units\":\"screen\",\"level\":\"overlay\",\"line_alpha\":{\"value\":1.0},\"line_color\":{\"value\":\"black\"},\"line_dash\":[4,4],\"line_width\":{\"value\":2},\"plot\":null,\"render_mode\":\"css\",\"right_units\":\"screen\",\"top_units\":\"screen\"},\"id\":\"1921\",\"type\":\"BoxAnnotation\"},{\"attributes\":{\"bottom_units\":\"screen\",\"fill_alpha\":{\"value\":0.5},\"fill_color\":{\"value\":\"lightgrey\"},\"left_units\":\"screen\",\"level\":\"overlay\",\"line_alpha\":{\"value\":1.0},\"line_color\":{\"value\":\"black\"},\"line_dash\":[4,4],\"line_width\":{\"value\":2},\"plot\":null,\"render_mode\":\"css\",\"right_units\":\"screen\",\"top_units\":\"screen\"},\"id\":\"1925\",\"type\":\"BoxAnnotation\"},{\"attributes\":{\"fill_alpha\":{\"value\":0.5},\"fill_color\":{\"value\":\"lightgrey\"},\"level\":\"overlay\",\"line_alpha\":{\"value\":1.0},\"line_color\":{\"value\":\"black\"},\"line_dash\":[4,4],\"line_width\":{\"value\":2},\"plot\":null,\"xs_units\":\"screen\",\"ys_units\":\"screen\"},\"id\":\"1928\",\"type\":\"PolyAnnotation\"},{\"attributes\":{\"formatter\":{\"id\":\"2016\",\"type\":\"BasicTickFormatter\"},\"plot\":{\"id\":\"1848\",\"subtype\":\"Figure\",\"type\":\"Plot\"},\"ticker\":{\"id\":\"1859\",\"type\":\"BasicTicker\"}},\"id\":\"1858\",\"type\":\"LinearAxis\"},{\"attributes\":{},\"id\":\"1859\",\"type\":\"BasicTicker\"},{\"attributes\":{\"callback\":null},\"id\":\"1852\",\"type\":\"DataRange1d\"},{\"attributes\":{},\"id\":\"1854\",\"type\":\"LinearScale\"},{\"attributes\":{},\"id\":\"1856\",\"type\":\"LinearScale\"},{\"attributes\":{},\"id\":\"1948\",\"type\":\"LinearScale\"},{\"attributes\":{\"source\":{\"id\":\"1753\",\"type\":\"ColumnDataSource\"}},\"id\":\"1937\",\"type\":\"CDSView\"},{\"attributes\":{\"data_source\":{\"id\":\"1753\",\"type\":\"ColumnDataSource\"},\"glyph\":{\"id\":\"1934\",\"type\":\"Scatter\"},\"hover_glyph\":null,\"muted_glyph\":null,\"nonselection_glyph\":{\"id\":\"1935\",\"type\":\"Scatter\"},\"selection_glyph\":null,\"view\":{\"id\":\"1937\",\"type\":\"CDSView\"}},\"id\":\"1936\",\"type\":\"GlyphRenderer\"},{\"attributes\":{\"fill_alpha\":{\"value\":0.1},\"fill_color\":{\"value\":\"#1f77b4\"},\"line_alpha\":{\"value\":0.1},\"line_color\":{\"value\":\"#1f77b4\"},\"marker\":{\"value\":\"square\"},\"size\":{\"units\":\"screen\",\"value\":2},\"x\":{\"field\":\"A\"},\"y\":{\"field\":\"D\"}},\"id\":\"1935\",\"type\":\"Scatter\"},{\"attributes\":{\"fill_color\":{\"field\":\"C\",\"transform\":{\"id\":\"1754\",\"type\":\"LinearColorMapper\"}},\"line_color\":{\"field\":\"C\",\"transform\":{\"id\":\"1754\",\"type\":\"LinearColorMapper\"}},\"marker\":{\"value\":\"square\"},\"size\":{\"units\":\"screen\",\"value\":2},\"x\":{\"field\":\"A\"},\"y\":{\"field\":\"D\"}},\"id\":\"1934\",\"type\":\"Scatter\"},{\"attributes\":{\"fill_alpha\":{\"value\":0.5},\"fill_color\":{\"value\":\"lightgrey\"},\"level\":\"overlay\",\"line_alpha\":{\"value\":1.0},\"line_color\":{\"value\":\"black\"},\"line_dash\":[4,4],\"line_width\":{\"value\":2},\"plot\":null,\"xs_units\":\"screen\",\"ys_units\":\"screen\"},\"id\":\"1836\",\"type\":\"PolyAnnotation\"},{\"attributes\":{\"plot\":null,\"text\":\"A vs A  Color=C\"},\"id\":\"1939\",\"type\":\"Title\"},{\"attributes\":{\"color_mapper\":{\"id\":\"1754\",\"type\":\"LinearColorMapper\"},\"formatter\":{\"id\":\"2027\",\"type\":\"BasicTickFormatter\"},\"location\":[0,0],\"plot\":{\"id\":\"1894\",\"subtype\":\"Figure\",\"type\":\"Plot\"},\"ticker\":{\"id\":\"2026\",\"type\":\"BasicTicker\"},\"width\":8},\"id\":\"1938\",\"type\":\"ColorBar\"},{\"attributes\":{\"source\":{\"id\":\"1753\",\"type\":\"ColumnDataSource\"}},\"id\":\"1983\",\"type\":\"CDSView\"},{\"attributes\":{\"below\":[{\"id\":\"1858\",\"type\":\"LinearAxis\"}],\"left\":[{\"id\":\"1863\",\"type\":\"LinearAxis\"}],\"plot_height\":200,\"plot_width\":400,\"renderers\":[{\"id\":\"1858\",\"type\":\"LinearAxis\"},{\"id\":\"1862\",\"type\":\"Grid\"},{\"id\":\"1863\",\"type\":\"LinearAxis\"},{\"id\":\"1867\",\"type\":\"Grid\"},{\"id\":\"1875\",\"type\":\"BoxAnnotation\"},{\"id\":\"1879\",\"type\":\"BoxAnnotation\"},{\"id\":\"1882\",\"type\":\"PolyAnnotation\"},{\"id\":\"1890\",\"type\":\"GlyphRenderer\"},{\"id\":\"1892\",\"type\":\"ColorBar\"}],\"right\":[{\"id\":\"1892\",\"type\":\"ColorBar\"}],\"title\":{\"id\":\"1847\",\"type\":\"Title\"},\"toolbar\":{\"id\":\"1874\",\"type\":\"Toolbar\"},\"toolbar_location\":null,\"x_range\":{\"id\":\"1758\",\"type\":\"DataRange1d\"},\"x_scale\":{\"id\":\"1854\",\"type\":\"LinearScale\"},\"y_range\":{\"id\":\"1852\",\"type\":\"DataRange1d\"},\"y_scale\":{\"id\":\"1856\",\"type\":\"LinearScale\"}},\"id\":\"1848\",\"subtype\":\"Figure\",\"type\":\"Plot\"},{\"attributes\":{},\"id\":\"2043\",\"type\":\"BasicTickFormatter\"},{\"attributes\":{},\"id\":\"2040\",\"type\":\"BasicTicker\"},{\"attributes\":{},\"id\":\"2041\",\"type\":\"BasicTickFormatter\"},{\"attributes\":{\"fill_alpha\":{\"value\":0.1},\"fill_color\":{\"value\":\"#1f77b4\"},\"line_alpha\":{\"value\":0.1},\"line_color\":{\"value\":\"#1f77b4\"},\"marker\":{\"value\":\"square\"},\"size\":{\"units\":\"screen\",\"value\":2},\"x\":{\"field\":\"A\"},\"y\":{\"field\":\"B\"}},\"id\":\"1843\",\"type\":\"Scatter\"},{\"attributes\":{\"fill_color\":{\"field\":\"C\",\"transform\":{\"id\":\"1754\",\"type\":\"LinearColorMapper\"}},\"line_color\":{\"field\":\"C\",\"transform\":{\"id\":\"1754\",\"type\":\"LinearColorMapper\"}},\"marker\":{\"value\":\"square\"},\"size\":{\"units\":\"screen\",\"value\":2},\"x\":{\"field\":\"A\"},\"y\":{\"field\":\"B\"}},\"id\":\"1842\",\"type\":\"Scatter\"},{\"attributes\":{\"children\":[{\"id\":\"2055\",\"type\":\"ToolbarBox\"},{\"id\":\"2053\",\"type\":\"Column\"}]},\"id\":\"2056\",\"type\":\"Column\"},{\"attributes\":{\"plot\":null,\"text\":\"C vs A  Color=C\"},\"id\":\"1847\",\"type\":\"Title\"},{\"attributes\":{\"color_mapper\":{\"id\":\"1754\",\"type\":\"LinearColorMapper\"},\"formatter\":{\"id\":\"2000\",\"type\":\"BasicTickFormatter\"},\"location\":[0,0],\"plot\":{\"id\":\"1802\",\"subtype\":\"Figure\",\"type\":\"Plot\"},\"ticker\":{\"id\":\"1999\",\"type\":\"BasicTicker\"},\"width\":8},\"id\":\"1846\",\"type\":\"ColorBar\"},{\"attributes\":{\"source\":{\"id\":\"1753\",\"type\":\"ColumnDataSource\"}},\"id\":\"1845\",\"type\":\"CDSView\"},{\"attributes\":{\"data_source\":{\"id\":\"1753\",\"type\":\"ColumnDataSource\"},\"glyph\":{\"id\":\"1842\",\"type\":\"Scatter\"},\"hover_glyph\":null,\"muted_glyph\":null,\"nonselection_glyph\":{\"id\":\"1843\",\"type\":\"Scatter\"},\"selection_glyph\":null,\"view\":{\"id\":\"1845\",\"type\":\"CDSView\"}},\"id\":\"1844\",\"type\":\"GlyphRenderer\"},{\"attributes\":{\"color_mapper\":{\"id\":\"1754\",\"type\":\"LinearColorMapper\"},\"formatter\":{\"id\":\"2041\",\"type\":\"BasicTickFormatter\"},\"location\":[0,0],\"plot\":{\"id\":\"1940\",\"subtype\":\"Figure\",\"type\":\"Plot\"},\"ticker\":{\"id\":\"2040\",\"type\":\"BasicTicker\"},\"width\":8},\"id\":\"1984\",\"type\":\"ColorBar\"},{\"attributes\":{\"callback\":null,\"overlay\":{\"id\":\"1787\",\"type\":\"BoxAnnotation\"}},\"id\":\"1779\",\"type\":\"BoxSelectTool\"},{\"attributes\":{\"active_drag\":\"auto\",\"active_inspect\":\"auto\",\"active_multi\":null,\"active_scroll\":\"auto\",\"active_tap\":\"auto\",\"tools\":[{\"id\":\"1868\",\"type\":\"PanTool\"},{\"id\":\"1869\",\"type\":\"BoxZoomTool\"},{\"id\":\"1870\",\"type\":\"WheelZoomTool\"},{\"id\":\"1871\",\"type\":\"BoxSelectTool\"},{\"id\":\"1872\",\"type\":\"LassoSelectTool\"},{\"id\":\"1873\",\"type\":\"ResetTool\"}]},\"id\":\"1874\",\"type\":\"Toolbar\"},{\"attributes\":{\"bottom_units\":\"screen\",\"fill_alpha\":{\"value\":0.5},\"fill_color\":{\"value\":\"lightgrey\"},\"left_units\":\"screen\",\"level\":\"overlay\",\"line_alpha\":{\"value\":1.0},\"line_color\":{\"value\":\"black\"},\"line_dash\":[4,4],\"line_width\":{\"value\":2},\"plot\":null,\"render_mode\":\"css\",\"right_units\":\"screen\",\"top_units\":\"screen\"},\"id\":\"1875\",\"type\":\"BoxAnnotation\"},{\"attributes\":{\"callback\":null,\"overlay\":{\"id\":\"1882\",\"type\":\"PolyAnnotation\"}},\"id\":\"1872\",\"type\":\"LassoSelectTool\"},{\"attributes\":{},\"id\":\"1873\",\"type\":\"ResetTool\"},{\"attributes\":{},\"id\":\"1870\",\"type\":\"WheelZoomTool\"},{\"attributes\":{\"formatter\":{\"id\":\"2031\",\"type\":\"BasicTickFormatter\"},\"plot\":{\"id\":\"1894\",\"subtype\":\"Figure\",\"type\":\"Plot\"},\"ticker\":{\"id\":\"1910\",\"type\":\"BasicTicker\"}},\"id\":\"1909\",\"type\":\"LinearAxis\"},{\"attributes\":{\"formatter\":{\"id\":\"2029\",\"type\":\"BasicTickFormatter\"},\"plot\":{\"id\":\"1894\",\"subtype\":\"Figure\",\"type\":\"Plot\"},\"ticker\":{\"id\":\"1905\",\"type\":\"BasicTicker\"}},\"id\":\"1904\",\"type\":\"LinearAxis\"},{\"attributes\":{},\"id\":\"1905\",\"type\":\"BasicTicker\"},{\"attributes\":{},\"id\":\"1902\",\"type\":\"LinearScale\"},{\"attributes\":{},\"id\":\"1900\",\"type\":\"LinearScale\"},{\"attributes\":{\"bottom_units\":\"screen\",\"fill_alpha\":{\"value\":0.5},\"fill_color\":{\"value\":\"lightgrey\"},\"left_units\":\"screen\",\"level\":\"overlay\",\"line_alpha\":{\"value\":1.0},\"line_color\":{\"value\":\"black\"},\"line_dash\":[4,4],\"line_width\":{\"value\":2},\"plot\":null,\"render_mode\":\"css\",\"right_units\":\"screen\",\"top_units\":\"screen\"},\"id\":\"1879\",\"type\":\"BoxAnnotation\"},{\"attributes\":{},\"id\":\"1986\",\"type\":\"BasicTicker\"},{\"attributes\":{},\"id\":\"1987\",\"type\":\"BasicTickFormatter\"},{\"attributes\":{\"children\":[{\"id\":\"2011\",\"type\":\"Row\"},{\"id\":\"2038\",\"type\":\"Row\"},{\"id\":\"2052\",\"type\":\"Row\"}]},\"id\":\"2053\",\"type\":\"Column\"},{\"attributes\":{\"children\":[{\"id\":\"1940\",\"subtype\":\"Figure\",\"type\":\"Plot\"}]},\"id\":\"2052\",\"type\":\"Row\"},{\"attributes\":{\"data_source\":{\"id\":\"1753\",\"type\":\"ColumnDataSource\"},\"glyph\":{\"id\":\"1980\",\"type\":\"Scatter\"},\"hover_glyph\":null,\"muted_glyph\":null,\"nonselection_glyph\":{\"id\":\"1981\",\"type\":\"Scatter\"},\"selection_glyph\":null,\"view\":{\"id\":\"1983\",\"type\":\"CDSView\"}},\"id\":\"1982\",\"type\":\"GlyphRenderer\"},{\"attributes\":{\"tools\":[{\"id\":\"1776\",\"type\":\"PanTool\"},{\"id\":\"1777\",\"type\":\"BoxZoomTool\"},{\"id\":\"1778\",\"type\":\"WheelZoomTool\"},{\"id\":\"1779\",\"type\":\"BoxSelectTool\"},{\"id\":\"1780\",\"type\":\"LassoSelectTool\"},{\"id\":\"1781\",\"type\":\"ResetTool\"},{\"id\":\"1822\",\"type\":\"PanTool\"},{\"id\":\"1823\",\"type\":\"BoxZoomTool\"},{\"id\":\"1824\",\"type\":\"WheelZoomTool\"},{\"id\":\"1825\",\"type\":\"BoxSelectTool\"},{\"id\":\"1826\",\"type\":\"LassoSelectTool\"},{\"id\":\"1827\",\"type\":\"ResetTool\"},{\"id\":\"1868\",\"type\":\"PanTool\"},{\"id\":\"1869\",\"type\":\"BoxZoomTool\"},{\"id\":\"1870\",\"type\":\"WheelZoomTool\"},{\"id\":\"1871\",\"type\":\"BoxSelectTool\"},{\"id\":\"1872\",\"type\":\"LassoSelectTool\"},{\"id\":\"1873\",\"type\":\"ResetTool\"},{\"id\":\"1914\",\"type\":\"PanTool\"},{\"id\":\"1915\",\"type\":\"BoxZoomTool\"},{\"id\":\"1916\",\"type\":\"WheelZoomTool\"},{\"id\":\"1917\",\"type\":\"BoxSelectTool\"},{\"id\":\"1918\",\"type\":\"LassoSelectTool\"},{\"id\":\"1919\",\"type\":\"ResetTool\"},{\"id\":\"1960\",\"type\":\"PanTool\"},{\"id\":\"1961\",\"type\":\"BoxZoomTool\"},{\"id\":\"1962\",\"type\":\"WheelZoomTool\"},{\"id\":\"1963\",\"type\":\"BoxSelectTool\"},{\"id\":\"1964\",\"type\":\"LassoSelectTool\"},{\"id\":\"1965\",\"type\":\"ResetTool\"}]},\"id\":\"2054\",\"type\":\"ProxyToolbar\"},{\"attributes\":{\"fill_color\":{\"field\":\"C\",\"transform\":{\"id\":\"1754\",\"type\":\"LinearColorMapper\"}},\"line_color\":{\"field\":\"C\",\"transform\":{\"id\":\"1754\",\"type\":\"LinearColorMapper\"}},\"marker\":{\"value\":\"square\"},\"size\":{\"units\":\"screen\",\"value\":2},\"x\":{\"field\":\"A\"},\"y\":{\"field\":\"A\"}},\"id\":\"1980\",\"type\":\"Scatter\"},{\"attributes\":{\"fill_alpha\":{\"value\":0.1},\"fill_color\":{\"value\":\"#1f77b4\"},\"line_alpha\":{\"value\":0.1},\"line_color\":{\"value\":\"#1f77b4\"},\"marker\":{\"value\":\"square\"},\"size\":{\"units\":\"screen\",\"value\":2},\"x\":{\"field\":\"A\"},\"y\":{\"field\":\"A\"}},\"id\":\"1981\",\"type\":\"Scatter\"},{\"attributes\":{},\"id\":\"1989\",\"type\":\"BasicTickFormatter\"},{\"attributes\":{},\"id\":\"1919\",\"type\":\"ResetTool\"},{\"attributes\":{\"callback\":null,\"overlay\":{\"id\":\"1928\",\"type\":\"PolyAnnotation\"}},\"id\":\"1918\",\"type\":\"LassoSelectTool\"},{\"attributes\":{\"formatter\":{\"id\":\"2018\",\"type\":\"BasicTickFormatter\"},\"plot\":{\"id\":\"1848\",\"subtype\":\"Figure\",\"type\":\"Plot\"},\"ticker\":{\"id\":\"1864\",\"type\":\"BasicTicker\"}},\"id\":\"1863\",\"type\":\"LinearAxis\"},{\"attributes\":{},\"id\":\"2045\",\"type\":\"BasicTickFormatter\"},{\"attributes\":{},\"id\":\"1864\",\"type\":\"BasicTicker\"},{\"attributes\":{\"dimension\":1,\"plot\":{\"id\":\"1848\",\"subtype\":\"Figure\",\"type\":\"Plot\"},\"ticker\":{\"id\":\"1864\",\"type\":\"BasicTicker\"}},\"id\":\"1867\",\"type\":\"Grid\"},{\"attributes\":{\"toolbar\":{\"id\":\"2054\",\"type\":\"ProxyToolbar\"},\"toolbar_location\":\"above\"},\"id\":\"2055\",\"type\":\"ToolbarBox\"},{\"attributes\":{\"overlay\":{\"id\":\"1875\",\"type\":\"BoxAnnotation\"}},\"id\":\"1869\",\"type\":\"BoxZoomTool\"},{\"attributes\":{},\"id\":\"1868\",\"type\":\"PanTool\"},{\"attributes\":{\"dimension\":1,\"plot\":{\"id\":\"1894\",\"subtype\":\"Figure\",\"type\":\"Plot\"},\"ticker\":{\"id\":\"1910\",\"type\":\"BasicTicker\"}},\"id\":\"1913\",\"type\":\"Grid\"},{\"attributes\":{},\"id\":\"1818\",\"type\":\"BasicTicker\"},{\"attributes\":{\"overlay\":{\"id\":\"1921\",\"type\":\"BoxAnnotation\"}},\"id\":\"1915\",\"type\":\"BoxZoomTool\"},{\"attributes\":{},\"id\":\"1914\",\"type\":\"PanTool\"},{\"attributes\":{\"callback\":null,\"overlay\":{\"id\":\"1925\",\"type\":\"BoxAnnotation\"}},\"id\":\"1917\",\"type\":\"BoxSelectTool\"},{\"attributes\":{},\"id\":\"1916\",\"type\":\"WheelZoomTool\"},{\"attributes\":{},\"id\":\"1991\",\"type\":\"BasicTickFormatter\"},{\"attributes\":{},\"id\":\"1993\",\"type\":\"UnionRenderers\"},{\"attributes\":{},\"id\":\"1992\",\"type\":\"Selection\"},{\"attributes\":{},\"id\":\"1999\",\"type\":\"BasicTicker\"},{\"attributes\":{},\"id\":\"2026\",\"type\":\"BasicTicker\"},{\"attributes\":{},\"id\":\"2027\",\"type\":\"BasicTickFormatter\"},{\"attributes\":{},\"id\":\"2029\",\"type\":\"BasicTickFormatter\"},{\"attributes\":{\"callback\":null},\"id\":\"1898\",\"type\":\"DataRange1d\"},{\"attributes\":{\"below\":[{\"id\":\"1904\",\"type\":\"LinearAxis\"}],\"left\":[{\"id\":\"1909\",\"type\":\"LinearAxis\"}],\"plot_height\":200,\"plot_width\":400,\"renderers\":[{\"id\":\"1904\",\"type\":\"LinearAxis\"},{\"id\":\"1908\",\"type\":\"Grid\"},{\"id\":\"1909\",\"type\":\"LinearAxis\"},{\"id\":\"1913\",\"type\":\"Grid\"},{\"id\":\"1921\",\"type\":\"BoxAnnotation\"},{\"id\":\"1925\",\"type\":\"BoxAnnotation\"},{\"id\":\"1928\",\"type\":\"PolyAnnotation\"},{\"id\":\"1936\",\"type\":\"GlyphRenderer\"},{\"id\":\"1938\",\"type\":\"ColorBar\"}],\"right\":[{\"id\":\"1938\",\"type\":\"ColorBar\"}],\"title\":{\"id\":\"1893\",\"type\":\"Title\"},\"toolbar\":{\"id\":\"1920\",\"type\":\"Toolbar\"},\"toolbar_location\":null,\"x_range\":{\"id\":\"1758\",\"type\":\"DataRange1d\"},\"x_scale\":{\"id\":\"1900\",\"type\":\"LinearScale\"},\"y_range\":{\"id\":\"1898\",\"type\":\"DataRange1d\"},\"y_scale\":{\"id\":\"1902\",\"type\":\"LinearScale\"}},\"id\":\"1894\",\"subtype\":\"Figure\",\"type\":\"Plot\"},{\"attributes\":{\"data_source\":{\"id\":\"1753\",\"type\":\"ColumnDataSource\"},\"glyph\":{\"id\":\"1888\",\"type\":\"Scatter\"},\"hover_glyph\":null,\"muted_glyph\":null,\"nonselection_glyph\":{\"id\":\"1889\",\"type\":\"Scatter\"},\"selection_glyph\":null,\"view\":{\"id\":\"1891\",\"type\":\"CDSView\"}},\"id\":\"1890\",\"type\":\"GlyphRenderer\"},{\"attributes\":{\"source\":{\"id\":\"1753\",\"type\":\"ColumnDataSource\"}},\"id\":\"1891\",\"type\":\"CDSView\"},{\"attributes\":{\"color_mapper\":{\"id\":\"1754\",\"type\":\"LinearColorMapper\"},\"formatter\":{\"id\":\"2014\",\"type\":\"BasicTickFormatter\"},\"location\":[0,0],\"plot\":{\"id\":\"1848\",\"subtype\":\"Figure\",\"type\":\"Plot\"},\"ticker\":{\"id\":\"2013\",\"type\":\"BasicTicker\"},\"width\":8},\"id\":\"1892\",\"type\":\"ColorBar\"},{\"attributes\":{\"plot\":null,\"text\":\"D vs A  Color=C\"},\"id\":\"1893\",\"type\":\"Title\"},{\"attributes\":{\"plot\":{\"id\":\"1802\",\"subtype\":\"Figure\",\"type\":\"Plot\"},\"ticker\":{\"id\":\"1813\",\"type\":\"BasicTicker\"}},\"id\":\"1816\",\"type\":\"Grid\"},{\"attributes\":{\"formatter\":{\"id\":\"2004\",\"type\":\"BasicTickFormatter\"},\"plot\":{\"id\":\"1802\",\"subtype\":\"Figure\",\"type\":\"Plot\"},\"ticker\":{\"id\":\"1818\",\"type\":\"BasicTicker\"}},\"id\":\"1817\",\"type\":\"LinearAxis\"},{\"attributes\":{},\"id\":\"1810\",\"type\":\"LinearScale\"},{\"attributes\":{\"formatter\":{\"id\":\"2002\",\"type\":\"BasicTickFormatter\"},\"plot\":{\"id\":\"1802\",\"subtype\":\"Figure\",\"type\":\"Plot\"},\"ticker\":{\"id\":\"1813\",\"type\":\"BasicTicker\"}},\"id\":\"1812\",\"type\":\"LinearAxis\"},{\"attributes\":{},\"id\":\"1813\",\"type\":\"BasicTicker\"},{\"attributes\":{\"callback\":null,\"overlay\":{\"id\":\"1974\",\"type\":\"PolyAnnotation\"}},\"id\":\"1964\",\"type\":\"LassoSelectTool\"},{\"attributes\":{},\"id\":\"1965\",\"type\":\"ResetTool\"},{\"attributes\":{\"active_drag\":\"auto\",\"active_inspect\":\"auto\",\"active_multi\":null,\"active_scroll\":\"auto\",\"active_tap\":\"auto\",\"tools\":[{\"id\":\"1960\",\"type\":\"PanTool\"},{\"id\":\"1961\",\"type\":\"BoxZoomTool\"},{\"id\":\"1962\",\"type\":\"WheelZoomTool\"},{\"id\":\"1963\",\"type\":\"BoxSelectTool\"},{\"id\":\"1964\",\"type\":\"LassoSelectTool\"},{\"id\":\"1965\",\"type\":\"ResetTool\"}]},\"id\":\"1966\",\"type\":\"Toolbar\"},{\"attributes\":{\"bottom_units\":\"screen\",\"fill_alpha\":{\"value\":0.5},\"fill_color\":{\"value\":\"lightgrey\"},\"left_units\":\"screen\",\"level\":\"overlay\",\"line_alpha\":{\"value\":1.0},\"line_color\":{\"value\":\"black\"},\"line_dash\":[4,4],\"line_width\":{\"value\":2},\"plot\":null,\"render_mode\":\"css\",\"right_units\":\"screen\",\"top_units\":\"screen\"},\"id\":\"1967\",\"type\":\"BoxAnnotation\"},{\"attributes\":{},\"id\":\"1960\",\"type\":\"PanTool\"},{\"attributes\":{\"overlay\":{\"id\":\"1967\",\"type\":\"BoxAnnotation\"}},\"id\":\"1961\",\"type\":\"BoxZoomTool\"},{\"attributes\":{},\"id\":\"1962\",\"type\":\"WheelZoomTool\"},{\"attributes\":{\"callback\":null,\"overlay\":{\"id\":\"1971\",\"type\":\"BoxAnnotation\"}},\"id\":\"1963\",\"type\":\"BoxSelectTool\"},{\"attributes\":{},\"id\":\"2031\",\"type\":\"BasicTickFormatter\"},{\"attributes\":{\"callback\":null},\"id\":\"1758\",\"type\":\"DataRange1d\"},{\"attributes\":{\"below\":[{\"id\":\"1766\",\"type\":\"LinearAxis\"}],\"left\":[{\"id\":\"1771\",\"type\":\"LinearAxis\"}],\"plot_height\":200,\"plot_width\":400,\"renderers\":[{\"id\":\"1766\",\"type\":\"LinearAxis\"},{\"id\":\"1770\",\"type\":\"Grid\"},{\"id\":\"1771\",\"type\":\"LinearAxis\"},{\"id\":\"1775\",\"type\":\"Grid\"},{\"id\":\"1783\",\"type\":\"BoxAnnotation\"},{\"id\":\"1787\",\"type\":\"BoxAnnotation\"},{\"id\":\"1790\",\"type\":\"PolyAnnotation\"},{\"id\":\"1798\",\"type\":\"GlyphRenderer\"},{\"id\":\"1800\",\"type\":\"ColorBar\"}],\"right\":[{\"id\":\"1800\",\"type\":\"ColorBar\"}],\"title\":{\"id\":\"1755\",\"type\":\"Title\"},\"toolbar\":{\"id\":\"1782\",\"type\":\"Toolbar\"},\"toolbar_location\":null,\"x_range\":{\"id\":\"1758\",\"type\":\"DataRange1d\"},\"x_scale\":{\"id\":\"1762\",\"type\":\"LinearScale\"},\"y_range\":{\"id\":\"1760\",\"type\":\"DataRange1d\"},\"y_scale\":{\"id\":\"1764\",\"type\":\"LinearScale\"}},\"id\":\"1756\",\"subtype\":\"Figure\",\"type\":\"Plot\"},{\"attributes\":{\"plot\":null,\"text\":\"A vs A  Color=C\"},\"id\":\"1755\",\"type\":\"Title\"},{\"attributes\":{\"high\":99,\"low\":1,\"palette\":[\"#3288bd\",\"#99d594\",\"#e6f598\",\"#fee08b\",\"#fc8d59\",\"#d53e4f\"]},\"id\":\"1754\",\"type\":\"LinearColorMapper\"},{\"attributes\":{\"callback\":null,\"data\":{\"A\":[16,1,57,72,77,52,90,40,57,22,76,65,22,78,77,24,94,69,11,61,37,77,96,71,84,57,84,84,53,44,8,65,42,68,34,52,77,45,41,42,63,44,52,33,31,10,69,96,12,77,33,6,4,48,59,90,94,99,21,98,79,58,54,18,9,57,26,70,94,54,98,90,68,31,25,87,31,9,17,3,43,44,43,7,2,90,65,62,83,86,97,27,56,82,61,67,34,17,84,83,92,92,12,82,51,77,78,47,76,83,64,97,10,41,62,22,94,89,87,79,72,47,16,64,41,34,67,65,11,85,62,36,13,90,82,97,4,95,45,11,75,43,88,67,78,57,19,57,13,39,36,60,58,90,23,49,52,55,67,3,85,3,78,31,77,87,33,37,49,92,31,22,89,74,64,5,19,69,79,40,35,5,77,94,74,39,59,76,53,4,25,60,70,26,93,29,40,96,24,20],\"B\":[11,3,10,39,38,92,64,16,64,93,82,35,34,77,95,35,79,4,52,48,62,32,67,65,58,19,76,39,24,25,33,73,92,2,90,87,24,94,39,89,19,81,53,5,44,81,70,85,29,80,1,12,40,89,27,24,41,24,35,7,40,40,90,52,97,37,34,81,75,68,17,94,8,52,87,71,53,25,65,2,25,44,48,94,34,5,73,21,4,13,63,20,87,0,12,83,48,71,33,51,52,69,66,41,10,41,44,56,21,40,7,58,37,0,43,11,35,55,19,23,64,36,6,19,19,0,52,27,97,58,85,51,47,71,51,70,43,84,65,54,15,97,67,48,18,14,78,99,50,18,16,77,24,65,60,8,9,84,75,45,57,56,33,51,2,21,74,50,69,45,5,71,69,86,86,29,14,67,71,39,74,81,12,39,22,74,72,46,52,56,31,75,80,95,62,41,5,89,13,70],\"C\":[74,13,65,22,13,15,85,97,48,94,78,81,71,86,2,32,11,68,82,97,88,60,81,69,90,83,73,13,19,89,18,1,27,4,15,16,77,25,6,33,91,18,50,39,89,93,70,8,87,34,49,55,35,79,62,85,57,84,98,93,73,99,82,12,35,79,46,51,49,20,35,88,5,79,83,37,99,97,27,44,46,84,57,53,96,7,81,18,94,88,62,70,69,74,93,63,8,58,39,7,51,61,97,55,20,76,8,51,23,57,29,6,95,13,16,80,26,7,63,56,62,89,30,82,74,95,19,41,82,60,22,59,85,57,75,13,37,3,3,81,16,22,76,68,9,74,45,17,10,88,39,88,1,64,62,47,14,6,60,48,99,78,6,58,13,74,38,1,60,11,23,94,83,61,93,75,55,31,3,24,52,35,83,77,12,2,78,27,57,16,42,45,51,79,85,90,56,73,83,67],\"D\":[37,21,66,47,56,34,59,86,40,41,57,65,56,58,11,99,80,6,61,63,95,49,53,62,58,61,28,16,41,19,25,90,38,73,14,52,72,33,16,22,60,7,5,69,15,48,91,60,23,29,65,10,38,86,34,64,98,16,21,46,43,9,73,97,0,88,26,44,21,81,10,96,42,6,33,33,16,79,40,53,14,11,92,31,95,52,9,3,83,75,20,76,23,40,78,72,15,48,53,47,2,44,90,20,29,80,70,9,94,34,3,72,34,85,58,41,54,84,96,75,4,1,51,98,0,46,6,31,97,96,62,71,52,17,20,62,11,49,96,57,28,64,30,99,95,73,94,63,93,45,72,96,98,5,55,63,3,85,31,23,2,99,93,27,40,10,91,1,2,6,28,46,88,49,79,88,12,28,63,36,21,99,93,17,48,63,0,60,20,5,16,75,58,83,55,81,60,70,12,36],\"index\":[0,1,2,3,4,5,6,7,8,9,10,11,12,13,14,15,16,17,18,19,20,21,22,23,24,25,26,27,28,29,30,31,32,33,34,35,36,37,38,39,40,41,42,43,44,45,46,47,48,49,50,51,52,53,54,55,56,57,58,59,60,61,62,63,64,65,66,67,68,69,70,71,72,73,74,75,76,77,78,79,80,81,82,83,84,85,86,87,88,89,90,91,92,93,94,95,96,97,98,99,100,101,102,103,104,105,106,107,108,109,110,111,112,113,114,115,116,117,118,119,120,121,122,123,124,125,126,127,128,129,130,131,132,133,134,135,136,137,138,139,140,141,142,143,144,145,146,147,148,149,150,151,152,153,154,155,156,157,158,159,160,161,162,163,164,165,166,167,168,169,170,171,172,173,174,175,176,177,178,179,180,181,182,183,184,185,186,187,188,189,190,191,192,193,194,195,196,197,198,199]},\"selected\":{\"id\":\"1992\",\"type\":\"Selection\"},\"selection_policy\":{\"id\":\"1993\",\"type\":\"UnionRenderers\"}},\"id\":\"1753\",\"type\":\"ColumnDataSource\"},{\"attributes\":{\"children\":[{\"id\":\"1848\",\"subtype\":\"Figure\",\"type\":\"Plot\"},{\"id\":\"1894\",\"subtype\":\"Figure\",\"type\":\"Plot\"}]},\"id\":\"2038\",\"type\":\"Row\"},{\"attributes\":{\"fill_alpha\":{\"value\":0.1},\"fill_color\":{\"value\":\"#1f77b4\"},\"line_alpha\":{\"value\":0.1},\"line_color\":{\"value\":\"#1f77b4\"},\"marker\":{\"value\":\"square\"},\"size\":{\"units\":\"screen\",\"value\":2},\"x\":{\"field\":\"A\"},\"y\":{\"field\":\"C\"}},\"id\":\"1889\",\"type\":\"Scatter\"},{\"attributes\":{\"fill_color\":{\"field\":\"C\",\"transform\":{\"id\":\"1754\",\"type\":\"LinearColorMapper\"}},\"line_color\":{\"field\":\"C\",\"transform\":{\"id\":\"1754\",\"type\":\"LinearColorMapper\"}},\"marker\":{\"value\":\"square\"},\"size\":{\"units\":\"screen\",\"value\":2},\"x\":{\"field\":\"A\"},\"y\":{\"field\":\"C\"}},\"id\":\"1888\",\"type\":\"Scatter\"},{\"attributes\":{\"fill_alpha\":{\"value\":0.5},\"fill_color\":{\"value\":\"lightgrey\"},\"level\":\"overlay\",\"line_alpha\":{\"value\":1.0},\"line_color\":{\"value\":\"black\"},\"line_dash\":[4,4],\"line_width\":{\"value\":2},\"plot\":null,\"xs_units\":\"screen\",\"ys_units\":\"screen\"},\"id\":\"1882\",\"type\":\"PolyAnnotation\"},{\"attributes\":{\"callback\":null},\"id\":\"1806\",\"type\":\"DataRange1d\"},{\"attributes\":{\"below\":[{\"id\":\"1812\",\"type\":\"LinearAxis\"}],\"left\":[{\"id\":\"1817\",\"type\":\"LinearAxis\"}],\"plot_height\":200,\"plot_width\":400,\"renderers\":[{\"id\":\"1812\",\"type\":\"LinearAxis\"},{\"id\":\"1816\",\"type\":\"Grid\"},{\"id\":\"1817\",\"type\":\"LinearAxis\"},{\"id\":\"1821\",\"type\":\"Grid\"},{\"id\":\"1829\",\"type\":\"BoxAnnotation\"},{\"id\":\"1833\",\"type\":\"BoxAnnotation\"},{\"id\":\"1836\",\"type\":\"PolyAnnotation\"},{\"id\":\"1844\",\"type\":\"GlyphRenderer\"},{\"id\":\"1846\",\"type\":\"ColorBar\"}],\"right\":[{\"id\":\"1846\",\"type\":\"ColorBar\"}],\"title\":{\"id\":\"1801\",\"type\":\"Title\"},\"toolbar\":{\"id\":\"1828\",\"type\":\"Toolbar\"},\"toolbar_location\":null,\"x_range\":{\"id\":\"1758\",\"type\":\"DataRange1d\"},\"x_scale\":{\"id\":\"1808\",\"type\":\"LinearScale\"},\"y_range\":{\"id\":\"1806\",\"type\":\"DataRange1d\"},\"y_scale\":{\"id\":\"1810\",\"type\":\"LinearScale\"}},\"id\":\"1802\",\"subtype\":\"Figure\",\"type\":\"Plot\"},{\"attributes\":{\"plot\":null,\"text\":\"B vs A  Color=C\"},\"id\":\"1801\",\"type\":\"Title\"},{\"attributes\":{\"color_mapper\":{\"id\":\"1754\",\"type\":\"LinearColorMapper\"},\"formatter\":{\"id\":\"1987\",\"type\":\"BasicTickFormatter\"},\"location\":[0,0],\"plot\":{\"id\":\"1756\",\"subtype\":\"Figure\",\"type\":\"Plot\"},\"ticker\":{\"id\":\"1986\",\"type\":\"BasicTicker\"},\"width\":8},\"id\":\"1800\",\"type\":\"ColorBar\"},{\"attributes\":{\"fill_alpha\":{\"value\":0.5},\"fill_color\":{\"value\":\"lightgrey\"},\"level\":\"overlay\",\"line_alpha\":{\"value\":1.0},\"line_color\":{\"value\":\"black\"},\"line_dash\":[4,4],\"line_width\":{\"value\":2},\"plot\":null,\"xs_units\":\"screen\",\"ys_units\":\"screen\"},\"id\":\"1974\",\"type\":\"PolyAnnotation\"},{\"attributes\":{\"bottom_units\":\"screen\",\"fill_alpha\":{\"value\":0.5},\"fill_color\":{\"value\":\"lightgrey\"},\"left_units\":\"screen\",\"level\":\"overlay\",\"line_alpha\":{\"value\":1.0},\"line_color\":{\"value\":\"black\"},\"line_dash\":[4,4],\"line_width\":{\"value\":2},\"plot\":null,\"render_mode\":\"css\",\"right_units\":\"screen\",\"top_units\":\"screen\"},\"id\":\"1971\",\"type\":\"BoxAnnotation\"},{\"attributes\":{},\"id\":\"1808\",\"type\":\"LinearScale\"},{\"attributes\":{},\"id\":\"2002\",\"type\":\"BasicTickFormatter\"},{\"attributes\":{},\"id\":\"2000\",\"type\":\"BasicTickFormatter\"},{\"attributes\":{\"plot\":{\"id\":\"1848\",\"subtype\":\"Figure\",\"type\":\"Plot\"},\"ticker\":{\"id\":\"1859\",\"type\":\"BasicTicker\"}},\"id\":\"1862\",\"type\":\"Grid\"},{\"attributes\":{},\"id\":\"2004\",\"type\":\"BasicTickFormatter\"},{\"attributes\":{},\"id\":\"1762\",\"type\":\"LinearScale\"},{\"attributes\":{\"callback\":null},\"id\":\"1760\",\"type\":\"DataRange1d\"},{\"attributes\":{\"formatter\":{\"id\":\"1989\",\"type\":\"BasicTickFormatter\"},\"plot\":{\"id\":\"1756\",\"subtype\":\"Figure\",\"type\":\"Plot\"},\"ticker\":{\"id\":\"1767\",\"type\":\"BasicTicker\"}},\"id\":\"1766\",\"type\":\"LinearAxis\"},{\"attributes\":{},\"id\":\"1767\",\"type\":\"BasicTicker\"},{\"attributes\":{},\"id\":\"1764\",\"type\":\"LinearScale\"}],\"root_ids\":[\"2056\"]},\"title\":\"Bokeh Application\",\"version\":\"1.0.4\"}};\n",
       "  var render_items = [{\"docid\":\"739dd93f-0dd2-464f-9197-614de264663f\",\"notebook_comms_target\":\"2161\",\"roots\":{\"2056\":\"8bdb2f80-99a9-4fce-97ab-f3452effa306\"}}];\n",
       "  root.Bokeh.embed.embed_items_notebook(docs_json, render_items);\n",
       "\n",
       "  }\n",
       "  if (root.Bokeh !== undefined) {\n",
       "    embed_document(root);\n",
       "  } else {\n",
       "    var attempts = 0;\n",
       "    var timer = setInterval(function(root) {\n",
       "      if (root.Bokeh !== undefined) {\n",
       "        embed_document(root);\n",
       "        clearInterval(timer);\n",
       "      }\n",
       "      attempts++;\n",
       "      if (attempts > 100) {\n",
       "        console.log(\"Bokeh: ERROR: Unable to run BokehJS code because BokehJS library is missing\");\n",
       "        clearInterval(timer);\n",
       "      }\n",
       "    }, 10, root)\n",
       "  }\n",
       "})(window);"
      ],
      "application/vnd.bokehjs_exec.v0+json": ""
     },
     "metadata": {
      "application/vnd.bokehjs_exec.v0+json": {
       "id": "2056"
      }
     },
     "output_type": "display_data"
    },
    {
     "data": {
      "application/vnd.jupyter.widget-view+json": {
       "model_id": "5319482c6722443d8d9428f4eb0ffd82",
       "version_major": 2,
       "version_minor": 0
      },
      "text/plain": [
       "VkJveChjaGlsZHJlbj0oRmxvYXRSYW5nZVNsaWRlcih2YWx1ZT0oMC4wLCAxMDAuMCksIGRlc2NyaXB0aW9uPXUnQScsIGxheW91dD1MYXlvdXQod2lkdGg9dSc2NiUnKSwgbWF4PTEwMC4xLCDigKY=\n"
      ]
     },
     "metadata": {},
     "output_type": "display_data"
    }
   ],
   "source": [
    "xxx=bokehDraw(df,\"A>0\",\"A\",\"A:B:C:D:A\",\"C\",\"slider.A(0,100.1,1,0,100),slider.B(0,100,1,0,100)\",None,ncols=2,plot_width=400,commonX=1, plot_height=200)"
   ]
  },
  {
   "cell_type": "code",
   "execution_count": null,
   "metadata": {},
   "outputs": [],
   "source": []
  },
  {
   "cell_type": "code",
   "execution_count": null,
   "metadata": {},
   "outputs": [],
   "source": []
  }
 ],
 "metadata": {
  "kernelspec": {
   "display_name": "Python 2",
   "language": "python",
   "name": "python2"
  },
  "language_info": {
   "codemirror_mode": {
    "name": "ipython",
    "version": 2
   },
   "file_extension": ".py",
   "mimetype": "text/x-python",
   "name": "python",
   "nbconvert_exporter": "python",
   "pygments_lexer": "ipython2",
   "version": "2.7.15rc1"
  }
 },
 "nbformat": 4,
 "nbformat_minor": 2
}
