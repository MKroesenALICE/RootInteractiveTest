{
 "cells": [
  {
   "cell_type": "code",
   "execution_count": 27,
   "metadata": {},
   "outputs": [
    {
     "data": {
      "text/html": [
       "\n",
       "    <div class=\"bk-root\">\n",
       "        <a href=\"https://bokeh.pydata.org\" target=\"_blank\" class=\"bk-logo bk-logo-small bk-logo-notebook\"></a>\n",
       "        <span id=\"7533\">Loading BokehJS ...</span>\n",
       "    </div>"
      ]
     },
     "metadata": {},
     "output_type": "display_data"
    },
    {
     "data": {
      "application/javascript": [
       "\n",
       "(function(root) {\n",
       "  function now() {\n",
       "    return new Date();\n",
       "  }\n",
       "\n",
       "  var force = true;\n",
       "\n",
       "  if (typeof (root._bokeh_onload_callbacks) === \"undefined\" || force === true) {\n",
       "    root._bokeh_onload_callbacks = [];\n",
       "    root._bokeh_is_loading = undefined;\n",
       "  }\n",
       "\n",
       "  var JS_MIME_TYPE = 'application/javascript';\n",
       "  var HTML_MIME_TYPE = 'text/html';\n",
       "  var EXEC_MIME_TYPE = 'application/vnd.bokehjs_exec.v0+json';\n",
       "  var CLASS_NAME = 'output_bokeh rendered_html';\n",
       "\n",
       "  /**\n",
       "   * Render data to the DOM node\n",
       "   */\n",
       "  function render(props, node) {\n",
       "    var script = document.createElement(\"script\");\n",
       "    node.appendChild(script);\n",
       "  }\n",
       "\n",
       "  /**\n",
       "   * Handle when an output is cleared or removed\n",
       "   */\n",
       "  function handleClearOutput(event, handle) {\n",
       "    var cell = handle.cell;\n",
       "\n",
       "    var id = cell.output_area._bokeh_element_id;\n",
       "    var server_id = cell.output_area._bokeh_server_id;\n",
       "    // Clean up Bokeh references\n",
       "    if (id != null && id in Bokeh.index) {\n",
       "      Bokeh.index[id].model.document.clear();\n",
       "      delete Bokeh.index[id];\n",
       "    }\n",
       "\n",
       "    if (server_id !== undefined) {\n",
       "      // Clean up Bokeh references\n",
       "      var cmd = \"from bokeh.io.state import curstate; print(curstate().uuid_to_server['\" + server_id + \"'].get_sessions()[0].document.roots[0]._id)\";\n",
       "      cell.notebook.kernel.execute(cmd, {\n",
       "        iopub: {\n",
       "          output: function(msg) {\n",
       "            var id = msg.content.text.trim();\n",
       "            if (id in Bokeh.index) {\n",
       "              Bokeh.index[id].model.document.clear();\n",
       "              delete Bokeh.index[id];\n",
       "            }\n",
       "          }\n",
       "        }\n",
       "      });\n",
       "      // Destroy server and session\n",
       "      var cmd = \"import bokeh.io.notebook as ion; ion.destroy_server('\" + server_id + \"')\";\n",
       "      cell.notebook.kernel.execute(cmd);\n",
       "    }\n",
       "  }\n",
       "\n",
       "  /**\n",
       "   * Handle when a new output is added\n",
       "   */\n",
       "  function handleAddOutput(event, handle) {\n",
       "    var output_area = handle.output_area;\n",
       "    var output = handle.output;\n",
       "\n",
       "    // limit handleAddOutput to display_data with EXEC_MIME_TYPE content only\n",
       "    if ((output.output_type != \"display_data\") || (!output.data.hasOwnProperty(EXEC_MIME_TYPE))) {\n",
       "      return\n",
       "    }\n",
       "\n",
       "    var toinsert = output_area.element.find(\".\" + CLASS_NAME.split(' ')[0]);\n",
       "\n",
       "    if (output.metadata[EXEC_MIME_TYPE][\"id\"] !== undefined) {\n",
       "      toinsert[toinsert.length - 1].firstChild.textContent = output.data[JS_MIME_TYPE];\n",
       "      // store reference to embed id on output_area\n",
       "      output_area._bokeh_element_id = output.metadata[EXEC_MIME_TYPE][\"id\"];\n",
       "    }\n",
       "    if (output.metadata[EXEC_MIME_TYPE][\"server_id\"] !== undefined) {\n",
       "      var bk_div = document.createElement(\"div\");\n",
       "      bk_div.innerHTML = output.data[HTML_MIME_TYPE];\n",
       "      var script_attrs = bk_div.children[0].attributes;\n",
       "      for (var i = 0; i < script_attrs.length; i++) {\n",
       "        toinsert[toinsert.length - 1].firstChild.setAttribute(script_attrs[i].name, script_attrs[i].value);\n",
       "      }\n",
       "      // store reference to server id on output_area\n",
       "      output_area._bokeh_server_id = output.metadata[EXEC_MIME_TYPE][\"server_id\"];\n",
       "    }\n",
       "  }\n",
       "\n",
       "  function register_renderer(events, OutputArea) {\n",
       "\n",
       "    function append_mime(data, metadata, element) {\n",
       "      // create a DOM node to render to\n",
       "      var toinsert = this.create_output_subarea(\n",
       "        metadata,\n",
       "        CLASS_NAME,\n",
       "        EXEC_MIME_TYPE\n",
       "      );\n",
       "      this.keyboard_manager.register_events(toinsert);\n",
       "      // Render to node\n",
       "      var props = {data: data, metadata: metadata[EXEC_MIME_TYPE]};\n",
       "      render(props, toinsert[toinsert.length - 1]);\n",
       "      element.append(toinsert);\n",
       "      return toinsert\n",
       "    }\n",
       "\n",
       "    /* Handle when an output is cleared or removed */\n",
       "    events.on('clear_output.CodeCell', handleClearOutput);\n",
       "    events.on('delete.Cell', handleClearOutput);\n",
       "\n",
       "    /* Handle when a new output is added */\n",
       "    events.on('output_added.OutputArea', handleAddOutput);\n",
       "\n",
       "    /**\n",
       "     * Register the mime type and append_mime function with output_area\n",
       "     */\n",
       "    OutputArea.prototype.register_mime_type(EXEC_MIME_TYPE, append_mime, {\n",
       "      /* Is output safe? */\n",
       "      safe: true,\n",
       "      /* Index of renderer in `output_area.display_order` */\n",
       "      index: 0\n",
       "    });\n",
       "  }\n",
       "\n",
       "  // register the mime type if in Jupyter Notebook environment and previously unregistered\n",
       "  if (root.Jupyter !== undefined) {\n",
       "    var events = require('base/js/events');\n",
       "    var OutputArea = require('notebook/js/outputarea').OutputArea;\n",
       "\n",
       "    if (OutputArea.prototype.mime_types().indexOf(EXEC_MIME_TYPE) == -1) {\n",
       "      register_renderer(events, OutputArea);\n",
       "    }\n",
       "  }\n",
       "\n",
       "  \n",
       "  if (typeof (root._bokeh_timeout) === \"undefined\" || force === true) {\n",
       "    root._bokeh_timeout = Date.now() + 5000;\n",
       "    root._bokeh_failed_load = false;\n",
       "  }\n",
       "\n",
       "  var NB_LOAD_WARNING = {'data': {'text/html':\n",
       "     \"<div style='background-color: #fdd'>\\n\"+\n",
       "     \"<p>\\n\"+\n",
       "     \"BokehJS does not appear to have successfully loaded. If loading BokehJS from CDN, this \\n\"+\n",
       "     \"may be due to a slow or bad network connection. Possible fixes:\\n\"+\n",
       "     \"</p>\\n\"+\n",
       "     \"<ul>\\n\"+\n",
       "     \"<li>re-rerun `output_notebook()` to attempt to load from CDN again, or</li>\\n\"+\n",
       "     \"<li>use INLINE resources instead, as so:</li>\\n\"+\n",
       "     \"</ul>\\n\"+\n",
       "     \"<code>\\n\"+\n",
       "     \"from bokeh.resources import INLINE\\n\"+\n",
       "     \"output_notebook(resources=INLINE)\\n\"+\n",
       "     \"</code>\\n\"+\n",
       "     \"</div>\"}};\n",
       "\n",
       "  function display_loaded() {\n",
       "    var el = document.getElementById(\"7533\");\n",
       "    if (el != null) {\n",
       "      el.textContent = \"BokehJS is loading...\";\n",
       "    }\n",
       "    if (root.Bokeh !== undefined) {\n",
       "      if (el != null) {\n",
       "        el.textContent = \"BokehJS \" + root.Bokeh.version + \" successfully loaded.\";\n",
       "      }\n",
       "    } else if (Date.now() < root._bokeh_timeout) {\n",
       "      setTimeout(display_loaded, 100)\n",
       "    }\n",
       "  }\n",
       "\n",
       "\n",
       "  function run_callbacks() {\n",
       "    try {\n",
       "      root._bokeh_onload_callbacks.forEach(function(callback) { callback() });\n",
       "    }\n",
       "    finally {\n",
       "      delete root._bokeh_onload_callbacks\n",
       "    }\n",
       "    console.info(\"Bokeh: all callbacks have finished\");\n",
       "  }\n",
       "\n",
       "  function load_libs(js_urls, callback) {\n",
       "    root._bokeh_onload_callbacks.push(callback);\n",
       "    if (root._bokeh_is_loading > 0) {\n",
       "      console.log(\"Bokeh: BokehJS is being loaded, scheduling callback at\", now());\n",
       "      return null;\n",
       "    }\n",
       "    if (js_urls == null || js_urls.length === 0) {\n",
       "      run_callbacks();\n",
       "      return null;\n",
       "    }\n",
       "    console.log(\"Bokeh: BokehJS not loaded, scheduling load and callback at\", now());\n",
       "    root._bokeh_is_loading = js_urls.length;\n",
       "    for (var i = 0; i < js_urls.length; i++) {\n",
       "      var url = js_urls[i];\n",
       "      var s = document.createElement('script');\n",
       "      s.src = url;\n",
       "      s.async = false;\n",
       "      s.onreadystatechange = s.onload = function() {\n",
       "        root._bokeh_is_loading--;\n",
       "        if (root._bokeh_is_loading === 0) {\n",
       "          console.log(\"Bokeh: all BokehJS libraries loaded\");\n",
       "          run_callbacks()\n",
       "        }\n",
       "      };\n",
       "      s.onerror = function() {\n",
       "        console.warn(\"failed to load library \" + url);\n",
       "      };\n",
       "      console.log(\"Bokeh: injecting script tag for BokehJS library: \", url);\n",
       "      document.getElementsByTagName(\"head\")[0].appendChild(s);\n",
       "    }\n",
       "  };var element = document.getElementById(\"7533\");\n",
       "  if (element == null) {\n",
       "    console.log(\"Bokeh: ERROR: autoload.js configured with elementid '7533' but no matching script tag was found. \")\n",
       "    return false;\n",
       "  }\n",
       "\n",
       "  var js_urls = [\"https://cdn.pydata.org/bokeh/release/bokeh-1.0.1.min.js\", \"https://cdn.pydata.org/bokeh/release/bokeh-widgets-1.0.1.min.js\", \"https://cdn.pydata.org/bokeh/release/bokeh-tables-1.0.1.min.js\", \"https://cdn.pydata.org/bokeh/release/bokeh-gl-1.0.1.min.js\"];\n",
       "\n",
       "  var inline_js = [\n",
       "    function(Bokeh) {\n",
       "      Bokeh.set_log_level(\"info\");\n",
       "    },\n",
       "    \n",
       "    function(Bokeh) {\n",
       "      \n",
       "    },\n",
       "    function(Bokeh) {\n",
       "      console.log(\"Bokeh: injecting CSS: https://cdn.pydata.org/bokeh/release/bokeh-1.0.1.min.css\");\n",
       "      Bokeh.embed.inject_css(\"https://cdn.pydata.org/bokeh/release/bokeh-1.0.1.min.css\");\n",
       "      console.log(\"Bokeh: injecting CSS: https://cdn.pydata.org/bokeh/release/bokeh-widgets-1.0.1.min.css\");\n",
       "      Bokeh.embed.inject_css(\"https://cdn.pydata.org/bokeh/release/bokeh-widgets-1.0.1.min.css\");\n",
       "      console.log(\"Bokeh: injecting CSS: https://cdn.pydata.org/bokeh/release/bokeh-tables-1.0.1.min.css\");\n",
       "      Bokeh.embed.inject_css(\"https://cdn.pydata.org/bokeh/release/bokeh-tables-1.0.1.min.css\");\n",
       "    }\n",
       "  ];\n",
       "\n",
       "  function run_inline_js() {\n",
       "    \n",
       "    if ((root.Bokeh !== undefined) || (force === true)) {\n",
       "      for (var i = 0; i < inline_js.length; i++) {\n",
       "        inline_js[i].call(root, root.Bokeh);\n",
       "      }if (force === true) {\n",
       "        display_loaded();\n",
       "      }} else if (Date.now() < root._bokeh_timeout) {\n",
       "      setTimeout(run_inline_js, 100);\n",
       "    } else if (!root._bokeh_failed_load) {\n",
       "      console.log(\"Bokeh: BokehJS failed to load within specified timeout.\");\n",
       "      root._bokeh_failed_load = true;\n",
       "    } else if (force !== true) {\n",
       "      var cell = $(document.getElementById(\"7533\")).parents('.cell').data().cell;\n",
       "      cell.output_area.append_execute_result(NB_LOAD_WARNING)\n",
       "    }\n",
       "\n",
       "  }\n",
       "\n",
       "  if (root._bokeh_is_loading === 0) {\n",
       "    console.log(\"Bokeh: BokehJS loaded, going straight to plotting\");\n",
       "    run_inline_js();\n",
       "  } else {\n",
       "    load_libs(js_urls, function() {\n",
       "      console.log(\"Bokeh: BokehJS plotting callback run at\", now());\n",
       "      run_inline_js();\n",
       "    });\n",
       "  }\n",
       "}(window));"
      ],
      "application/vnd.bokehjs_load.v0+json": "\n(function(root) {\n  function now() {\n    return new Date();\n  }\n\n  var force = true;\n\n  if (typeof (root._bokeh_onload_callbacks) === \"undefined\" || force === true) {\n    root._bokeh_onload_callbacks = [];\n    root._bokeh_is_loading = undefined;\n  }\n\n  \n\n  \n  if (typeof (root._bokeh_timeout) === \"undefined\" || force === true) {\n    root._bokeh_timeout = Date.now() + 5000;\n    root._bokeh_failed_load = false;\n  }\n\n  var NB_LOAD_WARNING = {'data': {'text/html':\n     \"<div style='background-color: #fdd'>\\n\"+\n     \"<p>\\n\"+\n     \"BokehJS does not appear to have successfully loaded. If loading BokehJS from CDN, this \\n\"+\n     \"may be due to a slow or bad network connection. Possible fixes:\\n\"+\n     \"</p>\\n\"+\n     \"<ul>\\n\"+\n     \"<li>re-rerun `output_notebook()` to attempt to load from CDN again, or</li>\\n\"+\n     \"<li>use INLINE resources instead, as so:</li>\\n\"+\n     \"</ul>\\n\"+\n     \"<code>\\n\"+\n     \"from bokeh.resources import INLINE\\n\"+\n     \"output_notebook(resources=INLINE)\\n\"+\n     \"</code>\\n\"+\n     \"</div>\"}};\n\n  function display_loaded() {\n    var el = document.getElementById(\"7533\");\n    if (el != null) {\n      el.textContent = \"BokehJS is loading...\";\n    }\n    if (root.Bokeh !== undefined) {\n      if (el != null) {\n        el.textContent = \"BokehJS \" + root.Bokeh.version + \" successfully loaded.\";\n      }\n    } else if (Date.now() < root._bokeh_timeout) {\n      setTimeout(display_loaded, 100)\n    }\n  }\n\n\n  function run_callbacks() {\n    try {\n      root._bokeh_onload_callbacks.forEach(function(callback) { callback() });\n    }\n    finally {\n      delete root._bokeh_onload_callbacks\n    }\n    console.info(\"Bokeh: all callbacks have finished\");\n  }\n\n  function load_libs(js_urls, callback) {\n    root._bokeh_onload_callbacks.push(callback);\n    if (root._bokeh_is_loading > 0) {\n      console.log(\"Bokeh: BokehJS is being loaded, scheduling callback at\", now());\n      return null;\n    }\n    if (js_urls == null || js_urls.length === 0) {\n      run_callbacks();\n      return null;\n    }\n    console.log(\"Bokeh: BokehJS not loaded, scheduling load and callback at\", now());\n    root._bokeh_is_loading = js_urls.length;\n    for (var i = 0; i < js_urls.length; i++) {\n      var url = js_urls[i];\n      var s = document.createElement('script');\n      s.src = url;\n      s.async = false;\n      s.onreadystatechange = s.onload = function() {\n        root._bokeh_is_loading--;\n        if (root._bokeh_is_loading === 0) {\n          console.log(\"Bokeh: all BokehJS libraries loaded\");\n          run_callbacks()\n        }\n      };\n      s.onerror = function() {\n        console.warn(\"failed to load library \" + url);\n      };\n      console.log(\"Bokeh: injecting script tag for BokehJS library: \", url);\n      document.getElementsByTagName(\"head\")[0].appendChild(s);\n    }\n  };var element = document.getElementById(\"7533\");\n  if (element == null) {\n    console.log(\"Bokeh: ERROR: autoload.js configured with elementid '7533' but no matching script tag was found. \")\n    return false;\n  }\n\n  var js_urls = [\"https://cdn.pydata.org/bokeh/release/bokeh-1.0.1.min.js\", \"https://cdn.pydata.org/bokeh/release/bokeh-widgets-1.0.1.min.js\", \"https://cdn.pydata.org/bokeh/release/bokeh-tables-1.0.1.min.js\", \"https://cdn.pydata.org/bokeh/release/bokeh-gl-1.0.1.min.js\"];\n\n  var inline_js = [\n    function(Bokeh) {\n      Bokeh.set_log_level(\"info\");\n    },\n    \n    function(Bokeh) {\n      \n    },\n    function(Bokeh) {\n      console.log(\"Bokeh: injecting CSS: https://cdn.pydata.org/bokeh/release/bokeh-1.0.1.min.css\");\n      Bokeh.embed.inject_css(\"https://cdn.pydata.org/bokeh/release/bokeh-1.0.1.min.css\");\n      console.log(\"Bokeh: injecting CSS: https://cdn.pydata.org/bokeh/release/bokeh-widgets-1.0.1.min.css\");\n      Bokeh.embed.inject_css(\"https://cdn.pydata.org/bokeh/release/bokeh-widgets-1.0.1.min.css\");\n      console.log(\"Bokeh: injecting CSS: https://cdn.pydata.org/bokeh/release/bokeh-tables-1.0.1.min.css\");\n      Bokeh.embed.inject_css(\"https://cdn.pydata.org/bokeh/release/bokeh-tables-1.0.1.min.css\");\n    }\n  ];\n\n  function run_inline_js() {\n    \n    if ((root.Bokeh !== undefined) || (force === true)) {\n      for (var i = 0; i < inline_js.length; i++) {\n        inline_js[i].call(root, root.Bokeh);\n      }if (force === true) {\n        display_loaded();\n      }} else if (Date.now() < root._bokeh_timeout) {\n      setTimeout(run_inline_js, 100);\n    } else if (!root._bokeh_failed_load) {\n      console.log(\"Bokeh: BokehJS failed to load within specified timeout.\");\n      root._bokeh_failed_load = true;\n    } else if (force !== true) {\n      var cell = $(document.getElementById(\"7533\")).parents('.cell').data().cell;\n      cell.output_area.append_execute_result(NB_LOAD_WARNING)\n    }\n\n  }\n\n  if (root._bokeh_is_loading === 0) {\n    console.log(\"Bokeh: BokehJS loaded, going straight to plotting\");\n    run_inline_js();\n  } else {\n    load_libs(js_urls, function() {\n      console.log(\"Bokeh: BokehJS plotting callback run at\", now());\n      run_inline_js();\n    });\n  }\n}(window));"
     },
     "metadata": {},
     "output_type": "display_data"
    }
   ],
   "source": [
    "from MLpipeline.NDFunctionInterface import DataContainer, Fitter\n",
    "from TTreeHnInteractive.TTreeHnBrowser import *\n",
    "from InteractiveDrawing.bokeh.bokehTools import *\n",
    "from InteractiveDrawing.bokeh.bokehDraw import *\n",
    "from Tools.aliTreePlayer import readDataFrameURL\n",
    "from bokeh.layouts import layout\n",
    "output_notebook()"
   ]
  },
  {
   "cell_type": "code",
   "execution_count": 41,
   "metadata": {},
   "outputs": [
    {
     "data": {
      "text/html": [
       "\n",
       "\n",
       "\n",
       "\n",
       "\n",
       "\n",
       "  <div class=\"bk-root\" id=\"91cdef24-a203-4212-9915-d6dfc9715701\"></div>\n"
      ]
     },
     "metadata": {},
     "output_type": "display_data"
    },
    {
     "data": {
      "application/javascript": [
       "(function(root) {\n",
       "  function embed_document(root) {\n",
       "    \n",
       "  var docs_json = {\"da691103-1014-4227-98f4-909f45f1057e\":{\"roots\":{\"references\":[{\"attributes\":{\"bottom_units\":\"screen\",\"fill_alpha\":{\"value\":0.5},\"fill_color\":{\"value\":\"lightgrey\"},\"left_units\":\"screen\",\"level\":\"overlay\",\"line_alpha\":{\"value\":1.0},\"line_color\":{\"value\":\"black\"},\"line_dash\":[4,4],\"line_width\":{\"value\":2},\"plot\":null,\"render_mode\":\"css\",\"right_units\":\"screen\",\"top_units\":\"screen\"},\"id\":\"18091\",\"type\":\"BoxAnnotation\"},{\"attributes\":{\"fill_alpha\":{\"value\":0.5},\"fill_color\":{\"value\":\"lightgrey\"},\"level\":\"overlay\",\"line_alpha\":{\"value\":1.0},\"line_color\":{\"value\":\"black\"},\"line_dash\":[4,4],\"line_width\":{\"value\":2},\"plot\":null,\"xs_units\":\"screen\",\"ys_units\":\"screen\"},\"id\":\"18094\",\"type\":\"PolyAnnotation\"},{\"attributes\":{\"plot\":null,\"text\":\"B vs A  Color=C\"},\"id\":\"18013\",\"type\":\"Title\"},{\"attributes\":{\"color_mapper\":{\"id\":\"17966\",\"type\":\"LinearColorMapper\"},\"formatter\":{\"id\":\"18199\",\"type\":\"BasicTickFormatter\"},\"location\":[0,0],\"plot\":{\"id\":\"17968\",\"subtype\":\"Figure\",\"type\":\"Plot\"},\"ticker\":{\"id\":\"18198\",\"type\":\"BasicTicker\"},\"width\":8},\"id\":\"18012\",\"type\":\"ColorBar\"},{\"attributes\":{},\"id\":\"18158\",\"type\":\"LinearScale\"},{\"attributes\":{\"data_source\":{\"id\":\"17965\",\"type\":\"ColumnDataSource\"},\"glyph\":{\"id\":\"18008\",\"type\":\"Circle\"},\"hover_glyph\":null,\"muted_glyph\":null,\"nonselection_glyph\":{\"id\":\"18009\",\"type\":\"Circle\"},\"selection_glyph\":null,\"view\":{\"id\":\"18011\",\"type\":\"CDSView\"}},\"id\":\"18010\",\"type\":\"GlyphRenderer\"},{\"attributes\":{\"below\":[{\"id\":\"18024\",\"type\":\"LinearAxis\"}],\"left\":[{\"id\":\"18029\",\"type\":\"LinearAxis\"}],\"plot_height\":200,\"plot_width\":400,\"renderers\":[{\"id\":\"18024\",\"type\":\"LinearAxis\"},{\"id\":\"18028\",\"type\":\"Grid\"},{\"id\":\"18029\",\"type\":\"LinearAxis\"},{\"id\":\"18033\",\"type\":\"Grid\"},{\"id\":\"18041\",\"type\":\"BoxAnnotation\"},{\"id\":\"18045\",\"type\":\"BoxAnnotation\"},{\"id\":\"18048\",\"type\":\"PolyAnnotation\"},{\"id\":\"18056\",\"type\":\"GlyphRenderer\"},{\"id\":\"18058\",\"type\":\"ColorBar\"}],\"right\":[{\"id\":\"18058\",\"type\":\"ColorBar\"}],\"title\":{\"id\":\"18013\",\"type\":\"Title\"},\"toolbar\":{\"id\":\"18040\",\"type\":\"Toolbar\"},\"toolbar_location\":null,\"x_range\":{\"id\":\"17970\",\"type\":\"DataRange1d\"},\"x_scale\":{\"id\":\"18020\",\"type\":\"LinearScale\"},\"y_range\":{\"id\":\"18018\",\"type\":\"DataRange1d\"},\"y_scale\":{\"id\":\"18022\",\"type\":\"LinearScale\"}},\"id\":\"18014\",\"subtype\":\"Figure\",\"type\":\"Plot\"},{\"attributes\":{\"below\":[{\"id\":\"18162\",\"type\":\"LinearAxis\"}],\"left\":[{\"id\":\"18167\",\"type\":\"LinearAxis\"}],\"plot_height\":200,\"plot_width\":400,\"renderers\":[{\"id\":\"18162\",\"type\":\"LinearAxis\"},{\"id\":\"18166\",\"type\":\"Grid\"},{\"id\":\"18167\",\"type\":\"LinearAxis\"},{\"id\":\"18171\",\"type\":\"Grid\"},{\"id\":\"18179\",\"type\":\"BoxAnnotation\"},{\"id\":\"18183\",\"type\":\"BoxAnnotation\"},{\"id\":\"18186\",\"type\":\"PolyAnnotation\"},{\"id\":\"18194\",\"type\":\"GlyphRenderer\"},{\"id\":\"18196\",\"type\":\"ColorBar\"}],\"right\":[{\"id\":\"18196\",\"type\":\"ColorBar\"}],\"title\":{\"id\":\"18151\",\"type\":\"Title\"},\"toolbar\":{\"id\":\"18178\",\"type\":\"Toolbar\"},\"toolbar_location\":null,\"x_range\":{\"id\":\"17970\",\"type\":\"DataRange1d\"},\"x_scale\":{\"id\":\"18158\",\"type\":\"LinearScale\"},\"y_range\":{\"id\":\"18156\",\"type\":\"DataRange1d\"},\"y_scale\":{\"id\":\"18160\",\"type\":\"LinearScale\"}},\"id\":\"18152\",\"subtype\":\"Figure\",\"type\":\"Plot\"},{\"attributes\":{\"color_mapper\":{\"id\":\"17966\",\"type\":\"LinearColorMapper\"},\"formatter\":{\"id\":\"18238\",\"type\":\"BasicTickFormatter\"},\"location\":[0,0],\"plot\":{\"id\":\"18106\",\"subtype\":\"Figure\",\"type\":\"Plot\"},\"ticker\":{\"id\":\"18237\",\"type\":\"BasicTicker\"},\"width\":8},\"id\":\"18150\",\"type\":\"ColorBar\"},{\"attributes\":{\"plot\":null,\"text\":\"A vs A  Color=C\"},\"id\":\"18151\",\"type\":\"Title\"},{\"attributes\":{\"callback\":null},\"id\":\"18156\",\"type\":\"DataRange1d\"},{\"attributes\":{},\"id\":\"18242\",\"type\":\"BasicTickFormatter\"},{\"attributes\":{},\"id\":\"18240\",\"type\":\"BasicTickFormatter\"},{\"attributes\":{},\"id\":\"18224\",\"type\":\"BasicTicker\"},{\"attributes\":{},\"id\":\"18225\",\"type\":\"BasicTickFormatter\"},{\"attributes\":{},\"id\":\"18227\",\"type\":\"BasicTickFormatter\"},{\"attributes\":{},\"id\":\"18229\",\"type\":\"BasicTickFormatter\"},{\"attributes\":{\"formatter\":{\"id\":\"18255\",\"type\":\"BasicTickFormatter\"},\"plot\":{\"id\":\"18152\",\"subtype\":\"Figure\",\"type\":\"Plot\"},\"ticker\":{\"id\":\"18168\",\"type\":\"BasicTicker\"}},\"id\":\"18167\",\"type\":\"LinearAxis\"},{\"attributes\":{\"plot\":{\"id\":\"18152\",\"subtype\":\"Figure\",\"type\":\"Plot\"},\"ticker\":{\"id\":\"18163\",\"type\":\"BasicTicker\"}},\"id\":\"18166\",\"type\":\"Grid\"},{\"attributes\":{},\"id\":\"18216\",\"type\":\"BasicTickFormatter\"},{\"attributes\":{},\"id\":\"18163\",\"type\":\"BasicTicker\"},{\"attributes\":{\"formatter\":{\"id\":\"18253\",\"type\":\"BasicTickFormatter\"},\"plot\":{\"id\":\"18152\",\"subtype\":\"Figure\",\"type\":\"Plot\"},\"ticker\":{\"id\":\"18163\",\"type\":\"BasicTicker\"}},\"id\":\"18162\",\"type\":\"LinearAxis\"},{\"attributes\":{},\"id\":\"18160\",\"type\":\"LinearScale\"},{\"attributes\":{},\"id\":\"18211\",\"type\":\"BasicTicker\"},{\"attributes\":{},\"id\":\"18168\",\"type\":\"BasicTicker\"},{\"attributes\":{\"fill_color\":{\"field\":\"C\",\"transform\":{\"id\":\"17966\",\"type\":\"LinearColorMapper\"}},\"line_color\":{\"field\":\"C\",\"transform\":{\"id\":\"17966\",\"type\":\"LinearColorMapper\"}},\"size\":{\"units\":\"screen\",\"value\":2},\"x\":{\"field\":\"A\"},\"y\":{\"field\":\"A\"}},\"id\":\"18008\",\"type\":\"Circle\"},{\"attributes\":{\"fill_alpha\":{\"value\":0.1},\"fill_color\":{\"value\":\"#1f77b4\"},\"line_alpha\":{\"value\":0.1},\"line_color\":{\"value\":\"#1f77b4\"},\"size\":{\"units\":\"screen\",\"value\":2},\"x\":{\"field\":\"A\"},\"y\":{\"field\":\"A\"}},\"id\":\"18009\",\"type\":\"Circle\"},{\"attributes\":{},\"id\":\"18212\",\"type\":\"BasicTickFormatter\"},{\"attributes\":{\"fill_alpha\":{\"value\":0.5},\"fill_color\":{\"value\":\"lightgrey\"},\"level\":\"overlay\",\"line_alpha\":{\"value\":1.0},\"line_color\":{\"value\":\"black\"},\"line_dash\":[4,4],\"line_width\":{\"value\":2},\"plot\":null,\"xs_units\":\"screen\",\"ys_units\":\"screen\"},\"id\":\"18002\",\"type\":\"PolyAnnotation\"},{\"attributes\":{\"bottom_units\":\"screen\",\"fill_alpha\":{\"value\":0.5},\"fill_color\":{\"value\":\"lightgrey\"},\"left_units\":\"screen\",\"level\":\"overlay\",\"line_alpha\":{\"value\":1.0},\"line_color\":{\"value\":\"black\"},\"line_dash\":[4,4],\"line_width\":{\"value\":2},\"plot\":null,\"render_mode\":\"css\",\"right_units\":\"screen\",\"top_units\":\"screen\"},\"id\":\"17995\",\"type\":\"BoxAnnotation\"},{\"attributes\":{\"active_drag\":\"auto\",\"active_inspect\":\"auto\",\"active_multi\":null,\"active_scroll\":\"auto\",\"active_tap\":\"auto\",\"tools\":[{\"id\":\"17988\",\"type\":\"PanTool\"},{\"id\":\"17989\",\"type\":\"BoxZoomTool\"},{\"id\":\"17990\",\"type\":\"WheelZoomTool\"},{\"id\":\"17991\",\"type\":\"BoxSelectTool\"},{\"id\":\"17992\",\"type\":\"LassoSelectTool\"},{\"id\":\"17993\",\"type\":\"ResetTool\"}]},\"id\":\"17994\",\"type\":\"Toolbar\"},{\"attributes\":{},\"id\":\"17993\",\"type\":\"ResetTool\"},{\"attributes\":{\"callback\":null,\"overlay\":{\"id\":\"18002\",\"type\":\"PolyAnnotation\"}},\"id\":\"17992\",\"type\":\"LassoSelectTool\"},{\"attributes\":{\"callback\":null,\"overlay\":{\"id\":\"17999\",\"type\":\"BoxAnnotation\"}},\"id\":\"17991\",\"type\":\"BoxSelectTool\"},{\"attributes\":{},\"id\":\"17990\",\"type\":\"WheelZoomTool\"},{\"attributes\":{\"source\":{\"id\":\"17965\",\"type\":\"ColumnDataSource\"}},\"id\":\"18011\",\"type\":\"CDSView\"},{\"attributes\":{\"bottom_units\":\"screen\",\"fill_alpha\":{\"value\":0.5},\"fill_color\":{\"value\":\"lightgrey\"},\"left_units\":\"screen\",\"level\":\"overlay\",\"line_alpha\":{\"value\":1.0},\"line_color\":{\"value\":\"black\"},\"line_dash\":[4,4],\"line_width\":{\"value\":2},\"plot\":null,\"render_mode\":\"css\",\"right_units\":\"screen\",\"top_units\":\"screen\"},\"id\":\"17999\",\"type\":\"BoxAnnotation\"},{\"attributes\":{},\"id\":\"18251\",\"type\":\"BasicTickFormatter\"},{\"attributes\":{},\"id\":\"18250\",\"type\":\"BasicTicker\"},{\"attributes\":{},\"id\":\"18253\",\"type\":\"BasicTickFormatter\"},{\"attributes\":{},\"id\":\"18255\",\"type\":\"BasicTickFormatter\"},{\"attributes\":{\"dimension\":1,\"plot\":{\"id\":\"18152\",\"subtype\":\"Figure\",\"type\":\"Plot\"},\"ticker\":{\"id\":\"18168\",\"type\":\"BasicTicker\"}},\"id\":\"18171\",\"type\":\"Grid\"},{\"attributes\":{},\"id\":\"18172\",\"type\":\"PanTool\"},{\"attributes\":{\"overlay\":{\"id\":\"18179\",\"type\":\"BoxAnnotation\"}},\"id\":\"18173\",\"type\":\"BoxZoomTool\"},{\"attributes\":{},\"id\":\"18174\",\"type\":\"WheelZoomTool\"},{\"attributes\":{\"callback\":null,\"overlay\":{\"id\":\"18183\",\"type\":\"BoxAnnotation\"}},\"id\":\"18175\",\"type\":\"BoxSelectTool\"},{\"attributes\":{\"callback\":null,\"overlay\":{\"id\":\"18186\",\"type\":\"PolyAnnotation\"}},\"id\":\"18176\",\"type\":\"LassoSelectTool\"},{\"attributes\":{},\"id\":\"18177\",\"type\":\"ResetTool\"},{\"attributes\":{\"active_drag\":\"auto\",\"active_inspect\":\"auto\",\"active_multi\":null,\"active_scroll\":\"auto\",\"active_tap\":\"auto\",\"tools\":[{\"id\":\"18172\",\"type\":\"PanTool\"},{\"id\":\"18173\",\"type\":\"BoxZoomTool\"},{\"id\":\"18174\",\"type\":\"WheelZoomTool\"},{\"id\":\"18175\",\"type\":\"BoxSelectTool\"},{\"id\":\"18176\",\"type\":\"LassoSelectTool\"},{\"id\":\"18177\",\"type\":\"ResetTool\"}]},\"id\":\"18178\",\"type\":\"Toolbar\"},{\"attributes\":{\"bottom_units\":\"screen\",\"fill_alpha\":{\"value\":0.5},\"fill_color\":{\"value\":\"lightgrey\"},\"left_units\":\"screen\",\"level\":\"overlay\",\"line_alpha\":{\"value\":1.0},\"line_color\":{\"value\":\"black\"},\"line_dash\":[4,4],\"line_width\":{\"value\":2},\"plot\":null,\"render_mode\":\"css\",\"right_units\":\"screen\",\"top_units\":\"screen\"},\"id\":\"18179\",\"type\":\"BoxAnnotation\"},{\"attributes\":{\"dimension\":1,\"plot\":{\"id\":\"18060\",\"subtype\":\"Figure\",\"type\":\"Plot\"},\"ticker\":{\"id\":\"18076\",\"type\":\"BasicTicker\"}},\"id\":\"18079\",\"type\":\"Grid\"},{\"attributes\":{},\"id\":\"18071\",\"type\":\"BasicTicker\"},{\"attributes\":{\"formatter\":{\"id\":\"18227\",\"type\":\"BasicTickFormatter\"},\"plot\":{\"id\":\"18060\",\"subtype\":\"Figure\",\"type\":\"Plot\"},\"ticker\":{\"id\":\"18071\",\"type\":\"BasicTicker\"}},\"id\":\"18070\",\"type\":\"LinearAxis\"},{\"attributes\":{\"formatter\":{\"id\":\"18229\",\"type\":\"BasicTickFormatter\"},\"plot\":{\"id\":\"18060\",\"subtype\":\"Figure\",\"type\":\"Plot\"},\"ticker\":{\"id\":\"18076\",\"type\":\"BasicTicker\"}},\"id\":\"18075\",\"type\":\"LinearAxis\"},{\"attributes\":{\"plot\":{\"id\":\"18060\",\"subtype\":\"Figure\",\"type\":\"Plot\"},\"ticker\":{\"id\":\"18071\",\"type\":\"BasicTicker\"}},\"id\":\"18074\",\"type\":\"Grid\"},{\"attributes\":{},\"id\":\"18076\",\"type\":\"BasicTicker\"},{\"attributes\":{\"plot\":{\"id\":\"17968\",\"subtype\":\"Figure\",\"type\":\"Plot\"},\"ticker\":{\"id\":\"17979\",\"type\":\"BasicTicker\"}},\"id\":\"17982\",\"type\":\"Grid\"},{\"attributes\":{\"formatter\":{\"id\":\"18203\",\"type\":\"BasicTickFormatter\"},\"plot\":{\"id\":\"17968\",\"subtype\":\"Figure\",\"type\":\"Plot\"},\"ticker\":{\"id\":\"17984\",\"type\":\"BasicTicker\"}},\"id\":\"17983\",\"type\":\"LinearAxis\"},{\"attributes\":{},\"id\":\"17984\",\"type\":\"BasicTicker\"},{\"attributes\":{\"dimension\":1,\"plot\":{\"id\":\"17968\",\"subtype\":\"Figure\",\"type\":\"Plot\"},\"ticker\":{\"id\":\"17984\",\"type\":\"BasicTicker\"}},\"id\":\"17987\",\"type\":\"Grid\"},{\"attributes\":{},\"id\":\"17988\",\"type\":\"PanTool\"},{\"attributes\":{\"overlay\":{\"id\":\"17995\",\"type\":\"BoxAnnotation\"}},\"id\":\"17989\",\"type\":\"BoxZoomTool\"},{\"attributes\":{\"callback\":null,\"overlay\":{\"id\":\"18094\",\"type\":\"PolyAnnotation\"}},\"id\":\"18084\",\"type\":\"LassoSelectTool\"},{\"attributes\":{},\"id\":\"18085\",\"type\":\"ResetTool\"},{\"attributes\":{\"active_drag\":\"auto\",\"active_inspect\":\"auto\",\"active_multi\":null,\"active_scroll\":\"auto\",\"active_tap\":\"auto\",\"tools\":[{\"id\":\"18080\",\"type\":\"PanTool\"},{\"id\":\"18081\",\"type\":\"BoxZoomTool\"},{\"id\":\"18082\",\"type\":\"WheelZoomTool\"},{\"id\":\"18083\",\"type\":\"BoxSelectTool\"},{\"id\":\"18084\",\"type\":\"LassoSelectTool\"},{\"id\":\"18085\",\"type\":\"ResetTool\"}]},\"id\":\"18086\",\"type\":\"Toolbar\"},{\"attributes\":{\"bottom_units\":\"screen\",\"fill_alpha\":{\"value\":0.5},\"fill_color\":{\"value\":\"lightgrey\"},\"left_units\":\"screen\",\"level\":\"overlay\",\"line_alpha\":{\"value\":1.0},\"line_color\":{\"value\":\"black\"},\"line_dash\":[4,4],\"line_width\":{\"value\":2},\"plot\":null,\"render_mode\":\"css\",\"right_units\":\"screen\",\"top_units\":\"screen\"},\"id\":\"18087\",\"type\":\"BoxAnnotation\"},{\"attributes\":{},\"id\":\"18080\",\"type\":\"PanTool\"},{\"attributes\":{\"overlay\":{\"id\":\"18087\",\"type\":\"BoxAnnotation\"}},\"id\":\"18081\",\"type\":\"BoxZoomTool\"},{\"attributes\":{},\"id\":\"18082\",\"type\":\"WheelZoomTool\"},{\"attributes\":{\"callback\":null,\"overlay\":{\"id\":\"18091\",\"type\":\"BoxAnnotation\"}},\"id\":\"18083\",\"type\":\"BoxSelectTool\"},{\"attributes\":{\"fill_alpha\":{\"value\":0.5},\"fill_color\":{\"value\":\"lightgrey\"},\"level\":\"overlay\",\"line_alpha\":{\"value\":1.0},\"line_color\":{\"value\":\"black\"},\"line_dash\":[4,4],\"line_width\":{\"value\":2},\"plot\":null,\"xs_units\":\"screen\",\"ys_units\":\"screen\"},\"id\":\"18186\",\"type\":\"PolyAnnotation\"},{\"attributes\":{\"bottom_units\":\"screen\",\"fill_alpha\":{\"value\":0.5},\"fill_color\":{\"value\":\"lightgrey\"},\"left_units\":\"screen\",\"level\":\"overlay\",\"line_alpha\":{\"value\":1.0},\"line_color\":{\"value\":\"black\"},\"line_dash\":[4,4],\"line_width\":{\"value\":2},\"plot\":null,\"render_mode\":\"css\",\"right_units\":\"screen\",\"top_units\":\"screen\"},\"id\":\"18183\",\"type\":\"BoxAnnotation\"},{\"attributes\":{\"plot\":null,\"text\":\"D vs A  Color=C\"},\"id\":\"18105\",\"type\":\"Title\"},{\"attributes\":{\"color_mapper\":{\"id\":\"17966\",\"type\":\"LinearColorMapper\"},\"formatter\":{\"id\":\"18225\",\"type\":\"BasicTickFormatter\"},\"location\":[0,0],\"plot\":{\"id\":\"18060\",\"subtype\":\"Figure\",\"type\":\"Plot\"},\"ticker\":{\"id\":\"18224\",\"type\":\"BasicTicker\"},\"width\":8},\"id\":\"18104\",\"type\":\"ColorBar\"},{\"attributes\":{},\"id\":\"18068\",\"type\":\"LinearScale\"},{\"attributes\":{\"below\":[{\"id\":\"18116\",\"type\":\"LinearAxis\"}],\"left\":[{\"id\":\"18121\",\"type\":\"LinearAxis\"}],\"plot_height\":200,\"plot_width\":400,\"renderers\":[{\"id\":\"18116\",\"type\":\"LinearAxis\"},{\"id\":\"18120\",\"type\":\"Grid\"},{\"id\":\"18121\",\"type\":\"LinearAxis\"},{\"id\":\"18125\",\"type\":\"Grid\"},{\"id\":\"18133\",\"type\":\"BoxAnnotation\"},{\"id\":\"18137\",\"type\":\"BoxAnnotation\"},{\"id\":\"18140\",\"type\":\"PolyAnnotation\"},{\"id\":\"18148\",\"type\":\"GlyphRenderer\"},{\"id\":\"18150\",\"type\":\"ColorBar\"}],\"right\":[{\"id\":\"18150\",\"type\":\"ColorBar\"}],\"title\":{\"id\":\"18105\",\"type\":\"Title\"},\"toolbar\":{\"id\":\"18132\",\"type\":\"Toolbar\"},\"toolbar_location\":null,\"x_range\":{\"id\":\"17970\",\"type\":\"DataRange1d\"},\"x_scale\":{\"id\":\"18112\",\"type\":\"LinearScale\"},\"y_range\":{\"id\":\"18110\",\"type\":\"DataRange1d\"},\"y_scale\":{\"id\":\"18114\",\"type\":\"LinearScale\"}},\"id\":\"18106\",\"subtype\":\"Figure\",\"type\":\"Plot\"},{\"attributes\":{\"fill_alpha\":{\"value\":0.1},\"fill_color\":{\"value\":\"#1f77b4\"},\"line_alpha\":{\"value\":0.1},\"line_color\":{\"value\":\"#1f77b4\"},\"size\":{\"units\":\"screen\",\"value\":2},\"x\":{\"field\":\"A\"},\"y\":{\"field\":\"C\"}},\"id\":\"18101\",\"type\":\"Circle\"},{\"attributes\":{\"fill_color\":{\"field\":\"C\",\"transform\":{\"id\":\"17966\",\"type\":\"LinearColorMapper\"}},\"line_color\":{\"field\":\"C\",\"transform\":{\"id\":\"17966\",\"type\":\"LinearColorMapper\"}},\"size\":{\"units\":\"screen\",\"value\":2},\"x\":{\"field\":\"A\"},\"y\":{\"field\":\"C\"}},\"id\":\"18100\",\"type\":\"Circle\"},{\"attributes\":{\"source\":{\"id\":\"17965\",\"type\":\"ColumnDataSource\"}},\"id\":\"18103\",\"type\":\"CDSView\"},{\"attributes\":{\"data_source\":{\"id\":\"17965\",\"type\":\"ColumnDataSource\"},\"glyph\":{\"id\":\"18100\",\"type\":\"Circle\"},\"hover_glyph\":null,\"muted_glyph\":null,\"nonselection_glyph\":{\"id\":\"18101\",\"type\":\"Circle\"},\"selection_glyph\":null,\"view\":{\"id\":\"18103\",\"type\":\"CDSView\"}},\"id\":\"18102\",\"type\":\"GlyphRenderer\"},{\"attributes\":{\"below\":[{\"id\":\"18070\",\"type\":\"LinearAxis\"}],\"left\":[{\"id\":\"18075\",\"type\":\"LinearAxis\"}],\"plot_height\":200,\"plot_width\":400,\"renderers\":[{\"id\":\"18070\",\"type\":\"LinearAxis\"},{\"id\":\"18074\",\"type\":\"Grid\"},{\"id\":\"18075\",\"type\":\"LinearAxis\"},{\"id\":\"18079\",\"type\":\"Grid\"},{\"id\":\"18087\",\"type\":\"BoxAnnotation\"},{\"id\":\"18091\",\"type\":\"BoxAnnotation\"},{\"id\":\"18094\",\"type\":\"PolyAnnotation\"},{\"id\":\"18102\",\"type\":\"GlyphRenderer\"},{\"id\":\"18104\",\"type\":\"ColorBar\"}],\"right\":[{\"id\":\"18104\",\"type\":\"ColorBar\"}],\"title\":{\"id\":\"18059\",\"type\":\"Title\"},\"toolbar\":{\"id\":\"18086\",\"type\":\"Toolbar\"},\"toolbar_location\":null,\"x_range\":{\"id\":\"17970\",\"type\":\"DataRange1d\"},\"x_scale\":{\"id\":\"18066\",\"type\":\"LinearScale\"},\"y_range\":{\"id\":\"18064\",\"type\":\"DataRange1d\"},\"y_scale\":{\"id\":\"18068\",\"type\":\"LinearScale\"}},\"id\":\"18060\",\"subtype\":\"Figure\",\"type\":\"Plot\"},{\"attributes\":{},\"id\":\"18066\",\"type\":\"LinearScale\"},{\"attributes\":{\"callback\":null},\"id\":\"18064\",\"type\":\"DataRange1d\"},{\"attributes\":{},\"id\":\"17979\",\"type\":\"BasicTicker\"},{\"attributes\":{\"formatter\":{\"id\":\"18201\",\"type\":\"BasicTickFormatter\"},\"plot\":{\"id\":\"17968\",\"subtype\":\"Figure\",\"type\":\"Plot\"},\"ticker\":{\"id\":\"17979\",\"type\":\"BasicTicker\"}},\"id\":\"17978\",\"type\":\"LinearAxis\"},{\"attributes\":{},\"id\":\"17974\",\"type\":\"LinearScale\"},{\"attributes\":{},\"id\":\"17976\",\"type\":\"LinearScale\"},{\"attributes\":{\"callback\":null},\"id\":\"17970\",\"type\":\"DataRange1d\"},{\"attributes\":{\"callback\":null},\"id\":\"17972\",\"type\":\"DataRange1d\"},{\"attributes\":{\"source\":{\"id\":\"17965\",\"type\":\"ColumnDataSource\"}},\"id\":\"18057\",\"type\":\"CDSView\"},{\"attributes\":{\"data_source\":{\"id\":\"17965\",\"type\":\"ColumnDataSource\"},\"glyph\":{\"id\":\"18054\",\"type\":\"Circle\"},\"hover_glyph\":null,\"muted_glyph\":null,\"nonselection_glyph\":{\"id\":\"18055\",\"type\":\"Circle\"},\"selection_glyph\":null,\"view\":{\"id\":\"18057\",\"type\":\"CDSView\"}},\"id\":\"18056\",\"type\":\"GlyphRenderer\"},{\"attributes\":{\"fill_alpha\":{\"value\":0.1},\"fill_color\":{\"value\":\"#1f77b4\"},\"line_alpha\":{\"value\":0.1},\"line_color\":{\"value\":\"#1f77b4\"},\"size\":{\"units\":\"screen\",\"value\":2},\"x\":{\"field\":\"A\"},\"y\":{\"field\":\"B\"}},\"id\":\"18055\",\"type\":\"Circle\"},{\"attributes\":{\"fill_color\":{\"field\":\"C\",\"transform\":{\"id\":\"17966\",\"type\":\"LinearColorMapper\"}},\"line_color\":{\"field\":\"C\",\"transform\":{\"id\":\"17966\",\"type\":\"LinearColorMapper\"}},\"size\":{\"units\":\"screen\",\"value\":2},\"x\":{\"field\":\"A\"},\"y\":{\"field\":\"B\"}},\"id\":\"18054\",\"type\":\"Circle\"},{\"attributes\":{},\"id\":\"18198\",\"type\":\"BasicTicker\"},{\"attributes\":{},\"id\":\"18199\",\"type\":\"BasicTickFormatter\"},{\"attributes\":{\"color_mapper\":{\"id\":\"17966\",\"type\":\"LinearColorMapper\"},\"formatter\":{\"id\":\"18251\",\"type\":\"BasicTickFormatter\"},\"location\":[0,0],\"plot\":{\"id\":\"18152\",\"subtype\":\"Figure\",\"type\":\"Plot\"},\"ticker\":{\"id\":\"18250\",\"type\":\"BasicTicker\"},\"width\":8},\"id\":\"18196\",\"type\":\"ColorBar\"},{\"attributes\":{},\"id\":\"18214\",\"type\":\"BasicTickFormatter\"},{\"attributes\":{\"data_source\":{\"id\":\"17965\",\"type\":\"ColumnDataSource\"},\"glyph\":{\"id\":\"18192\",\"type\":\"Circle\"},\"hover_glyph\":null,\"muted_glyph\":null,\"nonselection_glyph\":{\"id\":\"18193\",\"type\":\"Circle\"},\"selection_glyph\":null,\"view\":{\"id\":\"18195\",\"type\":\"CDSView\"}},\"id\":\"18194\",\"type\":\"GlyphRenderer\"},{\"attributes\":{\"source\":{\"id\":\"17965\",\"type\":\"ColumnDataSource\"}},\"id\":\"18195\",\"type\":\"CDSView\"},{\"attributes\":{\"fill_color\":{\"field\":\"C\",\"transform\":{\"id\":\"17966\",\"type\":\"LinearColorMapper\"}},\"line_color\":{\"field\":\"C\",\"transform\":{\"id\":\"17966\",\"type\":\"LinearColorMapper\"}},\"size\":{\"units\":\"screen\",\"value\":2},\"x\":{\"field\":\"A\"},\"y\":{\"field\":\"A\"}},\"id\":\"18192\",\"type\":\"Circle\"},{\"attributes\":{\"fill_alpha\":{\"value\":0.1},\"fill_color\":{\"value\":\"#1f77b4\"},\"line_alpha\":{\"value\":0.1},\"line_color\":{\"value\":\"#1f77b4\"},\"size\":{\"units\":\"screen\",\"value\":2},\"x\":{\"field\":\"A\"},\"y\":{\"field\":\"A\"}},\"id\":\"18193\",\"type\":\"Circle\"},{\"attributes\":{\"plot\":null,\"text\":\"C vs A  Color=C\"},\"id\":\"18059\",\"type\":\"Title\"},{\"attributes\":{\"color_mapper\":{\"id\":\"17966\",\"type\":\"LinearColorMapper\"},\"formatter\":{\"id\":\"18212\",\"type\":\"BasicTickFormatter\"},\"location\":[0,0],\"plot\":{\"id\":\"18014\",\"subtype\":\"Figure\",\"type\":\"Plot\"},\"ticker\":{\"id\":\"18211\",\"type\":\"BasicTicker\"},\"width\":8},\"id\":\"18058\",\"type\":\"ColorBar\"},{\"attributes\":{\"formatter\":{\"id\":\"18240\",\"type\":\"BasicTickFormatter\"},\"plot\":{\"id\":\"18106\",\"subtype\":\"Figure\",\"type\":\"Plot\"},\"ticker\":{\"id\":\"18117\",\"type\":\"BasicTicker\"}},\"id\":\"18116\",\"type\":\"LinearAxis\"},{\"attributes\":{},\"id\":\"18117\",\"type\":\"BasicTicker\"},{\"attributes\":{},\"id\":\"18114\",\"type\":\"LinearScale\"},{\"attributes\":{},\"id\":\"18112\",\"type\":\"LinearScale\"},{\"attributes\":{\"callback\":null},\"id\":\"18110\",\"type\":\"DataRange1d\"},{\"attributes\":{\"below\":[{\"id\":\"17978\",\"type\":\"LinearAxis\"}],\"left\":[{\"id\":\"17983\",\"type\":\"LinearAxis\"}],\"plot_height\":200,\"plot_width\":400,\"renderers\":[{\"id\":\"17978\",\"type\":\"LinearAxis\"},{\"id\":\"17982\",\"type\":\"Grid\"},{\"id\":\"17983\",\"type\":\"LinearAxis\"},{\"id\":\"17987\",\"type\":\"Grid\"},{\"id\":\"17995\",\"type\":\"BoxAnnotation\"},{\"id\":\"17999\",\"type\":\"BoxAnnotation\"},{\"id\":\"18002\",\"type\":\"PolyAnnotation\"},{\"id\":\"18010\",\"type\":\"GlyphRenderer\"},{\"id\":\"18012\",\"type\":\"ColorBar\"}],\"right\":[{\"id\":\"18012\",\"type\":\"ColorBar\"}],\"title\":{\"id\":\"17967\",\"type\":\"Title\"},\"toolbar\":{\"id\":\"17994\",\"type\":\"Toolbar\"},\"toolbar_location\":null,\"x_range\":{\"id\":\"17970\",\"type\":\"DataRange1d\"},\"x_scale\":{\"id\":\"17974\",\"type\":\"LinearScale\"},\"y_range\":{\"id\":\"17972\",\"type\":\"DataRange1d\"},\"y_scale\":{\"id\":\"17976\",\"type\":\"LinearScale\"}},\"id\":\"17968\",\"subtype\":\"Figure\",\"type\":\"Plot\"},{\"attributes\":{\"high\":98,\"low\":0,\"palette\":[\"#3288bd\",\"#99d594\",\"#e6f598\",\"#fee08b\",\"#fc8d59\",\"#d53e4f\"]},\"id\":\"17966\",\"type\":\"LinearColorMapper\"},{\"attributes\":{\"plot\":null,\"text\":\"A vs A  Color=C\"},\"id\":\"17967\",\"type\":\"Title\"},{\"attributes\":{\"callback\":null,\"data\":{\"A\":[19,12,15,6,89,74,27,49,98,29,47,56,11,85,38,56,55,21,78,60,39,6,19,23,17,19,5,7,23,14,9,94,50,49,72,66,71,79,73,8,14,87,2,78,89,72,86,13,27,86,31,83,41,69,84,79,71,3,58,69,56,29,52,82,34,51,86,21,79,70,22,4,51,79,84,17,24,87,89,71,24,98,33,59,86,29,2,87,74,41,12,57,54,24,25,38,83,71,37,79,66,57,99,58,56,72,30,26,15,44,49,66,21,61,32,68,55,50,52,83,8,17,4,97,95,44,49,58,16,41,77,78,53,27,9,67,49,15,16,89,52,67,90,34,70,52,89,13,5,48,25,12,70,69,6,53,91,82,87,29,4,72,44,59,98,19,4,73,53,68,39,31,37,73,34,27,46,96,64,98,27,29,87,92,8,91,31,55,88,6,6,40,56,44,54,14,48,18,19],\"B\":[49,22,92,93,81,92,24,53,70,35,57,67,35,8,23,53,89,50,5,14,28,64,32,93,47,59,54,95,4,38,11,61,69,40,20,37,25,12,66,65,83,59,28,50,56,62,81,5,60,6,79,76,53,1,51,99,89,63,14,34,48,1,65,68,78,9,63,78,89,5,71,22,67,8,51,99,60,77,92,80,54,64,39,75,12,1,67,64,72,37,54,31,7,63,97,76,33,57,74,53,38,16,25,38,97,72,94,40,88,91,62,42,68,25,45,49,59,93,50,31,71,78,44,97,86,88,40,43,63,70,57,27,56,83,12,54,26,98,66,99,38,76,2,41,19,89,99,96,69,69,18,99,20,65,36,47,89,77,16,24,79,23,23,31,48,53,47,55,34,87,73,17,96,59,97,65,78,87,1,2,25,61,58,75,66,43,63,97,69,27,83,16,35,64,76,38,70,39,38],\"C\":[83,40,89,30,22,5,65,49,21,30,74,11,6,85,49,37,33,25,43,52,53,72,71,66,9,74,64,78,16,40,12,54,78,68,73,25,95,61,82,42,8,96,3,91,17,28,47,90,76,61,98,9,86,85,97,1,28,1,14,92,3,66,63,74,35,92,2,71,5,33,9,32,54,50,33,54,87,2,31,47,17,80,82,17,84,93,9,20,81,85,91,98,17,11,81,53,18,31,74,37,15,80,62,3,90,52,59,17,6,61,45,48,70,53,21,4,75,50,37,44,58,93,63,8,11,31,72,17,55,1,26,0,85,26,86,65,75,60,63,61,19,54,61,11,60,79,98,5,70,82,70,83,23,34,17,27,75,49,87,45,58,78,62,44,59,58,17,94,97,85,33,68,86,40,48,36,29,85,31,35,6,8,64,60,20,31,28,83,97,34,33,5,40,13,43,10,44,28,93],\"D\":[69,23,13,92,62,14,40,21,76,97,51,82,94,16,33,52,16,46,54,47,12,37,93,37,94,51,29,29,13,21,3,84,47,51,21,27,56,72,23,22,79,46,13,20,53,91,87,63,34,83,6,24,85,79,97,30,97,39,28,23,28,56,5,94,13,25,35,61,57,1,23,69,28,38,5,60,99,31,16,65,23,26,67,56,37,33,38,64,87,42,81,20,65,63,41,36,33,3,14,4,84,15,36,12,28,10,85,33,36,94,71,97,44,63,23,67,22,36,73,74,17,71,50,91,80,12,61,36,84,61,29,39,66,19,89,30,94,5,2,9,70,69,10,13,68,22,2,85,87,20,92,30,49,96,30,61,14,77,3,86,74,43,73,2,73,62,92,46,60,50,4,21,2,20,99,79,52,93,25,14,84,27,83,64,2,68,9,25,43,77,51,46,77,4,15,38,4,9,59],\"index\":[0,1,2,3,4,5,6,7,8,9,10,11,12,13,14,15,16,17,18,19,20,21,22,23,24,25,26,27,28,29,30,31,32,33,34,35,36,37,38,39,40,41,42,43,44,45,46,47,48,49,50,51,52,53,54,55,56,57,58,59,60,61,62,63,64,65,66,67,68,69,70,71,72,73,74,75,76,77,78,79,80,81,82,83,84,85,86,87,88,89,90,91,92,93,94,95,96,97,98,99,100,101,102,103,104,105,106,107,108,109,110,111,112,113,114,115,116,117,118,119,120,121,122,123,124,125,126,127,128,129,130,131,132,133,134,135,136,137,138,139,140,141,142,143,144,145,146,147,148,149,150,151,152,153,154,155,156,157,158,159,160,161,162,163,164,165,166,167,168,169,170,171,172,173,174,175,176,177,178,179,180,181,182,183,184,185,186,187,188,189,190,191,192,193,194,196,197,198,199]},\"selected\":{\"id\":\"18204\",\"type\":\"Selection\"},\"selection_policy\":{\"id\":\"18205\",\"type\":\"UnionRenderers\"}},\"id\":\"17965\",\"type\":\"ColumnDataSource\"},{\"attributes\":{\"fill_alpha\":{\"value\":0.1},\"fill_color\":{\"value\":\"#1f77b4\"},\"line_alpha\":{\"value\":0.1},\"line_color\":{\"value\":\"#1f77b4\"},\"size\":{\"units\":\"screen\",\"value\":2},\"x\":{\"field\":\"A\"},\"y\":{\"field\":\"D\"}},\"id\":\"18147\",\"type\":\"Circle\"},{\"attributes\":{\"children\":[{\"id\":\"17968\",\"subtype\":\"Figure\",\"type\":\"Plot\"},{\"id\":\"18014\",\"subtype\":\"Figure\",\"type\":\"Plot\"},{\"id\":\"18060\",\"subtype\":\"Figure\",\"type\":\"Plot\"},{\"id\":\"18106\",\"subtype\":\"Figure\",\"type\":\"Plot\"},{\"id\":\"18152\",\"subtype\":\"Figure\",\"type\":\"Plot\"}]},\"id\":\"18262\",\"type\":\"Row\"},{\"attributes\":{\"fill_color\":{\"field\":\"C\",\"transform\":{\"id\":\"17966\",\"type\":\"LinearColorMapper\"}},\"line_color\":{\"field\":\"C\",\"transform\":{\"id\":\"17966\",\"type\":\"LinearColorMapper\"}},\"size\":{\"units\":\"screen\",\"value\":2},\"x\":{\"field\":\"A\"},\"y\":{\"field\":\"D\"}},\"id\":\"18146\",\"type\":\"Circle\"},{\"attributes\":{\"tools\":[{\"id\":\"17988\",\"type\":\"PanTool\"},{\"id\":\"17989\",\"type\":\"BoxZoomTool\"},{\"id\":\"17990\",\"type\":\"WheelZoomTool\"},{\"id\":\"17991\",\"type\":\"BoxSelectTool\"},{\"id\":\"17992\",\"type\":\"LassoSelectTool\"},{\"id\":\"17993\",\"type\":\"ResetTool\"},{\"id\":\"18034\",\"type\":\"PanTool\"},{\"id\":\"18035\",\"type\":\"BoxZoomTool\"},{\"id\":\"18036\",\"type\":\"WheelZoomTool\"},{\"id\":\"18037\",\"type\":\"BoxSelectTool\"},{\"id\":\"18038\",\"type\":\"LassoSelectTool\"},{\"id\":\"18039\",\"type\":\"ResetTool\"},{\"id\":\"18080\",\"type\":\"PanTool\"},{\"id\":\"18081\",\"type\":\"BoxZoomTool\"},{\"id\":\"18082\",\"type\":\"WheelZoomTool\"},{\"id\":\"18083\",\"type\":\"BoxSelectTool\"},{\"id\":\"18084\",\"type\":\"LassoSelectTool\"},{\"id\":\"18085\",\"type\":\"ResetTool\"},{\"id\":\"18126\",\"type\":\"PanTool\"},{\"id\":\"18127\",\"type\":\"BoxZoomTool\"},{\"id\":\"18128\",\"type\":\"WheelZoomTool\"},{\"id\":\"18129\",\"type\":\"BoxSelectTool\"},{\"id\":\"18130\",\"type\":\"LassoSelectTool\"},{\"id\":\"18131\",\"type\":\"ResetTool\"},{\"id\":\"18172\",\"type\":\"PanTool\"},{\"id\":\"18173\",\"type\":\"BoxZoomTool\"},{\"id\":\"18174\",\"type\":\"WheelZoomTool\"},{\"id\":\"18175\",\"type\":\"BoxSelectTool\"},{\"id\":\"18176\",\"type\":\"LassoSelectTool\"},{\"id\":\"18177\",\"type\":\"ResetTool\"}]},\"id\":\"18264\",\"type\":\"ProxyToolbar\"},{\"attributes\":{\"toolbar\":{\"id\":\"18264\",\"type\":\"ProxyToolbar\"},\"toolbar_location\":\"above\"},\"id\":\"18265\",\"type\":\"ToolbarBox\"},{\"attributes\":{\"children\":[{\"id\":\"18265\",\"type\":\"ToolbarBox\"},{\"id\":\"18263\",\"type\":\"Column\"}]},\"id\":\"18266\",\"type\":\"Column\"},{\"attributes\":{\"active_drag\":\"auto\",\"active_inspect\":\"auto\",\"active_multi\":null,\"active_scroll\":\"auto\",\"active_tap\":\"auto\",\"tools\":[{\"id\":\"18034\",\"type\":\"PanTool\"},{\"id\":\"18035\",\"type\":\"BoxZoomTool\"},{\"id\":\"18036\",\"type\":\"WheelZoomTool\"},{\"id\":\"18037\",\"type\":\"BoxSelectTool\"},{\"id\":\"18038\",\"type\":\"LassoSelectTool\"},{\"id\":\"18039\",\"type\":\"ResetTool\"}]},\"id\":\"18040\",\"type\":\"Toolbar\"},{\"attributes\":{\"bottom_units\":\"screen\",\"fill_alpha\":{\"value\":0.5},\"fill_color\":{\"value\":\"lightgrey\"},\"left_units\":\"screen\",\"level\":\"overlay\",\"line_alpha\":{\"value\":1.0},\"line_color\":{\"value\":\"black\"},\"line_dash\":[4,4],\"line_width\":{\"value\":2},\"plot\":null,\"render_mode\":\"css\",\"right_units\":\"screen\",\"top_units\":\"screen\"},\"id\":\"18041\",\"type\":\"BoxAnnotation\"},{\"attributes\":{\"bottom_units\":\"screen\",\"fill_alpha\":{\"value\":0.5},\"fill_color\":{\"value\":\"lightgrey\"},\"left_units\":\"screen\",\"level\":\"overlay\",\"line_alpha\":{\"value\":1.0},\"line_color\":{\"value\":\"black\"},\"line_dash\":[4,4],\"line_width\":{\"value\":2},\"plot\":null,\"render_mode\":\"css\",\"right_units\":\"screen\",\"top_units\":\"screen\"},\"id\":\"18045\",\"type\":\"BoxAnnotation\"},{\"attributes\":{\"fill_alpha\":{\"value\":0.5},\"fill_color\":{\"value\":\"lightgrey\"},\"level\":\"overlay\",\"line_alpha\":{\"value\":1.0},\"line_color\":{\"value\":\"black\"},\"line_dash\":[4,4],\"line_width\":{\"value\":2},\"plot\":null,\"xs_units\":\"screen\",\"ys_units\":\"screen\"},\"id\":\"18048\",\"type\":\"PolyAnnotation\"},{\"attributes\":{},\"id\":\"18204\",\"type\":\"Selection\"},{\"attributes\":{},\"id\":\"18205\",\"type\":\"UnionRenderers\"},{\"attributes\":{},\"id\":\"18203\",\"type\":\"BasicTickFormatter\"},{\"attributes\":{},\"id\":\"18201\",\"type\":\"BasicTickFormatter\"},{\"attributes\":{},\"id\":\"18122\",\"type\":\"BasicTicker\"},{\"attributes\":{\"formatter\":{\"id\":\"18242\",\"type\":\"BasicTickFormatter\"},\"plot\":{\"id\":\"18106\",\"subtype\":\"Figure\",\"type\":\"Plot\"},\"ticker\":{\"id\":\"18122\",\"type\":\"BasicTicker\"}},\"id\":\"18121\",\"type\":\"LinearAxis\"},{\"attributes\":{\"plot\":{\"id\":\"18106\",\"subtype\":\"Figure\",\"type\":\"Plot\"},\"ticker\":{\"id\":\"18117\",\"type\":\"BasicTicker\"}},\"id\":\"18120\",\"type\":\"Grid\"},{\"attributes\":{\"overlay\":{\"id\":\"18133\",\"type\":\"BoxAnnotation\"}},\"id\":\"18127\",\"type\":\"BoxZoomTool\"},{\"attributes\":{},\"id\":\"18126\",\"type\":\"PanTool\"},{\"attributes\":{\"dimension\":1,\"plot\":{\"id\":\"18106\",\"subtype\":\"Figure\",\"type\":\"Plot\"},\"ticker\":{\"id\":\"18122\",\"type\":\"BasicTicker\"}},\"id\":\"18125\",\"type\":\"Grid\"},{\"attributes\":{\"callback\":null,\"overlay\":{\"id\":\"18137\",\"type\":\"BoxAnnotation\"}},\"id\":\"18129\",\"type\":\"BoxSelectTool\"},{\"attributes\":{},\"id\":\"18128\",\"type\":\"WheelZoomTool\"},{\"attributes\":{\"children\":[{\"id\":\"18262\",\"type\":\"Row\"}]},\"id\":\"18263\",\"type\":\"Column\"},{\"attributes\":{\"callback\":null},\"id\":\"18018\",\"type\":\"DataRange1d\"},{\"attributes\":{},\"id\":\"18238\",\"type\":\"BasicTickFormatter\"},{\"attributes\":{},\"id\":\"18237\",\"type\":\"BasicTicker\"},{\"attributes\":{\"overlay\":{\"id\":\"18041\",\"type\":\"BoxAnnotation\"}},\"id\":\"18035\",\"type\":\"BoxZoomTool\"},{\"attributes\":{},\"id\":\"18034\",\"type\":\"PanTool\"},{\"attributes\":{\"callback\":null,\"overlay\":{\"id\":\"18045\",\"type\":\"BoxAnnotation\"}},\"id\":\"18037\",\"type\":\"BoxSelectTool\"},{\"attributes\":{},\"id\":\"18036\",\"type\":\"WheelZoomTool\"},{\"attributes\":{},\"id\":\"18030\",\"type\":\"BasicTicker\"},{\"attributes\":{\"dimension\":1,\"plot\":{\"id\":\"18014\",\"subtype\":\"Figure\",\"type\":\"Plot\"},\"ticker\":{\"id\":\"18030\",\"type\":\"BasicTicker\"}},\"id\":\"18033\",\"type\":\"Grid\"},{\"attributes\":{\"bottom_units\":\"screen\",\"fill_alpha\":{\"value\":0.5},\"fill_color\":{\"value\":\"lightgrey\"},\"left_units\":\"screen\",\"level\":\"overlay\",\"line_alpha\":{\"value\":1.0},\"line_color\":{\"value\":\"black\"},\"line_dash\":[4,4],\"line_width\":{\"value\":2},\"plot\":null,\"render_mode\":\"css\",\"right_units\":\"screen\",\"top_units\":\"screen\"},\"id\":\"18137\",\"type\":\"BoxAnnotation\"},{\"attributes\":{},\"id\":\"18039\",\"type\":\"ResetTool\"},{\"attributes\":{\"callback\":null,\"overlay\":{\"id\":\"18048\",\"type\":\"PolyAnnotation\"}},\"id\":\"18038\",\"type\":\"LassoSelectTool\"},{\"attributes\":{\"active_drag\":\"auto\",\"active_inspect\":\"auto\",\"active_multi\":null,\"active_scroll\":\"auto\",\"active_tap\":\"auto\",\"tools\":[{\"id\":\"18126\",\"type\":\"PanTool\"},{\"id\":\"18127\",\"type\":\"BoxZoomTool\"},{\"id\":\"18128\",\"type\":\"WheelZoomTool\"},{\"id\":\"18129\",\"type\":\"BoxSelectTool\"},{\"id\":\"18130\",\"type\":\"LassoSelectTool\"},{\"id\":\"18131\",\"type\":\"ResetTool\"}]},\"id\":\"18132\",\"type\":\"Toolbar\"},{\"attributes\":{\"bottom_units\":\"screen\",\"fill_alpha\":{\"value\":0.5},\"fill_color\":{\"value\":\"lightgrey\"},\"left_units\":\"screen\",\"level\":\"overlay\",\"line_alpha\":{\"value\":1.0},\"line_color\":{\"value\":\"black\"},\"line_dash\":[4,4],\"line_width\":{\"value\":2},\"plot\":null,\"render_mode\":\"css\",\"right_units\":\"screen\",\"top_units\":\"screen\"},\"id\":\"18133\",\"type\":\"BoxAnnotation\"},{\"attributes\":{\"callback\":null,\"overlay\":{\"id\":\"18140\",\"type\":\"PolyAnnotation\"}},\"id\":\"18130\",\"type\":\"LassoSelectTool\"},{\"attributes\":{},\"id\":\"18131\",\"type\":\"ResetTool\"},{\"attributes\":{\"source\":{\"id\":\"17965\",\"type\":\"ColumnDataSource\"}},\"id\":\"18149\",\"type\":\"CDSView\"},{\"attributes\":{\"data_source\":{\"id\":\"17965\",\"type\":\"ColumnDataSource\"},\"glyph\":{\"id\":\"18146\",\"type\":\"Circle\"},\"hover_glyph\":null,\"muted_glyph\":null,\"nonselection_glyph\":{\"id\":\"18147\",\"type\":\"Circle\"},\"selection_glyph\":null,\"view\":{\"id\":\"18149\",\"type\":\"CDSView\"}},\"id\":\"18148\",\"type\":\"GlyphRenderer\"},{\"attributes\":{\"formatter\":{\"id\":\"18214\",\"type\":\"BasicTickFormatter\"},\"plot\":{\"id\":\"18014\",\"subtype\":\"Figure\",\"type\":\"Plot\"},\"ticker\":{\"id\":\"18025\",\"type\":\"BasicTicker\"}},\"id\":\"18024\",\"type\":\"LinearAxis\"},{\"attributes\":{},\"id\":\"18025\",\"type\":\"BasicTicker\"},{\"attributes\":{},\"id\":\"18022\",\"type\":\"LinearScale\"},{\"attributes\":{},\"id\":\"18020\",\"type\":\"LinearScale\"},{\"attributes\":{\"fill_alpha\":{\"value\":0.5},\"fill_color\":{\"value\":\"lightgrey\"},\"level\":\"overlay\",\"line_alpha\":{\"value\":1.0},\"line_color\":{\"value\":\"black\"},\"line_dash\":[4,4],\"line_width\":{\"value\":2},\"plot\":null,\"xs_units\":\"screen\",\"ys_units\":\"screen\"},\"id\":\"18140\",\"type\":\"PolyAnnotation\"},{\"attributes\":{\"plot\":{\"id\":\"18014\",\"subtype\":\"Figure\",\"type\":\"Plot\"},\"ticker\":{\"id\":\"18025\",\"type\":\"BasicTicker\"}},\"id\":\"18028\",\"type\":\"Grid\"},{\"attributes\":{\"formatter\":{\"id\":\"18216\",\"type\":\"BasicTickFormatter\"},\"plot\":{\"id\":\"18014\",\"subtype\":\"Figure\",\"type\":\"Plot\"},\"ticker\":{\"id\":\"18030\",\"type\":\"BasicTicker\"}},\"id\":\"18029\",\"type\":\"LinearAxis\"}],\"root_ids\":[\"18266\"]},\"title\":\"Bokeh Application\",\"version\":\"1.0.1\"}};\n",
       "  var render_items = [{\"docid\":\"da691103-1014-4227-98f4-909f45f1057e\",\"notebook_comms_target\":\"19127\",\"roots\":{\"18266\":\"91cdef24-a203-4212-9915-d6dfc9715701\"}}];\n",
       "  root.Bokeh.embed.embed_items_notebook(docs_json, render_items);\n",
       "\n",
       "  }\n",
       "  if (root.Bokeh !== undefined) {\n",
       "    embed_document(root);\n",
       "  } else {\n",
       "    var attempts = 0;\n",
       "    var timer = setInterval(function(root) {\n",
       "      if (root.Bokeh !== undefined) {\n",
       "        embed_document(root);\n",
       "        clearInterval(timer);\n",
       "      }\n",
       "      attempts++;\n",
       "      if (attempts > 100) {\n",
       "        console.log(\"Bokeh: ERROR: Unable to run BokehJS code because BokehJS library is missing\");\n",
       "        clearInterval(timer);\n",
       "      }\n",
       "    }, 10, root)\n",
       "  }\n",
       "})(window);"
      ],
      "application/vnd.bokehjs_exec.v0+json": ""
     },
     "metadata": {
      "application/vnd.bokehjs_exec.v0+json": {
       "id": "18266"
      }
     },
     "output_type": "display_data"
    },
    {
     "data": {
      "application/vnd.jupyter.widget-view+json": {
       "model_id": "d3305960f63a4fbd977cdf38e76fe45f",
       "version_major": 2,
       "version_minor": 0
      },
      "text/plain": [
       "VkJveChjaGlsZHJlbj0oRmxvYXRSYW5nZVNsaWRlcih2YWx1ZT0oMC4wLCAxMDAuMCksIGRlc2NyaXB0aW9uPXUnQScsIGxheW91dD1MYXlvdXQod2lkdGg9dSc2NiUnKSwgbWF4PTEwMC4xLCDigKY=\n"
      ]
     },
     "metadata": {},
     "output_type": "display_data"
    }
   ],
   "source": [
    "df = pd.DataFrame(np.random.randint(0,100,size=(200, 4)), columns=list('ABCD'))\n",
    "df.head(10)\n",
    "xxx=bokehDraw(df,\"A>0\",\"A\",\"A:B:C:D:A\",\"C\",\"slider.A(0,100.1,1,0,100),slider.B(0,100,1,0,100)\",None,ncols=5,plot_width=400,commonX=1, plot_height=200)"
   ]
  },
  {
   "cell_type": "code",
   "execution_count": 3,
   "metadata": {},
   "outputs": [
    {
     "data": {
      "text/html": [
       "<div>\n",
       "<style scoped>\n",
       "    .dataframe tbody tr th:only-of-type {\n",
       "        vertical-align: middle;\n",
       "    }\n",
       "\n",
       "    .dataframe tbody tr th {\n",
       "        vertical-align: top;\n",
       "    }\n",
       "\n",
       "    .dataframe thead th {\n",
       "        text-align: right;\n",
       "    }\n",
       "</style>\n",
       "<table border=\"1\" class=\"dataframe\">\n",
       "  <thead>\n",
       "    <tr style=\"text-align: right;\">\n",
       "      <th></th>\n",
       "      <th>A</th>\n",
       "      <th>B</th>\n",
       "      <th>C</th>\n",
       "      <th>D</th>\n",
       "    </tr>\n",
       "  </thead>\n",
       "  <tbody>\n",
       "    <tr>\n",
       "      <th>0</th>\n",
       "      <td>89</td>\n",
       "      <td>63</td>\n",
       "      <td>47</td>\n",
       "      <td>8</td>\n",
       "    </tr>\n",
       "    <tr>\n",
       "      <th>1</th>\n",
       "      <td>10</td>\n",
       "      <td>10</td>\n",
       "      <td>68</td>\n",
       "      <td>78</td>\n",
       "    </tr>\n",
       "    <tr>\n",
       "      <th>2</th>\n",
       "      <td>53</td>\n",
       "      <td>35</td>\n",
       "      <td>21</td>\n",
       "      <td>69</td>\n",
       "    </tr>\n",
       "  </tbody>\n",
       "</table>\n",
       "</div>"
      ],
      "text/plain": [
       "    A   B   C   D\n",
       "0  89  63  47   8\n",
       "1  10  10  68  78\n",
       "2  53  35  21  69"
      ]
     },
     "execution_count": 3,
     "metadata": {},
     "output_type": "execute_result"
    }
   ],
   "source": [
    "df.head(3)"
   ]
  },
  {
   "cell_type": "code",
   "execution_count": 42,
   "metadata": {},
   "outputs": [],
   "source": [
    "figList=xxx.figure.children[1].children[0].children"
   ]
  },
  {
   "cell_type": "code",
   "execution_count": 58,
   "metadata": {},
   "outputs": [
    {
     "data": {
      "text/html": [
       "\n",
       "\n",
       "\n",
       "\n",
       "\n",
       "\n",
       "  <div class=\"bk-root\" id=\"2be3601d-808b-4c00-9be5-1a33778296b5\"></div>\n"
      ]
     },
     "metadata": {},
     "output_type": "display_data"
    },
    {
     "data": {
      "application/javascript": [
       "(function(root) {\n",
       "  function embed_document(root) {\n",
       "    \n",
       "  var docs_json = {\"ce07e53e-d964-467b-8eb2-ce248e482a22\":{\"roots\":{\"references\":[{\"attributes\":{\"bottom_units\":\"screen\",\"fill_alpha\":{\"value\":0.5},\"fill_color\":{\"value\":\"lightgrey\"},\"left_units\":\"screen\",\"level\":\"overlay\",\"line_alpha\":{\"value\":1.0},\"line_color\":{\"value\":\"black\"},\"line_dash\":[4,4],\"line_width\":{\"value\":2},\"plot\":null,\"render_mode\":\"css\",\"right_units\":\"screen\",\"top_units\":\"screen\"},\"id\":\"18091\",\"type\":\"BoxAnnotation\"},{\"attributes\":{\"fill_alpha\":{\"value\":0.5},\"fill_color\":{\"value\":\"lightgrey\"},\"level\":\"overlay\",\"line_alpha\":{\"value\":1.0},\"line_color\":{\"value\":\"black\"},\"line_dash\":[4,4],\"line_width\":{\"value\":2},\"plot\":null,\"xs_units\":\"screen\",\"ys_units\":\"screen\"},\"id\":\"18094\",\"type\":\"PolyAnnotation\"},{\"attributes\":{\"plot\":null,\"text\":\"B vs A  Color=C\"},\"id\":\"18013\",\"type\":\"Title\"},{\"attributes\":{\"color_mapper\":{\"id\":\"17966\",\"type\":\"LinearColorMapper\"},\"formatter\":{\"id\":\"18199\",\"type\":\"BasicTickFormatter\"},\"location\":[0,0],\"plot\":{\"id\":\"17968\",\"subtype\":\"Figure\",\"type\":\"Plot\"},\"ticker\":{\"id\":\"18198\",\"type\":\"BasicTicker\"},\"width\":8},\"id\":\"18012\",\"type\":\"ColorBar\"},{\"attributes\":{\"source\":{\"id\":\"17965\",\"type\":\"ColumnDataSource\"}},\"id\":\"18011\",\"type\":\"CDSView\"},{\"attributes\":{\"data_source\":{\"id\":\"17965\",\"type\":\"ColumnDataSource\"},\"glyph\":{\"id\":\"18008\",\"type\":\"Circle\"},\"hover_glyph\":null,\"muted_glyph\":null,\"nonselection_glyph\":{\"id\":\"18009\",\"type\":\"Circle\"},\"selection_glyph\":null,\"view\":{\"id\":\"18011\",\"type\":\"CDSView\"}},\"id\":\"18010\",\"type\":\"GlyphRenderer\"},{\"attributes\":{\"below\":[{\"id\":\"18024\",\"type\":\"LinearAxis\"}],\"left\":[{\"id\":\"18029\",\"type\":\"LinearAxis\"}],\"plot_height\":200,\"plot_width\":400,\"renderers\":[{\"id\":\"18024\",\"type\":\"LinearAxis\"},{\"id\":\"18028\",\"type\":\"Grid\"},{\"id\":\"18029\",\"type\":\"LinearAxis\"},{\"id\":\"18033\",\"type\":\"Grid\"},{\"id\":\"18041\",\"type\":\"BoxAnnotation\"},{\"id\":\"18045\",\"type\":\"BoxAnnotation\"},{\"id\":\"18048\",\"type\":\"PolyAnnotation\"},{\"id\":\"18056\",\"type\":\"GlyphRenderer\"},{\"id\":\"18058\",\"type\":\"ColorBar\"}],\"right\":[{\"id\":\"18058\",\"type\":\"ColorBar\"}],\"sizing_mode\":\"scale_width\",\"title\":{\"id\":\"18013\",\"type\":\"Title\"},\"toolbar\":{\"id\":\"18040\",\"type\":\"Toolbar\"},\"toolbar_location\":null,\"x_range\":{\"id\":\"17970\",\"type\":\"DataRange1d\"},\"x_scale\":{\"id\":\"18020\",\"type\":\"LinearScale\"},\"y_range\":{\"id\":\"18018\",\"type\":\"DataRange1d\"},\"y_scale\":{\"id\":\"18022\",\"type\":\"LinearScale\"}},\"id\":\"18014\",\"subtype\":\"Figure\",\"type\":\"Plot\"},{\"attributes\":{\"callback\":null},\"id\":\"18018\",\"type\":\"DataRange1d\"},{\"attributes\":{},\"id\":\"18224\",\"type\":\"BasicTicker\"},{\"attributes\":{},\"id\":\"18225\",\"type\":\"BasicTickFormatter\"},{\"attributes\":{},\"id\":\"18227\",\"type\":\"BasicTickFormatter\"},{\"attributes\":{},\"id\":\"18229\",\"type\":\"BasicTickFormatter\"},{\"attributes\":{\"fill_color\":{\"field\":\"C\",\"transform\":{\"id\":\"17966\",\"type\":\"LinearColorMapper\"}},\"line_color\":{\"field\":\"C\",\"transform\":{\"id\":\"17966\",\"type\":\"LinearColorMapper\"}},\"size\":{\"units\":\"screen\",\"value\":2},\"x\":{\"field\":\"A\"},\"y\":{\"field\":\"A\"}},\"id\":\"18008\",\"type\":\"Circle\"},{\"attributes\":{\"fill_alpha\":{\"value\":0.1},\"fill_color\":{\"value\":\"#1f77b4\"},\"line_alpha\":{\"value\":0.1},\"line_color\":{\"value\":\"#1f77b4\"},\"size\":{\"units\":\"screen\",\"value\":2},\"x\":{\"field\":\"A\"},\"y\":{\"field\":\"A\"}},\"id\":\"18009\",\"type\":\"Circle\"},{\"attributes\":{},\"id\":\"18212\",\"type\":\"BasicTickFormatter\"},{\"attributes\":{\"fill_alpha\":{\"value\":0.5},\"fill_color\":{\"value\":\"lightgrey\"},\"level\":\"overlay\",\"line_alpha\":{\"value\":1.0},\"line_color\":{\"value\":\"black\"},\"line_dash\":[4,4],\"line_width\":{\"value\":2},\"plot\":null,\"xs_units\":\"screen\",\"ys_units\":\"screen\"},\"id\":\"18002\",\"type\":\"PolyAnnotation\"},{\"attributes\":{\"bottom_units\":\"screen\",\"fill_alpha\":{\"value\":0.5},\"fill_color\":{\"value\":\"lightgrey\"},\"left_units\":\"screen\",\"level\":\"overlay\",\"line_alpha\":{\"value\":1.0},\"line_color\":{\"value\":\"black\"},\"line_dash\":[4,4],\"line_width\":{\"value\":2},\"plot\":null,\"render_mode\":\"css\",\"right_units\":\"screen\",\"top_units\":\"screen\"},\"id\":\"17995\",\"type\":\"BoxAnnotation\"},{\"attributes\":{\"active_drag\":\"auto\",\"active_inspect\":\"auto\",\"active_multi\":null,\"active_scroll\":\"auto\",\"active_tap\":\"auto\",\"tools\":[{\"id\":\"17988\",\"type\":\"PanTool\"},{\"id\":\"17989\",\"type\":\"BoxZoomTool\"},{\"id\":\"17990\",\"type\":\"WheelZoomTool\"},{\"id\":\"17991\",\"type\":\"BoxSelectTool\"},{\"id\":\"17992\",\"type\":\"LassoSelectTool\"},{\"id\":\"17993\",\"type\":\"ResetTool\"}]},\"id\":\"17994\",\"type\":\"Toolbar\"},{\"attributes\":{},\"id\":\"17993\",\"type\":\"ResetTool\"},{\"attributes\":{\"callback\":null,\"overlay\":{\"id\":\"18002\",\"type\":\"PolyAnnotation\"}},\"id\":\"17992\",\"type\":\"LassoSelectTool\"},{\"attributes\":{\"callback\":null,\"overlay\":{\"id\":\"17999\",\"type\":\"BoxAnnotation\"}},\"id\":\"17991\",\"type\":\"BoxSelectTool\"},{\"attributes\":{},\"id\":\"17990\",\"type\":\"WheelZoomTool\"},{\"attributes\":{\"bottom_units\":\"screen\",\"fill_alpha\":{\"value\":0.5},\"fill_color\":{\"value\":\"lightgrey\"},\"left_units\":\"screen\",\"level\":\"overlay\",\"line_alpha\":{\"value\":1.0},\"line_color\":{\"value\":\"black\"},\"line_dash\":[4,4],\"line_width\":{\"value\":2},\"plot\":null,\"render_mode\":\"css\",\"right_units\":\"screen\",\"top_units\":\"screen\"},\"id\":\"17999\",\"type\":\"BoxAnnotation\"},{\"attributes\":{\"dimension\":1,\"plot\":{\"id\":\"18060\",\"subtype\":\"Figure\",\"type\":\"Plot\"},\"ticker\":{\"id\":\"18076\",\"type\":\"BasicTicker\"}},\"id\":\"18079\",\"type\":\"Grid\"},{\"attributes\":{},\"id\":\"18071\",\"type\":\"BasicTicker\"},{\"attributes\":{\"formatter\":{\"id\":\"18227\",\"type\":\"BasicTickFormatter\"},\"plot\":{\"id\":\"18060\",\"subtype\":\"Figure\",\"type\":\"Plot\"},\"ticker\":{\"id\":\"18071\",\"type\":\"BasicTicker\"}},\"id\":\"18070\",\"type\":\"LinearAxis\"},{\"attributes\":{\"formatter\":{\"id\":\"18229\",\"type\":\"BasicTickFormatter\"},\"plot\":{\"id\":\"18060\",\"subtype\":\"Figure\",\"type\":\"Plot\"},\"ticker\":{\"id\":\"18076\",\"type\":\"BasicTicker\"}},\"id\":\"18075\",\"type\":\"LinearAxis\"},{\"attributes\":{\"plot\":{\"id\":\"18060\",\"subtype\":\"Figure\",\"type\":\"Plot\"},\"ticker\":{\"id\":\"18071\",\"type\":\"BasicTicker\"}},\"id\":\"18074\",\"type\":\"Grid\"},{\"attributes\":{},\"id\":\"18076\",\"type\":\"BasicTicker\"},{\"attributes\":{\"plot\":{\"id\":\"17968\",\"subtype\":\"Figure\",\"type\":\"Plot\"},\"ticker\":{\"id\":\"17979\",\"type\":\"BasicTicker\"}},\"id\":\"17982\",\"type\":\"Grid\"},{\"attributes\":{\"formatter\":{\"id\":\"18203\",\"type\":\"BasicTickFormatter\"},\"plot\":{\"id\":\"17968\",\"subtype\":\"Figure\",\"type\":\"Plot\"},\"ticker\":{\"id\":\"17984\",\"type\":\"BasicTicker\"}},\"id\":\"17983\",\"type\":\"LinearAxis\"},{\"attributes\":{},\"id\":\"17984\",\"type\":\"BasicTicker\"},{\"attributes\":{\"dimension\":1,\"plot\":{\"id\":\"17968\",\"subtype\":\"Figure\",\"type\":\"Plot\"},\"ticker\":{\"id\":\"17984\",\"type\":\"BasicTicker\"}},\"id\":\"17987\",\"type\":\"Grid\"},{\"attributes\":{},\"id\":\"17988\",\"type\":\"PanTool\"},{\"attributes\":{\"overlay\":{\"id\":\"17995\",\"type\":\"BoxAnnotation\"}},\"id\":\"17989\",\"type\":\"BoxZoomTool\"},{\"attributes\":{\"callback\":null,\"overlay\":{\"id\":\"18094\",\"type\":\"PolyAnnotation\"}},\"id\":\"18084\",\"type\":\"LassoSelectTool\"},{\"attributes\":{},\"id\":\"18085\",\"type\":\"ResetTool\"},{\"attributes\":{\"active_drag\":\"auto\",\"active_inspect\":\"auto\",\"active_multi\":null,\"active_scroll\":\"auto\",\"active_tap\":\"auto\",\"tools\":[{\"id\":\"18080\",\"type\":\"PanTool\"},{\"id\":\"18081\",\"type\":\"BoxZoomTool\"},{\"id\":\"18082\",\"type\":\"WheelZoomTool\"},{\"id\":\"18083\",\"type\":\"BoxSelectTool\"},{\"id\":\"18084\",\"type\":\"LassoSelectTool\"},{\"id\":\"18085\",\"type\":\"ResetTool\"}]},\"id\":\"18086\",\"type\":\"Toolbar\"},{\"attributes\":{\"bottom_units\":\"screen\",\"fill_alpha\":{\"value\":0.5},\"fill_color\":{\"value\":\"lightgrey\"},\"left_units\":\"screen\",\"level\":\"overlay\",\"line_alpha\":{\"value\":1.0},\"line_color\":{\"value\":\"black\"},\"line_dash\":[4,4],\"line_width\":{\"value\":2},\"plot\":null,\"render_mode\":\"css\",\"right_units\":\"screen\",\"top_units\":\"screen\"},\"id\":\"18087\",\"type\":\"BoxAnnotation\"},{\"attributes\":{},\"id\":\"18080\",\"type\":\"PanTool\"},{\"attributes\":{\"overlay\":{\"id\":\"18087\",\"type\":\"BoxAnnotation\"}},\"id\":\"18081\",\"type\":\"BoxZoomTool\"},{\"attributes\":{},\"id\":\"18082\",\"type\":\"WheelZoomTool\"},{\"attributes\":{\"callback\":null,\"overlay\":{\"id\":\"18091\",\"type\":\"BoxAnnotation\"}},\"id\":\"18083\",\"type\":\"BoxSelectTool\"},{\"attributes\":{\"color_mapper\":{\"id\":\"17966\",\"type\":\"LinearColorMapper\"},\"formatter\":{\"id\":\"18225\",\"type\":\"BasicTickFormatter\"},\"location\":[0,0],\"plot\":{\"id\":\"18060\",\"subtype\":\"Figure\",\"type\":\"Plot\"},\"ticker\":{\"id\":\"18224\",\"type\":\"BasicTicker\"},\"width\":8},\"id\":\"18104\",\"type\":\"ColorBar\"},{\"attributes\":{},\"id\":\"18068\",\"type\":\"LinearScale\"},{\"attributes\":{\"fill_alpha\":{\"value\":0.1},\"fill_color\":{\"value\":\"#1f77b4\"},\"line_alpha\":{\"value\":0.1},\"line_color\":{\"value\":\"#1f77b4\"},\"size\":{\"units\":\"screen\",\"value\":2},\"x\":{\"field\":\"A\"},\"y\":{\"field\":\"C\"}},\"id\":\"18101\",\"type\":\"Circle\"},{\"attributes\":{\"fill_color\":{\"field\":\"C\",\"transform\":{\"id\":\"17966\",\"type\":\"LinearColorMapper\"}},\"line_color\":{\"field\":\"C\",\"transform\":{\"id\":\"17966\",\"type\":\"LinearColorMapper\"}},\"size\":{\"units\":\"screen\",\"value\":2},\"x\":{\"field\":\"A\"},\"y\":{\"field\":\"C\"}},\"id\":\"18100\",\"type\":\"Circle\"},{\"attributes\":{\"source\":{\"id\":\"17965\",\"type\":\"ColumnDataSource\"}},\"id\":\"18103\",\"type\":\"CDSView\"},{\"attributes\":{\"data_source\":{\"id\":\"17965\",\"type\":\"ColumnDataSource\"},\"glyph\":{\"id\":\"18100\",\"type\":\"Circle\"},\"hover_glyph\":null,\"muted_glyph\":null,\"nonselection_glyph\":{\"id\":\"18101\",\"type\":\"Circle\"},\"selection_glyph\":null,\"view\":{\"id\":\"18103\",\"type\":\"CDSView\"}},\"id\":\"18102\",\"type\":\"GlyphRenderer\"},{\"attributes\":{\"below\":[{\"id\":\"18070\",\"type\":\"LinearAxis\"}],\"left\":[{\"id\":\"18075\",\"type\":\"LinearAxis\"}],\"plot_height\":200,\"plot_width\":400,\"renderers\":[{\"id\":\"18070\",\"type\":\"LinearAxis\"},{\"id\":\"18074\",\"type\":\"Grid\"},{\"id\":\"18075\",\"type\":\"LinearAxis\"},{\"id\":\"18079\",\"type\":\"Grid\"},{\"id\":\"18087\",\"type\":\"BoxAnnotation\"},{\"id\":\"18091\",\"type\":\"BoxAnnotation\"},{\"id\":\"18094\",\"type\":\"PolyAnnotation\"},{\"id\":\"18102\",\"type\":\"GlyphRenderer\"},{\"id\":\"18104\",\"type\":\"ColorBar\"}],\"right\":[{\"id\":\"18104\",\"type\":\"ColorBar\"}],\"sizing_mode\":\"scale_width\",\"title\":{\"id\":\"18059\",\"type\":\"Title\"},\"toolbar\":{\"id\":\"18086\",\"type\":\"Toolbar\"},\"toolbar_location\":null,\"x_range\":{\"id\":\"17970\",\"type\":\"DataRange1d\"},\"x_scale\":{\"id\":\"18066\",\"type\":\"LinearScale\"},\"y_range\":{\"id\":\"18064\",\"type\":\"DataRange1d\"},\"y_scale\":{\"id\":\"18068\",\"type\":\"LinearScale\"}},\"id\":\"18060\",\"subtype\":\"Figure\",\"type\":\"Plot\"},{\"attributes\":{},\"id\":\"18066\",\"type\":\"LinearScale\"},{\"attributes\":{\"callback\":null},\"id\":\"18064\",\"type\":\"DataRange1d\"},{\"attributes\":{},\"id\":\"17979\",\"type\":\"BasicTicker\"},{\"attributes\":{\"formatter\":{\"id\":\"18201\",\"type\":\"BasicTickFormatter\"},\"plot\":{\"id\":\"17968\",\"subtype\":\"Figure\",\"type\":\"Plot\"},\"ticker\":{\"id\":\"17979\",\"type\":\"BasicTicker\"}},\"id\":\"17978\",\"type\":\"LinearAxis\"},{\"attributes\":{},\"id\":\"17974\",\"type\":\"LinearScale\"},{\"attributes\":{},\"id\":\"17976\",\"type\":\"LinearScale\"},{\"attributes\":{\"callback\":null},\"id\":\"17970\",\"type\":\"DataRange1d\"},{\"attributes\":{\"callback\":null},\"id\":\"17972\",\"type\":\"DataRange1d\"},{\"attributes\":{\"source\":{\"id\":\"17965\",\"type\":\"ColumnDataSource\"}},\"id\":\"18057\",\"type\":\"CDSView\"},{\"attributes\":{\"data_source\":{\"id\":\"17965\",\"type\":\"ColumnDataSource\"},\"glyph\":{\"id\":\"18054\",\"type\":\"Circle\"},\"hover_glyph\":null,\"muted_glyph\":null,\"nonselection_glyph\":{\"id\":\"18055\",\"type\":\"Circle\"},\"selection_glyph\":null,\"view\":{\"id\":\"18057\",\"type\":\"CDSView\"}},\"id\":\"18056\",\"type\":\"GlyphRenderer\"},{\"attributes\":{\"fill_alpha\":{\"value\":0.1},\"fill_color\":{\"value\":\"#1f77b4\"},\"line_alpha\":{\"value\":0.1},\"line_color\":{\"value\":\"#1f77b4\"},\"size\":{\"units\":\"screen\",\"value\":2},\"x\":{\"field\":\"A\"},\"y\":{\"field\":\"B\"}},\"id\":\"18055\",\"type\":\"Circle\"},{\"attributes\":{\"fill_color\":{\"field\":\"C\",\"transform\":{\"id\":\"17966\",\"type\":\"LinearColorMapper\"}},\"line_color\":{\"field\":\"C\",\"transform\":{\"id\":\"17966\",\"type\":\"LinearColorMapper\"}},\"size\":{\"units\":\"screen\",\"value\":2},\"x\":{\"field\":\"A\"},\"y\":{\"field\":\"B\"}},\"id\":\"18054\",\"type\":\"Circle\"},{\"attributes\":{},\"id\":\"18198\",\"type\":\"BasicTicker\"},{\"attributes\":{},\"id\":\"18199\",\"type\":\"BasicTickFormatter\"},{\"attributes\":{},\"id\":\"18214\",\"type\":\"BasicTickFormatter\"},{\"attributes\":{},\"id\":\"18216\",\"type\":\"BasicTickFormatter\"},{\"attributes\":{},\"id\":\"18211\",\"type\":\"BasicTicker\"},{\"attributes\":{\"plot\":null,\"text\":\"C vs A  Color=C\"},\"id\":\"18059\",\"type\":\"Title\"},{\"attributes\":{\"color_mapper\":{\"id\":\"17966\",\"type\":\"LinearColorMapper\"},\"formatter\":{\"id\":\"18212\",\"type\":\"BasicTickFormatter\"},\"location\":[0,0],\"plot\":{\"id\":\"18014\",\"subtype\":\"Figure\",\"type\":\"Plot\"},\"ticker\":{\"id\":\"18211\",\"type\":\"BasicTicker\"},\"width\":8},\"id\":\"18058\",\"type\":\"ColorBar\"},{\"attributes\":{\"below\":[{\"id\":\"17978\",\"type\":\"LinearAxis\"}],\"left\":[{\"id\":\"17983\",\"type\":\"LinearAxis\"}],\"plot_height\":200,\"plot_width\":400,\"renderers\":[{\"id\":\"17978\",\"type\":\"LinearAxis\"},{\"id\":\"17982\",\"type\":\"Grid\"},{\"id\":\"17983\",\"type\":\"LinearAxis\"},{\"id\":\"17987\",\"type\":\"Grid\"},{\"id\":\"17995\",\"type\":\"BoxAnnotation\"},{\"id\":\"17999\",\"type\":\"BoxAnnotation\"},{\"id\":\"18002\",\"type\":\"PolyAnnotation\"},{\"id\":\"18010\",\"type\":\"GlyphRenderer\"},{\"id\":\"18012\",\"type\":\"ColorBar\"}],\"right\":[{\"id\":\"18012\",\"type\":\"ColorBar\"}],\"sizing_mode\":\"scale_width\",\"title\":{\"id\":\"17967\",\"type\":\"Title\"},\"toolbar\":{\"id\":\"17994\",\"type\":\"Toolbar\"},\"toolbar_location\":null,\"x_range\":{\"id\":\"17970\",\"type\":\"DataRange1d\"},\"x_scale\":{\"id\":\"17974\",\"type\":\"LinearScale\"},\"y_range\":{\"id\":\"17972\",\"type\":\"DataRange1d\"},\"y_scale\":{\"id\":\"17976\",\"type\":\"LinearScale\"}},\"id\":\"17968\",\"subtype\":\"Figure\",\"type\":\"Plot\"},{\"attributes\":{\"high\":98,\"low\":0,\"palette\":[\"#3288bd\",\"#99d594\",\"#e6f598\",\"#fee08b\",\"#fc8d59\",\"#d53e4f\"]},\"id\":\"17966\",\"type\":\"LinearColorMapper\"},{\"attributes\":{\"plot\":null,\"text\":\"A vs A  Color=C\"},\"id\":\"17967\",\"type\":\"Title\"},{\"attributes\":{\"callback\":null,\"data\":{\"A\":[2,2,3,4,4,4,4,5,5,6,6,6,6,6,7,8,8,8,9,9,11,12,12,12,13,13,14,14,14,15,15,15,16,16,17,17,17,18,19,19,19,19,19,21,21,21,22,23,23,24,24,24,25,25,26,27,27,27,27,27,29,29,29,29,29,30,31,31,31,32,33,34,34,34,37,37,38,38,39,39,40,41,41,41,44,44,44,44,46,47,48,48,49,49,49,49,49,50,50,51,51,52,52,52,52,53,53,53,54,54,55,55,55,56,56,56,56,56,57,57,58,58,58,59,59,60,61,64,66,66,66,67,67,68,68,69,69,69,70,70,70,71,71,71,71,72,72,72,72,73,73,73,74,74,77,78,78,78,79,79,79,79,79,82,82,83,83,83,84,84,85,86,86,86,86,87,87,87,87,87,88,89,89,89,89,89,90,91,91,92,94,95,96,97,98,98,98,98,99],\"B\":[67,28,63,79,22,47,44,54,69,83,64,36,93,27,95,66,71,65,11,12,35,54,99,22,5,96,38,38,83,98,88,92,63,66,99,47,78,39,53,49,38,32,59,78,50,68,71,93,4,60,54,63,18,97,40,25,83,24,60,65,1,61,24,35,1,94,17,79,63,45,39,41,97,78,74,96,23,76,28,73,16,53,70,37,91,64,88,23,78,57,69,70,40,26,53,40,62,93,69,9,67,38,89,65,50,47,34,56,7,76,59,97,89,53,67,48,35,97,31,16,14,38,43,75,31,14,25,1,37,42,38,54,76,49,87,1,65,34,20,5,19,80,89,57,25,72,23,62,20,55,66,59,92,72,57,5,27,50,8,12,89,99,53,77,68,31,76,33,51,51,8,81,6,63,12,58,77,64,59,16,69,56,81,92,99,99,2,43,89,75,61,86,87,97,2,48,64,70,25],\"C\":[9,3,1,58,32,17,63,64,70,33,72,17,30,34,78,20,58,42,12,86,6,91,83,40,90,5,10,40,8,60,6,89,55,63,54,9,93,28,58,83,93,71,74,71,25,70,9,66,16,87,17,11,70,81,17,6,26,65,76,36,93,8,45,30,66,59,68,98,28,21,82,11,48,35,74,86,49,53,53,33,5,86,1,85,61,13,31,62,29,74,82,44,68,75,49,72,45,50,78,92,54,19,79,63,37,27,97,85,17,43,75,83,33,37,11,3,40,90,98,80,14,3,17,17,44,52,53,31,25,48,15,65,54,4,85,85,34,92,23,33,60,47,28,31,95,52,78,28,73,94,82,40,5,81,26,43,0,91,50,61,5,1,37,49,74,44,9,18,97,33,85,47,61,2,84,64,2,20,96,87,97,17,22,31,61,98,61,31,75,60,54,11,85,8,35,59,80,21,62],\"D\":[38,13,39,74,69,92,50,29,87,51,37,30,92,77,29,2,17,22,3,89,94,81,30,23,63,85,38,21,79,5,36,13,84,2,60,94,71,9,62,69,59,93,51,61,46,44,23,37,13,99,23,63,92,41,33,84,19,40,34,79,33,27,86,97,56,85,21,6,9,23,67,13,99,13,14,2,33,36,12,4,46,85,61,42,94,4,12,73,52,51,20,4,51,94,21,61,71,36,47,25,28,70,22,5,73,61,60,66,65,15,22,25,16,52,82,28,77,28,20,15,28,12,36,56,2,47,63,25,27,97,84,30,69,67,50,79,96,23,49,1,68,65,97,3,56,10,43,91,21,46,23,20,14,87,29,54,39,20,38,72,57,30,4,77,94,74,24,33,97,5,16,87,83,35,37,83,31,64,46,3,43,53,62,16,9,2,10,68,14,64,84,80,93,91,14,73,26,76,36],\"index\":[86,42,57,160,71,166,122,26,148,190,21,154,3,189,27,184,120,39,30,134,12,90,151,1,47,147,196,29,40,137,108,2,128,138,75,24,121,198,165,0,199,22,25,67,17,112,70,23,28,76,80,93,150,94,107,180,133,6,48,175,85,181,159,9,61,106,171,50,186,114,82,143,174,64,98,172,14,95,20,170,191,52,129,89,109,193,125,162,176,10,149,197,33,136,7,126,110,117,32,65,72,140,145,62,118,155,168,132,92,194,116,187,16,15,11,60,192,104,91,101,58,103,127,83,163,19,113,178,35,111,100,135,141,115,169,53,153,59,152,69,144,79,56,97,36,105,161,45,34,167,38,173,5,88,130,18,131,43,73,37,68,55,99,157,63,119,51,96,54,74,13,46,49,66,84,182,77,87,41,158,188,44,4,78,139,146,142,185,156,183,31,124,177,123,179,164,81,8,102]},\"selected\":{\"id\":\"18204\",\"type\":\"Selection\"},\"selection_policy\":{\"id\":\"18205\",\"type\":\"UnionRenderers\"}},\"id\":\"17965\",\"type\":\"ColumnDataSource\"},{\"attributes\":{\"active_drag\":\"auto\",\"active_inspect\":\"auto\",\"active_multi\":null,\"active_scroll\":\"auto\",\"active_tap\":\"auto\",\"tools\":[{\"id\":\"18034\",\"type\":\"PanTool\"},{\"id\":\"18035\",\"type\":\"BoxZoomTool\"},{\"id\":\"18036\",\"type\":\"WheelZoomTool\"},{\"id\":\"18037\",\"type\":\"BoxSelectTool\"},{\"id\":\"18038\",\"type\":\"LassoSelectTool\"},{\"id\":\"18039\",\"type\":\"ResetTool\"}]},\"id\":\"18040\",\"type\":\"Toolbar\"},{\"attributes\":{\"bottom_units\":\"screen\",\"fill_alpha\":{\"value\":0.5},\"fill_color\":{\"value\":\"lightgrey\"},\"left_units\":\"screen\",\"level\":\"overlay\",\"line_alpha\":{\"value\":1.0},\"line_color\":{\"value\":\"black\"},\"line_dash\":[4,4],\"line_width\":{\"value\":2},\"plot\":null,\"render_mode\":\"css\",\"right_units\":\"screen\",\"top_units\":\"screen\"},\"id\":\"18041\",\"type\":\"BoxAnnotation\"},{\"attributes\":{\"bottom_units\":\"screen\",\"fill_alpha\":{\"value\":0.5},\"fill_color\":{\"value\":\"lightgrey\"},\"left_units\":\"screen\",\"level\":\"overlay\",\"line_alpha\":{\"value\":1.0},\"line_color\":{\"value\":\"black\"},\"line_dash\":[4,4],\"line_width\":{\"value\":2},\"plot\":null,\"render_mode\":\"css\",\"right_units\":\"screen\",\"top_units\":\"screen\"},\"id\":\"18045\",\"type\":\"BoxAnnotation\"},{\"attributes\":{\"fill_alpha\":{\"value\":0.5},\"fill_color\":{\"value\":\"lightgrey\"},\"level\":\"overlay\",\"line_alpha\":{\"value\":1.0},\"line_color\":{\"value\":\"black\"},\"line_dash\":[4,4],\"line_width\":{\"value\":2},\"plot\":null,\"xs_units\":\"screen\",\"ys_units\":\"screen\"},\"id\":\"18048\",\"type\":\"PolyAnnotation\"},{\"attributes\":{},\"id\":\"18204\",\"type\":\"Selection\"},{\"attributes\":{},\"id\":\"18205\",\"type\":\"UnionRenderers\"},{\"attributes\":{\"children\":[{\"id\":\"18014\",\"subtype\":\"Figure\",\"type\":\"Plot\"},{\"id\":\"18060\",\"subtype\":\"Figure\",\"type\":\"Plot\"}],\"sizing_mode\":\"scale_width\"},\"id\":\"33601\",\"type\":\"Row\"},{\"attributes\":{},\"id\":\"18203\",\"type\":\"BasicTickFormatter\"},{\"attributes\":{},\"id\":\"18201\",\"type\":\"BasicTickFormatter\"},{\"attributes\":{\"overlay\":{\"id\":\"18041\",\"type\":\"BoxAnnotation\"}},\"id\":\"18035\",\"type\":\"BoxZoomTool\"},{\"attributes\":{},\"id\":\"18034\",\"type\":\"PanTool\"},{\"attributes\":{\"callback\":null,\"overlay\":{\"id\":\"18045\",\"type\":\"BoxAnnotation\"}},\"id\":\"18037\",\"type\":\"BoxSelectTool\"},{\"attributes\":{},\"id\":\"18036\",\"type\":\"WheelZoomTool\"},{\"attributes\":{},\"id\":\"18030\",\"type\":\"BasicTicker\"},{\"attributes\":{\"dimension\":1,\"plot\":{\"id\":\"18014\",\"subtype\":\"Figure\",\"type\":\"Plot\"},\"ticker\":{\"id\":\"18030\",\"type\":\"BasicTicker\"}},\"id\":\"18033\",\"type\":\"Grid\"},{\"attributes\":{},\"id\":\"18039\",\"type\":\"ResetTool\"},{\"attributes\":{\"callback\":null,\"overlay\":{\"id\":\"18048\",\"type\":\"PolyAnnotation\"}},\"id\":\"18038\",\"type\":\"LassoSelectTool\"},{\"attributes\":{\"formatter\":{\"id\":\"18214\",\"type\":\"BasicTickFormatter\"},\"plot\":{\"id\":\"18014\",\"subtype\":\"Figure\",\"type\":\"Plot\"},\"ticker\":{\"id\":\"18025\",\"type\":\"BasicTicker\"}},\"id\":\"18024\",\"type\":\"LinearAxis\"},{\"attributes\":{},\"id\":\"18025\",\"type\":\"BasicTicker\"},{\"attributes\":{},\"id\":\"18022\",\"type\":\"LinearScale\"},{\"attributes\":{},\"id\":\"18020\",\"type\":\"LinearScale\"},{\"attributes\":{\"children\":[{\"id\":\"17968\",\"subtype\":\"Figure\",\"type\":\"Plot\"},{\"id\":\"33601\",\"type\":\"Row\"}],\"sizing_mode\":\"scale_width\"},\"id\":\"33602\",\"type\":\"Column\"},{\"attributes\":{\"plot\":{\"id\":\"18014\",\"subtype\":\"Figure\",\"type\":\"Plot\"},\"ticker\":{\"id\":\"18025\",\"type\":\"BasicTicker\"}},\"id\":\"18028\",\"type\":\"Grid\"},{\"attributes\":{\"formatter\":{\"id\":\"18216\",\"type\":\"BasicTickFormatter\"},\"plot\":{\"id\":\"18014\",\"subtype\":\"Figure\",\"type\":\"Plot\"},\"ticker\":{\"id\":\"18030\",\"type\":\"BasicTicker\"}},\"id\":\"18029\",\"type\":\"LinearAxis\"}],\"root_ids\":[\"33602\"]},\"title\":\"Bokeh Application\",\"version\":\"1.0.1\"}};\n",
       "  var render_items = [{\"docid\":\"ce07e53e-d964-467b-8eb2-ce248e482a22\",\"roots\":{\"33602\":\"2be3601d-808b-4c00-9be5-1a33778296b5\"}}];\n",
       "  root.Bokeh.embed.embed_items_notebook(docs_json, render_items);\n",
       "\n",
       "  }\n",
       "  if (root.Bokeh !== undefined) {\n",
       "    embed_document(root);\n",
       "  } else {\n",
       "    var attempts = 0;\n",
       "    var timer = setInterval(function(root) {\n",
       "      if (root.Bokeh !== undefined) {\n",
       "        embed_document(root);\n",
       "        clearInterval(timer);\n",
       "      }\n",
       "      attempts++;\n",
       "      if (attempts > 100) {\n",
       "        console.log(\"Bokeh: ERROR: Unable to run BokehJS code because BokehJS library is missing\");\n",
       "        clearInterval(timer);\n",
       "      }\n",
       "    }, 10, root)\n",
       "  }\n",
       "})(window);"
      ],
      "application/vnd.bokehjs_exec.v0+json": ""
     },
     "metadata": {
      "application/vnd.bokehjs_exec.v0+json": {
       "id": "33602"
      }
     },
     "output_type": "display_data"
    }
   ],
   "source": [
    "figList[0]\n",
    "fff=layout( children=[figList[0],[figList[1], figList[2]] ],sizing_mode='scale_width')\n",
    "show(fff)"
   ]
  },
  {
   "cell_type": "code",
   "execution_count": 55,
   "metadata": {},
   "outputs": [
    {
     "data": {
      "text/html": [
       "\n",
       "\n",
       "\n",
       "\n",
       "\n",
       "\n",
       "  <div class=\"bk-root\" id=\"f8574087-e14f-4693-b746-f413d2ac77da\"></div>\n"
      ]
     },
     "metadata": {},
     "output_type": "display_data"
    },
    {
     "data": {
      "application/javascript": [
       "(function(root) {\n",
       "  function embed_document(root) {\n",
       "    \n",
       "  var docs_json = {\"c831d4e6-6656-4854-8cde-fe518245f0c4\":{\"roots\":{\"references\":[{\"attributes\":{\"bottom_units\":\"screen\",\"fill_alpha\":{\"value\":0.5},\"fill_color\":{\"value\":\"lightgrey\"},\"left_units\":\"screen\",\"level\":\"overlay\",\"line_alpha\":{\"value\":1.0},\"line_color\":{\"value\":\"black\"},\"line_dash\":[4,4],\"line_width\":{\"value\":2},\"plot\":null,\"render_mode\":\"css\",\"right_units\":\"screen\",\"top_units\":\"screen\"},\"id\":\"18091\",\"type\":\"BoxAnnotation\"},{\"attributes\":{\"fill_alpha\":{\"value\":0.5},\"fill_color\":{\"value\":\"lightgrey\"},\"level\":\"overlay\",\"line_alpha\":{\"value\":1.0},\"line_color\":{\"value\":\"black\"},\"line_dash\":[4,4],\"line_width\":{\"value\":2},\"plot\":null,\"xs_units\":\"screen\",\"ys_units\":\"screen\"},\"id\":\"18094\",\"type\":\"PolyAnnotation\"},{\"attributes\":{\"plot\":null,\"text\":\"B vs A  Color=C\"},\"id\":\"18013\",\"type\":\"Title\"},{\"attributes\":{\"color_mapper\":{\"id\":\"17966\",\"type\":\"LinearColorMapper\"},\"formatter\":{\"id\":\"18199\",\"type\":\"BasicTickFormatter\"},\"location\":[0,0],\"plot\":{\"id\":\"17968\",\"subtype\":\"Figure\",\"type\":\"Plot\"},\"ticker\":{\"id\":\"18198\",\"type\":\"BasicTicker\"},\"width\":8},\"id\":\"18012\",\"type\":\"ColorBar\"},{\"attributes\":{\"source\":{\"id\":\"17965\",\"type\":\"ColumnDataSource\"}},\"id\":\"18011\",\"type\":\"CDSView\"},{\"attributes\":{\"data_source\":{\"id\":\"17965\",\"type\":\"ColumnDataSource\"},\"glyph\":{\"id\":\"18008\",\"type\":\"Circle\"},\"hover_glyph\":null,\"muted_glyph\":null,\"nonselection_glyph\":{\"id\":\"18009\",\"type\":\"Circle\"},\"selection_glyph\":null,\"view\":{\"id\":\"18011\",\"type\":\"CDSView\"}},\"id\":\"18010\",\"type\":\"GlyphRenderer\"},{\"attributes\":{\"below\":[{\"id\":\"18024\",\"type\":\"LinearAxis\"}],\"left\":[{\"id\":\"18029\",\"type\":\"LinearAxis\"}],\"plot_height\":200,\"plot_width\":400,\"renderers\":[{\"id\":\"18024\",\"type\":\"LinearAxis\"},{\"id\":\"18028\",\"type\":\"Grid\"},{\"id\":\"18029\",\"type\":\"LinearAxis\"},{\"id\":\"18033\",\"type\":\"Grid\"},{\"id\":\"18041\",\"type\":\"BoxAnnotation\"},{\"id\":\"18045\",\"type\":\"BoxAnnotation\"},{\"id\":\"18048\",\"type\":\"PolyAnnotation\"},{\"id\":\"18056\",\"type\":\"GlyphRenderer\"},{\"id\":\"18058\",\"type\":\"ColorBar\"}],\"right\":[{\"id\":\"18058\",\"type\":\"ColorBar\"}],\"sizing_mode\":\"scale_both\",\"title\":{\"id\":\"18013\",\"type\":\"Title\"},\"toolbar\":{\"id\":\"18040\",\"type\":\"Toolbar\"},\"toolbar_location\":null,\"x_range\":{\"id\":\"17970\",\"type\":\"DataRange1d\"},\"x_scale\":{\"id\":\"18020\",\"type\":\"LinearScale\"},\"y_range\":{\"id\":\"18018\",\"type\":\"DataRange1d\"},\"y_scale\":{\"id\":\"18022\",\"type\":\"LinearScale\"}},\"id\":\"18014\",\"subtype\":\"Figure\",\"type\":\"Plot\"},{\"attributes\":{\"callback\":null},\"id\":\"18018\",\"type\":\"DataRange1d\"},{\"attributes\":{},\"id\":\"18224\",\"type\":\"BasicTicker\"},{\"attributes\":{},\"id\":\"18225\",\"type\":\"BasicTickFormatter\"},{\"attributes\":{},\"id\":\"18227\",\"type\":\"BasicTickFormatter\"},{\"attributes\":{},\"id\":\"18229\",\"type\":\"BasicTickFormatter\"},{\"attributes\":{\"fill_color\":{\"field\":\"C\",\"transform\":{\"id\":\"17966\",\"type\":\"LinearColorMapper\"}},\"line_color\":{\"field\":\"C\",\"transform\":{\"id\":\"17966\",\"type\":\"LinearColorMapper\"}},\"size\":{\"units\":\"screen\",\"value\":2},\"x\":{\"field\":\"A\"},\"y\":{\"field\":\"A\"}},\"id\":\"18008\",\"type\":\"Circle\"},{\"attributes\":{\"fill_alpha\":{\"value\":0.1},\"fill_color\":{\"value\":\"#1f77b4\"},\"line_alpha\":{\"value\":0.1},\"line_color\":{\"value\":\"#1f77b4\"},\"size\":{\"units\":\"screen\",\"value\":2},\"x\":{\"field\":\"A\"},\"y\":{\"field\":\"A\"}},\"id\":\"18009\",\"type\":\"Circle\"},{\"attributes\":{},\"id\":\"18212\",\"type\":\"BasicTickFormatter\"},{\"attributes\":{\"fill_alpha\":{\"value\":0.5},\"fill_color\":{\"value\":\"lightgrey\"},\"level\":\"overlay\",\"line_alpha\":{\"value\":1.0},\"line_color\":{\"value\":\"black\"},\"line_dash\":[4,4],\"line_width\":{\"value\":2},\"plot\":null,\"xs_units\":\"screen\",\"ys_units\":\"screen\"},\"id\":\"18002\",\"type\":\"PolyAnnotation\"},{\"attributes\":{\"bottom_units\":\"screen\",\"fill_alpha\":{\"value\":0.5},\"fill_color\":{\"value\":\"lightgrey\"},\"left_units\":\"screen\",\"level\":\"overlay\",\"line_alpha\":{\"value\":1.0},\"line_color\":{\"value\":\"black\"},\"line_dash\":[4,4],\"line_width\":{\"value\":2},\"plot\":null,\"render_mode\":\"css\",\"right_units\":\"screen\",\"top_units\":\"screen\"},\"id\":\"17995\",\"type\":\"BoxAnnotation\"},{\"attributes\":{\"active_drag\":\"auto\",\"active_inspect\":\"auto\",\"active_multi\":null,\"active_scroll\":\"auto\",\"active_tap\":\"auto\",\"tools\":[{\"id\":\"17988\",\"type\":\"PanTool\"},{\"id\":\"17989\",\"type\":\"BoxZoomTool\"},{\"id\":\"17990\",\"type\":\"WheelZoomTool\"},{\"id\":\"17991\",\"type\":\"BoxSelectTool\"},{\"id\":\"17992\",\"type\":\"LassoSelectTool\"},{\"id\":\"17993\",\"type\":\"ResetTool\"}]},\"id\":\"17994\",\"type\":\"Toolbar\"},{\"attributes\":{},\"id\":\"17993\",\"type\":\"ResetTool\"},{\"attributes\":{\"callback\":null,\"overlay\":{\"id\":\"18002\",\"type\":\"PolyAnnotation\"}},\"id\":\"17992\",\"type\":\"LassoSelectTool\"},{\"attributes\":{\"callback\":null,\"overlay\":{\"id\":\"17999\",\"type\":\"BoxAnnotation\"}},\"id\":\"17991\",\"type\":\"BoxSelectTool\"},{\"attributes\":{},\"id\":\"17990\",\"type\":\"WheelZoomTool\"},{\"attributes\":{\"bottom_units\":\"screen\",\"fill_alpha\":{\"value\":0.5},\"fill_color\":{\"value\":\"lightgrey\"},\"left_units\":\"screen\",\"level\":\"overlay\",\"line_alpha\":{\"value\":1.0},\"line_color\":{\"value\":\"black\"},\"line_dash\":[4,4],\"line_width\":{\"value\":2},\"plot\":null,\"render_mode\":\"css\",\"right_units\":\"screen\",\"top_units\":\"screen\"},\"id\":\"17999\",\"type\":\"BoxAnnotation\"},{\"attributes\":{\"dimension\":1,\"plot\":{\"id\":\"18060\",\"subtype\":\"Figure\",\"type\":\"Plot\"},\"ticker\":{\"id\":\"18076\",\"type\":\"BasicTicker\"}},\"id\":\"18079\",\"type\":\"Grid\"},{\"attributes\":{},\"id\":\"18071\",\"type\":\"BasicTicker\"},{\"attributes\":{\"formatter\":{\"id\":\"18227\",\"type\":\"BasicTickFormatter\"},\"plot\":{\"id\":\"18060\",\"subtype\":\"Figure\",\"type\":\"Plot\"},\"ticker\":{\"id\":\"18071\",\"type\":\"BasicTicker\"}},\"id\":\"18070\",\"type\":\"LinearAxis\"},{\"attributes\":{\"formatter\":{\"id\":\"18229\",\"type\":\"BasicTickFormatter\"},\"plot\":{\"id\":\"18060\",\"subtype\":\"Figure\",\"type\":\"Plot\"},\"ticker\":{\"id\":\"18076\",\"type\":\"BasicTicker\"}},\"id\":\"18075\",\"type\":\"LinearAxis\"},{\"attributes\":{\"plot\":{\"id\":\"18060\",\"subtype\":\"Figure\",\"type\":\"Plot\"},\"ticker\":{\"id\":\"18071\",\"type\":\"BasicTicker\"}},\"id\":\"18074\",\"type\":\"Grid\"},{\"attributes\":{},\"id\":\"18076\",\"type\":\"BasicTicker\"},{\"attributes\":{\"plot\":{\"id\":\"17968\",\"subtype\":\"Figure\",\"type\":\"Plot\"},\"ticker\":{\"id\":\"17979\",\"type\":\"BasicTicker\"}},\"id\":\"17982\",\"type\":\"Grid\"},{\"attributes\":{\"formatter\":{\"id\":\"18203\",\"type\":\"BasicTickFormatter\"},\"plot\":{\"id\":\"17968\",\"subtype\":\"Figure\",\"type\":\"Plot\"},\"ticker\":{\"id\":\"17984\",\"type\":\"BasicTicker\"}},\"id\":\"17983\",\"type\":\"LinearAxis\"},{\"attributes\":{},\"id\":\"17984\",\"type\":\"BasicTicker\"},{\"attributes\":{\"dimension\":1,\"plot\":{\"id\":\"17968\",\"subtype\":\"Figure\",\"type\":\"Plot\"},\"ticker\":{\"id\":\"17984\",\"type\":\"BasicTicker\"}},\"id\":\"17987\",\"type\":\"Grid\"},{\"attributes\":{},\"id\":\"17988\",\"type\":\"PanTool\"},{\"attributes\":{\"overlay\":{\"id\":\"17995\",\"type\":\"BoxAnnotation\"}},\"id\":\"17989\",\"type\":\"BoxZoomTool\"},{\"attributes\":{\"callback\":null,\"overlay\":{\"id\":\"18094\",\"type\":\"PolyAnnotation\"}},\"id\":\"18084\",\"type\":\"LassoSelectTool\"},{\"attributes\":{},\"id\":\"18085\",\"type\":\"ResetTool\"},{\"attributes\":{\"active_drag\":\"auto\",\"active_inspect\":\"auto\",\"active_multi\":null,\"active_scroll\":\"auto\",\"active_tap\":\"auto\",\"tools\":[{\"id\":\"18080\",\"type\":\"PanTool\"},{\"id\":\"18081\",\"type\":\"BoxZoomTool\"},{\"id\":\"18082\",\"type\":\"WheelZoomTool\"},{\"id\":\"18083\",\"type\":\"BoxSelectTool\"},{\"id\":\"18084\",\"type\":\"LassoSelectTool\"},{\"id\":\"18085\",\"type\":\"ResetTool\"}]},\"id\":\"18086\",\"type\":\"Toolbar\"},{\"attributes\":{\"bottom_units\":\"screen\",\"fill_alpha\":{\"value\":0.5},\"fill_color\":{\"value\":\"lightgrey\"},\"left_units\":\"screen\",\"level\":\"overlay\",\"line_alpha\":{\"value\":1.0},\"line_color\":{\"value\":\"black\"},\"line_dash\":[4,4],\"line_width\":{\"value\":2},\"plot\":null,\"render_mode\":\"css\",\"right_units\":\"screen\",\"top_units\":\"screen\"},\"id\":\"18087\",\"type\":\"BoxAnnotation\"},{\"attributes\":{},\"id\":\"18080\",\"type\":\"PanTool\"},{\"attributes\":{\"overlay\":{\"id\":\"18087\",\"type\":\"BoxAnnotation\"}},\"id\":\"18081\",\"type\":\"BoxZoomTool\"},{\"attributes\":{},\"id\":\"18082\",\"type\":\"WheelZoomTool\"},{\"attributes\":{\"callback\":null,\"overlay\":{\"id\":\"18091\",\"type\":\"BoxAnnotation\"}},\"id\":\"18083\",\"type\":\"BoxSelectTool\"},{\"attributes\":{\"color_mapper\":{\"id\":\"17966\",\"type\":\"LinearColorMapper\"},\"formatter\":{\"id\":\"18225\",\"type\":\"BasicTickFormatter\"},\"location\":[0,0],\"plot\":{\"id\":\"18060\",\"subtype\":\"Figure\",\"type\":\"Plot\"},\"ticker\":{\"id\":\"18224\",\"type\":\"BasicTicker\"},\"width\":8},\"id\":\"18104\",\"type\":\"ColorBar\"},{\"attributes\":{},\"id\":\"18068\",\"type\":\"LinearScale\"},{\"attributes\":{\"fill_alpha\":{\"value\":0.1},\"fill_color\":{\"value\":\"#1f77b4\"},\"line_alpha\":{\"value\":0.1},\"line_color\":{\"value\":\"#1f77b4\"},\"size\":{\"units\":\"screen\",\"value\":2},\"x\":{\"field\":\"A\"},\"y\":{\"field\":\"C\"}},\"id\":\"18101\",\"type\":\"Circle\"},{\"attributes\":{\"fill_color\":{\"field\":\"C\",\"transform\":{\"id\":\"17966\",\"type\":\"LinearColorMapper\"}},\"line_color\":{\"field\":\"C\",\"transform\":{\"id\":\"17966\",\"type\":\"LinearColorMapper\"}},\"size\":{\"units\":\"screen\",\"value\":2},\"x\":{\"field\":\"A\"},\"y\":{\"field\":\"C\"}},\"id\":\"18100\",\"type\":\"Circle\"},{\"attributes\":{\"source\":{\"id\":\"17965\",\"type\":\"ColumnDataSource\"}},\"id\":\"18103\",\"type\":\"CDSView\"},{\"attributes\":{\"data_source\":{\"id\":\"17965\",\"type\":\"ColumnDataSource\"},\"glyph\":{\"id\":\"18100\",\"type\":\"Circle\"},\"hover_glyph\":null,\"muted_glyph\":null,\"nonselection_glyph\":{\"id\":\"18101\",\"type\":\"Circle\"},\"selection_glyph\":null,\"view\":{\"id\":\"18103\",\"type\":\"CDSView\"}},\"id\":\"18102\",\"type\":\"GlyphRenderer\"},{\"attributes\":{\"below\":[{\"id\":\"18070\",\"type\":\"LinearAxis\"}],\"left\":[{\"id\":\"18075\",\"type\":\"LinearAxis\"}],\"plot_height\":200,\"plot_width\":400,\"renderers\":[{\"id\":\"18070\",\"type\":\"LinearAxis\"},{\"id\":\"18074\",\"type\":\"Grid\"},{\"id\":\"18075\",\"type\":\"LinearAxis\"},{\"id\":\"18079\",\"type\":\"Grid\"},{\"id\":\"18087\",\"type\":\"BoxAnnotation\"},{\"id\":\"18091\",\"type\":\"BoxAnnotation\"},{\"id\":\"18094\",\"type\":\"PolyAnnotation\"},{\"id\":\"18102\",\"type\":\"GlyphRenderer\"},{\"id\":\"18104\",\"type\":\"ColorBar\"}],\"right\":[{\"id\":\"18104\",\"type\":\"ColorBar\"}],\"sizing_mode\":\"scale_both\",\"title\":{\"id\":\"18059\",\"type\":\"Title\"},\"toolbar\":{\"id\":\"18086\",\"type\":\"Toolbar\"},\"toolbar_location\":null,\"x_range\":{\"id\":\"17970\",\"type\":\"DataRange1d\"},\"x_scale\":{\"id\":\"18066\",\"type\":\"LinearScale\"},\"y_range\":{\"id\":\"18064\",\"type\":\"DataRange1d\"},\"y_scale\":{\"id\":\"18068\",\"type\":\"LinearScale\"}},\"id\":\"18060\",\"subtype\":\"Figure\",\"type\":\"Plot\"},{\"attributes\":{},\"id\":\"18066\",\"type\":\"LinearScale\"},{\"attributes\":{\"callback\":null},\"id\":\"18064\",\"type\":\"DataRange1d\"},{\"attributes\":{},\"id\":\"17979\",\"type\":\"BasicTicker\"},{\"attributes\":{\"formatter\":{\"id\":\"18201\",\"type\":\"BasicTickFormatter\"},\"plot\":{\"id\":\"17968\",\"subtype\":\"Figure\",\"type\":\"Plot\"},\"ticker\":{\"id\":\"17979\",\"type\":\"BasicTicker\"}},\"id\":\"17978\",\"type\":\"LinearAxis\"},{\"attributes\":{},\"id\":\"17974\",\"type\":\"LinearScale\"},{\"attributes\":{},\"id\":\"17976\",\"type\":\"LinearScale\"},{\"attributes\":{\"callback\":null},\"id\":\"17970\",\"type\":\"DataRange1d\"},{\"attributes\":{\"callback\":null},\"id\":\"17972\",\"type\":\"DataRange1d\"},{\"attributes\":{\"source\":{\"id\":\"17965\",\"type\":\"ColumnDataSource\"}},\"id\":\"18057\",\"type\":\"CDSView\"},{\"attributes\":{\"data_source\":{\"id\":\"17965\",\"type\":\"ColumnDataSource\"},\"glyph\":{\"id\":\"18054\",\"type\":\"Circle\"},\"hover_glyph\":null,\"muted_glyph\":null,\"nonselection_glyph\":{\"id\":\"18055\",\"type\":\"Circle\"},\"selection_glyph\":null,\"view\":{\"id\":\"18057\",\"type\":\"CDSView\"}},\"id\":\"18056\",\"type\":\"GlyphRenderer\"},{\"attributes\":{\"fill_alpha\":{\"value\":0.1},\"fill_color\":{\"value\":\"#1f77b4\"},\"line_alpha\":{\"value\":0.1},\"line_color\":{\"value\":\"#1f77b4\"},\"size\":{\"units\":\"screen\",\"value\":2},\"x\":{\"field\":\"A\"},\"y\":{\"field\":\"B\"}},\"id\":\"18055\",\"type\":\"Circle\"},{\"attributes\":{\"fill_color\":{\"field\":\"C\",\"transform\":{\"id\":\"17966\",\"type\":\"LinearColorMapper\"}},\"line_color\":{\"field\":\"C\",\"transform\":{\"id\":\"17966\",\"type\":\"LinearColorMapper\"}},\"size\":{\"units\":\"screen\",\"value\":2},\"x\":{\"field\":\"A\"},\"y\":{\"field\":\"B\"}},\"id\":\"18054\",\"type\":\"Circle\"},{\"attributes\":{},\"id\":\"18198\",\"type\":\"BasicTicker\"},{\"attributes\":{},\"id\":\"18199\",\"type\":\"BasicTickFormatter\"},{\"attributes\":{},\"id\":\"18214\",\"type\":\"BasicTickFormatter\"},{\"attributes\":{},\"id\":\"18216\",\"type\":\"BasicTickFormatter\"},{\"attributes\":{},\"id\":\"18211\",\"type\":\"BasicTicker\"},{\"attributes\":{\"plot\":null,\"text\":\"C vs A  Color=C\"},\"id\":\"18059\",\"type\":\"Title\"},{\"attributes\":{\"color_mapper\":{\"id\":\"17966\",\"type\":\"LinearColorMapper\"},\"formatter\":{\"id\":\"18212\",\"type\":\"BasicTickFormatter\"},\"location\":[0,0],\"plot\":{\"id\":\"18014\",\"subtype\":\"Figure\",\"type\":\"Plot\"},\"ticker\":{\"id\":\"18211\",\"type\":\"BasicTicker\"},\"width\":8},\"id\":\"18058\",\"type\":\"ColorBar\"},{\"attributes\":{\"below\":[{\"id\":\"17978\",\"type\":\"LinearAxis\"}],\"left\":[{\"id\":\"17983\",\"type\":\"LinearAxis\"}],\"plot_height\":200,\"plot_width\":400,\"renderers\":[{\"id\":\"17978\",\"type\":\"LinearAxis\"},{\"id\":\"17982\",\"type\":\"Grid\"},{\"id\":\"17983\",\"type\":\"LinearAxis\"},{\"id\":\"17987\",\"type\":\"Grid\"},{\"id\":\"17995\",\"type\":\"BoxAnnotation\"},{\"id\":\"17999\",\"type\":\"BoxAnnotation\"},{\"id\":\"18002\",\"type\":\"PolyAnnotation\"},{\"id\":\"18010\",\"type\":\"GlyphRenderer\"},{\"id\":\"18012\",\"type\":\"ColorBar\"}],\"right\":[{\"id\":\"18012\",\"type\":\"ColorBar\"}],\"sizing_mode\":\"scale_both\",\"title\":{\"id\":\"17967\",\"type\":\"Title\"},\"toolbar\":{\"id\":\"17994\",\"type\":\"Toolbar\"},\"toolbar_location\":null,\"x_range\":{\"id\":\"17970\",\"type\":\"DataRange1d\"},\"x_scale\":{\"id\":\"17974\",\"type\":\"LinearScale\"},\"y_range\":{\"id\":\"17972\",\"type\":\"DataRange1d\"},\"y_scale\":{\"id\":\"17976\",\"type\":\"LinearScale\"}},\"id\":\"17968\",\"subtype\":\"Figure\",\"type\":\"Plot\"},{\"attributes\":{\"high\":98,\"low\":0,\"palette\":[\"#3288bd\",\"#99d594\",\"#e6f598\",\"#fee08b\",\"#fc8d59\",\"#d53e4f\"]},\"id\":\"17966\",\"type\":\"LinearColorMapper\"},{\"attributes\":{\"plot\":null,\"text\":\"A vs A  Color=C\"},\"id\":\"17967\",\"type\":\"Title\"},{\"attributes\":{\"callback\":null,\"data\":{\"A\":[2,2,3,4,4,4,4,5,5,6,6,6,6,6,7,8,8,8,9,9,11,12,12,12,13,13,14,14,14,15,15,15,16,16,17,17,17,18,19,19,19,19,19,21,21,21,22,23,23,24,24,24,25,25,26,27,27,27,27,27,29,29,29,29,29,30,31,31,31,32,33,34,34,34,37,37,38,38,39,39,40,41,41,41,44,44,44,44,46,47,48,48,49,49,49,49,49,50,50,51,51,52,52,52,52,53,53,53,54,54,55,55,55,56,56,56,56,56,57,57,58,58,58,59,59,60,61,64,66,66,66,67,67,68,68,69,69,69,70,70,70,71,71,71,71,72,72,72,72,73,73,73,74,74,77,78,78,78,79,79,79,79,79,82,82,83,83,83,84,84,85,86,86,86,86,87,87,87,87,87,88,89,89,89,89,89,90,91,91,92,94,95,96,97,98,98,98,98,99],\"B\":[67,28,63,79,22,47,44,54,69,83,64,36,93,27,95,66,71,65,11,12,35,54,99,22,5,96,38,38,83,98,88,92,63,66,99,47,78,39,53,49,38,32,59,78,50,68,71,93,4,60,54,63,18,97,40,25,83,24,60,65,1,61,24,35,1,94,17,79,63,45,39,41,97,78,74,96,23,76,28,73,16,53,70,37,91,64,88,23,78,57,69,70,40,26,53,40,62,93,69,9,67,38,89,65,50,47,34,56,7,76,59,97,89,53,67,48,35,97,31,16,14,38,43,75,31,14,25,1,37,42,38,54,76,49,87,1,65,34,20,5,19,80,89,57,25,72,23,62,20,55,66,59,92,72,57,5,27,50,8,12,89,99,53,77,68,31,76,33,51,51,8,81,6,63,12,58,77,64,59,16,69,56,81,92,99,99,2,43,89,75,61,86,87,97,2,48,64,70,25],\"C\":[9,3,1,58,32,17,63,64,70,33,72,17,30,34,78,20,58,42,12,86,6,91,83,40,90,5,10,40,8,60,6,89,55,63,54,9,93,28,58,83,93,71,74,71,25,70,9,66,16,87,17,11,70,81,17,6,26,65,76,36,93,8,45,30,66,59,68,98,28,21,82,11,48,35,74,86,49,53,53,33,5,86,1,85,61,13,31,62,29,74,82,44,68,75,49,72,45,50,78,92,54,19,79,63,37,27,97,85,17,43,75,83,33,37,11,3,40,90,98,80,14,3,17,17,44,52,53,31,25,48,15,65,54,4,85,85,34,92,23,33,60,47,28,31,95,52,78,28,73,94,82,40,5,81,26,43,0,91,50,61,5,1,37,49,74,44,9,18,97,33,85,47,61,2,84,64,2,20,96,87,97,17,22,31,61,98,61,31,75,60,54,11,85,8,35,59,80,21,62],\"D\":[38,13,39,74,69,92,50,29,87,51,37,30,92,77,29,2,17,22,3,89,94,81,30,23,63,85,38,21,79,5,36,13,84,2,60,94,71,9,62,69,59,93,51,61,46,44,23,37,13,99,23,63,92,41,33,84,19,40,34,79,33,27,86,97,56,85,21,6,9,23,67,13,99,13,14,2,33,36,12,4,46,85,61,42,94,4,12,73,52,51,20,4,51,94,21,61,71,36,47,25,28,70,22,5,73,61,60,66,65,15,22,25,16,52,82,28,77,28,20,15,28,12,36,56,2,47,63,25,27,97,84,30,69,67,50,79,96,23,49,1,68,65,97,3,56,10,43,91,21,46,23,20,14,87,29,54,39,20,38,72,57,30,4,77,94,74,24,33,97,5,16,87,83,35,37,83,31,64,46,3,43,53,62,16,9,2,10,68,14,64,84,80,93,91,14,73,26,76,36],\"index\":[86,42,57,160,71,166,122,26,148,190,21,154,3,189,27,184,120,39,30,134,12,90,151,1,47,147,196,29,40,137,108,2,128,138,75,24,121,198,165,0,199,22,25,67,17,112,70,23,28,76,80,93,150,94,107,180,133,6,48,175,85,181,159,9,61,106,171,50,186,114,82,143,174,64,98,172,14,95,20,170,191,52,129,89,109,193,125,162,176,10,149,197,33,136,7,126,110,117,32,65,72,140,145,62,118,155,168,132,92,194,116,187,16,15,11,60,192,104,91,101,58,103,127,83,163,19,113,178,35,111,100,135,141,115,169,53,153,59,152,69,144,79,56,97,36,105,161,45,34,167,38,173,5,88,130,18,131,43,73,37,68,55,99,157,63,119,51,96,54,74,13,46,49,66,84,182,77,87,41,158,188,44,4,78,139,146,142,185,156,183,31,124,177,123,179,164,81,8,102]},\"selected\":{\"id\":\"18204\",\"type\":\"Selection\"},\"selection_policy\":{\"id\":\"18205\",\"type\":\"UnionRenderers\"}},\"id\":\"17965\",\"type\":\"ColumnDataSource\"},{\"attributes\":{\"active_drag\":\"auto\",\"active_inspect\":\"auto\",\"active_multi\":null,\"active_scroll\":\"auto\",\"active_tap\":\"auto\",\"tools\":[{\"id\":\"18034\",\"type\":\"PanTool\"},{\"id\":\"18035\",\"type\":\"BoxZoomTool\"},{\"id\":\"18036\",\"type\":\"WheelZoomTool\"},{\"id\":\"18037\",\"type\":\"BoxSelectTool\"},{\"id\":\"18038\",\"type\":\"LassoSelectTool\"},{\"id\":\"18039\",\"type\":\"ResetTool\"}]},\"id\":\"18040\",\"type\":\"Toolbar\"},{\"attributes\":{\"bottom_units\":\"screen\",\"fill_alpha\":{\"value\":0.5},\"fill_color\":{\"value\":\"lightgrey\"},\"left_units\":\"screen\",\"level\":\"overlay\",\"line_alpha\":{\"value\":1.0},\"line_color\":{\"value\":\"black\"},\"line_dash\":[4,4],\"line_width\":{\"value\":2},\"plot\":null,\"render_mode\":\"css\",\"right_units\":\"screen\",\"top_units\":\"screen\"},\"id\":\"18041\",\"type\":\"BoxAnnotation\"},{\"attributes\":{\"bottom_units\":\"screen\",\"fill_alpha\":{\"value\":0.5},\"fill_color\":{\"value\":\"lightgrey\"},\"left_units\":\"screen\",\"level\":\"overlay\",\"line_alpha\":{\"value\":1.0},\"line_color\":{\"value\":\"black\"},\"line_dash\":[4,4],\"line_width\":{\"value\":2},\"plot\":null,\"render_mode\":\"css\",\"right_units\":\"screen\",\"top_units\":\"screen\"},\"id\":\"18045\",\"type\":\"BoxAnnotation\"},{\"attributes\":{\"fill_alpha\":{\"value\":0.5},\"fill_color\":{\"value\":\"lightgrey\"},\"level\":\"overlay\",\"line_alpha\":{\"value\":1.0},\"line_color\":{\"value\":\"black\"},\"line_dash\":[4,4],\"line_width\":{\"value\":2},\"plot\":null,\"xs_units\":\"screen\",\"ys_units\":\"screen\"},\"id\":\"18048\",\"type\":\"PolyAnnotation\"},{\"attributes\":{},\"id\":\"18204\",\"type\":\"Selection\"},{\"attributes\":{},\"id\":\"18205\",\"type\":\"UnionRenderers\"},{\"attributes\":{},\"id\":\"18203\",\"type\":\"BasicTickFormatter\"},{\"attributes\":{},\"id\":\"18201\",\"type\":\"BasicTickFormatter\"},{\"attributes\":{\"overlay\":{\"id\":\"18041\",\"type\":\"BoxAnnotation\"}},\"id\":\"18035\",\"type\":\"BoxZoomTool\"},{\"attributes\":{},\"id\":\"18034\",\"type\":\"PanTool\"},{\"attributes\":{\"callback\":null,\"overlay\":{\"id\":\"18045\",\"type\":\"BoxAnnotation\"}},\"id\":\"18037\",\"type\":\"BoxSelectTool\"},{\"attributes\":{},\"id\":\"18036\",\"type\":\"WheelZoomTool\"},{\"attributes\":{},\"id\":\"18030\",\"type\":\"BasicTicker\"},{\"attributes\":{\"dimension\":1,\"plot\":{\"id\":\"18014\",\"subtype\":\"Figure\",\"type\":\"Plot\"},\"ticker\":{\"id\":\"18030\",\"type\":\"BasicTicker\"}},\"id\":\"18033\",\"type\":\"Grid\"},{\"attributes\":{},\"id\":\"18039\",\"type\":\"ResetTool\"},{\"attributes\":{\"callback\":null,\"overlay\":{\"id\":\"18048\",\"type\":\"PolyAnnotation\"}},\"id\":\"18038\",\"type\":\"LassoSelectTool\"},{\"attributes\":{\"children\":[{\"id\":\"29270\",\"type\":\"Row\"},{\"id\":\"29271\",\"type\":\"Row\"}],\"height\":400,\"sizing_mode\":\"scale_both\"},\"id\":\"29272\",\"type\":\"Column\"},{\"attributes\":{\"children\":[{\"id\":\"18014\",\"subtype\":\"Figure\",\"type\":\"Plot\"},{\"id\":\"18060\",\"subtype\":\"Figure\",\"type\":\"Plot\"}],\"sizing_mode\":\"scale_both\"},\"id\":\"29271\",\"type\":\"Row\"},{\"attributes\":{\"children\":[{\"id\":\"17968\",\"subtype\":\"Figure\",\"type\":\"Plot\"}],\"sizing_mode\":\"scale_both\"},\"id\":\"29270\",\"type\":\"Row\"},{\"attributes\":{\"formatter\":{\"id\":\"18214\",\"type\":\"BasicTickFormatter\"},\"plot\":{\"id\":\"18014\",\"subtype\":\"Figure\",\"type\":\"Plot\"},\"ticker\":{\"id\":\"18025\",\"type\":\"BasicTicker\"}},\"id\":\"18024\",\"type\":\"LinearAxis\"},{\"attributes\":{},\"id\":\"18025\",\"type\":\"BasicTicker\"},{\"attributes\":{},\"id\":\"18022\",\"type\":\"LinearScale\"},{\"attributes\":{},\"id\":\"18020\",\"type\":\"LinearScale\"},{\"attributes\":{\"plot\":{\"id\":\"18014\",\"subtype\":\"Figure\",\"type\":\"Plot\"},\"ticker\":{\"id\":\"18025\",\"type\":\"BasicTicker\"}},\"id\":\"18028\",\"type\":\"Grid\"},{\"attributes\":{\"formatter\":{\"id\":\"18216\",\"type\":\"BasicTickFormatter\"},\"plot\":{\"id\":\"18014\",\"subtype\":\"Figure\",\"type\":\"Plot\"},\"ticker\":{\"id\":\"18030\",\"type\":\"BasicTicker\"}},\"id\":\"18029\",\"type\":\"LinearAxis\"}],\"root_ids\":[\"29272\"]},\"title\":\"Bokeh Application\",\"version\":\"1.0.1\"}};\n",
       "  var render_items = [{\"docid\":\"c831d4e6-6656-4854-8cde-fe518245f0c4\",\"roots\":{\"29272\":\"f8574087-e14f-4693-b746-f413d2ac77da\"}}];\n",
       "  root.Bokeh.embed.embed_items_notebook(docs_json, render_items);\n",
       "\n",
       "  }\n",
       "  if (root.Bokeh !== undefined) {\n",
       "    embed_document(root);\n",
       "  } else {\n",
       "    var attempts = 0;\n",
       "    var timer = setInterval(function(root) {\n",
       "      if (root.Bokeh !== undefined) {\n",
       "        embed_document(root);\n",
       "        clearInterval(timer);\n",
       "      }\n",
       "      attempts++;\n",
       "      if (attempts > 100) {\n",
       "        console.log(\"Bokeh: ERROR: Unable to run BokehJS code because BokehJS library is missing\");\n",
       "        clearInterval(timer);\n",
       "      }\n",
       "    }, 10, root)\n",
       "  }\n",
       "})(window);"
      ],
      "application/vnd.bokehjs_exec.v0+json": ""
     },
     "metadata": {
      "application/vnd.bokehjs_exec.v0+json": {
       "id": "29272"
      }
     },
     "output_type": "display_data"
    }
   ],
   "source": [
    "fff.height=400\n",
    "show(fff)"
   ]
  },
  {
   "cell_type": "code",
   "execution_count": 65,
   "metadata": {},
   "outputs": [
    {
     "data": {
      "text/html": [
       "\n",
       "\n",
       "\n",
       "\n",
       "\n",
       "\n",
       "  <div class=\"bk-root\" id=\"dc9e0acf-43da-436d-8a78-76a69ecf1e8d\"></div>\n"
      ]
     },
     "metadata": {},
     "output_type": "display_data"
    },
    {
     "data": {
      "application/javascript": [
       "(function(root) {\n",
       "  function embed_document(root) {\n",
       "    \n",
       "  var docs_json = {\"77088a72-1f01-4403-9e9a-40afbf73e63a\":{\"roots\":{\"references\":[{\"attributes\":{\"bottom_units\":\"screen\",\"fill_alpha\":{\"value\":0.5},\"fill_color\":{\"value\":\"lightgrey\"},\"left_units\":\"screen\",\"level\":\"overlay\",\"line_alpha\":{\"value\":1.0},\"line_color\":{\"value\":\"black\"},\"line_dash\":[4,4],\"line_width\":{\"value\":2},\"plot\":null,\"render_mode\":\"css\",\"right_units\":\"screen\",\"top_units\":\"screen\"},\"id\":\"18091\",\"type\":\"BoxAnnotation\"},{\"attributes\":{\"fill_alpha\":{\"value\":0.5},\"fill_color\":{\"value\":\"lightgrey\"},\"level\":\"overlay\",\"line_alpha\":{\"value\":1.0},\"line_color\":{\"value\":\"black\"},\"line_dash\":[4,4],\"line_width\":{\"value\":2},\"plot\":null,\"xs_units\":\"screen\",\"ys_units\":\"screen\"},\"id\":\"18094\",\"type\":\"PolyAnnotation\"},{\"attributes\":{\"plot\":null,\"text\":\"B vs A  Color=C\"},\"id\":\"18013\",\"type\":\"Title\"},{\"attributes\":{\"color_mapper\":{\"id\":\"17966\",\"type\":\"LinearColorMapper\"},\"formatter\":{\"id\":\"18199\",\"type\":\"BasicTickFormatter\"},\"location\":[0,0],\"plot\":{\"id\":\"17968\",\"subtype\":\"Figure\",\"type\":\"Plot\"},\"ticker\":{\"id\":\"18198\",\"type\":\"BasicTicker\"},\"width\":8},\"id\":\"18012\",\"type\":\"ColorBar\"},{\"attributes\":{\"source\":{\"id\":\"17965\",\"type\":\"ColumnDataSource\"}},\"id\":\"18011\",\"type\":\"CDSView\"},{\"attributes\":{\"data_source\":{\"id\":\"17965\",\"type\":\"ColumnDataSource\"},\"glyph\":{\"id\":\"18008\",\"type\":\"Circle\"},\"hover_glyph\":null,\"muted_glyph\":null,\"nonselection_glyph\":{\"id\":\"18009\",\"type\":\"Circle\"},\"selection_glyph\":null,\"view\":{\"id\":\"18011\",\"type\":\"CDSView\"}},\"id\":\"18010\",\"type\":\"GlyphRenderer\"},{\"attributes\":{\"below\":[{\"id\":\"18024\",\"type\":\"LinearAxis\"}],\"left\":[{\"id\":\"18029\",\"type\":\"LinearAxis\"}],\"plot_height\":200,\"plot_width\":100,\"renderers\":[{\"id\":\"18024\",\"type\":\"LinearAxis\"},{\"id\":\"18028\",\"type\":\"Grid\"},{\"id\":\"18029\",\"type\":\"LinearAxis\"},{\"id\":\"18033\",\"type\":\"Grid\"},{\"id\":\"18041\",\"type\":\"BoxAnnotation\"},{\"id\":\"18045\",\"type\":\"BoxAnnotation\"},{\"id\":\"18048\",\"type\":\"PolyAnnotation\"},{\"id\":\"18056\",\"type\":\"GlyphRenderer\"},{\"id\":\"18058\",\"type\":\"ColorBar\"}],\"right\":[{\"id\":\"18058\",\"type\":\"ColorBar\"}],\"sizing_mode\":\"fixed\",\"title\":{\"id\":\"18013\",\"type\":\"Title\"},\"toolbar\":{\"id\":\"18040\",\"type\":\"Toolbar\"},\"toolbar_location\":null,\"x_range\":{\"id\":\"17970\",\"type\":\"DataRange1d\"},\"x_scale\":{\"id\":\"18020\",\"type\":\"LinearScale\"},\"y_range\":{\"id\":\"18018\",\"type\":\"DataRange1d\"},\"y_scale\":{\"id\":\"18022\",\"type\":\"LinearScale\"}},\"id\":\"18014\",\"subtype\":\"Figure\",\"type\":\"Plot\"},{\"attributes\":{\"callback\":null},\"id\":\"18018\",\"type\":\"DataRange1d\"},{\"attributes\":{\"children\":[{\"id\":\"38212\",\"type\":\"ToolbarBox\"},{\"id\":\"38210\",\"type\":\"Column\"}]},\"id\":\"38213\",\"type\":\"Column\"},{\"attributes\":{\"toolbar\":{\"id\":\"38211\",\"type\":\"ProxyToolbar\"},\"toolbar_location\":\"above\"},\"id\":\"38212\",\"type\":\"ToolbarBox\"},{\"attributes\":{\"tools\":[{\"id\":\"17988\",\"type\":\"PanTool\"},{\"id\":\"17989\",\"type\":\"BoxZoomTool\"},{\"id\":\"17990\",\"type\":\"WheelZoomTool\"},{\"id\":\"17991\",\"type\":\"BoxSelectTool\"},{\"id\":\"17992\",\"type\":\"LassoSelectTool\"},{\"id\":\"17993\",\"type\":\"ResetTool\"},{\"id\":\"18034\",\"type\":\"PanTool\"},{\"id\":\"18035\",\"type\":\"BoxZoomTool\"},{\"id\":\"18036\",\"type\":\"WheelZoomTool\"},{\"id\":\"18037\",\"type\":\"BoxSelectTool\"},{\"id\":\"18038\",\"type\":\"LassoSelectTool\"},{\"id\":\"18039\",\"type\":\"ResetTool\"},{\"id\":\"18080\",\"type\":\"PanTool\"},{\"id\":\"18081\",\"type\":\"BoxZoomTool\"},{\"id\":\"18082\",\"type\":\"WheelZoomTool\"},{\"id\":\"18083\",\"type\":\"BoxSelectTool\"},{\"id\":\"18084\",\"type\":\"LassoSelectTool\"},{\"id\":\"18085\",\"type\":\"ResetTool\"}]},\"id\":\"38211\",\"type\":\"ProxyToolbar\"},{\"attributes\":{},\"id\":\"18227\",\"type\":\"BasicTickFormatter\"},{\"attributes\":{},\"id\":\"18229\",\"type\":\"BasicTickFormatter\"},{\"attributes\":{\"fill_color\":{\"field\":\"C\",\"transform\":{\"id\":\"17966\",\"type\":\"LinearColorMapper\"}},\"line_color\":{\"field\":\"C\",\"transform\":{\"id\":\"17966\",\"type\":\"LinearColorMapper\"}},\"size\":{\"units\":\"screen\",\"value\":2},\"x\":{\"field\":\"A\"},\"y\":{\"field\":\"A\"}},\"id\":\"18008\",\"type\":\"Circle\"},{\"attributes\":{\"fill_alpha\":{\"value\":0.1},\"fill_color\":{\"value\":\"#1f77b4\"},\"line_alpha\":{\"value\":0.1},\"line_color\":{\"value\":\"#1f77b4\"},\"size\":{\"units\":\"screen\",\"value\":2},\"x\":{\"field\":\"A\"},\"y\":{\"field\":\"A\"}},\"id\":\"18009\",\"type\":\"Circle\"},{\"attributes\":{},\"id\":\"18212\",\"type\":\"BasicTickFormatter\"},{\"attributes\":{\"fill_alpha\":{\"value\":0.5},\"fill_color\":{\"value\":\"lightgrey\"},\"level\":\"overlay\",\"line_alpha\":{\"value\":1.0},\"line_color\":{\"value\":\"black\"},\"line_dash\":[4,4],\"line_width\":{\"value\":2},\"plot\":null,\"xs_units\":\"screen\",\"ys_units\":\"screen\"},\"id\":\"18002\",\"type\":\"PolyAnnotation\"},{\"attributes\":{\"bottom_units\":\"screen\",\"fill_alpha\":{\"value\":0.5},\"fill_color\":{\"value\":\"lightgrey\"},\"left_units\":\"screen\",\"level\":\"overlay\",\"line_alpha\":{\"value\":1.0},\"line_color\":{\"value\":\"black\"},\"line_dash\":[4,4],\"line_width\":{\"value\":2},\"plot\":null,\"render_mode\":\"css\",\"right_units\":\"screen\",\"top_units\":\"screen\"},\"id\":\"17995\",\"type\":\"BoxAnnotation\"},{\"attributes\":{\"active_drag\":\"auto\",\"active_inspect\":\"auto\",\"active_multi\":null,\"active_scroll\":\"auto\",\"active_tap\":\"auto\",\"tools\":[{\"id\":\"17988\",\"type\":\"PanTool\"},{\"id\":\"17989\",\"type\":\"BoxZoomTool\"},{\"id\":\"17990\",\"type\":\"WheelZoomTool\"},{\"id\":\"17991\",\"type\":\"BoxSelectTool\"},{\"id\":\"17992\",\"type\":\"LassoSelectTool\"},{\"id\":\"17993\",\"type\":\"ResetTool\"}]},\"id\":\"17994\",\"type\":\"Toolbar\"},{\"attributes\":{},\"id\":\"17993\",\"type\":\"ResetTool\"},{\"attributes\":{\"callback\":null,\"overlay\":{\"id\":\"18002\",\"type\":\"PolyAnnotation\"}},\"id\":\"17992\",\"type\":\"LassoSelectTool\"},{\"attributes\":{\"callback\":null,\"overlay\":{\"id\":\"17999\",\"type\":\"BoxAnnotation\"}},\"id\":\"17991\",\"type\":\"BoxSelectTool\"},{\"attributes\":{},\"id\":\"17990\",\"type\":\"WheelZoomTool\"},{\"attributes\":{\"bottom_units\":\"screen\",\"fill_alpha\":{\"value\":0.5},\"fill_color\":{\"value\":\"lightgrey\"},\"left_units\":\"screen\",\"level\":\"overlay\",\"line_alpha\":{\"value\":1.0},\"line_color\":{\"value\":\"black\"},\"line_dash\":[4,4],\"line_width\":{\"value\":2},\"plot\":null,\"render_mode\":\"css\",\"right_units\":\"screen\",\"top_units\":\"screen\"},\"id\":\"17999\",\"type\":\"BoxAnnotation\"},{\"attributes\":{\"children\":[{\"id\":\"18014\",\"subtype\":\"Figure\",\"type\":\"Plot\"},{\"id\":\"18060\",\"subtype\":\"Figure\",\"type\":\"Plot\"}]},\"id\":\"38209\",\"type\":\"Row\"},{\"attributes\":{\"dimension\":1,\"plot\":{\"id\":\"18060\",\"subtype\":\"Figure\",\"type\":\"Plot\"},\"ticker\":{\"id\":\"18076\",\"type\":\"BasicTicker\"}},\"id\":\"18079\",\"type\":\"Grid\"},{\"attributes\":{},\"id\":\"18071\",\"type\":\"BasicTicker\"},{\"attributes\":{\"formatter\":{\"id\":\"18227\",\"type\":\"BasicTickFormatter\"},\"plot\":{\"id\":\"18060\",\"subtype\":\"Figure\",\"type\":\"Plot\"},\"ticker\":{\"id\":\"18071\",\"type\":\"BasicTicker\"}},\"id\":\"18070\",\"type\":\"LinearAxis\"},{\"attributes\":{\"formatter\":{\"id\":\"18229\",\"type\":\"BasicTickFormatter\"},\"plot\":{\"id\":\"18060\",\"subtype\":\"Figure\",\"type\":\"Plot\"},\"ticker\":{\"id\":\"18076\",\"type\":\"BasicTicker\"}},\"id\":\"18075\",\"type\":\"LinearAxis\"},{\"attributes\":{\"plot\":{\"id\":\"18060\",\"subtype\":\"Figure\",\"type\":\"Plot\"},\"ticker\":{\"id\":\"18071\",\"type\":\"BasicTicker\"}},\"id\":\"18074\",\"type\":\"Grid\"},{\"attributes\":{},\"id\":\"18076\",\"type\":\"BasicTicker\"},{\"attributes\":{\"plot\":{\"id\":\"17968\",\"subtype\":\"Figure\",\"type\":\"Plot\"},\"ticker\":{\"id\":\"17979\",\"type\":\"BasicTicker\"}},\"id\":\"17982\",\"type\":\"Grid\"},{\"attributes\":{\"formatter\":{\"id\":\"18203\",\"type\":\"BasicTickFormatter\"},\"plot\":{\"id\":\"17968\",\"subtype\":\"Figure\",\"type\":\"Plot\"},\"ticker\":{\"id\":\"17984\",\"type\":\"BasicTicker\"}},\"id\":\"17983\",\"type\":\"LinearAxis\"},{\"attributes\":{},\"id\":\"17984\",\"type\":\"BasicTicker\"},{\"attributes\":{\"dimension\":1,\"plot\":{\"id\":\"17968\",\"subtype\":\"Figure\",\"type\":\"Plot\"},\"ticker\":{\"id\":\"17984\",\"type\":\"BasicTicker\"}},\"id\":\"17987\",\"type\":\"Grid\"},{\"attributes\":{},\"id\":\"17988\",\"type\":\"PanTool\"},{\"attributes\":{\"overlay\":{\"id\":\"17995\",\"type\":\"BoxAnnotation\"}},\"id\":\"17989\",\"type\":\"BoxZoomTool\"},{\"attributes\":{\"callback\":null,\"overlay\":{\"id\":\"18094\",\"type\":\"PolyAnnotation\"}},\"id\":\"18084\",\"type\":\"LassoSelectTool\"},{\"attributes\":{},\"id\":\"18085\",\"type\":\"ResetTool\"},{\"attributes\":{\"active_drag\":\"auto\",\"active_inspect\":\"auto\",\"active_multi\":null,\"active_scroll\":\"auto\",\"active_tap\":\"auto\",\"tools\":[{\"id\":\"18080\",\"type\":\"PanTool\"},{\"id\":\"18081\",\"type\":\"BoxZoomTool\"},{\"id\":\"18082\",\"type\":\"WheelZoomTool\"},{\"id\":\"18083\",\"type\":\"BoxSelectTool\"},{\"id\":\"18084\",\"type\":\"LassoSelectTool\"},{\"id\":\"18085\",\"type\":\"ResetTool\"}]},\"id\":\"18086\",\"type\":\"Toolbar\"},{\"attributes\":{\"bottom_units\":\"screen\",\"fill_alpha\":{\"value\":0.5},\"fill_color\":{\"value\":\"lightgrey\"},\"left_units\":\"screen\",\"level\":\"overlay\",\"line_alpha\":{\"value\":1.0},\"line_color\":{\"value\":\"black\"},\"line_dash\":[4,4],\"line_width\":{\"value\":2},\"plot\":null,\"render_mode\":\"css\",\"right_units\":\"screen\",\"top_units\":\"screen\"},\"id\":\"18087\",\"type\":\"BoxAnnotation\"},{\"attributes\":{},\"id\":\"18080\",\"type\":\"PanTool\"},{\"attributes\":{\"overlay\":{\"id\":\"18087\",\"type\":\"BoxAnnotation\"}},\"id\":\"18081\",\"type\":\"BoxZoomTool\"},{\"attributes\":{},\"id\":\"18082\",\"type\":\"WheelZoomTool\"},{\"attributes\":{\"callback\":null,\"overlay\":{\"id\":\"18091\",\"type\":\"BoxAnnotation\"}},\"id\":\"18083\",\"type\":\"BoxSelectTool\"},{\"attributes\":{\"color_mapper\":{\"id\":\"17966\",\"type\":\"LinearColorMapper\"},\"formatter\":{\"id\":\"18225\",\"type\":\"BasicTickFormatter\"},\"location\":[0,0],\"plot\":{\"id\":\"18060\",\"subtype\":\"Figure\",\"type\":\"Plot\"},\"ticker\":{\"id\":\"18224\",\"type\":\"BasicTicker\"},\"width\":8},\"id\":\"18104\",\"type\":\"ColorBar\"},{\"attributes\":{},\"id\":\"18068\",\"type\":\"LinearScale\"},{\"attributes\":{\"fill_alpha\":{\"value\":0.1},\"fill_color\":{\"value\":\"#1f77b4\"},\"line_alpha\":{\"value\":0.1},\"line_color\":{\"value\":\"#1f77b4\"},\"size\":{\"units\":\"screen\",\"value\":2},\"x\":{\"field\":\"A\"},\"y\":{\"field\":\"C\"}},\"id\":\"18101\",\"type\":\"Circle\"},{\"attributes\":{\"fill_color\":{\"field\":\"C\",\"transform\":{\"id\":\"17966\",\"type\":\"LinearColorMapper\"}},\"line_color\":{\"field\":\"C\",\"transform\":{\"id\":\"17966\",\"type\":\"LinearColorMapper\"}},\"size\":{\"units\":\"screen\",\"value\":2},\"x\":{\"field\":\"A\"},\"y\":{\"field\":\"C\"}},\"id\":\"18100\",\"type\":\"Circle\"},{\"attributes\":{\"source\":{\"id\":\"17965\",\"type\":\"ColumnDataSource\"}},\"id\":\"18103\",\"type\":\"CDSView\"},{\"attributes\":{\"data_source\":{\"id\":\"17965\",\"type\":\"ColumnDataSource\"},\"glyph\":{\"id\":\"18100\",\"type\":\"Circle\"},\"hover_glyph\":null,\"muted_glyph\":null,\"nonselection_glyph\":{\"id\":\"18101\",\"type\":\"Circle\"},\"selection_glyph\":null,\"view\":{\"id\":\"18103\",\"type\":\"CDSView\"}},\"id\":\"18102\",\"type\":\"GlyphRenderer\"},{\"attributes\":{\"below\":[{\"id\":\"18070\",\"type\":\"LinearAxis\"}],\"left\":[{\"id\":\"18075\",\"type\":\"LinearAxis\"}],\"plot_height\":200,\"plot_width\":100,\"renderers\":[{\"id\":\"18070\",\"type\":\"LinearAxis\"},{\"id\":\"18074\",\"type\":\"Grid\"},{\"id\":\"18075\",\"type\":\"LinearAxis\"},{\"id\":\"18079\",\"type\":\"Grid\"},{\"id\":\"18087\",\"type\":\"BoxAnnotation\"},{\"id\":\"18091\",\"type\":\"BoxAnnotation\"},{\"id\":\"18094\",\"type\":\"PolyAnnotation\"},{\"id\":\"18102\",\"type\":\"GlyphRenderer\"},{\"id\":\"18104\",\"type\":\"ColorBar\"}],\"right\":[{\"id\":\"18104\",\"type\":\"ColorBar\"}],\"sizing_mode\":\"fixed\",\"title\":{\"id\":\"18059\",\"type\":\"Title\"},\"toolbar\":{\"id\":\"18086\",\"type\":\"Toolbar\"},\"toolbar_location\":null,\"x_range\":{\"id\":\"17970\",\"type\":\"DataRange1d\"},\"x_scale\":{\"id\":\"18066\",\"type\":\"LinearScale\"},\"y_range\":{\"id\":\"18064\",\"type\":\"DataRange1d\"},\"y_scale\":{\"id\":\"18068\",\"type\":\"LinearScale\"}},\"id\":\"18060\",\"subtype\":\"Figure\",\"type\":\"Plot\"},{\"attributes\":{},\"id\":\"18066\",\"type\":\"LinearScale\"},{\"attributes\":{\"callback\":null},\"id\":\"18064\",\"type\":\"DataRange1d\"},{\"attributes\":{},\"id\":\"17979\",\"type\":\"BasicTicker\"},{\"attributes\":{\"formatter\":{\"id\":\"18201\",\"type\":\"BasicTickFormatter\"},\"plot\":{\"id\":\"17968\",\"subtype\":\"Figure\",\"type\":\"Plot\"},\"ticker\":{\"id\":\"17979\",\"type\":\"BasicTicker\"}},\"id\":\"17978\",\"type\":\"LinearAxis\"},{\"attributes\":{},\"id\":\"17974\",\"type\":\"LinearScale\"},{\"attributes\":{},\"id\":\"17976\",\"type\":\"LinearScale\"},{\"attributes\":{\"callback\":null},\"id\":\"17970\",\"type\":\"DataRange1d\"},{\"attributes\":{\"callback\":null},\"id\":\"17972\",\"type\":\"DataRange1d\"},{\"attributes\":{\"source\":{\"id\":\"17965\",\"type\":\"ColumnDataSource\"}},\"id\":\"18057\",\"type\":\"CDSView\"},{\"attributes\":{\"data_source\":{\"id\":\"17965\",\"type\":\"ColumnDataSource\"},\"glyph\":{\"id\":\"18054\",\"type\":\"Circle\"},\"hover_glyph\":null,\"muted_glyph\":null,\"nonselection_glyph\":{\"id\":\"18055\",\"type\":\"Circle\"},\"selection_glyph\":null,\"view\":{\"id\":\"18057\",\"type\":\"CDSView\"}},\"id\":\"18056\",\"type\":\"GlyphRenderer\"},{\"attributes\":{\"fill_alpha\":{\"value\":0.1},\"fill_color\":{\"value\":\"#1f77b4\"},\"line_alpha\":{\"value\":0.1},\"line_color\":{\"value\":\"#1f77b4\"},\"size\":{\"units\":\"screen\",\"value\":2},\"x\":{\"field\":\"A\"},\"y\":{\"field\":\"B\"}},\"id\":\"18055\",\"type\":\"Circle\"},{\"attributes\":{\"fill_color\":{\"field\":\"C\",\"transform\":{\"id\":\"17966\",\"type\":\"LinearColorMapper\"}},\"line_color\":{\"field\":\"C\",\"transform\":{\"id\":\"17966\",\"type\":\"LinearColorMapper\"}},\"size\":{\"units\":\"screen\",\"value\":2},\"x\":{\"field\":\"A\"},\"y\":{\"field\":\"B\"}},\"id\":\"18054\",\"type\":\"Circle\"},{\"attributes\":{},\"id\":\"18198\",\"type\":\"BasicTicker\"},{\"attributes\":{},\"id\":\"18199\",\"type\":\"BasicTickFormatter\"},{\"attributes\":{},\"id\":\"18214\",\"type\":\"BasicTickFormatter\"},{\"attributes\":{},\"id\":\"18216\",\"type\":\"BasicTickFormatter\"},{\"attributes\":{},\"id\":\"18211\",\"type\":\"BasicTicker\"},{\"attributes\":{\"plot\":null,\"text\":\"C vs A  Color=C\"},\"id\":\"18059\",\"type\":\"Title\"},{\"attributes\":{\"color_mapper\":{\"id\":\"17966\",\"type\":\"LinearColorMapper\"},\"formatter\":{\"id\":\"18212\",\"type\":\"BasicTickFormatter\"},\"location\":[0,0],\"plot\":{\"id\":\"18014\",\"subtype\":\"Figure\",\"type\":\"Plot\"},\"ticker\":{\"id\":\"18211\",\"type\":\"BasicTicker\"},\"width\":8},\"id\":\"18058\",\"type\":\"ColorBar\"},{\"attributes\":{},\"id\":\"18224\",\"type\":\"BasicTicker\"},{\"attributes\":{\"below\":[{\"id\":\"17978\",\"type\":\"LinearAxis\"}],\"left\":[{\"id\":\"17983\",\"type\":\"LinearAxis\"}],\"plot_height\":200,\"plot_width\":100,\"renderers\":[{\"id\":\"17978\",\"type\":\"LinearAxis\"},{\"id\":\"17982\",\"type\":\"Grid\"},{\"id\":\"17983\",\"type\":\"LinearAxis\"},{\"id\":\"17987\",\"type\":\"Grid\"},{\"id\":\"17995\",\"type\":\"BoxAnnotation\"},{\"id\":\"17999\",\"type\":\"BoxAnnotation\"},{\"id\":\"18002\",\"type\":\"PolyAnnotation\"},{\"id\":\"18010\",\"type\":\"GlyphRenderer\"},{\"id\":\"18012\",\"type\":\"ColorBar\"}],\"right\":[{\"id\":\"18012\",\"type\":\"ColorBar\"}],\"sizing_mode\":\"fixed\",\"title\":{\"id\":\"17967\",\"type\":\"Title\"},\"toolbar\":{\"id\":\"17994\",\"type\":\"Toolbar\"},\"toolbar_location\":null,\"x_range\":{\"id\":\"17970\",\"type\":\"DataRange1d\"},\"x_scale\":{\"id\":\"17974\",\"type\":\"LinearScale\"},\"y_range\":{\"id\":\"17972\",\"type\":\"DataRange1d\"},\"y_scale\":{\"id\":\"17976\",\"type\":\"LinearScale\"}},\"id\":\"17968\",\"subtype\":\"Figure\",\"type\":\"Plot\"},{\"attributes\":{},\"id\":\"18225\",\"type\":\"BasicTickFormatter\"},{\"attributes\":{\"high\":98,\"low\":0,\"palette\":[\"#3288bd\",\"#99d594\",\"#e6f598\",\"#fee08b\",\"#fc8d59\",\"#d53e4f\"]},\"id\":\"17966\",\"type\":\"LinearColorMapper\"},{\"attributes\":{\"plot\":null,\"text\":\"A vs A  Color=C\"},\"id\":\"17967\",\"type\":\"Title\"},{\"attributes\":{\"callback\":null,\"data\":{\"A\":[2,2,3,4,4,4,4,5,5,6,6,6,6,6,7,8,8,8,9,9,11,12,12,12,13,13,14,14,14,15,15,15,16,16,17,17,17,18,19,19,19,19,19,21,21,21,22,23,23,24,24,24,25,25,26,27,27,27,27,27,29,29,29,29,29,30,31,31,31,32,33,34,34,34,37,37,38,38,39,39,40,41,41,41,44,44,44,44,46,47,48,48,49,49,49,49,49,50,50,51,51,52,52,52,52,53,53,53,54,54,55,55,55,56,56,56,56,56,57,57,58,58,58,59,59,60,61,64,66,66,66,67,67,68,68,69,69,69,70,70,70,71,71,71,71,72,72,72,72,73,73,73,74,74,77,78,78,78,79,79,79,79,79,82,82,83,83,83,84,84,85,86,86,86,86,87,87,87,87,87,88,89,89,89,89,89,90,91,91,92,94,95,96,97,98,98,98,98,99],\"B\":[67,28,63,79,22,47,44,54,69,83,64,36,93,27,95,66,71,65,11,12,35,54,99,22,5,96,38,38,83,98,88,92,63,66,99,47,78,39,53,49,38,32,59,78,50,68,71,93,4,60,54,63,18,97,40,25,83,24,60,65,1,61,24,35,1,94,17,79,63,45,39,41,97,78,74,96,23,76,28,73,16,53,70,37,91,64,88,23,78,57,69,70,40,26,53,40,62,93,69,9,67,38,89,65,50,47,34,56,7,76,59,97,89,53,67,48,35,97,31,16,14,38,43,75,31,14,25,1,37,42,38,54,76,49,87,1,65,34,20,5,19,80,89,57,25,72,23,62,20,55,66,59,92,72,57,5,27,50,8,12,89,99,53,77,68,31,76,33,51,51,8,81,6,63,12,58,77,64,59,16,69,56,81,92,99,99,2,43,89,75,61,86,87,97,2,48,64,70,25],\"C\":[9,3,1,58,32,17,63,64,70,33,72,17,30,34,78,20,58,42,12,86,6,91,83,40,90,5,10,40,8,60,6,89,55,63,54,9,93,28,58,83,93,71,74,71,25,70,9,66,16,87,17,11,70,81,17,6,26,65,76,36,93,8,45,30,66,59,68,98,28,21,82,11,48,35,74,86,49,53,53,33,5,86,1,85,61,13,31,62,29,74,82,44,68,75,49,72,45,50,78,92,54,19,79,63,37,27,97,85,17,43,75,83,33,37,11,3,40,90,98,80,14,3,17,17,44,52,53,31,25,48,15,65,54,4,85,85,34,92,23,33,60,47,28,31,95,52,78,28,73,94,82,40,5,81,26,43,0,91,50,61,5,1,37,49,74,44,9,18,97,33,85,47,61,2,84,64,2,20,96,87,97,17,22,31,61,98,61,31,75,60,54,11,85,8,35,59,80,21,62],\"D\":[38,13,39,74,69,92,50,29,87,51,37,30,92,77,29,2,17,22,3,89,94,81,30,23,63,85,38,21,79,5,36,13,84,2,60,94,71,9,62,69,59,93,51,61,46,44,23,37,13,99,23,63,92,41,33,84,19,40,34,79,33,27,86,97,56,85,21,6,9,23,67,13,99,13,14,2,33,36,12,4,46,85,61,42,94,4,12,73,52,51,20,4,51,94,21,61,71,36,47,25,28,70,22,5,73,61,60,66,65,15,22,25,16,52,82,28,77,28,20,15,28,12,36,56,2,47,63,25,27,97,84,30,69,67,50,79,96,23,49,1,68,65,97,3,56,10,43,91,21,46,23,20,14,87,29,54,39,20,38,72,57,30,4,77,94,74,24,33,97,5,16,87,83,35,37,83,31,64,46,3,43,53,62,16,9,2,10,68,14,64,84,80,93,91,14,73,26,76,36],\"index\":[86,42,57,160,71,166,122,26,148,190,21,154,3,189,27,184,120,39,30,134,12,90,151,1,47,147,196,29,40,137,108,2,128,138,75,24,121,198,165,0,199,22,25,67,17,112,70,23,28,76,80,93,150,94,107,180,133,6,48,175,85,181,159,9,61,106,171,50,186,114,82,143,174,64,98,172,14,95,20,170,191,52,129,89,109,193,125,162,176,10,149,197,33,136,7,126,110,117,32,65,72,140,145,62,118,155,168,132,92,194,116,187,16,15,11,60,192,104,91,101,58,103,127,83,163,19,113,178,35,111,100,135,141,115,169,53,153,59,152,69,144,79,56,97,36,105,161,45,34,167,38,173,5,88,130,18,131,43,73,37,68,55,99,157,63,119,51,96,54,74,13,46,49,66,84,182,77,87,41,158,188,44,4,78,139,146,142,185,156,183,31,124,177,123,179,164,81,8,102]},\"selected\":{\"id\":\"18204\",\"type\":\"Selection\"},\"selection_policy\":{\"id\":\"18205\",\"type\":\"UnionRenderers\"}},\"id\":\"17965\",\"type\":\"ColumnDataSource\"},{\"attributes\":{\"children\":[{\"id\":\"38182\",\"type\":\"Row\"},{\"id\":\"38209\",\"type\":\"Row\"}]},\"id\":\"38210\",\"type\":\"Column\"},{\"attributes\":{\"active_drag\":\"auto\",\"active_inspect\":\"auto\",\"active_multi\":null,\"active_scroll\":\"auto\",\"active_tap\":\"auto\",\"tools\":[{\"id\":\"18034\",\"type\":\"PanTool\"},{\"id\":\"18035\",\"type\":\"BoxZoomTool\"},{\"id\":\"18036\",\"type\":\"WheelZoomTool\"},{\"id\":\"18037\",\"type\":\"BoxSelectTool\"},{\"id\":\"18038\",\"type\":\"LassoSelectTool\"},{\"id\":\"18039\",\"type\":\"ResetTool\"}]},\"id\":\"18040\",\"type\":\"Toolbar\"},{\"attributes\":{\"bottom_units\":\"screen\",\"fill_alpha\":{\"value\":0.5},\"fill_color\":{\"value\":\"lightgrey\"},\"left_units\":\"screen\",\"level\":\"overlay\",\"line_alpha\":{\"value\":1.0},\"line_color\":{\"value\":\"black\"},\"line_dash\":[4,4],\"line_width\":{\"value\":2},\"plot\":null,\"render_mode\":\"css\",\"right_units\":\"screen\",\"top_units\":\"screen\"},\"id\":\"18041\",\"type\":\"BoxAnnotation\"},{\"attributes\":{\"bottom_units\":\"screen\",\"fill_alpha\":{\"value\":0.5},\"fill_color\":{\"value\":\"lightgrey\"},\"left_units\":\"screen\",\"level\":\"overlay\",\"line_alpha\":{\"value\":1.0},\"line_color\":{\"value\":\"black\"},\"line_dash\":[4,4],\"line_width\":{\"value\":2},\"plot\":null,\"render_mode\":\"css\",\"right_units\":\"screen\",\"top_units\":\"screen\"},\"id\":\"18045\",\"type\":\"BoxAnnotation\"},{\"attributes\":{\"fill_alpha\":{\"value\":0.5},\"fill_color\":{\"value\":\"lightgrey\"},\"level\":\"overlay\",\"line_alpha\":{\"value\":1.0},\"line_color\":{\"value\":\"black\"},\"line_dash\":[4,4],\"line_width\":{\"value\":2},\"plot\":null,\"xs_units\":\"screen\",\"ys_units\":\"screen\"},\"id\":\"18048\",\"type\":\"PolyAnnotation\"},{\"attributes\":{},\"id\":\"18204\",\"type\":\"Selection\"},{\"attributes\":{},\"id\":\"18205\",\"type\":\"UnionRenderers\"},{\"attributes\":{},\"id\":\"18203\",\"type\":\"BasicTickFormatter\"},{\"attributes\":{},\"id\":\"18201\",\"type\":\"BasicTickFormatter\"},{\"attributes\":{\"overlay\":{\"id\":\"18041\",\"type\":\"BoxAnnotation\"}},\"id\":\"18035\",\"type\":\"BoxZoomTool\"},{\"attributes\":{},\"id\":\"18034\",\"type\":\"PanTool\"},{\"attributes\":{\"callback\":null,\"overlay\":{\"id\":\"18045\",\"type\":\"BoxAnnotation\"}},\"id\":\"18037\",\"type\":\"BoxSelectTool\"},{\"attributes\":{},\"id\":\"18036\",\"type\":\"WheelZoomTool\"},{\"attributes\":{},\"id\":\"18030\",\"type\":\"BasicTicker\"},{\"attributes\":{\"dimension\":1,\"plot\":{\"id\":\"18014\",\"subtype\":\"Figure\",\"type\":\"Plot\"},\"ticker\":{\"id\":\"18030\",\"type\":\"BasicTicker\"}},\"id\":\"18033\",\"type\":\"Grid\"},{\"attributes\":{},\"id\":\"18039\",\"type\":\"ResetTool\"},{\"attributes\":{\"callback\":null,\"overlay\":{\"id\":\"18048\",\"type\":\"PolyAnnotation\"}},\"id\":\"18038\",\"type\":\"LassoSelectTool\"},{\"attributes\":{\"formatter\":{\"id\":\"18214\",\"type\":\"BasicTickFormatter\"},\"plot\":{\"id\":\"18014\",\"subtype\":\"Figure\",\"type\":\"Plot\"},\"ticker\":{\"id\":\"18025\",\"type\":\"BasicTicker\"}},\"id\":\"18024\",\"type\":\"LinearAxis\"},{\"attributes\":{},\"id\":\"18025\",\"type\":\"BasicTicker\"},{\"attributes\":{},\"id\":\"18022\",\"type\":\"LinearScale\"},{\"attributes\":{},\"id\":\"18020\",\"type\":\"LinearScale\"},{\"attributes\":{\"children\":[{\"id\":\"17968\",\"subtype\":\"Figure\",\"type\":\"Plot\"}]},\"id\":\"38182\",\"type\":\"Row\"},{\"attributes\":{\"plot\":{\"id\":\"18014\",\"subtype\":\"Figure\",\"type\":\"Plot\"},\"ticker\":{\"id\":\"18025\",\"type\":\"BasicTicker\"}},\"id\":\"18028\",\"type\":\"Grid\"},{\"attributes\":{\"formatter\":{\"id\":\"18216\",\"type\":\"BasicTickFormatter\"},\"plot\":{\"id\":\"18014\",\"subtype\":\"Figure\",\"type\":\"Plot\"},\"ticker\":{\"id\":\"18030\",\"type\":\"BasicTicker\"}},\"id\":\"18029\",\"type\":\"LinearAxis\"}],\"root_ids\":[\"38213\"]},\"title\":\"Bokeh Application\",\"version\":\"1.0.1\"}};\n",
       "  var render_items = [{\"docid\":\"77088a72-1f01-4403-9e9a-40afbf73e63a\",\"roots\":{\"38213\":\"dc9e0acf-43da-436d-8a78-76a69ecf1e8d\"}}];\n",
       "  root.Bokeh.embed.embed_items_notebook(docs_json, render_items);\n",
       "\n",
       "  }\n",
       "  if (root.Bokeh !== undefined) {\n",
       "    embed_document(root);\n",
       "  } else {\n",
       "    var attempts = 0;\n",
       "    var timer = setInterval(function(root) {\n",
       "      if (root.Bokeh !== undefined) {\n",
       "        embed_document(root);\n",
       "        clearInterval(timer);\n",
       "      }\n",
       "      attempts++;\n",
       "      if (attempts > 100) {\n",
       "        console.log(\"Bokeh: ERROR: Unable to run BokehJS code because BokehJS library is missing\");\n",
       "        clearInterval(timer);\n",
       "      }\n",
       "    }, 10, root)\n",
       "  }\n",
       "})(window);"
      ],
      "application/vnd.bokehjs_exec.v0+json": ""
     },
     "metadata": {
      "application/vnd.bokehjs_exec.v0+json": {
       "id": "38213"
      }
     },
     "output_type": "display_data"
    }
   ],
   "source": [
    "fg=gridplot([[figList[0]],[figList[1], figList[2]]],plot_width=600,)\n",
    "show(fg)"
   ]
  },
  {
   "cell_type": "code",
   "execution_count": null,
   "metadata": {},
   "outputs": [],
   "source": []
  }
 ],
 "metadata": {
  "kernelspec": {
   "display_name": "Python 2",
   "language": "python",
   "name": "python2"
  },
  "language_info": {
   "codemirror_mode": {
    "name": "ipython",
    "version": 2
   },
   "file_extension": ".py",
   "mimetype": "text/x-python",
   "name": "python",
   "nbconvert_exporter": "python",
   "pygments_lexer": "ipython2",
   "version": "2.7.15rc1"
  }
 },
 "nbformat": 4,
 "nbformat_minor": 2
}
