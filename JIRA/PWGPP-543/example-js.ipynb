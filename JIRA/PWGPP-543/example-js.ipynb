{
 "cells": [
  {
   "cell_type": "code",
   "execution_count": null,
   "metadata": {},
   "outputs": [],
   "source": [
    "from bokeh.io import output_notebook, show\n",
    "from bokeh.plotting import figure\n",
    "from bokeh.layouts import column, row\n",
    "from bokeh.models import *\n",
    "output_notebook()\n",
    "\n",
    "x = [x*0.05 for x in range(0, 201)]\n",
    "y = [a**3-a**2-10*a for a in x]\n",
    "\n",
    "s1 = ColumnDataSource(data=dict(x=x, y=y))\n",
    "s2 = ColumnDataSource(data=dict(x=x, y=y))\n",
    "sou=[s1,s2]\n",
    "\n",
    "p = figure(plot_width=400, plot_height=400)\n",
    "p.line('x', 'y', source=s1, line_width=3, line_alpha=0.6)\n",
    "\n",
    "p2 = figure(plot_width=400, plot_height=400)\n",
    "p2.line('x', 'y', source=s2, line_width=3, line_alpha=0.6)\n",
    "\n",
    "slider1 = Slider(start=0.1, end=10, value=5, step=.1, title=\"power\")\n",
    "slider2 = RangeSlider(start=0.1, end=10, value=(4,5), step=.1, title=\"limit\")\n",
    "sli=[slider1,slider2]\n",
    "\n",
    "source={k:v for k,v in zip([\"s1\",\"s2\"],sou)}\n",
    "slider={k:v for k,v in zip([\"slider1\",\"slider2\"],sli)}\n",
    "        \n",
    "update_curve = CustomJS()\n",
    "update_curve.args.update(slider)\n",
    "update_curve.args.update(source)\n",
    "update_curve.code=\"\"\"\n",
    "    s2.data['x'] = [];\n",
    "    s2.data['y'] = [];\n",
    "    \n",
    "    for (i = 0; i < s1.data['x'].length; i++) {\n",
    "        s1.data['y'][i] = Math.pow(s1.data['x'][i], slider1.value);\n",
    "        if (s1.data['x'][i]< slider2.value[1] && s1.data['x'][i]>slider2.value[0]){\n",
    "            s2.data['x'].push(s1.data['x'][i]);\n",
    "            s2.data['y'].push(s1.data['y'][i]);\n",
    "        }\n",
    "    }\n",
    "    s1.change.emit();\n",
    "    s2.change.emit();\n",
    "\"\"\"\n",
    "\n",
    "\n",
    "slider1.js_on_change('value', update_curve)\n",
    "slider2.js_on_change('value', update_curve)\n",
    "\n",
    "show(column(slider1, slider2, row(p,p2)))"
   ]
  }
 ],
 "metadata": {
  "kernelspec": {
   "display_name": "Python 3",
   "language": "python",
   "name": "python3"
  },
  "language_info": {
   "codemirror_mode": {
    "name": "ipython",
    "version": 3
   },
   "file_extension": ".py",
   "mimetype": "text/x-python",
   "name": "python",
   "nbconvert_exporter": "python",
   "pygments_lexer": "ipython3",
   "version": "3.6.8"
  }
 },
 "nbformat": 4,
 "nbformat_minor": 2
}
