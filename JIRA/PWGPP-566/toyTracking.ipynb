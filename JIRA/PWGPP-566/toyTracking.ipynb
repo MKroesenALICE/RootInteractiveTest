{
 "cells": [
  {
   "cell_type": "code",
   "execution_count": null,
   "metadata": {},
   "outputs": [],
   "source": [
    "import ROOT\n",
    "import numpy as np"
   ]
  },
  {
   "cell_type": "markdown",
   "metadata": {},
   "source": [
    "## Load AliRoot libraries"
   ]
  },
  {
   "cell_type": "code",
   "execution_count": null,
   "metadata": {},
   "outputs": [],
   "source": [
    "ROOT.gSystem.Load(\"libSTAT\")\n",
    "ROOT.gSystem.Load(\"libCDB\")\n",
    "ROOT.gSystem.Load(\"libESD\")"
   ]
  },
  {
   "cell_type": "markdown",
   "metadata": {},
   "source": [
    "## Load OCDB"
   ]
  },
  {
   "cell_type": "code",
   "execution_count": null,
   "metadata": {},
   "outputs": [],
   "source": [
    "ROOT.gROOT.LoadMacro(\"$ALICE_PHYSICS/PWGPP/TPC/macros/ConfigOCDB.C\")  \n",
    "ROOT.ConfigOCDB(129160,\"local:///cvmfs/alice-ocdb.cern.ch/calibration/data/2010/OCDB/\")"
   ]
  },
  {
   "cell_type": "markdown",
   "metadata": {},
   "source": [
    "## Create example vector - default in python is list \n",
    "* we need C++ vectors"
   ]
  },
  {
   "cell_type": "code",
   "execution_count": null,
   "metadata": {},
   "outputs": [],
   "source": [
    "nPoints=100\n",
    "xyz=ROOT.TVectorD(3)\n",
    "pxyz=ROOT.TVectorD(3)\n",
    "cv=ROOT.TVectorD(15)\n",
    "trdGeom = ROOT.AliTRDgeometry\n",
    "layers=[]\n",
    "for i in range(7):\n",
    "    layers.append(trdGeom.GetTime0(i))\n",
    "layers.append(400)  \n",
    "layers.append(420)\n",
    "pointsOut=ROOT.TMatrix(8,3)\n",
    "pointsIn=ROOT.TMatrix(8,3)\n",
    "massEl=0.0005\n",
    "point=ROOT.TVectorD(2)\n",
    "covPoint=ROOT.TVectorD(3)\n",
    "covPoint[0]=0.05*0.05\n",
    "covPoint[2]=1*1"
   ]
  },
  {
   "cell_type": "code",
   "execution_count": null,
   "metadata": {},
   "outputs": [],
   "source": [
    "track0  = ROOT.AliExternalTrackParam(xyz.GetMatrixArray(),pxyz.GetMatrixArray(),cv.GetMatrixArray(),1)\n",
    "layers"
   ]
  },
  {
   "cell_type": "code",
   "execution_count": null,
   "metadata": {},
   "outputs": [],
   "source": [
    "def generateTrack():\n",
    "    # generate intial track params and points along trajectory\n",
    "    tanA=np.tan(np.pi/9)*np.random.uniform()\n",
    "    pxyz[0]=np.random.uniform()\n",
    "    pxyz[1]=pxyz[0]*tanA\n",
    "    pxyz[2]=0;\n",
    "    xyz[0]=trdGeom.GetTime0(0)\n",
    "    xyz[1]=xyz[0]*tanA\n",
    "    xyz[2]=0\n",
    "    trackIn  = ROOT.AliExternalTrackParam(xyz.GetMatrixArray(),pxyz.GetMatrixArray(),cv.GetMatrixArray(),1)\n",
    "    trackOut  = ROOT.AliExternalTrackParam(trackIn)   \n",
    "    for layer in range(8):\n",
    "        # Bool_t AliTrackerBase::PropagateTrackToBxByBz(AliExternalTrackParam* track, Double_t x, Double_t m, Double_t maxStep, Bool_t rotateTo = kTRUE, Double_t maxSnp = 0.80000000000000004, Int_t sign = 0, Bool_t addTimeStep = kFALSE, Bool_t correctMaterialBudget = kTRUE)\n",
    "        ROOT.AliTrackerBase.PropagateTrackToBxByBz(trackOut,layers[i],  massEl, 1, 0, 0.8)\n",
    "        pointsOut[layer,0] = trackOut.GetX()\n",
    "        pointsOut[layer,1] = trackOut.GetY()\n",
    "        pointsOut[layer,2] = trackOut.GetZ()\n",
    "    trackFit  = ROOT.AliExternalTrackParam(trackOut)\n",
    "    trackFits=[0,0,0,0,0,0,0,0,0,0]\n",
    "    for layer in reversed(range(8)):\n",
    "        # Bool_t AliTrackerBase::PropagateTrackToBxByBz(AliExternalTrackParam* track, Double_t x, Double_t m, Double_t maxStep, Bool_t rotateTo = kTRUE, Double_t maxSnp = 0.80000000000000004, Int_t sign = 0, Bool_t addTimeStep = kFALSE, Bool_t correctMaterialBudget = kTRUE)\n",
    "        ROOT.AliTrackerBase.PropagateTrackToBxByBz(trackFit,layers[i],  massEl, 1, 0, 0.8)\n",
    "        point[0]=pointsOut(layer,1)+np.random.normal()*0.05\n",
    "        point[1]=pointsOut(layer,2)+np.random.normal()*1\n",
    "        trackFit.Update(point.GetMatrixArray(),covPoint.GetMatrixArray())\n",
    "        pointsIn[layer,0] = trackOut.GetX()\n",
    "        pointsIn[layer,1] = trackOut.GetY()\n",
    "        pointsIn[layer,2] = trackOut.GetZ()\n",
    "        trackFits[layer]=ROOT.AliExternalTrackParam(trackFit)\n",
    "    return trackIn, trackFits, points"
   ]
  },
  {
   "cell_type": "code",
   "execution_count": null,
   "metadata": {},
   "outputs": [],
   "source": [
    "#trackIn, trackFit,dummy=generateTrack()"
   ]
  },
  {
   "cell_type": "code",
   "execution_count": null,
   "metadata": {},
   "outputs": [],
   "source": [
    "#d = {'pt': [], 'sigmaPt0': [], 'sigmaPt0'}\n",
    "for i in range(100):\n",
    "    trackIn, trackFits,dummy=generateTrack()"
   ]
  },
  {
   "cell_type": "code",
   "execution_count": null,
   "metadata": {},
   "outputs": [],
   "source": [
    "trdGeom.GetTime0(5)"
   ]
  },
  {
   "cell_type": "code",
   "execution_count": null,
   "metadata": {},
   "outputs": [],
   "source": [
    "point[0]"
   ]
  },
  {
   "cell_type": "code",
   "execution_count": null,
   "metadata": {},
   "outputs": [],
   "source": [
    "points.Print()"
   ]
  },
  {
   "cell_type": "code",
   "execution_count": null,
   "metadata": {},
   "outputs": [],
   "source": [
    "# point[0]=pointsOut[0,1] #+ np.random.normal()*0.05\n",
    "point[0]=pointsOut(0,1)"
   ]
  },
  {
   "cell_type": "code",
   "execution_count": null,
   "metadata": {},
   "outputs": [],
   "source": []
  }
 ],
 "metadata": {
  "kernelspec": {
   "display_name": "Python 3",
   "language": "python",
   "name": "python3"
  },
  "language_info": {
   "codemirror_mode": {
    "name": "ipython",
    "version": 3
   },
   "file_extension": ".py",
   "mimetype": "text/x-python",
   "name": "python",
   "nbconvert_exporter": "python",
   "pygments_lexer": "ipython3",
   "version": "3.6.8"
  }
 },
 "nbformat": 4,
 "nbformat_minor": 2
}
