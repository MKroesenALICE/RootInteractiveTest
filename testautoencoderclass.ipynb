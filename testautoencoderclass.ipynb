{
 "cells": [
  {
   "cell_type": "code",
   "execution_count": 1,
   "metadata": {},
   "outputs": [
    {
     "name": "stdout",
     "output_type": "stream",
     "text": [
      "Welcome to JupyROOT 6.10/08\n"
     ]
    }
   ],
   "source": [
    "import pandas as pd\n",
    "import numpy as np\n",
    "\n",
    "from autoencoder import ToyDetectors, DEDXEncoder\n",
    "\n",
    "from sklearn.model_selection import train_test_split\n",
    "from sklearn.preprocessing import StandardScaler\n",
    "\n",
    "import tensorflow.keras.backend as K"
   ]
  },
  {
   "cell_type": "code",
   "execution_count": 2,
   "metadata": {},
   "outputs": [],
   "source": [
    "TD = ToyDetectors()\n",
    "DFTD = TD.GenerateToyParticles()"
   ]
  },
  {
   "cell_type": "code",
   "execution_count": 3,
   "metadata": {},
   "outputs": [
    {
     "data": {
      "text/html": [
       "<div>\n",
       "<style scoped>\n",
       "    .dataframe tbody tr th:only-of-type {\n",
       "        vertical-align: middle;\n",
       "    }\n",
       "\n",
       "    .dataframe tbody tr th {\n",
       "        vertical-align: top;\n",
       "    }\n",
       "\n",
       "    .dataframe thead th {\n",
       "        text-align: right;\n",
       "    }\n",
       "</style>\n",
       "<table border=\"1\" class=\"dataframe\">\n",
       "  <thead>\n",
       "    <tr style=\"text-align: right;\">\n",
       "      <th></th>\n",
       "      <th>BBA</th>\n",
       "      <th>BBS</th>\n",
       "      <th>ITS</th>\n",
       "      <th>TOF</th>\n",
       "      <th>TPCROC0</th>\n",
       "      <th>TPCROC1</th>\n",
       "      <th>TPCROC2</th>\n",
       "      <th>TRD</th>\n",
       "      <th>beta</th>\n",
       "      <th>pmeas</th>\n",
       "      <th>p</th>\n",
       "      <th>particle</th>\n",
       "    </tr>\n",
       "  </thead>\n",
       "  <tbody>\n",
       "    <tr>\n",
       "      <th>0</th>\n",
       "      <td>1.589041</td>\n",
       "      <td>0.002927</td>\n",
       "      <td>0.003327</td>\n",
       "      <td>1.009881</td>\n",
       "      <td>1.341752</td>\n",
       "      <td>1.551180</td>\n",
       "      <td>1.518810</td>\n",
       "      <td>1.504835</td>\n",
       "      <td>1.0</td>\n",
       "      <td>5.181740</td>\n",
       "      <td>5.156273</td>\n",
       "      <td>0</td>\n",
       "    </tr>\n",
       "    <tr>\n",
       "      <th>1</th>\n",
       "      <td>1.588907</td>\n",
       "      <td>0.002855</td>\n",
       "      <td>0.002994</td>\n",
       "      <td>0.992257</td>\n",
       "      <td>1.420755</td>\n",
       "      <td>1.675755</td>\n",
       "      <td>1.528528</td>\n",
       "      <td>1.532489</td>\n",
       "      <td>1.0</td>\n",
       "      <td>3.277865</td>\n",
       "      <td>3.234610</td>\n",
       "      <td>0</td>\n",
       "    </tr>\n",
       "    <tr>\n",
       "      <th>2</th>\n",
       "      <td>1.589086</td>\n",
       "      <td>0.002979</td>\n",
       "      <td>0.003189</td>\n",
       "      <td>0.992817</td>\n",
       "      <td>1.846851</td>\n",
       "      <td>1.319379</td>\n",
       "      <td>1.343102</td>\n",
       "      <td>1.448156</td>\n",
       "      <td>1.0</td>\n",
       "      <td>7.168424</td>\n",
       "      <td>7.266984</td>\n",
       "      <td>0</td>\n",
       "    </tr>\n",
       "    <tr>\n",
       "      <th>3</th>\n",
       "      <td>1.589105</td>\n",
       "      <td>0.003022</td>\n",
       "      <td>0.003048</td>\n",
       "      <td>1.002209</td>\n",
       "      <td>1.691059</td>\n",
       "      <td>1.355429</td>\n",
       "      <td>1.559598</td>\n",
       "      <td>1.658196</td>\n",
       "      <td>1.0</td>\n",
       "      <td>9.369128</td>\n",
       "      <td>9.583644</td>\n",
       "      <td>0</td>\n",
       "    </tr>\n",
       "    <tr>\n",
       "      <th>4</th>\n",
       "      <td>1.588854</td>\n",
       "      <td>0.002839</td>\n",
       "      <td>0.002559</td>\n",
       "      <td>1.010613</td>\n",
       "      <td>1.529031</td>\n",
       "      <td>1.644516</td>\n",
       "      <td>1.520881</td>\n",
       "      <td>1.324857</td>\n",
       "      <td>1.0</td>\n",
       "      <td>2.884021</td>\n",
       "      <td>2.901373</td>\n",
       "      <td>0</td>\n",
       "    </tr>\n",
       "  </tbody>\n",
       "</table>\n",
       "</div>"
      ],
      "text/plain": [
       "        BBA       BBS       ITS       TOF   TPCROC0   TPCROC1   TPCROC2  \\\n",
       "0  1.589041  0.002927  0.003327  1.009881  1.341752  1.551180  1.518810   \n",
       "1  1.588907  0.002855  0.002994  0.992257  1.420755  1.675755  1.528528   \n",
       "2  1.589086  0.002979  0.003189  0.992817  1.846851  1.319379  1.343102   \n",
       "3  1.589105  0.003022  0.003048  1.002209  1.691059  1.355429  1.559598   \n",
       "4  1.588854  0.002839  0.002559  1.010613  1.529031  1.644516  1.520881   \n",
       "\n",
       "        TRD  beta     pmeas         p  particle  \n",
       "0  1.504835   1.0  5.181740  5.156273         0  \n",
       "1  1.532489   1.0  3.277865  3.234610         0  \n",
       "2  1.448156   1.0  7.168424  7.266984         0  \n",
       "3  1.658196   1.0  9.369128  9.583644         0  \n",
       "4  1.324857   1.0  2.884021  2.901373         0  "
      ]
     },
     "execution_count": 3,
     "metadata": {},
     "output_type": "execute_result"
    }
   ],
   "source": [
    "DFTD.head()"
   ]
  },
  {
   "cell_type": "code",
   "execution_count": 4,
   "metadata": {},
   "outputs": [],
   "source": [
    "DEDXEnc = DEDXEncoder()"
   ]
  },
  {
   "cell_type": "code",
   "execution_count": 5,
   "metadata": {},
   "outputs": [],
   "source": [
    "DEDXEnc.CreateModel()"
   ]
  },
  {
   "cell_type": "code",
   "execution_count": 6,
   "metadata": {},
   "outputs": [
    {
     "name": "stdout",
     "output_type": "stream",
     "text": [
      "__________________________________________________________________________________________________\n",
      "Layer (type)                    Output Shape         Param #     Connected to                     \n",
      "==================================================================================================\n",
      "input_1 (InputLayer)            (None, 7)            0                                            \n",
      "__________________________________________________________________________________________________\n",
      "dense (Dense)                   (None, 64)           512         input_1[0][0]                    \n",
      "__________________________________________________________________________________________________\n",
      "dense_1 (Dense)                 (None, 64)           4160        dense[0][0]                      \n",
      "__________________________________________________________________________________________________\n",
      "dense_2 (Dense)                 (None, 64)           4160        dense_1[0][0]                    \n",
      "__________________________________________________________________________________________________\n",
      "dense_3 (Dense)                 (None, 1)            65          dense_2[0][0]                    \n",
      "__________________________________________________________________________________________________\n",
      "lambda (Lambda)                 (None, 1)            0           dense_3[0][0]                    \n",
      "__________________________________________________________________________________________________\n",
      "repeat_vector (RepeatVector)    (None, 4, 1)         0           lambda[0][0]                     \n",
      "__________________________________________________________________________________________________\n",
      "lambda_1 (Lambda)               (None, 1)            0           dense_3[0][0]                    \n",
      "__________________________________________________________________________________________________\n",
      "lambda_2 (Lambda)               (None, 1)            0           dense_3[0][0]                    \n",
      "__________________________________________________________________________________________________\n",
      "flatten (Flatten)               (None, 4)            0           repeat_vector[0][0]              \n",
      "__________________________________________________________________________________________________\n",
      "concatenate (Concatenate)       (None, 6)            0           lambda_1[0][0]                   \n",
      "                                                                 lambda_2[0][0]                   \n",
      "                                                                 flatten[0][0]                    \n",
      "==================================================================================================\n",
      "Total params: 8,897\n",
      "Trainable params: 8,897\n",
      "Non-trainable params: 0\n",
      "__________________________________________________________________________________________________\n"
     ]
    }
   ],
   "source": [
    "DEDXEnc.model.summary()"
   ]
  },
  {
   "cell_type": "code",
   "execution_count": 7,
   "metadata": {},
   "outputs": [],
   "source": [
    "train, test =train_test_split(DFTD, test_size=0.5)\n",
    "train_data = train[[\"ITS\", \"TOF\", \"TPCROC0\", \"TPCROC1\", \"TPCROC2\", \"TRD\",\"p\"]]\n",
    "test_data  = test[[\"ITS\", \"TOF\", \"TPCROC0\", \"TPCROC1\", \"TPCROC2\", \"TRD\",\"p\"]]\n",
    "\n",
    "train_fdata= train[[\"ITS\", \"TOF\", \"TPCROC0\", \"TPCROC1\", \"TPCROC2\", \"TRD\"]]\n",
    "test_fdata = test[[\"ITS\", \"TOF\", \"TPCROC0\", \"TPCROC1\", \"TPCROC2\", \"TRD\"]]"
   ]
  },
  {
   "cell_type": "code",
   "execution_count": 8,
   "metadata": {},
   "outputs": [
    {
     "data": {
      "text/plain": [
       "StandardScaler(copy=True, with_mean=True, with_std=True)"
      ]
     },
     "execution_count": 8,
     "metadata": {},
     "output_type": "execute_result"
    }
   ],
   "source": [
    "scaler = StandardScaler()\n",
    "scaler.fit(train[[\"ITS\",\"TOF\", \"TPCROC0\", \"TPCROC1\", \"TPCROC2\", \"TRD\",\"p\"]])\n"
   ]
  },
  {
   "cell_type": "code",
   "execution_count": 9,
   "metadata": {},
   "outputs": [
    {
     "name": "stdout",
     "output_type": "stream",
     "text": [
      "Train on 40000 samples, validate on 40000 samples\n",
      "Epoch 1/12\n",
      "40000/40000 [==============================] - 4s 106us/step - loss: 0.1405 - mean_squared_error: 0.2848 - val_loss: 0.0389 - val_mean_squared_error: 0.0718\n",
      "Epoch 2/12\n",
      "40000/40000 [==============================] - 3s 74us/step - loss: 0.0344 - mean_squared_error: 0.0610 - val_loss: 0.0307 - val_mean_squared_error: 0.0525\n",
      "Epoch 3/12\n",
      "40000/40000 [==============================] - 3s 73us/step - loss: 0.0291 - mean_squared_error: 0.0486 - val_loss: 0.0253 - val_mean_squared_error: 0.0418\n",
      "Epoch 4/12\n",
      "40000/40000 [==============================] - 3s 74us/step - loss: 0.0248 - mean_squared_error: 0.0405 - val_loss: 0.0217 - val_mean_squared_error: 0.0356\n",
      "Epoch 5/12\n",
      "40000/40000 [==============================] - 3s 74us/step - loss: 0.0206 - mean_squared_error: 0.0327 - val_loss: 0.0329 - val_mean_squared_error: 0.0592\n",
      "Epoch 6/12\n",
      "40000/40000 [==============================] - 3s 74us/step - loss: 0.0165 - mean_squared_error: 0.0266 - val_loss: 0.0158 - val_mean_squared_error: 0.0252\n",
      "Epoch 7/12\n",
      "40000/40000 [==============================] - 3s 73us/step - loss: 0.0135 - mean_squared_error: 0.0219 - val_loss: 0.0123 - val_mean_squared_error: 0.0201\n",
      "Epoch 8/12\n",
      "40000/40000 [==============================] - 3s 75us/step - loss: 0.0173 - mean_squared_error: 0.0275 - val_loss: 0.0143 - val_mean_squared_error: 0.0221\n",
      "Epoch 9/12\n",
      "40000/40000 [==============================] - 3s 75us/step - loss: 0.0114 - mean_squared_error: 0.0190 - val_loss: 0.0110 - val_mean_squared_error: 0.0188\n",
      "Epoch 10/12\n",
      "40000/40000 [==============================] - 3s 74us/step - loss: 0.0130 - mean_squared_error: 0.0210 - val_loss: 0.0118 - val_mean_squared_error: 0.0193\n",
      "Epoch 11/12\n",
      "40000/40000 [==============================] - 3s 75us/step - loss: 0.0111 - mean_squared_error: 0.0186 - val_loss: 0.0140 - val_mean_squared_error: 0.0240\n",
      "Epoch 12/12\n",
      "40000/40000 [==============================] - 3s 75us/step - loss: 0.0124 - mean_squared_error: 0.0203 - val_loss: 0.0104 - val_mean_squared_error: 0.0182\n"
     ]
    },
    {
     "data": {
      "text/plain": [
       "<tensorflow.python.keras.callbacks.History at 0x7f03597cf050>"
      ]
     },
     "execution_count": 9,
     "metadata": {},
     "output_type": "execute_result"
    },
    {
     "name": "stderr",
     "output_type": "stream",
     "text": [
      "2019-02-08 13:02:36.256888: I tensorflow/core/platform/cpu_feature_guard.cc:141] Your CPU supports instructions that this TensorFlow binary was not compiled to use: FMA\n"
     ]
    }
   ],
   "source": [
    "DEDXEnc.model.fit(scaler.transform(train_data),train_fdata, epochs=12, batch_size=128, \n",
    "          validation_data=[scaler.transform(test_data),test_fdata])"
   ]
  },
  {
   "cell_type": "code",
   "execution_count": 13,
   "metadata": {},
   "outputs": [
    {
     "data": {
      "text/plain": [
       "[array([[8.072622],\n",
       "        [8.430906],\n",
       "        [8.537409],\n",
       "        ...,\n",
       "        [8.547984],\n",
       "        [8.530241],\n",
       "        [8.20077 ]], dtype=float32)]"
      ]
     },
     "execution_count": 13,
     "metadata": {},
     "output_type": "execute_result"
    }
   ],
   "source": [
    "DEDXEnc.BGfromModel([train[[\"ITS\",\"TOF\", \"TPCROC0\", \"TPCROC1\", \"TPCROC2\", \"TRD\",\"p\"]]])"
   ]
  },
  {
   "cell_type": "code",
   "execution_count": 14,
   "metadata": {},
   "outputs": [
    {
     "data": {
      "text/html": [
       "<div>\n",
       "<style scoped>\n",
       "    .dataframe tbody tr th:only-of-type {\n",
       "        vertical-align: middle;\n",
       "    }\n",
       "\n",
       "    .dataframe tbody tr th {\n",
       "        vertical-align: top;\n",
       "    }\n",
       "\n",
       "    .dataframe thead th {\n",
       "        text-align: right;\n",
       "    }\n",
       "</style>\n",
       "<table border=\"1\" class=\"dataframe\">\n",
       "  <thead>\n",
       "    <tr style=\"text-align: right;\">\n",
       "      <th></th>\n",
       "      <th>index</th>\n",
       "      <th>BBA</th>\n",
       "      <th>BBS</th>\n",
       "      <th>ITS</th>\n",
       "      <th>TOF</th>\n",
       "      <th>TPCROC0</th>\n",
       "      <th>TPCROC1</th>\n",
       "      <th>TPCROC2</th>\n",
       "      <th>TRD</th>\n",
       "      <th>beta</th>\n",
       "      <th>pmeas</th>\n",
       "      <th>p</th>\n",
       "      <th>particle</th>\n",
       "      <th>ITS_ae</th>\n",
       "      <th>TOF_ae</th>\n",
       "      <th>TPCROC0_ae</th>\n",
       "      <th>TPCROC1_ae</th>\n",
       "      <th>TPCROC2_ae</th>\n",
       "      <th>TRD_ae</th>\n",
       "      <th>gb_ae</th>\n",
       "    </tr>\n",
       "  </thead>\n",
       "  <tbody>\n",
       "    <tr>\n",
       "      <th>0</th>\n",
       "      <td>78992</td>\n",
       "      <td>3.113516</td>\n",
       "      <td>0.005475</td>\n",
       "      <td>0.006046</td>\n",
       "      <td>0.448106</td>\n",
       "      <td>3.149678</td>\n",
       "      <td>2.648403</td>\n",
       "      <td>2.973634</td>\n",
       "      <td>3.228630</td>\n",
       "      <td>0.445178</td>\n",
       "      <td>0.476006</td>\n",
       "      <td>0.466336</td>\n",
       "      <td>4</td>\n",
       "      <td>0.005392</td>\n",
       "      <td>0.449152</td>\n",
       "      <td>3.068460</td>\n",
       "      <td>3.068460</td>\n",
       "      <td>3.068460</td>\n",
       "      <td>3.068460</td>\n",
       "      <td>-0.687736</td>\n",
       "    </tr>\n",
       "    <tr>\n",
       "      <th>1</th>\n",
       "      <td>70851</td>\n",
       "      <td>3.892440</td>\n",
       "      <td>0.006902</td>\n",
       "      <td>0.005326</td>\n",
       "      <td>0.387304</td>\n",
       "      <td>3.670860</td>\n",
       "      <td>4.402737</td>\n",
       "      <td>3.556867</td>\n",
       "      <td>4.557834</td>\n",
       "      <td>0.388496</td>\n",
       "      <td>0.392972</td>\n",
       "      <td>0.395473</td>\n",
       "      <td>4</td>\n",
       "      <td>0.006915</td>\n",
       "      <td>0.388074</td>\n",
       "      <td>3.899369</td>\n",
       "      <td>3.899369</td>\n",
       "      <td>3.899369</td>\n",
       "      <td>3.899369</td>\n",
       "      <td>-0.864945</td>\n",
       "    </tr>\n",
       "    <tr>\n",
       "      <th>2</th>\n",
       "      <td>9746</td>\n",
       "      <td>1.589074</td>\n",
       "      <td>0.002962</td>\n",
       "      <td>0.002236</td>\n",
       "      <td>0.985866</td>\n",
       "      <td>1.566059</td>\n",
       "      <td>1.367802</td>\n",
       "      <td>1.659534</td>\n",
       "      <td>1.776052</td>\n",
       "      <td>1.000000</td>\n",
       "      <td>6.470735</td>\n",
       "      <td>6.470266</td>\n",
       "      <td>0</td>\n",
       "      <td>0.002328</td>\n",
       "      <td>0.999988</td>\n",
       "      <td>1.497916</td>\n",
       "      <td>1.497916</td>\n",
       "      <td>1.497916</td>\n",
       "      <td>1.497916</td>\n",
       "      <td>5.334323</td>\n",
       "    </tr>\n",
       "    <tr>\n",
       "      <th>3</th>\n",
       "      <td>76343</td>\n",
       "      <td>2.351893</td>\n",
       "      <td>0.004089</td>\n",
       "      <td>0.004371</td>\n",
       "      <td>0.526751</td>\n",
       "      <td>2.186766</td>\n",
       "      <td>2.440902</td>\n",
       "      <td>2.099237</td>\n",
       "      <td>2.164081</td>\n",
       "      <td>0.528284</td>\n",
       "      <td>0.580809</td>\n",
       "      <td>0.583616</td>\n",
       "      <td>4</td>\n",
       "      <td>0.004100</td>\n",
       "      <td>0.527508</td>\n",
       "      <td>2.357556</td>\n",
       "      <td>2.357556</td>\n",
       "      <td>2.357556</td>\n",
       "      <td>2.357556</td>\n",
       "      <td>-0.476544</td>\n",
       "    </tr>\n",
       "    <tr>\n",
       "      <th>4</th>\n",
       "      <td>11050</td>\n",
       "      <td>1.589094</td>\n",
       "      <td>0.002995</td>\n",
       "      <td>0.003014</td>\n",
       "      <td>1.007747</td>\n",
       "      <td>1.603374</td>\n",
       "      <td>1.651585</td>\n",
       "      <td>1.622795</td>\n",
       "      <td>1.511636</td>\n",
       "      <td>1.000000</td>\n",
       "      <td>8.141613</td>\n",
       "      <td>8.053390</td>\n",
       "      <td>0</td>\n",
       "      <td>0.002521</td>\n",
       "      <td>0.999999</td>\n",
       "      <td>1.574637</td>\n",
       "      <td>1.574637</td>\n",
       "      <td>1.574637</td>\n",
       "      <td>1.574637</td>\n",
       "      <td>6.566881</td>\n",
       "    </tr>\n",
       "  </tbody>\n",
       "</table>\n",
       "</div>"
      ],
      "text/plain": [
       "   index       BBA       BBS       ITS       TOF   TPCROC0   TPCROC1  \\\n",
       "0  78992  3.113516  0.005475  0.006046  0.448106  3.149678  2.648403   \n",
       "1  70851  3.892440  0.006902  0.005326  0.387304  3.670860  4.402737   \n",
       "2   9746  1.589074  0.002962  0.002236  0.985866  1.566059  1.367802   \n",
       "3  76343  2.351893  0.004089  0.004371  0.526751  2.186766  2.440902   \n",
       "4  11050  1.589094  0.002995  0.003014  1.007747  1.603374  1.651585   \n",
       "\n",
       "    TPCROC2       TRD      beta     pmeas         p  particle    ITS_ae  \\\n",
       "0  2.973634  3.228630  0.445178  0.476006  0.466336         4  0.005392   \n",
       "1  3.556867  4.557834  0.388496  0.392972  0.395473         4  0.006915   \n",
       "2  1.659534  1.776052  1.000000  6.470735  6.470266         0  0.002328   \n",
       "3  2.099237  2.164081  0.528284  0.580809  0.583616         4  0.004100   \n",
       "4  1.622795  1.511636  1.000000  8.141613  8.053390         0  0.002521   \n",
       "\n",
       "     TOF_ae  TPCROC0_ae  TPCROC1_ae  TPCROC2_ae    TRD_ae     gb_ae  \n",
       "0  0.449152    3.068460    3.068460    3.068460  3.068460 -0.687736  \n",
       "1  0.388074    3.899369    3.899369    3.899369  3.899369 -0.864945  \n",
       "2  0.999988    1.497916    1.497916    1.497916  1.497916  5.334323  \n",
       "3  0.527508    2.357556    2.357556    2.357556  2.357556 -0.476544  \n",
       "4  0.999999    1.574637    1.574637    1.574637  1.574637  6.566881  "
      ]
     },
     "execution_count": 14,
     "metadata": {},
     "output_type": "execute_result"
    }
   ],
   "source": [
    "out=DEDXEnc.model.predict(scaler.transform(test_data))\n",
    "AE_predict = pd.DataFrame(out)\n",
    "AE_predict.columns = [\"ITS_ae\", \"TOF_ae\", \"TPCROC0_ae\", \"TPCROC1_ae\", \"TPCROC2_ae\", \"TRD_ae\"]\n",
    "ogb=DEDXEnc.BGfromModel([(scaler.transform(test_data))])\n",
    "#print(ogb[-1])\n",
    "GB_predict = pd.DataFrame(ogb[-1])\n",
    "GB_predict.columns = [\"gb_ae\"]\n",
    "test = test.reset_index()\n",
    "df_test = pd.concat([test,AE_predict,GB_predict], axis = 1)\n",
    "df_test.head()"
   ]
  }
 ],
 "metadata": {
  "kernelspec": {
   "display_name": "Python 3",
   "language": "python",
   "name": "python3"
  },
  "language_info": {
   "codemirror_mode": {
    "name": "ipython",
    "version": 2
   },
   "file_extension": ".py",
   "mimetype": "text/x-python",
   "name": "python",
   "nbconvert_exporter": "python",
   "pygments_lexer": "ipython2",
   "version": "2.7.12"
  }
 },
 "nbformat": 4,
 "nbformat_minor": 2
}
